{
 "cells": [
  {
   "cell_type": "code",
   "execution_count": null,
   "id": "dfbfa604-d9c1-4624-a209-b2a3f4e2a28b",
   "metadata": {},
   "outputs": [],
   "source": [
    "# Class -> A kind of a blue print\n",
    "# Object -> A real world entity"
   ]
  },
  {
   "cell_type": "code",
   "execution_count": 7,
   "id": "b84a61a2-a9b4-4041-92f4-ee7840b20c44",
   "metadata": {},
   "outputs": [],
   "source": [
    "class car :\n",
    "    def __init__(self, body_type, engine , fuel_type ):\n",
    "        self.body_type = body_type\n",
    "        self.engine = engine\n",
    "        self.fuel_type = fuel_type\n",
    "        \n",
    "    def test(self):\n",
    "        print('This is my first method in car class')"
   ]
  },
  {
   "cell_type": "code",
   "execution_count": 8,
   "id": "f3bc6676-b2c1-4590-9a01-7eaf867fb21e",
   "metadata": {},
   "outputs": [],
   "source": [
    "fortuner = car('suv','bs4' , 'petrol')"
   ]
  },
  {
   "cell_type": "code",
   "execution_count": 10,
   "id": "20df08ba-5387-461b-b4f4-2b09e9c53331",
   "metadata": {},
   "outputs": [],
   "source": [
    "nexon = car('suv' , 'abc24', 'petrol')"
   ]
  },
  {
   "cell_type": "code",
   "execution_count": 11,
   "id": "0d47f6a9-146c-4bbb-aa8c-785e254af2d5",
   "metadata": {},
   "outputs": [
    {
     "data": {
      "text/plain": [
       "'suv'"
      ]
     },
     "execution_count": 11,
     "metadata": {},
     "output_type": "execute_result"
    }
   ],
   "source": [
    "fortuner.body_type"
   ]
  },
  {
   "cell_type": "code",
   "execution_count": 12,
   "id": "e308fe3e-0934-4886-997d-bce698a6fdfb",
   "metadata": {},
   "outputs": [
    {
     "data": {
      "text/plain": [
       "'abc24'"
      ]
     },
     "execution_count": 12,
     "metadata": {},
     "output_type": "execute_result"
    }
   ],
   "source": [
    "nexon.engine"
   ]
  },
  {
   "cell_type": "code",
   "execution_count": 13,
   "id": "637b9b42-7379-4286-a700-c55657ae4ee9",
   "metadata": {},
   "outputs": [
    {
     "name": "stdout",
     "output_type": "stream",
     "text": [
      "This is my first method in car class\n"
     ]
    }
   ],
   "source": [
    "fortuner.test()"
   ]
  },
  {
   "cell_type": "code",
   "execution_count": null,
   "id": "638ff20c-9176-483d-81c5-1a61b97f30d3",
   "metadata": {},
   "outputs": [],
   "source": []
  },
  {
   "cell_type": "code",
   "execution_count": 14,
   "id": "6f0f24c3-603c-48a6-9210-cdf3e409c504",
   "metadata": {},
   "outputs": [],
   "source": [
    "def test(self):\n",
    "        print('This is my first method in car class')"
   ]
  },
  {
   "cell_type": "code",
   "execution_count": 15,
   "id": "46e5e566-757e-40b2-ad81-a1d640a3cd82",
   "metadata": {},
   "outputs": [
    {
     "ename": "TypeError",
     "evalue": "test() missing 1 required positional argument: 'self'",
     "output_type": "error",
     "traceback": [
      "\u001b[0;31m---------------------------------------------------------------------------\u001b[0m",
      "\u001b[0;31mTypeError\u001b[0m                                 Traceback (most recent call last)",
      "Cell \u001b[0;32mIn [15], line 1\u001b[0m\n\u001b[0;32m----> 1\u001b[0m \u001b[43mtest\u001b[49m\u001b[43m(\u001b[49m\u001b[43m)\u001b[49m\n",
      "\u001b[0;31mTypeError\u001b[0m: test() missing 1 required positional argument: 'self'"
     ]
    }
   ],
   "source": [
    "test()"
   ]
  },
  {
   "cell_type": "code",
   "execution_count": null,
   "id": "fb0aab4a-a98d-438f-8316-437053e05b89",
   "metadata": {},
   "outputs": [],
   "source": []
  },
  {
   "cell_type": "code",
   "execution_count": 2,
   "id": "ad74a14e-d49d-4dfa-9240-168ed4967e9c",
   "metadata": {},
   "outputs": [],
   "source": [
    "a = 10"
   ]
  },
  {
   "cell_type": "code",
   "execution_count": 4,
   "id": "f475d274-13bc-4498-bfa2-b6efc8fa6108",
   "metadata": {},
   "outputs": [
    {
     "name": "stdout",
     "output_type": "stream",
     "text": [
      "<class 'int'>\n"
     ]
    }
   ],
   "source": [
    "print(type(a))"
   ]
  },
  {
   "cell_type": "code",
   "execution_count": null,
   "id": "9791c672-51a8-4df5-9dde-9f766a928345",
   "metadata": {},
   "outputs": [],
   "source": []
  },
  {
   "cell_type": "code",
   "execution_count": 19,
   "id": "e16c989b-6dca-4234-8824-211388e281b5",
   "metadata": {},
   "outputs": [],
   "source": [
    "class car :\n",
    "        \n",
    "    def test(self , b , c):\n",
    "        print('This is my first method in car class')"
   ]
  },
  {
   "cell_type": "code",
   "execution_count": 20,
   "id": "c1d639c8-c73f-4172-875b-91f9edf16150",
   "metadata": {},
   "outputs": [],
   "source": [
    "x = car()"
   ]
  },
  {
   "cell_type": "code",
   "execution_count": 24,
   "id": "c65b6589-b840-4d96-9044-2bc7ac08260b",
   "metadata": {},
   "outputs": [
    {
     "name": "stdout",
     "output_type": "stream",
     "text": [
      "<class '__main__.car'>\n"
     ]
    }
   ],
   "source": [
    "print(type(x))"
   ]
  },
  {
   "cell_type": "code",
   "execution_count": 23,
   "id": "3cd47986-6bd4-4f4e-8227-c1c8416ea1a6",
   "metadata": {},
   "outputs": [
    {
     "name": "stdout",
     "output_type": "stream",
     "text": [
      "This is my first method in car class\n"
     ]
    }
   ],
   "source": [
    "x.test(6,'hsgsh')"
   ]
  },
  {
   "cell_type": "code",
   "execution_count": null,
   "id": "0131d170-e38e-42e7-a783-f48598167ab6",
   "metadata": {},
   "outputs": [],
   "source": []
  },
  {
   "cell_type": "code",
   "execution_count": 38,
   "id": "16a978d1-0b27-4135-9046-0660a4e49ebe",
   "metadata": {},
   "outputs": [],
   "source": [
    "class list_parser :\n",
    "    def __init__(self , l):\n",
    "        self.l = l\n",
    "        \n",
    "    def parser(self):\n",
    "        if type(self.l) == list :\n",
    "            for i in self.l :\n",
    "                print(i)\n",
    "    def reverse_list(self):\n",
    "        if type(self.l) == list :\n",
    "            return self.l[::-1]"
   ]
  },
  {
   "cell_type": "code",
   "execution_count": 39,
   "id": "201d921f-10c1-47a1-b5e8-dca845466fdc",
   "metadata": {},
   "outputs": [
    {
     "name": "stdout",
     "output_type": "stream",
     "text": [
      "2\n",
      "3\n",
      "4\n",
      "5\n",
      "6\n",
      "78\n"
     ]
    }
   ],
   "source": [
    "c = list_parser([2,3,4,5,6,78])\n",
    "\n",
    "c.parser()"
   ]
  },
  {
   "cell_type": "code",
   "execution_count": 40,
   "id": "58f8aa8c-5bae-4db0-be9e-ff92aa3531d9",
   "metadata": {},
   "outputs": [
    {
     "data": {
      "text/plain": [
       "[78, 6, 5, 4, 3, 2]"
      ]
     },
     "execution_count": 40,
     "metadata": {},
     "output_type": "execute_result"
    }
   ],
   "source": [
    "c.reverse_list()"
   ]
  },
  {
   "cell_type": "code",
   "execution_count": null,
   "id": "33eac05b-ffad-4475-82f5-6ea9a0b2e61a",
   "metadata": {},
   "outputs": [],
   "source": [
    "#create a class for dictionary parsing\n",
    "1. wrt a func to give all keys\n",
    "2. wrt func to give all values\n",
    "3. wrt fucn to throw an exception in case of input is not dictionary\n",
    "4. wtr func for take user input and parse a key and value out of dict\n",
    "5. wtr a func to insert new keys value pair the dictionary"
   ]
  },
  {
   "cell_type": "code",
   "execution_count": null,
   "id": "0a00d7d2-463b-4a69-832e-18e1da0fd673",
   "metadata": {},
   "outputs": [],
   "source": []
  },
  {
   "cell_type": "code",
   "execution_count": 8,
   "id": "20793401-1d6d-45c9-bdda-e26e4e1cd5a9",
   "metadata": {},
   "outputs": [],
   "source": [
    "class dict_parse :\n",
    "    def __init__(self , dic):\n",
    "        self.dic = dic\n",
    "        \n",
    "    def key(self):\n",
    "        if self.notdict() :\n",
    "            return list(self.dic.keys())\n",
    "                 \n",
    "    def value(self):\n",
    "        if self.notdict() :\n",
    "            return list(self.dic.values())  \n",
    "    def notdict(self):\n",
    "        if type(self.dic) != dict :\n",
    "            raise Exception('Not a dictionary')\n",
    "        return 1\n",
    "    def parse(self):\n",
    "        self.dic = eval(input())\n",
    "        print(self.dic , type(self.dic))\n",
    "        print(self.key())\n",
    "        print(self.value())\n",
    "        \n",
    "    def insert(self,k,v) :\n",
    "        self.dic[k] = v"
   ]
  },
  {
   "cell_type": "code",
   "execution_count": 9,
   "id": "e775852b-d77f-49ef-b749-e27ae9a36747",
   "metadata": {},
   "outputs": [],
   "source": [
    "k = dict_parse({'k1':'sand','k2':[1,2,3]})"
   ]
  },
  {
   "cell_type": "code",
   "execution_count": 10,
   "id": "6f895a69-6c3b-4c8f-bd08-402a418559e5",
   "metadata": {},
   "outputs": [
    {
     "data": {
      "text/plain": [
       "['k1', 'k2']"
      ]
     },
     "execution_count": 10,
     "metadata": {},
     "output_type": "execute_result"
    }
   ],
   "source": [
    "k.key()"
   ]
  },
  {
   "cell_type": "code",
   "execution_count": 11,
   "id": "97be3ecc-2427-4242-b584-6b15903ae20d",
   "metadata": {},
   "outputs": [
    {
     "data": {
      "text/plain": [
       "['sand', [1, 2, 3]]"
      ]
     },
     "execution_count": 11,
     "metadata": {},
     "output_type": "execute_result"
    }
   ],
   "source": [
    "k.value()"
   ]
  },
  {
   "cell_type": "code",
   "execution_count": 12,
   "id": "9337dcd3-15d0-4595-85f8-c0168931421f",
   "metadata": {},
   "outputs": [],
   "source": [
    "l = dict_parse([1,2,3])"
   ]
  },
  {
   "cell_type": "code",
   "execution_count": 13,
   "id": "3ddc519b-f639-497f-966d-11cd366182ff",
   "metadata": {},
   "outputs": [
    {
     "ename": "Exception",
     "evalue": "Not a dictionary",
     "output_type": "error",
     "traceback": [
      "\u001b[0;31m---------------------------------------------------------------------------\u001b[0m",
      "\u001b[0;31mException\u001b[0m                                 Traceback (most recent call last)",
      "Cell \u001b[0;32mIn [13], line 1\u001b[0m\n\u001b[0;32m----> 1\u001b[0m \u001b[43ml\u001b[49m\u001b[38;5;241;43m.\u001b[39;49m\u001b[43mnotdict\u001b[49m\u001b[43m(\u001b[49m\u001b[43m)\u001b[49m\n",
      "Cell \u001b[0;32mIn [8], line 14\u001b[0m, in \u001b[0;36mdict_parse.notdict\u001b[0;34m(self)\u001b[0m\n\u001b[1;32m     12\u001b[0m \u001b[38;5;28;01mdef\u001b[39;00m \u001b[38;5;21mnotdict\u001b[39m(\u001b[38;5;28mself\u001b[39m):\n\u001b[1;32m     13\u001b[0m     \u001b[38;5;28;01mif\u001b[39;00m \u001b[38;5;28mtype\u001b[39m(\u001b[38;5;28mself\u001b[39m\u001b[38;5;241m.\u001b[39mdic) \u001b[38;5;241m!=\u001b[39m \u001b[38;5;28mdict\u001b[39m :\n\u001b[0;32m---> 14\u001b[0m         \u001b[38;5;28;01mraise\u001b[39;00m \u001b[38;5;167;01mException\u001b[39;00m(\u001b[38;5;124m'\u001b[39m\u001b[38;5;124mNot a dictionary\u001b[39m\u001b[38;5;124m'\u001b[39m)\n\u001b[1;32m     15\u001b[0m     \u001b[38;5;28;01mreturn\u001b[39;00m \u001b[38;5;241m1\u001b[39m\n",
      "\u001b[0;31mException\u001b[0m: Not a dictionary"
     ]
    }
   ],
   "source": [
    "l.notdict()"
   ]
  },
  {
   "cell_type": "code",
   "execution_count": 15,
   "id": "215b2fc0-bc86-4d6b-9bd5-38f2779bfb5d",
   "metadata": {},
   "outputs": [
    {
     "name": "stdin",
     "output_type": "stream",
     "text": [
      " {'k':1,'m':2}\n"
     ]
    },
    {
     "name": "stdout",
     "output_type": "stream",
     "text": [
      "{'k': 1, 'm': 2} <class 'dict'>\n",
      "['k', 'm']\n",
      "[1, 2]\n"
     ]
    }
   ],
   "source": [
    "k.parse()"
   ]
  },
  {
   "cell_type": "code",
   "execution_count": 16,
   "id": "e32726e6-128f-4a6b-86b2-1a4d636b2005",
   "metadata": {},
   "outputs": [],
   "source": [
    "k.insert('key','Bandi')"
   ]
  },
  {
   "cell_type": "code",
   "execution_count": 17,
   "id": "28170f8f-068b-4273-88cb-24b14cc384fa",
   "metadata": {},
   "outputs": [
    {
     "data": {
      "text/plain": [
       "{'k': 1, 'm': 2, 'key': 'Bandi'}"
      ]
     },
     "execution_count": 17,
     "metadata": {},
     "output_type": "execute_result"
    }
   ],
   "source": [
    "k.dic"
   ]
  },
  {
   "cell_type": "code",
   "execution_count": 18,
   "id": "dc6cad6e-57e5-4214-989e-47394206fd77",
   "metadata": {},
   "outputs": [
    {
     "data": {
      "text/plain": [
       "<_io.TextIOWrapper name='mydict.py' mode='w' encoding='UTF-8'>"
      ]
     },
     "execution_count": 18,
     "metadata": {},
     "output_type": "execute_result"
    }
   ],
   "source": [
    "open('mydict.py','w')"
   ]
  },
  {
   "cell_type": "code",
   "execution_count": 19,
   "id": "d37d99ca-e3eb-404f-9f63-8ad262f8c10b",
   "metadata": {},
   "outputs": [],
   "source": [
    "import mydict\n"
   ]
  },
  {
   "cell_type": "code",
   "execution_count": 21,
   "id": "b32bc9d2-bd82-4e51-ab05-6ce90ccb39d3",
   "metadata": {},
   "outputs": [],
   "source": [
    "d = mydict.dict_parse({'k1':98,'k2':[1,2,3,4],'k3':'sand'})"
   ]
  },
  {
   "cell_type": "code",
   "execution_count": 22,
   "id": "bc68d7bb-530e-4174-95e7-19d726b0694f",
   "metadata": {},
   "outputs": [
    {
     "data": {
      "text/plain": [
       "['k1', 'k2', 'k3']"
      ]
     },
     "execution_count": 22,
     "metadata": {},
     "output_type": "execute_result"
    }
   ],
   "source": [
    "d.key()"
   ]
  },
  {
   "cell_type": "code",
   "execution_count": null,
   "id": "a1a70d36-a9be-47ed-9092-201048cbf1ac",
   "metadata": {},
   "outputs": [],
   "source": []
  },
  {
   "cell_type": "code",
   "execution_count": 23,
   "id": "1b6cd2ce-191a-49b1-8350-806f0b5ed050",
   "metadata": {},
   "outputs": [],
   "source": [
    "from mydict import dict_parse"
   ]
  },
  {
   "cell_type": "code",
   "execution_count": 24,
   "id": "2b0b5075-2150-4d49-bbe2-7d99bdd373b3",
   "metadata": {},
   "outputs": [],
   "source": [
    "d1=dict_parse({'k1':98,'k2':[1,2,3,4],'k3':'sand'})"
   ]
  },
  {
   "cell_type": "code",
   "execution_count": 25,
   "id": "056c8db7-4c2d-4d93-8b83-90fdd999611f",
   "metadata": {},
   "outputs": [
    {
     "data": {
      "text/plain": [
       "[98, [1, 2, 3, 4], 'sand']"
      ]
     },
     "execution_count": 25,
     "metadata": {},
     "output_type": "execute_result"
    }
   ],
   "source": [
    "d1.value()"
   ]
  },
  {
   "cell_type": "code",
   "execution_count": 26,
   "id": "dc6d3055-6aef-4f74-9a99-bc7e228c82e2",
   "metadata": {},
   "outputs": [],
   "source": [
    "import mydict \n",
    "from mydict import dict_parse"
   ]
  },
  {
   "cell_type": "code",
   "execution_count": null,
   "id": "c42a0e35-1194-4be8-b82d-83c932f091c3",
   "metadata": {},
   "outputs": [],
   "source": []
  },
  {
   "cell_type": "code",
   "execution_count": null,
   "id": "ea5d4f48-966f-45fa-85c0-b3f3c1d9e473",
   "metadata": {},
   "outputs": [],
   "source": [
    "q1. create your own packege for all the list functions\n",
    "q2. create your own packege for all the tuple functions\n",
    "q3. create your own packege for all the dictionary functions\n",
    "q4. create you own packege for all the set functions"
   ]
  },
  {
   "cell_type": "code",
   "execution_count": null,
   "id": "627116ce-61bd-475a-9ad8-a89e52b61e14",
   "metadata": {},
   "outputs": [],
   "source": [
    "restrictions:\n",
    "    always use exception handling\n",
    "    never use print stsement\n",
    "    always use logging while writting a code and log every activity performed by code in respective loggging rule."
   ]
  },
  {
   "cell_type": "code",
   "execution_count": 27,
   "id": "3ff8125b-d107-4479-817d-30d47c750fd4",
   "metadata": {},
   "outputs": [],
   "source": [
    "l = [1,2,3,4]"
   ]
  },
  {
   "cell_type": "code",
   "execution_count": 28,
   "id": "c7ef0a36-80c8-45fa-b3b2-fc0eb02dac43",
   "metadata": {},
   "outputs": [],
   "source": [
    "l.append(5)"
   ]
  },
  {
   "cell_type": "code",
   "execution_count": 29,
   "id": "c1a63015-aa43-4fa6-924f-af330a8582c9",
   "metadata": {},
   "outputs": [
    {
     "data": {
      "text/plain": [
       "[1, 2, 3, 4, 5]"
      ]
     },
     "execution_count": 29,
     "metadata": {},
     "output_type": "execute_result"
    }
   ],
   "source": [
    "l."
   ]
  },
  {
   "cell_type": "code",
   "execution_count": 30,
   "id": "504c4fb2-b136-4659-a497-c5f5d7c6b73b",
   "metadata": {},
   "outputs": [
    {
     "ename": "TypeError",
     "evalue": "'int' object is not iterable",
     "output_type": "error",
     "traceback": [
      "\u001b[0;31m---------------------------------------------------------------------------\u001b[0m",
      "\u001b[0;31mTypeError\u001b[0m                                 Traceback (most recent call last)",
      "Cell \u001b[0;32mIn [30], line 1\u001b[0m\n\u001b[0;32m----> 1\u001b[0m k\u001b[38;5;241m=\u001b[39m\u001b[38;5;28;43mlist\u001b[39;49m\u001b[43m(\u001b[49m\u001b[38;5;241;43m10\u001b[39;49m\u001b[43m)\u001b[49m\n",
      "\u001b[0;31mTypeError\u001b[0m: 'int' object is not iterable"
     ]
    }
   ],
   "source": [
    "k=list(10)"
   ]
  },
  {
   "cell_type": "code",
   "execution_count": null,
   "id": "36949d54-7948-42f2-b6a3-c2fdc38cfaf9",
   "metadata": {},
   "outputs": [],
   "source": []
  }
 ],
 "metadata": {
  "kernelspec": {
   "display_name": "Python 3 (ipykernel)",
   "language": "python",
   "name": "python3"
  },
  "language_info": {
   "codemirror_mode": {
    "name": "ipython",
    "version": 3
   },
   "file_extension": ".py",
   "mimetype": "text/x-python",
   "name": "python",
   "nbconvert_exporter": "python",
   "pygments_lexer": "ipython3",
   "version": "3.10.6"
  }
 },
 "nbformat": 4,
 "nbformat_minor": 5
}
