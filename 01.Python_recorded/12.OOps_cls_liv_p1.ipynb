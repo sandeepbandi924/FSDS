{
 "cells": [
  {
   "cell_type": "code",
   "execution_count": 3,
   "id": "b717d68b-c861-424e-8106-c072bca63930",
   "metadata": {},
   "outputs": [],
   "source": [
    "class Ineuron :\n",
    "    pass"
   ]
  },
  {
   "cell_type": "code",
   "execution_count": 15,
   "id": "6bf3a0ff-6db3-46ff-9042-379c9333ae2d",
   "metadata": {},
   "outputs": [],
   "source": [
    "class Ineuron :\n",
    "    \n",
    "    def ineuron(self):\n",
    "        print('Ineuron is a company in edutech')\n",
    "        \n",
    "    def ineuron_students(self):\n",
    "        print('students are amazing in ineuron')\n",
    "    \n",
    "    def ineuron_support(self):\n",
    "        print('yes we do give support')\n",
    "    \n",
    "    def ineuron_fee(self):\n",
    "        print('Its very affordable')"
   ]
  },
  {
   "cell_type": "code",
   "execution_count": 16,
   "id": "401a3b99-f9e6-4162-a085-9e08ca6e4c2a",
   "metadata": {},
   "outputs": [],
   "source": [
    "b = Ineuron()"
   ]
  },
  {
   "cell_type": "code",
   "execution_count": 17,
   "id": "a695d6bc-adc8-4943-b071-3323678b4255",
   "metadata": {},
   "outputs": [
    {
     "name": "stdout",
     "output_type": "stream",
     "text": [
      "Ineuron is a company in edutech\n"
     ]
    }
   ],
   "source": [
    "b.ineuron()"
   ]
  },
  {
   "cell_type": "code",
   "execution_count": 18,
   "id": "b0f56b56-651f-4192-bc0d-723681bd207a",
   "metadata": {},
   "outputs": [
    {
     "name": "stdout",
     "output_type": "stream",
     "text": [
      "Its very affordable\n"
     ]
    }
   ],
   "source": [
    "b.ineuron_fee()"
   ]
  },
  {
   "cell_type": "code",
   "execution_count": 20,
   "id": "c368afaf-1108-4ddc-8853-e5ddf3d72c1b",
   "metadata": {},
   "outputs": [
    {
     "name": "stdout",
     "output_type": "stream",
     "text": [
      "Collecting pymongo\n",
      "  Downloading pymongo-4.3.3-cp310-cp310-manylinux_2_17_x86_64.manylinux2014_x86_64.whl (492 kB)\n",
      "\u001b[2K     \u001b[90m━━━━━━━━━━━━━━━━━━━━━━━━━━━━━━━━━━━━━━━\u001b[0m \u001b[32m492.9/492.9 kB\u001b[0m \u001b[31m9.9 MB/s\u001b[0m eta \u001b[36m0:00:00\u001b[0m00:01\u001b[0m\n",
      "\u001b[?25hCollecting dnspython<3.0.0,>=1.16.0\n",
      "  Downloading dnspython-2.3.0-py3-none-any.whl (283 kB)\n",
      "\u001b[2K     \u001b[90m━━━━━━━━━━━━━━━━━━━━━━━━━━━━━━━━━━━━━━━\u001b[0m \u001b[32m283.7/283.7 kB\u001b[0m \u001b[31m3.6 MB/s\u001b[0m eta \u001b[36m0:00:00\u001b[0m00:01\u001b[0m\n",
      "\u001b[?25hInstalling collected packages: dnspython, pymongo\n",
      "Successfully installed dnspython-2.3.0 pymongo-4.3.3\n",
      "Note: you may need to restart the kernel to use updated packages.\n"
     ]
    }
   ],
   "source": [
    "pip install pymongo"
   ]
  },
  {
   "cell_type": "code",
   "execution_count": 80,
   "id": "4db8d69a-3cb9-40b9-bbf5-cf1017be9617",
   "metadata": {},
   "outputs": [],
   "source": [
    "import pymongo\n",
    "class MongoDB :\n",
    "    def __init__(self, userid , password , data):\n",
    "        self.userid = userid\n",
    "        self.password=password\n",
    "        self.data = data\n",
    "        \n",
    "        \n",
    "    def connect(self):\n",
    "        print('This fun will help you to connect with mongo db')\n",
    "        url = \"mongodb+srv://\" + self.userid + \":\" + self.password + \"@cluster0.0dj6p.mongodb.net/?retryWrites=true&w=majority\"\n",
    "        client = pymongo.MongoClient(url)\n",
    "        return client\n",
    "        \n",
    "    def insert(self):\n",
    "        conn  = self.connect()\n",
    "        print('This fun will help you to insert into mongo db')\n",
    "        db = conn['mongodb_test']\n",
    "        coll = db['mongo_record']\n",
    "        coll.insert_one(self.data)\n",
    "    \n",
    "    def update(self):\n",
    "        print('This fun will help you to update into mongo db')\n",
    "                "
   ]
  },
  {
   "cell_type": "code",
   "execution_count": 81,
   "id": "50e5fafb-7e61-40c9-8b25-1ad8759a6e33",
   "metadata": {},
   "outputs": [],
   "source": [
    "mongo = MongoDB('sandeep' , 'sandeep')"
   ]
  },
  {
   "cell_type": "code",
   "execution_count": 82,
   "id": "5ea3d5f6-5b78-4850-a504-0c3eb0794e1e",
   "metadata": {},
   "outputs": [
    {
     "name": "stdout",
     "output_type": "stream",
     "text": [
      "This fun will help you to connect with mongo db\n",
      "This fun will help you to insert into mongo db\n"
     ]
    }
   ],
   "source": [
    "mongo.insert({'name': 'sandeep' , 'number': 4567891})"
   ]
  },
  {
   "cell_type": "code",
   "execution_count": null,
   "id": "17364fc4-cd3f-4070-aaa5-1c4a58623397",
   "metadata": {},
   "outputs": [],
   "source": []
  },
  {
   "cell_type": "code",
   "execution_count": null,
   "id": "8ec20684-7eb0-472e-8f66-c1b0137dafd5",
   "metadata": {},
   "outputs": [],
   "source": []
  },
  {
   "cell_type": "code",
   "execution_count": 72,
   "id": "1b36c65e-e20a-4390-b512-857bdb1e8577",
   "metadata": {},
   "outputs": [
    {
     "data": {
      "text/plain": [
       "'sandeep'"
      ]
     },
     "execution_count": 72,
     "metadata": {},
     "output_type": "execute_result"
    }
   ],
   "source": [
    "mongo.password"
   ]
  },
  {
   "cell_type": "code",
   "execution_count": 73,
   "id": "5599370c-dcd0-4dce-b37d-669a54783e86",
   "metadata": {},
   "outputs": [
    {
     "data": {
      "text/plain": [
       "'sandeep'"
      ]
     },
     "execution_count": 73,
     "metadata": {},
     "output_type": "execute_result"
    }
   ],
   "source": [
    "mongo.userid"
   ]
  },
  {
   "cell_type": "code",
   "execution_count": 77,
   "id": "3ba75e8a-c1bc-4d72-9565-7638ad80bf10",
   "metadata": {},
   "outputs": [
    {
     "name": "stdout",
     "output_type": "stream",
     "text": [
      "This fun will help you to connect with mongo db\n"
     ]
    }
   ],
   "source": [
    "conn = mongo.connect()"
   ]
  },
  {
   "cell_type": "code",
   "execution_count": 78,
   "id": "22aabbc0-1760-4538-8583-665aee995ed6",
   "metadata": {},
   "outputs": [
    {
     "data": {
      "text/plain": [
       "MongoClient(host=['cluster0-shard-00-02.0dj6p.mongodb.net:27017', 'cluster0-shard-00-00.0dj6p.mongodb.net:27017', 'cluster0-shard-00-01.0dj6p.mongodb.net:27017'], document_class=dict, tz_aware=False, connect=True, retrywrites=True, w='majority', authsource='admin', replicaset='atlas-gluo1j-shard-0', tls=True)"
      ]
     },
     "execution_count": 78,
     "metadata": {},
     "output_type": "execute_result"
    }
   ],
   "source": [
    "conn"
   ]
  },
  {
   "cell_type": "code",
   "execution_count": 79,
   "id": "79673743-8aec-4659-b499-c598251de209",
   "metadata": {},
   "outputs": [
    {
     "name": "stdout",
     "output_type": "stream",
     "text": [
      "This fun will help you to insert into mongo db\n"
     ]
    }
   ],
   "source": [
    "mongo.insert(conn , {'name': 'sandeep' , 'number': 4567891})"
   ]
  },
  {
   "cell_type": "code",
   "execution_count": null,
   "id": "edeb3879-0267-479e-b53a-434438a32004",
   "metadata": {},
   "outputs": [],
   "source": []
  },
  {
   "cell_type": "code",
   "execution_count": null,
   "id": "79a1d6ac-076c-4f76-81b9-1e2f1d7dc5d1",
   "metadata": {},
   "outputs": [],
   "source": []
  },
  {
   "cell_type": "code",
   "execution_count": null,
   "id": "9debb9c6-aa05-413f-a4cb-cb43c46bc796",
   "metadata": {},
   "outputs": [],
   "source": []
  }
 ],
 "metadata": {
  "kernelspec": {
   "display_name": "Python 3 (ipykernel)",
   "language": "python",
   "name": "python3"
  },
  "language_info": {
   "codemirror_mode": {
    "name": "ipython",
    "version": 3
   },
   "file_extension": ".py",
   "mimetype": "text/x-python",
   "name": "python",
   "nbconvert_exporter": "python",
   "pygments_lexer": "ipython3",
   "version": "3.10.6"
  }
 },
 "nbformat": 4,
 "nbformat_minor": 5
}
