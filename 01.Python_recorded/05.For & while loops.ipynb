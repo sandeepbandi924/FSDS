{
 "cells": [
  {
   "cell_type": "code",
   "execution_count": 3,
   "id": "7c60c7e0-8fdc-4891-af79-8ec163a1d192",
   "metadata": {},
   "outputs": [
    {
     "name": "stdout",
     "output_type": "stream",
     "text": [
      "name sand\n",
      "email sand\n",
      "mob_no sand\n",
      "address sand\n"
     ]
    }
   ],
   "source": [
    "l = ['name','email','mob_no','address']\n",
    "for i in l :\n",
    "    print(i + ' sand')"
   ]
  },
  {
   "cell_type": "code",
   "execution_count": 4,
   "id": "dfbe887b-55e3-4f54-8ba7-69306a15c7f3",
   "metadata": {},
   "outputs": [
    {
     "name": "stdout",
     "output_type": "stream",
     "text": [
      "i\n",
      "n\n",
      "e\n",
      "u\n",
      "r\n",
      "o\n",
      "n\n"
     ]
    }
   ],
   "source": [
    "s = 'ineuron'\n",
    "for i in s :\n",
    "    print(i)"
   ]
  },
  {
   "cell_type": "code",
   "execution_count": 5,
   "id": "3dfaeb55-0141-4ac7-baf0-32f7b39d4610",
   "metadata": {},
   "outputs": [],
   "source": [
    "#for- else statement"
   ]
  },
  {
   "cell_type": "code",
   "execution_count": 6,
   "id": "0bb6c3f9-3557-44dc-b309-9a7f15eb8cd2",
   "metadata": {},
   "outputs": [
    {
     "data": {
      "text/plain": [
       "['name', 'email', 'mob_no', 'address']"
      ]
     },
     "execution_count": 6,
     "metadata": {},
     "output_type": "execute_result"
    }
   ],
   "source": [
    "l"
   ]
  },
  {
   "cell_type": "code",
   "execution_count": 8,
   "id": "81ae1e96-afb4-49fa-8080-e4773fdc4972",
   "metadata": {},
   "outputs": [
    {
     "name": "stdout",
     "output_type": "stream",
     "text": [
      "name\n",
      "email\n",
      "mob_no\n",
      "address\n",
      "if for loop is going to complete itself then it will come to else\n"
     ]
    }
   ],
   "source": [
    "for i in l :\n",
    "    print(i)\n",
    "else:\n",
    "    print('if for loop is going to complete itself then it will come to else')"
   ]
  },
  {
   "cell_type": "code",
   "execution_count": 9,
   "id": "8fc47682-f271-4548-baab-c054ae12156d",
   "metadata": {},
   "outputs": [
    {
     "data": {
      "text/plain": [
       "['name', 'email', 'mob_no', 'address']"
      ]
     },
     "execution_count": 9,
     "metadata": {},
     "output_type": "execute_result"
    }
   ],
   "source": [
    "l"
   ]
  },
  {
   "cell_type": "code",
   "execution_count": 11,
   "id": "fec89f49-b77a-49e3-8927-d89b65bc3c41",
   "metadata": {},
   "outputs": [
    {
     "name": "stdout",
     "output_type": "stream",
     "text": [
      "name\n"
     ]
    }
   ],
   "source": [
    "for i in l :\n",
    "    if i == 'email':\n",
    "        break\n",
    "    print(i)\n",
    "else :\n",
    "    print('check the statement')"
   ]
  },
  {
   "cell_type": "code",
   "execution_count": 13,
   "id": "b983c115-0d26-4b05-bd89-9f955b229e19",
   "metadata": {},
   "outputs": [],
   "source": [
    "s = 'sandeep'\n",
    "for i in s :\n",
    "    if i == 'n':\n",
    "        break\n",
    "else :\n",
    "    print('dont execute unless and until it is not printing my name')"
   ]
  },
  {
   "cell_type": "code",
   "execution_count": 14,
   "id": "617ef6d1-db3e-4d79-ac8a-1507eaf738a4",
   "metadata": {},
   "outputs": [],
   "source": [
    "#while loop"
   ]
  },
  {
   "cell_type": "code",
   "execution_count": 15,
   "id": "e0bb9282-7875-4835-97dd-3b707f9a209a",
   "metadata": {},
   "outputs": [
    {
     "name": "stdout",
     "output_type": "stream",
     "text": [
      "1\n",
      "2\n",
      "3\n",
      "4\n",
      "5\n"
     ]
    }
   ],
   "source": [
    "a = 1\n",
    "\n",
    "while a < 6 :\n",
    "    print(a)\n",
    "    a = a + 1"
   ]
  },
  {
   "cell_type": "code",
   "execution_count": 18,
   "id": "766c8577-8640-446f-bcd3-f00e1ddd735e",
   "metadata": {},
   "outputs": [
    {
     "name": "stdout",
     "output_type": "stream",
     "text": [
      "1\n",
      "2\n",
      "3\n",
      "4\n"
     ]
    }
   ],
   "source": [
    "a = 1\n",
    "while a <5 :\n",
    "    print(a)\n",
    "    if a == 4 :\n",
    "        break\n",
    "    a = a + 1"
   ]
  },
  {
   "cell_type": "code",
   "execution_count": 20,
   "id": "5136d461-c253-4efc-8e36-e274c788b520",
   "metadata": {},
   "outputs": [
    {
     "name": "stdout",
     "output_type": "stream",
     "text": [
      "1\n",
      "2\n",
      "3\n",
      "4\n"
     ]
    }
   ],
   "source": [
    "a = 1 \n",
    "while a < 5 :\n",
    "    print(a)\n",
    "    a = a+1\n",
    "    if a == 3 :\n",
    "        continue\n",
    "        "
   ]
  },
  {
   "cell_type": "code",
   "execution_count": 23,
   "id": "933dfcf3-35c8-4a47-bfc6-f0edaefc3256",
   "metadata": {},
   "outputs": [],
   "source": [
    "#diff pass break continue\n",
    "while a < 5 :\n",
    "    pass"
   ]
  },
  {
   "cell_type": "code",
   "execution_count": 24,
   "id": "cfd043a3-4384-4871-822a-67819ec1200a",
   "metadata": {},
   "outputs": [],
   "source": [
    "for i in l:\n",
    "    pass"
   ]
  },
  {
   "cell_type": "code",
   "execution_count": 25,
   "id": "5dd3eb3f-24ab-4e04-842c-2717deb1896f",
   "metadata": {},
   "outputs": [],
   "source": [
    "while a < 4 :\n",
    "    braek"
   ]
  },
  {
   "cell_type": "code",
   "execution_count": 26,
   "id": "76eacd84-5f47-4303-9f5c-6bf2324c88e4",
   "metadata": {},
   "outputs": [],
   "source": [
    "a =1"
   ]
  },
  {
   "cell_type": "code",
   "execution_count": null,
   "id": "f5ef8216-0fd3-4dd4-8432-15f29b6a009d",
   "metadata": {},
   "outputs": [],
   "source": [
    "while a < 4 : # infinite loop\n",
    "    continue"
   ]
  },
  {
   "cell_type": "code",
   "execution_count": null,
   "id": "21833c65-2454-49bd-b9a7-aa724295c77b",
   "metadata": {},
   "outputs": [],
   "source": []
  },
  {
   "cell_type": "code",
   "execution_count": 42,
   "id": "b4832ac4-11ca-4dfd-88fa-fa974b895751",
   "metadata": {},
   "outputs": [
    {
     "name": "stdout",
     "output_type": "stream",
     "text": [
      "* \n",
      "* * \n",
      "* * * \n",
      "* * * * \n",
      "* * * * * \n"
     ]
    }
   ],
   "source": [
    "for i in range(0,5):\n",
    "    for j in range(i+1) :\n",
    "        print('*',end=' ')\n",
    "    print('\\r')"
   ]
  },
  {
   "cell_type": "code",
   "execution_count": 43,
   "id": "c7ab33f6-acce-4d1c-b3ad-346148546962",
   "metadata": {},
   "outputs": [
    {
     "name": "stdout",
     "output_type": "stream",
     "text": [
      "1\n",
      "2\n",
      "3\n",
      "4\n",
      "5\n",
      "6\n",
      "8\n",
      "7\n",
      "5\n"
     ]
    }
   ],
   "source": [
    "l = [1,2,3,4,5,6,8,7,5]\n",
    "for i in l :\n",
    "    print(i)"
   ]
  },
  {
   "cell_type": "code",
   "execution_count": 49,
   "id": "47a7d760-05ae-488b-a038-268a188db646",
   "metadata": {},
   "outputs": [
    {
     "name": "stdout",
     "output_type": "stream",
     "text": [
      "0 3\n",
      "1 4\n",
      "2 4\n",
      "3 8\n",
      "4 9\n",
      "5 5\n"
     ]
    }
   ],
   "source": [
    "t = (3,4,4,8,9,5)\n",
    "for i in range(len(t)) :\n",
    "    print(i,t[i])"
   ]
  },
  {
   "cell_type": "code",
   "execution_count": 45,
   "id": "477ff19d-2d8a-4142-acaa-4046143c9d32",
   "metadata": {},
   "outputs": [
    {
     "name": "stdout",
     "output_type": "stream",
     "text": [
      "s\n",
      "a\n",
      "n\n",
      "d\n",
      "e\n",
      "p\n"
     ]
    }
   ],
   "source": [
    "s = 'sandep'\n",
    "for i in s :\n",
    "    print(i)"
   ]
  },
  {
   "cell_type": "code",
   "execution_count": 54,
   "id": "c3d58175-2e8f-488a-9af6-a054e5b1fc76",
   "metadata": {},
   "outputs": [
    {
     "data": {
      "text/plain": [
       "(3, 4, 4, 8, 9, 5)"
      ]
     },
     "execution_count": 54,
     "metadata": {},
     "output_type": "execute_result"
    }
   ],
   "source": [
    "t"
   ]
  },
  {
   "cell_type": "code",
   "execution_count": 51,
   "id": "12237d8d-d987-4d95-97d2-f9712fc93518",
   "metadata": {},
   "outputs": [
    {
     "data": {
      "text/plain": [
       "(5, 9, 8, 4, 4, 3)"
      ]
     },
     "execution_count": 51,
     "metadata": {},
     "output_type": "execute_result"
    }
   ],
   "source": [
    "t[::-1]"
   ]
  },
  {
   "cell_type": "code",
   "execution_count": 56,
   "id": "983bad32-5f5f-4077-ba9f-72110111d568",
   "metadata": {},
   "outputs": [
    {
     "data": {
      "text/plain": [
       "range(6, 0, -1)"
      ]
     },
     "execution_count": 56,
     "metadata": {},
     "output_type": "execute_result"
    }
   ],
   "source": [
    "range(len(t),0,-1)"
   ]
  },
  {
   "cell_type": "code",
   "execution_count": 58,
   "id": "6797ee7f-0296-49d5-b1ea-ecb107335f1f",
   "metadata": {},
   "outputs": [
    {
     "ename": "IndexError",
     "evalue": "tuple index out of range",
     "output_type": "error",
     "traceback": [
      "\u001b[0;31m---------------------------------------------------------------------------\u001b[0m",
      "\u001b[0;31mIndexError\u001b[0m                                Traceback (most recent call last)",
      "Cell \u001b[0;32mIn [58], line 1\u001b[0m\n\u001b[0;32m----> 1\u001b[0m \u001b[43mt\u001b[49m\u001b[43m[\u001b[49m\u001b[38;5;241;43m6\u001b[39;49m\u001b[43m]\u001b[49m\n",
      "\u001b[0;31mIndexError\u001b[0m: tuple index out of range"
     ]
    }
   ],
   "source": [
    "t[6]"
   ]
  },
  {
   "cell_type": "code",
   "execution_count": 62,
   "id": "983242fc-5d57-4c42-9dc2-a0dbbf926da0",
   "metadata": {},
   "outputs": [
    {
     "name": "stdout",
     "output_type": "stream",
     "text": [
      "5\n",
      "9\n",
      "8\n",
      "4\n",
      "4\n",
      "3\n"
     ]
    }
   ],
   "source": [
    "for i in range(len(t)-1,-1,-1) :\n",
    "    print(t[i])\n",
    "    "
   ]
  },
  {
   "cell_type": "code",
   "execution_count": 1,
   "id": "60d890ae-da1c-4dd6-99a2-30f59ac9cc14",
   "metadata": {},
   "outputs": [],
   "source": [
    "d = {'a':'sand', 'b':'deep','c':[1,2,3,4,5],'d':(5,6,7,8),'e':'sskjsk'}"
   ]
  },
  {
   "cell_type": "code",
   "execution_count": 7,
   "id": "92bc3e1d-fe21-4f12-8bfc-cfaddf89231c",
   "metadata": {},
   "outputs": [
    {
     "data": {
      "text/plain": [
       "(5, 6, 7, 8)"
      ]
     },
     "execution_count": 7,
     "metadata": {},
     "output_type": "execute_result"
    }
   ],
   "source": [
    "d['d']"
   ]
  },
  {
   "cell_type": "code",
   "execution_count": 8,
   "id": "48883b89-9fb3-4466-9fdd-37446f85dacc",
   "metadata": {},
   "outputs": [
    {
     "name": "stdout",
     "output_type": "stream",
     "text": [
      "a sand\n",
      "b deep\n",
      "c [1, 2, 3, 4, 5]\n",
      "d (5, 6, 7, 8)\n",
      "e sskjsk\n"
     ]
    }
   ],
   "source": [
    "for i in d :\n",
    "    print(i,d[i])"
   ]
  },
  {
   "cell_type": "code",
   "execution_count": 11,
   "id": "75e4ac16-08d3-4088-8a75-e4d2643cbcc5",
   "metadata": {},
   "outputs": [
    {
     "name": "stdout",
     "output_type": "stream",
     "text": [
      "('a', 'sand')\n",
      "('b', 'deep')\n",
      "('c', [1, 2, 3, 4, 5])\n",
      "('d', (5, 6, 7, 8))\n",
      "('e', 'sskjsk')\n"
     ]
    }
   ],
   "source": [
    "for i in d.items():\n",
    "    print(i)"
   ]
  },
  {
   "cell_type": "code",
   "execution_count": 19,
   "id": "3534470e-ae90-4af6-9e80-37fe8f6de63e",
   "metadata": {},
   "outputs": [],
   "source": [
    "s = {1,2,3,4,5,5,5,8,1,2,3,7,9,5,4,6,4,3,1,5,7,4,4,4}"
   ]
  },
  {
   "cell_type": "code",
   "execution_count": 13,
   "id": "d83a8161-84b9-4de2-ac67-5a1b0fb802a4",
   "metadata": {},
   "outputs": [
    {
     "data": {
      "text/plain": [
       "{1, 2, 3, 4, 5, 6, 7, 8, 9}"
      ]
     },
     "execution_count": 13,
     "metadata": {},
     "output_type": "execute_result"
    }
   ],
   "source": [
    "s"
   ]
  },
  {
   "cell_type": "code",
   "execution_count": 21,
   "id": "da0a7148-c49a-4da1-a015-8408b2f8bf5f",
   "metadata": {},
   "outputs": [
    {
     "name": "stdout",
     "output_type": "stream",
     "text": [
      "1\n",
      "2\n",
      "3\n",
      "4\n",
      "5\n",
      "6\n",
      "7\n",
      "8\n",
      "9\n"
     ]
    }
   ],
   "source": [
    "for i in s :\n",
    "    print(i)"
   ]
  },
  {
   "cell_type": "code",
   "execution_count": null,
   "id": "b811f0a9-161f-4acd-85e6-0c190a6fed5d",
   "metadata": {},
   "outputs": [],
   "source": []
  },
  {
   "cell_type": "code",
   "execution_count": 22,
   "id": "774751ac-a58c-4f8a-ad34-c07b5d88a88e",
   "metadata": {},
   "outputs": [],
   "source": [
    "#practice program i loops"
   ]
  },
  {
   "cell_type": "code",
   "execution_count": 24,
   "id": "ae244980-5ef8-415b-ba1b-0522bc85a0f5",
   "metadata": {},
   "outputs": [
    {
     "data": {
      "text/plain": [
       "26"
      ]
     },
     "execution_count": 24,
     "metadata": {},
     "output_type": "execute_result"
    }
   ],
   "source": [
    "s = 'This is basic python class'\n",
    "len(s)"
   ]
  },
  {
   "cell_type": "code",
   "execution_count": 27,
   "id": "89734d9b-c3d2-4e48-ab93-2f3961e5e408",
   "metadata": {},
   "outputs": [
    {
     "name": "stdout",
     "output_type": "stream",
     "text": [
      "26\n"
     ]
    }
   ],
   "source": [
    "\n",
    "count=0\n",
    "for i in s:\n",
    "    #count = count + 1\n",
    "    count+=1\n",
    "print(count)"
   ]
  },
  {
   "cell_type": "code",
   "execution_count": 28,
   "id": "3b4d16b1-e8c7-4ed8-8fa2-622470ec588b",
   "metadata": {},
   "outputs": [
    {
     "data": {
      "text/plain": [
       "'ssalc nohtyp cisab si sihT'"
      ]
     },
     "execution_count": 28,
     "metadata": {},
     "output_type": "execute_result"
    }
   ],
   "source": [
    "s[::-1]"
   ]
  },
  {
   "cell_type": "code",
   "execution_count": 31,
   "id": "15636779-2817-4507-9a55-7ee6dcbc2d12",
   "metadata": {},
   "outputs": [
    {
     "name": "stdout",
     "output_type": "stream",
     "text": [
      "s s a l c   n o h t y p   c i s a b   s i   s i h T "
     ]
    }
   ],
   "source": [
    "for i in range(len(s)-1,-1,-1):\n",
    "    print(s[i],end = ' ')"
   ]
  },
  {
   "cell_type": "code",
   "execution_count": 30,
   "id": "e3558086-c81e-4e81-9f64-23ba5d9ad1f2",
   "metadata": {},
   "outputs": [
    {
     "name": "stdout",
     "output_type": "stream",
     "text": [
      "s s a l c   n o h t y p   c i s a b   s i   s i h T "
     ]
    }
   ],
   "source": [
    "i = len(s)-1\n",
    "while i >=0:\n",
    "    print(s[i],end=' ')\n",
    "    i = i-1"
   ]
  },
  {
   "cell_type": "code",
   "execution_count": 32,
   "id": "1964e597-cb41-4790-9637-428268c99f1d",
   "metadata": {},
   "outputs": [
    {
     "data": {
      "text/plain": [
       "'This is basic python class'"
      ]
     },
     "execution_count": 32,
     "metadata": {},
     "output_type": "execute_result"
    }
   ],
   "source": [
    "s"
   ]
  },
  {
   "cell_type": "code",
   "execution_count": 38,
   "id": "f0ac5eee-3b3d-43e7-baf1-42790a0bf0e1",
   "metadata": {},
   "outputs": [
    {
     "name": "stdout",
     "output_type": "stream",
     "text": [
      "i is vowel\n",
      "n is Not vowel\n",
      "e is vowel\n",
      "u is vowel\n",
      "r is Not vowel\n",
      "o is vowel\n",
      "n is Not vowel\n"
     ]
    }
   ],
   "source": [
    "s = 'ineuron'\n",
    "v = 'AaEeIiOoUu'\n",
    "for i in s :\n",
    "    if i in v:\n",
    "        print(i,'is vowel')\n",
    "    else :\n",
    "        print(i,'is Not vowel')"
   ]
  },
  {
   "cell_type": "code",
   "execution_count": 39,
   "id": "88b17eb2-abbb-4e2d-9670-f19453b86fd2",
   "metadata": {},
   "outputs": [
    {
     "data": {
      "text/plain": [
       "'tnent'"
      ]
     },
     "execution_count": 39,
     "metadata": {},
     "output_type": "execute_result"
    }
   ],
   "source": [
    "'malayalam'\n",
    "'eye'\n",
    "'tnent'\n",
    "#palindrom"
   ]
  },
  {
   "cell_type": "code",
   "execution_count": 42,
   "id": "29beed9b-1f19-4128-a56b-85f35faaad06",
   "metadata": {},
   "outputs": [
    {
     "name": "stdin",
     "output_type": "stream",
     "text": [
      " malayalam\n"
     ]
    },
    {
     "name": "stdout",
     "output_type": "stream",
     "text": [
      "palindrom\n"
     ]
    }
   ],
   "source": [
    "s = input()\n",
    "if s == s[::-1]:\n",
    "    print('palindrom')\n",
    "else:\n",
    "    print('Not palindrom')"
   ]
  },
  {
   "cell_type": "code",
   "execution_count": 45,
   "id": "baff1c26-dcd9-45f6-acff-98d110648a85",
   "metadata": {},
   "outputs": [
    {
     "name": "stdin",
     "output_type": "stream",
     "text": [
      " tenet\n"
     ]
    },
    {
     "name": "stdout",
     "output_type": "stream",
     "text": [
      "palindrome\n"
     ]
    }
   ],
   "source": [
    "s = input()\n",
    "for i in range(len(s)) :\n",
    "    if s[i] != s[len(s)-i-1]:\n",
    "        print('Not a palindrome')\n",
    "        break\n",
    "else:\n",
    "    print('palindrome')"
   ]
  },
  {
   "cell_type": "code",
   "execution_count": 46,
   "id": "0c43b0d2-a273-4978-a513-f6518eb7da86",
   "metadata": {},
   "outputs": [],
   "source": [
    "d = {'india':'IN',\n",
    "    'canada':'CA',\n",
    "    'china':'CH',\n",
    "    'united state':'US'\n",
    "    }"
   ]
  },
  {
   "cell_type": "code",
   "execution_count": 47,
   "id": "5bc3e71e-500c-4695-9824-e8eef1d63e5a",
   "metadata": {},
   "outputs": [
    {
     "data": {
      "text/plain": [
       "True"
      ]
     },
     "execution_count": 47,
     "metadata": {},
     "output_type": "execute_result"
    }
   ],
   "source": [
    "'india' in d"
   ]
  },
  {
   "cell_type": "code",
   "execution_count": 56,
   "id": "a5f73835-9ddf-441c-8714-f23dc086797c",
   "metadata": {},
   "outputs": [
    {
     "name": "stdout",
     "output_type": "stream",
     "text": [
      "['india', 'china']\n",
      "['canada', 'united state']\n"
     ]
    }
   ],
   "source": [
    "l1=[]\n",
    "l2=[]\n",
    "for i in d:\n",
    "    if len(i)<=5:\n",
    "        l1.append(i)\n",
    "    else:\n",
    "        l2.append(i)\n",
    "print(l1)\n",
    "print(l2)"
   ]
  },
  {
   "cell_type": "code",
   "execution_count": 64,
   "id": "0c12c94c-f7d2-4962-a579-92f1a67f3119",
   "metadata": {},
   "outputs": [],
   "source": [
    "d1={'ineuron':{\n",
    "        'a':14,\n",
    "        'b':10,\n",
    "        'c':4},\n",
    "    'course': {\n",
    "     'd':45,\n",
    "     'e':34,\n",
    "     'f':1\n",
    "     }\n",
    "}"
   ]
  },
  {
   "cell_type": "code",
   "execution_count": 66,
   "id": "c3cc11c4-5f7e-48aa-9201-04f74dd43547",
   "metadata": {},
   "outputs": [
    {
     "name": "stdout",
     "output_type": "stream",
     "text": [
      "14\n",
      "45\n"
     ]
    }
   ],
   "source": [
    "lst=[]\n",
    "for i in d1.values():\n",
    "    for j in i.values():\n",
    "        lst.append(j)\n",
    "    print(max(lst))"
   ]
  },
  {
   "cell_type": "code",
   "execution_count": 67,
   "id": "bd50f63d-cbc7-4142-86d7-07ee54f77cc4",
   "metadata": {},
   "outputs": [
    {
     "name": "stdout",
     "output_type": "stream",
     "text": [
      "14\n",
      "45\n"
     ]
    }
   ],
   "source": [
    "for i in d1.keys():\n",
    "    print(max(d1[i].values()))"
   ]
  },
  {
   "cell_type": "code",
   "execution_count": 69,
   "id": "85e98a06-1de0-4d39-93ea-058e881042d4",
   "metadata": {},
   "outputs": [],
   "source": [
    "d1={'ineuron':{\n",
    "        'a':14,\n",
    "        'b':10,\n",
    "        'c':4},\n",
    "    'course': {\n",
    "     'd':45,\n",
    "     'e':34,\n",
    "     'f':1\n",
    "     },\n",
    "    'g':34,\n",
    "    'h':[49,6,7,3,9],\n",
    "    'i':(45,68,2),\n",
    "    'k':'sand'\n",
    "}"
   ]
  },
  {
   "cell_type": "code",
   "execution_count": 81,
   "id": "36d178c6-f0bf-4ba3-89df-5f5acb8f29b5",
   "metadata": {},
   "outputs": [
    {
     "name": "stdout",
     "output_type": "stream",
     "text": [
      "68\n"
     ]
    }
   ],
   "source": [
    "lst=[]\n",
    "for i in d1.values():\n",
    "    if type(i)==list:\n",
    "        lst.append(max(i))\n",
    "    elif type(i)==tuple:\n",
    "        lst.append(max(i))\n",
    "    elif type(i)==dict:\n",
    "        lst.append(max(i.values()))\n",
    "    elif type(i) == str:\n",
    "        pass\n",
    "    else:\n",
    "        lst.append(i)\n",
    "print(max(lst))"
   ]
  },
  {
   "cell_type": "code",
   "execution_count": null,
   "id": "1e524df4-0fe0-4289-b2e8-332f240d1276",
   "metadata": {},
   "outputs": [],
   "source": []
  }
 ],
 "metadata": {
  "kernelspec": {
   "display_name": "Python 3 (ipykernel)",
   "language": "python",
   "name": "python3"
  },
  "language_info": {
   "codemirror_mode": {
    "name": "ipython",
    "version": 3
   },
   "file_extension": ".py",
   "mimetype": "text/x-python",
   "name": "python",
   "nbconvert_exporter": "python",
   "pygments_lexer": "ipython3",
   "version": "3.10.6"
  }
 },
 "nbformat": 4,
 "nbformat_minor": 5
}
