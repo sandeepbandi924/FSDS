{
 "cells": [
  {
   "cell_type": "code",
   "execution_count": 1,
   "id": "9f935129-6f19-4c14-9aac-32e5190f4979",
   "metadata": {},
   "outputs": [
    {
     "name": "stdout",
     "output_type": "stream",
     "text": [
      "The Zen of Python, by Tim Peters\n",
      "\n",
      "Beautiful is better than ugly.\n",
      "Explicit is better than implicit.\n",
      "Simple is better than complex.\n",
      "Complex is better than complicated.\n",
      "Flat is better than nested.\n",
      "Sparse is better than dense.\n",
      "Readability counts.\n",
      "Special cases aren't special enough to break the rules.\n",
      "Although practicality beats purity.\n",
      "Errors should never pass silently.\n",
      "Unless explicitly silenced.\n",
      "In the face of ambiguity, refuse the temptation to guess.\n",
      "There should be one-- and preferably only one --obvious way to do it.\n",
      "Although that way may not be obvious at first unless you're Dutch.\n",
      "Now is better than never.\n",
      "Although never is often better than *right* now.\n",
      "If the implementation is hard to explain, it's a bad idea.\n",
      "If the implementation is easy to explain, it may be a good idea.\n",
      "Namespaces are one honking great idea -- let's do more of those!\n"
     ]
    }
   ],
   "source": [
    "import this"
   ]
  },
  {
   "cell_type": "code",
   "execution_count": 3,
   "id": "00044396-8f2d-4044-9abe-f6865afb8877",
   "metadata": {},
   "outputs": [
    {
     "name": "stdout",
     "output_type": "stream",
     "text": [
      "This is my first program\n"
     ]
    }
   ],
   "source": [
    "print('This is my first program')"
   ]
  },
  {
   "cell_type": "code",
   "execution_count": 5,
   "id": "05b48025-6012-4476-ac58-bd1ae16445ca",
   "metadata": {},
   "outputs": [
    {
     "data": {
      "text/plain": [
       "3"
      ]
     },
     "execution_count": 5,
     "metadata": {},
     "output_type": "execute_result"
    }
   ],
   "source": [
    "1+2"
   ]
  },
  {
   "cell_type": "code",
   "execution_count": 6,
   "id": "ad5b0964-566b-44cc-b406-7527bf2abf9b",
   "metadata": {},
   "outputs": [
    {
     "data": {
      "text/plain": [
       "0.42857142857142855"
      ]
     },
     "execution_count": 6,
     "metadata": {},
     "output_type": "execute_result"
    }
   ],
   "source": [
    "3/7"
   ]
  },
  {
   "cell_type": "code",
   "execution_count": 7,
   "id": "a6a712aa-4694-4d1b-9d63-d85ab9e4c9a8",
   "metadata": {},
   "outputs": [
    {
     "data": {
      "text/plain": [
       "4"
      ]
     },
     "execution_count": 7,
     "metadata": {},
     "output_type": "execute_result"
    }
   ],
   "source": [
    "1+3"
   ]
  },
  {
   "cell_type": "code",
   "execution_count": null,
   "id": "b3b52bc1-64d2-4780-8940-fb3af8e0151b",
   "metadata": {},
   "outputs": [],
   "source": [
    "# variable- kind of entity which help to hold the data \n",
    "a = 10"
   ]
  },
  {
   "cell_type": "code",
   "execution_count": 8,
   "id": "1cb907a0-dd74-4cc1-825f-c1f370d47da5",
   "metadata": {},
   "outputs": [],
   "source": [
    "sand = 456"
   ]
  },
  {
   "cell_type": "code",
   "execution_count": 9,
   "id": "7b10eb3f-68a5-47c6-9380-e500bd7f6a0a",
   "metadata": {},
   "outputs": [],
   "source": [
    "re = 1123"
   ]
  },
  {
   "cell_type": "code",
   "execution_count": 10,
   "id": "537f7c27-729f-44cf-b091-1d3d1673fd3d",
   "metadata": {},
   "outputs": [
    {
     "data": {
      "text/plain": [
       "456"
      ]
     },
     "execution_count": 10,
     "metadata": {},
     "output_type": "execute_result"
    }
   ],
   "source": [
    "sand"
   ]
  },
  {
   "cell_type": "code",
   "execution_count": 11,
   "id": "ab79a41a-2201-4ecf-9b53-46497a8286d4",
   "metadata": {},
   "outputs": [
    {
     "data": {
      "text/plain": [
       "int"
      ]
     },
     "execution_count": 11,
     "metadata": {},
     "output_type": "execute_result"
    }
   ],
   "source": [
    "type(sand)"
   ]
  },
  {
   "cell_type": "code",
   "execution_count": 12,
   "id": "c0cb35cb-f965-4a41-8ee4-d5a65de3b842",
   "metadata": {},
   "outputs": [
    {
     "data": {
      "text/plain": [
       "int"
      ]
     },
     "execution_count": 12,
     "metadata": {},
     "output_type": "execute_result"
    }
   ],
   "source": [
    "type(re)"
   ]
  },
  {
   "cell_type": "code",
   "execution_count": 13,
   "id": "ff040724-3a52-4abf-90ed-d61d5a2bb43a",
   "metadata": {},
   "outputs": [],
   "source": [
    "b = 45.67"
   ]
  },
  {
   "cell_type": "code",
   "execution_count": 14,
   "id": "88f7837a-45f5-466d-b46c-ab7d91bb667c",
   "metadata": {},
   "outputs": [
    {
     "data": {
      "text/plain": [
       "float"
      ]
     },
     "execution_count": 14,
     "metadata": {},
     "output_type": "execute_result"
    }
   ],
   "source": [
    "type(b)"
   ]
  },
  {
   "cell_type": "code",
   "execution_count": 15,
   "id": "f88d47b5-ea8c-40ed-a061-de88de026c64",
   "metadata": {},
   "outputs": [],
   "source": [
    "c = 'sand'"
   ]
  },
  {
   "cell_type": "code",
   "execution_count": 16,
   "id": "c6e3149c-f45f-4935-96ef-b94c7e2ce450",
   "metadata": {},
   "outputs": [
    {
     "data": {
      "text/plain": [
       "str"
      ]
     },
     "execution_count": 16,
     "metadata": {},
     "output_type": "execute_result"
    }
   ],
   "source": [
    "type(c)"
   ]
  },
  {
   "cell_type": "code",
   "execution_count": 19,
   "id": "2ee2fdd5-ad3a-41cc-9c72-cd31ce4f434c",
   "metadata": {},
   "outputs": [],
   "source": [
    "d = 5 + 2j"
   ]
  },
  {
   "cell_type": "code",
   "execution_count": 21,
   "id": "5c52d824-b7e1-4ff1-bb37-ea750022ce71",
   "metadata": {},
   "outputs": [
    {
     "data": {
      "text/plain": [
       "(5+2j)"
      ]
     },
     "execution_count": 21,
     "metadata": {},
     "output_type": "execute_result"
    }
   ],
   "source": [
    "d"
   ]
  },
  {
   "cell_type": "code",
   "execution_count": 20,
   "id": "3be60d70-2d32-44db-80ef-2f903786b2e6",
   "metadata": {},
   "outputs": [
    {
     "data": {
      "text/plain": [
       "complex"
      ]
     },
     "execution_count": 20,
     "metadata": {},
     "output_type": "execute_result"
    }
   ],
   "source": [
    "type(d)"
   ]
  },
  {
   "cell_type": "code",
   "execution_count": 22,
   "id": "3139a493-b73a-4c83-93d7-9f68c07dc535",
   "metadata": {},
   "outputs": [],
   "source": [
    "e = 'sudh'"
   ]
  },
  {
   "cell_type": "code",
   "execution_count": 23,
   "id": "3e138e2a-f4dc-4928-8d2a-12d2c55562f0",
   "metadata": {},
   "outputs": [
    {
     "data": {
      "text/plain": [
       "'sudh'"
      ]
     },
     "execution_count": 23,
     "metadata": {},
     "output_type": "execute_result"
    }
   ],
   "source": [
    "e"
   ]
  },
  {
   "cell_type": "code",
   "execution_count": 26,
   "id": "f5452f8a-5410-4c0b-af8b-59db6343dced",
   "metadata": {},
   "outputs": [],
   "source": [
    "n='hshsdkhsdklhamznjkdzdshhdhdsiddhkjhdsfgbdfhjkhn'"
   ]
  },
  {
   "cell_type": "code",
   "execution_count": 27,
   "id": "86465677-acb9-4041-a002-bf8e964987ff",
   "metadata": {},
   "outputs": [],
   "source": [
    "g = True"
   ]
  },
  {
   "cell_type": "code",
   "execution_count": 28,
   "id": "6a321a04-1a99-4c6a-aac3-301c54bedf95",
   "metadata": {},
   "outputs": [
    {
     "data": {
      "text/plain": [
       "bool"
      ]
     },
     "execution_count": 28,
     "metadata": {},
     "output_type": "execute_result"
    }
   ],
   "source": [
    "type(g)"
   ]
  },
  {
   "cell_type": "code",
   "execution_count": 29,
   "id": "38143f5b-889f-4e5f-82a7-501a6a2a327a",
   "metadata": {},
   "outputs": [
    {
     "ename": "SyntaxError",
     "evalue": "starred assignment target must be in a list or tuple (456700294.py, line 1)",
     "output_type": "error",
     "traceback": [
      "\u001b[0;36m  Cell \u001b[0;32mIn [29], line 1\u001b[0;36m\u001b[0m\n\u001b[0;31m    *a = 67\u001b[0m\n\u001b[0m    ^\u001b[0m\n\u001b[0;31mSyntaxError\u001b[0m\u001b[0;31m:\u001b[0m starred assignment target must be in a list or tuple\n"
     ]
    }
   ],
   "source": [
    "*a = 67"
   ]
  },
  {
   "cell_type": "code",
   "execution_count": 30,
   "id": "0b90a6c4-dd85-4831-8990-92d783328fff",
   "metadata": {},
   "outputs": [],
   "source": [
    "_a = 45"
   ]
  },
  {
   "cell_type": "code",
   "execution_count": 31,
   "id": "49196962-bb05-482f-857b-dd3394b399b2",
   "metadata": {},
   "outputs": [],
   "source": [
    "a = 34"
   ]
  },
  {
   "cell_type": "code",
   "execution_count": 32,
   "id": "20b6537f-5d35-47b3-90b7-37d27a7d48e0",
   "metadata": {},
   "outputs": [
    {
     "data": {
      "text/plain": [
       "34"
      ]
     },
     "execution_count": 32,
     "metadata": {},
     "output_type": "execute_result"
    }
   ],
   "source": [
    "a"
   ]
  },
  {
   "cell_type": "code",
   "execution_count": 33,
   "id": "3d023d37-b987-4d47-a7c7-0d81125ffa68",
   "metadata": {},
   "outputs": [],
   "source": [
    "a = 5464\n",
    "b = 'sand'\n",
    "c = 6 + 7j\n",
    "d = True\n",
    "e = 54.67"
   ]
  },
  {
   "cell_type": "code",
   "execution_count": 34,
   "id": "23931f36-d5fd-460f-ac25-8ff7d4b6c616",
   "metadata": {},
   "outputs": [
    {
     "data": {
      "text/plain": [
       "5464"
      ]
     },
     "execution_count": 34,
     "metadata": {},
     "output_type": "execute_result"
    }
   ],
   "source": [
    "a"
   ]
  },
  {
   "cell_type": "code",
   "execution_count": 35,
   "id": "b94ffee5-f809-4fdf-ae39-43474645f940",
   "metadata": {},
   "outputs": [],
   "source": [
    "a1=9877"
   ]
  },
  {
   "cell_type": "code",
   "execution_count": 36,
   "id": "2e3f997e-2cd8-4d9d-bc6a-f591d59d3afa",
   "metadata": {},
   "outputs": [
    {
     "data": {
      "text/plain": [
       "15341"
      ]
     },
     "execution_count": 36,
     "metadata": {},
     "output_type": "execute_result"
    }
   ],
   "source": [
    "a + a1"
   ]
  },
  {
   "cell_type": "code",
   "execution_count": 37,
   "id": "d3c7b6ce-5a1b-44fd-ad07-67709dda7e67",
   "metadata": {},
   "outputs": [],
   "source": [
    "\n",
    "a,b,c,d,e = 234,'sand',4 +5j,False,45.32"
   ]
  },
  {
   "cell_type": "code",
   "execution_count": 38,
   "id": "514bf4b1-c218-47e7-974a-8bb5bc18935b",
   "metadata": {},
   "outputs": [
    {
     "data": {
      "text/plain": [
       "234"
      ]
     },
     "execution_count": 38,
     "metadata": {},
     "output_type": "execute_result"
    }
   ],
   "source": [
    "a"
   ]
  },
  {
   "cell_type": "code",
   "execution_count": 39,
   "id": "af46267f-23ff-4c4d-b85b-6b18c3df10e2",
   "metadata": {},
   "outputs": [
    {
     "data": {
      "text/plain": [
       "'sand'"
      ]
     },
     "execution_count": 39,
     "metadata": {},
     "output_type": "execute_result"
    }
   ],
   "source": [
    "b"
   ]
  },
  {
   "cell_type": "code",
   "execution_count": 40,
   "id": "23701cf3-6b59-4451-b444-b2aaa4bc2119",
   "metadata": {},
   "outputs": [
    {
     "data": {
      "text/plain": [
       "(4+5j)"
      ]
     },
     "execution_count": 40,
     "metadata": {},
     "output_type": "execute_result"
    }
   ],
   "source": [
    "c"
   ]
  },
  {
   "cell_type": "code",
   "execution_count": 41,
   "id": "b12020d4-3094-45f6-8837-e29ab58a5f07",
   "metadata": {},
   "outputs": [
    {
     "data": {
      "text/plain": [
       "complex"
      ]
     },
     "execution_count": 41,
     "metadata": {},
     "output_type": "execute_result"
    }
   ],
   "source": [
    "type(c)"
   ]
  },
  {
   "cell_type": "code",
   "execution_count": 42,
   "id": "d31fc5c1-9bf2-4c6c-a163-43226477321b",
   "metadata": {},
   "outputs": [
    {
     "data": {
      "text/plain": [
       "5.0"
      ]
     },
     "execution_count": 42,
     "metadata": {},
     "output_type": "execute_result"
    }
   ],
   "source": [
    "c.imag"
   ]
  },
  {
   "cell_type": "code",
   "execution_count": 43,
   "id": "f3e8fbe4-fb5d-42f5-9eba-08b104ff0876",
   "metadata": {},
   "outputs": [
    {
     "data": {
      "text/plain": [
       "4.0"
      ]
     },
     "execution_count": 43,
     "metadata": {},
     "output_type": "execute_result"
    }
   ],
   "source": [
    "c.real"
   ]
  },
  {
   "cell_type": "code",
   "execution_count": 45,
   "id": "487e0f75-4dc7-4433-ab6e-642b4e4014e7",
   "metadata": {},
   "outputs": [
    {
     "data": {
      "text/plain": [
       "(4-5j)"
      ]
     },
     "execution_count": 45,
     "metadata": {},
     "output_type": "execute_result"
    }
   ],
   "source": [
    "c.conjugate()"
   ]
  },
  {
   "cell_type": "code",
   "execution_count": 46,
   "id": "d365c762-b467-49c8-80c7-307d111686e2",
   "metadata": {},
   "outputs": [
    {
     "data": {
      "text/plain": [
       "'sand'"
      ]
     },
     "execution_count": 46,
     "metadata": {},
     "output_type": "execute_result"
    }
   ],
   "source": [
    "b"
   ]
  },
  {
   "cell_type": "code",
   "execution_count": 47,
   "id": "7acda4ea-a2f8-49ac-b92d-0c3b44799bee",
   "metadata": {},
   "outputs": [],
   "source": [
    "a = 'sand'"
   ]
  },
  {
   "cell_type": "code",
   "execution_count": 48,
   "id": "44b42a21-4b75-4314-b4c7-fbf83594e214",
   "metadata": {},
   "outputs": [
    {
     "ename": "TypeError",
     "evalue": "can only concatenate str (not \"int\") to str",
     "output_type": "error",
     "traceback": [
      "\u001b[0;31m---------------------------------------------------------------------------\u001b[0m",
      "\u001b[0;31mTypeError\u001b[0m                                 Traceback (most recent call last)",
      "Cell \u001b[0;32mIn [48], line 1\u001b[0m\n\u001b[0;32m----> 1\u001b[0m \u001b[43ma\u001b[49m\u001b[43m \u001b[49m\u001b[38;5;241;43m+\u001b[39;49m\u001b[43m \u001b[49m\u001b[38;5;241;43m4\u001b[39;49m\n",
      "\u001b[0;31mTypeError\u001b[0m: can only concatenate str (not \"int\") to str"
     ]
    }
   ],
   "source": [
    "a + 4 "
   ]
  },
  {
   "cell_type": "code",
   "execution_count": 49,
   "id": "8c0acf6e-7175-419b-a419-e0ede894a5f8",
   "metadata": {},
   "outputs": [
    {
     "data": {
      "text/plain": [
       "'sand4'"
      ]
     },
     "execution_count": 49,
     "metadata": {},
     "output_type": "execute_result"
    }
   ],
   "source": [
    "a + '4' "
   ]
  },
  {
   "cell_type": "code",
   "execution_count": 50,
   "id": "02e2d696-4d34-4856-8d10-e76bd7e4c63f",
   "metadata": {},
   "outputs": [
    {
     "data": {
      "text/plain": [
       "'sand4'"
      ]
     },
     "execution_count": 50,
     "metadata": {},
     "output_type": "execute_result"
    }
   ],
   "source": [
    "a + str(4)"
   ]
  },
  {
   "cell_type": "code",
   "execution_count": 51,
   "id": "415753bc-fbc7-48ce-aedb-83287fe6077a",
   "metadata": {},
   "outputs": [
    {
     "data": {
      "text/plain": [
       "2"
      ]
     },
     "execution_count": 51,
     "metadata": {},
     "output_type": "execute_result"
    }
   ],
   "source": [
    "True + True"
   ]
  },
  {
   "cell_type": "code",
   "execution_count": 52,
   "id": "c8247a2a-8d1a-4ee6-a9c7-79d1465299ec",
   "metadata": {},
   "outputs": [
    {
     "data": {
      "text/plain": [
       "1"
      ]
     },
     "execution_count": 52,
     "metadata": {},
     "output_type": "execute_result"
    }
   ],
   "source": [
    "True - False"
   ]
  },
  {
   "cell_type": "code",
   "execution_count": 53,
   "id": "269e6249-e7e8-45a3-b8de-fbe34612f204",
   "metadata": {},
   "outputs": [
    {
     "data": {
      "text/plain": [
       "2"
      ]
     },
     "execution_count": 53,
     "metadata": {},
     "output_type": "execute_result"
    }
   ],
   "source": [
    "1 + True"
   ]
  },
  {
   "cell_type": "code",
   "execution_count": 59,
   "id": "2463e1c6-314b-4314-8d0b-c7474dadf338",
   "metadata": {},
   "outputs": [
    {
     "name": "stdin",
     "output_type": "stream",
     "text": [
      " 4567\n"
     ]
    }
   ],
   "source": [
    "a = input()"
   ]
  },
  {
   "cell_type": "code",
   "execution_count": 60,
   "id": "fe66cc6b-12f0-4183-af3b-8d7fe002a32e",
   "metadata": {},
   "outputs": [
    {
     "data": {
      "text/plain": [
       "'4567'"
      ]
     },
     "execution_count": 60,
     "metadata": {},
     "output_type": "execute_result"
    }
   ],
   "source": [
    "a"
   ]
  },
  {
   "cell_type": "code",
   "execution_count": null,
   "id": "be506450-cd8d-4d15-97e3-55d7580d5ac8",
   "metadata": {},
   "outputs": [],
   "source": []
  },
  {
   "cell_type": "code",
   "execution_count": 61,
   "id": "d73c7425-b3e4-4cbd-9788-1696b950dbf9",
   "metadata": {},
   "outputs": [],
   "source": [
    "b = 45"
   ]
  },
  {
   "cell_type": "code",
   "execution_count": 63,
   "id": "dea3b9a3-1dd8-4f06-8d6f-50ba1a3155fa",
   "metadata": {},
   "outputs": [
    {
     "ename": "TypeError",
     "evalue": "can only concatenate str (not \"int\") to str",
     "output_type": "error",
     "traceback": [
      "\u001b[0;31m---------------------------------------------------------------------------\u001b[0m",
      "\u001b[0;31mTypeError\u001b[0m                                 Traceback (most recent call last)",
      "Cell \u001b[0;32mIn [63], line 1\u001b[0m\n\u001b[0;32m----> 1\u001b[0m \u001b[43ma\u001b[49m\u001b[43m \u001b[49m\u001b[38;5;241;43m+\u001b[39;49m\u001b[43m \u001b[49m\u001b[43mb\u001b[49m\n",
      "\u001b[0;31mTypeError\u001b[0m: can only concatenate str (not \"int\") to str"
     ]
    }
   ],
   "source": [
    "a + b"
   ]
  },
  {
   "cell_type": "code",
   "execution_count": 64,
   "id": "78871688-cd47-4d9e-b8c3-8c5c31577ac3",
   "metadata": {},
   "outputs": [
    {
     "data": {
      "text/plain": [
       "4612"
      ]
     },
     "execution_count": 64,
     "metadata": {},
     "output_type": "execute_result"
    }
   ],
   "source": [
    "int(a) + b  #typecast"
   ]
  },
  {
   "cell_type": "code",
   "execution_count": 65,
   "id": "9ccba7d7-b259-42cb-bf9e-30db93f17e17",
   "metadata": {},
   "outputs": [
    {
     "data": {
      "text/plain": [
       "454687"
      ]
     },
     "execution_count": 65,
     "metadata": {},
     "output_type": "execute_result"
    }
   ],
   "source": [
    "int('454687')"
   ]
  },
  {
   "cell_type": "code",
   "execution_count": 66,
   "id": "0d3d1475-a347-441d-8bcf-fc4ba9709b28",
   "metadata": {},
   "outputs": [
    {
     "data": {
      "text/plain": [
       "'5455688'"
      ]
     },
     "execution_count": 66,
     "metadata": {},
     "output_type": "execute_result"
    }
   ],
   "source": [
    "str(5455688)"
   ]
  },
  {
   "cell_type": "code",
   "execution_count": 67,
   "id": "7ceb5ee1-88db-4863-95b5-d5b0292a7f03",
   "metadata": {},
   "outputs": [
    {
     "name": "stdin",
     "output_type": "stream",
     "text": [
      " sandeep\n"
     ]
    }
   ],
   "source": [
    "a = input()"
   ]
  },
  {
   "cell_type": "code",
   "execution_count": 68,
   "id": "d880a960-69df-4014-af4a-699606e3e9b8",
   "metadata": {},
   "outputs": [
    {
     "data": {
      "text/plain": [
       "'sandeep'"
      ]
     },
     "execution_count": 68,
     "metadata": {},
     "output_type": "execute_result"
    }
   ],
   "source": [
    "a"
   ]
  },
  {
   "cell_type": "code",
   "execution_count": null,
   "id": "b6195cac-a159-4e67-a532-c90af3701f3c",
   "metadata": {},
   "outputs": [],
   "source": []
  }
 ],
 "metadata": {
  "kernelspec": {
   "display_name": "Python 3 (ipykernel)",
   "language": "python",
   "name": "python3"
  },
  "language_info": {
   "codemirror_mode": {
    "name": "ipython",
    "version": 3
   },
   "file_extension": ".py",
   "mimetype": "text/x-python",
   "name": "python",
   "nbconvert_exporter": "python",
   "pygments_lexer": "ipython3",
   "version": "3.10.6"
  }
 },
 "nbformat": 4,
 "nbformat_minor": 5
}
