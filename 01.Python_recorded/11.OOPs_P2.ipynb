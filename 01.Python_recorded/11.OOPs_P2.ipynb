{
 "cells": [
  {
   "cell_type": "code",
   "execution_count": 1,
   "id": "2dcdd9db-391a-4a95-aff6-41463db4fd4d",
   "metadata": {},
   "outputs": [],
   "source": [
    "# inheritance , polymorphism and encapsulation"
   ]
  },
  {
   "cell_type": "code",
   "execution_count": 10,
   "id": "1a52f022-c8bb-4b08-87ce-bbe7d58faf39",
   "metadata": {},
   "outputs": [],
   "source": [
    "class xyz :\n",
    "    def __init__(self , a , b , c):\n",
    "        self.a = a\n",
    "        self.b = b\n",
    "        self.c = c\n",
    "    \n",
    "    def test(self):\n",
    "        print('This is my first test method of xyz class')\n",
    "    \n",
    "    def test1(self):\n",
    "        print('This is my first test1 method of xyz class')\n",
    "        \n",
    "    def test2(self):\n",
    "        print('This is my first test2 method of xyz class')\n",
    "    \n",
    "    "
   ]
  },
  {
   "cell_type": "code",
   "execution_count": 11,
   "id": "2b7df3d4-d1f3-4dd9-ac17-30cfa36c5614",
   "metadata": {},
   "outputs": [],
   "source": [
    "p = xyz(1,2,3)"
   ]
  },
  {
   "cell_type": "code",
   "execution_count": 12,
   "id": "7c65a7ed-ff9e-45d7-be73-7233ddd0302e",
   "metadata": {},
   "outputs": [
    {
     "name": "stdout",
     "output_type": "stream",
     "text": [
      "This is my first test1 method of xyz class\n"
     ]
    }
   ],
   "source": [
    "p.test1()"
   ]
  },
  {
   "cell_type": "code",
   "execution_count": null,
   "id": "c6a4d1ee-78e3-4d28-9a46-2463a03409e5",
   "metadata": {},
   "outputs": [],
   "source": []
  },
  {
   "cell_type": "code",
   "execution_count": 13,
   "id": "3fd0beb3-524c-4fd3-ad36-2b01918a4f93",
   "metadata": {},
   "outputs": [],
   "source": [
    "class xyz1(xyz) :\n",
    "    pass"
   ]
  },
  {
   "cell_type": "code",
   "execution_count": 14,
   "id": "2c897f1a-0524-4111-b740-ee9c2eab1852",
   "metadata": {},
   "outputs": [],
   "source": [
    "q = xyz1(3,4,5)"
   ]
  },
  {
   "cell_type": "code",
   "execution_count": 15,
   "id": "08518408-c006-422e-baf3-a79dabbc1cba",
   "metadata": {},
   "outputs": [
    {
     "name": "stdout",
     "output_type": "stream",
     "text": [
      "This is my first test1 method of xyz class\n"
     ]
    }
   ],
   "source": [
    "q.test1()"
   ]
  },
  {
   "cell_type": "code",
   "execution_count": 16,
   "id": "372891ed-a1dd-4160-bba5-7687e0dcae63",
   "metadata": {},
   "outputs": [],
   "source": [
    "class xyz1(xyz):\n",
    "    def test(self):\n",
    "        print('This is a test method available in xyz1')\n",
    "        \n",
    "        "
   ]
  },
  {
   "cell_type": "code",
   "execution_count": 18,
   "id": "f644c147-5c53-4ac4-a4d9-f445c30c4f37",
   "metadata": {},
   "outputs": [],
   "source": [
    "e = xyz1(4,5,6)"
   ]
  },
  {
   "cell_type": "code",
   "execution_count": 19,
   "id": "0ac3b973-5155-4fe9-89dd-60bbcbff3468",
   "metadata": {},
   "outputs": [
    {
     "name": "stdout",
     "output_type": "stream",
     "text": [
      "This is a test method available in xyz1\n"
     ]
    }
   ],
   "source": [
    "e.test()   #method overide "
   ]
  },
  {
   "cell_type": "code",
   "execution_count": 44,
   "id": "2a5c8959-971c-49d0-963c-5d90ef534e0b",
   "metadata": {},
   "outputs": [],
   "source": [
    "#multiple inheritance\n",
    "\n",
    "class xyz():\n",
    "    def __init__(self,a,b,c):\n",
    "        self.a = a\n",
    "        self.b = b\n",
    "        self.c = c\n",
    "    def test(self):\n",
    "        print('This is a meth of xyz class')\n",
    "\n",
    "class xyz1 :\n",
    "    def __init__(self,p,q,v):\n",
    "        self.p = p\n",
    "        self.q = q\n",
    "        self.v = v\n",
    "    def test1(self):\n",
    "        print('this is methg of class xyz1')\n",
    "\n",
    "class child(xyz1 , xyz):\n",
    "    def __init__(self,*args,**kwargs1):\n",
    "        xyz.__init__(self, *args)\n",
    "        xyz1.__init__(self, **kwargs1)\n"
   ]
  },
  {
   "cell_type": "code",
   "execution_count": null,
   "id": "6ad1f23c-24ed-492d-afb7-2e197ef8dceb",
   "metadata": {},
   "outputs": [],
   "source": []
  },
  {
   "cell_type": "code",
   "execution_count": 48,
   "id": "fe1ab228-d74c-45cc-9d27-f63ec93c2ebb",
   "metadata": {},
   "outputs": [
    {
     "data": {
      "text/plain": [
       "3"
      ]
     },
     "execution_count": 48,
     "metadata": {},
     "output_type": "execute_result"
    }
   ],
   "source": [
    "n.p"
   ]
  },
  {
   "cell_type": "code",
   "execution_count": 49,
   "id": "cb5e1754-6752-446b-96ec-7fd532fafa76",
   "metadata": {},
   "outputs": [
    {
     "data": {
      "text/plain": [
       "5"
      ]
     },
     "execution_count": 49,
     "metadata": {},
     "output_type": "execute_result"
    }
   ],
   "source": [
    "n.q"
   ]
  },
  {
   "cell_type": "code",
   "execution_count": 50,
   "id": "8d2f3315-943b-4b06-8292-e288eef0dc15",
   "metadata": {},
   "outputs": [
    {
     "data": {
      "text/plain": [
       "4"
      ]
     },
     "execution_count": 50,
     "metadata": {},
     "output_type": "execute_result"
    }
   ],
   "source": [
    "n.a"
   ]
  },
  {
   "cell_type": "code",
   "execution_count": 51,
   "id": "b5216737-241c-4533-ab95-a8d621fef415",
   "metadata": {},
   "outputs": [
    {
     "name": "stdout",
     "output_type": "stream",
     "text": [
      "This is a meth of xyz class\n"
     ]
    }
   ],
   "source": [
    "n.test()"
   ]
  },
  {
   "cell_type": "code",
   "execution_count": 57,
   "id": "a14be274-5673-4d8d-9909-5039f05247b6",
   "metadata": {},
   "outputs": [],
   "source": [
    "#multi level inheritance\n",
    "\n",
    "class xyz():\n",
    "    def __init__(self,a,b,c):\n",
    "        self.a = a\n",
    "        self.b = b\n",
    "        self.c = c\n",
    "    def test(self):\n",
    "        print('This is a meth of xyz class')\n",
    "\n",
    "class xyz1(xyz) :\n",
    "    \n",
    "    def test1(self):\n",
    "        print('this is methg of class xyz1')\n",
    "        \n",
    "class xyz2(xyz1):\n",
    "    \n",
    "    def test2(self):\n",
    "        print('This is meth of xyz2')\n",
    "        \n",
    "class xyz3(xyz2):\n",
    "    \n",
    "    def test3(self):\n",
    "        print('This is meth of xyz3')\n",
    "        "
   ]
  },
  {
   "cell_type": "code",
   "execution_count": 56,
   "id": "5d74581e-354c-40ff-9824-fc8b26092ec3",
   "metadata": {},
   "outputs": [],
   "source": [
    "v = xyz2(6,7,8)"
   ]
  },
  {
   "cell_type": "code",
   "execution_count": 60,
   "id": "d75edb72-9b98-4aa8-9bf1-5b9d8e91eff8",
   "metadata": {},
   "outputs": [],
   "source": [
    "m = xyz3(2,3,4)"
   ]
  },
  {
   "cell_type": "code",
   "execution_count": null,
   "id": "c8602d1a-c386-4a7b-ba6e-e207880c9976",
   "metadata": {},
   "outputs": [],
   "source": [
    "m."
   ]
  },
  {
   "cell_type": "code",
   "execution_count": null,
   "id": "ea7aa61c-4426-45dd-b0a4-2fd5d8e7438b",
   "metadata": {},
   "outputs": [],
   "source": []
  },
  {
   "cell_type": "code",
   "execution_count": null,
   "id": "e717cd54-be92-411b-a445-487fe9463d39",
   "metadata": {},
   "outputs": [],
   "source": [
    "q1.create a file class for reading data from resective file with na method name read and write\n",
    "q2. try to inherit read and write from parent class to child class to perform read and write operation"
   ]
  },
  {
   "cell_type": "code",
   "execution_count": 1,
   "id": "7fdaee7d-addd-49e5-9e8f-825d3be76413",
   "metadata": {},
   "outputs": [
    {
     "name": "stderr",
     "output_type": "stream",
     "text": [
      "--- Logging error ---\n",
      "Traceback (most recent call last):\n",
      "  File \"/opt/conda/lib/python3.10/logging/__init__.py\", line 1100, in emit\n",
      "    msg = self.format(record)\n",
      "  File \"/opt/conda/lib/python3.10/logging/__init__.py\", line 943, in format\n",
      "    return fmt.format(record)\n",
      "  File \"/opt/conda/lib/python3.10/logging/__init__.py\", line 681, in format\n",
      "    s = self.formatMessage(record)\n",
      "  File \"/opt/conda/lib/python3.10/logging/__init__.py\", line 650, in formatMessage\n",
      "    return self._style.format(record)\n",
      "  File \"/opt/conda/lib/python3.10/logging/__init__.py\", line 440, in format\n",
      "    return self._format(record)\n",
      "  File \"/opt/conda/lib/python3.10/logging/__init__.py\", line 436, in _format\n",
      "    return self._fmt % values\n",
      "TypeError: not enough arguments for format string\n",
      "Call stack:\n",
      "  File \"/opt/conda/lib/python3.10/runpy.py\", line 196, in _run_module_as_main\n",
      "    return _run_code(code, main_globals, None,\n",
      "  File \"/opt/conda/lib/python3.10/runpy.py\", line 86, in _run_code\n",
      "    exec(code, run_globals)\n",
      "  File \"/opt/conda/lib/python3.10/site-packages/ipykernel_launcher.py\", line 17, in <module>\n",
      "    app.launch_new_instance()\n",
      "  File \"/opt/conda/lib/python3.10/site-packages/traitlets/config/application.py\", line 982, in launch_instance\n",
      "    app.start()\n",
      "  File \"/opt/conda/lib/python3.10/site-packages/ipykernel/kernelapp.py\", line 712, in start\n",
      "    self.io_loop.start()\n",
      "  File \"/opt/conda/lib/python3.10/site-packages/tornado/platform/asyncio.py\", line 199, in start\n",
      "    self.asyncio_loop.run_forever()\n",
      "  File \"/opt/conda/lib/python3.10/asyncio/base_events.py\", line 600, in run_forever\n",
      "    self._run_once()\n",
      "  File \"/opt/conda/lib/python3.10/asyncio/base_events.py\", line 1896, in _run_once\n",
      "    handle._run()\n",
      "  File \"/opt/conda/lib/python3.10/asyncio/events.py\", line 80, in _run\n",
      "    self._context.run(self._callback, *self._args)\n",
      "  File \"/opt/conda/lib/python3.10/site-packages/ipykernel/kernelbase.py\", line 510, in dispatch_queue\n",
      "    await self.process_one()\n",
      "  File \"/opt/conda/lib/python3.10/site-packages/ipykernel/kernelbase.py\", line 499, in process_one\n",
      "    await dispatch(*args)\n",
      "  File \"/opt/conda/lib/python3.10/site-packages/ipykernel/kernelbase.py\", line 406, in dispatch_shell\n",
      "    await result\n",
      "  File \"/opt/conda/lib/python3.10/site-packages/ipykernel/kernelbase.py\", line 730, in execute_request\n",
      "    reply_content = await reply_content\n",
      "  File \"/opt/conda/lib/python3.10/site-packages/ipykernel/ipkernel.py\", line 383, in do_execute\n",
      "    res = shell.run_cell(\n",
      "  File \"/opt/conda/lib/python3.10/site-packages/ipykernel/zmqshell.py\", line 528, in run_cell\n",
      "    return super().run_cell(*args, **kwargs)\n",
      "  File \"/opt/conda/lib/python3.10/site-packages/IPython/core/interactiveshell.py\", line 2885, in run_cell\n",
      "    result = self._run_cell(\n",
      "  File \"/opt/conda/lib/python3.10/site-packages/IPython/core/interactiveshell.py\", line 2940, in _run_cell\n",
      "    return runner(coro)\n",
      "  File \"/opt/conda/lib/python3.10/site-packages/IPython/core/async_helpers.py\", line 129, in _pseudo_sync_runner\n",
      "    coro.send(None)\n",
      "  File \"/opt/conda/lib/python3.10/site-packages/IPython/core/interactiveshell.py\", line 3139, in run_cell_async\n",
      "    has_raised = await self.run_ast_nodes(code_ast.body, cell_name,\n",
      "  File \"/opt/conda/lib/python3.10/site-packages/IPython/core/interactiveshell.py\", line 3318, in run_ast_nodes\n",
      "    if await self.run_code(code, result, async_=asy):\n",
      "  File \"/opt/conda/lib/python3.10/site-packages/IPython/core/interactiveshell.py\", line 3378, in run_code\n",
      "    exec(code_obj, self.user_global_ns, self.user_ns)\n",
      "  File \"/tmp/ipykernel_3617/3159412053.py\", line 34, in <module>\n",
      "    obj = child('abc')\n",
      "  File \"/tmp/ipykernel_3617/3159412053.py\", line 9, in __init__\n",
      "    logging.info('Reading a file ')\n",
      "Message: 'Reading a file '\n",
      "Arguments: ()\n",
      "--- Logging error ---\n",
      "Traceback (most recent call last):\n",
      "  File \"/opt/conda/lib/python3.10/logging/__init__.py\", line 1100, in emit\n",
      "    msg = self.format(record)\n",
      "  File \"/opt/conda/lib/python3.10/logging/__init__.py\", line 943, in format\n",
      "    return fmt.format(record)\n",
      "  File \"/opt/conda/lib/python3.10/logging/__init__.py\", line 681, in format\n",
      "    s = self.formatMessage(record)\n",
      "  File \"/opt/conda/lib/python3.10/logging/__init__.py\", line 650, in formatMessage\n",
      "    return self._style.format(record)\n",
      "  File \"/opt/conda/lib/python3.10/logging/__init__.py\", line 440, in format\n",
      "    return self._format(record)\n",
      "  File \"/opt/conda/lib/python3.10/logging/__init__.py\", line 436, in _format\n",
      "    return self._fmt % values\n",
      "TypeError: not enough arguments for format string\n",
      "Call stack:\n",
      "  File \"/opt/conda/lib/python3.10/runpy.py\", line 196, in _run_module_as_main\n",
      "    return _run_code(code, main_globals, None,\n",
      "  File \"/opt/conda/lib/python3.10/runpy.py\", line 86, in _run_code\n",
      "    exec(code, run_globals)\n",
      "  File \"/opt/conda/lib/python3.10/site-packages/ipykernel_launcher.py\", line 17, in <module>\n",
      "    app.launch_new_instance()\n",
      "  File \"/opt/conda/lib/python3.10/site-packages/traitlets/config/application.py\", line 982, in launch_instance\n",
      "    app.start()\n",
      "  File \"/opt/conda/lib/python3.10/site-packages/ipykernel/kernelapp.py\", line 712, in start\n",
      "    self.io_loop.start()\n",
      "  File \"/opt/conda/lib/python3.10/site-packages/tornado/platform/asyncio.py\", line 199, in start\n",
      "    self.asyncio_loop.run_forever()\n",
      "  File \"/opt/conda/lib/python3.10/asyncio/base_events.py\", line 600, in run_forever\n",
      "    self._run_once()\n",
      "  File \"/opt/conda/lib/python3.10/asyncio/base_events.py\", line 1896, in _run_once\n",
      "    handle._run()\n",
      "  File \"/opt/conda/lib/python3.10/asyncio/events.py\", line 80, in _run\n",
      "    self._context.run(self._callback, *self._args)\n",
      "  File \"/opt/conda/lib/python3.10/site-packages/ipykernel/kernelbase.py\", line 510, in dispatch_queue\n",
      "    await self.process_one()\n",
      "  File \"/opt/conda/lib/python3.10/site-packages/ipykernel/kernelbase.py\", line 499, in process_one\n",
      "    await dispatch(*args)\n",
      "  File \"/opt/conda/lib/python3.10/site-packages/ipykernel/kernelbase.py\", line 406, in dispatch_shell\n",
      "    await result\n",
      "  File \"/opt/conda/lib/python3.10/site-packages/ipykernel/kernelbase.py\", line 730, in execute_request\n",
      "    reply_content = await reply_content\n",
      "  File \"/opt/conda/lib/python3.10/site-packages/ipykernel/ipkernel.py\", line 383, in do_execute\n",
      "    res = shell.run_cell(\n",
      "  File \"/opt/conda/lib/python3.10/site-packages/ipykernel/zmqshell.py\", line 528, in run_cell\n",
      "    return super().run_cell(*args, **kwargs)\n",
      "  File \"/opt/conda/lib/python3.10/site-packages/IPython/core/interactiveshell.py\", line 2885, in run_cell\n",
      "    result = self._run_cell(\n",
      "  File \"/opt/conda/lib/python3.10/site-packages/IPython/core/interactiveshell.py\", line 2940, in _run_cell\n",
      "    return runner(coro)\n",
      "  File \"/opt/conda/lib/python3.10/site-packages/IPython/core/async_helpers.py\", line 129, in _pseudo_sync_runner\n",
      "    coro.send(None)\n",
      "  File \"/opt/conda/lib/python3.10/site-packages/IPython/core/interactiveshell.py\", line 3139, in run_cell_async\n",
      "    has_raised = await self.run_ast_nodes(code_ast.body, cell_name,\n",
      "  File \"/opt/conda/lib/python3.10/site-packages/IPython/core/interactiveshell.py\", line 3318, in run_ast_nodes\n",
      "    if await self.run_code(code, result, async_=asy):\n",
      "  File \"/opt/conda/lib/python3.10/site-packages/IPython/core/interactiveshell.py\", line 3378, in run_code\n",
      "    exec(code_obj, self.user_global_ns, self.user_ns)\n",
      "  File \"/tmp/ipykernel_3617/3159412053.py\", line 35, in <module>\n",
      "    obj.write('Hello world')\n",
      "  File \"/tmp/ipykernel_3617/3159412053.py\", line 23, in write\n",
      "    logging.info('Executing write method')\n",
      "Message: 'Executing write method'\n",
      "Arguments: ()\n",
      "--- Logging error ---\n",
      "Traceback (most recent call last):\n",
      "  File \"/opt/conda/lib/python3.10/logging/__init__.py\", line 1100, in emit\n",
      "    msg = self.format(record)\n",
      "  File \"/opt/conda/lib/python3.10/logging/__init__.py\", line 943, in format\n",
      "    return fmt.format(record)\n",
      "  File \"/opt/conda/lib/python3.10/logging/__init__.py\", line 681, in format\n",
      "    s = self.formatMessage(record)\n",
      "  File \"/opt/conda/lib/python3.10/logging/__init__.py\", line 650, in formatMessage\n",
      "    return self._style.format(record)\n",
      "  File \"/opt/conda/lib/python3.10/logging/__init__.py\", line 440, in format\n",
      "    return self._format(record)\n",
      "  File \"/opt/conda/lib/python3.10/logging/__init__.py\", line 436, in _format\n",
      "    return self._fmt % values\n",
      "TypeError: not enough arguments for format string\n",
      "Call stack:\n",
      "  File \"/opt/conda/lib/python3.10/runpy.py\", line 196, in _run_module_as_main\n",
      "    return _run_code(code, main_globals, None,\n",
      "  File \"/opt/conda/lib/python3.10/runpy.py\", line 86, in _run_code\n",
      "    exec(code, run_globals)\n",
      "  File \"/opt/conda/lib/python3.10/site-packages/ipykernel_launcher.py\", line 17, in <module>\n",
      "    app.launch_new_instance()\n",
      "  File \"/opt/conda/lib/python3.10/site-packages/traitlets/config/application.py\", line 982, in launch_instance\n",
      "    app.start()\n",
      "  File \"/opt/conda/lib/python3.10/site-packages/ipykernel/kernelapp.py\", line 712, in start\n",
      "    self.io_loop.start()\n",
      "  File \"/opt/conda/lib/python3.10/site-packages/tornado/platform/asyncio.py\", line 199, in start\n",
      "    self.asyncio_loop.run_forever()\n",
      "  File \"/opt/conda/lib/python3.10/asyncio/base_events.py\", line 600, in run_forever\n",
      "    self._run_once()\n",
      "  File \"/opt/conda/lib/python3.10/asyncio/base_events.py\", line 1896, in _run_once\n",
      "    handle._run()\n",
      "  File \"/opt/conda/lib/python3.10/asyncio/events.py\", line 80, in _run\n",
      "    self._context.run(self._callback, *self._args)\n",
      "  File \"/opt/conda/lib/python3.10/site-packages/ipykernel/kernelbase.py\", line 510, in dispatch_queue\n",
      "    await self.process_one()\n",
      "  File \"/opt/conda/lib/python3.10/site-packages/ipykernel/kernelbase.py\", line 499, in process_one\n",
      "    await dispatch(*args)\n",
      "  File \"/opt/conda/lib/python3.10/site-packages/ipykernel/kernelbase.py\", line 406, in dispatch_shell\n",
      "    await result\n",
      "  File \"/opt/conda/lib/python3.10/site-packages/ipykernel/kernelbase.py\", line 730, in execute_request\n",
      "    reply_content = await reply_content\n",
      "  File \"/opt/conda/lib/python3.10/site-packages/ipykernel/ipkernel.py\", line 383, in do_execute\n",
      "    res = shell.run_cell(\n",
      "  File \"/opt/conda/lib/python3.10/site-packages/ipykernel/zmqshell.py\", line 528, in run_cell\n",
      "    return super().run_cell(*args, **kwargs)\n",
      "  File \"/opt/conda/lib/python3.10/site-packages/IPython/core/interactiveshell.py\", line 2885, in run_cell\n",
      "    result = self._run_cell(\n",
      "  File \"/opt/conda/lib/python3.10/site-packages/IPython/core/interactiveshell.py\", line 2940, in _run_cell\n",
      "    return runner(coro)\n",
      "  File \"/opt/conda/lib/python3.10/site-packages/IPython/core/async_helpers.py\", line 129, in _pseudo_sync_runner\n",
      "    coro.send(None)\n",
      "  File \"/opt/conda/lib/python3.10/site-packages/IPython/core/interactiveshell.py\", line 3139, in run_cell_async\n",
      "    has_raised = await self.run_ast_nodes(code_ast.body, cell_name,\n",
      "  File \"/opt/conda/lib/python3.10/site-packages/IPython/core/interactiveshell.py\", line 3318, in run_ast_nodes\n",
      "    if await self.run_code(code, result, async_=asy):\n",
      "  File \"/opt/conda/lib/python3.10/site-packages/IPython/core/interactiveshell.py\", line 3378, in run_code\n",
      "    exec(code_obj, self.user_global_ns, self.user_ns)\n",
      "  File \"/tmp/ipykernel_3617/3159412053.py\", line 36, in <module>\n",
      "    obj.read()\n",
      "  File \"/tmp/ipykernel_3617/3159412053.py\", line 13, in read\n",
      "    logging.info('Executing read method')\n",
      "Message: 'Executing read method'\n",
      "Arguments: ()\n",
      "--- Logging error ---\n",
      "Traceback (most recent call last):\n",
      "  File \"/tmp/ipykernel_3617/3159412053.py\", line 15, in read\n",
      "    with open(f\"[self.filename].txt\", 'r') as f:\n",
      "FileNotFoundError: [Errno 2] No such file or directory: '[self.filename].txt'\n",
      "\n",
      "During handling of the above exception, another exception occurred:\n",
      "\n",
      "Traceback (most recent call last):\n",
      "  File \"/opt/conda/lib/python3.10/logging/__init__.py\", line 1100, in emit\n",
      "    msg = self.format(record)\n",
      "  File \"/opt/conda/lib/python3.10/logging/__init__.py\", line 943, in format\n",
      "    return fmt.format(record)\n",
      "  File \"/opt/conda/lib/python3.10/logging/__init__.py\", line 681, in format\n",
      "    s = self.formatMessage(record)\n",
      "  File \"/opt/conda/lib/python3.10/logging/__init__.py\", line 650, in formatMessage\n",
      "    return self._style.format(record)\n",
      "  File \"/opt/conda/lib/python3.10/logging/__init__.py\", line 440, in format\n",
      "    return self._format(record)\n",
      "  File \"/opt/conda/lib/python3.10/logging/__init__.py\", line 436, in _format\n",
      "    return self._fmt % values\n",
      "TypeError: not enough arguments for format string\n",
      "Call stack:\n",
      "  File \"/opt/conda/lib/python3.10/runpy.py\", line 196, in _run_module_as_main\n",
      "    return _run_code(code, main_globals, None,\n",
      "  File \"/opt/conda/lib/python3.10/runpy.py\", line 86, in _run_code\n",
      "    exec(code, run_globals)\n",
      "  File \"/opt/conda/lib/python3.10/site-packages/ipykernel_launcher.py\", line 17, in <module>\n",
      "    app.launch_new_instance()\n",
      "  File \"/opt/conda/lib/python3.10/site-packages/traitlets/config/application.py\", line 982, in launch_instance\n",
      "    app.start()\n",
      "  File \"/opt/conda/lib/python3.10/site-packages/ipykernel/kernelapp.py\", line 712, in start\n",
      "    self.io_loop.start()\n",
      "  File \"/opt/conda/lib/python3.10/site-packages/tornado/platform/asyncio.py\", line 199, in start\n",
      "    self.asyncio_loop.run_forever()\n",
      "  File \"/opt/conda/lib/python3.10/asyncio/base_events.py\", line 600, in run_forever\n",
      "    self._run_once()\n",
      "  File \"/opt/conda/lib/python3.10/asyncio/base_events.py\", line 1896, in _run_once\n",
      "    handle._run()\n",
      "  File \"/opt/conda/lib/python3.10/asyncio/events.py\", line 80, in _run\n",
      "    self._context.run(self._callback, *self._args)\n",
      "  File \"/opt/conda/lib/python3.10/site-packages/ipykernel/kernelbase.py\", line 510, in dispatch_queue\n",
      "    await self.process_one()\n",
      "  File \"/opt/conda/lib/python3.10/site-packages/ipykernel/kernelbase.py\", line 499, in process_one\n",
      "    await dispatch(*args)\n",
      "  File \"/opt/conda/lib/python3.10/site-packages/ipykernel/kernelbase.py\", line 406, in dispatch_shell\n",
      "    await result\n",
      "  File \"/opt/conda/lib/python3.10/site-packages/ipykernel/kernelbase.py\", line 730, in execute_request\n",
      "    reply_content = await reply_content\n",
      "  File \"/opt/conda/lib/python3.10/site-packages/ipykernel/ipkernel.py\", line 383, in do_execute\n",
      "    res = shell.run_cell(\n",
      "  File \"/opt/conda/lib/python3.10/site-packages/ipykernel/zmqshell.py\", line 528, in run_cell\n",
      "    return super().run_cell(*args, **kwargs)\n",
      "  File \"/opt/conda/lib/python3.10/site-packages/IPython/core/interactiveshell.py\", line 2885, in run_cell\n",
      "    result = self._run_cell(\n",
      "  File \"/opt/conda/lib/python3.10/site-packages/IPython/core/interactiveshell.py\", line 2940, in _run_cell\n",
      "    return runner(coro)\n",
      "  File \"/opt/conda/lib/python3.10/site-packages/IPython/core/async_helpers.py\", line 129, in _pseudo_sync_runner\n",
      "    coro.send(None)\n",
      "  File \"/opt/conda/lib/python3.10/site-packages/IPython/core/interactiveshell.py\", line 3139, in run_cell_async\n",
      "    has_raised = await self.run_ast_nodes(code_ast.body, cell_name,\n",
      "  File \"/opt/conda/lib/python3.10/site-packages/IPython/core/interactiveshell.py\", line 3318, in run_ast_nodes\n",
      "    if await self.run_code(code, result, async_=asy):\n",
      "  File \"/opt/conda/lib/python3.10/site-packages/IPython/core/interactiveshell.py\", line 3378, in run_code\n",
      "    exec(code_obj, self.user_global_ns, self.user_ns)\n",
      "  File \"/tmp/ipykernel_3617/3159412053.py\", line 36, in <module>\n",
      "    obj.read()\n",
      "  File \"/tmp/ipykernel_3617/3159412053.py\", line 19, in read\n",
      "    logging.error('error occured while opening file')\n",
      "Message: 'error occured while opening file'\n",
      "Arguments: ()\n",
      "--- Logging error ---\n",
      "Traceback (most recent call last):\n",
      "  File \"/tmp/ipykernel_3617/3159412053.py\", line 15, in read\n",
      "    with open(f\"[self.filename].txt\", 'r') as f:\n",
      "FileNotFoundError: [Errno 2] No such file or directory: '[self.filename].txt'\n",
      "\n",
      "During handling of the above exception, another exception occurred:\n",
      "\n",
      "Traceback (most recent call last):\n",
      "  File \"/opt/conda/lib/python3.10/logging/__init__.py\", line 1100, in emit\n",
      "    msg = self.format(record)\n",
      "  File \"/opt/conda/lib/python3.10/logging/__init__.py\", line 943, in format\n",
      "    return fmt.format(record)\n",
      "  File \"/opt/conda/lib/python3.10/logging/__init__.py\", line 681, in format\n",
      "    s = self.formatMessage(record)\n",
      "  File \"/opt/conda/lib/python3.10/logging/__init__.py\", line 650, in formatMessage\n",
      "    return self._style.format(record)\n",
      "  File \"/opt/conda/lib/python3.10/logging/__init__.py\", line 440, in format\n",
      "    return self._format(record)\n",
      "  File \"/opt/conda/lib/python3.10/logging/__init__.py\", line 436, in _format\n",
      "    return self._fmt % values\n",
      "TypeError: not enough arguments for format string\n",
      "Call stack:\n",
      "  File \"/opt/conda/lib/python3.10/runpy.py\", line 196, in _run_module_as_main\n",
      "    return _run_code(code, main_globals, None,\n",
      "  File \"/opt/conda/lib/python3.10/runpy.py\", line 86, in _run_code\n",
      "    exec(code, run_globals)\n",
      "  File \"/opt/conda/lib/python3.10/site-packages/ipykernel_launcher.py\", line 17, in <module>\n",
      "    app.launch_new_instance()\n",
      "  File \"/opt/conda/lib/python3.10/site-packages/traitlets/config/application.py\", line 982, in launch_instance\n",
      "    app.start()\n",
      "  File \"/opt/conda/lib/python3.10/site-packages/ipykernel/kernelapp.py\", line 712, in start\n",
      "    self.io_loop.start()\n",
      "  File \"/opt/conda/lib/python3.10/site-packages/tornado/platform/asyncio.py\", line 199, in start\n",
      "    self.asyncio_loop.run_forever()\n",
      "  File \"/opt/conda/lib/python3.10/asyncio/base_events.py\", line 600, in run_forever\n",
      "    self._run_once()\n",
      "  File \"/opt/conda/lib/python3.10/asyncio/base_events.py\", line 1896, in _run_once\n",
      "    handle._run()\n",
      "  File \"/opt/conda/lib/python3.10/asyncio/events.py\", line 80, in _run\n",
      "    self._context.run(self._callback, *self._args)\n",
      "  File \"/opt/conda/lib/python3.10/site-packages/ipykernel/kernelbase.py\", line 510, in dispatch_queue\n",
      "    await self.process_one()\n",
      "  File \"/opt/conda/lib/python3.10/site-packages/ipykernel/kernelbase.py\", line 499, in process_one\n",
      "    await dispatch(*args)\n",
      "  File \"/opt/conda/lib/python3.10/site-packages/ipykernel/kernelbase.py\", line 406, in dispatch_shell\n",
      "    await result\n",
      "  File \"/opt/conda/lib/python3.10/site-packages/ipykernel/kernelbase.py\", line 730, in execute_request\n",
      "    reply_content = await reply_content\n",
      "  File \"/opt/conda/lib/python3.10/site-packages/ipykernel/ipkernel.py\", line 383, in do_execute\n",
      "    res = shell.run_cell(\n",
      "  File \"/opt/conda/lib/python3.10/site-packages/ipykernel/zmqshell.py\", line 528, in run_cell\n",
      "    return super().run_cell(*args, **kwargs)\n",
      "  File \"/opt/conda/lib/python3.10/site-packages/IPython/core/interactiveshell.py\", line 2885, in run_cell\n",
      "    result = self._run_cell(\n",
      "  File \"/opt/conda/lib/python3.10/site-packages/IPython/core/interactiveshell.py\", line 2940, in _run_cell\n",
      "    return runner(coro)\n",
      "  File \"/opt/conda/lib/python3.10/site-packages/IPython/core/async_helpers.py\", line 129, in _pseudo_sync_runner\n",
      "    coro.send(None)\n",
      "  File \"/opt/conda/lib/python3.10/site-packages/IPython/core/interactiveshell.py\", line 3139, in run_cell_async\n",
      "    has_raised = await self.run_ast_nodes(code_ast.body, cell_name,\n",
      "  File \"/opt/conda/lib/python3.10/site-packages/IPython/core/interactiveshell.py\", line 3318, in run_ast_nodes\n",
      "    if await self.run_code(code, result, async_=asy):\n",
      "  File \"/opt/conda/lib/python3.10/site-packages/IPython/core/interactiveshell.py\", line 3378, in run_code\n",
      "    exec(code_obj, self.user_global_ns, self.user_ns)\n",
      "  File \"/tmp/ipykernel_3617/3159412053.py\", line 36, in <module>\n",
      "    obj.read()\n",
      "  File \"/tmp/ipykernel_3617/3159412053.py\", line 20, in read\n",
      "    logging.exception(f'error is {e}')\n",
      "Message: \"error is [Errno 2] No such file or directory: '[self.filename].txt'\"\n",
      "Arguments: ()\n"
     ]
    }
   ],
   "source": [
    "import logging\n",
    "\n",
    "logging.basicConfig(filename='list.log', level=logging.DEBUG, format='%(asctime)s (%levelname)s %(message)s',\n",
    "                    filemode='w')\n",
    "\n",
    "\n",
    "class File:\n",
    "    def __init__(self, filename):\n",
    "        logging.info('Reading a file ')\n",
    "        self.filename = filename\n",
    "\n",
    "    def read(self):\n",
    "        logging.info('Executing read method')\n",
    "        try:\n",
    "            with open(f\"[self.filename].txt\", 'r') as f:\n",
    "                data = f.read()\n",
    "                return data\n",
    "        except Exception as e:\n",
    "            logging.error('error occured while opening file')\n",
    "            logging.exception(f'error is {e}')\n",
    "\n",
    "    def write(self,data):\n",
    "        logging.info('Executing write method')\n",
    "        try:\n",
    "            with open(f'[self.name].txt', 'w') as f :\n",
    "                data = f.write(data)\n",
    "        except Exception as e:\n",
    "            logging.error('something went wrong')\n",
    "\n",
    "\n",
    "class child(File):\n",
    "    pass\n",
    "\n",
    "obj = child('abc')\n",
    "obj.write('Hello world')\n",
    "obj.read()\n"
   ]
  },
  {
   "cell_type": "code",
   "execution_count": 2,
   "id": "205b22c6-322d-427e-8e92-e26bf9a358bd",
   "metadata": {},
   "outputs": [],
   "source": [
    "#abstarction - public , private and protected"
   ]
  },
  {
   "cell_type": "code",
   "execution_count": null,
   "id": "f03ed009-207a-41b7-b130-ba7beee203a9",
   "metadata": {},
   "outputs": [],
   "source": []
  },
  {
   "cell_type": "code",
   "execution_count": 5,
   "id": "1eb10d41-d1e8-4247-af7a-ebc87d9fdd81",
   "metadata": {},
   "outputs": [],
   "source": [
    "class test():\n",
    "    def __init__(self,a , b , c):\n",
    "        self.a = a\n",
    "        self.b = b\n",
    "        self.c = c\n",
    "\n",
    "class test1(test):\n",
    "    pass\n",
    "u = test(4,5,6)"
   ]
  },
  {
   "cell_type": "code",
   "execution_count": null,
   "id": "96a2c895-1320-4430-8487-379e3daa81a5",
   "metadata": {},
   "outputs": [],
   "source": []
  },
  {
   "cell_type": "code",
   "execution_count": null,
   "id": "fe68e147-cfdb-4d05-b97b-9d490783dcab",
   "metadata": {},
   "outputs": [],
   "source": []
  },
  {
   "cell_type": "code",
   "execution_count": 6,
   "id": "6bb76752-5790-446e-be9d-7c32c68aa61c",
   "metadata": {},
   "outputs": [],
   "source": [
    "v = test1(3,4,5)"
   ]
  },
  {
   "cell_type": "code",
   "execution_count": null,
   "id": "4051de28-b4dd-45b1-a5a3-31381cc43aac",
   "metadata": {},
   "outputs": [],
   "source": [
    "v."
   ]
  },
  {
   "cell_type": "code",
   "execution_count": null,
   "id": "b0edd2c8-bd00-479c-b5ed-9185af912367",
   "metadata": {},
   "outputs": [],
   "source": []
  },
  {
   "cell_type": "code",
   "execution_count": 30,
   "id": "712ab659-700a-4e67-a113-99aab61d1c65",
   "metadata": {},
   "outputs": [],
   "source": [
    "class test():\n",
    "    def __init__(self):\n",
    "        self.__a = 4\n",
    "\n",
    "class test1(test):\n",
    "    def __init__(self):\n",
    "        self.__a = 7\n",
    "       \n",
    "u = test()"
   ]
  },
  {
   "cell_type": "code",
   "execution_count": 36,
   "id": "d7a55cfc-2938-403a-b32d-222ff31c7ef3",
   "metadata": {},
   "outputs": [
    {
     "ename": "AttributeError",
     "evalue": "'test' object has no attribute '__a'",
     "output_type": "error",
     "traceback": [
      "\u001b[0;31m---------------------------------------------------------------------------\u001b[0m",
      "\u001b[0;31mAttributeError\u001b[0m                            Traceback (most recent call last)",
      "Cell \u001b[0;32mIn [36], line 1\u001b[0m\n\u001b[0;32m----> 1\u001b[0m \u001b[43mu\u001b[49m\u001b[38;5;241;43m.\u001b[39;49m\u001b[43m__a\u001b[49m\n",
      "\u001b[0;31mAttributeError\u001b[0m: 'test' object has no attribute '__a'"
     ]
    }
   ],
   "source": [
    "u.__a"
   ]
  },
  {
   "cell_type": "code",
   "execution_count": 33,
   "id": "effa1956-100c-4147-b19d-2518738155a0",
   "metadata": {},
   "outputs": [],
   "source": [
    "v = test1()"
   ]
  },
  {
   "cell_type": "code",
   "execution_count": 35,
   "id": "32137aed-05c9-4681-a62a-ed1d8682ecc4",
   "metadata": {},
   "outputs": [
    {
     "data": {
      "text/plain": [
       "7"
      ]
     },
     "execution_count": 35,
     "metadata": {},
     "output_type": "execute_result"
    }
   ],
   "source": [
    "v._a"
   ]
  },
  {
   "cell_type": "code",
   "execution_count": 56,
   "id": "4f6ab519-4b14-4811-9fe4-2fe4557c5f99",
   "metadata": {},
   "outputs": [],
   "source": [
    "class test:\n",
    "    def __init__(self, a , b, c):\n",
    "        self._a = a\n",
    "        self.__b = b\n",
    "        self.c = c\n",
    "class test1(test):\n",
    "    pass\n",
    "\n",
    "v = test(4,5,6)"
   ]
  },
  {
   "cell_type": "code",
   "execution_count": 57,
   "id": "0a1c9036-3c6a-418d-8cfc-29cbbf72ebde",
   "metadata": {},
   "outputs": [
    {
     "data": {
      "text/plain": [
       "4"
      ]
     },
     "execution_count": 57,
     "metadata": {},
     "output_type": "execute_result"
    }
   ],
   "source": [
    "v._a"
   ]
  },
  {
   "cell_type": "code",
   "execution_count": 58,
   "id": "763a226f-52c5-4b5e-b4fc-2219760aded9",
   "metadata": {},
   "outputs": [
    {
     "data": {
      "text/plain": [
       "5"
      ]
     },
     "execution_count": 58,
     "metadata": {},
     "output_type": "execute_result"
    }
   ],
   "source": [
    "v._test__b"
   ]
  },
  {
   "cell_type": "code",
   "execution_count": 59,
   "id": "e339b2a8-0770-45a0-beb3-c5b5a2b8a954",
   "metadata": {},
   "outputs": [
    {
     "data": {
      "text/plain": [
       "6"
      ]
     },
     "execution_count": 59,
     "metadata": {},
     "output_type": "execute_result"
    }
   ],
   "source": [
    "v.c"
   ]
  },
  {
   "cell_type": "code",
   "execution_count": 60,
   "id": "56a82786-4917-4978-a88c-28fbfb74e58e",
   "metadata": {},
   "outputs": [],
   "source": [
    "u = test1(7,8,9)"
   ]
  },
  {
   "cell_type": "code",
   "execution_count": 61,
   "id": "1781b1db-baa0-4aa1-af47-0194c69faf6b",
   "metadata": {},
   "outputs": [
    {
     "data": {
      "text/plain": [
       "9"
      ]
     },
     "execution_count": 61,
     "metadata": {},
     "output_type": "execute_result"
    }
   ],
   "source": [
    "u.c"
   ]
  },
  {
   "cell_type": "code",
   "execution_count": 62,
   "id": "b7bc8b23-2204-4851-bd1a-0fbfd68efcc1",
   "metadata": {},
   "outputs": [
    {
     "data": {
      "text/plain": [
       "7"
      ]
     },
     "execution_count": 62,
     "metadata": {},
     "output_type": "execute_result"
    }
   ],
   "source": [
    "u._a"
   ]
  },
  {
   "cell_type": "code",
   "execution_count": 65,
   "id": "db68621a-4b48-4bbc-8941-942d29c852a0",
   "metadata": {},
   "outputs": [
    {
     "data": {
      "text/plain": [
       "5"
      ]
     },
     "execution_count": 65,
     "metadata": {},
     "output_type": "execute_result"
    }
   ],
   "source": [
    "v._test__b"
   ]
  },
  {
   "cell_type": "code",
   "execution_count": 64,
   "id": "2448e6f2-c1ff-4455-8a6a-7b5849adf2e1",
   "metadata": {},
   "outputs": [
    {
     "ename": "AttributeError",
     "evalue": "'test1' object has no attribute '_test1__b'",
     "output_type": "error",
     "traceback": [
      "\u001b[0;31m---------------------------------------------------------------------------\u001b[0m",
      "\u001b[0;31mAttributeError\u001b[0m                            Traceback (most recent call last)",
      "Cell \u001b[0;32mIn [64], line 1\u001b[0m\n\u001b[0;32m----> 1\u001b[0m \u001b[43mu\u001b[49m\u001b[38;5;241;43m.\u001b[39;49m\u001b[43m_test1__b\u001b[49m\n",
      "\u001b[0;31mAttributeError\u001b[0m: 'test1' object has no attribute '_test1__b'"
     ]
    }
   ],
   "source": [
    "u._test1__b"
   ]
  },
  {
   "cell_type": "code",
   "execution_count": 66,
   "id": "2708d509-5cae-42ec-a428-dbc4869946ec",
   "metadata": {},
   "outputs": [
    {
     "data": {
      "text/plain": [
       "8"
      ]
     },
     "execution_count": 66,
     "metadata": {},
     "output_type": "execute_result"
    }
   ],
   "source": [
    "u._test__b"
   ]
  },
  {
   "cell_type": "code",
   "execution_count": null,
   "id": "6816865e-8417-4580-b36c-0581f301f854",
   "metadata": {},
   "outputs": [],
   "source": []
  },
  {
   "cell_type": "code",
   "execution_count": 92,
   "id": "b7cf6188-6fff-47d5-988e-adb3f432dda2",
   "metadata": {},
   "outputs": [],
   "source": [
    "class bonuscalculator :\n",
    "    def __init__(self, emp_id , emp_rating):\n",
    "        self.emp_id = emp_id\n",
    "        self.emp_rating = emp_rating\n",
    "        self._empmail = 'shgsghsh@gmail.com'\n",
    "        self.__bonusratingA = '70%'\n",
    "        self.__bonusratingB = '50%'\n",
    "        self.__bonusratingC = '30%'\n",
    "    \n",
    "    def bonuscalculator(self):\n",
    "        if self.emp_rating == 'A':\n",
    "            bonus = self.__bonusratingA\n",
    "            return bonus\n",
    "        elif self.emp_rating == 'B':\n",
    "            bonus = self.__bonusratingB\n",
    "            return bonus\n",
    "        else:\n",
    "            bonus = self.__bonusratingC\n",
    "            return bonus"
   ]
  },
  {
   "cell_type": "code",
   "execution_count": 93,
   "id": "a83a11c2-0345-4f43-bfef-3ec97fd9fa5f",
   "metadata": {},
   "outputs": [],
   "source": [
    "emp1 = bonuscalculator(101,'A')\n",
    "emp2 = bonuscalculator(102,'B')\n",
    "emp3 = bonuscalculator(103,'C')"
   ]
  },
  {
   "cell_type": "code",
   "execution_count": 94,
   "id": "187d7976-bae3-4b11-9935-62399fdc48c2",
   "metadata": {},
   "outputs": [
    {
     "data": {
      "text/plain": [
       "'70%'"
      ]
     },
     "execution_count": 94,
     "metadata": {},
     "output_type": "execute_result"
    }
   ],
   "source": [
    "emp1.bonuscalculator()"
   ]
  },
  {
   "cell_type": "code",
   "execution_count": 95,
   "id": "d7301d60-856f-4ab6-ab20-c7f7cdebe83e",
   "metadata": {},
   "outputs": [
    {
     "data": {
      "text/plain": [
       "'50%'"
      ]
     },
     "execution_count": 95,
     "metadata": {},
     "output_type": "execute_result"
    }
   ],
   "source": [
    "emp2.bonuscalculator()"
   ]
  },
  {
   "cell_type": "code",
   "execution_count": 96,
   "id": "0289bea6-c764-4d9c-a24c-0a83ac9b1356",
   "metadata": {},
   "outputs": [
    {
     "data": {
      "text/plain": [
       "'30%'"
      ]
     },
     "execution_count": 96,
     "metadata": {},
     "output_type": "execute_result"
    }
   ],
   "source": [
    "emp3.bonuscalculator()"
   ]
  },
  {
   "cell_type": "code",
   "execution_count": 97,
   "id": "b9056814-c7d1-47c4-a671-aaf606c443f5",
   "metadata": {},
   "outputs": [],
   "source": [
    "emp1.emp_id = 105"
   ]
  },
  {
   "cell_type": "code",
   "execution_count": 98,
   "id": "679fff7d-150d-4aec-bf8b-2b40084d99bb",
   "metadata": {},
   "outputs": [
    {
     "data": {
      "text/plain": [
       "105"
      ]
     },
     "execution_count": 98,
     "metadata": {},
     "output_type": "execute_result"
    }
   ],
   "source": [
    "emp1.emp_id"
   ]
  },
  {
   "cell_type": "code",
   "execution_count": 99,
   "id": "7b232f02-98a8-4e00-9117-d64e814c943c",
   "metadata": {},
   "outputs": [],
   "source": [
    "emp1.emp_rating = 'B'"
   ]
  },
  {
   "cell_type": "code",
   "execution_count": 100,
   "id": "ca4a6b93-2da9-43d4-94b1-55d272b320a7",
   "metadata": {},
   "outputs": [
    {
     "data": {
      "text/plain": [
       "'50%'"
      ]
     },
     "execution_count": 100,
     "metadata": {},
     "output_type": "execute_result"
    }
   ],
   "source": [
    "emp1.bonuscalculator()"
   ]
  },
  {
   "cell_type": "code",
   "execution_count": 101,
   "id": "1e2a8b93-fe86-4369-bcf8-32b6caaf6ac4",
   "metadata": {},
   "outputs": [],
   "source": [
    "emp1.__bonusratingB = '60%'"
   ]
  },
  {
   "cell_type": "code",
   "execution_count": 102,
   "id": "709957f2-3b79-45e6-9317-ee93bb3be94f",
   "metadata": {},
   "outputs": [
    {
     "data": {
      "text/plain": [
       "'50%'"
      ]
     },
     "execution_count": 102,
     "metadata": {},
     "output_type": "execute_result"
    }
   ],
   "source": [
    "emp1.bonuscalculator()"
   ]
  },
  {
   "cell_type": "code",
   "execution_count": 103,
   "id": "f930ae2d-3cc3-40bb-8363-3d1f8ee22c8f",
   "metadata": {},
   "outputs": [
    {
     "data": {
      "text/plain": [
       "'B'"
      ]
     },
     "execution_count": 103,
     "metadata": {},
     "output_type": "execute_result"
    }
   ],
   "source": [
    "emp2.emp_rating"
   ]
  },
  {
   "cell_type": "code",
   "execution_count": 104,
   "id": "463a78d2-a014-4fa1-883d-7b88bada8370",
   "metadata": {},
   "outputs": [
    {
     "data": {
      "text/plain": [
       "'50%'"
      ]
     },
     "execution_count": 104,
     "metadata": {},
     "output_type": "execute_result"
    }
   ],
   "source": [
    "emp2.bonuscalculator()"
   ]
  },
  {
   "cell_type": "code",
   "execution_count": 105,
   "id": "ae34e88d-b14f-4ebc-879f-a2d2f94f5b25",
   "metadata": {},
   "outputs": [],
   "source": [
    "emp2.__bonusratingB = '100%' #it will not change"
   ]
  },
  {
   "cell_type": "code",
   "execution_count": 106,
   "id": "ade72a3b-e0b6-46e3-9b78-da706bcef93f",
   "metadata": {},
   "outputs": [
    {
     "data": {
      "text/plain": [
       "'50%'"
      ]
     },
     "execution_count": 106,
     "metadata": {},
     "output_type": "execute_result"
    }
   ],
   "source": [
    "emp2.bonuscalculator()"
   ]
  },
  {
   "cell_type": "code",
   "execution_count": 107,
   "id": "c3e95a5b-fa75-492f-9401-af5b7f3f20d2",
   "metadata": {},
   "outputs": [],
   "source": [
    "emp2.emp_id = 12345"
   ]
  },
  {
   "cell_type": "code",
   "execution_count": 108,
   "id": "a1a016ba-9794-4650-b969-9ea66fb4e0b2",
   "metadata": {},
   "outputs": [
    {
     "data": {
      "text/plain": [
       "12345"
      ]
     },
     "execution_count": 108,
     "metadata": {},
     "output_type": "execute_result"
    }
   ],
   "source": [
    "emp2.emp_id"
   ]
  },
  {
   "cell_type": "code",
   "execution_count": 109,
   "id": "228dafa5-af02-42f5-a3d9-819be4406296",
   "metadata": {},
   "outputs": [],
   "source": [
    "emp2._bonuscalculator__bonusratingB = '85%' #now it will change"
   ]
  },
  {
   "cell_type": "code",
   "execution_count": 110,
   "id": "8723688a-eb18-494e-a7e5-e347d8bbc52c",
   "metadata": {},
   "outputs": [
    {
     "data": {
      "text/plain": [
       "'85%'"
      ]
     },
     "execution_count": 110,
     "metadata": {},
     "output_type": "execute_result"
    }
   ],
   "source": [
    "emp2.bonuscalculator()"
   ]
  },
  {
   "cell_type": "code",
   "execution_count": 111,
   "id": "a5535483-edbb-4c93-9428-b5d21fba5740",
   "metadata": {},
   "outputs": [
    {
     "data": {
      "text/plain": [
       "'shgsghsh@gmail.com'"
      ]
     },
     "execution_count": 111,
     "metadata": {},
     "output_type": "execute_result"
    }
   ],
   "source": [
    "emp1._empmail"
   ]
  },
  {
   "cell_type": "code",
   "execution_count": 112,
   "id": "ec4d6b59-1b32-49a7-b493-5c5a660baa77",
   "metadata": {},
   "outputs": [],
   "source": [
    "emp1._empmail = 'sandeep@gmail.com'"
   ]
  },
  {
   "cell_type": "code",
   "execution_count": 114,
   "id": "e0cb1acf-f7fd-45c4-a7b9-f0f607326cd9",
   "metadata": {},
   "outputs": [
    {
     "data": {
      "text/plain": [
       "'sandeep@gmail.com'"
      ]
     },
     "execution_count": 114,
     "metadata": {},
     "output_type": "execute_result"
    }
   ],
   "source": [
    "emp1._empmail"
   ]
  },
  {
   "cell_type": "code",
   "execution_count": null,
   "id": "d6e77180-8bf9-4075-8fc7-ea8b2d6d5a06",
   "metadata": {},
   "outputs": [],
   "source": []
  }
 ],
 "metadata": {
  "kernelspec": {
   "display_name": "Python 3 (ipykernel)",
   "language": "python",
   "name": "python3"
  },
  "language_info": {
   "codemirror_mode": {
    "name": "ipython",
    "version": 3
   },
   "file_extension": ".py",
   "mimetype": "text/x-python",
   "name": "python",
   "nbconvert_exporter": "python",
   "pygments_lexer": "ipython3",
   "version": "3.10.6"
  }
 },
 "nbformat": 4,
 "nbformat_minor": 5
}
