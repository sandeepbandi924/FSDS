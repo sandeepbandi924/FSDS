{
 "cells": [
  {
   "cell_type": "code",
   "execution_count": 1,
   "id": "0d6eb561-231f-494e-8d28-616f11b7d760",
   "metadata": {},
   "outputs": [],
   "source": [
    "s = 'sand'"
   ]
  },
  {
   "cell_type": "code",
   "execution_count": 2,
   "id": "92fdd30b-df0e-4de9-a789-c615d6f9c8fd",
   "metadata": {},
   "outputs": [
    {
     "data": {
      "text/plain": [
       "str"
      ]
     },
     "execution_count": 2,
     "metadata": {},
     "output_type": "execute_result"
    }
   ],
   "source": [
    "type(s)"
   ]
  },
  {
   "cell_type": "code",
   "execution_count": 3,
   "id": "eb48aecb-3a89-4c69-b0f9-8881777a6209",
   "metadata": {},
   "outputs": [
    {
     "data": {
      "text/plain": [
       "'s'"
      ]
     },
     "execution_count": 3,
     "metadata": {},
     "output_type": "execute_result"
    }
   ],
   "source": [
    "s[0]"
   ]
  },
  {
   "cell_type": "code",
   "execution_count": 4,
   "id": "474429a8-6e8d-4da0-8d9d-365e7f56d143",
   "metadata": {},
   "outputs": [
    {
     "data": {
      "text/plain": [
       "'a'"
      ]
     },
     "execution_count": 4,
     "metadata": {},
     "output_type": "execute_result"
    }
   ],
   "source": [
    "s[1]"
   ]
  },
  {
   "cell_type": "code",
   "execution_count": 5,
   "id": "6564db09-8f49-47ef-911d-7b09ae6a81ea",
   "metadata": {},
   "outputs": [
    {
     "data": {
      "text/plain": [
       "'n'"
      ]
     },
     "execution_count": 5,
     "metadata": {},
     "output_type": "execute_result"
    }
   ],
   "source": [
    "s[2]"
   ]
  },
  {
   "cell_type": "code",
   "execution_count": 6,
   "id": "b7fcd05c-f97a-47da-8e5d-cd17e7d6d204",
   "metadata": {},
   "outputs": [
    {
     "data": {
      "text/plain": [
       "'d'"
      ]
     },
     "execution_count": 6,
     "metadata": {},
     "output_type": "execute_result"
    }
   ],
   "source": [
    "s[3]"
   ]
  },
  {
   "cell_type": "code",
   "execution_count": 8,
   "id": "edf3298c-acc2-4c8f-8499-3351827bbc20",
   "metadata": {},
   "outputs": [
    {
     "data": {
      "text/plain": [
       "'d'"
      ]
     },
     "execution_count": 8,
     "metadata": {},
     "output_type": "execute_result"
    }
   ],
   "source": [
    "s[-1]"
   ]
  },
  {
   "cell_type": "code",
   "execution_count": 9,
   "id": "66212da9-ea86-4bae-b7b9-8ad718d22c4d",
   "metadata": {},
   "outputs": [
    {
     "data": {
      "text/plain": [
       "'n'"
      ]
     },
     "execution_count": 9,
     "metadata": {},
     "output_type": "execute_result"
    }
   ],
   "source": [
    "s[-2]"
   ]
  },
  {
   "cell_type": "code",
   "execution_count": 10,
   "id": "0d2850cb-56d2-4014-8cfa-4d87ec76e99f",
   "metadata": {},
   "outputs": [
    {
     "data": {
      "text/plain": [
       "'s'"
      ]
     },
     "execution_count": 10,
     "metadata": {},
     "output_type": "execute_result"
    }
   ],
   "source": [
    "s[-4]"
   ]
  },
  {
   "cell_type": "code",
   "execution_count": 11,
   "id": "01db18ec-c502-4cbb-b817-64c842b8e43c",
   "metadata": {},
   "outputs": [],
   "source": [
    "a = 'my name is sand'"
   ]
  },
  {
   "cell_type": "code",
   "execution_count": 12,
   "id": "1c5c2a96-0da0-4b27-afa8-6fb7aa6fc39b",
   "metadata": {},
   "outputs": [
    {
     "data": {
      "text/plain": [
       "'d'"
      ]
     },
     "execution_count": 12,
     "metadata": {},
     "output_type": "execute_result"
    }
   ],
   "source": [
    "a[-1]"
   ]
  },
  {
   "cell_type": "code",
   "execution_count": 13,
   "id": "3686bd76-673f-4cfe-af9a-81aa5d26c2f2",
   "metadata": {},
   "outputs": [
    {
     "data": {
      "text/plain": [
       "'m'"
      ]
     },
     "execution_count": 13,
     "metadata": {},
     "output_type": "execute_result"
    }
   ],
   "source": [
    "a[0]"
   ]
  },
  {
   "cell_type": "code",
   "execution_count": 14,
   "id": "47f3632e-2897-4a14-8370-741736523e9a",
   "metadata": {},
   "outputs": [
    {
     "ename": "IndexError",
     "evalue": "string index out of range",
     "output_type": "error",
     "traceback": [
      "\u001b[0;31m---------------------------------------------------------------------------\u001b[0m",
      "\u001b[0;31mIndexError\u001b[0m                                Traceback (most recent call last)",
      "Cell \u001b[0;32mIn [14], line 1\u001b[0m\n\u001b[0;32m----> 1\u001b[0m \u001b[43ma\u001b[49m\u001b[43m[\u001b[49m\u001b[38;5;241;43m100\u001b[39;49m\u001b[43m]\u001b[49m\n",
      "\u001b[0;31mIndexError\u001b[0m: string index out of range"
     ]
    }
   ],
   "source": [
    "a[100]"
   ]
  },
  {
   "cell_type": "code",
   "execution_count": 15,
   "id": "28b02c5d-c113-44c7-a7cf-84ec8095bb19",
   "metadata": {},
   "outputs": [
    {
     "data": {
      "text/plain": [
       "'my name is sand'"
      ]
     },
     "execution_count": 15,
     "metadata": {},
     "output_type": "execute_result"
    }
   ],
   "source": [
    "a"
   ]
  },
  {
   "cell_type": "code",
   "execution_count": 16,
   "id": "e1c9c782-2d77-491a-9af6-fe56ef22fe87",
   "metadata": {},
   "outputs": [
    {
     "data": {
      "text/plain": [
       "'my name is'"
      ]
     },
     "execution_count": 16,
     "metadata": {},
     "output_type": "execute_result"
    }
   ],
   "source": [
    "a[0:10]"
   ]
  },
  {
   "cell_type": "code",
   "execution_count": 17,
   "id": "ff360dc9-4135-458a-9d30-9b6ed924e3ee",
   "metadata": {},
   "outputs": [],
   "source": [
    "b = 'Ineuron'"
   ]
  },
  {
   "cell_type": "code",
   "execution_count": 18,
   "id": "702b4701-d815-4f59-bc66-c7f2eaa9ef11",
   "metadata": {},
   "outputs": [
    {
     "data": {
      "text/plain": [
       "'Ine'"
      ]
     },
     "execution_count": 18,
     "metadata": {},
     "output_type": "execute_result"
    }
   ],
   "source": [
    "b[0:3]"
   ]
  },
  {
   "cell_type": "code",
   "execution_count": 19,
   "id": "0c881b5d-1f82-4771-8703-e08c4698c00d",
   "metadata": {},
   "outputs": [
    {
     "data": {
      "text/plain": [
       "'Ineuron'"
      ]
     },
     "execution_count": 19,
     "metadata": {},
     "output_type": "execute_result"
    }
   ],
   "source": [
    "b[0:300] #for range it will not give error"
   ]
  },
  {
   "cell_type": "code",
   "execution_count": 20,
   "id": "9d682b72-256d-421f-9eca-04242f77c271",
   "metadata": {},
   "outputs": [
    {
     "ename": "IndexError",
     "evalue": "string index out of range",
     "output_type": "error",
     "traceback": [
      "\u001b[0;31m---------------------------------------------------------------------------\u001b[0m",
      "\u001b[0;31mIndexError\u001b[0m                                Traceback (most recent call last)",
      "Cell \u001b[0;32mIn [20], line 1\u001b[0m\n\u001b[0;32m----> 1\u001b[0m \u001b[43mb\u001b[49m\u001b[43m[\u001b[49m\u001b[38;5;241;43m300\u001b[39;49m\u001b[43m]\u001b[49m\n",
      "\u001b[0;31mIndexError\u001b[0m: string index out of range"
     ]
    }
   ],
   "source": [
    "b[300] #for induvidual indexes"
   ]
  },
  {
   "cell_type": "code",
   "execution_count": 23,
   "id": "4e2da768-7c9a-446c-b28d-3eb0bb27510c",
   "metadata": {},
   "outputs": [
    {
     "data": {
      "text/plain": [
       "'n'"
      ]
     },
     "execution_count": 23,
     "metadata": {},
     "output_type": "execute_result"
    }
   ],
   "source": [
    "b[-1]"
   ]
  },
  {
   "cell_type": "code",
   "execution_count": 24,
   "id": "cebd0e01-025d-47cd-ba43-fa73cf652c02",
   "metadata": {},
   "outputs": [
    {
     "ename": "IndexError",
     "evalue": "string index out of range",
     "output_type": "error",
     "traceback": [
      "\u001b[0;31m---------------------------------------------------------------------------\u001b[0m",
      "\u001b[0;31mIndexError\u001b[0m                                Traceback (most recent call last)",
      "Cell \u001b[0;32mIn [24], line 1\u001b[0m\n\u001b[0;32m----> 1\u001b[0m \u001b[43mb\u001b[49m\u001b[43m[\u001b[49m\u001b[38;5;241;43m-\u001b[39;49m\u001b[38;5;241;43m100\u001b[39;49m\u001b[43m]\u001b[49m\n",
      "\u001b[0;31mIndexError\u001b[0m: string index out of range"
     ]
    }
   ],
   "source": [
    "b[-100]"
   ]
  },
  {
   "cell_type": "code",
   "execution_count": 25,
   "id": "0d92bc9c-48b2-4e3e-a3a2-f4e077862085",
   "metadata": {},
   "outputs": [
    {
     "data": {
      "text/plain": [
       "''"
      ]
     },
     "execution_count": 25,
     "metadata": {},
     "output_type": "execute_result"
    }
   ],
   "source": [
    "b[-1:-4]"
   ]
  },
  {
   "cell_type": "code",
   "execution_count": 26,
   "id": "9fc48b16-c00f-4bf6-acb5-53c0af63e293",
   "metadata": {},
   "outputs": [],
   "source": [
    "a = 'Kumar'"
   ]
  },
  {
   "cell_type": "code",
   "execution_count": 28,
   "id": "23b36606-a527-4f9f-8d19-e8dda3fc83ab",
   "metadata": {},
   "outputs": [
    {
     "data": {
      "text/plain": [
       "'Kumar'"
      ]
     },
     "execution_count": 28,
     "metadata": {},
     "output_type": "execute_result"
    }
   ],
   "source": [
    "a[0:300:1]"
   ]
  },
  {
   "cell_type": "code",
   "execution_count": 30,
   "id": "83097fe1-6a6b-4a14-bab5-56815dc216af",
   "metadata": {},
   "outputs": [
    {
     "data": {
      "text/plain": [
       "'Ka'"
      ]
     },
     "execution_count": 30,
     "metadata": {},
     "output_type": "execute_result"
    }
   ],
   "source": [
    "a[0:300:3]"
   ]
  },
  {
   "cell_type": "code",
   "execution_count": 31,
   "id": "50b27f5f-d291-426f-9b35-0c77ea8632a8",
   "metadata": {},
   "outputs": [
    {
     "data": {
      "text/plain": [
       "''"
      ]
     },
     "execution_count": 31,
     "metadata": {},
     "output_type": "execute_result"
    }
   ],
   "source": [
    "a[0:100:-1]"
   ]
  },
  {
   "cell_type": "code",
   "execution_count": 32,
   "id": "cc475de2-6693-4f2a-8190-42eb81ea61e3",
   "metadata": {},
   "outputs": [
    {
     "data": {
      "text/plain": [
       "''"
      ]
     },
     "execution_count": 32,
     "metadata": {},
     "output_type": "execute_result"
    }
   ],
   "source": [
    "a[-1:-4]"
   ]
  },
  {
   "cell_type": "code",
   "execution_count": 33,
   "id": "a9ae6f3e-0683-4368-8616-43d431adefdd",
   "metadata": {},
   "outputs": [
    {
     "data": {
      "text/plain": [
       "'ram'"
      ]
     },
     "execution_count": 33,
     "metadata": {},
     "output_type": "execute_result"
    }
   ],
   "source": [
    "a[-1:-4:-1]"
   ]
  },
  {
   "cell_type": "code",
   "execution_count": 34,
   "id": "548d8a38-5039-46a6-b233-11bd403874e3",
   "metadata": {},
   "outputs": [
    {
     "data": {
      "text/plain": [
       "'K'"
      ]
     },
     "execution_count": 34,
     "metadata": {},
     "output_type": "execute_result"
    }
   ],
   "source": [
    "a[0:-10:-1]"
   ]
  },
  {
   "cell_type": "code",
   "execution_count": 36,
   "id": "4e178615-a38a-44ad-8fe3-770060d4bbe8",
   "metadata": {},
   "outputs": [
    {
     "data": {
      "text/plain": [
       "'Kumar'"
      ]
     },
     "execution_count": 36,
     "metadata": {},
     "output_type": "execute_result"
    }
   ],
   "source": [
    "a[::]"
   ]
  },
  {
   "cell_type": "code",
   "execution_count": 37,
   "id": "384a3732-323b-4eac-857b-8b49526e691f",
   "metadata": {},
   "outputs": [
    {
     "data": {
      "text/plain": [
       "'Kumar'"
      ]
     },
     "execution_count": 37,
     "metadata": {},
     "output_type": "execute_result"
    }
   ],
   "source": [
    "a[:8]"
   ]
  },
  {
   "cell_type": "code",
   "execution_count": 40,
   "id": "95c26db7-c81e-4731-8a6f-f606a892ba0d",
   "metadata": {},
   "outputs": [
    {
     "data": {
      "text/plain": [
       "'ar'"
      ]
     },
     "execution_count": 40,
     "metadata": {},
     "output_type": "execute_result"
    }
   ],
   "source": [
    "a[-2:]"
   ]
  },
  {
   "cell_type": "code",
   "execution_count": 42,
   "id": "573be3c7-1fa1-4682-adab-2571a1458bee",
   "metadata": {},
   "outputs": [
    {
     "data": {
      "text/plain": [
       "'a'"
      ]
     },
     "execution_count": 42,
     "metadata": {},
     "output_type": "execute_result"
    }
   ],
   "source": [
    "a[-2:-1]"
   ]
  },
  {
   "cell_type": "code",
   "execution_count": 43,
   "id": "03bf4531-5223-47f6-a973-ba8016ed29d2",
   "metadata": {},
   "outputs": [],
   "source": [
    "#These rae called String traversal operations"
   ]
  },
  {
   "cell_type": "code",
   "execution_count": 44,
   "id": "e25ad346-0c38-414f-8cf4-9d2a32b9afa5",
   "metadata": {},
   "outputs": [
    {
     "data": {
      "text/plain": [
       "'ramuK'"
      ]
     },
     "execution_count": 44,
     "metadata": {},
     "output_type": "execute_result"
    }
   ],
   "source": [
    "a[::-1]"
   ]
  },
  {
   "cell_type": "code",
   "execution_count": 45,
   "id": "1781fb9e-89ce-40c6-bd65-7df09b05f9b1",
   "metadata": {},
   "outputs": [
    {
     "data": {
      "text/plain": [
       "'ramuK'"
      ]
     },
     "execution_count": 45,
     "metadata": {},
     "output_type": "execute_result"
    }
   ],
   "source": [
    "a[-1::-1]"
   ]
  },
  {
   "cell_type": "code",
   "execution_count": 46,
   "id": "f84876ff-7b08-4e23-b155-6bff55403e63",
   "metadata": {},
   "outputs": [],
   "source": [
    "a = 'i am working with ineuron'"
   ]
  },
  {
   "cell_type": "code",
   "execution_count": 47,
   "id": "5cd7a72f-468c-4403-bcd7-96bff7c56f12",
   "metadata": {},
   "outputs": [
    {
     "data": {
      "text/plain": [
       "'norueni htiw gnikrow ma i'"
      ]
     },
     "execution_count": 47,
     "metadata": {},
     "output_type": "execute_result"
    }
   ],
   "source": [
    "a[::-1]"
   ]
  },
  {
   "cell_type": "code",
   "execution_count": 48,
   "id": "7df9e9be-136c-4e9d-9465-7b99006378a1",
   "metadata": {},
   "outputs": [
    {
     "data": {
      "text/plain": [
       "''"
      ]
     },
     "execution_count": 48,
     "metadata": {},
     "output_type": "execute_result"
    }
   ],
   "source": [
    "a[-5:5]"
   ]
  },
  {
   "cell_type": "code",
   "execution_count": 49,
   "id": "346a94a8-0c95-4cb2-9a76-f8ce228cf480",
   "metadata": {},
   "outputs": [
    {
     "data": {
      "text/plain": [
       "'eni htiw gnikro'"
      ]
     },
     "execution_count": 49,
     "metadata": {},
     "output_type": "execute_result"
    }
   ],
   "source": [
    "a[-5:5:-1]"
   ]
  },
  {
   "cell_type": "code",
   "execution_count": 50,
   "id": "5e810c60-5466-40b7-9020-225d51b74b6f",
   "metadata": {},
   "outputs": [
    {
     "data": {
      "text/plain": [
       "'orueni h'"
      ]
     },
     "execution_count": 50,
     "metadata": {},
     "output_type": "execute_result"
    }
   ],
   "source": [
    "a[-2:-10:-1]"
   ]
  },
  {
   "cell_type": "code",
   "execution_count": 51,
   "id": "0222ae38-c4d6-482d-9d94-c2ba01762a14",
   "metadata": {},
   "outputs": [
    {
     "data": {
      "text/plain": [
       "'imoi tiun'"
      ]
     },
     "execution_count": 51,
     "metadata": {},
     "output_type": "execute_result"
    }
   ],
   "source": [
    "a[0:100:3]"
   ]
  },
  {
   "cell_type": "code",
   "execution_count": 52,
   "id": "e6126490-f5bf-4ddf-aa2d-249edd5572c9",
   "metadata": {},
   "outputs": [],
   "source": [
    "#These are string slicing operations"
   ]
  },
  {
   "cell_type": "code",
   "execution_count": 53,
   "id": "04a64500-6fc0-4ee8-816c-a29df70cc8ec",
   "metadata": {},
   "outputs": [
    {
     "data": {
      "text/plain": [
       "'sandsandsand'"
      ]
     },
     "execution_count": 53,
     "metadata": {},
     "output_type": "execute_result"
    }
   ],
   "source": [
    "'sand' * 3 "
   ]
  },
  {
   "cell_type": "code",
   "execution_count": 56,
   "id": "831c93ff-3867-4297-a5d9-f0039f6620d0",
   "metadata": {},
   "outputs": [
    {
     "data": {
      "text/plain": [
       "'sandkumar'"
      ]
     },
     "execution_count": 56,
     "metadata": {},
     "output_type": "execute_result"
    }
   ],
   "source": [
    "\"sand\" + 'kumar'"
   ]
  },
  {
   "cell_type": "code",
   "execution_count": 57,
   "id": "620b8bd8-7940-4858-aaf0-496d272b7bbd",
   "metadata": {},
   "outputs": [
    {
     "data": {
      "text/plain": [
       "'i am working with ineuron'"
      ]
     },
     "execution_count": 57,
     "metadata": {},
     "output_type": "execute_result"
    }
   ],
   "source": [
    "a"
   ]
  },
  {
   "cell_type": "code",
   "execution_count": 58,
   "id": "0d452b48-b66d-4233-a96e-ae01bf097eb1",
   "metadata": {},
   "outputs": [
    {
     "data": {
      "text/plain": [
       "25"
      ]
     },
     "execution_count": 58,
     "metadata": {},
     "output_type": "execute_result"
    }
   ],
   "source": [
    "len(a)"
   ]
  },
  {
   "cell_type": "code",
   "execution_count": 59,
   "id": "3e5a5972-4103-4777-84be-a5eaebcdd82e",
   "metadata": {},
   "outputs": [
    {
     "data": {
      "text/plain": [
       "'i am working with ineuron'"
      ]
     },
     "execution_count": 59,
     "metadata": {},
     "output_type": "execute_result"
    }
   ],
   "source": [
    "a"
   ]
  },
  {
   "cell_type": "code",
   "execution_count": 60,
   "id": "1f7df0a6-e685-4a55-8d43-6bd30e6d287a",
   "metadata": {},
   "outputs": [
    {
     "data": {
      "text/plain": [
       "2"
      ]
     },
     "execution_count": 60,
     "metadata": {},
     "output_type": "execute_result"
    }
   ],
   "source": [
    "a.find('a') #a is available at 2 index"
   ]
  },
  {
   "cell_type": "code",
   "execution_count": 63,
   "id": "b56063b8-7800-4fed-bcb5-c064292baefa",
   "metadata": {},
   "outputs": [
    {
     "data": {
      "text/plain": [
       "0"
      ]
     },
     "execution_count": 63,
     "metadata": {},
     "output_type": "execute_result"
    }
   ],
   "source": [
    "a.find('i')"
   ]
  },
  {
   "cell_type": "code",
   "execution_count": 65,
   "id": "b0c43915-53dc-41b6-a853-7559869ad278",
   "metadata": {},
   "outputs": [
    {
     "data": {
      "text/plain": [
       "-1"
      ]
     },
     "execution_count": 65,
     "metadata": {},
     "output_type": "execute_result"
    }
   ],
   "source": [
    "a.find('ia') # -1 is not found"
   ]
  },
  {
   "cell_type": "code",
   "execution_count": 66,
   "id": "005dd882-8d77-48c5-a872-440ed3fd5b0d",
   "metadata": {},
   "outputs": [
    {
     "data": {
      "text/plain": [
       "9"
      ]
     },
     "execution_count": 66,
     "metadata": {},
     "output_type": "execute_result"
    }
   ],
   "source": [
    "a.find('in')"
   ]
  },
  {
   "cell_type": "code",
   "execution_count": 68,
   "id": "41dac312-b343-4604-a24d-4687783e1a05",
   "metadata": {},
   "outputs": [
    {
     "data": {
      "text/plain": [
       "'i am working with ineuron'"
      ]
     },
     "execution_count": 68,
     "metadata": {},
     "output_type": "execute_result"
    }
   ],
   "source": [
    "a"
   ]
  },
  {
   "cell_type": "code",
   "execution_count": 67,
   "id": "69516fdf-dc42-4d33-bdc6-57c3a5827831",
   "metadata": {},
   "outputs": [
    {
     "data": {
      "text/plain": [
       "4"
      ]
     },
     "execution_count": 67,
     "metadata": {},
     "output_type": "execute_result"
    }
   ],
   "source": [
    "a.count('i')"
   ]
  },
  {
   "cell_type": "code",
   "execution_count": 69,
   "id": "4b9c30fe-2fb5-4666-b4a3-15538e1a922b",
   "metadata": {},
   "outputs": [
    {
     "data": {
      "text/plain": [
       "0"
      ]
     },
     "execution_count": 69,
     "metadata": {},
     "output_type": "execute_result"
    }
   ],
   "source": [
    "a.count('x')"
   ]
  },
  {
   "cell_type": "code",
   "execution_count": 70,
   "id": "46f6dd69-5f3d-4e53-9e28-f56b59a2fab3",
   "metadata": {},
   "outputs": [
    {
     "data": {
      "text/plain": [
       "'i am working with ineuron'"
      ]
     },
     "execution_count": 70,
     "metadata": {},
     "output_type": "execute_result"
    }
   ],
   "source": [
    "a"
   ]
  },
  {
   "cell_type": "code",
   "execution_count": 71,
   "id": "48140fbd-9caa-40d2-b05f-995ef85e6d59",
   "metadata": {},
   "outputs": [
    {
     "data": {
      "text/plain": [
       "['i', 'am', 'working', 'with', 'ineuron']"
      ]
     },
     "execution_count": 71,
     "metadata": {},
     "output_type": "execute_result"
    }
   ],
   "source": [
    "a.split()"
   ]
  },
  {
   "cell_type": "code",
   "execution_count": 72,
   "id": "a726d1e5-02d3-45d0-877f-d7704e6714bc",
   "metadata": {},
   "outputs": [],
   "source": [
    "l = a.split()"
   ]
  },
  {
   "cell_type": "code",
   "execution_count": 73,
   "id": "4a9360d1-e24a-48a3-8d62-73ec049a45ca",
   "metadata": {},
   "outputs": [
    {
     "data": {
      "text/plain": [
       "['i', 'am', 'working', 'with', 'ineuron']"
      ]
     },
     "execution_count": 73,
     "metadata": {},
     "output_type": "execute_result"
    }
   ],
   "source": [
    "l"
   ]
  },
  {
   "cell_type": "code",
   "execution_count": 74,
   "id": "8b48fe29-076b-4b5a-9c3d-df96cced9588",
   "metadata": {},
   "outputs": [
    {
     "data": {
      "text/plain": [
       "'i'"
      ]
     },
     "execution_count": 74,
     "metadata": {},
     "output_type": "execute_result"
    }
   ],
   "source": [
    "l[0]"
   ]
  },
  {
   "cell_type": "code",
   "execution_count": 75,
   "id": "d43145da-3746-4829-926d-3730321cd0de",
   "metadata": {},
   "outputs": [
    {
     "data": {
      "text/plain": [
       "'working'"
      ]
     },
     "execution_count": 75,
     "metadata": {},
     "output_type": "execute_result"
    }
   ],
   "source": [
    "l[2]"
   ]
  },
  {
   "cell_type": "code",
   "execution_count": 76,
   "id": "821119c6-af93-4e2e-be90-2e598b78fbb9",
   "metadata": {},
   "outputs": [
    {
     "data": {
      "text/plain": [
       "['i', 'am', 'working']"
      ]
     },
     "execution_count": 76,
     "metadata": {},
     "output_type": "execute_result"
    }
   ],
   "source": [
    "l[0:3]"
   ]
  },
  {
   "cell_type": "code",
   "execution_count": 77,
   "id": "f2bdc00b-ff57-47a9-b5f4-b83204c6f6da",
   "metadata": {},
   "outputs": [
    {
     "data": {
      "text/plain": [
       "'i am working with ineuron'"
      ]
     },
     "execution_count": 77,
     "metadata": {},
     "output_type": "execute_result"
    }
   ],
   "source": [
    "a"
   ]
  },
  {
   "cell_type": "code",
   "execution_count": 79,
   "id": "6a7070eb-720e-4e42-950e-191c510fb3be",
   "metadata": {},
   "outputs": [
    {
     "data": {
      "text/plain": [
       "'I AM WORKING WITH INEURON'"
      ]
     },
     "execution_count": 79,
     "metadata": {},
     "output_type": "execute_result"
    }
   ],
   "source": [
    "a.upper()"
   ]
  },
  {
   "cell_type": "code",
   "execution_count": 82,
   "id": "dfdd9650-6f18-42e0-8140-272d7b302962",
   "metadata": {},
   "outputs": [],
   "source": [
    "s = 'sAnd'"
   ]
  },
  {
   "cell_type": "code",
   "execution_count": 83,
   "id": "812f8374-ec85-4958-ba34-099e7c55c676",
   "metadata": {},
   "outputs": [
    {
     "data": {
      "text/plain": [
       "'SaND'"
      ]
     },
     "execution_count": 83,
     "metadata": {},
     "output_type": "execute_result"
    }
   ],
   "source": [
    "s.swapcase()"
   ]
  },
  {
   "cell_type": "code",
   "execution_count": 84,
   "id": "98854deb-ffcf-4217-8d9b-9891c86dbd3f",
   "metadata": {},
   "outputs": [
    {
     "data": {
      "text/plain": [
       "'Sand'"
      ]
     },
     "execution_count": 84,
     "metadata": {},
     "output_type": "execute_result"
    }
   ],
   "source": [
    "s.title()"
   ]
  },
  {
   "cell_type": "code",
   "execution_count": 85,
   "id": "bca137a1-262d-46b4-9a35-ee5e5545345b",
   "metadata": {},
   "outputs": [
    {
     "data": {
      "text/plain": [
       "'Sand'"
      ]
     },
     "execution_count": 85,
     "metadata": {},
     "output_type": "execute_result"
    }
   ],
   "source": [
    "s.capitalize()"
   ]
  },
  {
   "cell_type": "code",
   "execution_count": 86,
   "id": "b3b0d2a5-b90d-43ba-80d0-5552d12e8e30",
   "metadata": {},
   "outputs": [],
   "source": [
    "b = 'sand'\n",
    "c = 'ineuron' "
   ]
  },
  {
   "cell_type": "code",
   "execution_count": 87,
   "id": "677f6659-1b70-4b35-af0d-f5b4716e7ae6",
   "metadata": {},
   "outputs": [
    {
     "data": {
      "text/plain": [
       "'isandnsandesandusandrsandosandn'"
      ]
     },
     "execution_count": 87,
     "metadata": {},
     "output_type": "execute_result"
    }
   ],
   "source": [
    "b.join(c)"
   ]
  },
  {
   "cell_type": "code",
   "execution_count": 89,
   "id": "9fa1516c-7070-45f5-af91-66a5b901be54",
   "metadata": {},
   "outputs": [
    {
     "data": {
      "text/plain": [
       "'s a n d'"
      ]
     },
     "execution_count": 89,
     "metadata": {},
     "output_type": "execute_result"
    }
   ],
   "source": [
    "\" \".join('sand')"
   ]
  },
  {
   "cell_type": "code",
   "execution_count": 92,
   "id": "bde0d85d-1081-48c2-8681-69b2304e5a52",
   "metadata": {},
   "outputs": [
    {
     "data": {
      "text/plain": [
       "<reversed at 0x7f6522233850>"
      ]
     },
     "execution_count": 92,
     "metadata": {},
     "output_type": "execute_result"
    }
   ],
   "source": [
    "reversed('sand')"
   ]
  },
  {
   "cell_type": "code",
   "execution_count": 91,
   "id": "0b775083-76db-46ef-8877-379ee62057a2",
   "metadata": {},
   "outputs": [
    {
     "name": "stdout",
     "output_type": "stream",
     "text": [
      "d\n",
      "n\n",
      "a\n",
      "s\n"
     ]
    }
   ],
   "source": [
    "for i in reversed('sand'):\n",
    "    print(i)"
   ]
  },
  {
   "cell_type": "code",
   "execution_count": 93,
   "id": "7f3e00e1-5a36-4a5c-91e4-b9ecdd899069",
   "metadata": {},
   "outputs": [
    {
     "data": {
      "text/plain": [
       "'dnas'"
      ]
     },
     "execution_count": 93,
     "metadata": {},
     "output_type": "execute_result"
    }
   ],
   "source": [
    "s = 'sand'\n",
    "s[::-1]"
   ]
  },
  {
   "cell_type": "code",
   "execution_count": 96,
   "id": "678f056f-0ca9-4132-b87c-a2b75f871b5b",
   "metadata": {},
   "outputs": [],
   "source": [
    "s = '  sand  '"
   ]
  },
  {
   "cell_type": "code",
   "execution_count": 97,
   "id": "17f27dca-53fc-43e4-b0a8-ddff7979e0c6",
   "metadata": {},
   "outputs": [
    {
     "data": {
      "text/plain": [
       "'  sand'"
      ]
     },
     "execution_count": 97,
     "metadata": {},
     "output_type": "execute_result"
    }
   ],
   "source": [
    "s.rstrip()"
   ]
  },
  {
   "cell_type": "code",
   "execution_count": 98,
   "id": "1be1e2d6-a0c7-4ddd-9b8a-f50df395f497",
   "metadata": {},
   "outputs": [
    {
     "data": {
      "text/plain": [
       "'sand  '"
      ]
     },
     "execution_count": 98,
     "metadata": {},
     "output_type": "execute_result"
    }
   ],
   "source": [
    "s.lstrip()"
   ]
  },
  {
   "cell_type": "code",
   "execution_count": 99,
   "id": "e9e21386-398f-4f86-9fb8-7b5ece799ab9",
   "metadata": {},
   "outputs": [
    {
     "data": {
      "text/plain": [
       "'sand'"
      ]
     },
     "execution_count": 99,
     "metadata": {},
     "output_type": "execute_result"
    }
   ],
   "source": [
    "s.strip()"
   ]
  },
  {
   "cell_type": "code",
   "execution_count": 100,
   "id": "cf30845d-594b-48b9-8495-cdd5b455845e",
   "metadata": {},
   "outputs": [],
   "source": [
    "s = 'sand'"
   ]
  },
  {
   "cell_type": "code",
   "execution_count": 101,
   "id": "3ff5bae3-3d87-4c00-b7e3-8e4989b35436",
   "metadata": {},
   "outputs": [
    {
     "data": {
      "text/plain": [
       "'sxyznd'"
      ]
     },
     "execution_count": 101,
     "metadata": {},
     "output_type": "execute_result"
    }
   ],
   "source": [
    "s.replace('a','xyz')"
   ]
  },
  {
   "cell_type": "code",
   "execution_count": 102,
   "id": "9a9d9a4a-4db3-47ed-a244-b96e623f941c",
   "metadata": {},
   "outputs": [
    {
     "data": {
      "text/plain": [
       "'sand'"
      ]
     },
     "execution_count": 102,
     "metadata": {},
     "output_type": "execute_result"
    }
   ],
   "source": [
    "s.replace('t','xyz')"
   ]
  },
  {
   "cell_type": "code",
   "execution_count": 103,
   "id": "1879b9fc-4547-4fa0-a72c-5c7ce800062f",
   "metadata": {},
   "outputs": [
    {
     "data": {
      "text/plain": [
       "'sand    kumar'"
      ]
     },
     "execution_count": 103,
     "metadata": {},
     "output_type": "execute_result"
    }
   ],
   "source": [
    "'sand\\tkumar'.expandtabs()"
   ]
  },
  {
   "cell_type": "code",
   "execution_count": 104,
   "id": "69e2623e-69cd-4a95-a5fe-4b7ae3b46ef6",
   "metadata": {},
   "outputs": [],
   "source": [
    "s = 'sand'"
   ]
  },
  {
   "cell_type": "code",
   "execution_count": 106,
   "id": "eb23b4ad-1f6a-4b45-8469-4a372a3b214f",
   "metadata": {},
   "outputs": [
    {
     "data": {
      "text/plain": [
       "'##################sand##################'"
      ]
     },
     "execution_count": 106,
     "metadata": {},
     "output_type": "execute_result"
    }
   ],
   "source": [
    "s.center(40,'#')"
   ]
  },
  {
   "cell_type": "code",
   "execution_count": null,
   "id": "21c9120e-6721-4a13-9a34-588e82d447be",
   "metadata": {},
   "outputs": [],
   "source": []
  },
  {
   "cell_type": "code",
   "execution_count": 113,
   "id": "602a82c9-0d9d-4e5b-9f4e-956495f0d693",
   "metadata": {},
   "outputs": [],
   "source": [
    "s = 'SAND'"
   ]
  },
  {
   "cell_type": "code",
   "execution_count": 114,
   "id": "4063db03-bcd0-4f09-8b73-8769c941fd79",
   "metadata": {},
   "outputs": [
    {
     "data": {
      "text/plain": [
       "True"
      ]
     },
     "execution_count": 114,
     "metadata": {},
     "output_type": "execute_result"
    }
   ],
   "source": [
    "s.isupper()"
   ]
  },
  {
   "cell_type": "code",
   "execution_count": 115,
   "id": "959a4217-6172-4a34-a858-38010b4c5a49",
   "metadata": {},
   "outputs": [
    {
     "data": {
      "text/plain": [
       "False"
      ]
     },
     "execution_count": 115,
     "metadata": {},
     "output_type": "execute_result"
    }
   ],
   "source": [
    "s.islower()"
   ]
  },
  {
   "cell_type": "code",
   "execution_count": 122,
   "id": "a004e066-522e-410f-8258-391be4226888",
   "metadata": {},
   "outputs": [],
   "source": [
    "s ='    sand'"
   ]
  },
  {
   "cell_type": "code",
   "execution_count": 123,
   "id": "8c44b453-8018-4e77-b411-e74a1b62ded7",
   "metadata": {},
   "outputs": [],
   "source": [
    "s ='     '"
   ]
  },
  {
   "cell_type": "code",
   "execution_count": 124,
   "id": "4a290f53-c428-4b6b-8517-1c496285cfc0",
   "metadata": {},
   "outputs": [
    {
     "data": {
      "text/plain": [
       "True"
      ]
     },
     "execution_count": 124,
     "metadata": {},
     "output_type": "execute_result"
    }
   ],
   "source": [
    "s.isspace()"
   ]
  },
  {
   "cell_type": "code",
   "execution_count": null,
   "id": "983ad9c9-b1d8-43de-a583-3e2b0bfa83a8",
   "metadata": {},
   "outputs": [],
   "source": []
  },
  {
   "cell_type": "code",
   "execution_count": 125,
   "id": "c351377f-a64d-45f3-8031-7b6a80c26788",
   "metadata": {},
   "outputs": [],
   "source": [
    "s = '43543'"
   ]
  },
  {
   "cell_type": "code",
   "execution_count": 126,
   "id": "b6d4e271-3599-4656-8d7d-ccedfff689e0",
   "metadata": {},
   "outputs": [
    {
     "data": {
      "text/plain": [
       "True"
      ]
     },
     "execution_count": 126,
     "metadata": {},
     "output_type": "execute_result"
    }
   ],
   "source": [
    "s.isdigit()"
   ]
  },
  {
   "cell_type": "code",
   "execution_count": 130,
   "id": "da520706-976d-4663-aa5b-64c5d1780d51",
   "metadata": {},
   "outputs": [],
   "source": [
    "s = 'sand'"
   ]
  },
  {
   "cell_type": "code",
   "execution_count": 131,
   "id": "ff638213-8983-4e7c-ac1b-f70fd969b269",
   "metadata": {},
   "outputs": [
    {
     "data": {
      "text/plain": [
       "True"
      ]
     },
     "execution_count": 131,
     "metadata": {},
     "output_type": "execute_result"
    }
   ],
   "source": [
    "s.endswith('d')"
   ]
  },
  {
   "cell_type": "code",
   "execution_count": 132,
   "id": "91cba941-fcf4-40b3-bb91-b45b8803ba05",
   "metadata": {},
   "outputs": [
    {
     "data": {
      "text/plain": [
       "False"
      ]
     },
     "execution_count": 132,
     "metadata": {},
     "output_type": "execute_result"
    }
   ],
   "source": [
    "s.endswith('x')"
   ]
  },
  {
   "cell_type": "code",
   "execution_count": 133,
   "id": "08827f9c-9e96-4877-b660-bcb9a82650ec",
   "metadata": {},
   "outputs": [
    {
     "data": {
      "text/plain": [
       "False"
      ]
     },
     "execution_count": 133,
     "metadata": {},
     "output_type": "execute_result"
    }
   ],
   "source": [
    "s.startswith('t')"
   ]
  },
  {
   "cell_type": "code",
   "execution_count": 134,
   "id": "0e5b3cf8-e783-4c59-88ca-140290d012b3",
   "metadata": {},
   "outputs": [
    {
     "data": {
      "text/plain": [
       "True"
      ]
     },
     "execution_count": 134,
     "metadata": {},
     "output_type": "execute_result"
    }
   ],
   "source": [
    "s.startswith('s')"
   ]
  },
  {
   "cell_type": "code",
   "execution_count": 135,
   "id": "84fc2349-0d38-49bf-9f67-ecf2fbedd7e4",
   "metadata": {},
   "outputs": [
    {
     "data": {
      "text/plain": [
       "False"
      ]
     },
     "execution_count": 135,
     "metadata": {},
     "output_type": "execute_result"
    }
   ],
   "source": [
    "s.istitle()"
   ]
  },
  {
   "cell_type": "code",
   "execution_count": null,
   "id": "a0a7c02b-6af1-4d9a-8e1d-7f8682f19b1e",
   "metadata": {},
   "outputs": [],
   "source": []
  },
  {
   "cell_type": "code",
   "execution_count": 136,
   "id": "655318a9-36d6-4d4b-a978-fee1d111ca8c",
   "metadata": {},
   "outputs": [
    {
     "data": {
      "text/plain": [
       "b'sand'"
      ]
     },
     "execution_count": 136,
     "metadata": {},
     "output_type": "execute_result"
    }
   ],
   "source": [
    "s.encode()"
   ]
  },
  {
   "cell_type": "code",
   "execution_count": 137,
   "id": "93639d48-93b7-4cc6-8ac5-760afa36f7b5",
   "metadata": {},
   "outputs": [],
   "source": [
    "#List - collection of multiple heterogenous or homogenousdataset"
   ]
  },
  {
   "cell_type": "code",
   "execution_count": 138,
   "id": "0bc1dbb0-2b48-4e01-a4e0-2ead6f32daef",
   "metadata": {},
   "outputs": [],
   "source": [
    "l = ['snad','kumar',123,4+6j,True,45.32]"
   ]
  },
  {
   "cell_type": "code",
   "execution_count": 139,
   "id": "f5efebfc-d0b8-46e3-a28e-75685a37f7b2",
   "metadata": {},
   "outputs": [
    {
     "data": {
      "text/plain": [
       "list"
      ]
     },
     "execution_count": 139,
     "metadata": {},
     "output_type": "execute_result"
    }
   ],
   "source": [
    "type(l)"
   ]
  },
  {
   "cell_type": "code",
   "execution_count": 140,
   "id": "f85be9ec-75b2-47ab-9c6d-7c2829212644",
   "metadata": {},
   "outputs": [
    {
     "data": {
      "text/plain": [
       "'snad'"
      ]
     },
     "execution_count": 140,
     "metadata": {},
     "output_type": "execute_result"
    }
   ],
   "source": [
    "l[0]"
   ]
  },
  {
   "cell_type": "code",
   "execution_count": 141,
   "id": "22843700-2d2a-45a1-af67-cb55a8a19108",
   "metadata": {},
   "outputs": [
    {
     "data": {
      "text/plain": [
       "45.32"
      ]
     },
     "execution_count": 141,
     "metadata": {},
     "output_type": "execute_result"
    }
   ],
   "source": [
    "l[-1]"
   ]
  },
  {
   "cell_type": "code",
   "execution_count": 142,
   "id": "d8db4f83-9ae8-4dce-b28c-7dec65029a61",
   "metadata": {},
   "outputs": [
    {
     "data": {
      "text/plain": [
       "'kumar'"
      ]
     },
     "execution_count": 142,
     "metadata": {},
     "output_type": "execute_result"
    }
   ],
   "source": [
    "l[-5]"
   ]
  },
  {
   "cell_type": "code",
   "execution_count": 144,
   "id": "bd137ed7-d2a4-4028-92d0-2a772ff0f9e2",
   "metadata": {},
   "outputs": [
    {
     "data": {
      "text/plain": [
       "['snad', 'kumar', 123, (4+6j)]"
      ]
     },
     "execution_count": 144,
     "metadata": {},
     "output_type": "execute_result"
    }
   ],
   "source": [
    "l[0:4]"
   ]
  },
  {
   "cell_type": "code",
   "execution_count": 145,
   "id": "38a0893e-7174-4dd7-8dd0-2bccefa3601b",
   "metadata": {},
   "outputs": [
    {
     "data": {
      "text/plain": [
       "[45.32, True, (4+6j), 123, 'kumar', 'snad']"
      ]
     },
     "execution_count": 145,
     "metadata": {},
     "output_type": "execute_result"
    }
   ],
   "source": [
    "l[::-1]"
   ]
  },
  {
   "cell_type": "code",
   "execution_count": 146,
   "id": "22b54dff-c1a5-4409-8ad8-f70713b7fab4",
   "metadata": {},
   "outputs": [
    {
     "data": {
      "text/plain": [
       "[45.32]"
      ]
     },
     "execution_count": 146,
     "metadata": {},
     "output_type": "execute_result"
    }
   ],
   "source": [
    "l[-1:6]"
   ]
  },
  {
   "cell_type": "code",
   "execution_count": 149,
   "id": "65ebdde8-0e75-4978-b422-306831d95c14",
   "metadata": {},
   "outputs": [
    {
     "data": {
      "text/plain": [
       "str"
      ]
     },
     "execution_count": 149,
     "metadata": {},
     "output_type": "execute_result"
    }
   ],
   "source": [
    "type(l[0])"
   ]
  },
  {
   "cell_type": "code",
   "execution_count": 150,
   "id": "cc5471bb-a95e-4b12-90e9-8c12e3d68bee",
   "metadata": {},
   "outputs": [
    {
     "data": {
      "text/plain": [
       "bool"
      ]
     },
     "execution_count": 150,
     "metadata": {},
     "output_type": "execute_result"
    }
   ],
   "source": [
    "type(l[4])"
   ]
  },
  {
   "cell_type": "code",
   "execution_count": 148,
   "id": "c39ee56e-8c91-444a-a851-d16f6cf01088",
   "metadata": {},
   "outputs": [
    {
     "data": {
      "text/plain": [
       "'n'"
      ]
     },
     "execution_count": 148,
     "metadata": {},
     "output_type": "execute_result"
    }
   ],
   "source": [
    "l[0][1]"
   ]
  },
  {
   "cell_type": "code",
   "execution_count": 151,
   "id": "6b7e7642-1a17-45e2-8939-a03e601baa8c",
   "metadata": {},
   "outputs": [
    {
     "data": {
      "text/plain": [
       "(4+6j)"
      ]
     },
     "execution_count": 151,
     "metadata": {},
     "output_type": "execute_result"
    }
   ],
   "source": [
    "l[3]"
   ]
  },
  {
   "cell_type": "code",
   "execution_count": 152,
   "id": "9627d51b-af0f-46bd-9652-8a0e4f43fce3",
   "metadata": {},
   "outputs": [
    {
     "data": {
      "text/plain": [
       "4.0"
      ]
     },
     "execution_count": 152,
     "metadata": {},
     "output_type": "execute_result"
    }
   ],
   "source": [
    "l[3].real"
   ]
  },
  {
   "cell_type": "code",
   "execution_count": 153,
   "id": "f1b52b6a-ff66-4cfe-a1c8-eb8747fc89bd",
   "metadata": {},
   "outputs": [
    {
     "data": {
      "text/plain": [
       "6.0"
      ]
     },
     "execution_count": 153,
     "metadata": {},
     "output_type": "execute_result"
    }
   ],
   "source": [
    "l[3].imag"
   ]
  },
  {
   "cell_type": "code",
   "execution_count": 154,
   "id": "c5b2218a-8b49-4e42-8357-413f76c62351",
   "metadata": {},
   "outputs": [],
   "source": [
    "l1 =['sand','kumar',4356]\n",
    "l2 = ['xyz','pqr',546.12]"
   ]
  },
  {
   "cell_type": "code",
   "execution_count": 155,
   "id": "6707145c-6b0f-448b-961c-5b3a38abe365",
   "metadata": {},
   "outputs": [
    {
     "data": {
      "text/plain": [
       "['sand', 'kumar', 4356, 'xyz', 'pqr', 546.12]"
      ]
     },
     "execution_count": 155,
     "metadata": {},
     "output_type": "execute_result"
    }
   ],
   "source": [
    "l1 + l2"
   ]
  },
  {
   "cell_type": "code",
   "execution_count": 158,
   "id": "11c4ddc1-e2ee-4032-8b00-1cad514b8575",
   "metadata": {},
   "outputs": [
    {
     "data": {
      "text/plain": [
       "['sand', 'kumar', 4356, 'sudh']"
      ]
     },
     "execution_count": 158,
     "metadata": {},
     "output_type": "execute_result"
    }
   ],
   "source": [
    "l1 + ['sudh']"
   ]
  },
  {
   "cell_type": "code",
   "execution_count": 159,
   "id": "2bc73a4c-833d-4bc6-b1cf-d14f09f88cb2",
   "metadata": {},
   "outputs": [
    {
     "data": {
      "text/plain": [
       "['sand',\n",
       " 'kumar',\n",
       " 4356,\n",
       " 'sand',\n",
       " 'kumar',\n",
       " 4356,\n",
       " 'sand',\n",
       " 'kumar',\n",
       " 4356,\n",
       " 'sand',\n",
       " 'kumar',\n",
       " 4356]"
      ]
     },
     "execution_count": 159,
     "metadata": {},
     "output_type": "execute_result"
    }
   ],
   "source": [
    "l1 * 4 "
   ]
  },
  {
   "cell_type": "code",
   "execution_count": 160,
   "id": "d32eddd0-a140-4093-8a19-47850508f8de",
   "metadata": {},
   "outputs": [
    {
     "data": {
      "text/plain": [
       "['sand', 'kumar', 4356]"
      ]
     },
     "execution_count": 160,
     "metadata": {},
     "output_type": "execute_result"
    }
   ],
   "source": [
    "l1"
   ]
  },
  {
   "cell_type": "code",
   "execution_count": 161,
   "id": "84e17db1-e5ca-445b-a8e3-c5e7a411dbfd",
   "metadata": {},
   "outputs": [],
   "source": [
    "l1[0] = 'sandeep'"
   ]
  },
  {
   "cell_type": "code",
   "execution_count": 162,
   "id": "5d8a6b4b-79f2-4fbc-b508-f0cd1850a7ca",
   "metadata": {},
   "outputs": [
    {
     "data": {
      "text/plain": [
       "['sandeep', 'kumar', 4356]"
      ]
     },
     "execution_count": 162,
     "metadata": {},
     "output_type": "execute_result"
    }
   ],
   "source": [
    "l1"
   ]
  },
  {
   "cell_type": "code",
   "execution_count": 164,
   "id": "de1ab465-48b1-466e-a96a-6061eb9416ed",
   "metadata": {},
   "outputs": [],
   "source": [
    "s = 'sand'"
   ]
  },
  {
   "cell_type": "code",
   "execution_count": 165,
   "id": "3ae45d51-927f-4eba-9d70-08d2b3dd9387",
   "metadata": {},
   "outputs": [
    {
     "ename": "TypeError",
     "evalue": "'str' object does not support item assignment",
     "output_type": "error",
     "traceback": [
      "\u001b[0;31m---------------------------------------------------------------------------\u001b[0m",
      "\u001b[0;31mTypeError\u001b[0m                                 Traceback (most recent call last)",
      "Cell \u001b[0;32mIn [165], line 1\u001b[0m\n\u001b[0;32m----> 1\u001b[0m \u001b[43ms\u001b[49m\u001b[43m[\u001b[49m\u001b[38;5;241;43m0\u001b[39;49m\u001b[43m]\u001b[49m\u001b[38;5;241m=\u001b[39m \u001b[38;5;124m'\u001b[39m\u001b[38;5;124mk\u001b[39m\u001b[38;5;124m'\u001b[39m\n",
      "\u001b[0;31mTypeError\u001b[0m: 'str' object does not support item assignment"
     ]
    }
   ],
   "source": [
    "s[0]= 'k'  #string is immutable entity"
   ]
  },
  {
   "cell_type": "code",
   "execution_count": 166,
   "id": "da6b8f74-a140-41b8-8422-84cdb3dea892",
   "metadata": {},
   "outputs": [
    {
     "data": {
      "text/plain": [
       "['sandeep', 'kumar', 4356]"
      ]
     },
     "execution_count": 166,
     "metadata": {},
     "output_type": "execute_result"
    }
   ],
   "source": [
    "l1"
   ]
  },
  {
   "cell_type": "code",
   "execution_count": 167,
   "id": "6528fd26-2aab-44d2-a0f7-9a12e515ffbc",
   "metadata": {},
   "outputs": [],
   "source": [
    "l1[1]='sand'   # list is mutable entity"
   ]
  },
  {
   "cell_type": "code",
   "execution_count": 168,
   "id": "79ef0802-c2d1-4852-8d0b-761c12327205",
   "metadata": {},
   "outputs": [
    {
     "data": {
      "text/plain": [
       "['sandeep', 'sand', 4356]"
      ]
     },
     "execution_count": 168,
     "metadata": {},
     "output_type": "execute_result"
    }
   ],
   "source": [
    "l1"
   ]
  },
  {
   "cell_type": "code",
   "execution_count": 169,
   "id": "be3de315-1f77-4561-b178-6344d388144f",
   "metadata": {},
   "outputs": [
    {
     "data": {
      "text/plain": [
       "3"
      ]
     },
     "execution_count": 169,
     "metadata": {},
     "output_type": "execute_result"
    }
   ],
   "source": [
    "len(l1)"
   ]
  },
  {
   "cell_type": "code",
   "execution_count": 173,
   "id": "3a72b68d-5012-4680-8fed-a11feeb1b2b9",
   "metadata": {},
   "outputs": [
    {
     "data": {
      "text/plain": [
       "True"
      ]
     },
     "execution_count": 173,
     "metadata": {},
     "output_type": "execute_result"
    }
   ],
   "source": [
    "'sand' in l1"
   ]
  },
  {
   "cell_type": "code",
   "execution_count": 174,
   "id": "c3666420-14ea-4dd7-9b23-0d4c5626d15c",
   "metadata": {},
   "outputs": [
    {
     "data": {
      "text/plain": [
       "False"
      ]
     },
     "execution_count": 174,
     "metadata": {},
     "output_type": "execute_result"
    }
   ],
   "source": [
    "345 in l1"
   ]
  },
  {
   "cell_type": "code",
   "execution_count": 175,
   "id": "8a489d04-0660-4d2a-b396-f2f60cf2179f",
   "metadata": {},
   "outputs": [
    {
     "data": {
      "text/plain": [
       "['xyz', 'pqr', 546.12]"
      ]
     },
     "execution_count": 175,
     "metadata": {},
     "output_type": "execute_result"
    }
   ],
   "source": [
    "l2"
   ]
  },
  {
   "cell_type": "code",
   "execution_count": 176,
   "id": "8b7debec-0d2d-445d-b6c4-c87096401f83",
   "metadata": {},
   "outputs": [],
   "source": [
    "l2.append('sand')"
   ]
  },
  {
   "cell_type": "code",
   "execution_count": 177,
   "id": "6bb2c065-f99f-4c2e-accc-cfbc1f38f9f4",
   "metadata": {},
   "outputs": [
    {
     "data": {
      "text/plain": [
       "['xyz', 'pqr', 546.12, 'sand']"
      ]
     },
     "execution_count": 177,
     "metadata": {},
     "output_type": "execute_result"
    }
   ],
   "source": [
    "\n",
    "l2"
   ]
  },
  {
   "cell_type": "code",
   "execution_count": 178,
   "id": "c47bd091-4605-4086-a047-7f06dcee06e9",
   "metadata": {},
   "outputs": [
    {
     "data": {
      "text/plain": [
       "'sand'"
      ]
     },
     "execution_count": 178,
     "metadata": {},
     "output_type": "execute_result"
    }
   ],
   "source": [
    "l2.pop()"
   ]
  },
  {
   "cell_type": "code",
   "execution_count": 179,
   "id": "644576ed-b196-4512-844f-ae2eab1ebd73",
   "metadata": {},
   "outputs": [
    {
     "ename": "IndexError",
     "evalue": "pop index out of range",
     "output_type": "error",
     "traceback": [
      "\u001b[0;31m---------------------------------------------------------------------------\u001b[0m",
      "\u001b[0;31mIndexError\u001b[0m                                Traceback (most recent call last)",
      "Cell \u001b[0;32mIn [179], line 1\u001b[0m\n\u001b[0;32m----> 1\u001b[0m \u001b[43ml2\u001b[49m\u001b[38;5;241;43m.\u001b[39;49m\u001b[43mpop\u001b[49m\u001b[43m(\u001b[49m\u001b[38;5;241;43m3\u001b[39;49m\u001b[43m)\u001b[49m\n",
      "\u001b[0;31mIndexError\u001b[0m: pop index out of range"
     ]
    }
   ],
   "source": [
    "l2.pop(3)"
   ]
  },
  {
   "cell_type": "code",
   "execution_count": 180,
   "id": "1f8b66fc-1047-4d8d-8418-9b8e4c8ef3d0",
   "metadata": {},
   "outputs": [
    {
     "data": {
      "text/plain": [
       "546.12"
      ]
     },
     "execution_count": 180,
     "metadata": {},
     "output_type": "execute_result"
    }
   ],
   "source": [
    "l2.pop(2)"
   ]
  },
  {
   "cell_type": "code",
   "execution_count": 181,
   "id": "e30f04e3-28ba-46b4-bc8f-8c212ddd45fd",
   "metadata": {},
   "outputs": [
    {
     "data": {
      "text/plain": [
       "['xyz', 'pqr']"
      ]
     },
     "execution_count": 181,
     "metadata": {},
     "output_type": "execute_result"
    }
   ],
   "source": [
    "l2"
   ]
  },
  {
   "cell_type": "code",
   "execution_count": 182,
   "id": "dffa2455-f9ab-4614-a1f7-1e5eaad29793",
   "metadata": {},
   "outputs": [],
   "source": [
    "l2.append(3456)"
   ]
  },
  {
   "cell_type": "code",
   "execution_count": 183,
   "id": "87d9898c-bc8d-46bf-9043-58a64de7b0ca",
   "metadata": {},
   "outputs": [
    {
     "data": {
      "text/plain": [
       "['xyz', 'pqr', 3456]"
      ]
     },
     "execution_count": 183,
     "metadata": {},
     "output_type": "execute_result"
    }
   ],
   "source": [
    "l2"
   ]
  },
  {
   "cell_type": "code",
   "execution_count": 184,
   "id": "833d9a64-5853-4dc0-b7fe-d78503bb79f9",
   "metadata": {},
   "outputs": [],
   "source": [
    "l2.insert(1,'sand')"
   ]
  },
  {
   "cell_type": "code",
   "execution_count": 185,
   "id": "acfd4e7c-fcd6-4e1c-ba6e-0eb4833121c3",
   "metadata": {},
   "outputs": [
    {
     "data": {
      "text/plain": [
       "['xyz', 'sand', 'pqr', 3456]"
      ]
     },
     "execution_count": 185,
     "metadata": {},
     "output_type": "execute_result"
    }
   ],
   "source": [
    "l2"
   ]
  },
  {
   "cell_type": "code",
   "execution_count": 186,
   "id": "c352e4f0-b280-4e32-8b9b-fd3ccac4c3c8",
   "metadata": {},
   "outputs": [],
   "source": [
    "l2.insert(3,[1,2,3,4,5])"
   ]
  },
  {
   "cell_type": "code",
   "execution_count": 187,
   "id": "ed9c33f5-7fb6-4125-8a46-0f25892143cc",
   "metadata": {},
   "outputs": [
    {
     "data": {
      "text/plain": [
       "['xyz', 'sand', 'pqr', [1, 2, 3, 4, 5], 3456]"
      ]
     },
     "execution_count": 187,
     "metadata": {},
     "output_type": "execute_result"
    }
   ],
   "source": [
    "l2"
   ]
  },
  {
   "cell_type": "code",
   "execution_count": 189,
   "id": "780dabeb-b18d-4b09-9e76-c710560a3d8e",
   "metadata": {},
   "outputs": [
    {
     "data": {
      "text/plain": [
       "[3456, [1, 2, 3, 4, 5], 'pqr', 'sand', 'xyz']"
      ]
     },
     "execution_count": 189,
     "metadata": {},
     "output_type": "execute_result"
    }
   ],
   "source": [
    "l2[::-1]"
   ]
  },
  {
   "cell_type": "code",
   "execution_count": 190,
   "id": "e7458705-615c-4a0c-b3d2-8fef2a14dd87",
   "metadata": {},
   "outputs": [],
   "source": [
    "l2.reverse() #permanant reverse"
   ]
  },
  {
   "cell_type": "code",
   "execution_count": 191,
   "id": "66cc78bc-5ca7-4f6a-a758-54f71dac5e62",
   "metadata": {},
   "outputs": [
    {
     "data": {
      "text/plain": [
       "[3456, [1, 2, 3, 4, 5], 'pqr', 'sand', 'xyz']"
      ]
     },
     "execution_count": 191,
     "metadata": {},
     "output_type": "execute_result"
    }
   ],
   "source": [
    "l2"
   ]
  },
  {
   "cell_type": "code",
   "execution_count": 192,
   "id": "900ebf2d-fc4d-4077-8bfd-47fc0da75701",
   "metadata": {},
   "outputs": [
    {
     "data": {
      "text/plain": [
       "3"
      ]
     },
     "execution_count": 192,
     "metadata": {},
     "output_type": "execute_result"
    }
   ],
   "source": [
    "l2[1][2]"
   ]
  },
  {
   "cell_type": "code",
   "execution_count": 193,
   "id": "d47db9c0-344f-4f1f-83dd-04cd39ec7d8c",
   "metadata": {},
   "outputs": [
    {
     "data": {
      "text/plain": [
       "[3456, [1, 2, 3, 4, 5], 'pqr', 'sand', 'xyz']"
      ]
     },
     "execution_count": 193,
     "metadata": {},
     "output_type": "execute_result"
    }
   ],
   "source": [
    "l2"
   ]
  },
  {
   "cell_type": "code",
   "execution_count": 194,
   "id": "a07ce08a-7d60-433a-aef3-3d470adee98e",
   "metadata": {},
   "outputs": [
    {
     "data": {
      "text/plain": [
       "1"
      ]
     },
     "execution_count": 194,
     "metadata": {},
     "output_type": "execute_result"
    }
   ],
   "source": [
    "l2.count('pqr')"
   ]
  },
  {
   "cell_type": "code",
   "execution_count": 195,
   "id": "908b09df-fff5-4eae-8c55-cf3cabe0ed75",
   "metadata": {},
   "outputs": [],
   "source": [
    "l2.append('ineuron')"
   ]
  },
  {
   "cell_type": "code",
   "execution_count": 196,
   "id": "82e1940f-b9b4-41a7-a311-bb8dad014a3c",
   "metadata": {},
   "outputs": [
    {
     "data": {
      "text/plain": [
       "[3456, [1, 2, 3, 4, 5], 'pqr', 'sand', 'xyz', 'ineuron']"
      ]
     },
     "execution_count": 196,
     "metadata": {},
     "output_type": "execute_result"
    }
   ],
   "source": [
    "l2"
   ]
  },
  {
   "cell_type": "code",
   "execution_count": 197,
   "id": "41092e92-6cc5-4ad2-8f63-71262c065707",
   "metadata": {},
   "outputs": [],
   "source": [
    "l2.append([9,8,7,6])"
   ]
  },
  {
   "cell_type": "code",
   "execution_count": 198,
   "id": "f96f23b6-72f3-4c16-a553-fae43b929671",
   "metadata": {},
   "outputs": [
    {
     "data": {
      "text/plain": [
       "[3456, [1, 2, 3, 4, 5], 'pqr', 'sand', 'xyz', 'ineuron', [9, 8, 7, 6]]"
      ]
     },
     "execution_count": 198,
     "metadata": {},
     "output_type": "execute_result"
    }
   ],
   "source": [
    "l2"
   ]
  },
  {
   "cell_type": "code",
   "execution_count": 199,
   "id": "2875b39c-b69f-4035-895c-a90df89ed287",
   "metadata": {},
   "outputs": [
    {
     "data": {
      "text/plain": [
       "['sandeep', 'sand', 4356]"
      ]
     },
     "execution_count": 199,
     "metadata": {},
     "output_type": "execute_result"
    }
   ],
   "source": [
    "l1"
   ]
  },
  {
   "cell_type": "code",
   "execution_count": 200,
   "id": "bdc7811c-ec93-4447-a3f3-2d67673d04ab",
   "metadata": {},
   "outputs": [],
   "source": [
    "l1.extend([2,54,656,'sand'])  #see diff bt extend and append"
   ]
  },
  {
   "cell_type": "code",
   "execution_count": 201,
   "id": "6c4867bd-4230-46f5-b508-7214cd7a93ed",
   "metadata": {},
   "outputs": [
    {
     "data": {
      "text/plain": [
       "['sandeep', 'sand', 4356, 2, 54, 656, 'sand']"
      ]
     },
     "execution_count": 201,
     "metadata": {},
     "output_type": "execute_result"
    }
   ],
   "source": [
    "l1"
   ]
  },
  {
   "cell_type": "code",
   "execution_count": 202,
   "id": "b7611bda-7bb5-4680-9e18-f97f656b6ffb",
   "metadata": {},
   "outputs": [],
   "source": [
    "l1.extend('deep')  #extend will split elements in dataset"
   ]
  },
  {
   "cell_type": "code",
   "execution_count": 203,
   "id": "80800f09-f0a5-41b6-a4c6-6508a7c8085b",
   "metadata": {},
   "outputs": [
    {
     "data": {
      "text/plain": [
       "['sandeep', 'sand', 4356, 2, 54, 656, 'sand', 'd', 'e', 'e', 'p']"
      ]
     },
     "execution_count": 203,
     "metadata": {},
     "output_type": "execute_result"
    }
   ],
   "source": [
    "l1"
   ]
  },
  {
   "cell_type": "code",
   "execution_count": null,
   "id": "aa3809e6-3821-479f-9caa-b2f63afb1d07",
   "metadata": {},
   "outputs": [],
   "source": []
  },
  {
   "cell_type": "code",
   "execution_count": null,
   "id": "fee56ea6-412e-4efc-b0db-cd65c12e2df8",
   "metadata": {},
   "outputs": [],
   "source": [
    "\n"
   ]
  },
  {
   "cell_type": "code",
   "execution_count": null,
   "id": "6b4c48c1-af04-4297-8fa8-3e07cccaae2a",
   "metadata": {},
   "outputs": [],
   "source": [
    "#List comprehension will covered in function part 2"
   ]
  },
  {
   "cell_type": "code",
   "execution_count": 1,
   "id": "967fc2e5-c361-437b-a605-515b9b8883d8",
   "metadata": {},
   "outputs": [],
   "source": [
    "l = [1,2,3,4,5,6,7,8,9,10]\n",
    "l1=[]\n",
    "for i in l :\n",
    "    l1.append(i+2)"
   ]
  },
  {
   "cell_type": "code",
   "execution_count": 2,
   "id": "b07baaae-7baf-49e0-9dea-8df0261d1080",
   "metadata": {},
   "outputs": [
    {
     "data": {
      "text/plain": [
       "[3, 4, 5, 6, 7, 8, 9, 10, 11, 12]"
      ]
     },
     "execution_count": 2,
     "metadata": {},
     "output_type": "execute_result"
    }
   ],
   "source": [
    "l1"
   ]
  },
  {
   "cell_type": "code",
   "execution_count": null,
   "id": "f7911b8f-4e15-4ba9-a555-fcb1726c42e2",
   "metadata": {},
   "outputs": [],
   "source": [
    "def test():\n",
    "    "
   ]
  }
 ],
 "metadata": {
  "kernelspec": {
   "display_name": "Python 3 (ipykernel)",
   "language": "python",
   "name": "python3"
  },
  "language_info": {
   "codemirror_mode": {
    "name": "ipython",
    "version": 3
   },
   "file_extension": ".py",
   "mimetype": "text/x-python",
   "name": "python",
   "nbconvert_exporter": "python",
   "pygments_lexer": "ipython3",
   "version": "3.10.6"
  }
 },
 "nbformat": 4,
 "nbformat_minor": 5
}
