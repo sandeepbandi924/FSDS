{
 "cells": [
  {
   "cell_type": "code",
   "execution_count": 1,
   "id": "cd00a1ca-6436-49bb-b0d5-d4c37b91d299",
   "metadata": {},
   "outputs": [
    {
     "data": {
      "text/plain": [
       "4"
      ]
     },
     "execution_count": 1,
     "metadata": {},
     "output_type": "execute_result"
    }
   ],
   "source": [
    "len('sudh')"
   ]
  },
  {
   "cell_type": "code",
   "execution_count": 2,
   "id": "3145266f-8ca3-4f66-914c-0982a884bd74",
   "metadata": {},
   "outputs": [
    {
     "name": "stdout",
     "output_type": "stream",
     "text": [
      "Sandeep\n"
     ]
    }
   ],
   "source": [
    "print('Sandeep')"
   ]
  },
  {
   "cell_type": "code",
   "execution_count": 4,
   "id": "a2879165-b0a8-4ebe-b236-0339b062ec74",
   "metadata": {},
   "outputs": [],
   "source": [
    "def test():\n",
    "    pass"
   ]
  },
  {
   "cell_type": "code",
   "execution_count": 5,
   "id": "0952808c-ae2a-4991-a523-9355e83497ae",
   "metadata": {},
   "outputs": [],
   "source": [
    "def test1():\n",
    "    print('This is my first function')"
   ]
  },
  {
   "cell_type": "code",
   "execution_count": 6,
   "id": "e89e7546-d42d-44ee-a013-de97de1d5f49",
   "metadata": {},
   "outputs": [
    {
     "name": "stdout",
     "output_type": "stream",
     "text": [
      "This is my first function\n"
     ]
    }
   ],
   "source": [
    "test1()"
   ]
  },
  {
   "cell_type": "code",
   "execution_count": 7,
   "id": "6c25d54e-8bb7-435a-bef0-b52ffc43bbfd",
   "metadata": {},
   "outputs": [
    {
     "name": "stdout",
     "output_type": "stream",
     "text": [
      "This is my first function\n"
     ]
    }
   ],
   "source": [
    "test1()"
   ]
  },
  {
   "cell_type": "code",
   "execution_count": 8,
   "id": "92b15bc5-da0b-45b2-80fe-89a467dc0c98",
   "metadata": {},
   "outputs": [
    {
     "name": "stdout",
     "output_type": "stream",
     "text": [
      "This is my first function\n"
     ]
    }
   ],
   "source": [
    "test1()"
   ]
  },
  {
   "cell_type": "code",
   "execution_count": 9,
   "id": "bc3fbd86-8c14-4dc9-9ac3-23d0a3d80172",
   "metadata": {},
   "outputs": [
    {
     "name": "stdout",
     "output_type": "stream",
     "text": [
      "This is my first function\n"
     ]
    }
   ],
   "source": [
    "a = test1()"
   ]
  },
  {
   "cell_type": "code",
   "execution_count": 11,
   "id": "a4c4287f-50dd-4978-9158-f72f7a988785",
   "metadata": {},
   "outputs": [
    {
     "ename": "TypeError",
     "evalue": "unsupported operand type(s) for +: 'NoneType' and 'str'",
     "output_type": "error",
     "traceback": [
      "\u001b[0;31m---------------------------------------------------------------------------\u001b[0m",
      "\u001b[0;31mTypeError\u001b[0m                                 Traceback (most recent call last)",
      "Cell \u001b[0;32mIn [11], line 1\u001b[0m\n\u001b[0;32m----> 1\u001b[0m \u001b[43ma\u001b[49m\u001b[43m \u001b[49m\u001b[38;5;241;43m+\u001b[39;49m\u001b[43m \u001b[49m\u001b[38;5;124;43m'\u001b[39;49m\u001b[38;5;124;43msand\u001b[39;49m\u001b[38;5;124;43m'\u001b[39;49m\n",
      "\u001b[0;31mTypeError\u001b[0m: unsupported operand type(s) for +: 'NoneType' and 'str'"
     ]
    }
   ],
   "source": [
    "a + 'sand'"
   ]
  },
  {
   "cell_type": "code",
   "execution_count": 12,
   "id": "8678ff35-4b63-4a39-9df4-bad3adcfdda2",
   "metadata": {},
   "outputs": [
    {
     "name": "stdout",
     "output_type": "stream",
     "text": [
      "This is my first function\n"
     ]
    },
    {
     "data": {
      "text/plain": [
       "NoneType"
      ]
     },
     "execution_count": 12,
     "metadata": {},
     "output_type": "execute_result"
    }
   ],
   "source": [
    "type(test1())"
   ]
  },
  {
   "cell_type": "code",
   "execution_count": 13,
   "id": "5156cd35-200c-4c48-aaf6-c828ddc894a3",
   "metadata": {},
   "outputs": [
    {
     "name": "stdout",
     "output_type": "stream",
     "text": [
      "This is my first function\n"
     ]
    }
   ],
   "source": [
    " a = test1()"
   ]
  },
  {
   "cell_type": "code",
   "execution_count": 14,
   "id": "5a46d1d9-96f7-411c-a704-cb82eb2a948e",
   "metadata": {},
   "outputs": [
    {
     "data": {
      "text/plain": [
       "'None'"
      ]
     },
     "execution_count": 14,
     "metadata": {},
     "output_type": "execute_result"
    }
   ],
   "source": [
    "str(a)"
   ]
  },
  {
   "cell_type": "code",
   "execution_count": 15,
   "id": "75f67223-2486-437f-a0e8-2a430a74c7ba",
   "metadata": {},
   "outputs": [],
   "source": [
    "def test2():\n",
    "    return 'This is my first function'"
   ]
  },
  {
   "cell_type": "code",
   "execution_count": 16,
   "id": "fa36fc1b-953a-4570-960a-35210c66d520",
   "metadata": {},
   "outputs": [
    {
     "data": {
      "text/plain": [
       "'This is my first function'"
      ]
     },
     "execution_count": 16,
     "metadata": {},
     "output_type": "execute_result"
    }
   ],
   "source": [
    "test2()"
   ]
  },
  {
   "cell_type": "code",
   "execution_count": 17,
   "id": "162dedd7-a0e2-4f41-a1f1-7f4dfd65e6aa",
   "metadata": {},
   "outputs": [
    {
     "data": {
      "text/plain": [
       "str"
      ]
     },
     "execution_count": 17,
     "metadata": {},
     "output_type": "execute_result"
    }
   ],
   "source": [
    "type(test2())"
   ]
  },
  {
   "cell_type": "code",
   "execution_count": 18,
   "id": "37838117-2988-4f7a-a028-7d93b9513362",
   "metadata": {},
   "outputs": [
    {
     "data": {
      "text/plain": [
       "'This is my first functionsandeep'"
      ]
     },
     "execution_count": 18,
     "metadata": {},
     "output_type": "execute_result"
    }
   ],
   "source": [
    "test2() + 'sandeep'"
   ]
  },
  {
   "cell_type": "code",
   "execution_count": 19,
   "id": "92d61158-65f4-4cf6-9b81-6a26677fb371",
   "metadata": {},
   "outputs": [],
   "source": [
    "def test3():\n",
    "    return 2345"
   ]
  },
  {
   "cell_type": "code",
   "execution_count": 21,
   "id": "0a2e4c54-61eb-4443-ad8a-377ea497e8a3",
   "metadata": {},
   "outputs": [
    {
     "data": {
      "text/plain": [
       "2345"
      ]
     },
     "execution_count": 21,
     "metadata": {},
     "output_type": "execute_result"
    }
   ],
   "source": [
    "test3()"
   ]
  },
  {
   "cell_type": "code",
   "execution_count": 22,
   "id": "00c0dadd-6c36-4878-9b13-96b633eb517b",
   "metadata": {},
   "outputs": [
    {
     "data": {
      "text/plain": [
       "int"
      ]
     },
     "execution_count": 22,
     "metadata": {},
     "output_type": "execute_result"
    }
   ],
   "source": [
    "type(test3())"
   ]
  },
  {
   "cell_type": "code",
   "execution_count": 23,
   "id": "d5754e49-ed14-4cc0-a865-3e91c506ab18",
   "metadata": {},
   "outputs": [],
   "source": [
    "def test4():\n",
    "    return 4,3,'sudh',[1,2,3,4]"
   ]
  },
  {
   "cell_type": "code",
   "execution_count": 25,
   "id": "8a315b34-b7ef-4137-a2ab-d6d3d60fff99",
   "metadata": {},
   "outputs": [
    {
     "data": {
      "text/plain": [
       "(4, 3, 'sudh', [1, 2, 3, 4])"
      ]
     },
     "execution_count": 25,
     "metadata": {},
     "output_type": "execute_result"
    }
   ],
   "source": [
    "test4()"
   ]
  },
  {
   "cell_type": "code",
   "execution_count": 24,
   "id": "5fe69b37-b7e9-4ece-a6e6-e9ab683ae876",
   "metadata": {},
   "outputs": [
    {
     "data": {
      "text/plain": [
       "tuple"
      ]
     },
     "execution_count": 24,
     "metadata": {},
     "output_type": "execute_result"
    }
   ],
   "source": [
    "type(test4())"
   ]
  },
  {
   "cell_type": "code",
   "execution_count": 26,
   "id": "46247e3a-023c-4ad8-a742-d5ad099ec6f7",
   "metadata": {},
   "outputs": [],
   "source": [
    "b = test4()"
   ]
  },
  {
   "cell_type": "code",
   "execution_count": 27,
   "id": "3e67cd66-d58d-4554-a451-979cf8cb68e7",
   "metadata": {},
   "outputs": [
    {
     "data": {
      "text/plain": [
       "(4, 3, 'sudh', [1, 2, 3, 4])"
      ]
     },
     "execution_count": 27,
     "metadata": {},
     "output_type": "execute_result"
    }
   ],
   "source": [
    "b"
   ]
  },
  {
   "cell_type": "code",
   "execution_count": 28,
   "id": "5b29beb0-b0f4-41b8-a64c-621a83df0bee",
   "metadata": {},
   "outputs": [
    {
     "data": {
      "text/plain": [
       "3"
      ]
     },
     "execution_count": 28,
     "metadata": {},
     "output_type": "execute_result"
    }
   ],
   "source": [
    "b[1]"
   ]
  },
  {
   "cell_type": "code",
   "execution_count": 29,
   "id": "03b7a539-e8a4-4990-aa6f-3a0695729c3b",
   "metadata": {},
   "outputs": [
    {
     "data": {
      "text/plain": [
       "[1, 2, 3, 4]"
      ]
     },
     "execution_count": 29,
     "metadata": {},
     "output_type": "execute_result"
    }
   ],
   "source": [
    "b[3]"
   ]
  },
  {
   "cell_type": "code",
   "execution_count": 30,
   "id": "ca979289-a361-4066-8a4f-6a2ce2d1b933",
   "metadata": {},
   "outputs": [
    {
     "data": {
      "text/plain": [
       "(4, 3, 'sudh', [1, 2, 3, 4])"
      ]
     },
     "execution_count": 30,
     "metadata": {},
     "output_type": "execute_result"
    }
   ],
   "source": [
    "test4()"
   ]
  },
  {
   "cell_type": "code",
   "execution_count": 31,
   "id": "9ee90802-0d7b-4335-a7a4-e0cd1a3822d4",
   "metadata": {},
   "outputs": [],
   "source": [
    "a,b,c,d = 34,45,'sand','djhsajk'"
   ]
  },
  {
   "cell_type": "code",
   "execution_count": 32,
   "id": "42ecd6e8-4f92-429c-b436-da001f1c38fb",
   "metadata": {},
   "outputs": [],
   "source": [
    "x,y,u,v = test4()"
   ]
  },
  {
   "cell_type": "code",
   "execution_count": 33,
   "id": "bdb1bd76-b638-4a9d-9f49-e23e366625aa",
   "metadata": {},
   "outputs": [
    {
     "data": {
      "text/plain": [
       "4"
      ]
     },
     "execution_count": 33,
     "metadata": {},
     "output_type": "execute_result"
    }
   ],
   "source": [
    "x"
   ]
  },
  {
   "cell_type": "code",
   "execution_count": 34,
   "id": "c976860f-60de-4bd5-b7d7-ca3aefc5aabb",
   "metadata": {},
   "outputs": [
    {
     "data": {
      "text/plain": [
       "3"
      ]
     },
     "execution_count": 34,
     "metadata": {},
     "output_type": "execute_result"
    }
   ],
   "source": [
    "y"
   ]
  },
  {
   "cell_type": "code",
   "execution_count": 36,
   "id": "edfb6b55-3899-4024-8728-0e5f07c1e353",
   "metadata": {},
   "outputs": [
    {
     "data": {
      "text/plain": [
       "'sudh'"
      ]
     },
     "execution_count": 36,
     "metadata": {},
     "output_type": "execute_result"
    }
   ],
   "source": [
    "u"
   ]
  },
  {
   "cell_type": "code",
   "execution_count": 37,
   "id": "0f5597d2-9b7f-4ee6-af22-348bd76d9f85",
   "metadata": {},
   "outputs": [
    {
     "data": {
      "text/plain": [
       "[1, 2, 3, 4]"
      ]
     },
     "execution_count": 37,
     "metadata": {},
     "output_type": "execute_result"
    }
   ],
   "source": [
    "v"
   ]
  },
  {
   "cell_type": "code",
   "execution_count": 38,
   "id": "a155bc6a-ad04-4b8f-a9a6-e608b24fcc9c",
   "metadata": {},
   "outputs": [],
   "source": [
    "def test5():\n",
    "    a = 6 * 7 / 6\n",
    "    return a"
   ]
  },
  {
   "cell_type": "code",
   "execution_count": 40,
   "id": "9598414e-b6bb-4efe-93f3-5b8aed1454bb",
   "metadata": {},
   "outputs": [
    {
     "data": {
      "text/plain": [
       "7.0"
      ]
     },
     "execution_count": 40,
     "metadata": {},
     "output_type": "execute_result"
    }
   ],
   "source": [
    "test5()"
   ]
  },
  {
   "cell_type": "code",
   "execution_count": 41,
   "id": "806e8527-8edf-4c20-948c-30a48030cd1c",
   "metadata": {},
   "outputs": [
    {
     "data": {
      "text/plain": [
       "7"
      ]
     },
     "execution_count": 41,
     "metadata": {},
     "output_type": "execute_result"
    }
   ],
   "source": [
    "len('sandeep')"
   ]
  },
  {
   "cell_type": "code",
   "execution_count": null,
   "id": "a40269a9-24c3-4317-9683-c38b05847be4",
   "metadata": {},
   "outputs": [],
   "source": [
    "def test6()"
   ]
  },
  {
   "cell_type": "code",
   "execution_count": 42,
   "id": "fedb9d7d-06c3-4be8-847b-494bd3cb1bcf",
   "metadata": {},
   "outputs": [],
   "source": [
    "l = [3,4,5,6,7,'sudh',[1,3,4,5]]"
   ]
  },
  {
   "cell_type": "code",
   "execution_count": 50,
   "id": "1011e87f-96e9-4c64-a848-b222c038c9fb",
   "metadata": {},
   "outputs": [],
   "source": [
    "def test6(a):\n",
    "    n = []\n",
    "    if type(a) == list:\n",
    "        for i in a :\n",
    "            if type(i) == int :\n",
    "                n.append(i)\n",
    "    return n"
   ]
  },
  {
   "cell_type": "code",
   "execution_count": 52,
   "id": "e5550565-8948-476b-8e6a-efdba7eb7228",
   "metadata": {},
   "outputs": [
    {
     "data": {
      "text/plain": [
       "[3, 4, 5, 6, 7]"
      ]
     },
     "execution_count": 52,
     "metadata": {},
     "output_type": "execute_result"
    }
   ],
   "source": [
    "test6(l)"
   ]
  },
  {
   "cell_type": "code",
   "execution_count": 60,
   "id": "8a2c510d-f456-4bcf-9686-4a4f93cff22e",
   "metadata": {},
   "outputs": [],
   "source": [
    "def test7(d):\n",
    "    if type(d) == dict:\n",
    "        return d.keys()\n",
    "    else:\n",
    "        return 'need to pass dict'\n",
    "    \n",
    "    "
   ]
  },
  {
   "cell_type": "code",
   "execution_count": 62,
   "id": "bff217cf-9361-4e6e-aa72-d1873596403a",
   "metadata": {},
   "outputs": [
    {
     "data": {
      "text/plain": [
       "'need to pass dict'"
      ]
     },
     "execution_count": 62,
     "metadata": {},
     "output_type": "execute_result"
    }
   ],
   "source": [
    "test7('hidss')"
   ]
  },
  {
   "cell_type": "code",
   "execution_count": 63,
   "id": "9de4a4f2-7c19-4412-b5d5-8699d90f7fe3",
   "metadata": {},
   "outputs": [
    {
     "data": {
      "text/plain": [
       "dict_keys(['key1', 'key2'])"
      ]
     },
     "execution_count": 63,
     "metadata": {},
     "output_type": "execute_result"
    }
   ],
   "source": [
    "test7({'key1':'helo','key2':4})"
   ]
  },
  {
   "cell_type": "code",
   "execution_count": 74,
   "id": "f98add79-e566-4321-ae0c-e55d406d6ff3",
   "metadata": {},
   "outputs": [],
   "source": [
    "def test8(a,b):\n",
    "    if type(a) == list and type(b)== list:\n",
    "        a.extend(b)\n",
    "        return a\n",
    "    else:\n",
    "        return 'your data is not list'"
   ]
  },
  {
   "cell_type": "code",
   "execution_count": 77,
   "id": "00f7c637-8c21-4e79-b78e-bd96b71a4b97",
   "metadata": {},
   "outputs": [
    {
     "data": {
      "text/plain": [
       "[1, 2, 3, 4, 'sand', 45, 788]"
      ]
     },
     "execution_count": 77,
     "metadata": {},
     "output_type": "execute_result"
    }
   ],
   "source": [
    "test8([1,2,3,4],['sand',45,788])"
   ]
  },
  {
   "cell_type": "code",
   "execution_count": 78,
   "id": "7f374725-3030-436e-9f22-e85d5fbdc4e4",
   "metadata": {},
   "outputs": [
    {
     "data": {
      "text/plain": [
       "[1, 2, 3, 4, 'sand', 45, 788]"
      ]
     },
     "execution_count": 78,
     "metadata": {},
     "output_type": "execute_result"
    }
   ],
   "source": [
    "h"
   ]
  },
  {
   "cell_type": "code",
   "execution_count": 90,
   "id": "c096479d-7867-4c77-bb48-d130c6d9202d",
   "metadata": {},
   "outputs": [],
   "source": [
    "def test9(n):\n",
    "    '''This is a fucntion to craete triangle with no of rows'''\n",
    "    for i in range(n):\n",
    "        for j in range(i+1):\n",
    "            print('.',end='')\n",
    "        print()"
   ]
  },
  {
   "cell_type": "code",
   "execution_count": 87,
   "id": "0a1a2a21-e69b-4f85-b905-3a696ce8a760",
   "metadata": {},
   "outputs": [
    {
     "name": "stdout",
     "output_type": "stream",
     "text": [
      ".  \n",
      ".  .  \n",
      ".  .  .  \n",
      ".  .  .  .  \n",
      ".  .  .  .  .  \n",
      ".  .  .  .  .  .  \n",
      ".  .  .  .  .  .  .  \n",
      ".  .  .  .  .  .  .  .  \n",
      ".  .  .  .  .  .  .  .  .  \n",
      ".  .  .  .  .  .  .  .  .  .  \n"
     ]
    }
   ],
   "source": [
    "test9(10)"
   ]
  },
  {
   "cell_type": "code",
   "execution_count": 92,
   "id": "aa20ac72-6441-49de-a985-33bca8b2f5ed",
   "metadata": {},
   "outputs": [
    {
     "name": "stdout",
     "output_type": "stream",
     "text": [
      "Help on function test9 in module __main__:\n",
      "\n",
      "test9(n)\n",
      "    This is a fucntion to craete triangle with no of rows\n",
      "\n"
     ]
    }
   ],
   "source": [
    "help(test9)"
   ]
  },
  {
   "cell_type": "code",
   "execution_count": null,
   "id": "ca5daeba-5aca-4b2e-b6ad-abfd2b3375ff",
   "metadata": {},
   "outputs": [],
   "source": []
  }
 ],
 "metadata": {
  "kernelspec": {
   "display_name": "Python 3 (ipykernel)",
   "language": "python",
   "name": "python3"
  },
  "language_info": {
   "codemirror_mode": {
    "name": "ipython",
    "version": 3
   },
   "file_extension": ".py",
   "mimetype": "text/x-python",
   "name": "python",
   "nbconvert_exporter": "python",
   "pygments_lexer": "ipython3",
   "version": "3.10.6"
  }
 },
 "nbformat": 4,
 "nbformat_minor": 5
}
