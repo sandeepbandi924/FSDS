{
 "cells": [
  {
   "cell_type": "code",
   "execution_count": 1,
   "id": "a5fd34de-5a0f-4a59-80a1-a6ae9657aaf3",
   "metadata": {},
   "outputs": [],
   "source": [
    "#wrt a fun to which will try to find out len of string with out using inbuilt function"
   ]
  },
  {
   "cell_type": "code",
   "execution_count": 2,
   "id": "9abae504-77c5-405c-8179-5bdffe9d46eb",
   "metadata": {},
   "outputs": [
    {
     "data": {
      "text/plain": [
       "7"
      ]
     },
     "execution_count": 2,
     "metadata": {},
     "output_type": "execute_result"
    }
   ],
   "source": [
    "len('Sandeep')"
   ]
  },
  {
   "cell_type": "code",
   "execution_count": 14,
   "id": "3f86e71b-f720-47fb-a24c-0b51ea12d162",
   "metadata": {},
   "outputs": [],
   "source": [
    "def test(s):\n",
    "    \"\"\"This is a program for len of string \"\"\"\n",
    "    count=0\n",
    "    for i in s:\n",
    "        if type(s)==str:\n",
    "             count=count+1\n",
    "    return count\n"
   ]
  },
  {
   "cell_type": "code",
   "execution_count": 15,
   "id": "696f519c-b1bb-4324-8445-d3352a356e99",
   "metadata": {},
   "outputs": [
    {
     "data": {
      "text/plain": [
       "4"
      ]
     },
     "execution_count": 15,
     "metadata": {},
     "output_type": "execute_result"
    }
   ],
   "source": [
    "test(\"Sand\")"
   ]
  },
  {
   "cell_type": "code",
   "execution_count": 16,
   "id": "62bbe544-6b5c-44c4-a267-e19f5e6198c9",
   "metadata": {},
   "outputs": [],
   "source": [
    "#2 wrt a fun which will able to print index of list elemntwith out using index function\n",
    "\n",
    "l = [1,2,3,4,'sand','ineuron']"
   ]
  },
  {
   "cell_type": "code",
   "execution_count": 17,
   "id": "acb24d06-7b80-4cdc-ab35-d0633646a9b5",
   "metadata": {},
   "outputs": [],
   "source": [
    "def test1(l):\n",
    "    for i in range(0,len(l)):\n",
    "        print(l[i] ,':',i)"
   ]
  },
  {
   "cell_type": "code",
   "execution_count": 18,
   "id": "eeaa6ea4-7f1c-401c-be03-f22333be4efe",
   "metadata": {},
   "outputs": [
    {
     "name": "stdout",
     "output_type": "stream",
     "text": [
      "1 : 0\n",
      "2 : 1\n",
      "3 : 2\n",
      "4 : 3\n",
      "sand : 4\n",
      "ineuron : 5\n"
     ]
    }
   ],
   "source": [
    "test1(l)"
   ]
  },
  {
   "cell_type": "code",
   "execution_count": 19,
   "id": "55ae8a4f-9e75-4845-87e8-9c8774ddc864",
   "metadata": {},
   "outputs": [],
   "source": [
    "#3 wrt a fun which will print IP address of the system"
   ]
  },
  {
   "cell_type": "code",
   "execution_count": 20,
   "id": "ee9a27c8-8251-44ac-bffd-b9da229d19b1",
   "metadata": {},
   "outputs": [
    {
     "data": {
      "text/plain": [
       "'/home/jovyan/work'"
      ]
     },
     "execution_count": 20,
     "metadata": {},
     "output_type": "execute_result"
    }
   ],
   "source": [
    "pwd"
   ]
  },
  {
   "cell_type": "code",
   "execution_count": 28,
   "id": "aec7e371-3fad-4d43-b6da-8d4463feed6e",
   "metadata": {},
   "outputs": [],
   "source": [
    "import socket\n",
    "def test3():\n",
    "    ip=socket.gethostbyname(socket.gethostname())\n",
    "    return ip"
   ]
  },
  {
   "cell_type": "code",
   "execution_count": 29,
   "id": "77e3bc43-065b-406b-ac3f-efbf45b7c80e",
   "metadata": {},
   "outputs": [
    {
     "data": {
      "text/plain": [
       "'172.18.0.17'"
      ]
     },
     "execution_count": 29,
     "metadata": {},
     "output_type": "execute_result"
    }
   ],
   "source": [
    "test3()"
   ]
  },
  {
   "cell_type": "code",
   "execution_count": 30,
   "id": "8d9c1f5a-6a45-49ec-a892-46a4479584d6",
   "metadata": {},
   "outputs": [
    {
     "name": "stderr",
     "output_type": "stream",
     "text": [
      "sh: 1: shutdown: not found\n"
     ]
    },
    {
     "data": {
      "text/plain": [
       "32512"
      ]
     },
     "execution_count": 30,
     "metadata": {},
     "output_type": "execute_result"
    }
   ],
   "source": [
    "#4wrt a fucn which will shutdown your system\n",
    "import os\n",
    "os.system(\"shutdown /s /t 5\")\n",
    "#/s - shutdown\n",
    "#/r - restrt\n",
    "#/t 1- timer to shutdown"
   ]
  },
  {
   "cell_type": "code",
   "execution_count": 39,
   "id": "2c4c485e-c96c-4fb8-81c1-513f125a8624",
   "metadata": {},
   "outputs": [],
   "source": [
    "#5 wrt a fucnt to multiply the data in the list\n",
    "l = [1,2,3,4,5,'sand','fsds batch',3.2,4.5,6.5]\n",
    "def test5(l):\n",
    "    mul = 1\n",
    "    for i in l :\n",
    "        if type(i) == int or type(i) == float :\n",
    "            mul = mul * i\n",
    "    return mul"
   ]
  },
  {
   "cell_type": "code",
   "execution_count": 40,
   "id": "ca214842-edd7-4290-b4a8-22dbed639eb6",
   "metadata": {},
   "outputs": [
    {
     "data": {
      "text/plain": [
       "11232.0"
      ]
     },
     "execution_count": 40,
     "metadata": {},
     "output_type": "execute_result"
    }
   ],
   "source": [
    "test5(l)"
   ]
  },
  {
   "cell_type": "code",
   "execution_count": null,
   "id": "9a22cfdc-925e-4163-b7c9-ec5317b329b0",
   "metadata": {},
   "outputs": [],
   "source": [
    "#wrt a function which read all the mails\n"
   ]
  },
  {
   "cell_type": "code",
   "execution_count": 7,
   "id": "8f6bee31-d89c-494d-8a95-15baad33f5c1",
   "metadata": {},
   "outputs": [
    {
     "ename": "SMTPAuthenticationError",
     "evalue": "(535, b'5.7.8 Username and Password not accepted. Learn more at\\n5.7.8  https://support.google.com/mail/?p=BadCredentials ja7-20020a170902efc700b0019aa8fd948fsm2093310plb.218 - gsmtp')",
     "output_type": "error",
     "traceback": [
      "\u001b[0;31m---------------------------------------------------------------------------\u001b[0m",
      "\u001b[0;31mSMTPAuthenticationError\u001b[0m                   Traceback (most recent call last)",
      "Cell \u001b[0;32mIn [7], line 14\u001b[0m\n\u001b[1;32m     12\u001b[0m context \u001b[38;5;241m=\u001b[39m ssl\u001b[38;5;241m.\u001b[39mcreate_default_context()\n\u001b[1;32m     13\u001b[0m \u001b[38;5;28;01mwith\u001b[39;00m smtplib\u001b[38;5;241m.\u001b[39mSMTP_SSL(smtp_server, port, context\u001b[38;5;241m=\u001b[39mcontext) \u001b[38;5;28;01mas\u001b[39;00m server:\n\u001b[0;32m---> 14\u001b[0m     \u001b[43mserver\u001b[49m\u001b[38;5;241;43m.\u001b[39;49m\u001b[43mlogin\u001b[49m\u001b[43m(\u001b[49m\u001b[43msender_mail\u001b[49m\u001b[43m \u001b[49m\u001b[43m,\u001b[49m\u001b[43m \u001b[49m\u001b[43mpassword\u001b[49m\u001b[43m)\u001b[49m\n\u001b[1;32m     15\u001b[0m     server\u001b[38;5;241m.\u001b[39msendmail(sender_mail , receiver_mail, message)\n",
      "File \u001b[0;32m/opt/conda/lib/python3.10/smtplib.py:750\u001b[0m, in \u001b[0;36mSMTP.login\u001b[0;34m(self, user, password, initial_response_ok)\u001b[0m\n\u001b[1;32m    747\u001b[0m         last_exception \u001b[38;5;241m=\u001b[39m e\n\u001b[1;32m    749\u001b[0m \u001b[38;5;66;03m# We could not login successfully.  Return result of last attempt.\u001b[39;00m\n\u001b[0;32m--> 750\u001b[0m \u001b[38;5;28;01mraise\u001b[39;00m last_exception\n",
      "File \u001b[0;32m/opt/conda/lib/python3.10/smtplib.py:739\u001b[0m, in \u001b[0;36mSMTP.login\u001b[0;34m(self, user, password, initial_response_ok)\u001b[0m\n\u001b[1;32m    737\u001b[0m method_name \u001b[38;5;241m=\u001b[39m \u001b[38;5;124m'\u001b[39m\u001b[38;5;124mauth_\u001b[39m\u001b[38;5;124m'\u001b[39m \u001b[38;5;241m+\u001b[39m authmethod\u001b[38;5;241m.\u001b[39mlower()\u001b[38;5;241m.\u001b[39mreplace(\u001b[38;5;124m'\u001b[39m\u001b[38;5;124m-\u001b[39m\u001b[38;5;124m'\u001b[39m, \u001b[38;5;124m'\u001b[39m\u001b[38;5;124m_\u001b[39m\u001b[38;5;124m'\u001b[39m)\n\u001b[1;32m    738\u001b[0m \u001b[38;5;28;01mtry\u001b[39;00m:\n\u001b[0;32m--> 739\u001b[0m     (code, resp) \u001b[38;5;241m=\u001b[39m \u001b[38;5;28;43mself\u001b[39;49m\u001b[38;5;241;43m.\u001b[39;49m\u001b[43mauth\u001b[49m\u001b[43m(\u001b[49m\n\u001b[1;32m    740\u001b[0m \u001b[43m        \u001b[49m\u001b[43mauthmethod\u001b[49m\u001b[43m,\u001b[49m\u001b[43m \u001b[49m\u001b[38;5;28;43mgetattr\u001b[39;49m\u001b[43m(\u001b[49m\u001b[38;5;28;43mself\u001b[39;49m\u001b[43m,\u001b[49m\u001b[43m \u001b[49m\u001b[43mmethod_name\u001b[49m\u001b[43m)\u001b[49m\u001b[43m,\u001b[49m\n\u001b[1;32m    741\u001b[0m \u001b[43m        \u001b[49m\u001b[43minitial_response_ok\u001b[49m\u001b[38;5;241;43m=\u001b[39;49m\u001b[43minitial_response_ok\u001b[49m\u001b[43m)\u001b[49m\n\u001b[1;32m    742\u001b[0m     \u001b[38;5;66;03m# 235 == 'Authentication successful'\u001b[39;00m\n\u001b[1;32m    743\u001b[0m     \u001b[38;5;66;03m# 503 == 'Error: already authenticated'\u001b[39;00m\n\u001b[1;32m    744\u001b[0m     \u001b[38;5;28;01mif\u001b[39;00m code \u001b[38;5;129;01min\u001b[39;00m (\u001b[38;5;241m235\u001b[39m, \u001b[38;5;241m503\u001b[39m):\n",
      "File \u001b[0;32m/opt/conda/lib/python3.10/smtplib.py:662\u001b[0m, in \u001b[0;36mSMTP.auth\u001b[0;34m(self, mechanism, authobject, initial_response_ok)\u001b[0m\n\u001b[1;32m    660\u001b[0m \u001b[38;5;28;01mif\u001b[39;00m code \u001b[38;5;129;01min\u001b[39;00m (\u001b[38;5;241m235\u001b[39m, \u001b[38;5;241m503\u001b[39m):\n\u001b[1;32m    661\u001b[0m     \u001b[38;5;28;01mreturn\u001b[39;00m (code, resp)\n\u001b[0;32m--> 662\u001b[0m \u001b[38;5;28;01mraise\u001b[39;00m SMTPAuthenticationError(code, resp)\n",
      "\u001b[0;31mSMTPAuthenticationError\u001b[0m: (535, b'5.7.8 Username and Password not accepted. Learn more at\\n5.7.8  https://support.google.com/mail/?p=BadCredentials ja7-20020a170902efc700b0019aa8fd948fsm2093310plb.218 - gsmtp')"
     ]
    }
   ],
   "source": [
    "#wrt a function which will sned mail to anyone\n",
    "\n",
    "#smtplib - simple mail transfer protocol lib and ssl - sql server\n",
    "import smtplib , ssl\n",
    "port = 465 #For sql\n",
    "smtp_server = 'smtp.gmail.com'\n",
    "sender_mail = 'bandisandeep1374@gmail;.com'\n",
    "receiver_mail = 'bandisandeep1423@gmail.com'\n",
    "message = '''This is message from python code'''\n",
    "password = 'bhgvrbydzcvjjmqq'\n",
    "\n",
    "context = ssl.create_default_context()\n",
    "with smtplib.SMTP_SSL(smtp_server, port, context=context) as server:\n",
    "    server.login(sender_mail , password)\n",
    "    server.sendmail(sender_mail , receiver_mail, message)"
   ]
  },
  {
   "cell_type": "code",
   "execution_count": 11,
   "id": "e7af2647-2a17-48c5-a71d-5ed8c3068a50",
   "metadata": {},
   "outputs": [],
   "source": [
    "#wrt a function which will be able to read a doc/word file your system\n",
    "import docx2txt"
   ]
  },
  {
   "cell_type": "code",
   "execution_count": 9,
   "id": "e4f198ac-f8b5-439b-b52e-918b31227c8f",
   "metadata": {},
   "outputs": [
    {
     "name": "stdout",
     "output_type": "stream",
     "text": [
      "Collecting docx2txt\n",
      "  Downloading docx2txt-0.8.tar.gz (2.8 kB)\n",
      "  Preparing metadata (setup.py) ... \u001b[?25ldone\n",
      "\u001b[?25hBuilding wheels for collected packages: docx2txt\n",
      "  Building wheel for docx2txt (setup.py) ... \u001b[?25ldone\n",
      "\u001b[?25h  Created wheel for docx2txt: filename=docx2txt-0.8-py3-none-any.whl size=3960 sha256=e05d8d02a943c2969e717f29029d405cb27426b3782e98bb216f13c7ec312436\n",
      "  Stored in directory: /home/jovyan/.cache/pip/wheels/3c/78/a3/ef70996aa66e38229494dbd84cd747e2e0668f1940bf4a7de8\n",
      "Successfully built docx2txt\n",
      "Installing collected packages: docx2txt\n",
      "Successfully installed docx2txt-0.8\n",
      "Note: you may need to restart the kernel to use updated packages.\n"
     ]
    }
   ],
   "source": [
    "pip install docx2txt"
   ]
  },
  {
   "cell_type": "code",
   "execution_count": 13,
   "id": "5bbbf891-f40f-4b93-ba28-bf018533cb36",
   "metadata": {},
   "outputs": [
    {
     "name": "stdout",
     "output_type": "stream",
     "text": [
      "LPU/DE/DOR/EC/210127/0001/P132/16/1916\n",
      "\n",
      "   Date: 05 Feb 22\n",
      "\n",
      "\n",
      "\n",
      "\n",
      "\n",
      "                            LETTER OF RECOMMENDATION\n",
      "\n",
      "\n",
      "\n",
      "I am writing this letter to give my recommendation for Mr. Sandeep Bandi who was a student of our University's School Computer Science and Engineering where I'm working as an Assistant Professor. I have taught him Python programming course and I am fully convinced about his knowledge in the above-mentioned subject. He has excellent communication skills and there were evident during the academic seminars. He was confident, mature and was able to clearly explain some very convoluted concepts. His advanced skills and passion for the computer-related subjects make him an ideal fit for your rigorous program.\n",
      "\n",
      "\n",
      "\n",
      "Sandeep is a perceptive, sharp, quick individual with a high aptitude for computers, math, and science. He is driven to understand how things work and his final project in class was especially impressive. He's been a strong leader, eager to share his knowledge with others and learn new skills. His personal strengths are as impressive as his intellectual accomplishments. He's an active, outgoing presence in class with a great sense of humor. He is the perfect person to get a group project rolling, but he also knows how to sit back and let others take the lead. He is just a kind of driven, engaging, and curious student that helped make our classroom a lively environment and safe place to take intellectual risks.\n",
      "\n",
      "\n",
      "\n",
      "Sandeep has my highest recommendation for admission to your University/College program. He proved himself to be a 'take-charge' person in both class and labs, with the ability to plan, organize and execute successfully. He is sincere, talented and has a $eat capacity for hard work. He is open to ideas, continues to learn and seeks advice freely from time to time. He has the zest for learning that is why he is applying to your University/College and I completely support his decision as I am sure that his drive and abilities would prove to be an asset to your establishment.\n",
      "\n",
      "\n",
      "\n",
      "\n",
      "\n",
      " Parvinder Singh\n",
      "\n",
      "Assistant Professor\n",
      "\n",
      "  Department of Computer Science and Engineering\n",
      "\n",
      "E mail : parvindersingh.lpu@gmail.com\n"
     ]
    }
   ],
   "source": [
    "a = docx2txt.process('parvinder LOR.docx')\n",
    "print(a)"
   ]
  },
  {
   "cell_type": "code",
   "execution_count": 14,
   "id": "0f562997-f601-4918-af99-a3f7992922cc",
   "metadata": {},
   "outputs": [
    {
     "name": "stdout",
     "output_type": "stream",
     "text": [
      " FunctionSolutions.ipynb  'parvinder LOR.docx'   README.md   sample-code.ipynb\n"
     ]
    }
   ],
   "source": [
    "ls"
   ]
  },
  {
   "cell_type": "code",
   "execution_count": null,
   "id": "08e4833c-1678-4b16-afe4-74f3c14a2613",
   "metadata": {},
   "outputs": [],
   "source": []
  }
 ],
 "metadata": {
  "kernelspec": {
   "display_name": "Python 3 (ipykernel)",
   "language": "python",
   "name": "python3"
  },
  "language_info": {
   "codemirror_mode": {
    "name": "ipython",
    "version": 3
   },
   "file_extension": ".py",
   "mimetype": "text/x-python",
   "name": "python",
   "nbconvert_exporter": "python",
   "pygments_lexer": "ipython3",
   "version": "3.10.6"
  }
 },
 "nbformat": 4,
 "nbformat_minor": 5
}
