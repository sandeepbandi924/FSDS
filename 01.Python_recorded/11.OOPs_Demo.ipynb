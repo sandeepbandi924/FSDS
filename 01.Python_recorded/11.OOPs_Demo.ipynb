{
 "cells": [
  {
   "cell_type": "code",
   "execution_count": 1,
   "id": "c1474701-63cb-4ef9-95d4-b2e7be8afa25",
   "metadata": {},
   "outputs": [
    {
     "name": "stdout",
     "output_type": "stream",
     "text": [
      "1\n",
      "2\n",
      "3\n",
      "4\n",
      "5\n"
     ]
    }
   ],
   "source": [
    "l = [1,2,3,4,5]\n",
    "for i in l :\n",
    "    print(i)"
   ]
  },
  {
   "cell_type": "code",
   "execution_count": null,
   "id": "fbfc5f80-8838-4fb1-83de-5cb55141172c",
   "metadata": {},
   "outputs": [],
   "source": [
    "#Class - > It kind of a blue print\n",
    "\n",
    "#Object - > Kind of entity it really exist(which we able to see and touch)"
   ]
  },
  {
   "cell_type": "code",
   "execution_count": 2,
   "id": "3cd566b5-bdf4-4a84-a223-52a723b8148d",
   "metadata": {},
   "outputs": [
    {
     "data": {
      "text/plain": [
       "'SAND'"
      ]
     },
     "execution_count": 2,
     "metadata": {},
     "output_type": "execute_result"
    }
   ],
   "source": [
    "'SAND'"
   ]
  },
  {
   "cell_type": "code",
   "execution_count": 3,
   "id": "47a40cb6-bc75-4936-b186-be0f4308d6f3",
   "metadata": {},
   "outputs": [
    {
     "data": {
      "text/plain": [
       "'Deep'"
      ]
     },
     "execution_count": 3,
     "metadata": {},
     "output_type": "execute_result"
    }
   ],
   "source": [
    "'Deep'"
   ]
  },
  {
   "cell_type": "code",
   "execution_count": 4,
   "id": "6ee11bd2-6749-4dcc-ab74-5883f8dbe1a0",
   "metadata": {},
   "outputs": [],
   "source": [
    "class car :\n",
    "    pass"
   ]
  },
  {
   "cell_type": "code",
   "execution_count": 9,
   "id": "75f0bd30-4e67-4c79-bd61-4d5a0f23bc90",
   "metadata": {},
   "outputs": [],
   "source": [
    "class car :\n",
    "    def __init__(self , brand_name, fuel_type, body_type ): \n",
    "\n",
    "        self.brand_name = brand_name\n",
    "        self.fuel_type = fuel_type\n",
    "        self.body_type = body_type\n",
    "        \n",
    "    def desc_car(self):\n",
    "        print(self.brand_name , self.fuel_type , self.body_type)"
   ]
  },
  {
   "cell_type": "code",
   "execution_count": 10,
   "id": "1e5323d5-eb96-4d82-b741-208b0b5b7422",
   "metadata": {},
   "outputs": [],
   "source": [
    "#(constrctor -> Kind of entity which will pass data to the class at time of creation of object)\n",
    "\n",
    "#self -> it is a pointer"
   ]
  },
  {
   "cell_type": "code",
   "execution_count": 16,
   "id": "26ef2442-4696-46d5-99a0-774765c350ca",
   "metadata": {},
   "outputs": [],
   "source": [
    "innova = car('Toyata', 'Diesel', 'Suv')\n",
    "nexon = car('Tata', 'Petrol', 'Min Suv')\n",
    "fortuner = car('Toyata', 'Diesel', 'Suv')"
   ]
  },
  {
   "cell_type": "code",
   "execution_count": 13,
   "id": "a3222c21-79b3-4333-bf45-f930d01d9d7a",
   "metadata": {},
   "outputs": [
    {
     "data": {
      "text/plain": [
       "'Toyata'"
      ]
     },
     "execution_count": 13,
     "metadata": {},
     "output_type": "execute_result"
    }
   ],
   "source": [
    "innova.brand_name"
   ]
  },
  {
   "cell_type": "code",
   "execution_count": 14,
   "id": "da56331f-6bd6-495b-9d5c-a3eb95a18075",
   "metadata": {},
   "outputs": [
    {
     "data": {
      "text/plain": [
       "'Diesel'"
      ]
     },
     "execution_count": 14,
     "metadata": {},
     "output_type": "execute_result"
    }
   ],
   "source": [
    "innova.fuel_type"
   ]
  },
  {
   "cell_type": "code",
   "execution_count": 17,
   "id": "7ff3a0aa-2ff6-4bf3-8db0-73de8f7046d2",
   "metadata": {},
   "outputs": [
    {
     "name": "stdout",
     "output_type": "stream",
     "text": [
      "Tata Petrol Min Suv\n"
     ]
    }
   ],
   "source": [
    "nexon.desc_car()"
   ]
  },
  {
   "cell_type": "code",
   "execution_count": 19,
   "id": "614b79c8-1d4a-49bd-b1f5-60e90835c91f",
   "metadata": {},
   "outputs": [
    {
     "name": "stdout",
     "output_type": "stream",
     "text": [
      "Toyata Diesel Suv\n"
     ]
    }
   ],
   "source": [
    "fortuner.desc_car()"
   ]
  },
  {
   "cell_type": "code",
   "execution_count": 12,
   "id": "9af1860b-ffe2-42da-89a6-2115f74ca69f",
   "metadata": {},
   "outputs": [
    {
     "name": "stdout",
     "output_type": "stream",
     "text": [
      "Toyata Diesel Suv\n"
     ]
    }
   ],
   "source": [
    "innova.desc_car()"
   ]
  },
  {
   "cell_type": "code",
   "execution_count": 22,
   "id": "c093904a-4472-4e6a-aa5d-d90c8534536b",
   "metadata": {},
   "outputs": [
    {
     "name": "stdout",
     "output_type": "stream",
     "text": [
      "<class 'int'>\n"
     ]
    }
   ],
   "source": [
    "a = 10\n",
    "print(type(a))"
   ]
  },
  {
   "cell_type": "code",
   "execution_count": 23,
   "id": "9558cfe6-9593-4ed6-abfe-f8345dbbe244",
   "metadata": {},
   "outputs": [
    {
     "name": "stdout",
     "output_type": "stream",
     "text": [
      "<class 'str'>\n"
     ]
    }
   ],
   "source": [
    "s = 'sand'\n",
    "print(type(s))"
   ]
  },
  {
   "cell_type": "code",
   "execution_count": null,
   "id": "5deba11a-bff3-42b5-aabe-fab4f714ef92",
   "metadata": {},
   "outputs": [],
   "source": []
  }
 ],
 "metadata": {
  "kernelspec": {
   "display_name": "Python 3 (ipykernel)",
   "language": "python",
   "name": "python3"
  },
  "language_info": {
   "codemirror_mode": {
    "name": "ipython",
    "version": 3
   },
   "file_extension": ".py",
   "mimetype": "text/x-python",
   "name": "python",
   "nbconvert_exporter": "python",
   "pygments_lexer": "ipython3",
   "version": "3.10.6"
  }
 },
 "nbformat": 4,
 "nbformat_minor": 5
}
