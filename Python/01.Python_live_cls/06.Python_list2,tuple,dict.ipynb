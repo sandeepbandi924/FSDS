{
 "cells": [
  {
   "cell_type": "markdown",
   "id": "5eb2ee93-27a3-479f-b77b-41e9f7f9396b",
   "metadata": {},
   "source": [
    "### Nested list\n",
    "\n",
    "list inside a list"
   ]
  },
  {
   "cell_type": "code",
   "execution_count": 2,
   "id": "9981e3eb-ea97-4d43-93b7-de9033cab09b",
   "metadata": {},
   "outputs": [
    {
     "data": {
      "text/plain": [
       "[[1, 2, 3], [11, 22, 33], [45, 56, 77]]"
      ]
     },
     "execution_count": 2,
     "metadata": {},
     "output_type": "execute_result"
    }
   ],
   "source": [
    "A = [[1,2,3],[11,22,33],[45,56,77]]\n",
    "\n",
    "A"
   ]
  },
  {
   "cell_type": "code",
   "execution_count": 5,
   "id": "352801ef-481e-4e96-ba96-4db02fb576d4",
   "metadata": {},
   "outputs": [
    {
     "data": {
      "text/plain": [
       "[11, 22, 33]"
      ]
     },
     "execution_count": 5,
     "metadata": {},
     "output_type": "execute_result"
    }
   ],
   "source": [
    "A[1]"
   ]
  },
  {
   "cell_type": "code",
   "execution_count": 4,
   "id": "ab7884f9-56fc-4c1e-930a-024e34d6faec",
   "metadata": {},
   "outputs": [
    {
     "data": {
      "text/plain": [
       "22"
      ]
     },
     "execution_count": 4,
     "metadata": {},
     "output_type": "execute_result"
    }
   ],
   "source": [
    "A[1][1]"
   ]
  },
  {
   "cell_type": "code",
   "execution_count": 11,
   "id": "d718b35a-8e7a-4dfc-97a7-caf3a586ff44",
   "metadata": {},
   "outputs": [
    {
     "data": {
      "text/plain": [
       "[500, 502]"
      ]
     },
     "execution_count": 11,
     "metadata": {},
     "output_type": "execute_result"
    }
   ],
   "source": [
    "A = [[1,2,3],[11,22,33,[500,502]],[45,56,77]]\n",
    "\n",
    "A[1][3]"
   ]
  },
  {
   "cell_type": "code",
   "execution_count": 12,
   "id": "1d3ca935-60ed-410d-979b-77a01ca8b5c3",
   "metadata": {},
   "outputs": [
    {
     "data": {
      "text/plain": [
       "502"
      ]
     },
     "execution_count": 12,
     "metadata": {},
     "output_type": "execute_result"
    }
   ],
   "source": [
    "A[1][3][1]"
   ]
  },
  {
   "cell_type": "code",
   "execution_count": 14,
   "id": "73e7a23b-0227-4866-b105-a245030c4195",
   "metadata": {},
   "outputs": [
    {
     "data": {
      "text/plain": [
       "'Sand'"
      ]
     },
     "execution_count": 14,
     "metadata": {},
     "output_type": "execute_result"
    }
   ],
   "source": [
    "A = [[1,2,3],[11,22,33],[45,[239,\"Sand\"],56,77]]\n",
    "\n",
    "A[2][1][1]"
   ]
  },
  {
   "cell_type": "code",
   "execution_count": 16,
   "id": "84b528b5-1266-4a7c-b4f4-343ea64d7ba7",
   "metadata": {},
   "outputs": [
    {
     "data": {
      "text/plain": [
       "'Sand'"
      ]
     },
     "execution_count": 16,
     "metadata": {},
     "output_type": "execute_result"
    }
   ],
   "source": [
    "A[-1][1][-1]"
   ]
  },
  {
   "cell_type": "code",
   "execution_count": 18,
   "id": "01c1e074-1614-46f7-b7b6-f926c9963f34",
   "metadata": {},
   "outputs": [
    {
     "data": {
      "text/plain": [
       "65500"
      ]
     },
     "execution_count": 18,
     "metadata": {},
     "output_type": "execute_result"
    }
   ],
   "source": [
    "amazon_cart = [['watch',500],[\"phone\",15000],['laptop',50000]]\n",
    "#without loop\n",
    "\n",
    "amazon_cart[0][1] + amazon_cart[1][1] + amazon_cart[2][1]"
   ]
  },
  {
   "cell_type": "code",
   "execution_count": 24,
   "id": "d011a0c4-7849-439a-bdf5-fd8d66dd3e02",
   "metadata": {},
   "outputs": [
    {
     "data": {
      "text/plain": [
       "65500"
      ]
     },
     "execution_count": 24,
     "metadata": {},
     "output_type": "execute_result"
    }
   ],
   "source": [
    "tot_cost = 0\n",
    "for i in range(len(amazon_cart)):\n",
    "    print(amazon_cart[i][1])\n",
    "    tot_cost = tot_cost + amazon_cart[i][1]\n",
    "tot_cost"
   ]
  },
  {
   "cell_type": "code",
   "execution_count": 38,
   "id": "30592bf0-cb3d-4d3b-9484-32dacb6e5180",
   "metadata": {},
   "outputs": [
    {
     "name": "stdout",
     "output_type": "stream",
     "text": [
      "before purchase 0\n",
      "-----------\n",
      "cart after adding watch : 500 Total added: 500\n",
      "-----------\n",
      "cart after adding phone : 15000 Total added: 15500\n",
      "-----------\n",
      "cart after adding laptop : 50000 Total added: 65500\n",
      "Total cost: 65500\n"
     ]
    }
   ],
   "source": [
    "tot_cost = 0\n",
    "#without range\n",
    "print(f'before purchase {tot_cost}')\n",
    "for i in amazon_cart:\n",
    "    #print(i[1])\n",
    "    print('-----------')\n",
    "    tot_cost = tot_cost + i[1]\n",
    "    print(f\"cart after adding {i[0]} : {i[1]} Total added: {tot_cost}\")\n",
    "print(f\"Total cost: {tot_cost}\")"
   ]
  },
  {
   "cell_type": "markdown",
   "id": "b56f0b31-ef57-40d6-947e-72e7366dc307",
   "metadata": {},
   "source": [
    "## List Comprehension"
   ]
  },
  {
   "cell_type": "code",
   "execution_count": 47,
   "id": "6caae6a7-0a16-4705-aae9-22c4872cd61f",
   "metadata": {},
   "outputs": [],
   "source": [
    "#list which contains sqaure of nos between 1 to 10\n",
    "\n",
    "A=[1,2,3,4,5,6,7,8,9,10]\n",
    "#ans=[1,4,9,16,25,36,...............]"
   ]
  },
  {
   "cell_type": "code",
   "execution_count": 48,
   "id": "d972d509-2633-4537-a1a7-2e82728762fe",
   "metadata": {},
   "outputs": [
    {
     "data": {
      "text/plain": [
       "[1, 4, 9, 16, 25, 36, 49, 64, 81, 100]"
      ]
     },
     "execution_count": 48,
     "metadata": {},
     "output_type": "execute_result"
    }
   ],
   "source": [
    "lst=[]\n",
    "for i in A:\n",
    "    lst.append(i**2)\n",
    "lst"
   ]
  },
  {
   "cell_type": "code",
   "execution_count": 49,
   "id": "0f013d5a-6ada-4036-bde6-a7467c239d10",
   "metadata": {},
   "outputs": [],
   "source": [
    "ans = [i**2 for i in A]  #list comprehension"
   ]
  },
  {
   "cell_type": "code",
   "execution_count": 50,
   "id": "5d6d1dbb-1a1c-4375-a67f-c93684c36576",
   "metadata": {},
   "outputs": [
    {
     "data": {
      "text/plain": [
       "[1, 4, 9, 16, 25, 36, 49, 64, 81, 100]"
      ]
     },
     "execution_count": 50,
     "metadata": {},
     "output_type": "execute_result"
    }
   ],
   "source": [
    "ans"
   ]
  },
  {
   "cell_type": "code",
   "execution_count": 52,
   "id": "980b5be7-7572-4c7d-878f-050eaaf12e97",
   "metadata": {},
   "outputs": [
    {
     "data": {
      "text/plain": [
       "[1, 9, 25, 49, 81]"
      ]
     },
     "execution_count": 52,
     "metadata": {},
     "output_type": "execute_result"
    }
   ],
   "source": [
    "# only take the square of odd num in A list\n",
    "\n",
    "lst=[]\n",
    "for i in A:\n",
    "    if i%2!=0:\n",
    "        lst.append(i**2)\n",
    "lst"
   ]
  },
  {
   "cell_type": "code",
   "execution_count": 53,
   "id": "6f910b22-1fae-43c3-9f76-aae3b9e2e73d",
   "metadata": {},
   "outputs": [
    {
     "data": {
      "text/plain": [
       "[1, 9, 25, 49, 81]"
      ]
     },
     "execution_count": 53,
     "metadata": {},
     "output_type": "execute_result"
    }
   ],
   "source": [
    "[i**2 for i in A if i%2!=0]"
   ]
  },
  {
   "cell_type": "markdown",
   "id": "44955d4b-b5c1-4110-86ea-2dd42b4c318d",
   "metadata": {},
   "source": [
    "### count()"
   ]
  },
  {
   "cell_type": "code",
   "execution_count": 55,
   "id": "35e61443-3d4f-45ea-960b-563d6878fc74",
   "metadata": {},
   "outputs": [],
   "source": [
    "A = [1,2,1,4,5,6,6,7,7,7]"
   ]
  },
  {
   "cell_type": "code",
   "execution_count": 56,
   "id": "d5e2bb1e-1942-4f6e-b3e8-6b7bfb8f741e",
   "metadata": {},
   "outputs": [
    {
     "data": {
      "text/plain": [
       "2"
      ]
     },
     "execution_count": 56,
     "metadata": {},
     "output_type": "execute_result"
    }
   ],
   "source": [
    "A.count(1)"
   ]
  },
  {
   "cell_type": "code",
   "execution_count": 57,
   "id": "4e090d16-0548-4465-9f9b-57375f78e613",
   "metadata": {},
   "outputs": [
    {
     "data": {
      "text/plain": [
       "3"
      ]
     },
     "execution_count": 57,
     "metadata": {},
     "output_type": "execute_result"
    }
   ],
   "source": [
    "A.count(7)"
   ]
  },
  {
   "cell_type": "code",
   "execution_count": 58,
   "id": "a886db5c-4a48-4f71-89b3-974efb847567",
   "metadata": {},
   "outputs": [
    {
     "data": {
      "text/plain": [
       "0"
      ]
     },
     "execution_count": 58,
     "metadata": {},
     "output_type": "execute_result"
    }
   ],
   "source": [
    "A.count(46597)"
   ]
  },
  {
   "cell_type": "code",
   "execution_count": 60,
   "id": "d02a40b3-42b8-4280-8668-6cdd0c48c86d",
   "metadata": {},
   "outputs": [
    {
     "data": {
      "text/plain": [
       "2"
      ]
     },
     "execution_count": 60,
     "metadata": {},
     "output_type": "execute_result"
    }
   ],
   "source": [
    "A = [1,2,1,4,5,6,6,7,7,[6,5,7],[7,7],[6,5,7]]\n",
    "A.count([6,5,7])"
   ]
  },
  {
   "cell_type": "code",
   "execution_count": 62,
   "id": "c2662f27-8a1c-4b71-bf3c-3fb1d3f6bdcd",
   "metadata": {},
   "outputs": [
    {
     "data": {
      "text/plain": [
       "0"
      ]
     },
     "execution_count": 62,
     "metadata": {},
     "output_type": "execute_result"
    }
   ],
   "source": [
    "A = [1,2,1,4,5,6,[6,5,7],[7,7],[6,5,7]]\n",
    "A.count(7)"
   ]
  },
  {
   "cell_type": "code",
   "execution_count": 64,
   "id": "75f12403-1ce4-4e18-9b46-f528a456fd0b",
   "metadata": {},
   "outputs": [
    {
     "name": "stdout",
     "output_type": "stream",
     "text": [
      "1 2\n",
      "2 1\n",
      "1 2\n",
      "4 1\n",
      "5 1\n",
      "6 1\n",
      "[6, 5, 7] 2\n",
      "[7, 7] 1\n",
      "[6, 5, 7] 2\n"
     ]
    }
   ],
   "source": [
    "cou=0\n",
    "for i in A:\n",
    "    print(i,A.count(i))"
   ]
  },
  {
   "cell_type": "code",
   "execution_count": 67,
   "id": "10d6114d-4a16-4548-ba38-e6e9abfd77df",
   "metadata": {},
   "outputs": [
    {
     "name": "stdout",
     "output_type": "stream",
     "text": [
      "S 1\n",
      "u 1\n",
      "n 2\n",
      "n 2\n",
      "y 1\n"
     ]
    }
   ],
   "source": [
    "A = 'Sunny'\n",
    "for i in A:\n",
    "    print(i , A.count(i))"
   ]
  },
  {
   "cell_type": "code",
   "execution_count": 69,
   "id": "0134d594-1dc3-4f12-bb49-d6f39a63fb9d",
   "metadata": {},
   "outputs": [
    {
     "name": "stdout",
     "output_type": "stream",
     "text": [
      "sunny 2\n",
      "sunny 2\n",
      "band 1\n"
     ]
    }
   ],
   "source": [
    "A = ['sunny','sunny','band']\n",
    "for i in A:\n",
    "    print(i , A.count(i))"
   ]
  },
  {
   "cell_type": "markdown",
   "id": "b1b281fb-0bd7-4d96-b068-75d521c0920b",
   "metadata": {},
   "source": [
    "### Extend"
   ]
  },
  {
   "cell_type": "code",
   "execution_count": 75,
   "id": "a87f909b-a3b0-48f0-9b3c-deed9a4a1c9e",
   "metadata": {},
   "outputs": [
    {
     "data": {
      "text/plain": [
       "[1, 2, 3, 11, 22, 33]"
      ]
     },
     "execution_count": 75,
     "metadata": {},
     "output_type": "execute_result"
    }
   ],
   "source": [
    "A = [1,2,3]\n",
    "B=[11,22,33]\n",
    "A+B"
   ]
  },
  {
   "cell_type": "code",
   "execution_count": 76,
   "id": "c7917add-fc8e-42fd-ab0d-78094f14ca10",
   "metadata": {},
   "outputs": [
    {
     "data": {
      "text/plain": [
       "[1, 2, 3]"
      ]
     },
     "execution_count": 76,
     "metadata": {},
     "output_type": "execute_result"
    }
   ],
   "source": [
    "A"
   ]
  },
  {
   "cell_type": "code",
   "execution_count": 77,
   "id": "2ebad825-c84d-4776-9988-b983685525af",
   "metadata": {},
   "outputs": [],
   "source": [
    "A = [1,2,3]\n",
    "B=[11,22,33]\n",
    "A.extend(B)"
   ]
  },
  {
   "cell_type": "code",
   "execution_count": 78,
   "id": "748c2a70-bff5-4e02-b3e8-3f8529c6a05a",
   "metadata": {},
   "outputs": [
    {
     "data": {
      "text/plain": [
       "[1, 2, 3, 11, 22, 33]"
      ]
     },
     "execution_count": 78,
     "metadata": {},
     "output_type": "execute_result"
    }
   ],
   "source": [
    "A"
   ]
  },
  {
   "cell_type": "code",
   "execution_count": 79,
   "id": "0be6dea2-87de-421a-8bf1-09e207739b0d",
   "metadata": {},
   "outputs": [],
   "source": [
    "A = [1,2,3]\n",
    "B=[11,22,33]\n",
    "A.append(B)"
   ]
  },
  {
   "cell_type": "code",
   "execution_count": 80,
   "id": "de3891d7-c172-41cb-9b6a-c90468d24ec4",
   "metadata": {},
   "outputs": [
    {
     "data": {
      "text/plain": [
       "[1, 2, 3, [11, 22, 33]]"
      ]
     },
     "execution_count": 80,
     "metadata": {},
     "output_type": "execute_result"
    }
   ],
   "source": [
    "A"
   ]
  },
  {
   "cell_type": "raw",
   "id": "10d7907c-759e-4063-9bb4-6aa4e401ef1a",
   "metadata": {},
   "source": [
    "append - add elements in list\n",
    "extend - extends the list"
   ]
  },
  {
   "cell_type": "markdown",
   "id": "4f0306af-1b96-4bf5-a0a1-b80d41755258",
   "metadata": {},
   "source": [
    "### Index method"
   ]
  },
  {
   "cell_type": "code",
   "execution_count": 85,
   "id": "353f3265-9fd5-4a27-bb21-959310500c35",
   "metadata": {},
   "outputs": [],
   "source": [
    "A = [1,3,4,56,56+2j,'sand',1+2j]"
   ]
  },
  {
   "cell_type": "code",
   "execution_count": 82,
   "id": "156a923e-6dd4-4ba0-8b6c-888a52eede85",
   "metadata": {},
   "outputs": [
    {
     "data": {
      "text/plain": [
       "1"
      ]
     },
     "execution_count": 82,
     "metadata": {},
     "output_type": "execute_result"
    }
   ],
   "source": [
    "A.index(3)"
   ]
  },
  {
   "cell_type": "code",
   "execution_count": 83,
   "id": "06e08170-2a2c-4b58-8645-7d02b982a50c",
   "metadata": {},
   "outputs": [
    {
     "data": {
      "text/plain": [
       "4"
      ]
     },
     "execution_count": 83,
     "metadata": {},
     "output_type": "execute_result"
    }
   ],
   "source": [
    "A.index('sand')"
   ]
  },
  {
   "cell_type": "code",
   "execution_count": 84,
   "id": "28c0b107-fbc6-489a-89d0-1ec08e98ac59",
   "metadata": {},
   "outputs": [
    {
     "data": {
      "text/plain": [
       "5"
      ]
     },
     "execution_count": 84,
     "metadata": {},
     "output_type": "execute_result"
    }
   ],
   "source": [
    "A.index(1+2j)"
   ]
  },
  {
   "cell_type": "code",
   "execution_count": 90,
   "id": "7389fa1f-7ba4-4958-ba2f-57f50b4c3e6c",
   "metadata": {},
   "outputs": [
    {
     "name": "stdout",
     "output_type": "stream",
     "text": [
      "Ele: (56+2j),Index:4\n",
      "Ele: (1+2j),Index:6\n"
     ]
    }
   ],
   "source": [
    "#print the index of alla complex no\n",
    "for i in A:\n",
    "    if type(i) == complex:\n",
    "        print(f\"Ele: {i},Index:{A.index(i)}\")"
   ]
  },
  {
   "cell_type": "code",
   "execution_count": 93,
   "id": "79a20db3-c47d-421a-a525-12751275fcd0",
   "metadata": {},
   "outputs": [
    {
     "name": "stdout",
     "output_type": "stream",
     "text": [
      "Ele: (56+2j),Index:4\n",
      "Ele: (1+2j),Index:6\n"
     ]
    }
   ],
   "source": [
    "#print the index of alla complex no\n",
    "for i in A:\n",
    "    if isinstance(i,complex):\n",
    "        print(f\"Ele: {i},Index:{A.index(i)}\")"
   ]
  },
  {
   "cell_type": "code",
   "execution_count": 92,
   "id": "749b43b9-68a8-494a-b345-c80e93647f06",
   "metadata": {},
   "outputs": [
    {
     "data": {
      "text/plain": [
       "[4, 6]"
      ]
     },
     "execution_count": 92,
     "metadata": {},
     "output_type": "execute_result"
    }
   ],
   "source": [
    "[A.index(i) for i in A if type(i)==complex]"
   ]
  },
  {
   "cell_type": "markdown",
   "id": "a319ae95-af64-4d16-9ca4-5b8f6ebee6e1",
   "metadata": {},
   "source": [
    "### isinstance"
   ]
  },
  {
   "cell_type": "code",
   "execution_count": 94,
   "id": "4bda1cbb-4f7e-4403-9c2f-d8fb5af0e66f",
   "metadata": {},
   "outputs": [
    {
     "name": "stdout",
     "output_type": "stream",
     "text": [
      "Ele: (56+2j),Index:4\n",
      "Ele: (1+2j),Index:6\n"
     ]
    }
   ],
   "source": [
    "#print the index of alla complex no\n",
    "for i in A:\n",
    "    if isinstance(i,complex):\n",
    "        print(f\"Ele: {i},Index:{A.index(i)}\")"
   ]
  },
  {
   "cell_type": "code",
   "execution_count": 99,
   "id": "d996ba6f-c0af-495a-8896-9a9e7ab83e93",
   "metadata": {},
   "outputs": [
    {
     "name": "stdout",
     "output_type": "stream",
     "text": [
      "Ele:1 || Type:<class 'int'>  || Index:0\n",
      "Ele:3 || Type:<class 'int'>  || Index:1\n",
      "Ele:4 || Type:<class 'int'>  || Index:2\n",
      "Ele:56 || Type:<class 'int'>  || Index:3\n",
      "Ele:(56+2j) || Type:<class 'complex'>  || Index:4\n",
      "Ele:(1+2j) || Type:<class 'complex'>  || Index:6\n"
     ]
    }
   ],
   "source": [
    "#print index all complex and integer\n",
    "\n",
    "for i in A:\n",
    "    if isinstance(i,complex) or isinstance(i,int):\n",
    "        print(f\"Ele:{i} || Type:{type(i)}  || Index:{A.index(i)}\")"
   ]
  },
  {
   "cell_type": "code",
   "execution_count": null,
   "id": "70f9a1ed-1cfd-49ac-89c0-4b011c400a1a",
   "metadata": {},
   "outputs": [],
   "source": []
  },
  {
   "cell_type": "code",
   "execution_count": 101,
   "id": "c1ea6106-c51e-4351-babd-3601a2158d31",
   "metadata": {},
   "outputs": [
    {
     "data": {
      "text/plain": [
       "2"
      ]
     },
     "execution_count": 101,
     "metadata": {},
     "output_type": "execute_result"
    }
   ],
   "source": [
    "A = [1,'xyz',3,4,56,56+2j,'sand',1+2j,3,5] #duplicate ele\n",
    "\n",
    "A.index(3)"
   ]
  },
  {
   "cell_type": "markdown",
   "id": "7f1e03e9-1495-406b-bc63-93df0cd12807",
   "metadata": {},
   "source": [
    "### Insert"
   ]
  },
  {
   "cell_type": "code",
   "execution_count": 108,
   "id": "ba7b034f-25e1-4489-930b-e12b0fc05d7f",
   "metadata": {},
   "outputs": [],
   "source": [
    "A = [1,2,3,4,5]\n",
    "\n",
    "A.append(99)"
   ]
  },
  {
   "cell_type": "code",
   "execution_count": 109,
   "id": "b16c576a-e445-4a5a-bc5c-a81422bcb33f",
   "metadata": {},
   "outputs": [
    {
     "data": {
      "text/plain": [
       "[1, 2, 3, 4, 5, 99]"
      ]
     },
     "execution_count": 109,
     "metadata": {},
     "output_type": "execute_result"
    }
   ],
   "source": [
    "A"
   ]
  },
  {
   "cell_type": "code",
   "execution_count": 110,
   "id": "712b25f1-a038-4521-bbba-f7f075ddd06b",
   "metadata": {},
   "outputs": [],
   "source": [
    "A.insert(2,'Sand')"
   ]
  },
  {
   "cell_type": "code",
   "execution_count": 111,
   "id": "574fc8de-5303-4487-b41f-6d1a81804c42",
   "metadata": {},
   "outputs": [
    {
     "data": {
      "text/plain": [
       "[1, 2, 'Sand', 3, 4, 5, 99]"
      ]
     },
     "execution_count": 111,
     "metadata": {},
     "output_type": "execute_result"
    }
   ],
   "source": [
    "A"
   ]
  },
  {
   "cell_type": "code",
   "execution_count": 112,
   "id": "19168478-ce29-4e90-b929-b160529a196c",
   "metadata": {},
   "outputs": [],
   "source": [
    "A.insert(2000,'Band')"
   ]
  },
  {
   "cell_type": "code",
   "execution_count": 113,
   "id": "532cb2af-72b1-4659-ac26-694cffe91728",
   "metadata": {},
   "outputs": [
    {
     "data": {
      "text/plain": [
       "[1, 2, 'Sand', 3, 4, 5, 99, 'Band']"
      ]
     },
     "execution_count": 113,
     "metadata": {},
     "output_type": "execute_result"
    }
   ],
   "source": [
    "A"
   ]
  },
  {
   "cell_type": "markdown",
   "id": "28fedd82-5b19-49d9-ad58-d4560665a075",
   "metadata": {},
   "source": [
    "### remove"
   ]
  },
  {
   "cell_type": "code",
   "execution_count": 115,
   "id": "200f246b-0265-4b53-8ba0-7c071cc22d27",
   "metadata": {},
   "outputs": [
    {
     "data": {
      "text/plain": [
       "[1, 2, 3, 6, 77]"
      ]
     },
     "execution_count": 115,
     "metadata": {},
     "output_type": "execute_result"
    }
   ],
   "source": [
    "A = [1,2,3,455,6,77]\n",
    "\n",
    "A.remove(455)\n",
    "\n",
    "A"
   ]
  },
  {
   "cell_type": "code",
   "execution_count": 116,
   "id": "7b8822c1-fe34-458d-a5c1-c53b9ffe660e",
   "metadata": {},
   "outputs": [
    {
     "data": {
      "text/plain": [
       "[1, 2, 3, 6]"
      ]
     },
     "execution_count": 116,
     "metadata": {},
     "output_type": "execute_result"
    }
   ],
   "source": [
    "A.remove(77)\n",
    "\n",
    "A"
   ]
  },
  {
   "cell_type": "code",
   "execution_count": 117,
   "id": "7692bc3c-9b0b-434a-b716-278483cd75b6",
   "metadata": {},
   "outputs": [
    {
     "data": {
      "text/plain": [
       "[1, 2, 3, 455, 6, 77]"
      ]
     },
     "execution_count": 117,
     "metadata": {},
     "output_type": "execute_result"
    }
   ],
   "source": [
    "A = [1,1,2,3,455,6,77]\n",
    "A.remove(1)\n",
    "A"
   ]
  },
  {
   "cell_type": "code",
   "execution_count": 118,
   "id": "a6ef8e2d-975f-4661-b2ae-99ee191209e4",
   "metadata": {},
   "outputs": [
    {
     "ename": "ValueError",
     "evalue": "list.remove(x): x not in list",
     "output_type": "error",
     "traceback": [
      "\u001b[0;31m---------------------------------------------------------------------------\u001b[0m",
      "\u001b[0;31mValueError\u001b[0m                                Traceback (most recent call last)",
      "Cell \u001b[0;32mIn [118], line 1\u001b[0m\n\u001b[0;32m----> 1\u001b[0m \u001b[43mA\u001b[49m\u001b[38;5;241;43m.\u001b[39;49m\u001b[43mremove\u001b[49m\u001b[43m(\u001b[49m\u001b[38;5;241;43m65\u001b[39;49m\u001b[43m)\u001b[49m\n",
      "\u001b[0;31mValueError\u001b[0m: list.remove(x): x not in list"
     ]
    }
   ],
   "source": [
    "A.remove(65)"
   ]
  },
  {
   "cell_type": "code",
   "execution_count": 119,
   "id": "05b1023b-1113-47ac-ade7-8a6872c35e1a",
   "metadata": {},
   "outputs": [
    {
     "data": {
      "text/plain": [
       "77"
      ]
     },
     "execution_count": 119,
     "metadata": {},
     "output_type": "execute_result"
    }
   ],
   "source": [
    "A.pop(-1)"
   ]
  },
  {
   "cell_type": "raw",
   "id": "33695116-9807-4077-afbc-6db7d8f618d1",
   "metadata": {},
   "source": [
    "pop - reove the element with index\n",
    "remove - remove will remove the first occurence"
   ]
  },
  {
   "cell_type": "code",
   "execution_count": null,
   "id": "a3229f30-d74f-4143-9aea-43b6e39e5dd3",
   "metadata": {},
   "outputs": [],
   "source": []
  },
  {
   "cell_type": "code",
   "execution_count": null,
   "id": "53e18de9-8ea6-4d5e-ba42-4de3998e9721",
   "metadata": {},
   "outputs": [],
   "source": []
  },
  {
   "cell_type": "markdown",
   "id": "dc61a9ef-974d-4f40-a4d2-1dac72324b1c",
   "metadata": {},
   "source": [
    "# Tuples - () - immutable\n",
    "\n",
    "list - [] - mutable"
   ]
  },
  {
   "cell_type": "code",
   "execution_count": 120,
   "id": "91d65422-b107-408f-837a-1c8b1ab8467a",
   "metadata": {},
   "outputs": [],
   "source": [
    "A = (1,2,3)"
   ]
  },
  {
   "cell_type": "code",
   "execution_count": 121,
   "id": "4f4d98d6-1dfe-4b2a-8949-ba9a43a73c67",
   "metadata": {},
   "outputs": [
    {
     "data": {
      "text/plain": [
       "tuple"
      ]
     },
     "execution_count": 121,
     "metadata": {},
     "output_type": "execute_result"
    }
   ],
   "source": [
    "type(A)"
   ]
  },
  {
   "cell_type": "code",
   "execution_count": 122,
   "id": "0aee517f-acfa-42da-a356-5b106578afa3",
   "metadata": {},
   "outputs": [
    {
     "data": {
      "text/plain": [
       "1"
      ]
     },
     "execution_count": 122,
     "metadata": {},
     "output_type": "execute_result"
    }
   ],
   "source": [
    "A[0]"
   ]
  },
  {
   "cell_type": "code",
   "execution_count": 123,
   "id": "ada8c72b-3803-4c01-9517-4292a10a10c8",
   "metadata": {},
   "outputs": [
    {
     "data": {
      "text/plain": [
       "2"
      ]
     },
     "execution_count": 123,
     "metadata": {},
     "output_type": "execute_result"
    }
   ],
   "source": [
    "A[1]"
   ]
  },
  {
   "cell_type": "code",
   "execution_count": 124,
   "id": "b96f2fbb-c252-4877-a83b-092492161526",
   "metadata": {},
   "outputs": [
    {
     "ename": "TypeError",
     "evalue": "'tuple' object does not support item assignment",
     "output_type": "error",
     "traceback": [
      "\u001b[0;31m---------------------------------------------------------------------------\u001b[0m",
      "\u001b[0;31mTypeError\u001b[0m                                 Traceback (most recent call last)",
      "Cell \u001b[0;32mIn [124], line 1\u001b[0m\n\u001b[0;32m----> 1\u001b[0m \u001b[43mA\u001b[49m\u001b[43m[\u001b[49m\u001b[38;5;241;43m0\u001b[39;49m\u001b[43m]\u001b[49m \u001b[38;5;241m=\u001b[39m \u001b[38;5;241m22\u001b[39m\n",
      "\u001b[0;31mTypeError\u001b[0m: 'tuple' object does not support item assignment"
     ]
    }
   ],
   "source": [
    "A[0] = 22"
   ]
  },
  {
   "cell_type": "code",
   "execution_count": 125,
   "id": "52e84896-4d45-4d34-a9d0-654a92b07050",
   "metadata": {},
   "outputs": [],
   "source": [
    "A = (22,12,34,1)"
   ]
  },
  {
   "cell_type": "code",
   "execution_count": 126,
   "id": "3fc3809e-9507-495f-8570-45bf82548b0f",
   "metadata": {},
   "outputs": [
    {
     "ename": "AttributeError",
     "evalue": "'tuple' object has no attribute 'sort'",
     "output_type": "error",
     "traceback": [
      "\u001b[0;31m---------------------------------------------------------------------------\u001b[0m",
      "\u001b[0;31mAttributeError\u001b[0m                            Traceback (most recent call last)",
      "Cell \u001b[0;32mIn [126], line 1\u001b[0m\n\u001b[0;32m----> 1\u001b[0m \u001b[43mA\u001b[49m\u001b[38;5;241;43m.\u001b[39;49m\u001b[43msort\u001b[49m()\n\u001b[1;32m      2\u001b[0m A\n",
      "\u001b[0;31mAttributeError\u001b[0m: 'tuple' object has no attribute 'sort'"
     ]
    }
   ],
   "source": []
  },
  {
   "cell_type": "code",
   "execution_count": 127,
   "id": "ccab846a-fe3b-4eb1-bcc2-bf12e1466db8",
   "metadata": {},
   "outputs": [
    {
     "data": {
      "text/plain": [
       "4"
      ]
     },
     "execution_count": 127,
     "metadata": {},
     "output_type": "execute_result"
    }
   ],
   "source": [
    "A = (22,12,34,1)\n",
    "\n",
    "len(A)"
   ]
  },
  {
   "cell_type": "code",
   "execution_count": 131,
   "id": "fc916f32-13f6-4d95-ab84-ad2fc9a1c1ef",
   "metadata": {},
   "outputs": [
    {
     "ename": "TypeError",
     "evalue": "unsupported operand type(s) for ** or pow(): 'tuple' and 'int'",
     "output_type": "error",
     "traceback": [
      "\u001b[0;31m---------------------------------------------------------------------------\u001b[0m",
      "\u001b[0;31mTypeError\u001b[0m                                 Traceback (most recent call last)",
      "Cell \u001b[0;32mIn [131], line 1\u001b[0m\n\u001b[0;32m----> 1\u001b[0m \u001b[43mA\u001b[49m\u001b[43m \u001b[49m\u001b[38;5;241;43m*\u001b[39;49m\u001b[38;5;241;43m*\u001b[39;49m\u001b[43m \u001b[49m\u001b[38;5;241;43m2\u001b[39;49m\n",
      "\u001b[0;31mTypeError\u001b[0m: unsupported operand type(s) for ** or pow(): 'tuple' and 'int'"
     ]
    }
   ],
   "source": [
    "A ** 2"
   ]
  },
  {
   "cell_type": "code",
   "execution_count": 132,
   "id": "dec3c32b-177f-4f97-87ab-04c442c8e745",
   "metadata": {},
   "outputs": [
    {
     "data": {
      "text/plain": [
       "(22, 12, 34, 1)"
      ]
     },
     "execution_count": 132,
     "metadata": {},
     "output_type": "execute_result"
    }
   ],
   "source": [
    "A"
   ]
  },
  {
   "cell_type": "code",
   "execution_count": 128,
   "id": "16bbc7bb-91d8-4d7f-a39a-5225d46fa2cd",
   "metadata": {},
   "outputs": [
    {
     "data": {
      "text/plain": [
       "(22, 12, 34, 1, 22, 12, 34, 1)"
      ]
     },
     "execution_count": 128,
     "metadata": {},
     "output_type": "execute_result"
    }
   ],
   "source": [
    "A * 2"
   ]
  },
  {
   "cell_type": "code",
   "execution_count": 134,
   "id": "f0c2fe5a-3a26-4c65-a553-d211c9671bad",
   "metadata": {},
   "outputs": [
    {
     "data": {
      "text/plain": [
       "34"
      ]
     },
     "execution_count": 134,
     "metadata": {},
     "output_type": "execute_result"
    }
   ],
   "source": [
    "max(A)"
   ]
  },
  {
   "cell_type": "code",
   "execution_count": 135,
   "id": "1c723111-2063-4561-a88a-65e5a826461d",
   "metadata": {},
   "outputs": [
    {
     "data": {
      "text/plain": [
       "1"
      ]
     },
     "execution_count": 135,
     "metadata": {},
     "output_type": "execute_result"
    }
   ],
   "source": [
    "min(A)"
   ]
  },
  {
   "cell_type": "code",
   "execution_count": 136,
   "id": "d48f5afa-b827-4480-9017-3cde5ab045d1",
   "metadata": {},
   "outputs": [
    {
     "data": {
      "text/plain": [
       "1"
      ]
     },
     "execution_count": 136,
     "metadata": {},
     "output_type": "execute_result"
    }
   ],
   "source": [
    "A.index(12)"
   ]
  },
  {
   "cell_type": "code",
   "execution_count": 137,
   "id": "71765f10-0ece-4d27-9122-09289abc2f5e",
   "metadata": {},
   "outputs": [
    {
     "data": {
      "text/plain": [
       "1"
      ]
     },
     "execution_count": 137,
     "metadata": {},
     "output_type": "execute_result"
    }
   ],
   "source": [
    "A.count(12)"
   ]
  },
  {
   "cell_type": "code",
   "execution_count": 138,
   "id": "a891f8ff-92c0-433a-91be-24bc8f10ce9f",
   "metadata": {},
   "outputs": [
    {
     "data": {
      "text/plain": [
       "69"
      ]
     },
     "execution_count": 138,
     "metadata": {},
     "output_type": "execute_result"
    }
   ],
   "source": [
    "sum(A)"
   ]
  },
  {
   "cell_type": "code",
   "execution_count": 139,
   "id": "ffb58d1b-1fee-4db6-b6fa-6753afaa33b4",
   "metadata": {},
   "outputs": [
    {
     "ename": "AttributeError",
     "evalue": "'tuple' object has no attribute 'reverse'",
     "output_type": "error",
     "traceback": [
      "\u001b[0;31m---------------------------------------------------------------------------\u001b[0m",
      "\u001b[0;31mAttributeError\u001b[0m                            Traceback (most recent call last)",
      "Cell \u001b[0;32mIn [139], line 1\u001b[0m\n\u001b[0;32m----> 1\u001b[0m \u001b[43mA\u001b[49m\u001b[38;5;241;43m.\u001b[39;49m\u001b[43mreverse\u001b[49m()\n",
      "\u001b[0;31mAttributeError\u001b[0m: 'tuple' object has no attribute 'reverse'"
     ]
    }
   ],
   "source": [
    "A.reverse()"
   ]
  },
  {
   "cell_type": "code",
   "execution_count": 140,
   "id": "5dfa322a-de7e-4231-a127-45cc05516d3e",
   "metadata": {},
   "outputs": [],
   "source": [
    "amazon_cart = [('watch',500),(\"phone\",15000),('laptop',50000)]\n",
    "\n",
    "tot=0\n"
   ]
  },
  {
   "cell_type": "code",
   "execution_count": 141,
   "id": "a62bb0c9-2b87-4b44-bb5b-632cef161026",
   "metadata": {},
   "outputs": [
    {
     "name": "stdout",
     "output_type": "stream",
     "text": [
      "before purchase 0\n",
      "-----------\n",
      "cart after adding watch : 500 Total added: 500\n",
      "-----------\n",
      "cart after adding phone : 15000 Total added: 15500\n",
      "-----------\n",
      "cart after adding laptop : 50000 Total added: 65500\n",
      "Total cost: 65500\n"
     ]
    }
   ],
   "source": [
    "\n",
    "tot_cost = 0\n",
    "#without range\n",
    "print(f'before purchase {tot_cost}')\n",
    "for i in amazon_cart:\n",
    "    #print(i[1])\n",
    "    print('-----------')\n",
    "    tot_cost = tot_cost + i[1]\n",
    "    print(f\"cart after adding {i[0]} : {i[1]} Total added: {tot_cost}\")\n",
    "print(f\"Total cost: {tot_cost}\")"
   ]
  },
  {
   "cell_type": "code",
   "execution_count": 142,
   "id": "0485ca1f-a487-429c-bd69-c8305390aa1a",
   "metadata": {},
   "outputs": [
    {
     "name": "stdin",
     "output_type": "stream",
     "text": [
      "what you want to purchase?: phone\n"
     ]
    }
   ],
   "source": [
    "#user input what you want to purchase\n",
    "\n",
    "amazon_cart = [('watch',500),(\"phone\",15000),('laptop',50000),('shirt',1000)]\n",
    "\n",
    "my_choice= input('what you want to purchase?:')"
   ]
  },
  {
   "cell_type": "code",
   "execution_count": 143,
   "id": "a353e875-6481-41cb-a04a-843e55e91828",
   "metadata": {},
   "outputs": [
    {
     "data": {
      "text/plain": [
       "'phone'"
      ]
     },
     "execution_count": 143,
     "metadata": {},
     "output_type": "execute_result"
    }
   ],
   "source": [
    "my_choice"
   ]
  },
  {
   "cell_type": "code",
   "execution_count": 146,
   "id": "7f3cfa67-6848-45c3-8d16-b323e9e652c4",
   "metadata": {},
   "outputs": [
    {
     "name": "stdout",
     "output_type": "stream",
     "text": [
      "('phone', 15000)\n",
      "Out of Stock\n"
     ]
    }
   ],
   "source": [
    "for item in amazon_cart:\n",
    "    if item[0] == my_choice:\n",
    "        print(item)\n"
   ]
  },
  {
   "cell_type": "code",
   "execution_count": null,
   "id": "dbb029c7-7994-4f96-a481-0a5bb5917352",
   "metadata": {},
   "outputs": [],
   "source": [
    "'''\n",
    "Asignment\n",
    "amazon_cart = [('watch',500),(\"phone\",15000),('laptop',50000),('shirt',1000)]\n",
    "\n",
    "ask the user input N number of times and find out the total cost to be paid\n",
    "\n",
    "if item not present in amazon print out of stock do not added to total;'''\n",
    "\n",
    "\n",
    "amazon_cart = [('watch',500),(\"phone\",15000),('laptop',50000),('shirt',1000)]\n",
    "user = int(input('How many item you want to purchase:'))\n",
    "\n",
    "for i in range(user):\n",
    "    my_choice= input('what you want to purchase?:')\n",
    "    if i[0] == my_choice:\n",
    "        print(amazon_cart[i])\n",
    "    else:\n",
    "        print('OOS')"
   ]
  },
  {
   "cell_type": "code",
   "execution_count": null,
   "id": "f8fb7ab9-4b25-427b-be91-4a904125087f",
   "metadata": {},
   "outputs": [],
   "source": []
  },
  {
   "cell_type": "code",
   "execution_count": null,
   "id": "6ec6a3cd-d8ba-4f47-82c6-26ee70eafc99",
   "metadata": {},
   "outputs": [],
   "source": [
    "tot_cost = 0\n",
    "for i in range(len(amazon_cart)):\n",
    "    print(amazon_cart[i][1])\n",
    "    tot_cost = tot_cost + amazon_cart[i][1]\n",
    "tot_cost"
   ]
  },
  {
   "cell_type": "code",
   "execution_count": null,
   "id": "c4d14ec5-7146-4d65-b78b-ef8e294437e3",
   "metadata": {},
   "outputs": [],
   "source": []
  },
  {
   "cell_type": "markdown",
   "id": "510bdf53-b089-4728-9b3f-5cfdca010e78",
   "metadata": {},
   "source": [
    "# Set\n",
    "\n",
    "unordered collection of unique elements"
   ]
  },
  {
   "cell_type": "code",
   "execution_count": 160,
   "id": "0c740e76-1156-45c6-b358-d38c82f17041",
   "metadata": {},
   "outputs": [],
   "source": [
    "x = {1,2,33,6,7}"
   ]
  },
  {
   "cell_type": "code",
   "execution_count": 161,
   "id": "522692d6-c661-4ddc-b509-19637f21541c",
   "metadata": {},
   "outputs": [
    {
     "data": {
      "text/plain": [
       "set"
      ]
     },
     "execution_count": 161,
     "metadata": {},
     "output_type": "execute_result"
    }
   ],
   "source": [
    "type(x)"
   ]
  },
  {
   "cell_type": "code",
   "execution_count": 162,
   "id": "dccd546a-2717-4948-9b3d-3180b951ed4d",
   "metadata": {},
   "outputs": [
    {
     "data": {
      "text/plain": [
       "{1, 2, 3, 4, 5, 6, 7}"
      ]
     },
     "execution_count": 162,
     "metadata": {},
     "output_type": "execute_result"
    }
   ],
   "source": [
    "x ={1,2,3,4,5,6,7,7,7,7,}\n",
    "x"
   ]
  },
  {
   "cell_type": "code",
   "execution_count": 164,
   "id": "541b93e8-3103-428d-ae7f-d134d7a55835",
   "metadata": {},
   "outputs": [
    {
     "data": {
      "text/plain": [
       "set"
      ]
     },
     "execution_count": 164,
     "metadata": {},
     "output_type": "execute_result"
    }
   ],
   "source": [
    "x = set()\n",
    "type(x)"
   ]
  },
  {
   "cell_type": "code",
   "execution_count": 165,
   "id": "c5ff2a01-ed40-47cb-bdc1-b0725b591013",
   "metadata": {},
   "outputs": [
    {
     "data": {
      "text/plain": [
       "dict"
      ]
     },
     "execution_count": 165,
     "metadata": {},
     "output_type": "execute_result"
    }
   ],
   "source": [
    "x = {}\n",
    "\n",
    "type(x)"
   ]
  },
  {
   "cell_type": "code",
   "execution_count": 166,
   "id": "9674615e-18d3-42da-a6b5-38bb802b61ba",
   "metadata": {},
   "outputs": [
    {
     "data": {
      "text/plain": [
       "()"
      ]
     },
     "execution_count": 166,
     "metadata": {},
     "output_type": "execute_result"
    }
   ],
   "source": [
    "x = tuple()\n",
    "x"
   ]
  },
  {
   "cell_type": "code",
   "execution_count": 167,
   "id": "567d6d33-b76a-4df7-8c5f-65c63ee6a337",
   "metadata": {},
   "outputs": [
    {
     "data": {
      "text/plain": [
       "[]"
      ]
     },
     "execution_count": 167,
     "metadata": {},
     "output_type": "execute_result"
    }
   ],
   "source": [
    "lst = list()\n",
    "lst"
   ]
  },
  {
   "cell_type": "code",
   "execution_count": 170,
   "id": "73b97672-c207-4369-a9d4-787ad9df6193",
   "metadata": {},
   "outputs": [
    {
     "data": {
      "text/plain": [
       "{1, 2, 3, 4, 5, 6, 7}"
      ]
     },
     "execution_count": 170,
     "metadata": {},
     "output_type": "execute_result"
    }
   ],
   "source": [
    "x ={1,2,3,4,5,6,7,7,7,7,}\n",
    "x"
   ]
  },
  {
   "cell_type": "code",
   "execution_count": 171,
   "id": "86ee16de-4475-461f-99e7-de0f3c7c9c03",
   "metadata": {},
   "outputs": [
    {
     "ename": "TypeError",
     "evalue": "'set' object is not subscriptable",
     "output_type": "error",
     "traceback": [
      "\u001b[0;31m---------------------------------------------------------------------------\u001b[0m",
      "\u001b[0;31mTypeError\u001b[0m                                 Traceback (most recent call last)",
      "Cell \u001b[0;32mIn [171], line 1\u001b[0m\n\u001b[0;32m----> 1\u001b[0m \u001b[43mx\u001b[49m\u001b[43m[\u001b[49m\u001b[38;5;241;43m0\u001b[39;49m\u001b[43m]\u001b[49m\n",
      "\u001b[0;31mTypeError\u001b[0m: 'set' object is not subscriptable"
     ]
    }
   ],
   "source": [
    "x[0] #not allowed set is unordered"
   ]
  },
  {
   "cell_type": "code",
   "execution_count": 172,
   "id": "5351f314-622c-4126-b9b8-87418a658442",
   "metadata": {},
   "outputs": [],
   "source": [
    "x.add(99)"
   ]
  },
  {
   "cell_type": "code",
   "execution_count": 173,
   "id": "b49fd745-08af-4039-be63-a6e701771e6a",
   "metadata": {},
   "outputs": [
    {
     "data": {
      "text/plain": [
       "{1, 2, 3, 4, 5, 6, 7, 99}"
      ]
     },
     "execution_count": 173,
     "metadata": {},
     "output_type": "execute_result"
    }
   ],
   "source": [
    "x"
   ]
  },
  {
   "cell_type": "code",
   "execution_count": 174,
   "id": "41466411-7feb-4db2-9529-1c2ec064997b",
   "metadata": {},
   "outputs": [
    {
     "ename": "AttributeError",
     "evalue": "'set' object has no attribute 'append'",
     "output_type": "error",
     "traceback": [
      "\u001b[0;31m---------------------------------------------------------------------------\u001b[0m",
      "\u001b[0;31mAttributeError\u001b[0m                            Traceback (most recent call last)",
      "Cell \u001b[0;32mIn [174], line 1\u001b[0m\n\u001b[0;32m----> 1\u001b[0m \u001b[43mx\u001b[49m\u001b[38;5;241;43m.\u001b[39;49m\u001b[43mappend\u001b[49m(\u001b[38;5;241m25\u001b[39m)\n",
      "\u001b[0;31mAttributeError\u001b[0m: 'set' object has no attribute 'append'"
     ]
    }
   ],
   "source": [
    "x.append(25)"
   ]
  },
  {
   "cell_type": "code",
   "execution_count": 175,
   "id": "bcedbc7b-20e4-4d71-bed5-7890eb2802c9",
   "metadata": {},
   "outputs": [
    {
     "ename": "TypeError",
     "evalue": "unsupported operand type(s) for +: 'set' and 'set'",
     "output_type": "error",
     "traceback": [
      "\u001b[0;31m---------------------------------------------------------------------------\u001b[0m",
      "\u001b[0;31mTypeError\u001b[0m                                 Traceback (most recent call last)",
      "Cell \u001b[0;32mIn [175], line 4\u001b[0m\n\u001b[1;32m      1\u001b[0m A \u001b[38;5;241m=\u001b[39m {\u001b[38;5;241m1\u001b[39m,\u001b[38;5;241m2\u001b[39m,\u001b[38;5;241m3\u001b[39m}\n\u001b[1;32m      2\u001b[0m B\u001b[38;5;241m=\u001b[39m{\u001b[38;5;241m4\u001b[39m,\u001b[38;5;241m5\u001b[39m,\u001b[38;5;241m6\u001b[39m}\n\u001b[0;32m----> 4\u001b[0m \u001b[43mA\u001b[49m\u001b[38;5;241;43m+\u001b[39;49m\u001b[43mB\u001b[49m\n",
      "\u001b[0;31mTypeError\u001b[0m: unsupported operand type(s) for +: 'set' and 'set'"
     ]
    }
   ],
   "source": [
    "A = {1,2,3}\n",
    "B={4,5,6}\n",
    "\n",
    "A+B\n"
   ]
  },
  {
   "cell_type": "code",
   "execution_count": 176,
   "id": "6d3c087e-4c9b-4efd-bf85-8fdf1b1c14bd",
   "metadata": {},
   "outputs": [],
   "source": [
    "#print unquie values\n"
   ]
  },
  {
   "cell_type": "code",
   "execution_count": 178,
   "id": "87c2e75a-cd6f-4904-b329-b90d12e742f6",
   "metadata": {},
   "outputs": [
    {
     "data": {
      "text/plain": [
       "{1, 2, 3, 5, 6, 7}"
      ]
     },
     "execution_count": 178,
     "metadata": {},
     "output_type": "execute_result"
    }
   ],
   "source": [
    "A=[1,2,3,5,5,6,6,7,7,7,7]\n",
    "\n",
    "A = set(A)\n",
    "\n",
    "A"
   ]
  },
  {
   "cell_type": "code",
   "execution_count": 179,
   "id": "c1faa40f-b532-46a1-b14d-8a3f7267584f",
   "metadata": {},
   "outputs": [
    {
     "data": {
      "text/plain": [
       "[1, 2, 3, 5, 6, 7]"
      ]
     },
     "execution_count": 179,
     "metadata": {},
     "output_type": "execute_result"
    }
   ],
   "source": [
    "#print list with unquie values\n",
    "A=[1,2,3,5,5,6,6,7,7,7,7]\n",
    "\n",
    "A = list(set(A))\n",
    "\n",
    "A"
   ]
  },
  {
   "cell_type": "code",
   "execution_count": 180,
   "id": "4e280d52-719b-4405-a13f-6b29e99a0bd8",
   "metadata": {},
   "outputs": [],
   "source": [
    "x = {99+2j,-100,-200,1,2,20.2,33,6,99,'sand'}"
   ]
  },
  {
   "cell_type": "code",
   "execution_count": 181,
   "id": "b5899d19-8784-4d3c-b2c2-95f541333a6a",
   "metadata": {},
   "outputs": [],
   "source": [
    "x.remove(-100)"
   ]
  },
  {
   "cell_type": "code",
   "execution_count": 182,
   "id": "644a31ce-50c8-4e13-a253-d151ea1c29b1",
   "metadata": {},
   "outputs": [
    {
     "data": {
      "text/plain": [
       "{(99+2j), -200, 1, 2, 20.2, 33, 6, 99, 'sand'}"
      ]
     },
     "execution_count": 182,
     "metadata": {},
     "output_type": "execute_result"
    }
   ],
   "source": [
    "x"
   ]
  },
  {
   "cell_type": "code",
   "execution_count": null,
   "id": "85d28725-c8e1-4de4-8dfd-06d0ebf798fc",
   "metadata": {},
   "outputs": [],
   "source": []
  },
  {
   "cell_type": "markdown",
   "id": "f82d88b7-a2e5-4e34-bad3-25bd1b5d4539",
   "metadata": {},
   "source": [
    "# Dictionary"
   ]
  },
  {
   "cell_type": "code",
   "execution_count": 1,
   "id": "86f82f05-4ce5-488d-a94e-b577e04d389f",
   "metadata": {},
   "outputs": [
    {
     "name": "stdout",
     "output_type": "stream",
     "text": [
      "<class 'list'>\n",
      "<class 'tuple'>\n",
      "<class 'set'>\n"
     ]
    }
   ],
   "source": [
    "l= [1,2,3,4,5] #list\n",
    "t= (1,2,3,4,5) #tuple\n",
    "s= {1,2,3,4,5,5,3,6,2,1} #set\n",
    "\n",
    "print(type(l))\n",
    "print(type(t))\n",
    "print(type(s))"
   ]
  },
  {
   "cell_type": "code",
   "execution_count": 2,
   "id": "de6eaec9-4980-4f0a-b575-8b903981ce97",
   "metadata": {},
   "outputs": [],
   "source": [
    "d = {}"
   ]
  },
  {
   "cell_type": "code",
   "execution_count": 3,
   "id": "7d974b88-891d-4bc9-beca-34e2c340d338",
   "metadata": {},
   "outputs": [
    {
     "data": {
      "text/plain": [
       "dict"
      ]
     },
     "execution_count": 3,
     "metadata": {},
     "output_type": "execute_result"
    }
   ],
   "source": [
    "type(d)"
   ]
  },
  {
   "cell_type": "code",
   "execution_count": 4,
   "id": "2d794151-9c18-41d0-8259-1a640ec1a296",
   "metadata": {},
   "outputs": [
    {
     "data": {
      "text/plain": [
       "set"
      ]
     },
     "execution_count": 4,
     "metadata": {},
     "output_type": "execute_result"
    }
   ],
   "source": [
    "d1 = {1,2,3}\n",
    "type(d1)"
   ]
  },
  {
   "cell_type": "code",
   "execution_count": 5,
   "id": "bf1d7a6c-ae04-423d-9747-62c1c288fd7d",
   "metadata": {},
   "outputs": [],
   "source": [
    "d2 = {\"key1\" : 'Sand', \"key2\": [2,3,4,5]}"
   ]
  },
  {
   "cell_type": "code",
   "execution_count": 6,
   "id": "7f83bcb9-6c18-448e-b251-f67582b1151a",
   "metadata": {},
   "outputs": [
    {
     "data": {
      "text/plain": [
       "[1, 2, 3, 4, 5]"
      ]
     },
     "execution_count": 6,
     "metadata": {},
     "output_type": "execute_result"
    }
   ],
   "source": [
    "l"
   ]
  },
  {
   "cell_type": "code",
   "execution_count": 9,
   "id": "b19b0751-51a2-4c49-acfe-437b49bd06cf",
   "metadata": {},
   "outputs": [
    {
     "data": {
      "text/plain": [
       "{'key1': 'Sand', 'key2': [2, 3, 4, 5]}"
      ]
     },
     "execution_count": 9,
     "metadata": {},
     "output_type": "execute_result"
    }
   ],
   "source": [
    "d2"
   ]
  },
  {
   "cell_type": "code",
   "execution_count": 8,
   "id": "46a4c0b7-3aea-4eb1-b64d-6b8abaaad2b5",
   "metadata": {},
   "outputs": [
    {
     "data": {
      "text/plain": [
       "'Sand'"
      ]
     },
     "execution_count": 8,
     "metadata": {},
     "output_type": "execute_result"
    }
   ],
   "source": [
    "d2['key1']  #Named indexes concept"
   ]
  },
  {
   "cell_type": "code",
   "execution_count": 10,
   "id": "962057e4-fe3d-44a8-91e8-6c74130e2729",
   "metadata": {},
   "outputs": [],
   "source": [
    "d3 = {123 : 'sand'}"
   ]
  },
  {
   "cell_type": "code",
   "execution_count": 11,
   "id": "df6281ac-6b22-4926-9d4c-b4c0a5a9b3fe",
   "metadata": {},
   "outputs": [
    {
     "data": {
      "text/plain": [
       "{123: 'sand'}"
      ]
     },
     "execution_count": 11,
     "metadata": {},
     "output_type": "execute_result"
    }
   ],
   "source": [
    "d3"
   ]
  },
  {
   "cell_type": "code",
   "execution_count": 15,
   "id": "3503769f-3977-46ea-8568-9a489367d895",
   "metadata": {},
   "outputs": [],
   "source": [
    "d4 = {'&$a' : 'sand'}"
   ]
  },
  {
   "cell_type": "code",
   "execution_count": 16,
   "id": "15034c06-712b-431b-beed-57a733c78afc",
   "metadata": {},
   "outputs": [
    {
     "ename": "TypeError",
     "evalue": "unhashable type: 'list'",
     "output_type": "error",
     "traceback": [
      "\u001b[0;31m---------------------------------------------------------------------------\u001b[0m",
      "\u001b[0;31mTypeError\u001b[0m                                 Traceback (most recent call last)",
      "Cell \u001b[0;32mIn [16], line 1\u001b[0m\n\u001b[0;32m----> 1\u001b[0m d5 \u001b[38;5;241m=\u001b[39m {[\u001b[38;5;241m1\u001b[39m,\u001b[38;5;241m2\u001b[39m,]:\u001b[38;5;124m'\u001b[39m\u001b[38;5;124msand\u001b[39m\u001b[38;5;124m'\u001b[39m}\n",
      "\u001b[0;31mTypeError\u001b[0m: unhashable type: 'list'"
     ]
    }
   ],
   "source": [
    "d5 = {[1,2,]:'sand'} #listr cannot work as key"
   ]
  },
  {
   "cell_type": "code",
   "execution_count": 17,
   "id": "3df790fc-2574-4666-8245-47c45977e5c5",
   "metadata": {},
   "outputs": [],
   "source": [
    "d6 = {(1,2,3):'sand'}"
   ]
  },
  {
   "cell_type": "code",
   "execution_count": 18,
   "id": "05926e25-c6a3-40a3-ae21-bfd4fcca5532",
   "metadata": {},
   "outputs": [
    {
     "data": {
      "text/plain": [
       "{(1, 2, 3): 'sand'}"
      ]
     },
     "execution_count": 18,
     "metadata": {},
     "output_type": "execute_result"
    }
   ],
   "source": [
    "d6   #tuple will work as key"
   ]
  },
  {
   "cell_type": "code",
   "execution_count": 25,
   "id": "17e8661f-07f0-4ca3-850b-74e01385da36",
   "metadata": {},
   "outputs": [],
   "source": [
    "d7 = {'name':'sandeep' , 'organisation':'TCS', 'mail':'s.bandi3@tcs.com' , 'name':'sand','name1':'Kumar'}"
   ]
  },
  {
   "cell_type": "code",
   "execution_count": 26,
   "id": "1d223de1-7f4c-494f-ad27-b661fd73ff58",
   "metadata": {},
   "outputs": [
    {
     "data": {
      "text/plain": [
       "{'name': 'sand',\n",
       " 'organisation': 'TCS',\n",
       " 'mail': 's.bandi3@tcs.com',\n",
       " 'name1': 'Kumar'}"
      ]
     },
     "execution_count": 26,
     "metadata": {},
     "output_type": "execute_result"
    }
   ],
   "source": [
    "d7  #adapt latest value name is sand"
   ]
  },
  {
   "cell_type": "code",
   "execution_count": 27,
   "id": "09f23882-1e95-43bb-8ffd-5459728c9110",
   "metadata": {},
   "outputs": [],
   "source": [
    "d8 = {'name':'sandeep','Mentor':{'fsds':'imran','fsda':'anand','bigdata':'shashak'}}"
   ]
  },
  {
   "cell_type": "code",
   "execution_count": 28,
   "id": "443ff810-cc1e-4a2a-92ad-13c2fd4eb534",
   "metadata": {},
   "outputs": [
    {
     "data": {
      "text/plain": [
       "{'name': 'sandeep',\n",
       " 'Mentor': {'fsds': 'imran', 'fsda': 'anand', 'bigdata': 'shashak'}}"
      ]
     },
     "execution_count": 28,
     "metadata": {},
     "output_type": "execute_result"
    }
   ],
   "source": [
    "d8"
   ]
  },
  {
   "cell_type": "code",
   "execution_count": 29,
   "id": "ce8c3005-c3b2-4154-a686-80e67920ecf9",
   "metadata": {},
   "outputs": [
    {
     "data": {
      "text/plain": [
       "{'name': 'sand',\n",
       " 'organisation': 'TCS',\n",
       " 'mail': 's.bandi3@tcs.com',\n",
       " 'name1': 'Kumar'}"
      ]
     },
     "execution_count": 29,
     "metadata": {},
     "output_type": "execute_result"
    }
   ],
   "source": [
    "d7"
   ]
  },
  {
   "cell_type": "code",
   "execution_count": 30,
   "id": "c059afb5-a11b-4464-a9bf-6af9359f318c",
   "metadata": {},
   "outputs": [
    {
     "data": {
      "text/plain": [
       "'s.bandi3@tcs.com'"
      ]
     },
     "execution_count": 30,
     "metadata": {},
     "output_type": "execute_result"
    }
   ],
   "source": [
    "d7['mail']"
   ]
  },
  {
   "cell_type": "code",
   "execution_count": 31,
   "id": "cab2a931-c9a9-4825-a1b2-63e96c5304e6",
   "metadata": {},
   "outputs": [
    {
     "ename": "KeyError",
     "evalue": "2",
     "output_type": "error",
     "traceback": [
      "\u001b[0;31m---------------------------------------------------------------------------\u001b[0m",
      "\u001b[0;31mKeyError\u001b[0m                                  Traceback (most recent call last)",
      "Cell \u001b[0;32mIn [31], line 1\u001b[0m\n\u001b[0;32m----> 1\u001b[0m \u001b[43md7\u001b[49m\u001b[43m[\u001b[49m\u001b[38;5;241;43m2\u001b[39;49m\u001b[43m]\u001b[49m\n",
      "\u001b[0;31mKeyError\u001b[0m: 2"
     ]
    }
   ],
   "source": [
    "d7[2] #cannot parse dict based on index need give key name"
   ]
  },
  {
   "cell_type": "code",
   "execution_count": 32,
   "id": "52476447-9114-4164-8bc4-ec8db989d4ca",
   "metadata": {},
   "outputs": [
    {
     "data": {
      "text/plain": [
       "{'name': 'sand',\n",
       " 'organisation': 'TCS',\n",
       " 'mail': 's.bandi3@tcs.com',\n",
       " 'name1': 'Kumar'}"
      ]
     },
     "execution_count": 32,
     "metadata": {},
     "output_type": "execute_result"
    }
   ],
   "source": [
    "d7"
   ]
  },
  {
   "cell_type": "code",
   "execution_count": 33,
   "id": "8227bada-b157-43e3-a515-569eb82ef096",
   "metadata": {},
   "outputs": [
    {
     "data": {
      "text/plain": [
       "{'name': 'sandeep',\n",
       " 'Mentor': {'fsds': 'imran', 'fsda': 'anand', 'bigdata': 'shashak'}}"
      ]
     },
     "execution_count": 33,
     "metadata": {},
     "output_type": "execute_result"
    }
   ],
   "source": [
    "d8"
   ]
  },
  {
   "cell_type": "code",
   "execution_count": 34,
   "id": "9d334c9b-935f-4032-b38b-d51d46d0fe61",
   "metadata": {},
   "outputs": [
    {
     "data": {
      "text/plain": [
       "'shashak'"
      ]
     },
     "execution_count": 34,
     "metadata": {},
     "output_type": "execute_result"
    }
   ],
   "source": [
    "d8['Mentor']['bigdata']"
   ]
  },
  {
   "cell_type": "code",
   "execution_count": 35,
   "id": "01732065-7516-498a-97cb-60ef7174e10e",
   "metadata": {},
   "outputs": [
    {
     "data": {
      "text/plain": [
       "{'name': 'sand',\n",
       " 'organisation': 'TCS',\n",
       " 'mail': 's.bandi3@tcs.com',\n",
       " 'name1': 'Kumar'}"
      ]
     },
     "execution_count": 35,
     "metadata": {},
     "output_type": "execute_result"
    }
   ],
   "source": [
    "d7"
   ]
  },
  {
   "cell_type": "code",
   "execution_count": 37,
   "id": "9b2be14d-ccd4-4e3a-8fb0-e5785b06ee1d",
   "metadata": {},
   "outputs": [
    {
     "data": {
      "text/plain": [
       "['name', 'organisation', 'mail', 'name1']"
      ]
     },
     "execution_count": 37,
     "metadata": {},
     "output_type": "execute_result"
    }
   ],
   "source": [
    "list(d7.keys())"
   ]
  },
  {
   "cell_type": "code",
   "execution_count": 38,
   "id": "3e544cd4-7f5b-4219-89ea-907293836b9f",
   "metadata": {},
   "outputs": [
    {
     "data": {
      "text/plain": [
       "dict_values(['sand', 'TCS', 's.bandi3@tcs.com', 'Kumar'])"
      ]
     },
     "execution_count": 38,
     "metadata": {},
     "output_type": "execute_result"
    }
   ],
   "source": [
    "d7.values()"
   ]
  },
  {
   "cell_type": "code",
   "execution_count": 39,
   "id": "f2b9e1b6-7e45-4ca6-b63f-5a15a5f8c9e4",
   "metadata": {},
   "outputs": [
    {
     "data": {
      "text/plain": [
       "dict_items([('name', 'sand'), ('organisation', 'TCS'), ('mail', 's.bandi3@tcs.com'), ('name1', 'Kumar')])"
      ]
     },
     "execution_count": 39,
     "metadata": {},
     "output_type": "execute_result"
    }
   ],
   "source": [
    "d7.items()"
   ]
  },
  {
   "cell_type": "code",
   "execution_count": 40,
   "id": "ea224047-bb61-49e7-bea1-c152eeaa7d9d",
   "metadata": {},
   "outputs": [
    {
     "data": {
      "text/plain": [
       "[('name', 'sand'),\n",
       " ('organisation', 'TCS'),\n",
       " ('mail', 's.bandi3@tcs.com'),\n",
       " ('name1', 'Kumar')]"
      ]
     },
     "execution_count": 40,
     "metadata": {},
     "output_type": "execute_result"
    }
   ],
   "source": [
    "list(d7.items())"
   ]
  },
  {
   "cell_type": "code",
   "execution_count": 41,
   "id": "a79b669f-3aad-4deb-8ca9-5cbd0a2b2a72",
   "metadata": {},
   "outputs": [
    {
     "data": {
      "text/plain": [
       "{'name': 'sandeep',\n",
       " 'Mentor': {'fsds': 'imran', 'fsda': 'anand', 'bigdata': 'shashak'}}"
      ]
     },
     "execution_count": 41,
     "metadata": {},
     "output_type": "execute_result"
    }
   ],
   "source": [
    "d8"
   ]
  },
  {
   "cell_type": "code",
   "execution_count": 44,
   "id": "275fc0ae-7bce-4a8c-9382-09b1df2c0bc2",
   "metadata": {},
   "outputs": [
    {
     "data": {
      "text/plain": [
       "['imran', 'anand', 'shashak']"
      ]
     },
     "execution_count": 44,
     "metadata": {},
     "output_type": "execute_result"
    }
   ],
   "source": [
    "list(d8['Mentor'].values())"
   ]
  },
  {
   "cell_type": "code",
   "execution_count": 49,
   "id": "fe383fe8-3228-4085-b3a8-b1f923b6220f",
   "metadata": {},
   "outputs": [],
   "source": [
    "l=[]\n",
    "for i in d8.keys():\n",
    "    if isinstance(d8[i] , dict):\n",
    "        l.append(list(d8[i].values()))"
   ]
  },
  {
   "cell_type": "code",
   "execution_count": 50,
   "id": "24a44aaa-79f3-40d9-9568-e2106453c87b",
   "metadata": {},
   "outputs": [
    {
     "data": {
      "text/plain": [
       "[['imran', 'anand', 'shashak']]"
      ]
     },
     "execution_count": 50,
     "metadata": {},
     "output_type": "execute_result"
    }
   ],
   "source": [
    "l"
   ]
  },
  {
   "cell_type": "code",
   "execution_count": 51,
   "id": "2b1685cc-915f-48b8-a284-10995bf5b9cd",
   "metadata": {},
   "outputs": [],
   "source": [
    "d9 = {'name': 'sandeep','Mentor': {'fsds': 'imran', 'fsda': 'anand', 'bigdata': 'shashak'},'mail':{'imran':'imran@gmailcom','anand':'anand@gmail.com','shashanmk':'shashank@gmail.com'}}"
   ]
  },
  {
   "cell_type": "code",
   "execution_count": 52,
   "id": "16085f37-05aa-4900-9df4-030601d92971",
   "metadata": {},
   "outputs": [
    {
     "data": {
      "text/plain": [
       "{'name': 'sandeep',\n",
       " 'Mentor': {'fsds': 'imran', 'fsda': 'anand', 'bigdata': 'shashak'},\n",
       " 'mail': {'imran': 'imran@gmailcom',\n",
       "  'anand': 'anand@gmail.com',\n",
       "  'shashanmk': 'shashank@gmail.com'}}"
      ]
     },
     "execution_count": 52,
     "metadata": {},
     "output_type": "execute_result"
    }
   ],
   "source": [
    "d9"
   ]
  },
  {
   "cell_type": "code",
   "execution_count": 62,
   "id": "63324aea-ba44-4e99-9cf7-ed828c7670f9",
   "metadata": {},
   "outputs": [],
   "source": [
    "l = []\n",
    "for i in d9.keys():\n",
    "    if isinstance(d9[i],dict):\n",
    "        l.append(list(d9[i].values()))"
   ]
  },
  {
   "cell_type": "code",
   "execution_count": 63,
   "id": "9460f106-49dd-431f-a9a6-cacb11410d39",
   "metadata": {},
   "outputs": [
    {
     "data": {
      "text/plain": [
       "[['imran', 'anand', 'shashak'],\n",
       " ['imran@gmailcom', 'anand@gmail.com', 'shashank@gmail.com']]"
      ]
     },
     "execution_count": 63,
     "metadata": {},
     "output_type": "execute_result"
    }
   ],
   "source": [
    "l"
   ]
  },
  {
   "cell_type": "code",
   "execution_count": 89,
   "id": "d4e1216e-4b4b-4b09-8b25-6c0d572972a8",
   "metadata": {},
   "outputs": [],
   "source": [
    "def test9(d):\n",
    "    l = []\n",
    "    for i in d.keys():\n",
    "        if isinstance(d[i],dict):\n",
    "            l.append(list(d[i].values()))\n",
    "    return l\n"
   ]
  },
  {
   "cell_type": "code",
   "execution_count": 67,
   "id": "cc4e32e6-bb65-43dd-83da-cd1432a2b9a2",
   "metadata": {},
   "outputs": [
    {
     "data": {
      "text/plain": [
       "[['imran', 'anand', 'shashak']]"
      ]
     },
     "execution_count": 67,
     "metadata": {},
     "output_type": "execute_result"
    }
   ],
   "source": [
    "test9(d8)"
   ]
  },
  {
   "cell_type": "code",
   "execution_count": 68,
   "id": "fd12b64a-6512-471e-9f13-7053bbe2f775",
   "metadata": {},
   "outputs": [
    {
     "data": {
      "text/plain": [
       "[['imran', 'anand', 'shashak'],\n",
       " ['imran@gmailcom', 'anand@gmail.com', 'shashank@gmail.com']]"
      ]
     },
     "execution_count": 68,
     "metadata": {},
     "output_type": "execute_result"
    }
   ],
   "source": [
    "test9(d9)"
   ]
  },
  {
   "cell_type": "code",
   "execution_count": 69,
   "id": "34d7bd37-b85a-4ef1-86dc-07e5291c9e18",
   "metadata": {},
   "outputs": [
    {
     "data": {
      "text/plain": [
       "{'name': 'sandeep',\n",
       " 'Mentor': {'fsds': 'imran', 'fsda': 'anand', 'bigdata': 'shashak'}}"
      ]
     },
     "execution_count": 69,
     "metadata": {},
     "output_type": "execute_result"
    }
   ],
   "source": [
    "d8"
   ]
  },
  {
   "cell_type": "code",
   "execution_count": 70,
   "id": "33449d10-9b97-4afe-a7aa-b2d7030bbc0a",
   "metadata": {},
   "outputs": [],
   "source": [
    "d8['Mobile'] = {2244,3564,9875} #add an KV pair"
   ]
  },
  {
   "cell_type": "code",
   "execution_count": 71,
   "id": "9017d927-1ed9-45f2-a4e8-2ccdaf49511b",
   "metadata": {},
   "outputs": [
    {
     "data": {
      "text/plain": [
       "{'name': 'sandeep',\n",
       " 'Mentor': {'fsds': 'imran', 'fsda': 'anand', 'bigdata': 'shashak'},\n",
       " 'Mobile': {2244, 3564, 9875}}"
      ]
     },
     "execution_count": 71,
     "metadata": {},
     "output_type": "execute_result"
    }
   ],
   "source": [
    "d8"
   ]
  },
  {
   "cell_type": "code",
   "execution_count": 72,
   "id": "5655f773-69d6-466c-8304-23b91e04a14b",
   "metadata": {},
   "outputs": [],
   "source": [
    "d8['name'] = 'Sandeep'  #update name"
   ]
  },
  {
   "cell_type": "code",
   "execution_count": 73,
   "id": "8d8f0648-189e-4ca0-966b-8f32f2069076",
   "metadata": {},
   "outputs": [
    {
     "data": {
      "text/plain": [
       "{'name': 'Sandeep',\n",
       " 'Mentor': {'fsds': 'imran', 'fsda': 'anand', 'bigdata': 'shashak'},\n",
       " 'Mobile': {2244, 3564, 9875}}"
      ]
     },
     "execution_count": 73,
     "metadata": {},
     "output_type": "execute_result"
    }
   ],
   "source": [
    "d8"
   ]
  },
  {
   "cell_type": "code",
   "execution_count": 74,
   "id": "0cbea838-f4c4-4d58-a2b7-23141a15bdc7",
   "metadata": {},
   "outputs": [
    {
     "data": {
      "text/plain": [
       "{'name': 'sand',\n",
       " 'organisation': 'TCS',\n",
       " 'mail': 's.bandi3@tcs.com',\n",
       " 'name1': 'Kumar'}"
      ]
     },
     "execution_count": 74,
     "metadata": {},
     "output_type": "execute_result"
    }
   ],
   "source": [
    "d7"
   ]
  },
  {
   "cell_type": "code",
   "execution_count": 75,
   "id": "a4b39985-d04c-492f-a414-518dee17ebc3",
   "metadata": {},
   "outputs": [],
   "source": [
    "del d7"
   ]
  },
  {
   "cell_type": "code",
   "execution_count": 76,
   "id": "f4560b64-71ed-478b-bdec-e344b09bcf6a",
   "metadata": {},
   "outputs": [
    {
     "ename": "NameError",
     "evalue": "name 'd7' is not defined",
     "output_type": "error",
     "traceback": [
      "\u001b[0;31m---------------------------------------------------------------------------\u001b[0m",
      "\u001b[0;31mNameError\u001b[0m                                 Traceback (most recent call last)",
      "Cell \u001b[0;32mIn [76], line 1\u001b[0m\n\u001b[0;32m----> 1\u001b[0m \u001b[43md7\u001b[49m\n",
      "\u001b[0;31mNameError\u001b[0m: name 'd7' is not defined"
     ]
    }
   ],
   "source": [
    "d7"
   ]
  },
  {
   "cell_type": "code",
   "execution_count": 81,
   "id": "4006abb0-9fea-44ea-a1b5-8039d6b3ec72",
   "metadata": {},
   "outputs": [
    {
     "data": {
      "text/plain": [
       "{'name': 'Sandeep',\n",
       " 'Mentor': {'fsds': 'imran', 'fsda': 'anand', 'bigdata': 'shashak'},\n",
       " 'Mobile': {2244, 3564, 9875}}"
      ]
     },
     "execution_count": 81,
     "metadata": {},
     "output_type": "execute_result"
    }
   ],
   "source": [
    "d8"
   ]
  },
  {
   "cell_type": "code",
   "execution_count": 82,
   "id": "3981ed1a-986f-4937-8f13-14f451fe3cc6",
   "metadata": {},
   "outputs": [],
   "source": [
    "del d8['name']"
   ]
  },
  {
   "cell_type": "code",
   "execution_count": 83,
   "id": "e671c5ac-30df-4ac7-a7fb-89e865b6d982",
   "metadata": {},
   "outputs": [
    {
     "data": {
      "text/plain": [
       "{'Mentor': {'fsds': 'imran', 'fsda': 'anand', 'bigdata': 'shashak'},\n",
       " 'Mobile': {2244, 3564, 9875}}"
      ]
     },
     "execution_count": 83,
     "metadata": {},
     "output_type": "execute_result"
    }
   ],
   "source": [
    "d8"
   ]
  },
  {
   "cell_type": "code",
   "execution_count": 84,
   "id": "a94ae34a-7d78-4778-a493-437619c94dde",
   "metadata": {},
   "outputs": [
    {
     "data": {
      "text/plain": [
       "{'fsds': 'imran', 'fsda': 'anand', 'bigdata': 'shashak'}"
      ]
     },
     "execution_count": 84,
     "metadata": {},
     "output_type": "execute_result"
    }
   ],
   "source": [
    "d8.pop('Mentor')"
   ]
  },
  {
   "cell_type": "code",
   "execution_count": 85,
   "id": "d0fb9289-cbf5-469f-a897-d155356c9794",
   "metadata": {},
   "outputs": [
    {
     "data": {
      "text/plain": [
       "{'Mobile': {2244, 3564, 9875}}"
      ]
     },
     "execution_count": 85,
     "metadata": {},
     "output_type": "execute_result"
    }
   ],
   "source": [
    "d8"
   ]
  },
  {
   "cell_type": "code",
   "execution_count": 86,
   "id": "27ad7314-e8cc-46e5-a1e9-9866cc9b780d",
   "metadata": {},
   "outputs": [],
   "source": [
    "d8['name'] = 'sandeep'"
   ]
  },
  {
   "cell_type": "code",
   "execution_count": 87,
   "id": "c27983be-9f40-493f-816d-0254e77443a0",
   "metadata": {},
   "outputs": [
    {
     "data": {
      "text/plain": [
       "{'Mobile': {2244, 3564, 9875}, 'name': 'sandeep'}"
      ]
     },
     "execution_count": 87,
     "metadata": {},
     "output_type": "execute_result"
    }
   ],
   "source": [
    "d8"
   ]
  },
  {
   "cell_type": "code",
   "execution_count": null,
   "id": "25425a7e-ca85-41ec-8ec2-a3dfe2e40445",
   "metadata": {},
   "outputs": [],
   "source": []
  }
 ],
 "metadata": {
  "kernelspec": {
   "display_name": "Python 3 (ipykernel)",
   "language": "python",
   "name": "python3"
  },
  "language_info": {
   "codemirror_mode": {
    "name": "ipython",
    "version": 3
   },
   "file_extension": ".py",
   "mimetype": "text/x-python",
   "name": "python",
   "nbconvert_exporter": "python",
   "pygments_lexer": "ipython3",
   "version": "3.10.6"
  }
 },
 "nbformat": 4,
 "nbformat_minor": 5
}
