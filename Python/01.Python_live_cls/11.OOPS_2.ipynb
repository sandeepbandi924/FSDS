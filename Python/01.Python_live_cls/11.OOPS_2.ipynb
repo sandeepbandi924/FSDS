{
 "cells": [
  {
   "cell_type": "code",
   "execution_count": 1,
   "id": "6e3a7a7e-74c0-44a6-a278-1480fb435995",
   "metadata": {},
   "outputs": [],
   "source": [
    "class car:\n",
    "    pass"
   ]
  },
  {
   "cell_type": "code",
   "execution_count": 2,
   "id": "10c505a8-ff87-4243-bc6c-8097723ff0f0",
   "metadata": {},
   "outputs": [],
   "source": [
    "audi = car()"
   ]
  },
  {
   "cell_type": "code",
   "execution_count": 4,
   "id": "cd12bf8e-6bdc-419c-8a6a-c7c6e9603da9",
   "metadata": {},
   "outputs": [],
   "source": [
    "audi.mileage = 10\n",
    "audi.year=2006\n",
    "audi.model='Q3'"
   ]
  },
  {
   "cell_type": "code",
   "execution_count": 5,
   "id": "7eb17475-3357-48d2-a288-090bfcd84e0c",
   "metadata": {},
   "outputs": [
    {
     "data": {
      "text/plain": [
       "10"
      ]
     },
     "execution_count": 5,
     "metadata": {},
     "output_type": "execute_result"
    }
   ],
   "source": [
    "audi.mileage\n"
   ]
  },
  {
   "cell_type": "code",
   "execution_count": 20,
   "id": "4b8e0324-154b-4942-99d2-70fbace18b4b",
   "metadata": {},
   "outputs": [],
   "source": [
    "class car:\n",
    "    def __init__(self,mileage,year,model):\n",
    "        self.mileage=mileage\n",
    "        self.year=year\n",
    "        self.model = model\n",
    "        \n",
    "    def age(self,current_year):\n",
    "        return current_year - self.year\n",
    "    \n",
    "    def milege(self):\n",
    "        print('Mileage is ',self.mileage)\n",
    "        \n",
    "    def __str__(self):\n",
    "        return 'this is from class created'"
   ]
  },
  {
   "cell_type": "code",
   "execution_count": 22,
   "id": "5c0fc78c-6d95-4242-8320-4885cbe19fb0",
   "metadata": {},
   "outputs": [],
   "source": [
    "nano=car(10,2006,'sggs')"
   ]
  },
  {
   "cell_type": "code",
   "execution_count": 16,
   "id": "d4c0abfa-8567-4cf7-b0f7-905a18225ec0",
   "metadata": {},
   "outputs": [
    {
     "data": {
      "text/plain": [
       "17"
      ]
     },
     "execution_count": 16,
     "metadata": {},
     "output_type": "execute_result"
    }
   ],
   "source": [
    "nano.age(2023)"
   ]
  },
  {
   "cell_type": "code",
   "execution_count": 17,
   "id": "415e03f2-7853-4fac-a771-bfc43f9412eb",
   "metadata": {},
   "outputs": [
    {
     "name": "stdout",
     "output_type": "stream",
     "text": [
      "Mileage is  10\n"
     ]
    }
   ],
   "source": [
    "nano.milege()"
   ]
  },
  {
   "cell_type": "code",
   "execution_count": 19,
   "id": "352f3c26-ad06-48a4-b9a5-28a990762844",
   "metadata": {},
   "outputs": [
    {
     "name": "stdout",
     "output_type": "stream",
     "text": [
      "<__main__.car object at 0x7fdec1b89300>\n"
     ]
    }
   ],
   "source": [
    "print(nano)  #if we use __str__ it will overide the memory and return present in the string"
   ]
  },
  {
   "cell_type": "code",
   "execution_count": 23,
   "id": "c8516910-e7b8-47a7-8053-6ab23e739d4d",
   "metadata": {},
   "outputs": [
    {
     "name": "stdout",
     "output_type": "stream",
     "text": [
      "this is from class created\n"
     ]
    }
   ],
   "source": [
    "print(nano)"
   ]
  },
  {
   "cell_type": "code",
   "execution_count": null,
   "id": "de622ae0-aa23-49a4-8ace-1f148949157d",
   "metadata": {},
   "outputs": [],
   "source": []
  },
  {
   "cell_type": "code",
   "execution_count": 27,
   "id": "14b8a6f4-84c8-482b-a8fa-c8fd6f77680a",
   "metadata": {},
   "outputs": [],
   "source": [
    "class Person:\n",
    "    def __init__(self,f_name,l_name,age):\n",
    "        self.f_name=f_name\n",
    "        self.l_name=l_name\n",
    "        self.age=age\n",
    "        \n",
    "    def __str__(self):\n",
    "        return 'This is the person class'"
   ]
  },
  {
   "cell_type": "code",
   "execution_count": null,
   "id": "c59ed7ae-c023-4948-8ec2-bc0f1abfeadf",
   "metadata": {},
   "outputs": [],
   "source": []
  },
  {
   "cell_type": "code",
   "execution_count": 28,
   "id": "c4f17a2f-3b5f-4348-a20f-8de4ef3068b5",
   "metadata": {},
   "outputs": [],
   "source": [
    "p1=Person('sandeep','bandi',25)"
   ]
  },
  {
   "cell_type": "code",
   "execution_count": 29,
   "id": "bdb2389b-c80c-475c-b789-a35ef2778e2e",
   "metadata": {},
   "outputs": [
    {
     "name": "stdout",
     "output_type": "stream",
     "text": [
      "This is the person class\n"
     ]
    }
   ],
   "source": [
    "print(p1)"
   ]
  },
  {
   "cell_type": "code",
   "execution_count": null,
   "id": "ed8c0f43-b1c4-4406-8f37-4e6e7d134e76",
   "metadata": {},
   "outputs": [],
   "source": []
  },
  {
   "cell_type": "code",
   "execution_count": 1,
   "id": "fa1b7226-a0c1-4068-8557-0f35e38c40bc",
   "metadata": {},
   "outputs": [],
   "source": [
    "\n",
    "class Student:\n",
    "    \n",
    "    def __init__(self,name,roll_no,joining_date,current_topic):\n",
    "        self.name=name\n",
    "        self.roll_no=roll_no\n",
    "        self.joining_date=joining_date\n",
    "        self.current_topic=current_topic\n",
    "        \n",
    "    def current_Topic(self):\n",
    "        print('cuurent Topic is',self.current_topic)\n",
    "        \n",
    "    def str_rollno(self):\n",
    "        try:\n",
    "            if isinstance(self.roll_no,str):\n",
    "                print('Do nothoing')\n",
    "            else:\n",
    "                return str(self.roll_no)\n",
    "        except Exception as e:\n",
    "            \n",
    "            print('This is my error message ',e)\n",
    "    \n",
    "    def duration(self,curr_date):\n",
    "        print('duration of student in my class is',curr_date - self.joining_date)\n",
    "    \n",
    "    def __str__(self):\n",
    "        return 'This is Student class'"
   ]
  },
  {
   "cell_type": "code",
   "execution_count": 2,
   "id": "c9dd2472-6d49-4ae9-b2da-0fe75f84f567",
   "metadata": {},
   "outputs": [],
   "source": [
    "s1 = Student('Sandeep',25,2008,'Python_Oops')"
   ]
  },
  {
   "cell_type": "code",
   "execution_count": 3,
   "id": "3beb8069-2e64-44ce-8e67-3b5e6e7c65de",
   "metadata": {},
   "outputs": [
    {
     "name": "stdout",
     "output_type": "stream",
     "text": [
      "This is Student class\n"
     ]
    }
   ],
   "source": [
    "print(s1)"
   ]
  },
  {
   "cell_type": "code",
   "execution_count": 5,
   "id": "517b4e0b-fa00-4b75-bd68-7c2e42114e62",
   "metadata": {},
   "outputs": [
    {
     "name": "stdout",
     "output_type": "stream",
     "text": [
      "duration of student in my class is 15\n"
     ]
    }
   ],
   "source": [
    "s1.duration(2023)"
   ]
  },
  {
   "cell_type": "code",
   "execution_count": 6,
   "id": "2030b0ae-f0c9-4190-b87e-b1906dccd752",
   "metadata": {},
   "outputs": [
    {
     "data": {
      "text/plain": [
       "'25'"
      ]
     },
     "execution_count": 6,
     "metadata": {},
     "output_type": "execute_result"
    }
   ],
   "source": [
    "s1.str_rollno()"
   ]
  },
  {
   "cell_type": "code",
   "execution_count": 7,
   "id": "4656ccc2-ce54-4aa9-9faf-57525f74eb4f",
   "metadata": {},
   "outputs": [
    {
     "name": "stdout",
     "output_type": "stream",
     "text": [
      "cuurent Topic is Python_Oops\n"
     ]
    }
   ],
   "source": [
    "s1.current_Topic()"
   ]
  },
  {
   "cell_type": "code",
   "execution_count": null,
   "id": "237035bf-8d0d-49b1-84ad-786d45430776",
   "metadata": {},
   "outputs": [],
   "source": []
  },
  {
   "cell_type": "code",
   "execution_count": null,
   "id": "6b6d2726-6098-4d9a-a0b5-b55f49211e8b",
   "metadata": {},
   "outputs": [],
   "source": []
  },
  {
   "cell_type": "code",
   "execution_count": 9,
   "id": "337a8a32-7149-45a2-866a-732544ea8a8a",
   "metadata": {},
   "outputs": [],
   "source": [
    "#Defalut constructor\n",
    "\n",
    "class Student:\n",
    "    \n",
    "    def who(self):\n",
    "        print('I am a Student')"
   ]
  },
  {
   "cell_type": "code",
   "execution_count": 10,
   "id": "8a132d69-a734-4d1f-afdc-8d587d8b7a46",
   "metadata": {},
   "outputs": [],
   "source": [
    "s2=Student()"
   ]
  },
  {
   "cell_type": "code",
   "execution_count": 11,
   "id": "2e3d420c-3352-41b2-91a5-eeabca90edc1",
   "metadata": {},
   "outputs": [
    {
     "name": "stdout",
     "output_type": "stream",
     "text": [
      "I am a Student\n"
     ]
    }
   ],
   "source": [
    "s2.who()"
   ]
  },
  {
   "cell_type": "code",
   "execution_count": 13,
   "id": "bbe6e3c3-c15a-483c-abbd-21964854932c",
   "metadata": {},
   "outputs": [],
   "source": [
    "#Non parametrized constructor\n",
    "class company:\n",
    "    def __init__(self):\n",
    "        self.name='Ineuron'\n",
    "        self.address='banglore'\n",
    "    \n",
    "    def show(self):\n",
    "        print('Name:',self.name,'address:',self.address)"
   ]
  },
  {
   "cell_type": "code",
   "execution_count": 14,
   "id": "48694518-b22f-4651-beb9-f173f86c1bf5",
   "metadata": {},
   "outputs": [],
   "source": [
    "c1=company()"
   ]
  },
  {
   "cell_type": "code",
   "execution_count": 15,
   "id": "807c0be8-617f-43bf-82a7-98bb05ad6b70",
   "metadata": {},
   "outputs": [
    {
     "name": "stdout",
     "output_type": "stream",
     "text": [
      "Name: Ineuron address: banglore\n"
     ]
    }
   ],
   "source": [
    "c1.show()"
   ]
  },
  {
   "cell_type": "code",
   "execution_count": 21,
   "id": "544bb712-db1d-4377-8efd-cda67e9f613a",
   "metadata": {},
   "outputs": [],
   "source": [
    "#parameter constrctor\n",
    "\n",
    "class Calculator:\n",
    "    \n",
    "    def __init__(self,a,b):\n",
    "        self.a=a\n",
    "        self.b=b\n",
    "    def add(self):\n",
    "        return self.a + self.b\n",
    "    def sub(self):\n",
    "        return self.a - self.b\n",
    "    def mul(self):\n",
    "        return self.a * self.b\n",
    "    def div(self):\n",
    "        return self.a / self.b\n"
   ]
  },
  {
   "cell_type": "code",
   "execution_count": 22,
   "id": "b4274188-41cc-4836-a757-20b590b85414",
   "metadata": {},
   "outputs": [],
   "source": [
    "d=Calculator(5,6)"
   ]
  },
  {
   "cell_type": "code",
   "execution_count": 23,
   "id": "6f119e64-06c2-4902-a3cf-856091a55cf4",
   "metadata": {},
   "outputs": [
    {
     "data": {
      "text/plain": [
       "11"
      ]
     },
     "execution_count": 23,
     "metadata": {},
     "output_type": "execute_result"
    }
   ],
   "source": [
    "d.add()"
   ]
  },
  {
   "cell_type": "code",
   "execution_count": 24,
   "id": "13045bef-8514-4f26-aee1-20652e55114e",
   "metadata": {},
   "outputs": [
    {
     "data": {
      "text/plain": [
       "30"
      ]
     },
     "execution_count": 24,
     "metadata": {},
     "output_type": "execute_result"
    }
   ],
   "source": [
    "d.mul()"
   ]
  },
  {
   "cell_type": "raw",
   "id": "0ca964cd-7d91-4aa6-a1c3-73111b28a62f",
   "metadata": {},
   "source": [
    "## Encapsulaton:\n",
    "\n",
    "It is used to bundle the atributes and methods into a single class unit\n",
    "\n",
    "--> Modifers : use hide some data\n",
    "\n",
    "public , protected, private\n",
    "\n",
    "\n",
    "\n",
    "Modifiers       own class       Derived class          Object\n",
    "\n",
    "private          Yes               No                   No\n",
    "\n",
    "protected        Yes               Yes                  No\n",
    "\n",
    "public           Yes               Yes                  Yes"
   ]
  },
  {
   "cell_type": "code",
   "execution_count": 36,
   "id": "fe47d13b-e153-46c9-906d-843083e7472f",
   "metadata": {},
   "outputs": [],
   "source": [
    "class Pub_mod:\n",
    "    \n",
    "    def __init__(self,name,age):\n",
    "        self._name=name\n",
    "        self.age=age\n",
    "        \n",
    "    def age1(self):\n",
    "        print('Age',self.age)"
   ]
  },
  {
   "cell_type": "code",
   "execution_count": 37,
   "id": "efb9ef3c-9d0a-4575-bc63-1e8a2049c6fc",
   "metadata": {},
   "outputs": [],
   "source": [
    "c1=Pub_mod('Sandeep',25)"
   ]
  },
  {
   "cell_type": "code",
   "execution_count": 38,
   "id": "e1c9028c-fb36-4196-a9a3-3a97f602ff91",
   "metadata": {},
   "outputs": [
    {
     "name": "stdout",
     "output_type": "stream",
     "text": [
      "Age 25\n"
     ]
    }
   ],
   "source": [
    "c1.age1()"
   ]
  },
  {
   "cell_type": "code",
   "execution_count": 39,
   "id": "7a499050-710f-4106-acee-443558f51aba",
   "metadata": {},
   "outputs": [
    {
     "data": {
      "text/plain": [
       "'Sandeep'"
      ]
     },
     "execution_count": 39,
     "metadata": {},
     "output_type": "execute_result"
    }
   ],
   "source": [
    "c1."
   ]
  },
  {
   "cell_type": "code",
   "execution_count": null,
   "id": "0ced7115-8463-4990-a57b-be9143d2576e",
   "metadata": {},
   "outputs": [],
   "source": []
  },
  {
   "cell_type": "code",
   "execution_count": null,
   "id": "01df73f5-7fb8-4990-b953-10680d8ea8af",
   "metadata": {},
   "outputs": [],
   "source": []
  },
  {
   "cell_type": "code",
   "execution_count": 41,
   "id": "05a4f7b5-a7ac-4e66-aeef-cf22e49da545",
   "metadata": {},
   "outputs": [],
   "source": [
    "class Rectangle:\n",
    "    # __length=0\n",
    "    # __breadth=0\n",
    "    \n",
    "    def __init__(self):\n",
    "        self.__length = 5\n",
    "        self.__breadth = 8\n",
    "    \n",
    "        print(self.__length)\n",
    "        print(self.__breadth)"
   ]
  },
  {
   "cell_type": "code",
   "execution_count": 42,
   "id": "417919cf-f267-4519-9907-17a0b24a7b9f",
   "metadata": {},
   "outputs": [
    {
     "name": "stdout",
     "output_type": "stream",
     "text": [
      "5\n",
      "8\n"
     ]
    }
   ],
   "source": [
    "r1 = Rectangle()"
   ]
  },
  {
   "cell_type": "code",
   "execution_count": 48,
   "id": "b1e5e9f8-abb6-4449-b852-06c884f6087a",
   "metadata": {},
   "outputs": [
    {
     "name": "stdout",
     "output_type": "stream",
     "text": [
      "5\n",
      "8\n",
      "5\n"
     ]
    },
    {
     "ename": "AttributeError",
     "evalue": "'Rectangle' object has no attribute 'breadth'",
     "output_type": "error",
     "traceback": [
      "\u001b[0;31m---------------------------------------------------------------------------\u001b[0m",
      "\u001b[0;31mAttributeError\u001b[0m                            Traceback (most recent call last)",
      "Cell \u001b[0;32mIn [48], line 17\u001b[0m\n\u001b[1;32m     15\u001b[0m r2 \u001b[38;5;241m=\u001b[39m Rectangle()\n\u001b[1;32m     16\u001b[0m \u001b[38;5;28mprint\u001b[39m(r2\u001b[38;5;241m.\u001b[39mlength)\n\u001b[0;32m---> 17\u001b[0m \u001b[38;5;28mprint\u001b[39m(\u001b[43mr2\u001b[49m\u001b[38;5;241;43m.\u001b[39;49m\u001b[43mbreadth\u001b[49m)\n",
      "\u001b[0;31mAttributeError\u001b[0m: 'Rectangle' object has no attribute 'breadth'"
     ]
    }
   ],
   "source": [
    "class Rectangle:\n",
    "    # __length=0\n",
    "    # __breadth=0\n",
    "    \n",
    "    def __init__(self):\n",
    "        self.length = 5\n",
    "        self.__breadth = 8\n",
    "    \n",
    "        print(self.length)\n",
    "        print(self.__breadth)\n",
    "        \n",
    "    def show(self):\n",
    "        print('This is printing private vaiables',self.__breadth)\n",
    "    \n",
    "r2 = Rectangle()\n",
    "print(r2.length)\n",
    "print(r2.breadth)"
   ]
  },
  {
   "cell_type": "code",
   "execution_count": 49,
   "id": "9a914463-202b-4a26-8740-d5109d8f53db",
   "metadata": {},
   "outputs": [
    {
     "name": "stdout",
     "output_type": "stream",
     "text": [
      "This is printing private vaiables 8\n"
     ]
    }
   ],
   "source": [
    "r2.show()"
   ]
  },
  {
   "cell_type": "markdown",
   "id": "30ebd63c-7c33-4a41-be35-f79a2f648e5c",
   "metadata": {},
   "source": [
    "#syntax to access pri,proct outside the class is\n",
    "\n",
    "thi is called Name mangling\n",
    "\n",
    "\n",
    "obj._classname.__variablename\n"
   ]
  },
  {
   "cell_type": "code",
   "execution_count": 51,
   "id": "1b422eb3-3680-4a25-9d46-6ddd2c460770",
   "metadata": {},
   "outputs": [
    {
     "data": {
      "text/plain": [
       "8"
      ]
     },
     "execution_count": 51,
     "metadata": {},
     "output_type": "execute_result"
    }
   ],
   "source": [
    "#\n",
    "r2._Rectangle__breadth "
   ]
  },
  {
   "cell_type": "code",
   "execution_count": 67,
   "id": "1fcfa765-5739-4776-be94-61674524844c",
   "metadata": {},
   "outputs": [],
   "source": [
    "class test:\n",
    "    def __init__(self):\n",
    "        self.a = 6\n",
    "        self._b = 4\n",
    "        self.__c = 8\n",
    "        \n",
    "        print('pub',self.a,'pro',self._b,'pri',self.__c)\n"
   ]
  },
  {
   "cell_type": "code",
   "execution_count": 68,
   "id": "af3513fe-1356-4c06-bc95-b824ccac9410",
   "metadata": {},
   "outputs": [
    {
     "name": "stdout",
     "output_type": "stream",
     "text": [
      "pub 6 pro 4 pri 8\n"
     ]
    }
   ],
   "source": [
    "t1=test()"
   ]
  },
  {
   "cell_type": "code",
   "execution_count": 69,
   "id": "09de2d72-7865-4a2f-bcf4-6ace83219f4f",
   "metadata": {},
   "outputs": [
    {
     "data": {
      "text/plain": [
       "6"
      ]
     },
     "execution_count": 69,
     "metadata": {},
     "output_type": "execute_result"
    }
   ],
   "source": [
    "t1.a"
   ]
  },
  {
   "cell_type": "code",
   "execution_count": 70,
   "id": "5085f396-a677-4302-9622-e0a649f6cb39",
   "metadata": {},
   "outputs": [
    {
     "ename": "AttributeError",
     "evalue": "'test' object has no attribute 'b'",
     "output_type": "error",
     "traceback": [
      "\u001b[0;31m---------------------------------------------------------------------------\u001b[0m",
      "\u001b[0;31mAttributeError\u001b[0m                            Traceback (most recent call last)",
      "Cell \u001b[0;32mIn [70], line 1\u001b[0m\n\u001b[0;32m----> 1\u001b[0m \u001b[43mt1\u001b[49m\u001b[38;5;241;43m.\u001b[39;49m\u001b[43mb\u001b[49m\n",
      "\u001b[0;31mAttributeError\u001b[0m: 'test' object has no attribute 'b'"
     ]
    }
   ],
   "source": [
    "t1.b"
   ]
  },
  {
   "cell_type": "code",
   "execution_count": 71,
   "id": "7c56d915-6a05-4ba8-8556-7a37f7d8c231",
   "metadata": {},
   "outputs": [
    {
     "ename": "AttributeError",
     "evalue": "'test' object has no attribute 'c'",
     "output_type": "error",
     "traceback": [
      "\u001b[0;31m---------------------------------------------------------------------------\u001b[0m",
      "\u001b[0;31mAttributeError\u001b[0m                            Traceback (most recent call last)",
      "Cell \u001b[0;32mIn [71], line 1\u001b[0m\n\u001b[0;32m----> 1\u001b[0m \u001b[43mt1\u001b[49m\u001b[38;5;241;43m.\u001b[39;49m\u001b[43mc\u001b[49m\n",
      "\u001b[0;31mAttributeError\u001b[0m: 'test' object has no attribute 'c'"
     ]
    }
   ],
   "source": [
    "t1.c"
   ]
  },
  {
   "cell_type": "code",
   "execution_count": 72,
   "id": "afbf42dd-7d7e-406e-9049-b08f6ff8aae9",
   "metadata": {},
   "outputs": [],
   "source": [
    "class test:\n",
    "    def __init__(self):\n",
    "        self.a = 6\n",
    "        self._b = 4\n",
    "        self.__c = 8\n",
    "        \n",
    "        print('pub',self.a,'pro',self._b,'pri',self.__c)\n",
    "        \n",
    "    def show(self):\n",
    "        print('protected',self._b,'private',self.__c)"
   ]
  },
  {
   "cell_type": "code",
   "execution_count": 73,
   "id": "31d0b8f5-fcbd-4267-b25f-b55f0643f0fe",
   "metadata": {},
   "outputs": [
    {
     "name": "stdout",
     "output_type": "stream",
     "text": [
      "pub 6 pro 4 pri 8\n"
     ]
    }
   ],
   "source": [
    "t2 = test()"
   ]
  },
  {
   "cell_type": "code",
   "execution_count": 74,
   "id": "1d93717b-f3f7-4c46-ad78-3c2da38f6f8d",
   "metadata": {},
   "outputs": [
    {
     "name": "stdout",
     "output_type": "stream",
     "text": [
      "protected 4 private 8\n"
     ]
    }
   ],
   "source": [
    "t2.show()  #one way of accesing using method\n"
   ]
  },
  {
   "cell_type": "code",
   "execution_count": 78,
   "id": "241b3c33-ad23-478e-a12e-2e3da7788539",
   "metadata": {},
   "outputs": [
    {
     "data": {
      "text/plain": [
       "8"
      ]
     },
     "execution_count": 78,
     "metadata": {},
     "output_type": "execute_result"
    }
   ],
   "source": [
    "#other is name mangling\n",
    "t2._test__c"
   ]
  },
  {
   "cell_type": "code",
   "execution_count": 76,
   "id": "e5418745-d7e6-4d34-8990-ff3517381e2e",
   "metadata": {},
   "outputs": [
    {
     "data": {
      "text/plain": [
       "4"
      ]
     },
     "execution_count": 76,
     "metadata": {},
     "output_type": "execute_result"
    }
   ],
   "source": [
    "t2._b"
   ]
  },
  {
   "cell_type": "code",
   "execution_count": null,
   "id": "7a6b4e58-8f0c-4668-8a49-c232b656fb30",
   "metadata": {},
   "outputs": [],
   "source": []
  },
  {
   "cell_type": "code",
   "execution_count": 89,
   "id": "99ae3a31-054f-47d5-bdf6-37782ad3f846",
   "metadata": {},
   "outputs": [],
   "source": [
    "class Tyres:\n",
    "    \n",
    "    def __init__(self,branch,belted_bias,opt_press):\n",
    "        self.branch=branch\n",
    "        self.belted_bias=belted_bias\n",
    "        self.opt_press=opt_press\n",
    "    def __str__(self):\n",
    "        return ('This is Tyres class \\n \\tBranch: ' + self.branch +\n",
    "                '\\n \\tBelted bias: '+str(self.belted_bias) +\n",
    "               '\\n \\topt pressure: '+str(self.opt_press))\n",
    "    \n",
    "    \n",
    "class Engine:\n",
    "    def __init__(self,fuel,noise):\n",
    "        self.fuel=fuel\n",
    "        self.noise=noise\n",
    "    def __str__(self):\n",
    "        return ('This is Engine class \\n \\tFuel type: ' + self.fuel +\n",
    "                '\\n \\tNoise level: '+str(self.noise) )\n",
    "    \n",
    "\n",
    "class Body:\n",
    "    def __init__(self,size):\n",
    "        self.size=size\n",
    "    def __str__(self):\n",
    "        return ('This is Body class \\n \\tSize: ' + str(self.size))\n",
    "\n",
    "\n",
    "class Car:\n",
    "    def __init__(self,tyres,engine,body):\n",
    "        self.tyres=tyres\n",
    "        self.engine=engine\n",
    "        self.body=body\n",
    "        \n",
    "    def __str__(self):\n",
    "        return (str(self.tyres) + '\\n' + str(self.engine) + '\\n' + str(self.body))"
   ]
  },
  {
   "cell_type": "code",
   "execution_count": 90,
   "id": "d0b22192-36bb-4359-9a45-9a79caf9019c",
   "metadata": {},
   "outputs": [],
   "source": [
    "t = Tyres('banglore',True,2.0)\n",
    "e = Engine('Petrol', 3)\n",
    "b = Body('Medium')"
   ]
  },
  {
   "cell_type": "code",
   "execution_count": 91,
   "id": "72d3fa1e-ebad-4663-9f29-4c70c6903b64",
   "metadata": {},
   "outputs": [
    {
     "name": "stdout",
     "output_type": "stream",
     "text": [
      "This is Tyres class \n",
      " \tBranch: banglore\n",
      " \tBelted bias: True\n",
      " \topt pressure: 2.0\n",
      "This is Engine class \n",
      " \tFuel type: Petrol\n",
      " \tNoise level: 3\n",
      "This is Body class \n",
      " \tSize: Medium\n"
     ]
    }
   ],
   "source": [
    "c = Car(t,e,b)\n",
    "print(c)"
   ]
  },
  {
   "cell_type": "code",
   "execution_count": null,
   "id": "8b43533c-c535-443c-bd2e-f97db074d585",
   "metadata": {},
   "outputs": [],
   "source": []
  }
 ],
 "metadata": {
  "kernelspec": {
   "display_name": "Python 3 (ipykernel)",
   "language": "python",
   "name": "python3"
  },
  "language_info": {
   "codemirror_mode": {
    "name": "ipython",
    "version": 3
   },
   "file_extension": ".py",
   "mimetype": "text/x-python",
   "name": "python",
   "nbconvert_exporter": "python",
   "pygments_lexer": "ipython3",
   "version": "3.10.6"
  }
 },
 "nbformat": 4,
 "nbformat_minor": 5
}
