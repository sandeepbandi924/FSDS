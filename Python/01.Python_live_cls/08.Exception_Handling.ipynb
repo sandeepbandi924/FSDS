{
 "cells": [
  {
   "cell_type": "code",
   "execution_count": 1,
   "id": "311f14ad-f8a7-4804-b3ff-e5fff7453b94",
   "metadata": {},
   "outputs": [
    {
     "ename": "ZeroDivisionError",
     "evalue": "division by zero",
     "output_type": "error",
     "traceback": [
      "\u001b[0;31m---------------------------------------------------------------------------\u001b[0m",
      "\u001b[0;31mZeroDivisionError\u001b[0m                         Traceback (most recent call last)",
      "Cell \u001b[0;32mIn [1], line 1\u001b[0m\n\u001b[0;32m----> 1\u001b[0m \u001b[38;5;241;43m1\u001b[39;49m\u001b[38;5;241;43m/\u001b[39;49m\u001b[38;5;241;43m0\u001b[39;49m\n",
      "\u001b[0;31mZeroDivisionError\u001b[0m: division by zero"
     ]
    }
   ],
   "source": [
    "1/0"
   ]
  },
  {
   "cell_type": "code",
   "execution_count": 3,
   "id": "75e6b8f0-17a5-47ba-9bca-038ab68aa5f6",
   "metadata": {},
   "outputs": [
    {
     "ename": "FileNotFoundError",
     "evalue": "[Errno 2] No such file or directory: 'test.txt'",
     "output_type": "error",
     "traceback": [
      "\u001b[0;31m---------------------------------------------------------------------------\u001b[0m",
      "\u001b[0;31mFileNotFoundError\u001b[0m                         Traceback (most recent call last)",
      "Cell \u001b[0;32mIn [3], line 1\u001b[0m\n\u001b[0;32m----> 1\u001b[0m \u001b[38;5;28;43mopen\u001b[39;49m\u001b[43m(\u001b[49m\u001b[38;5;124;43m'\u001b[39;49m\u001b[38;5;124;43mtest.txt\u001b[39;49m\u001b[38;5;124;43m'\u001b[39;49m\u001b[43m)\u001b[49m\n",
      "\u001b[0;31mFileNotFoundError\u001b[0m: [Errno 2] No such file or directory: 'test.txt'"
     ]
    }
   ],
   "source": [
    "open('test.txt')"
   ]
  },
  {
   "cell_type": "code",
   "execution_count": 5,
   "id": "f5ad7f9a-d6f6-46c8-8cc8-8a26882a2705",
   "metadata": {},
   "outputs": [
    {
     "ename": "NameError",
     "evalue": "name 'c' is not defined",
     "output_type": "error",
     "traceback": [
      "\u001b[0;31m---------------------------------------------------------------------------\u001b[0m",
      "\u001b[0;31mNameError\u001b[0m                                 Traceback (most recent call last)",
      "Cell \u001b[0;32mIn [5], line 3\u001b[0m\n\u001b[1;32m      1\u001b[0m a \u001b[38;5;241m=\u001b[39m \u001b[38;5;241m10\u001b[39m\n\u001b[1;32m      2\u001b[0m b \u001b[38;5;241m=\u001b[39m \u001b[38;5;241m20\u001b[39m\n\u001b[0;32m----> 3\u001b[0m \u001b[38;5;28mprint\u001b[39m(\u001b[38;5;124m'\u001b[39m\u001b[38;5;124maddition\u001b[39m\u001b[38;5;124m'\u001b[39m,a\u001b[38;5;241m+\u001b[39m\u001b[43mc\u001b[49m)\n",
      "\u001b[0;31mNameError\u001b[0m: name 'c' is not defined"
     ]
    }
   ],
   "source": [
    "a = 10\n",
    "b = 20\n",
    "print('addition',a+c)"
   ]
  },
  {
   "cell_type": "code",
   "execution_count": 8,
   "id": "cc4a20c2-2379-47b6-ba4f-d2ad9735dfda",
   "metadata": {},
   "outputs": [
    {
     "name": "stdout",
     "output_type": "stream",
     "text": [
      "['ArithmeticError', 'AssertionError', 'AttributeError', 'BaseException', 'BlockingIOError', 'BrokenPipeError', 'BufferError', 'BytesWarning', 'ChildProcessError', 'ConnectionAbortedError', 'ConnectionError', 'ConnectionRefusedError', 'ConnectionResetError', 'DeprecationWarning', 'EOFError', 'Ellipsis', 'EncodingWarning', 'EnvironmentError', 'Exception', 'False', 'FileExistsError', 'FileNotFoundError', 'FloatingPointError', 'FutureWarning', 'GeneratorExit', 'IOError', 'ImportError', 'ImportWarning', 'IndentationError', 'IndexError', 'InterruptedError', 'IsADirectoryError', 'KeyError', 'KeyboardInterrupt', 'LookupError', 'MemoryError', 'ModuleNotFoundError', 'NameError', 'None', 'NotADirectoryError', 'NotImplemented', 'NotImplementedError', 'OSError', 'OverflowError', 'PendingDeprecationWarning', 'PermissionError', 'ProcessLookupError', 'RecursionError', 'ReferenceError', 'ResourceWarning', 'RuntimeError', 'RuntimeWarning', 'StopAsyncIteration', 'StopIteration', 'SyntaxError', 'SyntaxWarning', 'SystemError', 'SystemExit', 'TabError', 'TimeoutError', 'True', 'TypeError', 'UnboundLocalError', 'UnicodeDecodeError', 'UnicodeEncodeError', 'UnicodeError', 'UnicodeTranslateError', 'UnicodeWarning', 'UserWarning', 'ValueError', 'Warning', 'ZeroDivisionError', '__IPYTHON__', '__build_class__', '__debug__', '__doc__', '__import__', '__loader__', '__name__', '__package__', '__spec__', 'abs', 'aiter', 'all', 'anext', 'any', 'ascii', 'bin', 'bool', 'breakpoint', 'bytearray', 'bytes', 'callable', 'chr', 'classmethod', 'compile', 'complex', 'copyright', 'credits', 'delattr', 'dict', 'dir', 'display', 'divmod', 'enumerate', 'eval', 'exec', 'execfile', 'filter', 'float', 'format', 'frozenset', 'get_ipython', 'getattr', 'globals', 'hasattr', 'hash', 'help', 'hex', 'id', 'input', 'int', 'isinstance', 'issubclass', 'iter', 'len', 'license', 'list', 'locals', 'map', 'max', 'memoryview', 'min', 'next', 'object', 'oct', 'open', 'ord', 'pow', 'print', 'property', 'range', 'repr', 'reversed', 'round', 'runfile', 'set', 'setattr', 'slice', 'sorted', 'staticmethod', 'str', 'sum', 'super', 'tuple', 'type', 'vars', 'zip']\n"
     ]
    }
   ],
   "source": [
    "print(dir(locals()['__builtins__']))  #bult in exceptions"
   ]
  },
  {
   "cell_type": "markdown",
   "id": "f72959ad-b715-4851-9546-697466e0e56e",
   "metadata": {},
   "source": [
    "# AssertionError"
   ]
  },
  {
   "cell_type": "raw",
   "id": "5b730e19-504a-44a7-8382-e937478457f5",
   "metadata": {},
   "source": [
    "assert -> it is a keyword which test if a condtion in your code return used in debugging the code"
   ]
  },
  {
   "cell_type": "code",
   "execution_count": 11,
   "id": "5b6ca540-970f-429a-ac1a-361cd9e9b8f4",
   "metadata": {},
   "outputs": [
    {
     "ename": "AssertionError",
     "evalue": "Invalid opertion",
     "output_type": "error",
     "traceback": [
      "\u001b[0;31m---------------------------------------------------------------------------\u001b[0m",
      "\u001b[0;31mAssertionError\u001b[0m                            Traceback (most recent call last)",
      "Cell \u001b[0;32mIn [11], line 3\u001b[0m\n\u001b[1;32m      1\u001b[0m z \u001b[38;5;241m=\u001b[39m \u001b[38;5;241m1\u001b[39m\n\u001b[1;32m      2\u001b[0m y \u001b[38;5;241m=\u001b[39m \u001b[38;5;241m0\u001b[39m\n\u001b[0;32m----> 3\u001b[0m \u001b[38;5;28;01massert\u001b[39;00m y\u001b[38;5;241m!=\u001b[39m\u001b[38;5;241m0\u001b[39m,\u001b[38;5;124m'\u001b[39m\u001b[38;5;124mInvalid opertion\u001b[39m\u001b[38;5;124m'\u001b[39m\n\u001b[1;32m      4\u001b[0m \u001b[38;5;28mprint\u001b[39m(x\u001b[38;5;241m/\u001b[39my)\n",
      "\u001b[0;31mAssertionError\u001b[0m: Invalid opertion"
     ]
    }
   ],
   "source": [
    "z = 1\n",
    "y = 0\n",
    "assert y!=0,'Invalid opertion'\n",
    "print(x/y)"
   ]
  },
  {
   "cell_type": "markdown",
   "id": "fcb3c16d-bcfc-4d94-bb62-80d223b8236d",
   "metadata": {},
   "source": [
    "# AttributeError"
   ]
  },
  {
   "cell_type": "code",
   "execution_count": 12,
   "id": "d1dc1e61-c4c4-4ac1-87c0-c562f00a46f4",
   "metadata": {},
   "outputs": [],
   "source": [
    "y = 10"
   ]
  },
  {
   "cell_type": "code",
   "execution_count": 13,
   "id": "03bfa740-e061-48b2-a061-3a9c5ad0563d",
   "metadata": {},
   "outputs": [
    {
     "ename": "AttributeError",
     "evalue": "'int' object has no attribute 'append'",
     "output_type": "error",
     "traceback": [
      "\u001b[0;31m---------------------------------------------------------------------------\u001b[0m",
      "\u001b[0;31mAttributeError\u001b[0m                            Traceback (most recent call last)",
      "Cell \u001b[0;32mIn [13], line 1\u001b[0m\n\u001b[0;32m----> 1\u001b[0m \u001b[43my\u001b[49m\u001b[38;5;241;43m.\u001b[39;49m\u001b[43mappend\u001b[49m(\u001b[38;5;241m5\u001b[39m)\n",
      "\u001b[0;31mAttributeError\u001b[0m: 'int' object has no attribute 'append'"
     ]
    }
   ],
   "source": [
    "y.append(5)"
   ]
  },
  {
   "cell_type": "markdown",
   "id": "9465e8dd-023b-4a50-a80c-95085fc5d047",
   "metadata": {},
   "source": [
    "# IndexError"
   ]
  },
  {
   "cell_type": "code",
   "execution_count": 14,
   "id": "89a1406a-54a8-44de-ab86-0c2840b4c7c8",
   "metadata": {},
   "outputs": [],
   "source": [
    "mylist=[1,2,3,4,5,6,7,8]"
   ]
  },
  {
   "cell_type": "code",
   "execution_count": 15,
   "id": "26b5c434-df03-46a6-b0cd-5b19b01dd48a",
   "metadata": {},
   "outputs": [
    {
     "ename": "IndexError",
     "evalue": "list index out of range",
     "output_type": "error",
     "traceback": [
      "\u001b[0;31m---------------------------------------------------------------------------\u001b[0m",
      "\u001b[0;31mIndexError\u001b[0m                                Traceback (most recent call last)",
      "Cell \u001b[0;32mIn [15], line 1\u001b[0m\n\u001b[0;32m----> 1\u001b[0m \u001b[43mmylist\u001b[49m\u001b[43m[\u001b[49m\u001b[38;5;241;43m10\u001b[39;49m\u001b[43m]\u001b[49m\n",
      "\u001b[0;31mIndexError\u001b[0m: list index out of range"
     ]
    }
   ],
   "source": [
    "mylist[10]"
   ]
  },
  {
   "cell_type": "markdown",
   "id": "a8226ea8-b381-4fb9-ac77-5786eb7dc9fd",
   "metadata": {},
   "source": [
    "# KeyErrors"
   ]
  },
  {
   "cell_type": "code",
   "execution_count": 16,
   "id": "1630a731-0335-42a5-a2f1-3dcb741a5a67",
   "metadata": {},
   "outputs": [],
   "source": [
    "mydict={\n",
    "'namne':'sand',\n",
    "'course':'python'}"
   ]
  },
  {
   "cell_type": "code",
   "execution_count": 17,
   "id": "a0babf50-1814-400e-a439-806323550722",
   "metadata": {},
   "outputs": [
    {
     "ename": "KeyError",
     "evalue": "'age'",
     "output_type": "error",
     "traceback": [
      "\u001b[0;31m---------------------------------------------------------------------------\u001b[0m",
      "\u001b[0;31mKeyError\u001b[0m                                  Traceback (most recent call last)",
      "Cell \u001b[0;32mIn [17], line 1\u001b[0m\n\u001b[0;32m----> 1\u001b[0m \u001b[43mmydict\u001b[49m\u001b[43m[\u001b[49m\u001b[38;5;124;43m'\u001b[39;49m\u001b[38;5;124;43mage\u001b[39;49m\u001b[38;5;124;43m'\u001b[39;49m\u001b[43m]\u001b[49m\n",
      "\u001b[0;31mKeyError\u001b[0m: 'age'"
     ]
    }
   ],
   "source": [
    "mydict['age']"
   ]
  },
  {
   "cell_type": "markdown",
   "id": "675320a2-ebb6-44ed-90b9-5984d5b65911",
   "metadata": {},
   "source": [
    "# NameError"
   ]
  },
  {
   "cell_type": "code",
   "execution_count": 18,
   "id": "7425215f-b084-49ec-a9ab-72ee35d3323c",
   "metadata": {},
   "outputs": [
    {
     "ename": "NameError",
     "evalue": "name 'x' is not defined",
     "output_type": "error",
     "traceback": [
      "\u001b[0;31m---------------------------------------------------------------------------\u001b[0m",
      "\u001b[0;31mNameError\u001b[0m                                 Traceback (most recent call last)",
      "Cell \u001b[0;32mIn [18], line 1\u001b[0m\n\u001b[0;32m----> 1\u001b[0m \u001b[38;5;28mprint\u001b[39m(\u001b[43mx\u001b[49m)\n",
      "\u001b[0;31mNameError\u001b[0m: name 'x' is not defined"
     ]
    }
   ],
   "source": [
    "print(x)"
   ]
  },
  {
   "cell_type": "markdown",
   "id": "a2c7abf2-c50c-43a3-9de4-a1fbf4cdb64b",
   "metadata": {},
   "source": [
    "# ValueError"
   ]
  },
  {
   "cell_type": "code",
   "execution_count": 19,
   "id": "0ba8b28a-ceeb-4dfd-b33f-891856b5ee62",
   "metadata": {},
   "outputs": [],
   "source": [
    "import math"
   ]
  },
  {
   "cell_type": "code",
   "execution_count": 20,
   "id": "7d139b47-edb5-42f5-b1c4-a3319f337a79",
   "metadata": {},
   "outputs": [
    {
     "ename": "ValueError",
     "evalue": "math domain error",
     "output_type": "error",
     "traceback": [
      "\u001b[0;31m---------------------------------------------------------------------------\u001b[0m",
      "\u001b[0;31mValueError\u001b[0m                                Traceback (most recent call last)",
      "Cell \u001b[0;32mIn [20], line 1\u001b[0m\n\u001b[0;32m----> 1\u001b[0m \u001b[43mmath\u001b[49m\u001b[38;5;241;43m.\u001b[39;49m\u001b[43msqrt\u001b[49m\u001b[43m(\u001b[49m\u001b[38;5;241;43m-\u001b[39;49m\u001b[38;5;241;43m200\u001b[39;49m\u001b[43m)\u001b[49m\n",
      "\u001b[0;31mValueError\u001b[0m: math domain error"
     ]
    }
   ],
   "source": [
    "math.sqrt(-200)"
   ]
  },
  {
   "cell_type": "code",
   "execution_count": null,
   "id": "79f3b0aa-8d02-41a7-8b98-2e8fd228d627",
   "metadata": {},
   "outputs": [],
   "source": []
  },
  {
   "cell_type": "markdown",
   "id": "62c61610-5f11-4d62-b7e5-d0be6cc70c59",
   "metadata": {},
   "source": [
    "## How to Handle these errors"
   ]
  },
  {
   "cell_type": "code",
   "execution_count": null,
   "id": "adb7ea4f-5bb1-4280-8823-f006ca9a72d3",
   "metadata": {},
   "outputs": [],
   "source": []
  },
  {
   "cell_type": "code",
   "execution_count": 23,
   "id": "af43b600-3707-4e28-88bc-099978231285",
   "metadata": {},
   "outputs": [
    {
     "name": "stdin",
     "output_type": "stream",
     "text": [
      " 0\n"
     ]
    },
    {
     "ename": "ZeroDivisionError",
     "evalue": "division by zero",
     "output_type": "error",
     "traceback": [
      "\u001b[0;31m---------------------------------------------------------------------------\u001b[0m",
      "\u001b[0;31mZeroDivisionError\u001b[0m                         Traceback (most recent call last)",
      "Cell \u001b[0;32mIn [23], line 3\u001b[0m\n\u001b[1;32m      1\u001b[0m a \u001b[38;5;241m=\u001b[39m \u001b[38;5;241m6\u001b[39m\n\u001b[1;32m      2\u001b[0m b \u001b[38;5;241m=\u001b[39m \u001b[38;5;28mint\u001b[39m(\u001b[38;5;28minput\u001b[39m())\n\u001b[0;32m----> 3\u001b[0m \u001b[43ma\u001b[49m\u001b[38;5;241;43m/\u001b[39;49m\u001b[43mb\u001b[49m\n",
      "\u001b[0;31mZeroDivisionError\u001b[0m: division by zero"
     ]
    }
   ],
   "source": [
    "a = 6\n",
    "b = int(input())\n",
    "a/b"
   ]
  },
  {
   "cell_type": "code",
   "execution_count": 25,
   "id": "a0657d68-90fe-4ef9-ad63-b5a528ed4924",
   "metadata": {},
   "outputs": [
    {
     "name": "stdout",
     "output_type": "stream",
     "text": [
      "1.25\n"
     ]
    }
   ],
   "source": [
    "try:\n",
    "    a = 10\n",
    "    b = 8\n",
    "    c = a/b\n",
    "    print(c)\n",
    "except:\n",
    "    print('Cannot divide with zero give diff number')"
   ]
  },
  {
   "cell_type": "code",
   "execution_count": 27,
   "id": "6f778a10-7e87-42e9-8395-f42b05421677",
   "metadata": {},
   "outputs": [
    {
     "name": "stdout",
     "output_type": "stream",
     "text": [
      "there was a mistake\n",
      "This is my outer block\n"
     ]
    }
   ],
   "source": [
    "try:\n",
    "    f=open('test.txt','r')\n",
    "    f.write('Ineuron')\n",
    "except:\n",
    "    print('there was a mistake')\n",
    "    \n",
    "print('This is my outer block')"
   ]
  },
  {
   "cell_type": "code",
   "execution_count": 34,
   "id": "f928de8c-707f-4ef3-b0d0-a16322405b12",
   "metadata": {},
   "outputs": [
    {
     "name": "stdout",
     "output_type": "stream",
     "text": [
      "[4, 5, 6, 7, 8, 9, 2]\n",
      "[4, 5, 6, 7, 8, 9, 2]\n",
      "[4, 5, 6, 7, 8, 9, 2]\n",
      "[4, 5, 6, 7, 8, 9, 2]\n",
      "[4, 5, 6, 7, 8, 9, 2]\n",
      "[4, 5, 6, 7, 8, 9, 2]\n",
      "[4, 5, 6, 7, 8, 9, 2]\n"
     ]
    }
   ],
   "source": [
    "l = [4,5,6,7,8,9,2]\n",
    "try:\n",
    "    for i in range(len(l)):\n",
    "        print(l)\n",
    "except:\n",
    "    print('This is not working')"
   ]
  },
  {
   "cell_type": "code",
   "execution_count": 36,
   "id": "dcda3491-638e-4f2e-840e-a6c6667354e5",
   "metadata": {},
   "outputs": [
    {
     "name": "stdout",
     "output_type": "stream",
     "text": [
      "4\n",
      "5\n",
      "6\n",
      "7\n",
      "8\n",
      "9\n",
      "2\n"
     ]
    },
    {
     "ename": "IndexError",
     "evalue": "list index out of range",
     "output_type": "error",
     "traceback": [
      "\u001b[0;31m---------------------------------------------------------------------------\u001b[0m",
      "\u001b[0;31mIndexError\u001b[0m                                Traceback (most recent call last)",
      "Cell \u001b[0;32mIn [36], line 4\u001b[0m\n\u001b[1;32m      1\u001b[0m l \u001b[38;5;241m=\u001b[39m [\u001b[38;5;241m4\u001b[39m,\u001b[38;5;241m5\u001b[39m,\u001b[38;5;241m6\u001b[39m,\u001b[38;5;241m7\u001b[39m,\u001b[38;5;241m8\u001b[39m,\u001b[38;5;241m9\u001b[39m,\u001b[38;5;241m2\u001b[39m]\n\u001b[1;32m      3\u001b[0m \u001b[38;5;28;01mfor\u001b[39;00m i \u001b[38;5;129;01min\u001b[39;00m \u001b[38;5;28mrange\u001b[39m(\u001b[38;5;28mlen\u001b[39m(l) \u001b[38;5;241m+\u001b[39m \u001b[38;5;241m1\u001b[39m):\n\u001b[0;32m----> 4\u001b[0m     \u001b[38;5;28mprint\u001b[39m(\u001b[43ml\u001b[49m\u001b[43m[\u001b[49m\u001b[43mi\u001b[49m\u001b[43m]\u001b[49m)\n",
      "\u001b[0;31mIndexError\u001b[0m: list index out of range"
     ]
    }
   ],
   "source": [
    "l = [4,5,6,7,8,9,2]\n",
    "\n",
    "for i in range(len(l) + 1):\n",
    "    print(l[i])"
   ]
  },
  {
   "cell_type": "code",
   "execution_count": 35,
   "id": "1f786429-83e6-451a-a9ee-684633730170",
   "metadata": {},
   "outputs": [
    {
     "name": "stdout",
     "output_type": "stream",
     "text": [
      "4\n",
      "5\n",
      "6\n",
      "7\n",
      "8\n",
      "9\n",
      "2\n",
      "This is not working\n"
     ]
    }
   ],
   "source": [
    "l = [4,5,6,7,8,9,2]\n",
    "try:\n",
    "    for i in range(len(l) + 1):\n",
    "        print(l[i])\n",
    "except:\n",
    "    print('This is not working')"
   ]
  },
  {
   "cell_type": "code",
   "execution_count": 39,
   "id": "2cc03e9a-d2be-4963-85ef-392d67b24833",
   "metadata": {},
   "outputs": [
    {
     "name": "stdout",
     "output_type": "stream",
     "text": [
      "4\n",
      "5\n",
      "6\n",
      "7\n",
      "8\n",
      "9\n",
      "2\n",
      "list index out of range\n",
      "This is not working \n"
     ]
    }
   ],
   "source": [
    "l = [4,5,6,7,8,9,2]\n",
    "try:\n",
    "    for i in range(len(l) + 1):\n",
    "        print(l[i])\n",
    "except Exception as e:\n",
    "    print(e)\n",
    "    print('This is not working ')"
   ]
  },
  {
   "cell_type": "code",
   "execution_count": 40,
   "id": "db5740c6-3984-49fb-aacb-8081a7a6db6d",
   "metadata": {},
   "outputs": [
    {
     "name": "stdin",
     "output_type": "stream",
     "text": [
      " k\n"
     ]
    },
    {
     "name": "stdout",
     "output_type": "stream",
     "text": [
      "invalid literal for int() with base 10: 'k'\n",
      "HariOm\n"
     ]
    }
   ],
   "source": [
    "try:\n",
    "    a = int(input())\n",
    "    b = int(input())\n",
    "except Exception as e:\n",
    "    print(e)\n",
    "print('HariOm')"
   ]
  },
  {
   "cell_type": "code",
   "execution_count": 43,
   "id": "5d976772-d6c0-496b-9fe5-57b0d1784ee3",
   "metadata": {},
   "outputs": [
    {
     "name": "stdin",
     "output_type": "stream",
     "text": [
      "Enter the value of a:  4\n",
      "Enter the value of b:  2\n"
     ]
    },
    {
     "name": "stdout",
     "output_type": "stream",
     "text": [
      "Answer:  2.0\n"
     ]
    }
   ],
   "source": [
    "try:\n",
    "    a = int(input('Enter the value of a: '))\n",
    "    b = int(input('Enter the value of b: '))\n",
    "    c = a/b\n",
    "    print('Answer: ',c)\n",
    "except VlueError:\n",
    "    print('Entered Wrong Value')\n",
    "except ZeroDivisionError:\n",
    "    print('cannot divide by zero')"
   ]
  },
  {
   "cell_type": "code",
   "execution_count": 46,
   "id": "087ed427-2fad-4764-98fc-fd7d61beb97f",
   "metadata": {},
   "outputs": [
    {
     "name": "stdin",
     "output_type": "stream",
     "text": [
      "Enter the value of a:  5\n",
      "Enter the value of b:  ten\n"
     ]
    },
    {
     "name": "stdout",
     "output_type": "stream",
     "text": [
      "Entered Value is wrong\n"
     ]
    }
   ],
   "source": [
    "try:\n",
    "    a = int(input('Enter the value of a: '))\n",
    "    b = int(input('Enter the value of b: '))\n",
    "    c = a/b\n",
    "    print('Answer: ',c)\n",
    "except ValueError:\n",
    "    print('Entered Value is wrong')\n",
    "except ZeroDivisionError:\n",
    "    print('cannot divide by zero')"
   ]
  },
  {
   "cell_type": "code",
   "execution_count": 48,
   "id": "e629b333-8177-437f-a89a-ca8a9197a1d7",
   "metadata": {},
   "outputs": [
    {
     "name": "stdin",
     "output_type": "stream",
     "text": [
      "Enter the value of a:  5\n",
      "Enter the value of b:  0\n"
     ]
    },
    {
     "name": "stdout",
     "output_type": "stream",
     "text": [
      "cannot divide by zero\n"
     ]
    }
   ],
   "source": [
    "try:\n",
    "    a = int(input('Enter the value of a: '))\n",
    "    b = int(input('Enter the value of b: '))\n",
    "    c = a/b\n",
    "    print('Answer: ',c)\n",
    "except ValueError:\n",
    "    print('Entered Wrong Value')\n",
    "except ZeroDivisionError:\n",
    "    print('cannot divide by zero')"
   ]
  },
  {
   "cell_type": "code",
   "execution_count": 51,
   "id": "029faffa-1085-49b1-ac1c-8384ab6d94d0",
   "metadata": {},
   "outputs": [
    {
     "name": "stdout",
     "output_type": "stream",
     "text": [
      "Entry is : a\n",
      "oops <class 'ValueError'> occured\n",
      "next entry\n",
      "Entry is : 0\n",
      "oops <class 'ZeroDivisionError'> occured\n",
      "next entry\n",
      "Entry is : 2\n",
      "The reciprocal of 2 is 0.5\n"
     ]
    }
   ],
   "source": [
    "import sys\n",
    "\n",
    "randomlist = ['a',0,2]\n",
    "\n",
    "for entry in randomlist:\n",
    "    try:\n",
    "        print('Entry is :',entry)\n",
    "        r =  1/int(entry)\n",
    "        break\n",
    "    except:\n",
    "        print('oops',sys.exc_info()[0],'occured')\n",
    "        print('next entry')\n",
    "print('The reciprocal of',entry , 'is',r)"
   ]
  },
  {
   "cell_type": "code",
   "execution_count": null,
   "id": "ce93193c-4e74-4829-9500-f479cca315c4",
   "metadata": {},
   "outputs": [],
   "source": [
    "try:\n",
    "    #block of code\n",
    "except Exceptions:\n",
    "    #block of code\n",
    "else:\n",
    "    #this code exceutes when exception is not occured\n",
    "finally:\n",
    "    "
   ]
  },
  {
   "cell_type": "code",
   "execution_count": 56,
   "id": "edecc868-ede4-4063-bb84-3608672d7dad",
   "metadata": {},
   "outputs": [
    {
     "name": "stdin",
     "output_type": "stream",
     "text": [
      "Enter a num:  8\n"
     ]
    },
    {
     "name": "stdout",
     "output_type": "stream",
     "text": [
      "0.125\n"
     ]
    }
   ],
   "source": [
    "try:\n",
    "    num= int(input('Enter a num: '))\n",
    "    assert num%2==0\n",
    "except :\n",
    "    print('Not a even number')\n",
    "else:\n",
    "    reciprocal= 1/num\n",
    "    print(reciprocal)"
   ]
  },
  {
   "cell_type": "code",
   "execution_count": 58,
   "id": "6c58eaec-56ea-4246-aba0-609404fed37e",
   "metadata": {},
   "outputs": [
    {
     "name": "stdin",
     "output_type": "stream",
     "text": [
      "Enter the value of a:  5\n",
      "Enter the value of b:  4\n"
     ]
    },
    {
     "name": "stdout",
     "output_type": "stream",
     "text": [
      "Answer:  1.25\n",
      "Else block\n"
     ]
    }
   ],
   "source": [
    "try:\n",
    "    a = int(input('Enter the value of a: '))\n",
    "    b = int(input('Enter the value of b: '))\n",
    "    c = a/b\n",
    "    print('Answer: ',c)\n",
    "except ZeroDivisionError:\n",
    "    print('cannot divide by zero')\n",
    "else:\n",
    "    print('Else block')"
   ]
  },
  {
   "cell_type": "code",
   "execution_count": 62,
   "id": "4946bfb4-09f4-4f63-82dc-dc283bb520b2",
   "metadata": {},
   "outputs": [
    {
     "name": "stdin",
     "output_type": "stream",
     "text": [
      "Enter the value of a:  5\n",
      "Enter the value of b:  0\n"
     ]
    },
    {
     "name": "stdout",
     "output_type": "stream",
     "text": [
      "cannot divide by zero\n",
      "Fianlly block\n"
     ]
    }
   ],
   "source": [
    "try:\n",
    "    a = int(input('Enter the value of a: '))\n",
    "    b = int(input('Enter the value of b: '))\n",
    "    c = a/b\n",
    "    print('Answer: ',c)\n",
    "except ZeroDivisionError:\n",
    "    print('cannot divide by zero')\n",
    "finally: #always executed\n",
    "    print('Fianlly block')"
   ]
  },
  {
   "cell_type": "code",
   "execution_count": 67,
   "id": "9ab3f869-5b93-4124-a783-5c6cdb6ac055",
   "metadata": {},
   "outputs": [],
   "source": [
    "def divide(x,y):\n",
    "    try:\n",
    "        print(x/y)\n",
    "    except Exception as e:\n",
    "        print(e)\n",
    "    "
   ]
  },
  {
   "cell_type": "code",
   "execution_count": 68,
   "id": "7573b80f-897c-4014-adb6-fdd65f9c8a97",
   "metadata": {},
   "outputs": [
    {
     "name": "stdout",
     "output_type": "stream",
     "text": [
      "5.0\n",
      "division by zero\n",
      "2.5\n"
     ]
    }
   ],
   "source": [
    "divide(10,2)\n",
    "divide(10,0)\n",
    "divide(10,4)"
   ]
  },
  {
   "cell_type": "code",
   "execution_count": 69,
   "id": "0700ddd0-3004-4fa4-81ae-d15dec3de443",
   "metadata": {},
   "outputs": [],
   "source": [
    "def divide(x,y):\n",
    "    try:\n",
    "        print(x/y)\n",
    "    except Exception as e:\n",
    "        print(e)\n",
    "    else:\n",
    "        print('From Else Block')\n",
    "    finally:\n",
    "        print('From finally Block')"
   ]
  },
  {
   "cell_type": "code",
   "execution_count": 70,
   "id": "e47c6ab1-f3fc-41ae-b147-a931c5994345",
   "metadata": {},
   "outputs": [
    {
     "name": "stdout",
     "output_type": "stream",
     "text": [
      "5.0\n",
      "From Else Block\n",
      "From finally Block\n",
      "division by zero\n",
      "From finally Block\n",
      "2.5\n",
      "From Else Block\n",
      "From finally Block\n"
     ]
    }
   ],
   "source": [
    "divide(10,2)\n",
    "divide(10,0)\n",
    "divide(10,4)"
   ]
  },
  {
   "cell_type": "code",
   "execution_count": 73,
   "id": "27a9a37c-ad33-4034-8c9a-5327e8ee9c59",
   "metadata": {},
   "outputs": [
    {
     "name": "stdout",
     "output_type": "stream",
     "text": [
      "Outer try block\n",
      "Nested try block\n",
      "outer except\n",
      "division by zero\n"
     ]
    }
   ],
   "source": [
    "x = 10\n",
    "y=0\n",
    "try:\n",
    "    print('Outer try block')\n",
    "    try:\n",
    "        print('Nested try block')\n",
    "        print(x/y)\n",
    "    except TypeError as e: #if inner exception is failed it will check outer one\n",
    "        print('nested except')\n",
    "        print(e)\n",
    "except ZeroDivisionError as e:\n",
    "        print('outer except')\n",
    "        print(e)"
   ]
  },
  {
   "cell_type": "code",
   "execution_count": 77,
   "id": "f6cb2f07-cec3-4fe7-b64d-c85ad39a7891",
   "metadata": {},
   "outputs": [
    {
     "name": "stdin",
     "output_type": "stream",
     "text": [
      "enter integers:  p\n"
     ]
    },
    {
     "name": "stdout",
     "output_type": "stream",
     "text": [
      "You not eneterd Integer, plz enter integer invalid literal for int() with base 10: 'p'\n"
     ]
    },
    {
     "name": "stdin",
     "output_type": "stream",
     "text": [
      "enter integers:  5\n"
     ]
    },
    {
     "data": {
      "text/plain": [
       "'yes, you have entered integer'"
      ]
     },
     "execution_count": 77,
     "metadata": {},
     "output_type": "execute_result"
    }
   ],
   "source": [
    "def func1():\n",
    "    flag = True\n",
    "    while flag:\n",
    "        try:\n",
    "            a = int(input('enter integers: '))\n",
    "            if isinstance(a,int):\n",
    "                return 'yes, you have entered integer'\n",
    "            flag = False\n",
    "        except Exception as e:\n",
    "            print('You not eneterd Integer, plz enter integer',e)\n",
    "func1()    "
   ]
  },
  {
   "cell_type": "code",
   "execution_count": 81,
   "id": "cbce3675-72e6-4d9c-a563-78d0ac5cc510",
   "metadata": {},
   "outputs": [
    {
     "name": "stdout",
     "output_type": "stream",
     "text": [
      "there is no issue with code\n"
     ]
    }
   ],
   "source": [
    "try:\n",
    "    l = [4,5,6,7,8,9]\n",
    "    l[1]\n",
    "except:\n",
    "    print('there is a issue with code')\n",
    "    t=(4,5,6,7,8,9)\n",
    "    print(t)\n",
    "    try:\n",
    "        print('hello')\n",
    "        #t[0]='sand'\n",
    "        try:\n",
    "            k=list(t)\n",
    "            print(k)\n",
    "        except:\n",
    "            pass\n",
    "    except:\n",
    "        pass\n",
    "else:\n",
    "    print('there is no issue with code')"
   ]
  },
  {
   "cell_type": "code",
   "execution_count": 82,
   "id": "90eb1488-808f-4d66-830c-dabb02792a66",
   "metadata": {},
   "outputs": [
    {
     "name": "stdout",
     "output_type": "stream",
     "text": [
      "there is a issue with code\n",
      "(4, 5, 6, 7, 8, 9)\n",
      "hello\n",
      "[4, 5, 6, 7, 8, 9]\n"
     ]
    }
   ],
   "source": [
    "try:\n",
    "    l = [4,5,6,7,8,9]\n",
    "    l[100] #index out of range error \n",
    "except:\n",
    "    print('there is a issue with code')\n",
    "    t=(4,5,6,7,8,9)\n",
    "    print(t)\n",
    "    try:\n",
    "        print('hello')\n",
    "        #t[0]='sand'\n",
    "        try:\n",
    "            k=list(t)\n",
    "            print(k)\n",
    "        except:\n",
    "            pass\n",
    "    except:\n",
    "        pass\n",
    "else:\n",
    "    print('there is no issue with code')"
   ]
  },
  {
   "cell_type": "code",
   "execution_count": 89,
   "id": "a62facb1-d54b-4f0b-952d-fde845cd288a",
   "metadata": {},
   "outputs": [
    {
     "ename": "ModuleNotFoundError",
     "evalue": "No module named 'doc2x'",
     "output_type": "error",
     "traceback": [
      "\u001b[0;31m---------------------------------------------------------------------------\u001b[0m",
      "\u001b[0;31mModuleNotFoundError\u001b[0m                       Traceback (most recent call last)",
      "Cell \u001b[0;32mIn [89], line 1\u001b[0m\n\u001b[0;32m----> 1\u001b[0m \u001b[38;5;28;01mimport\u001b[39;00m \u001b[38;5;21;01mdoc2x\u001b[39;00m\n",
      "\u001b[0;31mModuleNotFoundError\u001b[0m: No module named 'doc2x'"
     ]
    }
   ],
   "source": [
    "import doc2x"
   ]
  },
  {
   "cell_type": "code",
   "execution_count": null,
   "id": "2e693b04-aa4c-4d7e-b640-ee35f5fb84cb",
   "metadata": {},
   "outputs": [],
   "source": []
  },
  {
   "cell_type": "code",
   "execution_count": null,
   "id": "7112fa6f-3b7d-44ee-bc9b-5908559e6807",
   "metadata": {},
   "outputs": [],
   "source": []
  }
 ],
 "metadata": {
  "kernelspec": {
   "display_name": "Python 3 (ipykernel)",
   "language": "python",
   "name": "python3"
  },
  "language_info": {
   "codemirror_mode": {
    "name": "ipython",
    "version": 3
   },
   "file_extension": ".py",
   "mimetype": "text/x-python",
   "name": "python",
   "nbconvert_exporter": "python",
   "pygments_lexer": "ipython3",
   "version": "3.10.6"
  }
 },
 "nbformat": 4,
 "nbformat_minor": 5
}
