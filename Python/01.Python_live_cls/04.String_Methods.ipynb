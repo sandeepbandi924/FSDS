{
 "cells": [
  {
   "cell_type": "markdown",
   "id": "a0023f07-e8c9-4dc1-8a59-b190c9b7e646",
   "metadata": {},
   "source": [
    "## String Methods"
   ]
  },
  {
   "cell_type": "raw",
   "id": "d77d5431-9ac5-4b8f-92c4-405057df25d9",
   "metadata": {},
   "source": [
    "If N elements are there in a string then\n",
    "\n",
    "the index range will vary from 0 - N-1\n",
    "ex - 'sand' n=4\n",
    "index value is 0 to 3\n",
    "the index in reverse order the index ranges from -1 to -N"
   ]
  },
  {
   "cell_type": "code",
   "execution_count": 2,
   "id": "1c572815-4341-409a-b589-ebb368d20a63",
   "metadata": {},
   "outputs": [
    {
     "data": {
      "text/plain": [
       "'H'"
      ]
     },
     "execution_count": 2,
     "metadata": {},
     "output_type": "execute_result"
    }
   ],
   "source": [
    "#string indexing\n",
    "#       0123456\n",
    "#  -6-5-4-3-2-1\n",
    "name = \"Hari Om\"\n",
    "name[0]"
   ]
  },
  {
   "cell_type": "code",
   "execution_count": 3,
   "id": "9aed86c6-7e6b-4d35-a606-c58bde7e83ca",
   "metadata": {},
   "outputs": [
    {
     "data": {
      "text/plain": [
       "' '"
      ]
     },
     "execution_count": 3,
     "metadata": {},
     "output_type": "execute_result"
    }
   ],
   "source": [
    "name[4]"
   ]
  },
  {
   "cell_type": "code",
   "execution_count": 4,
   "id": "2fd90ee6-20c2-474b-b3d1-d9c94d0e2312",
   "metadata": {},
   "outputs": [
    {
     "data": {
      "text/plain": [
       "'m'"
      ]
     },
     "execution_count": 4,
     "metadata": {},
     "output_type": "execute_result"
    }
   ],
   "source": [
    "name[-1]"
   ]
  },
  {
   "cell_type": "code",
   "execution_count": 6,
   "id": "5d4b826f-0688-453b-829c-b30d29892bad",
   "metadata": {},
   "outputs": [
    {
     "ename": "IndexError",
     "evalue": "string index out of range",
     "output_type": "error",
     "traceback": [
      "\u001b[0;31m---------------------------------------------------------------------------\u001b[0m",
      "\u001b[0;31mIndexError\u001b[0m                                Traceback (most recent call last)",
      "Cell \u001b[0;32mIn [6], line 1\u001b[0m\n\u001b[0;32m----> 1\u001b[0m \u001b[43mname\u001b[49m\u001b[43m[\u001b[49m\u001b[38;5;241;43m7\u001b[39;49m\u001b[43m]\u001b[49m\n",
      "\u001b[0;31mIndexError\u001b[0m: string index out of range"
     ]
    }
   ],
   "source": [
    "name[7]"
   ]
  },
  {
   "cell_type": "markdown",
   "id": "bae4e554-ce50-4f7d-9432-f8f36f4e4282",
   "metadata": {},
   "source": [
    "# string slicing"
   ]
  },
  {
   "cell_type": "code",
   "execution_count": 8,
   "id": "a7d6c489-edc1-4785-a1ce-85274b009616",
   "metadata": {},
   "outputs": [
    {
     "data": {
      "text/plain": [
       "'unny'"
      ]
     },
     "execution_count": 8,
     "metadata": {},
     "output_type": "execute_result"
    }
   ],
   "source": [
    "#       012345\n",
    "#      -5-4-3-2-1\n",
    "name = 'sunny'\n",
    "\n",
    "name[1:] #[start : ending]"
   ]
  },
  {
   "cell_type": "code",
   "execution_count": 9,
   "id": "2df3d42c-c3ab-462e-a293-eb7859d578eb",
   "metadata": {},
   "outputs": [
    {
     "data": {
      "text/plain": [
       "'un'"
      ]
     },
     "execution_count": 9,
     "metadata": {},
     "output_type": "execute_result"
    }
   ],
   "source": [
    "name[1:3]  #ending is excluded"
   ]
  },
  {
   "cell_type": "code",
   "execution_count": 10,
   "id": "df48706e-8f44-477d-8875-2d7c6855e12f",
   "metadata": {},
   "outputs": [
    {
     "data": {
      "text/plain": [
       "'unn'"
      ]
     },
     "execution_count": 10,
     "metadata": {},
     "output_type": "execute_result"
    }
   ],
   "source": [
    "name[1:4]"
   ]
  },
  {
   "cell_type": "code",
   "execution_count": 11,
   "id": "a394011f-06ac-4be8-90bd-d9e1849cf3a1",
   "metadata": {},
   "outputs": [
    {
     "data": {
      "text/plain": [
       "'unny'"
      ]
     },
     "execution_count": 11,
     "metadata": {},
     "output_type": "execute_result"
    }
   ],
   "source": [
    "name[1:5] #5 is not included"
   ]
  },
  {
   "cell_type": "code",
   "execution_count": 13,
   "id": "17975c35-40da-4189-b04a-de988c3ce1cc",
   "metadata": {},
   "outputs": [
    {
     "data": {
      "text/plain": [
       "'unn'"
      ]
     },
     "execution_count": 13,
     "metadata": {},
     "output_type": "execute_result"
    }
   ],
   "source": [
    "name[-4:-1]"
   ]
  },
  {
   "cell_type": "code",
   "execution_count": 19,
   "id": "849912ea-7c37-4a01-87e9-6dd85a09b58b",
   "metadata": {},
   "outputs": [
    {
     "name": "stdout",
     "output_type": "stream",
     "text": [
      "Date:  03\n",
      "Month:  07\n",
      "Year:  2023\n"
     ]
    }
   ],
   "source": [
    "date = \"03/07/2023\"\n",
    "#date,month, year\n",
    "print('Date: ',date[0:2])\n",
    "print('Month: ',date[3:5])\n",
    "print('Year: ',date[6:])"
   ]
  },
  {
   "cell_type": "code",
   "execution_count": 21,
   "id": "6fcac4bb-c686-4051-b020-0b5d4258d0f4",
   "metadata": {},
   "outputs": [
    {
     "name": "stdin",
     "output_type": "stream",
     "text": [
      "ENter the DOB in formate DD/MM/YYYY :  14/10/1998\n"
     ]
    },
    {
     "name": "stdout",
     "output_type": "stream",
     "text": [
      "user born in month of 10 in the year: 1998 on date: 14\n"
     ]
    }
   ],
   "source": [
    "#DOB\n",
    "data = input(\"ENter the DOB in formate DD/MM/YYYY : \")\n",
    "#date,month, year\n",
    "date =data[0:2]\n",
    "month=data[3:5]\n",
    "year=data[6:]\n",
    "print(f\"user born in month of {month} in the year: {year} on date: {date}\")"
   ]
  },
  {
   "cell_type": "code",
   "execution_count": 23,
   "id": "f6843963-70bb-447a-b3f3-3ac72600112d",
   "metadata": {},
   "outputs": [
    {
     "name": "stdin",
     "output_type": "stream",
     "text": [
      "ENter the DOB in formate DD/MMM/YYYY :  14/Oct/1998\n"
     ]
    },
    {
     "name": "stdout",
     "output_type": "stream",
     "text": [
      "User born in month of Oct in the year: 1998 on date: 14\n"
     ]
    }
   ],
   "source": [
    "#DOB\n",
    "data = input(\"ENter the DOB in formate DD/MMM/YYYY : \")\n",
    "#date,month, year\n",
    "date =data[0:2]\n",
    "month=data[3:6]\n",
    "year=data[7:]\n",
    "print(f\"User born in month of {month} in the year: {year} on date: {date}\")"
   ]
  },
  {
   "cell_type": "code",
   "execution_count": 24,
   "id": "943484c6-54c9-4a72-a38b-ef9d55d3435b",
   "metadata": {},
   "outputs": [
    {
     "data": {
      "text/plain": [
       "'sny'"
      ]
     },
     "execution_count": 24,
     "metadata": {},
     "output_type": "execute_result"
    }
   ],
   "source": [
    "name = 'sunny'\n",
    "name[0:5:2]"
   ]
  },
  {
   "cell_type": "code",
   "execution_count": 25,
   "id": "e1f4be11-21a1-4b0b-855d-00101eca09b9",
   "metadata": {},
   "outputs": [
    {
     "data": {
      "text/plain": [
       "'sny'"
      ]
     },
     "execution_count": 25,
     "metadata": {},
     "output_type": "execute_result"
    }
   ],
   "source": [
    "name[0::2]"
   ]
  },
  {
   "cell_type": "code",
   "execution_count": 26,
   "id": "793c9d04-17af-44df-999e-8a962e0adfb1",
   "metadata": {},
   "outputs": [
    {
     "data": {
      "text/plain": [
       "'sn'"
      ]
     },
     "execution_count": 26,
     "metadata": {},
     "output_type": "execute_result"
    }
   ],
   "source": [
    "name[0:5:3]"
   ]
  },
  {
   "cell_type": "code",
   "execution_count": 27,
   "id": "15597a43-5841-4111-bef8-27f99d53a102",
   "metadata": {},
   "outputs": [
    {
     "data": {
      "text/plain": [
       "'Snepbni'"
      ]
     },
     "execution_count": 27,
     "metadata": {},
     "output_type": "execute_result"
    }
   ],
   "source": [
    "name = 'Sandeep bandi'\n",
    "name[0::2]"
   ]
  },
  {
   "cell_type": "code",
   "execution_count": 28,
   "id": "24176c2c-4bf8-434c-8273-906e70f05932",
   "metadata": {},
   "outputs": [
    {
     "data": {
      "text/plain": [
       "'Sdpai'"
      ]
     },
     "execution_count": 28,
     "metadata": {},
     "output_type": "execute_result"
    }
   ],
   "source": [
    "name = 'Sandeep bandi'\n",
    "name[0::3]"
   ]
  },
  {
   "cell_type": "code",
   "execution_count": 29,
   "id": "8eb9bca2-66b1-4ec5-9c2c-e56d67a89481",
   "metadata": {},
   "outputs": [
    {
     "data": {
      "text/plain": [
       "'Sandeep bandi'"
      ]
     },
     "execution_count": 29,
     "metadata": {},
     "output_type": "execute_result"
    }
   ],
   "source": [
    "name = 'Sandeep bandi'\n",
    "name[::]"
   ]
  },
  {
   "cell_type": "code",
   "execution_count": 30,
   "id": "c245322e-cf17-4983-a011-3f5990445557",
   "metadata": {},
   "outputs": [
    {
     "data": {
      "text/plain": [
       "'Snepbni'"
      ]
     },
     "execution_count": 30,
     "metadata": {},
     "output_type": "execute_result"
    }
   ],
   "source": [
    "name = 'Sandeep bandi'\n",
    "name[::2]"
   ]
  },
  {
   "cell_type": "code",
   "execution_count": 32,
   "id": "314ab36b-7174-4ec3-a3d1-368d50191522",
   "metadata": {},
   "outputs": [
    {
     "data": {
      "text/plain": [
       "'Sdpai'"
      ]
     },
     "execution_count": 32,
     "metadata": {},
     "output_type": "execute_result"
    }
   ],
   "source": [
    "name = 'Sandeep bandi'\n",
    "name[::3]"
   ]
  },
  {
   "cell_type": "code",
   "execution_count": 34,
   "id": "632f580b-602e-42fb-864f-b89a1fa366b1",
   "metadata": {},
   "outputs": [
    {
     "data": {
      "text/plain": [
       "'idnab peednaS'"
      ]
     },
     "execution_count": 34,
     "metadata": {},
     "output_type": "execute_result"
    }
   ],
   "source": [
    "name = 'Sandeep bandi'  #reverse\n",
    "name[::-1]"
   ]
  },
  {
   "cell_type": "code",
   "execution_count": 35,
   "id": "973e0b73-606b-4a84-a7f0-f4735a1fc49a",
   "metadata": {},
   "outputs": [
    {
     "data": {
      "text/plain": [
       "'inbpenS'"
      ]
     },
     "execution_count": 35,
     "metadata": {},
     "output_type": "execute_result"
    }
   ],
   "source": [
    "name = 'Sandeep bandi'  #reverse\n",
    "name[::-2]"
   ]
  },
  {
   "cell_type": "code",
   "execution_count": 36,
   "id": "5ed2f1cd-d2ab-48c7-a05e-f61d6205504a",
   "metadata": {},
   "outputs": [
    {
     "name": "stdin",
     "output_type": "stream",
     "text": [
      "Input a string:  radar\n"
     ]
    },
    {
     "name": "stdout",
     "output_type": "stream",
     "text": [
      "radar radar\n"
     ]
    }
   ],
   "source": [
    "#palindrome sequence\n",
    "#MADAM $=#read it from left or rigth it will same\n",
    "#malayalam\n",
    "#nayan\n",
    "#bob\n",
    "#radar\n",
    "\n",
    "\n",
    "data = input('Input a string: ')\n",
    "rev = data[::-1] #start,end,step\n",
    "print(data,rev)"
   ]
  },
  {
   "cell_type": "code",
   "execution_count": 40,
   "id": "31818d33-be9c-45dd-9d65-bbcfbfbd477d",
   "metadata": {},
   "outputs": [
    {
     "name": "stdin",
     "output_type": "stream",
     "text": [
      "Input a string: sand\n"
     ]
    },
    {
     "name": "stdout",
     "output_type": "stream",
     "text": [
      "input string: sand is Not a palindrome\n"
     ]
    }
   ],
   "source": [
    "data = input('Input a string:')\n",
    "rev = data[::-1] #start,end,step\n",
    "if data == rev :\n",
    "    print(f\"input string:{data} is palindrome\")\n",
    "else:\n",
    "    print(f\"input string: {data} is Not a palindrome\")"
   ]
  },
  {
   "cell_type": "markdown",
   "id": "6080e94a-c139-4798-8ba4-9d241f85c5cf",
   "metadata": {},
   "source": [
    "## Mutability\n",
    "Mutable means which is changeable"
   ]
  },
  {
   "cell_type": "code",
   "execution_count": 43,
   "id": "953908b3-6932-41b2-b6e8-8c1f4c4945bb",
   "metadata": {},
   "outputs": [
    {
     "ename": "TypeError",
     "evalue": "'str' object does not support item assignment",
     "output_type": "error",
     "traceback": [
      "\u001b[0;31m---------------------------------------------------------------------------\u001b[0m",
      "\u001b[0;31mTypeError\u001b[0m                                 Traceback (most recent call last)",
      "Cell \u001b[0;32mIn [43], line 5\u001b[0m\n\u001b[1;32m      1\u001b[0m name \u001b[38;5;241m=\u001b[39m \u001b[38;5;124m'\u001b[39m\u001b[38;5;124mSandeep\u001b[39m\u001b[38;5;124m'\u001b[39m\n\u001b[1;32m      3\u001b[0m \u001b[38;5;66;03m#replace S with F ?\u001b[39;00m\n\u001b[0;32m----> 5\u001b[0m \u001b[43mname\u001b[49m\u001b[43m[\u001b[49m\u001b[38;5;241;43m0\u001b[39;49m\u001b[43m]\u001b[49m \u001b[38;5;241m=\u001b[39m \u001b[38;5;124m'\u001b[39m\u001b[38;5;124mF\u001b[39m\u001b[38;5;124m'\u001b[39m\n",
      "\u001b[0;31mTypeError\u001b[0m: 'str' object does not support item assignment"
     ]
    }
   ],
   "source": [
    "name = 'Sandeep'\n",
    "\n",
    "#replace S with F ?\n",
    "\n",
    "name[0] = 'F' # Immutability #string"
   ]
  },
  {
   "cell_type": "code",
   "execution_count": 44,
   "id": "bdeb634a-46e2-4a85-b3f4-3ef3500a6a77",
   "metadata": {},
   "outputs": [
    {
     "data": {
      "text/plain": [
       "'Fandeep'"
      ]
     },
     "execution_count": 44,
     "metadata": {},
     "output_type": "execute_result"
    }
   ],
   "source": [
    "'F' + name[1:]"
   ]
  },
  {
   "cell_type": "code",
   "execution_count": 45,
   "id": "94e36fb8-ce74-4e42-8e0b-b5af473f5b91",
   "metadata": {},
   "outputs": [
    {
     "data": {
      "text/plain": [
       "'Sandeep'"
      ]
     },
     "execution_count": 45,
     "metadata": {},
     "output_type": "execute_result"
    }
   ],
   "source": [
    "name"
   ]
  },
  {
   "cell_type": "code",
   "execution_count": 46,
   "id": "3eea9cf1-dab8-486e-9bb8-9773033935f3",
   "metadata": {},
   "outputs": [
    {
     "data": {
      "text/plain": [
       "'Fandeep'"
      ]
     },
     "execution_count": 46,
     "metadata": {},
     "output_type": "execute_result"
    }
   ],
   "source": [
    "name = 'F' + name[1:]\n",
    "name"
   ]
  },
  {
   "cell_type": "code",
   "execution_count": 47,
   "id": "72750392-6fd7-413d-bff0-297f69d4e4c5",
   "metadata": {},
   "outputs": [
    {
     "data": {
      "text/plain": [
       "'Fandeeppp'"
      ]
     },
     "execution_count": 47,
     "metadata": {},
     "output_type": "execute_result"
    }
   ],
   "source": [
    "name.replace(\"p\",'ppp')"
   ]
  },
  {
   "cell_type": "code",
   "execution_count": 48,
   "id": "69065e23-61f9-44af-8f67-fa5526fe9ce1",
   "metadata": {},
   "outputs": [
    {
     "data": {
      "text/plain": [
       "'Fandeep'"
      ]
     },
     "execution_count": 48,
     "metadata": {},
     "output_type": "execute_result"
    }
   ],
   "source": [
    "name"
   ]
  },
  {
   "cell_type": "code",
   "execution_count": 49,
   "id": "1b0f6be7-b80b-445a-97ba-44323e5de517",
   "metadata": {},
   "outputs": [
    {
     "data": {
      "text/plain": [
       "'Fandeeppp'"
      ]
     },
     "execution_count": 49,
     "metadata": {},
     "output_type": "execute_result"
    }
   ],
   "source": [
    "name = name.replace(\"p\",'ppp')\n",
    "name"
   ]
  },
  {
   "cell_type": "code",
   "execution_count": null,
   "id": "d1767934-88d0-404e-bdac-35683f3852b2",
   "metadata": {},
   "outputs": [],
   "source": []
  },
  {
   "cell_type": "code",
   "execution_count": 50,
   "id": "d59b40d7-4d0a-48aa-8ea9-825a79326be4",
   "metadata": {},
   "outputs": [
    {
     "data": {
      "text/plain": [
       "'BANDI SANDEEP'"
      ]
     },
     "execution_count": 50,
     "metadata": {},
     "output_type": "execute_result"
    }
   ],
   "source": [
    "name = 'bandi SANDEEP'\n",
    "\n",
    "name.replace('bandi','BANDI')"
   ]
  },
  {
   "cell_type": "code",
   "execution_count": 51,
   "id": "57451d81-4bd4-4ef9-85e2-6d4183634dc4",
   "metadata": {},
   "outputs": [
    {
     "data": {
      "text/plain": [
       "'bandi SANDEEP'"
      ]
     },
     "execution_count": 51,
     "metadata": {},
     "output_type": "execute_result"
    }
   ],
   "source": [
    "name #it is not assigning"
   ]
  },
  {
   "cell_type": "code",
   "execution_count": 52,
   "id": "0c87e2ec-8682-4422-b37d-09e0806a2f49",
   "metadata": {},
   "outputs": [],
   "source": [
    "name = name.replace('bandi','BANDI')"
   ]
  },
  {
   "cell_type": "code",
   "execution_count": 53,
   "id": "42ac487b-d825-467e-880c-10782d72507e",
   "metadata": {},
   "outputs": [
    {
     "data": {
      "text/plain": [
       "'BANDI SANDEEP'"
      ]
     },
     "execution_count": 53,
     "metadata": {},
     "output_type": "execute_result"
    }
   ],
   "source": [
    "name"
   ]
  },
  {
   "cell_type": "code",
   "execution_count": null,
   "id": "39bc5558-2d67-4461-99fb-dab568a012b6",
   "metadata": {},
   "outputs": [],
   "source": []
  },
  {
   "cell_type": "code",
   "execution_count": 55,
   "id": "fc84d6bd-4c3c-4969-8095-ff2167fd4789",
   "metadata": {},
   "outputs": [
    {
     "data": {
      "text/plain": [
       "'BNaNdNi SANDEEP'"
      ]
     },
     "execution_count": 55,
     "metadata": {},
     "output_type": "execute_result"
    }
   ],
   "source": [
    "name = 'Bnandni SANDEEP'\n",
    "\n",
    "name = name.replace('n','N')\n",
    "name"
   ]
  },
  {
   "cell_type": "raw",
   "id": "1bed11b8-91bf-408e-9525-99a3e2fc7608",
   "metadata": {},
   "source": [
    "#look at python string methods from python.org"
   ]
  },
  {
   "cell_type": "code",
   "execution_count": 56,
   "id": "04445a79-8b2e-4fcf-9348-b591def1192c",
   "metadata": {},
   "outputs": [
    {
     "data": {
      "text/plain": [
       "'BANDI_SANDEEP'"
      ]
     },
     "execution_count": 56,
     "metadata": {},
     "output_type": "execute_result"
    }
   ],
   "source": [
    "name = 'BANDI SANDEEP'\n",
    "\n",
    "name = name.replace(' ','_')\n",
    "name"
   ]
  },
  {
   "cell_type": "markdown",
   "id": "47d09e57-22eb-41bb-9af9-4909c71a92e2",
   "metadata": {},
   "source": [
    "### length of the string"
   ]
  },
  {
   "cell_type": "code",
   "execution_count": 57,
   "id": "33f11128-9ea1-4a5c-b55e-eb15c9d8b22f",
   "metadata": {},
   "outputs": [
    {
     "data": {
      "text/plain": [
       "'BANDI_SANDEEP'"
      ]
     },
     "execution_count": 57,
     "metadata": {},
     "output_type": "execute_result"
    }
   ],
   "source": [
    "name"
   ]
  },
  {
   "cell_type": "code",
   "execution_count": 58,
   "id": "3b7ce6f4-b8a9-4b81-a556-fed25dca6454",
   "metadata": {},
   "outputs": [
    {
     "data": {
      "text/plain": [
       "13"
      ]
     },
     "execution_count": 58,
     "metadata": {},
     "output_type": "execute_result"
    }
   ],
   "source": [
    "len(name)"
   ]
  },
  {
   "cell_type": "code",
   "execution_count": 59,
   "id": "c35789a1-d7d2-4d57-a219-224315d25e0a",
   "metadata": {},
   "outputs": [
    {
     "data": {
      "text/plain": [
       "4"
      ]
     },
     "execution_count": 59,
     "metadata": {},
     "output_type": "execute_result"
    }
   ],
   "source": [
    "len('sand')"
   ]
  },
  {
   "cell_type": "code",
   "execution_count": 62,
   "id": "d1f4c54f-0033-4b74-ba1f-28606e84b556",
   "metadata": {},
   "outputs": [
    {
     "data": {
      "text/plain": [
       "6"
      ]
     },
     "execution_count": 62,
     "metadata": {},
     "output_type": "execute_result"
    }
   ],
   "source": [
    "len('sa  nd')"
   ]
  },
  {
   "cell_type": "code",
   "execution_count": 63,
   "id": "97c1c371-a477-4622-935a-d4b77423236b",
   "metadata": {},
   "outputs": [
    {
     "data": {
      "text/plain": [
       "4"
      ]
     },
     "execution_count": 63,
     "metadata": {},
     "output_type": "execute_result"
    }
   ],
   "source": [
    "name = 'sa      nd'\n",
    "name = name.replace(' ','')\n",
    "len(name)"
   ]
  },
  {
   "cell_type": "raw",
   "id": "44d4e624-12a3-439f-a488-445224446d8a",
   "metadata": {},
   "source": [
    "1.string indexing\n",
    "2.string slicing\n",
    "3.string skipping\n",
    "4.string reversal\n",
    "5.string replace\n",
    "6.len of string \n",
    "7.string is immutable we cannont directly\n",
    "assign any value using indexing"
   ]
  },
  {
   "cell_type": "code",
   "execution_count": 67,
   "id": "92f0b3fb-8edc-48d5-a56f-cb8a38131355",
   "metadata": {},
   "outputs": [
    {
     "data": {
      "text/plain": [
       "'e'"
      ]
     },
     "execution_count": 67,
     "metadata": {},
     "output_type": "execute_result"
    }
   ],
   "source": [
    "name = 'sandeep bandi'\n",
    "name[4]"
   ]
  },
  {
   "cell_type": "code",
   "execution_count": 68,
   "id": "7ed6141f-fe10-4fb8-b431-7e652cb95bfb",
   "metadata": {},
   "outputs": [
    {
     "data": {
      "text/plain": [
       "'eep bandi'"
      ]
     },
     "execution_count": 68,
     "metadata": {},
     "output_type": "execute_result"
    }
   ],
   "source": [
    "name[4:13]"
   ]
  },
  {
   "cell_type": "code",
   "execution_count": 69,
   "id": "03ec840d-954e-4201-9077-a65495fb9732",
   "metadata": {},
   "outputs": [
    {
     "data": {
      "text/plain": [
       "'sdpai'"
      ]
     },
     "execution_count": 69,
     "metadata": {},
     "output_type": "execute_result"
    }
   ],
   "source": [
    "name[::3]"
   ]
  },
  {
   "cell_type": "code",
   "execution_count": 70,
   "id": "42aabae3-05cc-4613-af51-a8f63566cd07",
   "metadata": {},
   "outputs": [
    {
     "data": {
      "text/plain": [
       "'idnab peednas'"
      ]
     },
     "execution_count": 70,
     "metadata": {},
     "output_type": "execute_result"
    }
   ],
   "source": [
    "name[::-1]"
   ]
  },
  {
   "cell_type": "code",
   "execution_count": 71,
   "id": "def53440-b05c-4689-bd94-190c69fb4c95",
   "metadata": {},
   "outputs": [
    {
     "data": {
      "text/plain": [
       "'sandeep=bandi'"
      ]
     },
     "execution_count": 71,
     "metadata": {},
     "output_type": "execute_result"
    }
   ],
   "source": [
    "name.replace(' ','=')"
   ]
  },
  {
   "cell_type": "code",
   "execution_count": 72,
   "id": "ab4990bc-9348-421e-9a00-fd0d4aced014",
   "metadata": {},
   "outputs": [
    {
     "data": {
      "text/plain": [
       "13"
      ]
     },
     "execution_count": 72,
     "metadata": {},
     "output_type": "execute_result"
    }
   ],
   "source": [
    "len(name)"
   ]
  },
  {
   "cell_type": "code",
   "execution_count": 73,
   "id": "7939049e-4123-4b3b-825d-c133639d0f9e",
   "metadata": {},
   "outputs": [
    {
     "ename": "TypeError",
     "evalue": "'str' object does not support item assignment",
     "output_type": "error",
     "traceback": [
      "\u001b[0;31m---------------------------------------------------------------------------\u001b[0m",
      "\u001b[0;31mTypeError\u001b[0m                                 Traceback (most recent call last)",
      "Cell \u001b[0;32mIn [73], line 1\u001b[0m\n\u001b[0;32m----> 1\u001b[0m \u001b[43mname\u001b[49m\u001b[43m[\u001b[49m\u001b[38;5;241;43m0\u001b[39;49m\u001b[43m]\u001b[49m \u001b[38;5;241m=\u001b[39m \u001b[38;5;124m'\u001b[39m\u001b[38;5;124mF\u001b[39m\u001b[38;5;124m'\u001b[39m\n",
      "\u001b[0;31mTypeError\u001b[0m: 'str' object does not support item assignment"
     ]
    }
   ],
   "source": [
    "name[0] = 'F' #this is not allowed"
   ]
  },
  {
   "cell_type": "code",
   "execution_count": 74,
   "id": "cf91c176-2b6f-4520-8a48-c8b823531f49",
   "metadata": {},
   "outputs": [
    {
     "data": {
      "text/plain": [
       "''"
      ]
     },
     "execution_count": 74,
     "metadata": {},
     "output_type": "execute_result"
    }
   ],
   "source": [
    "name[-5:-5:]"
   ]
  },
  {
   "cell_type": "markdown",
   "id": "a5f73810-f94f-4074-a87e-f7b38e09aafc",
   "metadata": {},
   "source": [
    "### Count specific characters"
   ]
  },
  {
   "cell_type": "code",
   "execution_count": 75,
   "id": "449d9f9f-076e-4959-9014-ecf58fb09315",
   "metadata": {},
   "outputs": [
    {
     "data": {
      "text/plain": [
       "2"
      ]
     },
     "execution_count": 75,
     "metadata": {},
     "output_type": "execute_result"
    }
   ],
   "source": [
    "name = 'sandeep'\n",
    "name.count('e')"
   ]
  },
  {
   "cell_type": "code",
   "execution_count": 78,
   "id": "6ed33d1e-c5d7-41a8-8ffb-258caeb7ed72",
   "metadata": {},
   "outputs": [
    {
     "data": {
      "text/plain": [
       "['sandeep', 'bandi']"
      ]
     },
     "execution_count": 78,
     "metadata": {},
     "output_type": "execute_result"
    }
   ],
   "source": [
    "name = 'sandeep bandi'\n",
    "name.split(' ')"
   ]
  },
  {
   "cell_type": "code",
   "execution_count": 82,
   "id": "99d2526f-63fb-4095-8caa-c2ff67848914",
   "metadata": {},
   "outputs": [
    {
     "name": "stdout",
     "output_type": "stream",
     "text": [
      "\n",
      "frst name: sandeep \n",
      "last name: bandi\n"
     ]
    }
   ],
   "source": [
    "frst_name , last_name = name.split(' ')\n",
    "print(f\"\"\"\n",
    "frst name: {frst_name} \n",
    "last name: {last_name}\"\"\")"
   ]
  },
  {
   "cell_type": "code",
   "execution_count": 84,
   "id": "b162cd5b-717e-432c-a4f0-3bf122ecbd71",
   "metadata": {},
   "outputs": [
    {
     "name": "stdin",
     "output_type": "stream",
     "text": [
      "ENter the DOB in formate DD/MMM/YYYY :  14/Oct/1998\n"
     ]
    },
    {
     "name": "stdout",
     "output_type": "stream",
     "text": [
      "User born in month of Oct in the year: 1998 on date: 14\n"
     ]
    }
   ],
   "source": [
    "#DOB\n",
    "data = input(\"ENter the DOB in formate DD/MMM/YYYY : \")\n",
    "#date,month, year\n",
    "date,month,year =data.split('/')\n",
    "print(f\"User born in month of {month} in the year: {year} on date: {date}\")"
   ]
  },
  {
   "cell_type": "code",
   "execution_count": 85,
   "id": "a205d18e-029b-4150-810c-e91cfa99516d",
   "metadata": {},
   "outputs": [
    {
     "name": "stdin",
     "output_type": "stream",
     "text": [
      "ENter the DOB in formate DD/MMM/YYYY :  14/Oct-1998\n"
     ]
    },
    {
     "data": {
      "text/plain": [
       "['14', 'Oct-1998']"
      ]
     },
     "execution_count": 85,
     "metadata": {},
     "output_type": "execute_result"
    }
   ],
   "source": [
    "data = input(\"ENter the DOB in formate DD/MMM/YYYY : \")\n",
    "data.split('/')"
   ]
  },
  {
   "cell_type": "code",
   "execution_count": 86,
   "id": "82b69231-cdb9-40c4-a72e-2a10108e254d",
   "metadata": {},
   "outputs": [
    {
     "data": {
      "text/plain": [
       "['Sandeep', 'Kumar', 'Bandi']"
      ]
     },
     "execution_count": 86,
     "metadata": {},
     "output_type": "execute_result"
    }
   ],
   "source": [
    "name = 'Sandeep_Kumar_Bandi'\n",
    "name.split('_')"
   ]
  },
  {
   "cell_type": "code",
   "execution_count": 87,
   "id": "6ae3c8d2-e7c4-4a05-b604-9edc6849a7bd",
   "metadata": {},
   "outputs": [
    {
     "data": {
      "text/plain": [
       "['Sa', 'deep_Kumar_Ba', 'di']"
      ]
     },
     "execution_count": 87,
     "metadata": {},
     "output_type": "execute_result"
    }
   ],
   "source": [
    "name.split('n')"
   ]
  },
  {
   "cell_type": "code",
   "execution_count": 88,
   "id": "e4a3dc3a-0abf-4cbd-a643-920245ee1cfd",
   "metadata": {},
   "outputs": [
    {
     "data": {
      "text/plain": [
       "['Sandeep_Kumar_Bandi']"
      ]
     },
     "execution_count": 88,
     "metadata": {},
     "output_type": "execute_result"
    }
   ],
   "source": [
    "name.split('.')"
   ]
  },
  {
   "cell_type": "code",
   "execution_count": 89,
   "id": "79c0185c-2cce-400e-a05c-82d25dc3d860",
   "metadata": {},
   "outputs": [
    {
     "name": "stdin",
     "output_type": "stream",
     "text": [
      "Enter the DOB in formate DD/MM/YYYY :  14th/October/1998\n"
     ]
    },
    {
     "data": {
      "text/plain": [
       "['14th', 'October', '1998']"
      ]
     },
     "execution_count": 89,
     "metadata": {},
     "output_type": "execute_result"
    }
   ],
   "source": [
    "date = input(\"Enter the DOB in formate DD/MM/YYYY : \")\n",
    "date.split('/')"
   ]
  },
  {
   "cell_type": "code",
   "execution_count": 92,
   "id": "b4472f45-6a19-48e4-ad15-ee9801c18c5f",
   "metadata": {},
   "outputs": [
    {
     "name": "stdout",
     "output_type": "stream",
     "text": [
      "14th October 1998\n"
     ]
    }
   ],
   "source": [
    "A, B, C = date.split('/')\n",
    "print(A ,B, C)"
   ]
  },
  {
   "cell_type": "code",
   "execution_count": 93,
   "id": "9101fa4f-19f5-4acb-a9a6-7266618c6ec9",
   "metadata": {},
   "outputs": [
    {
     "data": {
      "text/plain": [
       "['14th', 'October', '1998']"
      ]
     },
     "execution_count": 93,
     "metadata": {},
     "output_type": "execute_result"
    }
   ],
   "source": [
    "A = date.split('/')\n",
    "A"
   ]
  },
  {
   "cell_type": "code",
   "execution_count": 94,
   "id": "f46d65fb-a113-47ae-9cca-68aa334de6ed",
   "metadata": {},
   "outputs": [
    {
     "data": {
      "text/plain": [
       "'14th'"
      ]
     },
     "execution_count": 94,
     "metadata": {},
     "output_type": "execute_result"
    }
   ],
   "source": [
    "A[0]"
   ]
  },
  {
   "cell_type": "code",
   "execution_count": 95,
   "id": "0dd13da2-a6cf-4de5-9662-21c8851aa975",
   "metadata": {},
   "outputs": [
    {
     "data": {
      "text/plain": [
       "'October'"
      ]
     },
     "execution_count": 95,
     "metadata": {},
     "output_type": "execute_result"
    }
   ],
   "source": [
    "A[1]"
   ]
  },
  {
   "cell_type": "code",
   "execution_count": 96,
   "id": "af6ad78f-c02b-42dd-b6ba-af6f0e599f18",
   "metadata": {},
   "outputs": [
    {
     "data": {
      "text/plain": [
       "'1998'"
      ]
     },
     "execution_count": 96,
     "metadata": {},
     "output_type": "execute_result"
    }
   ],
   "source": [
    "A[2]"
   ]
  },
  {
   "cell_type": "code",
   "execution_count": 97,
   "id": "888be627-7b2b-4d62-b602-75e9ba1b8968",
   "metadata": {},
   "outputs": [
    {
     "data": {
      "text/plain": [
       "3"
      ]
     },
     "execution_count": 97,
     "metadata": {},
     "output_type": "execute_result"
    }
   ],
   "source": [
    "len(A)"
   ]
  },
  {
   "cell_type": "markdown",
   "id": "9591bd30-9979-4546-94d8-5bb260328da7",
   "metadata": {},
   "source": [
    "### lower upper title case etc"
   ]
  },
  {
   "cell_type": "code",
   "execution_count": 98,
   "id": "de48f04b-d8a9-4ec5-b606-0e18acbe80ea",
   "metadata": {},
   "outputs": [
    {
     "data": {
      "text/plain": [
       "'sandeep kumar bandi'"
      ]
     },
     "execution_count": 98,
     "metadata": {},
     "output_type": "execute_result"
    }
   ],
   "source": [
    "name = \"Sandeep Kumar Bandi\"\n",
    "name.lower()"
   ]
  },
  {
   "cell_type": "code",
   "execution_count": 99,
   "id": "7103669b-00bc-46c4-b2be-4254ef76a5c3",
   "metadata": {},
   "outputs": [
    {
     "data": {
      "text/plain": [
       "'SANDEEP KUMAR BANDI'"
      ]
     },
     "execution_count": 99,
     "metadata": {},
     "output_type": "execute_result"
    }
   ],
   "source": [
    "name.upper()"
   ]
  },
  {
   "cell_type": "code",
   "execution_count": 102,
   "id": "e4cdc412-0b38-4a8e-bdad-6e6d1419b6c5",
   "metadata": {},
   "outputs": [
    {
     "name": "stdin",
     "output_type": "stream",
     "text": [
      "Enter your Name:  SandEEp kumAR BANdi \n"
     ]
    },
    {
     "name": "stdout",
     "output_type": "stream",
     "text": [
      "User Input: SandEEp kumAR BANdi \n",
      "name in Upper case: SANDEEP KUMAR BANDI \n",
      "name in Lower case: sandeep kumar bandi \n",
      "name in title case: Sandeep Kumar Bandi \n",
      "name in capitalize case: Sandeep kumar bandi \n",
      "name in Swap case: sANDeeP KUMar banDI \n"
     ]
    }
   ],
   "source": [
    "name=input('Enter your Name: ')\n",
    "\n",
    "print(f\"User Input: {name}\")\n",
    "print(f\"name in Upper case: {name.upper()}\")\n",
    "print(f\"name in Lower case: {name.lower()}\")\n",
    "print(f\"name in title case: {name.title()}\")\n",
    "print(f\"name in capitalize case: {name.capitalize()}\")\n",
    "print(f\"name in Swap case: {name.swapcase()}\")"
   ]
  },
  {
   "cell_type": "code",
   "execution_count": 103,
   "id": "b2dbce1f-776d-4220-80e2-089af5679509",
   "metadata": {},
   "outputs": [
    {
     "name": "stdout",
     "output_type": "stream",
     "text": [
      "User Input: Today is the best DAY of my Life\n",
      "name in Upper case: TODAY IS THE BEST DAY OF MY LIFE\n",
      "name in Lower case: today is the best day of my life\n",
      "name in title case: Today Is The Best Day Of My Life\n",
      "name in capitalize case: Today is the best day of my life\n",
      "name in Swap case: tODAY IS THE BEST day OF MY lIFE\n"
     ]
    }
   ],
   "source": [
    "name=\"Today is the best DAY of my Life\"\n",
    "\n",
    "print(f\"User Input: {name}\")\n",
    "print(f\"name in Upper case: {name.upper()}\")\n",
    "print(f\"name in Lower case: {name.lower()}\")\n",
    "print(f\"name in title case: {name.title()}\")\n",
    "print(f\"name in capitalize case: {name.capitalize()}\")\n",
    "print(f\"name in Swap case: {name.swapcase()}\")"
   ]
  },
  {
   "cell_type": "code",
   "execution_count": 105,
   "id": "efeff47b-7ec9-4cee-b0b3-035253797529",
   "metadata": {},
   "outputs": [
    {
     "data": {
      "text/plain": [
       "'s*a*n*d*e*e*p* *k*u*m*a*r* *b*a*n*d*i'"
      ]
     },
     "execution_count": 105,
     "metadata": {},
     "output_type": "execute_result"
    }
   ],
   "source": [
    "name = 'sandeep kumar bandi'\n",
    "\"*\".join(name)"
   ]
  },
  {
   "cell_type": "code",
   "execution_count": 106,
   "id": "b8871ac9-66f0-43d2-b070-5988597906ae",
   "metadata": {},
   "outputs": [
    {
     "data": {
      "text/plain": [
       "'s_a_n_d_e_e_p_ _k_u_m_a_r_ _b_a_n_d_i'"
      ]
     },
     "execution_count": 106,
     "metadata": {},
     "output_type": "execute_result"
    }
   ],
   "source": [
    "name = 'sandeep kumar bandi'\n",
    "\"_\".join(name)"
   ]
  },
  {
   "cell_type": "code",
   "execution_count": 107,
   "id": "f104dec5-8bc7-4117-8611-ef071e438d9c",
   "metadata": {},
   "outputs": [
    {
     "data": {
      "text/plain": [
       "'s|a|n|d|e|e|p| |k|u|m|a|r| |b|a|n|d|i'"
      ]
     },
     "execution_count": 107,
     "metadata": {},
     "output_type": "execute_result"
    }
   ],
   "source": [
    "name = 'sandeep kumar bandi'\n",
    "\"|\".join(name)"
   ]
  },
  {
   "cell_type": "code",
   "execution_count": 110,
   "id": "6887e2d7-42cf-4af5-93d2-265395dbdf4f",
   "metadata": {},
   "outputs": [
    {
     "data": {
      "text/plain": [
       "'s a n d e e p   k u m a r   b a n d i'"
      ]
     },
     "execution_count": 110,
     "metadata": {},
     "output_type": "execute_result"
    }
   ],
   "source": [
    "name = 'sandeep kumar bandi'\n",
    "\" \".join(name)"
   ]
  },
  {
   "cell_type": "code",
   "execution_count": null,
   "id": "ddaead03-f752-4a61-99d3-4a029a34837a",
   "metadata": {},
   "outputs": [],
   "source": []
  },
  {
   "cell_type": "code",
   "execution_count": 109,
   "id": "5a5b2aae-3c93-4963-a498-aef667d20a99",
   "metadata": {},
   "outputs": [
    {
     "data": {
      "text/plain": [
       "'idnab ramuk peednas'"
      ]
     },
     "execution_count": 109,
     "metadata": {},
     "output_type": "execute_result"
    }
   ],
   "source": [
    "''.join(reversed(name))"
   ]
  },
  {
   "cell_type": "markdown",
   "id": "4c9fe84d-f090-450e-a3fc-f6b7b14e3046",
   "metadata": {},
   "source": [
    "### remove extra spaces front and back of the string"
   ]
  },
  {
   "cell_type": "code",
   "execution_count": 113,
   "id": "96c44153-f7e6-4e45-a68e-6bcc69c21251",
   "metadata": {},
   "outputs": [
    {
     "data": {
      "text/plain": [
       "'sandeep'"
      ]
     },
     "execution_count": 113,
     "metadata": {},
     "output_type": "execute_result"
    }
   ],
   "source": [
    "name = '   sandeep   '\n",
    "\n",
    "name.strip(' ')"
   ]
  },
  {
   "cell_type": "code",
   "execution_count": 114,
   "id": "c7f57f55-9787-4db5-90f5-597d80b1ed98",
   "metadata": {},
   "outputs": [
    {
     "data": {
      "text/plain": [
       "'sandeep   '"
      ]
     },
     "execution_count": 114,
     "metadata": {},
     "output_type": "execute_result"
    }
   ],
   "source": [
    "name = '   sandeep   '\n",
    "\n",
    "name.lstrip(' ')"
   ]
  },
  {
   "cell_type": "code",
   "execution_count": 115,
   "id": "72872135-407f-4e65-96ea-911f2f26d83f",
   "metadata": {},
   "outputs": [
    {
     "data": {
      "text/plain": [
       "'   sandeep'"
      ]
     },
     "execution_count": 115,
     "metadata": {},
     "output_type": "execute_result"
    }
   ],
   "source": [
    "name = '   sandeep   '\n",
    "\n",
    "name.rstrip(' ')"
   ]
  },
  {
   "cell_type": "code",
   "execution_count": 116,
   "id": "2f3bbbe7-b01f-44bf-8d08-b3ab219ed5da",
   "metadata": {},
   "outputs": [
    {
     "data": {
      "text/plain": [
       "'sandeep'"
      ]
     },
     "execution_count": 116,
     "metadata": {},
     "output_type": "execute_result"
    }
   ],
   "source": [
    "name = '=======sandeep====='\n",
    "\n",
    "name.strip('=')"
   ]
  },
  {
   "cell_type": "markdown",
   "id": "4f3aa976-250e-4fe4-b309-36b3e920fede",
   "metadata": {},
   "source": [
    "### Fromatting"
   ]
  },
  {
   "cell_type": "code",
   "execution_count": 119,
   "id": "52c3eb37-82a0-483c-84cc-2ed94e74bb63",
   "metadata": {},
   "outputs": [
    {
     "data": {
      "text/plain": [
       "'######sandeep#######'"
      ]
     },
     "execution_count": 119,
     "metadata": {},
     "output_type": "execute_result"
    }
   ],
   "source": [
    "name = 'sandeep'\n",
    "name.center(20,'#')"
   ]
  },
  {
   "cell_type": "code",
   "execution_count": 120,
   "id": "48fdaefe-68a9-46fd-971b-49c45b78349c",
   "metadata": {},
   "outputs": [
    {
     "data": {
      "text/plain": [
       "'#sandeep##'"
      ]
     },
     "execution_count": 120,
     "metadata": {},
     "output_type": "execute_result"
    }
   ],
   "source": [
    "name = 'sandeep'\n",
    "name.center(10,'#')"
   ]
  },
  {
   "cell_type": "code",
   "execution_count": 121,
   "id": "8213afb5-480c-423c-ac0c-e042132aa95d",
   "metadata": {},
   "outputs": [
    {
     "data": {
      "text/plain": [
       "'sandeep'"
      ]
     },
     "execution_count": 121,
     "metadata": {},
     "output_type": "execute_result"
    }
   ],
   "source": [
    "name = 'sandeep'\n",
    "name.center(2,'#')"
   ]
  },
  {
   "cell_type": "markdown",
   "id": "2dbcb80e-17af-473b-8e3a-83457b528954",
   "metadata": {},
   "source": [
    "### Checking string cases [Imp]"
   ]
  },
  {
   "cell_type": "code",
   "execution_count": 122,
   "id": "ae1115e5-3523-4a63-92c8-029b12d51476",
   "metadata": {},
   "outputs": [
    {
     "data": {
      "text/plain": [
       "True"
      ]
     },
     "execution_count": 122,
     "metadata": {},
     "output_type": "execute_result"
    }
   ],
   "source": [
    "name = \"SANDEEP\"\n",
    "\n",
    "name.isupper()"
   ]
  },
  {
   "cell_type": "code",
   "execution_count": 123,
   "id": "fadfc2cd-afe0-4b3e-8ef6-043ed8e9b3d2",
   "metadata": {},
   "outputs": [
    {
     "data": {
      "text/plain": [
       "False"
      ]
     },
     "execution_count": 123,
     "metadata": {},
     "output_type": "execute_result"
    }
   ],
   "source": [
    "name = \"Sandeep\"\n",
    "name.isupper()"
   ]
  },
  {
   "cell_type": "code",
   "execution_count": 125,
   "id": "4e75560b-0aaf-4b3f-ba10-6a91edd6bfec",
   "metadata": {},
   "outputs": [
    {
     "data": {
      "text/plain": [
       "False"
      ]
     },
     "execution_count": 125,
     "metadata": {},
     "output_type": "execute_result"
    }
   ],
   "source": [
    "name = \"Sandeep\"\n",
    "name.islower()"
   ]
  },
  {
   "cell_type": "code",
   "execution_count": 126,
   "id": "2a7c8172-e41d-4a6b-965a-b9b78d9a0cbf",
   "metadata": {},
   "outputs": [
    {
     "data": {
      "text/plain": [
       "False"
      ]
     },
     "execution_count": 126,
     "metadata": {},
     "output_type": "execute_result"
    }
   ],
   "source": [
    "name = \"Sandeep\"\n",
    "name.isspace()"
   ]
  },
  {
   "cell_type": "code",
   "execution_count": 127,
   "id": "6687e355-d4a3-4f6e-bda0-9b537be09a9e",
   "metadata": {},
   "outputs": [
    {
     "data": {
      "text/plain": [
       "False"
      ]
     },
     "execution_count": 127,
     "metadata": {},
     "output_type": "execute_result"
    }
   ],
   "source": [
    "name = \"   Sandeep  \"\n",
    "name.isspace()"
   ]
  },
  {
   "cell_type": "code",
   "execution_count": 129,
   "id": "e41038f3-424d-4285-85a7-61127b50f3bd",
   "metadata": {},
   "outputs": [
    {
     "data": {
      "text/plain": [
       "True"
      ]
     },
     "execution_count": 129,
     "metadata": {},
     "output_type": "execute_result"
    }
   ],
   "source": [
    "name = \"   \"\n",
    "name.isspace()"
   ]
  },
  {
   "cell_type": "code",
   "execution_count": 130,
   "id": "e64085f8-8702-43ef-958c-9056d69d02c6",
   "metadata": {},
   "outputs": [
    {
     "data": {
      "text/plain": [
       "True"
      ]
     },
     "execution_count": 130,
     "metadata": {},
     "output_type": "execute_result"
    }
   ],
   "source": [
    "name = \"Sandeep\"\n",
    "name.istitle()"
   ]
  },
  {
   "cell_type": "code",
   "execution_count": 133,
   "id": "66bbd530-69b4-4316-b19b-a6c4b1fa6b36",
   "metadata": {},
   "outputs": [
    {
     "name": "stdin",
     "output_type": "stream",
     "text": [
      "Enter your name:  sandeep kumar bandi\n"
     ]
    },
    {
     "name": "stdout",
     "output_type": "stream",
     "text": [
      "user Input: sandeep kumar bandi\n",
      "wrong input we need to auto correct it\n",
      "correct output: Sandeep Kumar Bandi\n"
     ]
    }
   ],
   "source": [
    "name = input('Enter your name: ')\n",
    "print(f\"user Input: {name}\")\n",
    "\n",
    "if name.istitle():\n",
    "    print(f\"You have entered correct input\")\n",
    "else:\n",
    "    print(f\"wrong input we need to auto correct it\")\n",
    "    name = name.title()\n",
    "    print(f'correct output: {name}')"
   ]
  },
  {
   "cell_type": "code",
   "execution_count": 136,
   "id": "0421c423-40ad-4dee-8916-ab8d34900a4a",
   "metadata": {},
   "outputs": [
    {
     "name": "stdin",
     "output_type": "stream",
     "text": [
      "Enter your name:         \n"
     ]
    },
    {
     "name": "stdout",
     "output_type": "stream",
     "text": [
      "user Input:        \n",
      "wrong Input try again \n"
     ]
    }
   ],
   "source": [
    "name = input('Enter your name: ')\n",
    "print(f\"user Input: {name}\")\n",
    "\n",
    "if name.istitle():\n",
    "    print(f\"You have entered correct input\")\n",
    "elif name.isspace():\n",
    "    print(f\"wrong Input try again \")\n",
    "else:\n",
    "    print(f\"wrong input we need to auto correct it\")\n",
    "    name = name.title()\n",
    "    print(f'correct output: {name}')"
   ]
  },
  {
   "cell_type": "code",
   "execution_count": 137,
   "id": "89f6c8cb-3599-406c-9049-57f237823abd",
   "metadata": {},
   "outputs": [
    {
     "name": "stdin",
     "output_type": "stream",
     "text": [
      "Enter your name:  sandeep bandi\n"
     ]
    },
    {
     "name": "stdout",
     "output_type": "stream",
     "text": [
      "user Input: sandeep bandi\n",
      "wrong input we need to auto correct it\n",
      "correct output: Sandeep Bandi\n"
     ]
    }
   ],
   "source": [
    "name = input('Enter your name: ')\n",
    "print(f\"user Input: {name}\")\n",
    "\n",
    "if name.istitle():\n",
    "    print(f\"You have entered correct input\")\n",
    "elif name.isspace():\n",
    "    print(f\"wrong Input try again \")\n",
    "else:\n",
    "    print(f\"wrong input we need to auto correct it\")\n",
    "    name = name.title()\n",
    "    print(f'correct output: {name}')"
   ]
  },
  {
   "cell_type": "code",
   "execution_count": 138,
   "id": "85b13b19-9ef1-4c9b-890c-e19cc154e586",
   "metadata": {},
   "outputs": [
    {
     "name": "stdin",
     "output_type": "stream",
     "text": [
      "Enter your name:  sanDEEP BaNdI\n"
     ]
    },
    {
     "name": "stdout",
     "output_type": "stream",
     "text": [
      "user Input: sanDEEP BaNdI\n",
      "wrong input we need to auto correct it\n",
      "correct output: Sandeep Bandi\n"
     ]
    }
   ],
   "source": [
    "name = input('Enter your name: ')\n",
    "print(f\"user Input: {name}\")\n",
    "\n",
    "if name.istitle():\n",
    "    print(f\"You have entered correct input\")\n",
    "elif name.isspace():\n",
    "    print(f\"wrong Input try again \")\n",
    "else:\n",
    "    print(f\"wrong input we need to auto correct it\")\n",
    "    name = name.title()\n",
    "    print(f'correct output: {name}')"
   ]
  },
  {
   "cell_type": "code",
   "execution_count": 139,
   "id": "c1b093b6-378e-4315-a607-c3f61efcfd05",
   "metadata": {},
   "outputs": [
    {
     "data": {
      "text/plain": [
       "True"
      ]
     },
     "execution_count": 139,
     "metadata": {},
     "output_type": "execute_result"
    }
   ],
   "source": [
    "phone_num = '905682077'\n",
    "phone_num.isdigit()"
   ]
  },
  {
   "cell_type": "code",
   "execution_count": 140,
   "id": "6c27421d-3a97-4396-a509-95d214459014",
   "metadata": {},
   "outputs": [
    {
     "data": {
      "text/plain": [
       "False"
      ]
     },
     "execution_count": 140,
     "metadata": {},
     "output_type": "execute_result"
    }
   ],
   "source": [
    "phone_num = '905682077san'\n",
    "phone_num.isdigit()"
   ]
  },
  {
   "cell_type": "code",
   "execution_count": 143,
   "id": "b68e09d2-9177-4871-870b-2c681350b670",
   "metadata": {},
   "outputs": [
    {
     "name": "stdin",
     "output_type": "stream",
     "text": [
      "Enter your num:  9056820777\n"
     ]
    },
    {
     "name": "stdout",
     "output_type": "stream",
     "text": [
      "User Input is correct\n"
     ]
    }
   ],
   "source": [
    "num = input('Enter your num: ')\n",
    "\n",
    "if num.isdigit() and len(num) == 10 :\n",
    "    print(f\"User Input is correct\")\n",
    "else:\n",
    "    print('Invalid Input')"
   ]
  },
  {
   "cell_type": "code",
   "execution_count": 144,
   "id": "d59e1819-7f6c-4e65-9893-2024ea3d6188",
   "metadata": {},
   "outputs": [
    {
     "name": "stdin",
     "output_type": "stream",
     "text": [
      "Enter your num:  1634564798989865\n"
     ]
    },
    {
     "name": "stdout",
     "output_type": "stream",
     "text": [
      "Invalid Input\n"
     ]
    }
   ],
   "source": [
    "num = input('Enter your num: ')\n",
    "\n",
    "if num.isdigit() and len(num) == 10 :\n",
    "    print(f\"User Input is correct\")\n",
    "else:\n",
    "    print('Invalid Input')"
   ]
  },
  {
   "cell_type": "code",
   "execution_count": 145,
   "id": "07b9fc57-9963-4a85-9f64-2a561ebc3cc2",
   "metadata": {},
   "outputs": [
    {
     "name": "stdin",
     "output_type": "stream",
     "text": [
      "Enter your num:  0000000000\n"
     ]
    },
    {
     "name": "stdout",
     "output_type": "stream",
     "text": [
      "User Input is correct\n"
     ]
    }
   ],
   "source": [
    "num = input('Enter your num: ')\n",
    "\n",
    "if num.isdigit() and len(num) == 10 :\n",
    "    print(f\"User Input is correct\")\n",
    "else:\n",
    "    print('Invalid Input')"
   ]
  },
  {
   "cell_type": "code",
   "execution_count": 146,
   "id": "b86752d3-ac8e-4c2d-ac22-58259abd7328",
   "metadata": {},
   "outputs": [
    {
     "name": "stdin",
     "output_type": "stream",
     "text": [
      "Enter your num:  0000000000\n"
     ]
    },
    {
     "name": "stdout",
     "output_type": "stream",
     "text": [
      "Invalid Input\n"
     ]
    }
   ],
   "source": [
    "num = input('Enter your num: ')\n",
    "\n",
    "if num.isdigit() and len(num) == 10 and num !='0000000000':\n",
    "    print(f\"User Input is correct\")\n",
    "else:\n",
    "    print('Invalid Input')"
   ]
  },
  {
   "cell_type": "code",
   "execution_count": 147,
   "id": "1bea07ce-a3fe-4b5d-abac-c5ff01c919e3",
   "metadata": {},
   "outputs": [
    {
     "data": {
      "text/plain": [
       "True"
      ]
     },
     "execution_count": 147,
     "metadata": {},
     "output_type": "execute_result"
    }
   ],
   "source": [
    "num.startswith('0')"
   ]
  },
  {
   "cell_type": "code",
   "execution_count": 148,
   "id": "c8184a19-83f1-4873-b622-bb581b46e69e",
   "metadata": {},
   "outputs": [
    {
     "data": {
      "text/plain": [
       "True"
      ]
     },
     "execution_count": 148,
     "metadata": {},
     "output_type": "execute_result"
    }
   ],
   "source": [
    "num.endswith('0')"
   ]
  },
  {
   "cell_type": "code",
   "execution_count": 149,
   "id": "f34326d7-0a2c-499c-8f90-b6045b23386a",
   "metadata": {},
   "outputs": [
    {
     "data": {
      "text/plain": [
       "True"
      ]
     },
     "execution_count": 149,
     "metadata": {},
     "output_type": "execute_result"
    }
   ],
   "source": [
    "num = '+919056820777'\n",
    "num.startswith('+91')"
   ]
  },
  {
   "cell_type": "code",
   "execution_count": 150,
   "id": "2147b283-69c1-4cdb-ab34-0c7986df9a13",
   "metadata": {},
   "outputs": [
    {
     "data": {
      "text/plain": [
       "True"
      ]
     },
     "execution_count": 150,
     "metadata": {},
     "output_type": "execute_result"
    }
   ],
   "source": [
    "num[1:].isdigit()"
   ]
  },
  {
   "cell_type": "code",
   "execution_count": 151,
   "id": "4b035ff8-ffb1-4659-8ece-ff95c4c6fc69",
   "metadata": {},
   "outputs": [
    {
     "data": {
      "text/plain": [
       "13"
      ]
     },
     "execution_count": 151,
     "metadata": {},
     "output_type": "execute_result"
    }
   ],
   "source": [
    "len(num)"
   ]
  },
  {
   "cell_type": "code",
   "execution_count": 152,
   "id": "c95668c8-3d8a-487d-9f50-b13eb51cc439",
   "metadata": {},
   "outputs": [
    {
     "name": "stdin",
     "output_type": "stream",
     "text": [
      "Enter your Indian Phone num:  +919056820777\n"
     ]
    },
    {
     "name": "stdout",
     "output_type": "stream",
     "text": [
      "User Input is correct\n"
     ]
    }
   ],
   "source": [
    "num = input('Enter your Indian Phone num: ')\n",
    "\n",
    "if num.startswith('+91') and num[1:].isdigit() and len(num) == 13 :\n",
    "    print(f\"User Input is correct\")\n",
    "else:\n",
    "    print('Invalid Input')"
   ]
  },
  {
   "cell_type": "code",
   "execution_count": 154,
   "id": "9105d5cd-5e40-476d-9df3-a53ce20cb256",
   "metadata": {},
   "outputs": [
    {
     "name": "stdin",
     "output_type": "stream",
     "text": [
      "Enter your Indian Phone num:  +93905682777\n"
     ]
    },
    {
     "name": "stdout",
     "output_type": "stream",
     "text": [
      "Invalid Input\n"
     ]
    }
   ],
   "source": [
    "num = input('Enter your Indian Phone num: ')\n",
    "\n",
    "if num.startswith('+91') and num[1:].isdigit() and len(num) == 13 :\n",
    "    print(f\"User Input is correct\")\n",
    "else:\n",
    "    print('Invalid Input')"
   ]
  },
  {
   "cell_type": "code",
   "execution_count": 155,
   "id": "6f00378d-a866-42ad-8ceb-b3dc2f6610e6",
   "metadata": {},
   "outputs": [
    {
     "data": {
      "text/plain": [
       "True"
      ]
     },
     "execution_count": 155,
     "metadata": {},
     "output_type": "execute_result"
    }
   ],
   "source": [
    "PAN_NUMBERS = \"AYES4568XG\"\n",
    "PAN_NUMBERS.isalnum() #check for alpha numeric case"
   ]
  },
  {
   "cell_type": "code",
   "execution_count": 156,
   "id": "c3a381eb-3c74-4089-a0ab-a785000a65b2",
   "metadata": {},
   "outputs": [
    {
     "data": {
      "text/plain": [
       "True"
      ]
     },
     "execution_count": 156,
     "metadata": {},
     "output_type": "execute_result"
    }
   ],
   "source": [
    "PAN_NUMBERS = \"1365489776\"\n",
    "PAN_NUMBERS.isalnum() #check for alphabets or numeric case"
   ]
  },
  {
   "cell_type": "code",
   "execution_count": 157,
   "id": "6d51ef62-278a-455d-b2bd-fb1310f7d5db",
   "metadata": {},
   "outputs": [
    {
     "data": {
      "text/plain": [
       "True"
      ]
     },
     "execution_count": 157,
     "metadata": {},
     "output_type": "execute_result"
    }
   ],
   "source": [
    "PAN_NUMBERS = \"Snadoeoo\"\n",
    "PAN_NUMBERS.isalnum() #check for alphabets or numeric case"
   ]
  },
  {
   "cell_type": "code",
   "execution_count": 158,
   "id": "48473970-dee7-49fd-9b7d-fc5470f38d0e",
   "metadata": {},
   "outputs": [
    {
     "data": {
      "text/plain": [
       "False"
      ]
     },
     "execution_count": 158,
     "metadata": {},
     "output_type": "execute_result"
    }
   ],
   "source": [
    "PAN_NUMBERS = \"Sanddep bandi\"\n",
    "PAN_NUMBERS.isalnum() #check for alphabets or numeric case"
   ]
  },
  {
   "cell_type": "code",
   "execution_count": null,
   "id": "792bc45d-7da2-4dbb-bf88-94e1042029e3",
   "metadata": {},
   "outputs": [],
   "source": []
  }
 ],
 "metadata": {
  "kernelspec": {
   "display_name": "Python 3 (ipykernel)",
   "language": "python",
   "name": "python3"
  },
  "language_info": {
   "codemirror_mode": {
    "name": "ipython",
    "version": 3
   },
   "file_extension": ".py",
   "mimetype": "text/x-python",
   "name": "python",
   "nbconvert_exporter": "python",
   "pygments_lexer": "ipython3",
   "version": "3.10.6"
  }
 },
 "nbformat": 4,
 "nbformat_minor": 5
}
