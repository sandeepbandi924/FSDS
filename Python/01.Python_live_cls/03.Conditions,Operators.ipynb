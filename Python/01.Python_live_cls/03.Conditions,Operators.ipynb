{
 "cells": [
  {
   "cell_type": "markdown",
   "id": "c10580b3-9378-4701-8099-545383250d5f",
   "metadata": {},
   "source": [
    "## Glimpse of conditional statements"
   ]
  },
  {
   "cell_type": "code",
   "execution_count": 3,
   "id": "1b4c941b-71e9-46cc-a32a-a955543b9d52",
   "metadata": {},
   "outputs": [
    {
     "name": "stdout",
     "output_type": "stream",
     "text": [
      "Lets concentrate\n"
     ]
    }
   ],
   "source": [
    "class_started = True\n",
    "\n",
    "if class_started:\n",
    "    print('Lets concentrate')"
   ]
  },
  {
   "cell_type": "raw",
   "id": "1cdd7bfc-0cf6-44b3-bfe3-d246ed35b9ac",
   "metadata": {},
   "source": [
    "----python\n",
    "if condition:\n",
    "    print('execute this statements')\n",
    "else:\n",
    "    print('if condtion is not true')"
   ]
  },
  {
   "cell_type": "code",
   "execution_count": 5,
   "id": "1aaeccb7-78c7-499c-b612-920c78dc2915",
   "metadata": {},
   "outputs": [
    {
     "name": "stdout",
     "output_type": "stream",
     "text": [
      "Lets revise previous class\n"
     ]
    }
   ],
   "source": [
    "class_started = True\n",
    "\n",
    "if not class_started:\n",
    "    print('Lets concentrate')\n",
    "else:\n",
    "    print('Lets revise previous class')"
   ]
  },
  {
   "cell_type": "code",
   "execution_count": 7,
   "id": "8582b7d7-7cac-41d8-9eaf-7e9298a36439",
   "metadata": {},
   "outputs": [
    {
     "name": "stdout",
     "output_type": "stream",
     "text": [
      "Lets do work from home\n"
     ]
    }
   ],
   "source": [
    "raining = True\n",
    "\n",
    "if raining : #true condition\n",
    "    print('Lets do work from home')\n",
    "else:\n",
    "    print('lets go to office')"
   ]
  },
  {
   "cell_type": "code",
   "execution_count": 9,
   "id": "f0cb3cfa-0e0a-4a08-ad88-f02240808c57",
   "metadata": {},
   "outputs": [
    {
     "name": "stdout",
     "output_type": "stream",
     "text": [
      "Lets go to office\n"
     ]
    }
   ],
   "source": [
    "raining = False\n",
    "\n",
    "if raining : #false conditon\n",
    "    print('Lets do work from home')\n",
    "else:\n",
    "    print('Lets go to office')"
   ]
  },
  {
   "cell_type": "code",
   "execution_count": null,
   "id": "77a85df0-cf52-4af9-bc52-3141d160a4e9",
   "metadata": {},
   "outputs": [],
   "source": [
    "class_started = input('is class started ? Y/N:')\n",
    "if not class_started :\n",
    "    print('since class is not started')\n",
    "    print()"
   ]
  },
  {
   "cell_type": "code",
   "execution_count": null,
   "id": "26ab7b5c-0f9c-4936-bce1-3b65874ad768",
   "metadata": {},
   "outputs": [],
   "source": []
  },
  {
   "cell_type": "code",
   "execution_count": null,
   "id": "25cb25fa-e90a-46f9-a94f-2f928228f00b",
   "metadata": {},
   "outputs": [],
   "source": []
  },
  {
   "cell_type": "code",
   "execution_count": null,
   "id": "08f5efa4-4373-4e2e-b047-f08d26500b28",
   "metadata": {},
   "outputs": [],
   "source": []
  },
  {
   "cell_type": "code",
   "execution_count": null,
   "id": "1385645e-27eb-4014-9b29-2b66a97237b0",
   "metadata": {},
   "outputs": [],
   "source": []
  },
  {
   "cell_type": "markdown",
   "id": "a20976e6-a8b1-4590-8bab-7f9a21f9150d",
   "metadata": {},
   "source": [
    "## Logical Operators\n"
   ]
  },
  {
   "cell_type": "raw",
   "id": "521bb7c6-e4f5-4df5-9582-98947cfbe933",
   "metadata": {},
   "source": [
    "keywords | Meaning\n",
    "-        -\n",
    "not | unary negation\n",
    "and | conditional AND\n",
    "or  | condtional OR"
   ]
  },
  {
   "cell_type": "code",
   "execution_count": 10,
   "id": "63aec29b-9839-45ff-bdbe-ce27c04bbca6",
   "metadata": {},
   "outputs": [
    {
     "name": "stdout",
     "output_type": "stream",
     "text": [
      "True\n"
     ]
    }
   ],
   "source": [
    "Start = True\n",
    "print(Start)"
   ]
  },
  {
   "cell_type": "code",
   "execution_count": 11,
   "id": "dfe03a90-0f2b-48b5-ac5f-5c1efcefc3c1",
   "metadata": {},
   "outputs": [
    {
     "name": "stdout",
     "output_type": "stream",
     "text": [
      "False\n"
     ]
    }
   ],
   "source": [
    "Start = True\n",
    "print(not Start)"
   ]
  },
  {
   "cell_type": "markdown",
   "id": "38d8fe75-2243-4f27-b8e1-a5df7bcefce9",
   "metadata": {},
   "source": [
    "### AND - condition "
   ]
  },
  {
   "cell_type": "raw",
   "id": "e2fc7403-8b10-4a11-9459-4f90be83ed58",
   "metadata": {},
   "source": [
    "vegetabls | salt | dish\n",
    "\n",
    "F        | F     | F\n",
    "F        | T     | F  \n",
    "T        | F     | F\n",
    "T        | T     | T"
   ]
  },
  {
   "cell_type": "code",
   "execution_count": 12,
   "id": "c3f1bbf6-24c3-4a68-b553-25add7918e5d",
   "metadata": {},
   "outputs": [
    {
     "name": "stdout",
     "output_type": "stream",
     "text": [
      "Its a Bad Dish\n",
      "Is veg present False\n",
      "Is salt present False\n"
     ]
    }
   ],
   "source": [
    "veg_present = False\n",
    "salt_present = False\n",
    "\n",
    "if veg_present and salt_present : #both condtios should be true\n",
    "    print('Its a Good Dish')\n",
    "else:\n",
    "    print('Its a Bad Dish')\n",
    "    print(f\"Because veg present {veg_present}\")\n",
    "    print(f\"Is salt present {salt_present}\")"
   ]
  },
  {
   "cell_type": "code",
   "execution_count": 13,
   "id": "27375763-df4f-4979-bab2-d39b301b352b",
   "metadata": {},
   "outputs": [
    {
     "name": "stdout",
     "output_type": "stream",
     "text": [
      "Its a Good Dish\n"
     ]
    }
   ],
   "source": [
    "veg_present = True\n",
    "salt_present = True\n",
    "\n",
    "if veg_present and salt_present : #both condtios should be true\n",
    "    print('Its a Good Dish')\n",
    "else:\n",
    "    print('Its a Bad Dish')\n",
    "    print(f\"Because veg present {veg_present}\")\n",
    "    print(f\"Is salt present {salt_present}\")"
   ]
  },
  {
   "cell_type": "code",
   "execution_count": 14,
   "id": "72ebeeec-50f5-43c0-9478-e94a8a88fc24",
   "metadata": {},
   "outputs": [
    {
     "name": "stdout",
     "output_type": "stream",
     "text": [
      "My name is Satyam\n"
     ]
    }
   ],
   "source": [
    "name = 'Satyam'\n",
    "print(f\"My name is {name}\")"
   ]
  },
  {
   "cell_type": "markdown",
   "id": "0f2d8ba5-a5a7-4fc4-b0a0-dd194e51c6fe",
   "metadata": {},
   "source": [
    "### OR - conditional"
   ]
  },
  {
   "cell_type": "raw",
   "id": "ba9b087a-b9a1-4bed-96d5-7c4d2c55c515",
   "metadata": {},
   "source": [
    "car   | Bike     | travel_100km\n",
    "\n",
    "F        | F     |  F\n",
    "F        | T     |  T  \n",
    "T        | F     |  T\n",
    "T        | T     |  T"
   ]
  },
  {
   "cell_type": "code",
   "execution_count": 15,
   "id": "34de49a2-214c-4a3a-9cd0-e0ce34ba9449",
   "metadata": {},
   "outputs": [
    {
     "name": "stdout",
     "output_type": "stream",
     "text": [
      "I cannot travel 100km\n",
      "because car is False\n",
      "because bike is False\n"
     ]
    }
   ],
   "source": [
    "car = True\n",
    "bike = False\n",
    "\n",
    "if car or bike:\n",
    "    print('I can travel 100kms')\n",
    "else:\n",
    "    print('I cannot travel 100km')\n",
    "    print(f\"because car is {car}\")\n",
    "    print(f\"because bike is {bike}\")"
   ]
  },
  {
   "cell_type": "code",
   "execution_count": 17,
   "id": "a905f866-46da-41e9-9066-6005a39e9789",
   "metadata": {},
   "outputs": [
    {
     "name": "stdout",
     "output_type": "stream",
     "text": [
      "I can travel 100kms\n"
     ]
    }
   ],
   "source": [
    "car = False\n",
    "bike = True\n",
    "if car or bike:\n",
    "    print('I can travel 100kms')\n",
    "else:\n",
    "    print('I cannot travel 100km')\n",
    "    print(f\"because car is {car}\")\n",
    "    print(f\"because bike is {bike}\")"
   ]
  },
  {
   "cell_type": "code",
   "execution_count": 18,
   "id": "1253e4ea",
   "metadata": {},
   "outputs": [
    {
     "name": "stdout",
     "output_type": "stream",
     "text": [
      "I cannot travel 100km\n",
      "because car is False\n",
      "because bike is False\n"
     ]
    }
   ],
   "source": [
    "car = False\n",
    "bike = False\n",
    "if car or bike:\n",
    "    print('I can travel 100kms')\n",
    "else:\n",
    "    print('I cannot travel 100km')\n",
    "    print(f\"because car is {car}\")\n",
    "    print(f\"because bike is {bike}\")"
   ]
  },
  {
   "cell_type": "code",
   "execution_count": null,
   "id": "57985536-e7b9-472e-b31a-002b0f6e47bd",
   "metadata": {},
   "outputs": [],
   "source": []
  },
  {
   "cell_type": "markdown",
   "id": "37e43f43-27ba-43c1-97ce-92feced13164",
   "metadata": {},
   "source": [
    "### Equality Operators"
   ]
  },
  {
   "cell_type": "raw",
   "id": "93aadaaa-77a3-4051-9a9c-2fc0f18269dc",
   "metadata": {},
   "source": [
    "Operator   | Uses        | Meaning\n",
    "\n",
    "is         | A is B      |  return True if A and B are same object\n",
    "is not     | A is not B  |   return True if A and B are not same object \n",
    "==         | A==B        |  A is equal to B\n",
    "!=         | A!=B        |  A is not equal to B\n",
    "\n",
    "\n",
    "is, is not comparing objects\n",
    "\n",
    "==,!= - checking values"
   ]
  },
  {
   "cell_type": "code",
   "execution_count": 19,
   "id": "b35a83ab-3748-4ec9-90ae-ce1d92c91d91",
   "metadata": {},
   "outputs": [
    {
     "name": "stdout",
     "output_type": "stream",
     "text": [
      "A and B are same\n"
     ]
    }
   ],
   "source": [
    "A = 1\n",
    "B = 1\n",
    "if A is B:\n",
    "    print('A and B are same')\n",
    "else:\n",
    "    print('A and b are not same')"
   ]
  },
  {
   "cell_type": "code",
   "execution_count": 20,
   "id": "2a6bb171-51c5-4029-8c3e-53740a5b5d00",
   "metadata": {},
   "outputs": [
    {
     "name": "stdout",
     "output_type": "stream",
     "text": [
      "A and b are not same\n"
     ]
    }
   ],
   "source": [
    "A = 1\n",
    "B = 2\n",
    "if A is B:\n",
    "    print('A and B are same')\n",
    "else:\n",
    "    print('A and b are not same')"
   ]
  },
  {
   "cell_type": "code",
   "execution_count": 22,
   "id": "070bd015-bba1-4f61-9bff-a449f1b4fe39",
   "metadata": {},
   "outputs": [
    {
     "name": "stdout",
     "output_type": "stream",
     "text": [
      "A and b are not same\n"
     ]
    }
   ],
   "source": [
    "A = 1\n",
    "B = 2\n",
    "if A is not B:\n",
    "    print('A and b are not same')\n",
    "else:\n",
    "    print('A and B are same')"
   ]
  },
  {
   "cell_type": "code",
   "execution_count": 24,
   "id": "7a0defd8-aba8-4726-9db8-40b4d7277796",
   "metadata": {},
   "outputs": [
    {
     "name": "stdout",
     "output_type": "stream",
     "text": [
      "A and B are same\n"
     ]
    }
   ],
   "source": [
    "A = 1\n",
    "B = 1\n",
    "if A == B:\n",
    "    print('A and B are same')\n",
    "else:\n",
    "    print('A and b are not same')"
   ]
  },
  {
   "cell_type": "code",
   "execution_count": 27,
   "id": "ff4f28b9-539a-4af9-bd63-f1c6c5053809",
   "metadata": {},
   "outputs": [
    {
     "name": "stdout",
     "output_type": "stream",
     "text": [
      "A and B are not same\n"
     ]
    }
   ],
   "source": [
    "A = 1\n",
    "B = 2\n",
    "if A != B:\n",
    "    print('A and B are not same')\n",
    "else:\n",
    "    print('A and b are same')"
   ]
  },
  {
   "cell_type": "code",
   "execution_count": null,
   "id": "6b84f628-3648-4e97-b192-6d171131b6a0",
   "metadata": {},
   "outputs": [],
   "source": []
  },
  {
   "cell_type": "code",
   "execution_count": 28,
   "id": "6c633cee-81b8-4bcc-8dcb-fe087cde0d4c",
   "metadata": {},
   "outputs": [
    {
     "data": {
      "text/plain": [
       "True"
      ]
     },
     "execution_count": 28,
     "metadata": {},
     "output_type": "execute_result"
    }
   ],
   "source": [
    "A = 'sand'\n",
    "B = 'sand'\n",
    "A is B"
   ]
  },
  {
   "cell_type": "code",
   "execution_count": 30,
   "id": "39b567a0-f024-46c5-ae08-902a4f052fa5",
   "metadata": {},
   "outputs": [
    {
     "data": {
      "text/plain": [
       "False"
      ]
     },
     "execution_count": 30,
     "metadata": {},
     "output_type": "execute_result"
    }
   ],
   "source": [
    "A = ['sand','band']\n",
    "B = ['sand','band']\n",
    "\n",
    "A is B"
   ]
  },
  {
   "cell_type": "code",
   "execution_count": null,
   "id": "9ca41d45-8981-4e3c-a683-5f489a5d35c6",
   "metadata": {},
   "outputs": [],
   "source": []
  },
  {
   "cell_type": "markdown",
   "id": "0938a1fe-b975-4fb3-916a-39f4bc2f5a0c",
   "metadata": {},
   "source": [
    "### comparision operator"
   ]
  },
  {
   "cell_type": "raw",
   "id": "98ea133e-4261-4ab5-a7a3-b33620d75c4c",
   "metadata": {},
   "source": [
    "operator    |   Meaning\n",
    "\n",
    "<                 A<B\n",
    ">                 A>B\n",
    "<=                A<=B\n",
    ">=                A>=B"
   ]
  },
  {
   "cell_type": "code",
   "execution_count": 33,
   "id": "cbc0ce79-5dc5-451a-bf42-230e7169bb9c",
   "metadata": {},
   "outputs": [
    {
     "name": "stdout",
     "output_type": "stream",
     "text": [
      "since you scored:40,you are passed exams\n"
     ]
    }
   ],
   "source": [
    "score = 40\n",
    "pass_mark = 33.33\n",
    "\n",
    "if score >= pass_mark :\n",
    "    print(f'since you scored:{score},you are passed exams')\n",
    "else:\n",
    "    print(f\"need to take seriously and study well\")"
   ]
  },
  {
   "cell_type": "code",
   "execution_count": 35,
   "id": "008b7ab2-aa60-4c3f-a064-a70b2ca65956",
   "metadata": {},
   "outputs": [
    {
     "name": "stdout",
     "output_type": "stream",
     "text": [
      "since you scored:33.33,you are passed exams\n"
     ]
    }
   ],
   "source": [
    "score = 33.33\n",
    "pass_mark = 33.33\n",
    "\n",
    "if score >= pass_mark :\n",
    "    print(f'since you scored:{score},you are passed exams')\n",
    "else:\n",
    "    print(f\"need to take seriously and study well\")"
   ]
  },
  {
   "cell_type": "code",
   "execution_count": 37,
   "id": "4d06cd07-14e7-450d-b5ae-e31957aa2108",
   "metadata": {},
   "outputs": [
    {
     "name": "stdout",
     "output_type": "stream",
     "text": [
      "Since you scored:60,you are passed exams\n",
      "Dad: Better Luck next time!\n"
     ]
    }
   ],
   "source": [
    "score = 60\n",
    "pass_mark = 33.33\n",
    "dist_mark = 75\n",
    "\n",
    "if score >= pass_mark :\n",
    "    print(f'Since you scored:{score},you are passed exams')\n",
    "    if score > dist_mark:\n",
    "        print(\"Dad: I will buy you a bike! well Done!\")\n",
    "    else:\n",
    "        print(\"Dad: Better Luck next time!\")\n",
    "else:\n",
    "    print(f\"need to take seriously and study well\")"
   ]
  },
  {
   "cell_type": "markdown",
   "id": "3e6f072a-33d6-4c9e-8ea1-e7029c586d03",
   "metadata": {},
   "source": [
    "## **Arithmatic Operators**"
   ]
  },
  {
   "cell_type": "raw",
   "id": "7e2ddf66-fb6a-4a56-b208-301e2937c069",
   "metadata": {},
   "source": [
    "\n",
    "|Operation|Meaning|\n",
    "|:-:|:-:|\n",
    "| **+** |addition|\n",
    "| **-** |subtraction|\n",
    "| **\\*** |multiplication|\n",
    "| **/** |true division|\n",
    "| **//** |integer division|\n",
    "| **%** |the modulo operator|"
   ]
  },
  {
   "cell_type": "code",
   "execution_count": 1,
   "id": "19ab7c38-40f2-4294-9f23-61d660591346",
   "metadata": {},
   "outputs": [
    {
     "name": "stdout",
     "output_type": "stream",
     "text": [
      "integer division: 25/5=5\n"
     ]
    }
   ],
   "source": [
    "var_a = 5\n",
    "var_b = 25\n",
    "integer_division = var_b // var_a\n",
    "print(f\"integer division: {var_b}/{var_a}={integer_division}\")"
   ]
  },
  {
   "cell_type": "code",
   "execution_count": 2,
   "id": "56d9056e-0587-44f1-bebe-99f4453e642a",
   "metadata": {},
   "outputs": [
    {
     "name": "stdout",
     "output_type": "stream",
     "text": [
      "integer division: 25/3=8\n"
     ]
    }
   ],
   "source": [
    "var_a = 3\n",
    "var_b = 25\n",
    "integer_division = var_b // var_a\n",
    "print(f\"integer division: {var_b}/{var_a}={integer_division}\")"
   ]
  },
  {
   "cell_type": "code",
   "execution_count": 3,
   "id": "57de78fe-de2e-4beb-a9c1-8b83b4f42197",
   "metadata": {},
   "outputs": [
    {
     "name": "stdout",
     "output_type": "stream",
     "text": [
      "remainder: 25/5 is 0\n"
     ]
    }
   ],
   "source": [
    "var_a = 5\n",
    "var_b = 25\n",
    "remainder = var_b % var_a\n",
    "print(f\"remainder: {var_b}/{var_a} is {remainder}\")"
   ]
  },
  {
   "cell_type": "code",
   "execution_count": 4,
   "id": "1b749115-98dd-48e1-9766-6a259608458d",
   "metadata": {},
   "outputs": [
    {
     "name": "stdout",
     "output_type": "stream",
     "text": [
      "remainder: 25/3 is 1\n"
     ]
    }
   ],
   "source": [
    "var_a = 3\n",
    "var_b = 25\n",
    "remainder = var_b % var_a\n",
    "print(f\"remainder: {var_b}/{var_a} is {remainder}\")"
   ]
  },
  {
   "cell_type": "code",
   "execution_count": null,
   "id": "51932a3b-05f4-47a8-bbf7-b485c056eacd",
   "metadata": {},
   "outputs": [],
   "source": []
  }
 ],
 "metadata": {
  "kernelspec": {
   "display_name": "Python 3 (ipykernel)",
   "language": "python",
   "name": "python3"
  },
  "language_info": {
   "codemirror_mode": {
    "name": "ipython",
    "version": 3
   },
   "file_extension": ".py",
   "mimetype": "text/x-python",
   "name": "python",
   "nbconvert_exporter": "python",
   "pygments_lexer": "ipython3",
   "version": "3.10.6"
  }
 },
 "nbformat": 4,
 "nbformat_minor": 5
}
