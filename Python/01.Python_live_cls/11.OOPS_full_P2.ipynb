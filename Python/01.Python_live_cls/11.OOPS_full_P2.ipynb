{
 "cells": [
  {
   "cell_type": "code",
   "execution_count": 1,
   "id": "f6d7bbe1-66a8-4466-8061-c866bdb76c75",
   "metadata": {},
   "outputs": [],
   "source": [
    "class test:\n",
    "    def meth1(self):\n",
    "        return 'This is my first method'"
   ]
  },
  {
   "cell_type": "code",
   "execution_count": 2,
   "id": "118718b8-8b44-4615-b527-e5635e5f522d",
   "metadata": {},
   "outputs": [],
   "source": [
    "a = test()"
   ]
  },
  {
   "cell_type": "code",
   "execution_count": 3,
   "id": "0dbde5aa-2c7a-49b6-a897-79aa4707e312",
   "metadata": {},
   "outputs": [
    {
     "data": {
      "text/plain": [
       "'This is my first method'"
      ]
     },
     "execution_count": 3,
     "metadata": {},
     "output_type": "execute_result"
    }
   ],
   "source": [
    "a.meth1()"
   ]
  },
  {
   "cell_type": "code",
   "execution_count": 27,
   "id": "b9bd20a8-d56c-4a09-9a66-eba0742a735a",
   "metadata": {},
   "outputs": [],
   "source": [
    "class test1 :\n",
    "    @staticmethod\n",
    "    def meth1():\n",
    "        return 'This is meth you can access without creating object'\n",
    "    \n",
    "    def meth2(self):\n",
    "        return 'This is my method without static'"
   ]
  },
  {
   "cell_type": "code",
   "execution_count": 28,
   "id": "a730abe9-4696-45c4-9dbc-622ab2108b5f",
   "metadata": {},
   "outputs": [],
   "source": [
    "b = test1()"
   ]
  },
  {
   "cell_type": "code",
   "execution_count": 29,
   "id": "5e6a1c41-0d75-492a-bf8c-35f9547ad487",
   "metadata": {},
   "outputs": [
    {
     "data": {
      "text/plain": [
       "'This is meth you can access without creating object'"
      ]
     },
     "execution_count": 29,
     "metadata": {},
     "output_type": "execute_result"
    }
   ],
   "source": [
    "b.meth1()"
   ]
  },
  {
   "cell_type": "code",
   "execution_count": 30,
   "id": "002c1e1e-e415-4450-8dc8-fe50ee2518cb",
   "metadata": {},
   "outputs": [
    {
     "data": {
      "text/plain": [
       "'This is my method without static'"
      ]
     },
     "execution_count": 30,
     "metadata": {},
     "output_type": "execute_result"
    }
   ],
   "source": [
    "b.meth2()"
   ]
  },
  {
   "cell_type": "code",
   "execution_count": 31,
   "id": "5ae002cb-d494-4746-aecd-2b34de4a4b7a",
   "metadata": {},
   "outputs": [
    {
     "data": {
      "text/plain": [
       "'This is meth you can access without creating object'"
      ]
     },
     "execution_count": 31,
     "metadata": {},
     "output_type": "execute_result"
    }
   ],
   "source": [
    "test1.meth1()"
   ]
  },
  {
   "cell_type": "code",
   "execution_count": 33,
   "id": "5b253234-ca71-4679-8cc3-94371adac864",
   "metadata": {},
   "outputs": [],
   "source": [
    "class test2 :\n",
    "    def __init__(self,a,b,c):\n",
    "        self.a=a\n",
    "        self.b=b\n",
    "        self.c1=c\n",
    "        \n",
    "    def meth1(self):\n",
    "        return 'This is my meth1'\n",
    "    \n",
    "    def meth2(self,n):\n",
    "        return n\n",
    "    \n",
    "    def meth3(self,m):\n",
    "        return m\n",
    "    "
   ]
  },
  {
   "cell_type": "code",
   "execution_count": 34,
   "id": "d1437609-e385-4c9a-adf8-167179954f7b",
   "metadata": {},
   "outputs": [],
   "source": [
    "a_test2 = test2('sand',32,'bandi')"
   ]
  },
  {
   "cell_type": "code",
   "execution_count": 35,
   "id": "08474e7c-4c23-47d6-9931-92c38783fff7",
   "metadata": {},
   "outputs": [],
   "source": [
    "b_test2 = test2('avinash',23,'saini')"
   ]
  },
  {
   "cell_type": "code",
   "execution_count": 36,
   "id": "ac80a097-f5aa-4a04-a799-5070400947cb",
   "metadata": {},
   "outputs": [],
   "source": [
    "c_test2 = test2('summi',45,'kumar')"
   ]
  },
  {
   "cell_type": "code",
   "execution_count": null,
   "id": "746fced6-9f35-401c-9db7-02c665da8d40",
   "metadata": {},
   "outputs": [],
   "source": [
    "#Iheritance"
   ]
  },
  {
   "cell_type": "code",
   "execution_count": 41,
   "id": "5c044875-d4f5-4d1d-929b-337d469e9d30",
   "metadata": {},
   "outputs": [],
   "source": [
    "class parent1 :\n",
    "    \n",
    "    def parent_meth(self):\n",
    "        return 'this is a parent1 method'\n",
    "    \n",
    "class parent2:\n",
    "    \n",
    "    def parent_meth2(self):\n",
    "        return 'This is a parent2 method'\n",
    "    \n",
    "class parent3:\n",
    "    \n",
    "    def parent_meth3(self):\n",
    "        return 'this is parent3 method'\n",
    "    \n",
    "    \n",
    "class child(parent1,parent2,parent3) :\n",
    "    \n",
    "    def child_meth(self):\n",
    "        return'this is child meth'\n",
    "    \n"
   ]
  },
  {
   "cell_type": "code",
   "execution_count": 42,
   "id": "be5a35f1-d212-4e4b-85db-451a8fb55bd5",
   "metadata": {},
   "outputs": [],
   "source": [
    "var_child = child()"
   ]
  },
  {
   "cell_type": "code",
   "execution_count": 43,
   "id": "0ea01bf8-ee02-478b-a4b3-7de4248885fd",
   "metadata": {},
   "outputs": [
    {
     "data": {
      "text/plain": [
       "'this is a parent1 method'"
      ]
     },
     "execution_count": 43,
     "metadata": {},
     "output_type": "execute_result"
    }
   ],
   "source": [
    "var_child.parent_meth()"
   ]
  },
  {
   "cell_type": "code",
   "execution_count": 44,
   "id": "2f4593fb-2f50-4778-b3ff-ad24e244aea6",
   "metadata": {},
   "outputs": [
    {
     "data": {
      "text/plain": [
       "'This is a parent2 method'"
      ]
     },
     "execution_count": 44,
     "metadata": {},
     "output_type": "execute_result"
    }
   ],
   "source": [
    "var_child.parent_meth2()"
   ]
  },
  {
   "cell_type": "code",
   "execution_count": 45,
   "id": "8d69cef5-2b4e-4abf-b2eb-9394abdba8b4",
   "metadata": {},
   "outputs": [],
   "source": [
    "class class1:\n",
    "    \n",
    "    def class1_meth(self):\n",
    "        return 'class1 meth'\n",
    "    \n",
    "class class2(class1):\n",
    "    \n",
    "    pass\n",
    "\n",
    "class class3(class2):\n",
    "    \n",
    "    def class3_meth(self):\n",
    "         return 'class3 meth'\n",
    "    \n"
   ]
  },
  {
   "cell_type": "code",
   "execution_count": 46,
   "id": "b210ec57-7774-4948-988b-6705e91234d3",
   "metadata": {},
   "outputs": [],
   "source": [
    "var_class3 = class3()"
   ]
  },
  {
   "cell_type": "code",
   "execution_count": 47,
   "id": "55bb392b-c6bc-40ae-bc52-7387c50016ee",
   "metadata": {},
   "outputs": [
    {
     "data": {
      "text/plain": [
       "'class1 meth'"
      ]
     },
     "execution_count": 47,
     "metadata": {},
     "output_type": "execute_result"
    }
   ],
   "source": [
    "var_class3.class1_meth()"
   ]
  },
  {
   "cell_type": "code",
   "execution_count": 19,
   "id": "60aff4e9-897b-485f-9a69-c602cb8dd875",
   "metadata": {},
   "outputs": [],
   "source": [
    "#method overriding: i am trying to redefine\n",
    "#meth name is same and arg is fixed.it will take latest one\n",
    "class test5:\n",
    "    def test(self):\n",
    "        return 'this is my  test meth'\n",
    "\n",
    "class test6:\n",
    "    def test(self):\n",
    "        return 'this is my meth from test6 class'\n",
    "    \n",
    "class test7(test5):\n",
    "    def test(self):\n",
    "        return 'this is meth from test7 class'"
   ]
  },
  {
   "cell_type": "code",
   "execution_count": 20,
   "id": "7dbab64b-90ff-4f5e-9c90-1009dfc8585d",
   "metadata": {},
   "outputs": [],
   "source": [
    "var_test7 = test7()"
   ]
  },
  {
   "cell_type": "code",
   "execution_count": 21,
   "id": "7fa17dc6-b57c-46fb-b974-eb6c717994f8",
   "metadata": {},
   "outputs": [
    {
     "data": {
      "text/plain": [
       "'this is meth from test7 class'"
      ]
     },
     "execution_count": 21,
     "metadata": {},
     "output_type": "execute_result"
    }
   ],
   "source": [
    "var_test7.test()"
   ]
  },
  {
   "cell_type": "code",
   "execution_count": 22,
   "id": "dd2ffdda-ab91-4e5d-8534-0aeefc3380cb",
   "metadata": {},
   "outputs": [],
   "source": [
    "#overloading: met\n",
    "\n",
    "class test8:\n",
    "    \n",
    "    def test(self,c = 5, b = 4, d = 7):\n",
    "        return c , b , d\n",
    "    \n"
   ]
  },
  {
   "cell_type": "code",
   "execution_count": 23,
   "id": "04ec8ee4-3a46-4054-a1da-e1b002e50ddd",
   "metadata": {},
   "outputs": [],
   "source": [
    "var_test8 = test8()"
   ]
  },
  {
   "cell_type": "code",
   "execution_count": 24,
   "id": "bc3ac7b7-a734-49c3-855e-566802afb4df",
   "metadata": {},
   "outputs": [
    {
     "data": {
      "text/plain": [
       "(5, 4, 7)"
      ]
     },
     "execution_count": 24,
     "metadata": {},
     "output_type": "execute_result"
    }
   ],
   "source": [
    "var_test8.test()"
   ]
  },
  {
   "cell_type": "code",
   "execution_count": 25,
   "id": "4b165a1e-c455-41eb-861b-772d5edbcf29",
   "metadata": {},
   "outputs": [
    {
     "data": {
      "text/plain": [
       "('sudh', 4, 7)"
      ]
     },
     "execution_count": 25,
     "metadata": {},
     "output_type": "execute_result"
    }
   ],
   "source": [
    "var_test8.test('sudh')"
   ]
  },
  {
   "cell_type": "code",
   "execution_count": 26,
   "id": "84c044f2-68f6-4ead-9a40-511eb7ea9267",
   "metadata": {},
   "outputs": [
    {
     "data": {
      "text/plain": [
       "('sudh', 'bandi', 7)"
      ]
     },
     "execution_count": 26,
     "metadata": {},
     "output_type": "execute_result"
    }
   ],
   "source": [
    "var_test8.test('sudh','bandi')"
   ]
  },
  {
   "cell_type": "code",
   "execution_count": 27,
   "id": "827c2c0a-6a66-46aa-af7a-404158d944d8",
   "metadata": {},
   "outputs": [],
   "source": [
    "#overloading is a situiation where number of arguments and data type will be different\n",
    "\n",
    "#overriding is a sutiation whree signature of the function means name and parameter will same we will just change the defination of thefunction"
   ]
  },
  {
   "cell_type": "code",
   "execution_count": null,
   "id": "851cfa43-3d8a-46d9-9dd0-ac5a56de189a",
   "metadata": {},
   "outputs": [],
   "source": []
  },
  {
   "cell_type": "code",
   "execution_count": null,
   "id": "d040c8a8-526f-4992-9bd3-aff97b5bbed6",
   "metadata": {},
   "outputs": [],
   "source": [
    "#Polymorphism - many forms "
   ]
  },
  {
   "cell_type": "code",
   "execution_count": 1,
   "id": "29e52ce2-b41f-4b1e-910d-20b4fb4806d3",
   "metadata": {},
   "outputs": [],
   "source": [
    "def test(a,b):\n",
    "    return a+b"
   ]
  },
  {
   "cell_type": "code",
   "execution_count": 2,
   "id": "e2fadf87-f437-49a0-a7af-9f8902a4350a",
   "metadata": {},
   "outputs": [
    {
     "data": {
      "text/plain": [
       "11"
      ]
     },
     "execution_count": 2,
     "metadata": {},
     "output_type": "execute_result"
    }
   ],
   "source": [
    "test(5,6)"
   ]
  },
  {
   "cell_type": "code",
   "execution_count": 4,
   "id": "8ff6e175-1557-4132-abaa-d64695231a3c",
   "metadata": {},
   "outputs": [
    {
     "data": {
      "text/plain": [
       "'sandeep Bandi'"
      ]
     },
     "execution_count": 4,
     "metadata": {},
     "output_type": "execute_result"
    }
   ],
   "source": [
    "test('sandeep ','Bandi')"
   ]
  },
  {
   "cell_type": "code",
   "execution_count": 10,
   "id": "bc3bcc67-f0e8-4603-b2a7-9edf88ad695f",
   "metadata": {},
   "outputs": [],
   "source": [
    "class test1 :\n",
    "    \n",
    "    def test(self):\n",
    "        return 'This is test1 method'\n",
    "    \n",
    "class test2 :\n",
    "    \n",
    "    def test(self):\n",
    "        return 'This is test2 method'\n",
    "    \n",
    "class test3 :\n",
    "    \n",
    "    def test(self):\n",
    "        return 'this is test3 meth'"
   ]
  },
  {
   "cell_type": "code",
   "execution_count": 11,
   "id": "e6241bf9-5d12-4409-b739-0dfb6f106b0d",
   "metadata": {},
   "outputs": [],
   "source": [
    "var_class = [test1() , test2() , test3()]"
   ]
  },
  {
   "cell_type": "code",
   "execution_count": 13,
   "id": "41b4d66c-0531-409c-97fb-bff4c7bfa008",
   "metadata": {},
   "outputs": [
    {
     "name": "stdout",
     "output_type": "stream",
     "text": [
      "This is test1 method\n",
      "This is test2 method\n",
      "this is test3 meth\n"
     ]
    }
   ],
   "source": [
    "for i in var_class:\n",
    "    print(i.test())"
   ]
  },
  {
   "cell_type": "code",
   "execution_count": null,
   "id": "5252a518-d3a2-468a-acd5-181c23363824",
   "metadata": {},
   "outputs": [],
   "source": []
  },
  {
   "cell_type": "code",
   "execution_count": null,
   "id": "dddda9c5-1686-4332-955c-8cf1314ae9e6",
   "metadata": {},
   "outputs": [],
   "source": [
    "#q1 : create a file class for reading a data from one of the file with a method name read and write\n",
    "#use logging and exception handling"
   ]
  },
  {
   "cell_type": "code",
   "execution_count": 38,
   "id": "5825dea1-bec7-452e-9f72-536740285f4c",
   "metadata": {},
   "outputs": [],
   "source": [
    "import logging\n",
    "\n",
    "logging.basicConfig(filename='task.log' , level=logging.DEBUG , filemode='w', format='%(asctime)s - %(levelname)s - %(message)s')\n",
    "\n",
    "class File:\n",
    "    \n",
    "    def __init__(self , filename):\n",
    "        self.filename = filename\n",
    "    \n",
    "    def read(self):\n",
    "        \n",
    "        logging.info('This is start of read Operation ')\n",
    "        try :\n",
    "            logging.info('I am inside try block of read method')\n",
    "            \n",
    "            with open(self.filename,'r') as file:\n",
    "                data = file.read()\n",
    "                return data\n",
    "        except Exception as e :\n",
    "            logging.error('Error Occured of read filoe operation ')\n",
    "            logging.exception('Exception happend' + str(e))\n",
    "            \n",
    "    def write(self,data1):\n",
    "        \n",
    "        logging.info('This is start of write Operation ')\n",
    "        try:\n",
    "            logging.info('I am inside try block of write method')\n",
    "            with open(self.filename,'a') as file:\n",
    "                data = file.write(data1)   \n",
    "                logging.info('I am able to write a data into the file check the file ')\n",
    "        except Exception as e :\n",
    "            logging.error('Error Occured write filoe operation ')\n",
    "            logging.exception('exception happend' + str(e))"
   ]
  },
  {
   "cell_type": "code",
   "execution_count": 39,
   "id": "a6339f31-4e37-4b78-81ee-7a4d52fe1d29",
   "metadata": {},
   "outputs": [],
   "source": [
    "obj = File(\"task.txt\")"
   ]
  },
  {
   "cell_type": "code",
   "execution_count": 40,
   "id": "d722b1d3-f6af-4ec6-8be5-ecf03f9d6092",
   "metadata": {},
   "outputs": [
    {
     "data": {
      "text/plain": [
       "'Hello Sandeep'"
      ]
     },
     "execution_count": 40,
     "metadata": {},
     "output_type": "execute_result"
    }
   ],
   "source": [
    "obj.read()"
   ]
  },
  {
   "cell_type": "code",
   "execution_count": 41,
   "id": "9092dd7e-b983-4be4-89aa-44c35a6cbba0",
   "metadata": {},
   "outputs": [],
   "source": [
    "obj.write('Hello Sandeep')"
   ]
  },
  {
   "cell_type": "markdown",
   "id": "35c2ef2e-f87e-4ebd-8078-5a8a04e934d7",
   "metadata": {},
   "source": [
    "# Task"
   ]
  },
  {
   "cell_type": "code",
   "execution_count": null,
   "id": "18d3627a-1895-48de-95dd-fe65beb9c8a6",
   "metadata": {},
   "outputs": [],
   "source": [
    "q1 : create your own class to perfoem a list search operation\n",
    "q2. create  class to dict new element addition\n",
    "q3. craete  class to perfoem a tuple data extraction operation\n",
    "q4. craete  class to implement all insert , update , delete operation of mysql\n",
    "q5. craete  class to implement all insert , update , delete operation of mongodb\n",
    "q6. craete a class to perform to append and delete operation in file and inhert it in child class\n",
    "q7. create a class import data into file from mongo db\n",
    "q8. craete a class to build calculator functionlities add , sub , mul , div, log , exp, pow\n",
    "q9. craete a class method to find a time and space complexcity of any function\n",
    "q10. create a class to do a bulk upload of a file in mysql\n",
    "q11. Give 10 diff examples of polymorphism , encapsulation , data abstarction , overloading , overriding , multiple inheritance\n",
    "q12. try to explore a meaning of '->' this signature in python\n",
    "\n",
    "complete this task befire nex class\n"
   ]
  }
 ],
 "metadata": {
  "kernelspec": {
   "display_name": "Python 3 (ipykernel)",
   "language": "python",
   "name": "python3"
  },
  "language_info": {
   "codemirror_mode": {
    "name": "ipython",
    "version": 3
   },
   "file_extension": ".py",
   "mimetype": "text/x-python",
   "name": "python",
   "nbconvert_exporter": "python",
   "pygments_lexer": "ipython3",
   "version": "3.10.6"
  }
 },
 "nbformat": 4,
 "nbformat_minor": 5
}
