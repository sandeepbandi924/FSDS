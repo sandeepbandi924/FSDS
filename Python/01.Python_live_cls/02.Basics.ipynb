{
 "cells": [
  {
   "cell_type": "markdown",
   "id": "3ac8e4d2-26ba-4c51-a954-539e25fa7447",
   "metadata": {},
   "source": [
    "## Variable case sensitivity"
   ]
  },
  {
   "cell_type": "code",
   "execution_count": 1,
   "id": "c34709b3-3aaf-4dc4-ba28-8202760ca580",
   "metadata": {},
   "outputs": [],
   "source": [
    "Ten = 10\n",
    "ten = 10\n",
    "\n",
    "# Ten an dten are both are different in terms of lowercase and upper case"
   ]
  },
  {
   "cell_type": "markdown",
   "id": "d89d4a1f-0f63-4329-a5f2-a65e6371bf20",
   "metadata": {},
   "source": [
    "## Reserved words in python\n",
    "We should not use reserved words as variables names\n",
    "\n",
    "Also python doesn't restrict the user to use reserved keywords"
   ]
  },
  {
   "cell_type": "code",
   "execution_count": 2,
   "id": "ca44874d-22dc-492a-bf35-51706603ea11",
   "metadata": {},
   "outputs": [
    {
     "name": "stdout",
     "output_type": "stream",
     "text": [
      "Hari Om\n"
     ]
    }
   ],
   "source": [
    "print('Hari Om')"
   ]
  },
  {
   "cell_type": "code",
   "execution_count": 5,
   "id": "20ffeaca-80eb-4893-8897-26b3ab7cecdb",
   "metadata": {},
   "outputs": [
    {
     "data": {
      "text/plain": [
       "str"
      ]
     },
     "execution_count": 5,
     "metadata": {},
     "output_type": "execute_result"
    }
   ],
   "source": [
    "print = 'Hari om' # as a variable\n",
    "type(print)"
   ]
  },
  {
   "cell_type": "code",
   "execution_count": 6,
   "id": "2eae68ea-7239-4b68-b5ce-cd01d014319a",
   "metadata": {},
   "outputs": [],
   "source": [
    "del print #delete print variable"
   ]
  },
  {
   "cell_type": "code",
   "execution_count": 7,
   "id": "f56a5cca-49c1-43b5-8828-033ee9c99000",
   "metadata": {},
   "outputs": [
    {
     "name": "stdout",
     "output_type": "stream",
     "text": [
      "Om\n"
     ]
    }
   ],
   "source": [
    "print('Om')"
   ]
  },
  {
   "cell_type": "markdown",
   "id": "4fdab552-cdb2-437e-84e8-5d39e0c5b875",
   "metadata": {},
   "source": [
    "## Multi assignment of variables"
   ]
  },
  {
   "cell_type": "code",
   "execution_count": 12,
   "id": "94bb5689-6276-4c71-acc4-9d48ec85a2ac",
   "metadata": {},
   "outputs": [],
   "source": [
    "a , b , c , d = 12,15,'sand', False"
   ]
  },
  {
   "cell_type": "code",
   "execution_count": 13,
   "id": "07e9be8d-0b47-491e-a8b0-b3fabaae316d",
   "metadata": {},
   "outputs": [
    {
     "data": {
      "text/plain": [
       "int"
      ]
     },
     "execution_count": 13,
     "metadata": {},
     "output_type": "execute_result"
    }
   ],
   "source": [
    "type(a)"
   ]
  },
  {
   "cell_type": "code",
   "execution_count": 14,
   "id": "1a07d957-528c-4262-b290-ecf6aeaa5d6c",
   "metadata": {},
   "outputs": [
    {
     "data": {
      "text/plain": [
       "str"
      ]
     },
     "execution_count": 14,
     "metadata": {},
     "output_type": "execute_result"
    }
   ],
   "source": [
    "type(c)"
   ]
  },
  {
   "cell_type": "code",
   "execution_count": 15,
   "id": "29a48416-07fa-452d-8ea4-c26ac2c03a5b",
   "metadata": {},
   "outputs": [
    {
     "data": {
      "text/plain": [
       "bool"
      ]
     },
     "execution_count": 15,
     "metadata": {},
     "output_type": "execute_result"
    }
   ],
   "source": [
    "type(d)"
   ]
  },
  {
   "cell_type": "code",
   "execution_count": 16,
   "id": "3af20485-5072-42b7-9f26-659a23179468",
   "metadata": {},
   "outputs": [],
   "source": [
    "a , A , c , C = 12,15,'sand', False"
   ]
  },
  {
   "cell_type": "code",
   "execution_count": 17,
   "id": "5dff136b-f270-42e0-8720-7c6a09eb1da9",
   "metadata": {},
   "outputs": [
    {
     "name": "stdout",
     "output_type": "stream",
     "text": [
      "12 15 sand False\n"
     ]
    }
   ],
   "source": [
    "print(a , A , c , C)"
   ]
  },
  {
   "cell_type": "code",
   "execution_count": 18,
   "id": "547a5d8e-2778-459e-ac72-9fae3e033b93",
   "metadata": {},
   "outputs": [],
   "source": [
    "a = b = c = 10"
   ]
  },
  {
   "cell_type": "code",
   "execution_count": 20,
   "id": "2cbbd986-522d-468d-bcb4-40db0a1e1295",
   "metadata": {},
   "outputs": [
    {
     "name": "stdout",
     "output_type": "stream",
     "text": [
      "10 10 10\n"
     ]
    }
   ],
   "source": [
    "print(a,b,c)"
   ]
  },
  {
   "cell_type": "markdown",
   "id": "967b05af-b44b-4b43-8b64-056250332007",
   "metadata": {},
   "source": [
    "## User Input"
   ]
  },
  {
   "cell_type": "code",
   "execution_count": 22,
   "id": "f55caf29-dbbf-4568-9490-ce31c853b8c6",
   "metadata": {},
   "outputs": [
    {
     "name": "stdin",
     "output_type": "stream",
     "text": [
      "Enter your name:  1234\n"
     ]
    },
    {
     "name": "stdout",
     "output_type": "stream",
     "text": [
      "you have entered:1234\n"
     ]
    }
   ],
   "source": [
    "name = input('Enter your name: ')\n",
    "print(f'you have entered:{name}')"
   ]
  },
  {
   "cell_type": "code",
   "execution_count": 23,
   "id": "5e191cd3-c032-4354-a299-337918524e59",
   "metadata": {},
   "outputs": [
    {
     "name": "stdin",
     "output_type": "stream",
     "text": [
      "Enter value of A:  12\n",
      "Enter value of B:  45\n"
     ]
    },
    {
     "name": "stdout",
     "output_type": "stream",
     "text": [
      "Sum of A and B is 1245\n"
     ]
    }
   ],
   "source": [
    "A = input('Enter value of A: ')\n",
    "B = input('Enter value of B: ')\n",
    "print(f'Sum of A and B is {A+B}')"
   ]
  },
  {
   "cell_type": "code",
   "execution_count": 24,
   "id": "6eeb7ba8-5bb1-45ff-9487-546cf4591286",
   "metadata": {},
   "outputs": [
    {
     "name": "stdin",
     "output_type": "stream",
     "text": [
      "Enter value of A:  12\n",
      "Enter value of B:  45\n"
     ]
    },
    {
     "name": "stdout",
     "output_type": "stream",
     "text": [
      "<class 'str'> <class 'str'>\n",
      "Sum of A and B is 1245\n"
     ]
    }
   ],
   "source": [
    "A = input('Enter value of A: ')\n",
    "B = input('Enter value of B: ')\n",
    "print(type(A),type(B))"
   ]
  },
  {
   "cell_type": "code",
   "execution_count": 25,
   "id": "feb26b2d-62d0-48d6-ba14-5cb28b705870",
   "metadata": {},
   "outputs": [
    {
     "name": "stdin",
     "output_type": "stream",
     "text": [
      "Enter value of A:  12\n",
      "Enter value of B:  45\n"
     ]
    },
    {
     "name": "stdout",
     "output_type": "stream",
     "text": [
      "<class 'int'> <class 'int'>\n",
      "Sum of A and B is 57\n"
     ]
    }
   ],
   "source": [
    "A = int(input('Enter value of A: '))\n",
    "B = int(input('Enter value of B: '))\n",
    "print(type(A),type(B))\n",
    "print(f'Sum of A and B is {A+B}')"
   ]
  },
  {
   "cell_type": "code",
   "execution_count": 26,
   "id": "5d174eb9-9b7e-4696-9b2b-84d10f766b9f",
   "metadata": {},
   "outputs": [
    {
     "name": "stdin",
     "output_type": "stream",
     "text": [
      "Enter value of A:  12.2\n"
     ]
    },
    {
     "ename": "ValueError",
     "evalue": "invalid literal for int() with base 10: '12.2'",
     "output_type": "error",
     "traceback": [
      "\u001b[0;31m---------------------------------------------------------------------------\u001b[0m",
      "\u001b[0;31mValueError\u001b[0m                                Traceback (most recent call last)",
      "Cell \u001b[0;32mIn [26], line 1\u001b[0m\n\u001b[0;32m----> 1\u001b[0m A \u001b[38;5;241m=\u001b[39m \u001b[38;5;28;43mint\u001b[39;49m\u001b[43m(\u001b[49m\u001b[38;5;28;43minput\u001b[39;49m\u001b[43m(\u001b[49m\u001b[38;5;124;43m'\u001b[39;49m\u001b[38;5;124;43mEnter value of A: \u001b[39;49m\u001b[38;5;124;43m'\u001b[39;49m\u001b[43m)\u001b[49m\u001b[43m)\u001b[49m\n\u001b[1;32m      2\u001b[0m B \u001b[38;5;241m=\u001b[39m \u001b[38;5;28mint\u001b[39m(\u001b[38;5;28minput\u001b[39m(\u001b[38;5;124m'\u001b[39m\u001b[38;5;124mEnter value of B: \u001b[39m\u001b[38;5;124m'\u001b[39m))\n\u001b[1;32m      3\u001b[0m \u001b[38;5;28mprint\u001b[39m(\u001b[38;5;28mtype\u001b[39m(A),\u001b[38;5;28mtype\u001b[39m(B))\n",
      "\u001b[0;31mValueError\u001b[0m: invalid literal for int() with base 10: '12.2'"
     ]
    }
   ],
   "source": [
    "A = int(input('Enter value of A: '))\n",
    "B = int(input('Enter value of B: '))\n",
    "print(type(A),type(B))\n",
    "print(f'Sum of A and B is {A+B}')"
   ]
  },
  {
   "cell_type": "code",
   "execution_count": 27,
   "id": "d8107b6b-a05f-4918-bb18-f55c8804b66c",
   "metadata": {},
   "outputs": [
    {
     "name": "stdin",
     "output_type": "stream",
     "text": [
      "Enter value of A:  12.25\n",
      "Enter value of B:  45.21\n"
     ]
    },
    {
     "name": "stdout",
     "output_type": "stream",
     "text": [
      "<class 'float'> <class 'float'>\n",
      "Sum of A and B is 57.46\n"
     ]
    }
   ],
   "source": [
    "A = float(input('Enter value of A: '))\n",
    "B = float(input('Enter value of B: '))\n",
    "print(type(A),type(B))\n",
    "print(f'Sum of A and B is {A+B}')"
   ]
  },
  {
   "cell_type": "markdown",
   "id": "47ecca2b-5308-4b59-8e82-2e3f4f463008",
   "metadata": {},
   "source": [
    "## Type conversion \n",
    "we can convert the data type of one variable to another variable which are allowed"
   ]
  },
  {
   "cell_type": "code",
   "execution_count": 28,
   "id": "01a83e7d-abd3-44b7-9409-a9c61d5221da",
   "metadata": {},
   "outputs": [
    {
     "name": "stdout",
     "output_type": "stream",
     "text": [
      "Data Type before:<class 'str'>\n",
      "Data Type After:<class 'int'>\n"
     ]
    }
   ],
   "source": [
    "# String to Integer\n",
    "\n",
    "A = \"50\"\n",
    "print(f\"Data Type before:{type(A)}\")\n",
    "A = int(\"50\")\n",
    "print(f\"Data Type After:{type(A)}\")"
   ]
  },
  {
   "cell_type": "code",
   "execution_count": 31,
   "id": "5deed0e7-d00f-469c-8a9f-013f512a92a5",
   "metadata": {},
   "outputs": [
    {
     "name": "stdout",
     "output_type": "stream",
     "text": [
      "Data Type before:<class 'str'>\n"
     ]
    },
    {
     "ename": "ValueError",
     "evalue": "invalid literal for int() with base 10: '50.22'",
     "output_type": "error",
     "traceback": [
      "\u001b[0;31m---------------------------------------------------------------------------\u001b[0m",
      "\u001b[0;31mValueError\u001b[0m                                Traceback (most recent call last)",
      "Cell \u001b[0;32mIn [31], line 5\u001b[0m\n\u001b[1;32m      3\u001b[0m A \u001b[38;5;241m=\u001b[39m \u001b[38;5;124m\"\u001b[39m\u001b[38;5;124m50.22\u001b[39m\u001b[38;5;124m\"\u001b[39m\n\u001b[1;32m      4\u001b[0m \u001b[38;5;28mprint\u001b[39m(\u001b[38;5;124mf\u001b[39m\u001b[38;5;124m\"\u001b[39m\u001b[38;5;124mData Type before:\u001b[39m\u001b[38;5;132;01m{\u001b[39;00m\u001b[38;5;28mtype\u001b[39m(A)\u001b[38;5;132;01m}\u001b[39;00m\u001b[38;5;124m\"\u001b[39m)\n\u001b[0;32m----> 5\u001b[0m A \u001b[38;5;241m=\u001b[39m \u001b[38;5;28;43mint\u001b[39;49m\u001b[43m(\u001b[49m\u001b[43mA\u001b[49m\u001b[43m)\u001b[49m\n\u001b[1;32m      6\u001b[0m \u001b[38;5;28mprint\u001b[39m(\u001b[38;5;124mf\u001b[39m\u001b[38;5;124m\"\u001b[39m\u001b[38;5;124mData Type After:\u001b[39m\u001b[38;5;132;01m{\u001b[39;00m\u001b[38;5;28mtype\u001b[39m(A)\u001b[38;5;132;01m}\u001b[39;00m\u001b[38;5;124m\"\u001b[39m)\n",
      "\u001b[0;31mValueError\u001b[0m: invalid literal for int() with base 10: '50.22'"
     ]
    }
   ],
   "source": [
    "# String to Float\n",
    "\n",
    "A = \"50.22\"\n",
    "print(f\"Data Type before:{type(A)}\")\n",
    "A = int(A) #convert to integer\n",
    "print(f\"Data Type After:{type(A)}\")"
   ]
  },
  {
   "cell_type": "code",
   "execution_count": 32,
   "id": "49fa5326-e318-46b7-bfb0-119083f71b61",
   "metadata": {},
   "outputs": [
    {
     "name": "stdout",
     "output_type": "stream",
     "text": [
      "Data Type before:<class 'float'>\n",
      "Data Type After:<class 'int'>\n"
     ]
    }
   ],
   "source": [
    "# float to Integer\n",
    "\n",
    "A = 50.22\n",
    "print(f\"Data Type before:{type(A)}\")\n",
    "A = int(A)\n",
    "print(f\"Data Type After:{type(A)}\")"
   ]
  },
  {
   "cell_type": "code",
   "execution_count": 35,
   "id": "aec0eaad-b414-4403-a8fa-926b5e0046f9",
   "metadata": {},
   "outputs": [
    {
     "name": "stdout",
     "output_type": "stream",
     "text": [
      "Data Type before:<class 'int'>,value:50\n",
      "Data Type After:<class 'float'>,value:50.0\n"
     ]
    }
   ],
   "source": [
    "# float to Integer\n",
    "\n",
    "A = 50\n",
    "print(f\"Data Type before:{type(A)},value:{A}\")\n",
    "A = float(A)\n",
    "print(f\"Data Type After:{type(A)},value:{A}\")"
   ]
  },
  {
   "cell_type": "code",
   "execution_count": 36,
   "id": "9895136e-2462-4c30-81e4-2fd9286e7a8d",
   "metadata": {},
   "outputs": [
    {
     "name": "stdout",
     "output_type": "stream",
     "text": [
      "Data Type before:<class 'int'>,value:10\n",
      "Data Type After:<class 'bool'>,value:True\n"
     ]
    }
   ],
   "source": [
    "# Integer to Boolean\n",
    "\n",
    "A = 10\n",
    "print(f\"Data Type before:{type(A)},value:{A}\")\n",
    "A = bool(A)\n",
    "print(f\"Data Type After:{type(A)},value:{A}\")"
   ]
  },
  {
   "cell_type": "code",
   "execution_count": 37,
   "id": "6d486e59-86f4-4bca-aa83-ba030a308dfa",
   "metadata": {},
   "outputs": [
    {
     "name": "stdout",
     "output_type": "stream",
     "text": [
      "Data Type before:<class 'int'>,value:0\n",
      "Data Type After:<class 'bool'>,value:False\n"
     ]
    }
   ],
   "source": [
    "# Integer to Boolean\n",
    "\n",
    "A = 0\n",
    "print(f\"Data Type before:{type(A)},value:{A}\")\n",
    "A = bool(A)\n",
    "print(f\"Data Type After:{type(A)},value:{A}\")"
   ]
  },
  {
   "cell_type": "code",
   "execution_count": 39,
   "id": "0801b81a-f440-4ff9-8da9-967f9540af6d",
   "metadata": {},
   "outputs": [
    {
     "name": "stdout",
     "output_type": "stream",
     "text": [
      "Data Type before:<class 'int'>,value:-5\n",
      "Data Type After:<class 'bool'>,value:True\n"
     ]
    }
   ],
   "source": [
    "# Integer to Boolean\n",
    "\n",
    "A = -5\n",
    "print(f\"Data Type before:{type(A)},value:{A}\")\n",
    "A = bool(A)\n",
    "print(f\"Data Type After:{type(A)},value:{A}\")"
   ]
  },
  {
   "cell_type": "code",
   "execution_count": 40,
   "id": "773e4c2b-fe00-47a0-95c3-de2665af1649",
   "metadata": {},
   "outputs": [
    {
     "name": "stdout",
     "output_type": "stream",
     "text": [
      "Data Type before:<class 'str'>,value:Sand\n",
      "Data Type After:<class 'bool'>,value:True\n"
     ]
    }
   ],
   "source": [
    "# String to Boolean\n",
    "\n",
    "A = 'Sand'\n",
    "print(f\"Data Type before:{type(A)},value:{A}\")\n",
    "A = bool(A)\n",
    "print(f\"Data Type After:{type(A)},value:{A}\")"
   ]
  },
  {
   "cell_type": "code",
   "execution_count": 41,
   "id": "8884bc38-63b2-446a-b92e-6fffcb1497a9",
   "metadata": {},
   "outputs": [
    {
     "name": "stdout",
     "output_type": "stream",
     "text": [
      "Data Type before:<class 'str'>,value:True\n",
      "Data Type After:<class 'bool'>,value:True\n"
     ]
    }
   ],
   "source": [
    "# String to Boolean\n",
    "\n",
    "A = 'True'\n",
    "print(f\"Data Type before:{type(A)},value:{A}\")\n",
    "A = bool(A)\n",
    "print(f\"Data Type After:{type(A)},value:{A}\")"
   ]
  },
  {
   "cell_type": "code",
   "execution_count": 43,
   "id": "44560001-8295-4e67-94ec-9778b7f54743",
   "metadata": {},
   "outputs": [
    {
     "name": "stdout",
     "output_type": "stream",
     "text": [
      "Data Type before:<class 'str'>,value:False\n",
      "Data Type After:<class 'bool'>,value:True\n"
     ]
    }
   ],
   "source": [
    "# String to Boolean\n",
    "\n",
    "A = 'False'\n",
    "print(f\"Data Type before:{type(A)},value:{A}\")\n",
    "A = bool(A)\n",
    "print(f\"Data Type After:{type(A)},value:{A}\")"
   ]
  },
  {
   "cell_type": "code",
   "execution_count": 44,
   "id": "c2830134-036b-4491-be78-45c1c06d347a",
   "metadata": {},
   "outputs": [
    {
     "name": "stdout",
     "output_type": "stream",
     "text": [
      "Data Type before:<class 'str'>,value:\n",
      "Data Type After:<class 'bool'>,value:False\n"
     ]
    }
   ],
   "source": [
    "# Empty String to Boolean\n",
    "\n",
    "A = ''\n",
    "print(f\"Data Type before:{type(A)},value:{A}\")\n",
    "A = bool(A)\n",
    "print(f\"Data Type After:{type(A)},value:{A}\")"
   ]
  },
  {
   "cell_type": "code",
   "execution_count": 49,
   "id": "c10a8b25-306e-4502-85ae-bfe465b17780",
   "metadata": {},
   "outputs": [
    {
     "name": "stdout",
     "output_type": "stream",
     "text": [
      "Data Type before:<class 'str'>,value: \n",
      "Data Type After:<class 'bool'>,value:True\n"
     ]
    }
   ],
   "source": [
    "# Empty Space String to Boolean\n",
    "\n",
    "A = ' '\n",
    "print(f\"Data Type before:{type(A)},value:{A}\")\n",
    "A = bool(A)\n",
    "print(f\"Data Type After:{type(A)},value:{A}\")"
   ]
  },
  {
   "cell_type": "code",
   "execution_count": 45,
   "id": "63eb454e-68a7-4a61-a340-ab3c39c073f4",
   "metadata": {},
   "outputs": [
    {
     "name": "stdout",
     "output_type": "stream",
     "text": [
      "Data Type before:<class 'str'>,value:\n"
     ]
    },
    {
     "ename": "ValueError",
     "evalue": "invalid literal for int() with base 10: ''",
     "output_type": "error",
     "traceback": [
      "\u001b[0;31m---------------------------------------------------------------------------\u001b[0m",
      "\u001b[0;31mValueError\u001b[0m                                Traceback (most recent call last)",
      "Cell \u001b[0;32mIn [45], line 5\u001b[0m\n\u001b[1;32m      3\u001b[0m A \u001b[38;5;241m=\u001b[39m \u001b[38;5;124m'\u001b[39m\u001b[38;5;124m'\u001b[39m\n\u001b[1;32m      4\u001b[0m \u001b[38;5;28mprint\u001b[39m(\u001b[38;5;124mf\u001b[39m\u001b[38;5;124m\"\u001b[39m\u001b[38;5;124mData Type before:\u001b[39m\u001b[38;5;132;01m{\u001b[39;00m\u001b[38;5;28mtype\u001b[39m(A)\u001b[38;5;132;01m}\u001b[39;00m\u001b[38;5;124m,value:\u001b[39m\u001b[38;5;132;01m{\u001b[39;00mA\u001b[38;5;132;01m}\u001b[39;00m\u001b[38;5;124m\"\u001b[39m)\n\u001b[0;32m----> 5\u001b[0m A \u001b[38;5;241m=\u001b[39m \u001b[38;5;28;43mint\u001b[39;49m\u001b[43m(\u001b[49m\u001b[43mA\u001b[49m\u001b[43m)\u001b[49m\n\u001b[1;32m      6\u001b[0m \u001b[38;5;28mprint\u001b[39m(\u001b[38;5;124mf\u001b[39m\u001b[38;5;124m\"\u001b[39m\u001b[38;5;124mData Type After:\u001b[39m\u001b[38;5;132;01m{\u001b[39;00m\u001b[38;5;28mtype\u001b[39m(A)\u001b[38;5;132;01m}\u001b[39;00m\u001b[38;5;124m,value:\u001b[39m\u001b[38;5;132;01m{\u001b[39;00mA\u001b[38;5;132;01m}\u001b[39;00m\u001b[38;5;124m\"\u001b[39m)\n",
      "\u001b[0;31mValueError\u001b[0m: invalid literal for int() with base 10: ''"
     ]
    }
   ],
   "source": [
    "# Empty String to integer\n",
    "\n",
    "A = ''\n",
    "print(f\"Data Type before:{type(A)},value:{A}\")\n",
    "A = int(A)\n",
    "print(f\"Data Type After:{type(A)},value:{A}\")"
   ]
  },
  {
   "cell_type": "code",
   "execution_count": null,
   "id": "cdef6ac8-4f96-40bb-9c99-8eb4d8fdb596",
   "metadata": {},
   "outputs": [],
   "source": []
  },
  {
   "cell_type": "code",
   "execution_count": 47,
   "id": "8d452f11-cc86-4f9c-bdba-dbbf3aa6c2b1",
   "metadata": {},
   "outputs": [
    {
     "name": "stdin",
     "output_type": "stream",
     "text": [
      "name:  Sandeep\n",
      "DOB:  1998\n"
     ]
    },
    {
     "name": "stdout",
     "output_type": "stream",
     "text": [
      "Sandeep is age of 25\n"
     ]
    }
   ],
   "source": [
    "# Calculate age of the user\n",
    "name = input('name: ')\n",
    "year_of_birth = int(input('DOB: '))\n",
    "age = 2023 - year_of_birth\n",
    "print(f\"{name} is age of {age}\")"
   ]
  },
  {
   "cell_type": "markdown",
   "id": "07d86fa4-d774-4bdf-a8ac-3568c7ceea9d",
   "metadata": {},
   "source": [
    "## Memory Block"
   ]
  },
  {
   "cell_type": "code",
   "execution_count": 51,
   "id": "07ab74f3-ec83-43d6-8f1f-c473f79e2a60",
   "metadata": {},
   "outputs": [],
   "source": [
    "a = 22\n",
    "b = 34\n",
    "c = 22"
   ]
  },
  {
   "cell_type": "code",
   "execution_count": 52,
   "id": "ec2cf448-0d92-43be-b858-1d655d5053b3",
   "metadata": {},
   "outputs": [
    {
     "data": {
      "text/plain": [
       "140520501625744"
      ]
     },
     "execution_count": 52,
     "metadata": {},
     "output_type": "execute_result"
    }
   ],
   "source": [
    "id(a) #memory address"
   ]
  },
  {
   "cell_type": "code",
   "execution_count": 53,
   "id": "706c2a14-8f16-46fd-9165-dd4e78c3e037",
   "metadata": {},
   "outputs": [
    {
     "data": {
      "text/plain": [
       "140520501626128"
      ]
     },
     "execution_count": 53,
     "metadata": {},
     "output_type": "execute_result"
    }
   ],
   "source": [
    "id(b)"
   ]
  },
  {
   "cell_type": "code",
   "execution_count": 54,
   "id": "20001a2d-a165-4cee-b094-d17eb05f3556",
   "metadata": {},
   "outputs": [
    {
     "data": {
      "text/plain": [
       "140520501625744"
      ]
     },
     "execution_count": 54,
     "metadata": {},
     "output_type": "execute_result"
    }
   ],
   "source": [
    "id(c)"
   ]
  },
  {
   "cell_type": "code",
   "execution_count": 55,
   "id": "93befcb8-6a03-420f-8fc0-fb5f930c8b50",
   "metadata": {},
   "outputs": [],
   "source": [
    "c = 22 + b\n"
   ]
  },
  {
   "cell_type": "code",
   "execution_count": 56,
   "id": "70c8ca65-3cb8-4962-a5b0-9ddbb3ccb38f",
   "metadata": {},
   "outputs": [
    {
     "data": {
      "text/plain": [
       "140520501626832"
      ]
     },
     "execution_count": 56,
     "metadata": {},
     "output_type": "execute_result"
    }
   ],
   "source": [
    "id(c)"
   ]
  },
  {
   "cell_type": "code",
   "execution_count": 57,
   "id": "75edabb4-f13e-47f4-bf0c-26d230667b22",
   "metadata": {},
   "outputs": [
    {
     "data": {
      "text/plain": [
       "140520501625744"
      ]
     },
     "execution_count": 57,
     "metadata": {},
     "output_type": "execute_result"
    }
   ],
   "source": [
    "a = 22\n",
    "id(a)"
   ]
  },
  {
   "cell_type": "code",
   "execution_count": 58,
   "id": "9df05991-a2fe-4e01-97e4-e9f3f6a61076",
   "metadata": {},
   "outputs": [
    {
     "data": {
      "text/plain": [
       "140520501628208"
      ]
     },
     "execution_count": 58,
     "metadata": {},
     "output_type": "execute_result"
    }
   ],
   "source": [
    "a = 99\n",
    "id(a)"
   ]
  },
  {
   "cell_type": "markdown",
   "id": "e4c49ec3-7b50-465e-8548-30b96f3713bb",
   "metadata": {},
   "source": [
    "Memory is assigned to the value of variable passed not the variable name"
   ]
  },
  {
   "cell_type": "code",
   "execution_count": 59,
   "id": "fb8631c8-3c87-4c33-934a-9bb773502b0f",
   "metadata": {},
   "outputs": [
    {
     "name": "stdout",
     "output_type": "stream",
     "text": [
      "140520501625744 140520501626128 140520501625744\n"
     ]
    }
   ],
   "source": [
    "a = 22\n",
    "b = 34\n",
    "c = 22\n",
    "print(id(a),id(b),id(c))"
   ]
  },
  {
   "cell_type": "code",
   "execution_count": 60,
   "id": "1dd7a3dd-fbc9-4825-9fd8-4bf760ab8f76",
   "metadata": {},
   "outputs": [
    {
     "name": "stdout",
     "output_type": "stream",
     "text": [
      "140520497381680 140520501626128 140520497381680\n"
     ]
    }
   ],
   "source": [
    "a = 'san'\n",
    "b = 34\n",
    "c = 'san'\n",
    "print(id(a),id(b),id(c))"
   ]
  },
  {
   "cell_type": "code",
   "execution_count": 61,
   "id": "a6dda496-bf93-4887-a7b4-1147fd9c1d6b",
   "metadata": {},
   "outputs": [
    {
     "name": "stdout",
     "output_type": "stream",
     "text": [
      "140520501625744 140520501626128 140520005451600\n"
     ]
    }
   ],
   "source": [
    "a = 22\n",
    "b = 34\n",
    "c = 22.0\n",
    "print(id(a),id(b),id(c))"
   ]
  },
  {
   "cell_type": "markdown",
   "id": "fd813308-d132-4a6f-8499-cb04213656cc",
   "metadata": {},
   "source": [
    "# Operators"
   ]
  },
  {
   "cell_type": "code",
   "execution_count": null,
   "id": "62dfccaf-001b-4886-82f1-7d4cc78170d5",
   "metadata": {},
   "outputs": [],
   "source": []
  }
 ],
 "metadata": {
  "kernelspec": {
   "display_name": "Python 3 (ipykernel)",
   "language": "python",
   "name": "python3"
  },
  "language_info": {
   "codemirror_mode": {
    "name": "ipython",
    "version": 3
   },
   "file_extension": ".py",
   "mimetype": "text/x-python",
   "name": "python",
   "nbconvert_exporter": "python",
   "pygments_lexer": "ipython3",
   "version": "3.10.6"
  }
 },
 "nbformat": 4,
 "nbformat_minor": 5
}
