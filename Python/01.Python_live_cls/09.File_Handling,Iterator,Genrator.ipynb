{
 "cells": [
  {
   "cell_type": "markdown",
   "id": "e1a19fff-6c0b-42f2-91d9-6f8a831ce70f",
   "metadata": {},
   "source": [
    "# File handling"
   ]
  },
  {
   "cell_type": "code",
   "execution_count": 3,
   "id": "3fd67b5f-1a7e-4822-82c1-5b911a940a11",
   "metadata": {},
   "outputs": [
    {
     "name": "stdout",
     "output_type": "stream",
     "text": [
      " 01.Basics.ipynb                    07.Functions2.ipynb\n",
      " 02.Basics.ipynb                    07.Functions3.ipynb\n",
      " 03.Conditions,Operators.ipynb      07.Functions.ipynb\n",
      " 04.String_Methods.ipynb            08.Exception_Handling.ipynb\n",
      " 05.Control_flow_staements.ipynb    09.File_Handling,Iterator,Genrator.ipynb\n",
      " 06.Python_list1.ipynb             'sample Resume11.docx'\n",
      " 06.Python_list2,tuple,dict.ipynb\n"
     ]
    }
   ],
   "source": [
    "%ls"
   ]
  },
  {
   "cell_type": "code",
   "execution_count": 4,
   "id": "5a346a8f-f43a-461a-9705-63ff9aec4e2d",
   "metadata": {},
   "outputs": [
    {
     "data": {
      "text/plain": [
       "'/home/jovyan/work/Python_Basics'"
      ]
     },
     "execution_count": 4,
     "metadata": {},
     "output_type": "execute_result"
    }
   ],
   "source": [
    "pwd()"
   ]
  },
  {
   "cell_type": "code",
   "execution_count": 5,
   "id": "51a04bce-b69e-4b7e-8540-9c56d838c4bc",
   "metadata": {},
   "outputs": [],
   "source": [
    "#used to open file\n",
    "f = open('test.txt')"
   ]
  },
  {
   "cell_type": "code",
   "execution_count": 6,
   "id": "03c9c658-0347-4d84-902a-ac948394d226",
   "metadata": {},
   "outputs": [
    {
     "data": {
      "text/plain": [
       "_io.TextIOWrapper"
      ]
     },
     "execution_count": 6,
     "metadata": {},
     "output_type": "execute_result"
    }
   ],
   "source": [
    "type(f)"
   ]
  },
  {
   "cell_type": "code",
   "execution_count": 9,
   "id": "6eb8ba94-8fbd-440b-95c0-a08ab463ff59",
   "metadata": {},
   "outputs": [],
   "source": [
    "f.close()"
   ]
  },
  {
   "cell_type": "code",
   "execution_count": 10,
   "id": "22ebae73-24a0-4108-befb-074a5d404815",
   "metadata": {},
   "outputs": [],
   "source": [
    "#f=open(r'C:/users/sand/dounload/text.txt','r') from local by giving path"
   ]
  },
  {
   "cell_type": "code",
   "execution_count": 11,
   "id": "2a1dfa1a-2c08-4e3e-9421-061f466c92da",
   "metadata": {},
   "outputs": [],
   "source": [
    "#how to read a file"
   ]
  },
  {
   "cell_type": "code",
   "execution_count": 20,
   "id": "9ec1b262-e77e-4384-a152-e3e080446f47",
   "metadata": {},
   "outputs": [],
   "source": [
    "f = open('test.txt')"
   ]
  },
  {
   "cell_type": "code",
   "execution_count": 21,
   "id": "40d5e516-1595-4d2f-b69c-d5df2c7dc392",
   "metadata": {},
   "outputs": [
    {
     "data": {
      "text/plain": [
       "'Write code\\nfirst line\\nsecond line\\nthrid line\\nineuron\\nsjhskjjskk\\nkdjdjodk'"
      ]
     },
     "execution_count": 21,
     "metadata": {},
     "output_type": "execute_result"
    }
   ],
   "source": [
    "f.read()"
   ]
  },
  {
   "cell_type": "code",
   "execution_count": 22,
   "id": "382e2412-09b3-4a0e-b224-761c6a12340d",
   "metadata": {},
   "outputs": [
    {
     "data": {
      "text/plain": [
       "''"
      ]
     },
     "execution_count": 22,
     "metadata": {},
     "output_type": "execute_result"
    }
   ],
   "source": [
    "f.read() #cursor is at end"
   ]
  },
  {
   "cell_type": "code",
   "execution_count": 23,
   "id": "684e8f1f-f17e-4de0-b072-d2da12dd0583",
   "metadata": {},
   "outputs": [
    {
     "data": {
      "text/plain": [
       "72"
      ]
     },
     "execution_count": 23,
     "metadata": {},
     "output_type": "execute_result"
    }
   ],
   "source": [
    "f.tell() #current file position"
   ]
  },
  {
   "cell_type": "code",
   "execution_count": 30,
   "id": "29ed60a1-a804-4250-8d07-73f106dfb877",
   "metadata": {},
   "outputs": [
    {
     "data": {
      "text/plain": [
       "0"
      ]
     },
     "execution_count": 30,
     "metadata": {},
     "output_type": "execute_result"
    }
   ],
   "source": [
    "f.seek(0)    #bring back to file position"
   ]
  },
  {
   "cell_type": "code",
   "execution_count": 26,
   "id": "73c64c4e-ac9e-4642-b5c2-7f28ba78a5f7",
   "metadata": {},
   "outputs": [
    {
     "data": {
      "text/plain": [
       "'Write code\\nfirst line\\nsecond line\\nthrid line\\nineuron\\nsjhskjjskk\\nkdjdjodk'"
      ]
     },
     "execution_count": 26,
     "metadata": {},
     "output_type": "execute_result"
    }
   ],
   "source": [
    "f.read()"
   ]
  },
  {
   "cell_type": "code",
   "execution_count": 31,
   "id": "dc5c5030-6747-4fee-a6e5-1f7ef435b953",
   "metadata": {},
   "outputs": [
    {
     "data": {
      "text/plain": [
       "['Write code\\n',\n",
       " 'first line\\n',\n",
       " 'second line\\n',\n",
       " 'thrid line\\n',\n",
       " 'ineuron\\n',\n",
       " 'sjhskjjskk\\n',\n",
       " 'kdjdjodk']"
      ]
     },
     "execution_count": 31,
     "metadata": {},
     "output_type": "execute_result"
    }
   ],
   "source": [
    "f.readlines()"
   ]
  },
  {
   "cell_type": "code",
   "execution_count": 32,
   "id": "25fb4283-d55d-4030-b178-76521c030cbb",
   "metadata": {},
   "outputs": [
    {
     "data": {
      "text/plain": [
       "[]"
      ]
     },
     "execution_count": 32,
     "metadata": {},
     "output_type": "execute_result"
    }
   ],
   "source": [
    "f.readlines()"
   ]
  },
  {
   "cell_type": "code",
   "execution_count": 33,
   "id": "22ca355b-fa21-4856-87f8-50606c7e1bea",
   "metadata": {},
   "outputs": [],
   "source": [
    "try:\n",
    "    f=open('test.txt')\n",
    "finally:\n",
    "    f.close()"
   ]
  },
  {
   "cell_type": "code",
   "execution_count": 37,
   "id": "86eae8d8-c97a-4527-979b-8d7eb0fbfaa2",
   "metadata": {},
   "outputs": [
    {
     "name": "stdout",
     "output_type": "stream",
     "text": [
      "Write code\n",
      "first line\n",
      "second line\n",
      "thrid line\n",
      "ineuron\n",
      "sjhskjjskk\n",
      "kdjdjodk\n"
     ]
    }
   ],
   "source": [
    "with open('test.txt') as f:    # with stement will automatic close after execution\n",
    "    #file operation\n",
    "    f = f.read()\n",
    "    print(f)"
   ]
  },
  {
   "cell_type": "markdown",
   "id": "a26c84bd-1945-419f-b732-c490aa51e679",
   "metadata": {},
   "source": [
    "## write a file"
   ]
  },
  {
   "cell_type": "code",
   "execution_count": 38,
   "id": "174f8695-6c9b-4a14-88f8-d4a49d84cc98",
   "metadata": {},
   "outputs": [
    {
     "name": "stdout",
     "output_type": "stream",
     "text": [
      "done\n"
     ]
    }
   ],
   "source": [
    "data = 'sandeep Bandi'\n",
    "f = open('test1.txt','w')\n",
    "f.write(data)\n",
    "print('done')\n",
    "f.close()"
   ]
  },
  {
   "cell_type": "code",
   "execution_count": 41,
   "id": "a56eb131-a4c8-4e73-b64e-ca309382dee3",
   "metadata": {},
   "outputs": [],
   "source": [
    "with open('test2.txt','w') as f: # with write mode it override the data\n",
    "    f.write('HariOm\\n')\n",
    "    f.write('Om namo bhagavate vasudevaya')"
   ]
  },
  {
   "cell_type": "code",
   "execution_count": 46,
   "id": "2f86bf7d-39ff-4825-a7f5-a806f7129a20",
   "metadata": {},
   "outputs": [
    {
     "name": "stdin",
     "output_type": "stream",
     "text": [
      "Enter the first num:  5\n",
      "Enter the secondt num:  0\n"
     ]
    },
    {
     "name": "stdout",
     "output_type": "stream",
     "text": [
      "There is some issue with code division by zero\n"
     ]
    }
   ],
   "source": [
    "try:\n",
    "    a = int(input('Enter the first num: '))\n",
    "    b = int(input('Enter the secondt num: '))\n",
    "    c= a/b\n",
    "except ArithmeticError as e:\n",
    "    print('There is some issue with code',e)\n",
    "    f=open('sand.txt','w+')\n",
    "    f.write('Sandeep Bandi ')\n",
    "    f.write(str(e))\n",
    "    f.read()\n",
    "else:\n",
    "    print('This will executes once try is success')\n",
    "    try:\n",
    "        f=open('test3.txt','w')\n",
    "    except:\n",
    "        print('this is an issue with try')"
   ]
  },
  {
   "cell_type": "code",
   "execution_count": 48,
   "id": "3cc22bc5-a2c9-44fb-8806-037c57657191",
   "metadata": {},
   "outputs": [
    {
     "ename": "SyntaxError",
     "evalue": "invalid syntax (4160625093.py, line 3)",
     "output_type": "error",
     "traceback": [
      "\u001b[0;36m  Cell \u001b[0;32mIn [48], line 3\u001b[0;36m\u001b[0m\n\u001b[0;31m    f.\u001b[0m\n\u001b[0m      ^\u001b[0m\n\u001b[0;31mSyntaxError\u001b[0m\u001b[0;31m:\u001b[0m invalid syntax\n"
     ]
    }
   ],
   "source": [
    "with open('test.txt') is f:\n",
    "    f.read()\n",
    "    f."
   ]
  },
  {
   "cell_type": "code",
   "execution_count": 49,
   "id": "35194e48-687e-4e75-acb5-a92674ec22a4",
   "metadata": {},
   "outputs": [],
   "source": [
    "#r - opens a file for reading\n",
    "#w - opens for writing and creates a new file or truncates if file exist\n",
    "#x - opens a file for exclusive creation if file exist the operation will failed(always create new file)\n",
    "#a - open a file for append ing at end of the file even itcan create new file\n",
    "#+ open file for updating(reading and writing)"
   ]
  },
  {
   "cell_type": "code",
   "execution_count": null,
   "id": "c8a6a0a1-3ec1-46b5-a156-90c078108573",
   "metadata": {},
   "outputs": [],
   "source": []
  },
  {
   "cell_type": "code",
   "execution_count": null,
   "id": "f6a0d7a5-350e-4208-b3f3-f16daadcbe12",
   "metadata": {},
   "outputs": [],
   "source": []
  },
  {
   "cell_type": "markdown",
   "id": "edfa32ef-8e4a-4e7c-a6e5-25cbace01fb0",
   "metadata": {},
   "source": [
    "# Iterator and Genrator"
   ]
  },
  {
   "cell_type": "code",
   "execution_count": 51,
   "id": "87bd8fe5-7056-40be-bb5f-3d1add8f9ae8",
   "metadata": {},
   "outputs": [
    {
     "name": "stdout",
     "output_type": "stream",
     "text": [
      "ineuron\n",
      "sand\n",
      "code\n"
     ]
    }
   ],
   "source": [
    "mytuple = ('ineuron','sand','code')\n",
    "for i in mytuple:\n",
    "    print(i)"
   ]
  },
  {
   "cell_type": "code",
   "execution_count": 52,
   "id": "a0728ec6-a508-4067-acf2-b607261ebcd0",
   "metadata": {},
   "outputs": [
    {
     "data": {
      "text/plain": [
       "tuple"
      ]
     },
     "execution_count": 52,
     "metadata": {},
     "output_type": "execute_result"
    }
   ],
   "source": [
    "type(mytuple)"
   ]
  },
  {
   "cell_type": "code",
   "execution_count": 53,
   "id": "128bb161-6050-4d99-a53d-42e312c469a9",
   "metadata": {},
   "outputs": [
    {
     "data": {
      "text/plain": [
       "['__add__',\n",
       " '__class__',\n",
       " '__class_getitem__',\n",
       " '__contains__',\n",
       " '__delattr__',\n",
       " '__dir__',\n",
       " '__doc__',\n",
       " '__eq__',\n",
       " '__format__',\n",
       " '__ge__',\n",
       " '__getattribute__',\n",
       " '__getitem__',\n",
       " '__getnewargs__',\n",
       " '__gt__',\n",
       " '__hash__',\n",
       " '__init__',\n",
       " '__init_subclass__',\n",
       " '__iter__',\n",
       " '__le__',\n",
       " '__len__',\n",
       " '__lt__',\n",
       " '__mul__',\n",
       " '__ne__',\n",
       " '__new__',\n",
       " '__reduce__',\n",
       " '__reduce_ex__',\n",
       " '__repr__',\n",
       " '__rmul__',\n",
       " '__setattr__',\n",
       " '__sizeof__',\n",
       " '__str__',\n",
       " '__subclasshook__',\n",
       " 'count',\n",
       " 'index']"
      ]
     },
     "execution_count": 53,
     "metadata": {},
     "output_type": "execute_result"
    }
   ],
   "source": [
    "dir(mytuple)"
   ]
  },
  {
   "cell_type": "code",
   "execution_count": 54,
   "id": "a9fc7e17-256a-492e-8bfd-f0bf50adb3d1",
   "metadata": {},
   "outputs": [
    {
     "name": "stdout",
     "output_type": "stream",
     "text": [
      "s\n",
      "a\n",
      "n\n",
      "d\n",
      "e\n",
      "e\n",
      "p\n"
     ]
    }
   ],
   "source": [
    "mystr= 'sandeep'\n",
    "for i in mystr:\n",
    "    print(i)"
   ]
  },
  {
   "cell_type": "code",
   "execution_count": 55,
   "id": "8ba0a637-6019-4d09-9246-aac32c77b723",
   "metadata": {},
   "outputs": [
    {
     "data": {
      "text/plain": [
       "['__add__',\n",
       " '__class__',\n",
       " '__contains__',\n",
       " '__delattr__',\n",
       " '__dir__',\n",
       " '__doc__',\n",
       " '__eq__',\n",
       " '__format__',\n",
       " '__ge__',\n",
       " '__getattribute__',\n",
       " '__getitem__',\n",
       " '__getnewargs__',\n",
       " '__gt__',\n",
       " '__hash__',\n",
       " '__init__',\n",
       " '__init_subclass__',\n",
       " '__iter__',\n",
       " '__le__',\n",
       " '__len__',\n",
       " '__lt__',\n",
       " '__mod__',\n",
       " '__mul__',\n",
       " '__ne__',\n",
       " '__new__',\n",
       " '__reduce__',\n",
       " '__reduce_ex__',\n",
       " '__repr__',\n",
       " '__rmod__',\n",
       " '__rmul__',\n",
       " '__setattr__',\n",
       " '__sizeof__',\n",
       " '__str__',\n",
       " '__subclasshook__',\n",
       " 'capitalize',\n",
       " 'casefold',\n",
       " 'center',\n",
       " 'count',\n",
       " 'encode',\n",
       " 'endswith',\n",
       " 'expandtabs',\n",
       " 'find',\n",
       " 'format',\n",
       " 'format_map',\n",
       " 'index',\n",
       " 'isalnum',\n",
       " 'isalpha',\n",
       " 'isascii',\n",
       " 'isdecimal',\n",
       " 'isdigit',\n",
       " 'isidentifier',\n",
       " 'islower',\n",
       " 'isnumeric',\n",
       " 'isprintable',\n",
       " 'isspace',\n",
       " 'istitle',\n",
       " 'isupper',\n",
       " 'join',\n",
       " 'ljust',\n",
       " 'lower',\n",
       " 'lstrip',\n",
       " 'maketrans',\n",
       " 'partition',\n",
       " 'removeprefix',\n",
       " 'removesuffix',\n",
       " 'replace',\n",
       " 'rfind',\n",
       " 'rindex',\n",
       " 'rjust',\n",
       " 'rpartition',\n",
       " 'rsplit',\n",
       " 'rstrip',\n",
       " 'split',\n",
       " 'splitlines',\n",
       " 'startswith',\n",
       " 'strip',\n",
       " 'swapcase',\n",
       " 'title',\n",
       " 'translate',\n",
       " 'upper',\n",
       " 'zfill']"
      ]
     },
     "execution_count": 55,
     "metadata": {},
     "output_type": "execute_result"
    }
   ],
   "source": [
    "dir(mystr)"
   ]
  },
  {
   "cell_type": "code",
   "execution_count": 57,
   "id": "627e1885-f695-4dfc-a330-d4e2f7f76968",
   "metadata": {},
   "outputs": [
    {
     "name": "stdout",
     "output_type": "stream",
     "text": [
      "1\n",
      "2\n",
      "3\n",
      "4\n",
      "5\n"
     ]
    }
   ],
   "source": [
    "mylist=[1,2,3,4,5]\n",
    "for i in mylist:\n",
    "    print(i)"
   ]
  },
  {
   "cell_type": "code",
   "execution_count": 58,
   "id": "8a91b1be-ffa2-4c79-a1a5-a98f6d720b52",
   "metadata": {},
   "outputs": [
    {
     "data": {
      "text/plain": [
       "['__add__',\n",
       " '__class__',\n",
       " '__class_getitem__',\n",
       " '__contains__',\n",
       " '__delattr__',\n",
       " '__delitem__',\n",
       " '__dir__',\n",
       " '__doc__',\n",
       " '__eq__',\n",
       " '__format__',\n",
       " '__ge__',\n",
       " '__getattribute__',\n",
       " '__getitem__',\n",
       " '__gt__',\n",
       " '__hash__',\n",
       " '__iadd__',\n",
       " '__imul__',\n",
       " '__init__',\n",
       " '__init_subclass__',\n",
       " '__iter__',\n",
       " '__le__',\n",
       " '__len__',\n",
       " '__lt__',\n",
       " '__mul__',\n",
       " '__ne__',\n",
       " '__new__',\n",
       " '__reduce__',\n",
       " '__reduce_ex__',\n",
       " '__repr__',\n",
       " '__reversed__',\n",
       " '__rmul__',\n",
       " '__setattr__',\n",
       " '__setitem__',\n",
       " '__sizeof__',\n",
       " '__str__',\n",
       " '__subclasshook__',\n",
       " 'append',\n",
       " 'clear',\n",
       " 'copy',\n",
       " 'count',\n",
       " 'extend',\n",
       " 'index',\n",
       " 'insert',\n",
       " 'pop',\n",
       " 'remove',\n",
       " 'reverse',\n",
       " 'sort']"
      ]
     },
     "execution_count": 58,
     "metadata": {},
     "output_type": "execute_result"
    }
   ],
   "source": [
    "dir(mylist)"
   ]
  },
  {
   "cell_type": "code",
   "execution_count": 60,
   "id": "33a05886-3722-4560-886f-35a0dfd0e9a1",
   "metadata": {},
   "outputs": [
    {
     "name": "stdout",
     "output_type": "stream",
     "text": [
      "x 43\n",
      "y 3.14\n",
      "z 7\n"
     ]
    }
   ],
   "source": [
    "mydict={'x':43 , 'y':3.14 , 'z':7}\n",
    "\n",
    "for k , v in mydict.items():\n",
    "    print(k,v)"
   ]
  },
  {
   "cell_type": "code",
   "execution_count": 61,
   "id": "9b7340ac-39e2-44e1-8746-2625f1cd9a3c",
   "metadata": {},
   "outputs": [],
   "source": [
    "data = ['sand', 'bandi','india','code']"
   ]
  },
  {
   "cell_type": "code",
   "execution_count": 70,
   "id": "f870fc17-7967-44e9-a22a-5fbefa596ade",
   "metadata": {},
   "outputs": [
    {
     "ename": "TypeError",
     "evalue": "'list' object is not an iterator",
     "output_type": "error",
     "traceback": [
      "\u001b[0;31m---------------------------------------------------------------------------\u001b[0m",
      "\u001b[0;31mTypeError\u001b[0m                                 Traceback (most recent call last)",
      "Cell \u001b[0;32mIn [70], line 1\u001b[0m\n\u001b[0;32m----> 1\u001b[0m \u001b[38;5;28;43mnext\u001b[39;49m\u001b[43m(\u001b[49m\u001b[43mdata\u001b[49m\u001b[43m)\u001b[49m\n",
      "\u001b[0;31mTypeError\u001b[0m: 'list' object is not an iterator"
     ]
    }
   ],
   "source": [
    "next(data)"
   ]
  },
  {
   "cell_type": "code",
   "execution_count": 64,
   "id": "0284d38f-ce2d-43c7-a812-5540c3fe641e",
   "metadata": {},
   "outputs": [],
   "source": [
    "#iterable to iterator using iter\n",
    "a = iter(data)"
   ]
  },
  {
   "cell_type": "code",
   "execution_count": 71,
   "id": "f9c8b310-cdf0-41e0-b5c5-999675bfdd78",
   "metadata": {},
   "outputs": [
    {
     "data": {
      "text/plain": [
       "list_iterator"
      ]
     },
     "execution_count": 71,
     "metadata": {},
     "output_type": "execute_result"
    }
   ],
   "source": [
    "type(a)"
   ]
  },
  {
   "cell_type": "code",
   "execution_count": 65,
   "id": "bc9b4ade-3912-45a3-aa98-d8408c5c4385",
   "metadata": {},
   "outputs": [
    {
     "data": {
      "text/plain": [
       "'sand'"
      ]
     },
     "execution_count": 65,
     "metadata": {},
     "output_type": "execute_result"
    }
   ],
   "source": [
    "next(a)"
   ]
  },
  {
   "cell_type": "code",
   "execution_count": 66,
   "id": "af048071-9d31-4d2f-bf07-65f85c37fc6c",
   "metadata": {},
   "outputs": [
    {
     "data": {
      "text/plain": [
       "'bandi'"
      ]
     },
     "execution_count": 66,
     "metadata": {},
     "output_type": "execute_result"
    }
   ],
   "source": [
    "next(a)"
   ]
  },
  {
   "cell_type": "code",
   "execution_count": 67,
   "id": "dcadb9c9-a04d-413b-aa76-64ab1065da3e",
   "metadata": {},
   "outputs": [
    {
     "data": {
      "text/plain": [
       "'india'"
      ]
     },
     "execution_count": 67,
     "metadata": {},
     "output_type": "execute_result"
    }
   ],
   "source": [
    "next(a)"
   ]
  },
  {
   "cell_type": "code",
   "execution_count": 68,
   "id": "64c1e327-74e8-4d5b-9adf-9764e24ce299",
   "metadata": {},
   "outputs": [
    {
     "data": {
      "text/plain": [
       "'code'"
      ]
     },
     "execution_count": 68,
     "metadata": {},
     "output_type": "execute_result"
    }
   ],
   "source": [
    "next(a)"
   ]
  },
  {
   "cell_type": "code",
   "execution_count": 69,
   "id": "c467ac3e-273a-4595-91ac-0e7d1436dea2",
   "metadata": {},
   "outputs": [
    {
     "ename": "StopIteration",
     "evalue": "",
     "output_type": "error",
     "traceback": [
      "\u001b[0;31m---------------------------------------------------------------------------\u001b[0m",
      "\u001b[0;31mStopIteration\u001b[0m                             Traceback (most recent call last)",
      "Cell \u001b[0;32mIn [69], line 1\u001b[0m\n\u001b[0;32m----> 1\u001b[0m \u001b[38;5;28;43mnext\u001b[39;49m\u001b[43m(\u001b[49m\u001b[43ma\u001b[49m\u001b[43m)\u001b[49m\n",
      "\u001b[0;31mStopIteration\u001b[0m: "
     ]
    }
   ],
   "source": [
    "next(a)"
   ]
  },
  {
   "cell_type": "code",
   "execution_count": 72,
   "id": "63c0b986-bce6-42a9-a5ca-db20105939a4",
   "metadata": {},
   "outputs": [],
   "source": [
    "m = 'sand'"
   ]
  },
  {
   "cell_type": "code",
   "execution_count": 73,
   "id": "339c804a-7c73-48c9-a45f-6e8e17616dc7",
   "metadata": {},
   "outputs": [],
   "source": [
    "a = iter(m)"
   ]
  },
  {
   "cell_type": "code",
   "execution_count": 74,
   "id": "9fdf785b-f2a2-4686-975a-7c813a7b39e4",
   "metadata": {},
   "outputs": [
    {
     "data": {
      "text/plain": [
       "str_iterator"
      ]
     },
     "execution_count": 74,
     "metadata": {},
     "output_type": "execute_result"
    }
   ],
   "source": [
    "type(a)"
   ]
  },
  {
   "cell_type": "code",
   "execution_count": 75,
   "id": "b9ba783b-0cf5-4c69-a3a6-71ab14c3f58b",
   "metadata": {},
   "outputs": [
    {
     "data": {
      "text/plain": [
       "'s'"
      ]
     },
     "execution_count": 75,
     "metadata": {},
     "output_type": "execute_result"
    }
   ],
   "source": [
    "next(a)"
   ]
  },
  {
   "cell_type": "code",
   "execution_count": 76,
   "id": "898a16ad-1f0b-4409-a1b0-2047dccc51d6",
   "metadata": {},
   "outputs": [
    {
     "data": {
      "text/plain": [
       "'a'"
      ]
     },
     "execution_count": 76,
     "metadata": {},
     "output_type": "execute_result"
    }
   ],
   "source": [
    "next(a)"
   ]
  },
  {
   "cell_type": "code",
   "execution_count": 77,
   "id": "7fcc02db-97fe-48e7-97b3-de7ae82545ba",
   "metadata": {},
   "outputs": [
    {
     "data": {
      "text/plain": [
       "'n'"
      ]
     },
     "execution_count": 77,
     "metadata": {},
     "output_type": "execute_result"
    }
   ],
   "source": [
    "next(a)"
   ]
  },
  {
   "cell_type": "code",
   "execution_count": 78,
   "id": "7ddb7e47-439a-4e7a-b3dd-b89efb36e9d0",
   "metadata": {},
   "outputs": [
    {
     "data": {
      "text/plain": [
       "'d'"
      ]
     },
     "execution_count": 78,
     "metadata": {},
     "output_type": "execute_result"
    }
   ],
   "source": [
    "next(a)"
   ]
  },
  {
   "cell_type": "code",
   "execution_count": 79,
   "id": "831933ff-271b-4691-b72b-008585efc1db",
   "metadata": {},
   "outputs": [
    {
     "ename": "StopIteration",
     "evalue": "",
     "output_type": "error",
     "traceback": [
      "\u001b[0;31m---------------------------------------------------------------------------\u001b[0m",
      "\u001b[0;31mStopIteration\u001b[0m                             Traceback (most recent call last)",
      "Cell \u001b[0;32mIn [79], line 1\u001b[0m\n\u001b[0;32m----> 1\u001b[0m \u001b[38;5;28;43mnext\u001b[39;49m\u001b[43m(\u001b[49m\u001b[43ma\u001b[49m\u001b[43m)\u001b[49m\n",
      "\u001b[0;31mStopIteration\u001b[0m: "
     ]
    }
   ],
   "source": [
    "next(a)"
   ]
  },
  {
   "cell_type": "code",
   "execution_count": 80,
   "id": "27047a31-1735-4f0a-8b33-d741d6f0e93f",
   "metadata": {},
   "outputs": [],
   "source": [
    "#Iterables are not iterators\n",
    "#iterators are also iterables\n",
    "#calling iter() fun on iterable gives an iterator\n",
    "#calling next() function on iterator gives next element "
   ]
  },
  {
   "cell_type": "code",
   "execution_count": 81,
   "id": "2bc0d263-6562-44fc-b6a5-f35f46f24fe5",
   "metadata": {},
   "outputs": [],
   "source": [
    "l = [1,2,3]"
   ]
  },
  {
   "cell_type": "code",
   "execution_count": 82,
   "id": "6070c30f-e435-4c18-a686-e9048352835c",
   "metadata": {},
   "outputs": [
    {
     "ename": "TypeError",
     "evalue": "'list' object is not an iterator",
     "output_type": "error",
     "traceback": [
      "\u001b[0;31m---------------------------------------------------------------------------\u001b[0m",
      "\u001b[0;31mTypeError\u001b[0m                                 Traceback (most recent call last)",
      "Cell \u001b[0;32mIn [82], line 1\u001b[0m\n\u001b[0;32m----> 1\u001b[0m \u001b[38;5;28;43mnext\u001b[39;49m\u001b[43m(\u001b[49m\u001b[43ml\u001b[49m\u001b[43m)\u001b[49m\n",
      "\u001b[0;31mTypeError\u001b[0m: 'list' object is not an iterator"
     ]
    }
   ],
   "source": [
    "next(l)"
   ]
  },
  {
   "cell_type": "code",
   "execution_count": 90,
   "id": "675d0703-7516-4612-8a92-0067820a6fc3",
   "metadata": {},
   "outputs": [],
   "source": [
    "k = iter(l)"
   ]
  },
  {
   "cell_type": "code",
   "execution_count": 91,
   "id": "08261a62-f6c7-4ea6-ad59-74fb33870137",
   "metadata": {},
   "outputs": [
    {
     "name": "stdout",
     "output_type": "stream",
     "text": [
      "1\n",
      "2\n",
      "3\n"
     ]
    }
   ],
   "source": [
    "for i in k:  #k-iterator\n",
    "    print(i)"
   ]
  },
  {
   "cell_type": "code",
   "execution_count": 92,
   "id": "7749da18-8d07-4a3e-8b60-785eb09a4dde",
   "metadata": {},
   "outputs": [
    {
     "data": {
      "text/plain": [
       "list_iterator"
      ]
     },
     "execution_count": 92,
     "metadata": {},
     "output_type": "execute_result"
    }
   ],
   "source": [
    "type(k)"
   ]
  },
  {
   "cell_type": "code",
   "execution_count": 94,
   "id": "54beb4d9-1f4a-4a0c-8d82-06c7e1094077",
   "metadata": {},
   "outputs": [
    {
     "ename": "StopIteration",
     "evalue": "",
     "output_type": "error",
     "traceback": [
      "\u001b[0;31m---------------------------------------------------------------------------\u001b[0m",
      "\u001b[0;31mStopIteration\u001b[0m                             Traceback (most recent call last)",
      "Cell \u001b[0;32mIn [94], line 1\u001b[0m\n\u001b[0;32m----> 1\u001b[0m \u001b[38;5;28;43mnext\u001b[39;49m\u001b[43m(\u001b[49m\u001b[43mk\u001b[49m\u001b[43m)\u001b[49m\n",
      "\u001b[0;31mStopIteration\u001b[0m: "
     ]
    }
   ],
   "source": [
    "next(k)"
   ]
  },
  {
   "cell_type": "markdown",
   "id": "7f1ca5fd-fb9a-4800-8931-b5ecd4af79cc",
   "metadata": {},
   "source": [
    "# Genrators"
   ]
  },
  {
   "cell_type": "code",
   "execution_count": 95,
   "id": "2d923499-0a43-46c3-964f-6214e3b52f8d",
   "metadata": {},
   "outputs": [],
   "source": [
    "#genrators is other way of creating iterator"
   ]
  },
  {
   "cell_type": "code",
   "execution_count": 97,
   "id": "965d8343-ab2f-4949-b28d-072c41508bf6",
   "metadata": {},
   "outputs": [],
   "source": [
    "def square(n):\n",
    "    for i in range(n):\n",
    "        return i**2"
   ]
  },
  {
   "cell_type": "code",
   "execution_count": 100,
   "id": "ac5b108f-ce2b-4661-bd4f-ddc9008167ff",
   "metadata": {},
   "outputs": [
    {
     "data": {
      "text/plain": [
       "0"
      ]
     },
     "execution_count": 100,
     "metadata": {},
     "output_type": "execute_result"
    }
   ],
   "source": [
    "square(3)"
   ]
  },
  {
   "cell_type": "code",
   "execution_count": 107,
   "id": "b7a29146-d846-4b9b-a2ea-b47ec9470d4b",
   "metadata": {},
   "outputs": [],
   "source": [
    "def square(n):\n",
    "    for i in range(n):\n",
    "        yield i**2 #return generator object and create othr way iterators"
   ]
  },
  {
   "cell_type": "code",
   "execution_count": 108,
   "id": "7b877441-8286-4186-98b0-059103a17eba",
   "metadata": {},
   "outputs": [],
   "source": [
    "k = square(3)"
   ]
  },
  {
   "cell_type": "code",
   "execution_count": 105,
   "id": "11608703-2cdb-40cd-a56d-418853a8995d",
   "metadata": {},
   "outputs": [
    {
     "data": {
      "text/plain": [
       "generator"
      ]
     },
     "execution_count": 105,
     "metadata": {},
     "output_type": "execute_result"
    }
   ],
   "source": [
    "type(k)"
   ]
  },
  {
   "cell_type": "code",
   "execution_count": 104,
   "id": "29cd50e9-8238-4da3-acb7-1bed9e61e035",
   "metadata": {},
   "outputs": [
    {
     "name": "stdout",
     "output_type": "stream",
     "text": [
      "0\n",
      "1\n",
      "4\n"
     ]
    }
   ],
   "source": [
    "for i in k:\n",
    "    print(i)"
   ]
  },
  {
   "cell_type": "code",
   "execution_count": 106,
   "id": "30fd1c31-4c16-4695-a6ca-cfa6f5d99394",
   "metadata": {},
   "outputs": [
    {
     "ename": "StopIteration",
     "evalue": "",
     "output_type": "error",
     "traceback": [
      "\u001b[0;31m---------------------------------------------------------------------------\u001b[0m",
      "\u001b[0;31mStopIteration\u001b[0m                             Traceback (most recent call last)",
      "Cell \u001b[0;32mIn [106], line 1\u001b[0m\n\u001b[0;32m----> 1\u001b[0m \u001b[38;5;28;43mnext\u001b[39;49m\u001b[43m(\u001b[49m\u001b[43mk\u001b[49m\u001b[43m)\u001b[49m\n",
      "\u001b[0;31mStopIteration\u001b[0m: "
     ]
    }
   ],
   "source": [
    "next(k)"
   ]
  },
  {
   "cell_type": "code",
   "execution_count": 109,
   "id": "667b40b4-4d9c-4154-8bbf-a3d5c9ddfff8",
   "metadata": {},
   "outputs": [
    {
     "name": "stdout",
     "output_type": "stream",
     "text": [
      "<generator object square at 0x7fe3cd572ff0>\n"
     ]
    }
   ],
   "source": [
    "print(k)"
   ]
  },
  {
   "cell_type": "code",
   "execution_count": 110,
   "id": "0620d41e-4c35-499e-9677-c54e8371df1b",
   "metadata": {},
   "outputs": [
    {
     "name": "stdout",
     "output_type": "stream",
     "text": [
      "0\n",
      "1\n",
      "4\n"
     ]
    }
   ],
   "source": [
    "for i in k:\n",
    "    print(i)"
   ]
  },
  {
   "cell_type": "code",
   "execution_count": null,
   "id": "9ee6d5b6-8dbe-4022-8a7a-6dff3380d9b6",
   "metadata": {},
   "outputs": [],
   "source": []
  },
  {
   "cell_type": "code",
   "execution_count": 111,
   "id": "ca258cda-1e58-4b16-aef1-da19eb3349b0",
   "metadata": {},
   "outputs": [],
   "source": [
    "def new():\n",
    "    n=1\n",
    "    print('line 1')\n",
    "    yield n\n",
    "    \n",
    "    n=n+1\n",
    "    print('line 2')\n",
    "    yield n\n",
    "    \n",
    "    n=n+1\n",
    "    print('line 3')\n",
    "    yield n"
   ]
  },
  {
   "cell_type": "code",
   "execution_count": 112,
   "id": "f5949cc4-4af6-4dc0-b920-d28759c1f160",
   "metadata": {},
   "outputs": [
    {
     "name": "stdout",
     "output_type": "stream",
     "text": [
      "line 1\n",
      "1\n",
      "line 2\n",
      "2\n",
      "line 3\n",
      "3\n"
     ]
    }
   ],
   "source": [
    "for i in new():\n",
    "    print(i)"
   ]
  },
  {
   "cell_type": "code",
   "execution_count": 114,
   "id": "8aa7eb13-8fb8-4e84-9f27-1428e9d58e98",
   "metadata": {},
   "outputs": [],
   "source": [
    "def gencube(n):\n",
    "    l = []\n",
    "    for i in range(n):\n",
    "        l.append(i**3)\n",
    "    return l"
   ]
  },
  {
   "cell_type": "code",
   "execution_count": null,
   "id": "e475c370-8eaf-47d3-acd6-ced068d6829e",
   "metadata": {},
   "outputs": [],
   "source": [
    "gencube(300000000)"
   ]
  },
  {
   "cell_type": "code",
   "execution_count": 1,
   "id": "c612a213-a825-47cd-a06c-c3ec793a092b",
   "metadata": {},
   "outputs": [],
   "source": [
    "def gencube(n):\n",
    "    \n",
    "    for i in range(n):\n",
    "        yield i**3\n",
    "    "
   ]
  },
  {
   "cell_type": "code",
   "execution_count": 9,
   "id": "6f483e66-f038-40ae-a32c-bd5612b1b42c",
   "metadata": {},
   "outputs": [],
   "source": [
    "k = gencube(10)"
   ]
  },
  {
   "cell_type": "code",
   "execution_count": 10,
   "id": "a708c5c3-e174-4cc4-8936-1a3d6da75cb3",
   "metadata": {},
   "outputs": [
    {
     "data": {
      "text/plain": [
       "<generator object gencube at 0x7f462c2e4200>"
      ]
     },
     "execution_count": 10,
     "metadata": {},
     "output_type": "execute_result"
    }
   ],
   "source": [
    "k"
   ]
  },
  {
   "cell_type": "code",
   "execution_count": 11,
   "id": "c28034ea-d54b-4c19-87f4-0462369041cd",
   "metadata": {},
   "outputs": [
    {
     "name": "stdout",
     "output_type": "stream",
     "text": [
      "0\n",
      "1\n",
      "8\n",
      "27\n",
      "64\n",
      "125\n",
      "216\n",
      "343\n",
      "512\n",
      "729\n"
     ]
    }
   ],
   "source": [
    "for i in k:\n",
    "    print(i)"
   ]
  },
  {
   "cell_type": "code",
   "execution_count": null,
   "id": "ec3696d2-218a-4994-8b4a-ba02abe2a8e4",
   "metadata": {},
   "outputs": [],
   "source": []
  }
 ],
 "metadata": {
  "kernelspec": {
   "display_name": "Python 3 (ipykernel)",
   "language": "python",
   "name": "python3"
  },
  "language_info": {
   "codemirror_mode": {
    "name": "ipython",
    "version": 3
   },
   "file_extension": ".py",
   "mimetype": "text/x-python",
   "name": "python",
   "nbconvert_exporter": "python",
   "pygments_lexer": "ipython3",
   "version": "3.10.6"
  }
 },
 "nbformat": 4,
 "nbformat_minor": 5
}
