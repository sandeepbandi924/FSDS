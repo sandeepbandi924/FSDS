{
 "cells": [
  {
   "cell_type": "code",
   "execution_count": 1,
   "id": "e91f86a1-43c0-4104-93fe-519be7386b0b",
   "metadata": {},
   "outputs": [],
   "source": [
    "a = 'sand'\n"
   ]
  },
  {
   "cell_type": "code",
   "execution_count": 2,
   "id": "99735ae9-ad8a-49f5-b6f6-e6a040b908d6",
   "metadata": {},
   "outputs": [
    {
     "data": {
      "text/plain": [
       "4"
      ]
     },
     "execution_count": 2,
     "metadata": {},
     "output_type": "execute_result"
    }
   ],
   "source": [
    "len(a)"
   ]
  },
  {
   "cell_type": "code",
   "execution_count": 3,
   "id": "f68d4423-7892-4b36-afdc-30de0f43ed3d",
   "metadata": {},
   "outputs": [],
   "source": [
    "l = [1,2,3,4,'sand',4.67]"
   ]
  },
  {
   "cell_type": "code",
   "execution_count": 5,
   "id": "7a9741b3-965b-41f2-a2bf-be034aae3732",
   "metadata": {},
   "outputs": [
    {
     "data": {
      "text/plain": [
       "6"
      ]
     },
     "execution_count": 5,
     "metadata": {},
     "output_type": "execute_result"
    }
   ],
   "source": [
    "len(l)"
   ]
  },
  {
   "cell_type": "code",
   "execution_count": 6,
   "id": "da19870b-2536-4032-9b5f-97671d8a25e4",
   "metadata": {},
   "outputs": [],
   "source": [
    "#Fun: To increase reusabilty of the code"
   ]
  },
  {
   "cell_type": "code",
   "execution_count": 8,
   "id": "4e5c3a6a-70cb-4c71-a1cb-04444c5bd5c4",
   "metadata": {},
   "outputs": [],
   "source": [
    "def test():\n",
    "    pass"
   ]
  },
  {
   "cell_type": "code",
   "execution_count": 9,
   "id": "da4e7963-08ed-4e82-b712-53d3942dbe09",
   "metadata": {},
   "outputs": [],
   "source": [
    "def test1():\n",
    "    print('This is very first function in python')"
   ]
  },
  {
   "cell_type": "code",
   "execution_count": 10,
   "id": "bd0e9f72-ebc8-445c-9e34-d21b74d57b0a",
   "metadata": {},
   "outputs": [
    {
     "name": "stdout",
     "output_type": "stream",
     "text": [
      "This is very first function in python\n"
     ]
    }
   ],
   "source": [
    "test1()"
   ]
  },
  {
   "cell_type": "code",
   "execution_count": 11,
   "id": "05c72957-b70a-4175-844b-1a270c71086f",
   "metadata": {},
   "outputs": [],
   "source": [
    "a = 1"
   ]
  },
  {
   "cell_type": "code",
   "execution_count": 13,
   "id": "f2014a09-df15-4c56-a64a-19489d6ec788",
   "metadata": {},
   "outputs": [
    {
     "name": "stdout",
     "output_type": "stream",
     "text": [
      "This is very first function in python\n"
     ]
    }
   ],
   "source": [
    "b = test1()"
   ]
  },
  {
   "cell_type": "code",
   "execution_count": 19,
   "id": "247b4486-64fc-4161-8be5-175ffe3393dd",
   "metadata": {},
   "outputs": [
    {
     "data": {
      "text/plain": [
       "NoneType"
      ]
     },
     "execution_count": 19,
     "metadata": {},
     "output_type": "execute_result"
    }
   ],
   "source": [
    "type(b)"
   ]
  },
  {
   "cell_type": "code",
   "execution_count": 15,
   "id": "46d5bd67-fa4b-43d7-97ec-dfa0bba234e0",
   "metadata": {},
   "outputs": [],
   "source": [
    "b   #unable to print coz nonetype is cannot hold in any variable"
   ]
  },
  {
   "cell_type": "code",
   "execution_count": 16,
   "id": "95e8e4ce-42d1-403b-bc5c-972a2a4e81c6",
   "metadata": {},
   "outputs": [
    {
     "name": "stdout",
     "output_type": "stream",
     "text": [
      "None\n"
     ]
    }
   ],
   "source": [
    "print(b)"
   ]
  },
  {
   "cell_type": "code",
   "execution_count": 17,
   "id": "4e2052a7-3de4-4cc6-abf2-e84a4ec8c967",
   "metadata": {},
   "outputs": [],
   "source": [
    "c = 'kumar'"
   ]
  },
  {
   "cell_type": "code",
   "execution_count": 18,
   "id": "9e3907f4-37ef-4eb4-993f-877bbd2f4ebe",
   "metadata": {},
   "outputs": [
    {
     "data": {
      "text/plain": [
       "str"
      ]
     },
     "execution_count": 18,
     "metadata": {},
     "output_type": "execute_result"
    }
   ],
   "source": [
    "type(c)"
   ]
  },
  {
   "cell_type": "code",
   "execution_count": 20,
   "id": "0bb9ac27-6c96-4120-98fb-96dfe3d75ac2",
   "metadata": {},
   "outputs": [
    {
     "name": "stdout",
     "output_type": "stream",
     "text": [
      "This is very first function in python\n"
     ]
    },
    {
     "data": {
      "text/plain": [
       "NoneType"
      ]
     },
     "execution_count": 20,
     "metadata": {},
     "output_type": "execute_result"
    }
   ],
   "source": [
    "type(test1())"
   ]
  },
  {
   "cell_type": "code",
   "execution_count": 21,
   "id": "73c44381-b599-49f2-b456-9b8425fb2c7f",
   "metadata": {},
   "outputs": [],
   "source": [
    "def test2():\n",
    "    return 5"
   ]
  },
  {
   "cell_type": "code",
   "execution_count": 22,
   "id": "3a76ebef-09e9-495a-95d5-d5901c1aaa45",
   "metadata": {},
   "outputs": [
    {
     "data": {
      "text/plain": [
       "5"
      ]
     },
     "execution_count": 22,
     "metadata": {},
     "output_type": "execute_result"
    }
   ],
   "source": [
    "test2()"
   ]
  },
  {
   "cell_type": "code",
   "execution_count": 23,
   "id": "3cb16443-a91d-4591-a988-8a44578a1ad5",
   "metadata": {},
   "outputs": [],
   "source": [
    "d = test2()"
   ]
  },
  {
   "cell_type": "code",
   "execution_count": 24,
   "id": "06689775-1390-4864-a691-a40e03b343f5",
   "metadata": {},
   "outputs": [
    {
     "data": {
      "text/plain": [
       "5"
      ]
     },
     "execution_count": 24,
     "metadata": {},
     "output_type": "execute_result"
    }
   ],
   "source": [
    "d"
   ]
  },
  {
   "cell_type": "code",
   "execution_count": 25,
   "id": "7666334f-9493-4522-a392-49954701f248",
   "metadata": {},
   "outputs": [
    {
     "data": {
      "text/plain": [
       "int"
      ]
     },
     "execution_count": 25,
     "metadata": {},
     "output_type": "execute_result"
    }
   ],
   "source": [
    "type(d)"
   ]
  },
  {
   "cell_type": "code",
   "execution_count": 26,
   "id": "94229957-56e6-4dd0-ad6d-b8562d00901c",
   "metadata": {},
   "outputs": [
    {
     "name": "stdout",
     "output_type": "stream",
     "text": [
      "hello\n"
     ]
    },
    {
     "data": {
      "text/plain": [
       "NoneType"
      ]
     },
     "execution_count": 26,
     "metadata": {},
     "output_type": "execute_result"
    }
   ],
   "source": [
    "type(print('hello'))  #print used to reurn none type"
   ]
  },
  {
   "cell_type": "code",
   "execution_count": 27,
   "id": "eae36ac6-3c16-462c-b19d-6e8b261a1507",
   "metadata": {},
   "outputs": [],
   "source": [
    "def test3():      # I can get outcome and hold variable\n",
    "    return 5"
   ]
  },
  {
   "cell_type": "code",
   "execution_count": 28,
   "id": "84c6e265-628f-46f9-a2d4-a9ca4dbc8c9a",
   "metadata": {},
   "outputs": [],
   "source": [
    "def test4():    # I can get outcome but cannot hold variable\n",
    "    print('This is print return')"
   ]
  },
  {
   "cell_type": "code",
   "execution_count": 29,
   "id": "d1212571-e745-49c4-9927-53306212ac29",
   "metadata": {},
   "outputs": [
    {
     "data": {
      "text/plain": [
       "5"
      ]
     },
     "execution_count": 29,
     "metadata": {},
     "output_type": "execute_result"
    }
   ],
   "source": [
    "test3()"
   ]
  },
  {
   "cell_type": "code",
   "execution_count": 31,
   "id": "fd3ec403-f18c-4b19-99bf-1664d4c94b39",
   "metadata": {},
   "outputs": [
    {
     "name": "stdout",
     "output_type": "stream",
     "text": [
      "This is print return\n"
     ]
    }
   ],
   "source": [
    " e = test4()"
   ]
  },
  {
   "cell_type": "code",
   "execution_count": 36,
   "id": "2acacfb8-56d1-4e92-b523-8c964378c9fb",
   "metadata": {},
   "outputs": [],
   "source": [
    "e  #none type + str"
   ]
  },
  {
   "cell_type": "code",
   "execution_count": 33,
   "id": "57b19dd0-34d7-45f2-a50b-54c746a53232",
   "metadata": {},
   "outputs": [],
   "source": [
    "def test3():      \n",
    "    return 'sand'"
   ]
  },
  {
   "cell_type": "code",
   "execution_count": 34,
   "id": "63713a68-d6c1-4e65-b4cb-7a4c4c590ebf",
   "metadata": {},
   "outputs": [
    {
     "data": {
      "text/plain": [
       "'sandkumar'"
      ]
     },
     "execution_count": 34,
     "metadata": {},
     "output_type": "execute_result"
    }
   ],
   "source": [
    "test3() + 'kumar'"
   ]
  },
  {
   "cell_type": "code",
   "execution_count": 35,
   "id": "9ff8272f-099d-4ff9-b383-e36ae9d5a3fa",
   "metadata": {},
   "outputs": [
    {
     "name": "stdout",
     "output_type": "stream",
     "text": [
      "This is print return\n"
     ]
    },
    {
     "ename": "TypeError",
     "evalue": "unsupported operand type(s) for +: 'NoneType' and 'str'",
     "output_type": "error",
     "traceback": [
      "\u001b[0;31m---------------------------------------------------------------------------\u001b[0m",
      "\u001b[0;31mTypeError\u001b[0m                                 Traceback (most recent call last)",
      "Cell \u001b[0;32mIn [35], line 1\u001b[0m\n\u001b[0;32m----> 1\u001b[0m \u001b[43mtest4\u001b[49m\u001b[43m(\u001b[49m\u001b[43m)\u001b[49m\u001b[43m \u001b[49m\u001b[38;5;241;43m+\u001b[39;49m\u001b[43m \u001b[49m\u001b[38;5;124;43m'\u001b[39;49m\u001b[38;5;124;43mKumar\u001b[39;49m\u001b[38;5;124;43m'\u001b[39;49m\n",
      "\u001b[0;31mTypeError\u001b[0m: unsupported operand type(s) for +: 'NoneType' and 'str'"
     ]
    }
   ],
   "source": [
    "test4() + 'Kumar'"
   ]
  },
  {
   "cell_type": "code",
   "execution_count": 38,
   "id": "67afdab6-e9cf-4496-a85a-792caf8c4586",
   "metadata": {},
   "outputs": [],
   "source": [
    "def test5():\n",
    "    print('This is my code')"
   ]
  },
  {
   "cell_type": "code",
   "execution_count": 39,
   "id": "ba1bce2d-9f3f-4123-92cf-7631c7dc1acb",
   "metadata": {},
   "outputs": [],
   "source": [
    "def test6():\n",
    "    return 1,3,[3,4,5,'sand'],(4,5,6,7)"
   ]
  },
  {
   "cell_type": "code",
   "execution_count": 41,
   "id": "26554582-5f68-410b-a06c-981ea122237d",
   "metadata": {},
   "outputs": [
    {
     "data": {
      "text/plain": [
       "(1, 3, [3, 4, 5, 'sand'], (4, 5, 6, 7))"
      ]
     },
     "execution_count": 41,
     "metadata": {},
     "output_type": "execute_result"
    }
   ],
   "source": [
    "test6()"
   ]
  },
  {
   "cell_type": "code",
   "execution_count": 42,
   "id": "7c1ff697-95fe-406e-8570-b6f16888d70a",
   "metadata": {},
   "outputs": [
    {
     "data": {
      "text/plain": [
       "tuple"
      ]
     },
     "execution_count": 42,
     "metadata": {},
     "output_type": "execute_result"
    }
   ],
   "source": [
    "type(test6())"
   ]
  },
  {
   "cell_type": "code",
   "execution_count": 43,
   "id": "c91c24f6-7ff9-46e3-80b1-17e470cf673a",
   "metadata": {},
   "outputs": [
    {
     "data": {
      "text/plain": [
       "3"
      ]
     },
     "execution_count": 43,
     "metadata": {},
     "output_type": "execute_result"
    }
   ],
   "source": [
    "#can we extract 3\n",
    "\n",
    "test6()[1]"
   ]
  },
  {
   "cell_type": "code",
   "execution_count": 44,
   "id": "37994428-b2f0-4f64-8fcb-42572f3fae61",
   "metadata": {},
   "outputs": [
    {
     "data": {
      "text/plain": [
       "[3, 4, 5, 'sand']"
      ]
     },
     "execution_count": 44,
     "metadata": {},
     "output_type": "execute_result"
    }
   ],
   "source": [
    "test6()[2]"
   ]
  },
  {
   "cell_type": "code",
   "execution_count": 45,
   "id": "2c856c37-fa74-4477-9fb1-3635fdeedee3",
   "metadata": {},
   "outputs": [],
   "source": [
    "def test7():\n",
    "    return 1,3,[3,4,5,'sand'],(4,5,6,7)"
   ]
  },
  {
   "cell_type": "code",
   "execution_count": 52,
   "id": "bf7a7dd5-3b8c-4c40-b174-6481493a44c0",
   "metadata": {},
   "outputs": [
    {
     "data": {
      "text/plain": [
       "(1, 3, [3, 4, 5, 'sand'], (4, 5, 6, 7))"
      ]
     },
     "execution_count": 52,
     "metadata": {},
     "output_type": "execute_result"
    }
   ],
   "source": [
    "test7()  #packed dwith tuple"
   ]
  },
  {
   "cell_type": "code",
   "execution_count": 47,
   "id": "90e7255a-209c-4b44-b5eb-748abf4d5f84",
   "metadata": {},
   "outputs": [],
   "source": [
    "a,b,c,d = test7()  #unpacked and holded diff variable"
   ]
  },
  {
   "cell_type": "code",
   "execution_count": 48,
   "id": "46216671-8ec4-435e-b077-7b7aa6cabd83",
   "metadata": {},
   "outputs": [
    {
     "data": {
      "text/plain": [
       "1"
      ]
     },
     "execution_count": 48,
     "metadata": {},
     "output_type": "execute_result"
    }
   ],
   "source": [
    "a"
   ]
  },
  {
   "cell_type": "code",
   "execution_count": 49,
   "id": "0300536e-e245-454c-bac1-abfeaaefac86",
   "metadata": {},
   "outputs": [
    {
     "data": {
      "text/plain": [
       "3"
      ]
     },
     "execution_count": 49,
     "metadata": {},
     "output_type": "execute_result"
    }
   ],
   "source": [
    "b"
   ]
  },
  {
   "cell_type": "code",
   "execution_count": 50,
   "id": "4b860401-024a-45e5-85f3-381378b507f3",
   "metadata": {},
   "outputs": [
    {
     "data": {
      "text/plain": [
       "[3, 4, 5, 'sand']"
      ]
     },
     "execution_count": 50,
     "metadata": {},
     "output_type": "execute_result"
    }
   ],
   "source": [
    "c"
   ]
  },
  {
   "cell_type": "code",
   "execution_count": 51,
   "id": "37363904-922d-4e4c-aecd-520fa13113d5",
   "metadata": {},
   "outputs": [
    {
     "data": {
      "text/plain": [
       "(4, 5, 6, 7)"
      ]
     },
     "execution_count": 51,
     "metadata": {},
     "output_type": "execute_result"
    }
   ],
   "source": [
    "d"
   ]
  },
  {
   "cell_type": "code",
   "execution_count": 53,
   "id": "68601e96-8298-4481-95ef-7895a9668415",
   "metadata": {},
   "outputs": [],
   "source": [
    "def test8():\n",
    "    a = 4 * 5 + 8\n",
    "    return a"
   ]
  },
  {
   "cell_type": "code",
   "execution_count": 54,
   "id": "079aaef4-a88e-41ea-85ca-52591237dbeb",
   "metadata": {},
   "outputs": [
    {
     "data": {
      "text/plain": [
       "28"
      ]
     },
     "execution_count": 54,
     "metadata": {},
     "output_type": "execute_result"
    }
   ],
   "source": [
    "test8()"
   ]
  },
  {
   "cell_type": "code",
   "execution_count": 55,
   "id": "2b4a8429-30eb-40f7-9cad-8474db989967",
   "metadata": {},
   "outputs": [
    {
     "data": {
      "text/plain": [
       "36"
      ]
     },
     "execution_count": 55,
     "metadata": {},
     "output_type": "execute_result"
    }
   ],
   "source": [
    "test8() + 8"
   ]
  },
  {
   "cell_type": "code",
   "execution_count": 56,
   "id": "0de976f7-b913-4f60-96b0-69a70f38826d",
   "metadata": {},
   "outputs": [
    {
     "data": {
      "text/plain": [
       "int"
      ]
     },
     "execution_count": 56,
     "metadata": {},
     "output_type": "execute_result"
    }
   ],
   "source": [
    "type(test8())"
   ]
  },
  {
   "cell_type": "code",
   "execution_count": 68,
   "id": "dc26802d-8afd-4856-9f76-4e9aa51a1d1d",
   "metadata": {},
   "outputs": [],
   "source": [
    "def test9():\n",
    "    l = [2,3,4,5,6,7,8,9,'sudh']\n",
    "    sum=0\n",
    "    for i in l :\n",
    "        if isinstance(i,int):\n",
    "            sum = sum + i\n",
    "    return sum"
   ]
  },
  {
   "cell_type": "code",
   "execution_count": 69,
   "id": "f684b956-341a-4987-aca5-81d10def8281",
   "metadata": {},
   "outputs": [
    {
     "data": {
      "text/plain": [
       "44"
      ]
     },
     "execution_count": 69,
     "metadata": {},
     "output_type": "execute_result"
    }
   ],
   "source": [
    "test9()"
   ]
  },
  {
   "cell_type": "code",
   "execution_count": 74,
   "id": "293fd747-3287-4f5b-a1ff-ceb04b55db48",
   "metadata": {},
   "outputs": [],
   "source": [
    "l1 = [4,5,6,7,7,8,'kumar',4.56]"
   ]
  },
  {
   "cell_type": "code",
   "execution_count": 82,
   "id": "bd604bbf-9bff-4db8-85da-27dca4bf2bec",
   "metadata": {},
   "outputs": [],
   "source": [
    "\n",
    "def test10(lst):\n",
    "    sum=0\n",
    "    for i in lst :\n",
    "        if not isinstance(i,str):\n",
    "            sum = sum + i\n",
    "    return sum"
   ]
  },
  {
   "cell_type": "code",
   "execution_count": 83,
   "id": "1ee08f03-2dce-42ba-95d0-50bc5dee3720",
   "metadata": {},
   "outputs": [
    {
     "data": {
      "text/plain": [
       "41.56"
      ]
     },
     "execution_count": 83,
     "metadata": {},
     "output_type": "execute_result"
    }
   ],
   "source": [
    "test10(l1)"
   ]
  },
  {
   "cell_type": "code",
   "execution_count": 84,
   "id": "23f440fb-b86d-47f2-9b7c-e0b0c304963f",
   "metadata": {},
   "outputs": [],
   "source": [
    "def test11(a,b):\n",
    "    return a + b"
   ]
  },
  {
   "cell_type": "code",
   "execution_count": 87,
   "id": "ef5601de-cd71-4528-9e8f-0782d75a9940",
   "metadata": {},
   "outputs": [
    {
     "data": {
      "text/plain": [
       "5"
      ]
     },
     "execution_count": 87,
     "metadata": {},
     "output_type": "execute_result"
    }
   ],
   "source": [
    "test11(2,3)"
   ]
  },
  {
   "cell_type": "code",
   "execution_count": 88,
   "id": "b08e5844-bcb3-49ac-bccb-e9386040022f",
   "metadata": {},
   "outputs": [
    {
     "data": {
      "text/plain": [
       "'sudhkumar'"
      ]
     },
     "execution_count": 88,
     "metadata": {},
     "output_type": "execute_result"
    }
   ],
   "source": [
    "test11('sudh','kumar')"
   ]
  },
  {
   "cell_type": "code",
   "execution_count": 89,
   "id": "84b50fe4-26a4-4155-8322-b95f7c5451dd",
   "metadata": {},
   "outputs": [
    {
     "data": {
      "text/plain": [
       "12"
      ]
     },
     "execution_count": 89,
     "metadata": {},
     "output_type": "execute_result"
    }
   ],
   "source": [
    "test11(a=7,b=5)"
   ]
  },
  {
   "cell_type": "code",
   "execution_count": 90,
   "id": "e460c569-2903-457d-949c-c9db90603d11",
   "metadata": {},
   "outputs": [
    {
     "data": {
      "text/plain": [
       "13"
      ]
     },
     "execution_count": 90,
     "metadata": {},
     "output_type": "execute_result"
    }
   ],
   "source": [
    "test11(b=8,a=5)"
   ]
  },
  {
   "cell_type": "code",
   "execution_count": 94,
   "id": "128dbc0e-2ffe-48f5-96c3-30a802976a3d",
   "metadata": {},
   "outputs": [],
   "source": [
    "l = [3,4,5,6,7,8,'sand',5,6,7,'kumar','ineuron']"
   ]
  },
  {
   "cell_type": "code",
   "execution_count": 103,
   "id": "2a88d896-f7e1-4e7b-a3fa-51fb709bb81b",
   "metadata": {},
   "outputs": [],
   "source": [
    "def test12(lst):\n",
    "    \"\"\"This is my function which will help to separate a string from list into new list\"\"\"\n",
    "    l1=list()\n",
    "    for i in lst:\n",
    "        if isinstance(i,str):\n",
    "            l1.append(i)\n",
    "    return l1"
   ]
  },
  {
   "cell_type": "code",
   "execution_count": 98,
   "id": "3e6d14d9-71c9-4fe4-aab1-094329c6d0ca",
   "metadata": {},
   "outputs": [
    {
     "data": {
      "text/plain": [
       "['sand', 'kumar', 'ineuron']"
      ]
     },
     "execution_count": 98,
     "metadata": {},
     "output_type": "execute_result"
    }
   ],
   "source": [
    "test12(l)"
   ]
  },
  {
   "cell_type": "code",
   "execution_count": 99,
   "id": "424fa57d-ab79-4aab-8707-c960daa5931c",
   "metadata": {},
   "outputs": [],
   "source": [
    "l2 = ['kddkjkldk','sns',45,65,'ampnb']"
   ]
  },
  {
   "cell_type": "code",
   "execution_count": 100,
   "id": "ac144d88-4d6c-4497-ad6c-2f95c997ed8d",
   "metadata": {},
   "outputs": [
    {
     "data": {
      "text/plain": [
       "['kddkjkldk', 'sns', 'ampnb']"
      ]
     },
     "execution_count": 100,
     "metadata": {},
     "output_type": "execute_result"
    }
   ],
   "source": [
    "test12(l2)"
   ]
  },
  {
   "cell_type": "code",
   "execution_count": 101,
   "id": "34441c6c-df49-4db0-a489-f877fa6b543f",
   "metadata": {},
   "outputs": [
    {
     "data": {
      "text/plain": [
       "4"
      ]
     },
     "execution_count": 101,
     "metadata": {},
     "output_type": "execute_result"
    }
   ],
   "source": [
    "len('djdj')"
   ]
  },
  {
   "cell_type": "code",
   "execution_count": 102,
   "id": "617722b9-2b21-4993-893d-f704882f5cbf",
   "metadata": {},
   "outputs": [
    {
     "name": "stdout",
     "output_type": "stream",
     "text": [
      "\n"
     ]
    }
   ],
   "source": [
    "print()"
   ]
  },
  {
   "cell_type": "code",
   "execution_count": null,
   "id": "1c14ca83-b780-450a-8b9e-8258b660cd1d",
   "metadata": {},
   "outputs": [],
   "source": [
    "test12()"
   ]
  },
  {
   "cell_type": "raw",
   "id": "d1c62698-ca60-4493-8db4-f683d762d204",
   "metadata": {},
   "source": [
    "1. wrt a fun which will try to find out length of string without inbuit len fun\n",
    "2. wrt a func which will be able to print an index of list element without using index func\n",
    "3. wrt a func which will be able to print ip address of your system\n",
    "4. wrt a func which will be able shutdown a system\n",
    "5. wrt a func which will be take input as list with any kind of numeric value and give an out as a multiplivationm of all \n",
    "    numeric data l=[3.5,6.56,4,5,'sudh','ineuron','fsds 2.0']\n",
    "6. wrt a func which will be able to read all the mails\n",
    "7. wrt a func which will be able send a mail to anyone\n",
    "8. wrt a func which will be able read a doc file from your system\n",
    "\n",
    "you are supposed to complete."
   ]
  },
  {
   "cell_type": "code",
   "execution_count": 7,
   "id": "c83e4fbe-2f77-4a73-aae3-7dcc483cd781",
   "metadata": {},
   "outputs": [
    {
     "data": {
      "text/plain": [
       "4"
      ]
     },
     "execution_count": 7,
     "metadata": {},
     "output_type": "execute_result"
    }
   ],
   "source": [
    "#  1. wrt a fun which will try to find out length of string without inbuit len fun\n",
    "def length_of_string(s):\n",
    "    \"\"\"This is my function which will help to find out length of string \"\"\"\n",
    "    count=0\n",
    "    for i in s:\n",
    "        count = count+1\n",
    "    return count     \n",
    "length_of_string('sand')"
   ]
  },
  {
   "cell_type": "code",
   "execution_count": 18,
   "id": "89a07ae5-faa3-4fa1-9429-f95613e05059",
   "metadata": {},
   "outputs": [],
   "source": [
    "#2. wrt a func which will be able to print an index of list element without using index func\n",
    "l=[1,2,3,'snad','kumar']\n",
    "\n",
    "def index_list(lst):\n",
    "    '''This is my function which will help to find out index of list'''\n",
    "    for i in range(0,length_of_string(lst)):\n",
    "        print(f\"{lst[i]} index: {i}\")\n",
    "        "
   ]
  },
  {
   "cell_type": "code",
   "execution_count": 19,
   "id": "22f2b3ca-7cd0-41e2-9dd1-cf335fccc837",
   "metadata": {},
   "outputs": [
    {
     "name": "stdout",
     "output_type": "stream",
     "text": [
      "1 index: 0\n",
      "2 index: 1\n",
      "3 index: 2\n",
      "snad index: 3\n",
      "kumar index: 4\n"
     ]
    }
   ],
   "source": [
    "index_list(l)"
   ]
  },
  {
   "cell_type": "code",
   "execution_count": 17,
   "id": "21d17542-352a-41b8-adc1-72134029aa6d",
   "metadata": {},
   "outputs": [
    {
     "data": {
      "text/plain": [
       "'172.18.0.15'"
      ]
     },
     "execution_count": 17,
     "metadata": {},
     "output_type": "execute_result"
    }
   ],
   "source": [
    "#3. wrt a func which will be able to print ip address of your system\n",
    "import socket\n",
    "def address():\n",
    "    ''' ip address of your system'''\n",
    "    ip =socket.gethostbyname(socket.gethostname())\n",
    "    return ip\n",
    "address()"
   ]
  },
  {
   "cell_type": "code",
   "execution_count": 25,
   "id": "d9d6cf4f-3448-43e9-aa74-f0de0638d1bd",
   "metadata": {},
   "outputs": [
    {
     "name": "stderr",
     "output_type": "stream",
     "text": [
      "sh: 1: /s: not found\n"
     ]
    },
    {
     "data": {
      "text/plain": [
       "32512"
      ]
     },
     "execution_count": 25,
     "metadata": {},
     "output_type": "execute_result"
    }
   ],
   "source": [
    "#4. wrt a func which will be able shutdown a system\n",
    "import os\n",
    "os.system(\"/s /t 4\")\n",
    "#/s - shutdown\n",
    "#/r - restart\n",
    "#/t 1- timer "
   ]
  },
  {
   "cell_type": "code",
   "execution_count": 26,
   "id": "293f7da2-8498-4921-a6d4-11b264f6dd5c",
   "metadata": {},
   "outputs": [
    {
     "data": {
      "text/plain": [
       "459.19999999999993"
      ]
     },
     "execution_count": 26,
     "metadata": {},
     "output_type": "execute_result"
    }
   ],
   "source": [
    "'''5. wrt a func which will be take input as list with any kind of numeric value and give an out as a multiplivation of all \n",
    "    numeric data l=[3.5,6.56,4,5,'sudh','ineuron','fsds 2.0']'''\n",
    "\n",
    "l=[3.5,6.56,4,5,'sudh','ineuron','fsds 2.0']\n",
    "\n",
    "def Multiply(lst):\n",
    "    mul=1\n",
    "    for i in lst:\n",
    "        if isinstance(i,int) or isinstance(i,float):\n",
    "            mul = mul * i\n",
    "    return mul\n",
    "Multiply(l)"
   ]
  },
  {
   "cell_type": "code",
   "execution_count": 37,
   "id": "1a896610-5dbc-4b07-80ff-1addfa6d2eae",
   "metadata": {},
   "outputs": [
    {
     "name": "stdout",
     "output_type": "stream",
     "text": [
      "From : Tata CLiQ <TataCLiQ@em.tatacliq.com>\n",
      "\n",
      "Subject : Your Monsoon Footwear Guide Has Arrived\n",
      "\n",
      "From : Google <no-reply@accounts.google.com>\n",
      "\n",
      "Subject : Security alert\n",
      "\n",
      "From : Google <no-reply@accounts.google.com>\n",
      "\n",
      "Subject : Security alert\n",
      "\n",
      "From : Cambly Kids <help@cambly.com>\n",
      "\n",
      "Subject : =?UTF-8?q?Bandi_Sandeep1_=F0=9F=91=8B,_Angelica_is_waiting_for_you_to_joi?=\n",
      " =?UTF-8?q?n_the_LIVE_CALL?=\n",
      "\n",
      "From : \"Facebook friending\" <notification@facebookmail.com>\n",
      "\n",
      "Subject : L Laxminarsaiah wants to be friends on Facebook\n",
      "\n",
      "From : LinkedIn Job Alerts <jobalerts-noreply@linkedin.com>\n",
      "\n",
      "Subject : =?UTF-8?Q?30+_new_jobs_for_=E2=80=9Cjobs=E2=80=9D?=\n",
      "\n",
      "From : \"Facebook Birthdays\" <birthdays@facebookmail.com>\n",
      "\n",
      "Subject : =?UTF-8?B?8J+OgiBJdCdzIEFuYW5kIFNh?=\n",
      " =?UTF-8?B?bmRhbmFnaXJpJ3MgYmly?=\n",
      " =?UTF-8?B?dGhkYXkgdG9kYXk=?=\n",
      "\n",
      "From : \"iNeuron.ai\" <contact@ineuron.ai>\n",
      "\n",
      "Subject : Join The Live Class Of Full Stack Data Science BootCamp 2.0\n",
      "\n",
      "From : Jay Shetty <email@jayshetty.me>\n",
      "\n",
      "Subject : Invitation for Bandi sandeep\n",
      "\n",
      "From : LinkedIn Job Alerts <jobalerts-noreply@linkedin.com>\n",
      "\n",
      "Subject : =?UTF-8?Q?=E2=80=9Cdata_scientist=E2=80=9D_roles:_Novartis_India_Da?=\n",
      " =?UTF-8?Q?ta_Scientist_-_Advanced_Analytics_and_more?=\n",
      "\n",
      "From : LinkedIn Job Alerts <jobalerts-noreply@linkedin.com>\n",
      "\n",
      "Subject : =?UTF-8?Q?=E2=80=9Cmachine_learning_engineer=E2=80=9D_?=\n",
      " =?UTF-8?Q?roles:_Tiger_Analytics_-_US_?=\n",
      " =?UTF-8?Q?Senior/Lead_-_Machine_Learning_Engineer_/_MLOps_and_more?=\n",
      "\n",
      "From : Zomato <noreply@mailers.zomato.com>\n",
      "\n",
      "Subject : Zomato birthday weekend special =?UTF-8?B?8J+Sg/Cfj7vwn46J?=\n",
      "\n",
      "From : Dominos Pizza India <newsletter@offers.dominos.co.in>\n",
      "\n",
      "Subject : Tap before your chocolate melts away =?UTF-8?B?8J+Nqw==?=\n",
      "\n",
      "From : \"IndiGo\" <mailers@marketing.goindigo.in>\n",
      "\n",
      "Subject : =?utf-8?B?VGhpcyBqdXN0IGluIPCfkpk=?=\n",
      "\n",
      "From : LinkedIn <notifications-noreply@linkedin.com>\n",
      "\n",
      "Subject : You appeared in 24 searches\n",
      "\n",
      "From : Tata CLiQ <TataCLiQ@em.tatacliq.com>\n",
      "\n",
      "Subject : =?UTF-8?Q?=F0=9F=94=AE_You'll_Love_Westside=E2=80=99s_New_Arrivals?=\n",
      "\n",
      "From : \"amazon.in\" <account-update@amazon.in>\n",
      "\n",
      "Subject : amazon.in, action needed: Sign-in\n",
      "\n",
      "From : Ismail Mahammed <information@hdfcbank.net>\n",
      "\n",
      "Subject : =?utf-8?B?QS9jIE5vLnh4MTM1NjogQ29uZ3JhdHVsYXRpb25zISBUaGVy?=\n",
      "\t=?utf-8?B?ZSdzIGEgc3BlY2lhbCBJbnN0YW50IFBlcnNvbmFsIExvYW4gb2ZmZXIg?=\n",
      "\t=?utf-8?B?d2FpdGluZyBmb3IgeW91?=\n",
      "\n",
      "From : LinkedIn Job Alerts <jobalerts-noreply@linkedin.com>\n",
      "\n",
      "Subject : =?UTF-8?Q?30+_new_jobs_for_=E2=80=9Cjobs=E2=80=9D?=\n",
      "\n",
      "From : HDFC Bank InstaAlerts <alerts@hdfcbank.net>\n",
      "\n",
      "Subject : =?UTF-8?Q?=E2=9D=97You_have_done_a_UPI_txn._Check_details!?=\n",
      "\n",
      "From : LinkedIn <updates-noreply@linkedin.com>\n",
      "\n",
      "Subject : Thifal Salsabila Salmaa and others share their thoughts on LinkedIn\n",
      "\n",
      "From : Amazon Pay India <no-reply@amazonpay.in>\n",
      "\n",
      "Subject : Payment Reminder\n",
      "\n",
      "From : LinkedIn <messages-noreply@linkedin.com>\n",
      "\n",
      "Subject : =?UTF-8?Q?=F0=9F=92=AC_Bandi,_add_Adnan_Jawed_to_your_network?=\n",
      "\n",
      "From : LinkedIn <notifications-noreply@linkedin.com>\n",
      "\n",
      "Subject : =?UTF-8?Q?Alisha_Nagpal_shared_a_post:_Hi_everyone=E2=80=A6?=\n",
      "\n",
      "From : Amazon Pay India <no-reply@amazonpay.in>\n",
      "\n",
      "Subject : Payment Reminder\n",
      "\n",
      "From : \"Facebook Birthdays\" <birthdays@facebookmail.com>\n",
      "\n",
      "Subject : =?UTF-8?B?8J+OgiBFc2h3YXIgS29yaWRl?=\n",
      " =?UTF-8?B?LCBHdW50dWthIE5hZGFt?=\n",
      " =?UTF-8?B?IGFuZCBOaXRoaXNoIFJl?=\n",
      " =?UTF-8?B?ZGR5IGhhdmUgdGhlaXIg?=\n",
      " =?UTF-8?B?YmlydGhkYXlzIHRvZGF5?=\n",
      "\n",
      "From : \"iNeuron.ai\" <contact@ineuron.ai>\n",
      "\n",
      "Subject : Join The Live Class Of Full Stack Data Science BootCamp 2.0\n",
      "\n",
      "From : \"IndiGo\" <mailers@marketing.goindigo.in>\n",
      "\n",
      "Subject : =?utf-8?B?QmVuZWZpdHMgd29ydGgg4oK5NywwMDAg8J+Yrg==?=\n",
      "\n",
      "From : CRED <protect@cred.club>\n",
      "\n",
      "Subject : your credit card payment is due\n",
      "\n",
      "From : Tata CLiQ <TataCLiQ@em.tatacliq.com>\n",
      "\n",
      "Subject : =?UTF-8?Q?Renew_Your_Workouts_With_Reebok_=F0=9F=92=AA?=\n",
      "\n",
      "From : LinkedIn Job Alerts <jobalerts-noreply@linkedin.com>\n",
      "\n",
      "Subject : =?UTF-8?Q?=E2=80=9Cmachine_learning_enginee?=\n",
      " =?UTF-8?Q?r=E2=80=9D_roles:_SERVICEPACK_Sen?=\n",
      " =?UTF-8?Q?ior_Machine_Learning_Engineer_-_NLP/Python_and_more?=\n",
      "\n",
      "From : LinkedIn Job Alerts <jobalerts-noreply@linkedin.com>\n",
      "\n",
      "Subject : =?UTF-8?Q?=E2=80=9Cdata_scientist=E2=80=9D_roles:_Carbyne?=\n",
      " =?UTF-8?Q?tech_Interesting_Job_Opportunity?=\n",
      " =?UTF-8?Q?:_CarbyneTech_-_Data_Scientist_-?=\n",
      " =?UTF-8?Q?_Machine_Learning/APICS_and_more?=\n",
      "\n",
      "From : Zomato <noreply@mailers.zomato.com>\n",
      "\n",
      "Subject : You are invited! =?UTF-8?B?8J+OiSDwn5KD8J+PuyDwn46I?=\n",
      "\n",
      "From : LinkedIn <jobs-listings@linkedin.com>\n",
      "\n",
      "Subject : Python Developer job at Atyeti Inc: Actively recruiting\n",
      "\n",
      "From : HackerRank Team <no-reply@hackerrankmail.com>\n",
      "\n",
      "Subject : Improve your Coding Skills with Arithmetic Operators\n",
      "\n",
      "From : foundit - formerly Monster APAC & ME <info@alerts.foundit.in>\n",
      "\n",
      "Subject : Your pass =?UTF-8?B?8J+Onw==?= to an inclusive workplace\n",
      "\n",
      "From : Cambly Kids <help@cambly.com>\n",
      "\n",
      "Subject : =?UTF-8?q?[Webinar]_Exclusive_Free_Invitation_=E2=9C=89=EF=B8=8F?=\n",
      "\n",
      "From : HDFC Bank Smart Statement <hdfcbanksmartstatement@hdfcbank.net>\n",
      "\n",
      "Subject : Email Account Statement of your HDFC Bank Account  ***1356 for the period 07-Jun-2023 TO 06-Jul-2023\n",
      "\n",
      "From : LinkedIn Job Alerts <jobalerts-noreply@linkedin.com>\n",
      "\n",
      "Subject : =?UTF-8?Q?30+_new_jobs_for_=E2=80=9Cjobs=E2=80=9D?=\n",
      "\n",
      "From : \"Hult International Business School\" <admissions@hult.edu>\n",
      "\n",
      "Subject : Time to take action, Sandeep!\n",
      "\n",
      "From : Samsung Electronics <noreply1@samsung.com>\n",
      "\n",
      "Subject : =?UTF-8?B?WW91ciBlYXJseSBpbnZpdGUgaXMgaGVyZQ==?=\n",
      "\n",
      "From : Illinois Tech Graduate Admission <grad.admission@iit.edu>\n",
      "\n",
      "Subject : Get a Data, Information, and Technical Communication Executive\n",
      " Certificate online\n",
      "\n",
      "From : LinkedIn <updates-noreply@linkedin.com>\n",
      "\n",
      "Subject : Thifal Salsabila Salmaa and others share their thoughts on LinkedIn\n",
      "\n",
      "From : \"IndiGo\" <mailers@marketing.goindigo.in>\n",
      "\n",
      "Subject : =?utf-8?B?UmVhZHkuIFNldC4gVW53aW5kIPCfmIw=?=\n",
      "\n",
      "From : Jay Shetty <email@jayshetty.me>\n",
      "\n",
      "Subject : =?UTF-8?q?Bandi_sandeep,_this_will_change_your_life=E2=80=A6?=\n",
      "\n",
      "From : LinkedIn Job Alerts <jobalerts-noreply@linkedin.com>\n",
      "\n",
      "Subject : =?UTF-8?Q?=E2=80=9Cdata_scientist=E2=80=9D_role?=\n",
      " =?UTF-8?Q?:_Schr=C3=B6dinger_Drug_Dis?=\n",
      " =?UTF-8?Q?covery_Associate_Data_Scientist_-_Hyderabad?=\n",
      "\n",
      "From : Amazon Pay India <no-reply@amazonpay.in>\n",
      "\n",
      "Subject : Payment Reminder\n",
      "\n",
      "From : \"iNeuron.ai\" <contact@ineuron.ai>\n",
      "\n",
      "Subject : Join The Doubt Clearing Class Of Full Stack Data Science BootCamp 2.0\n",
      "\n",
      "From : \"Facebook Birthdays\" <birthdays@facebookmail.com>\n",
      "\n",
      "Subject : =?UTF-8?B?8J+OgiBOYXRhdmFyYSBOYXJl?=\n",
      " =?UTF-8?B?c2ggRGFzIGFuZCBWYXJ1?=\n",
      " =?UTF-8?B?biBBbmRoZSBoYXZlIHRo?=\n",
      " =?UTF-8?B?ZWlyIGJpcnRoZGF5cyB0?=\n",
      " =?UTF-8?B?b2RheQ==?=\n",
      "\n",
      "From : Amazon Pay India <no-reply@amazonpay.in>\n",
      "\n",
      "Subject : Payment Reminder\n",
      "\n",
      "From : LinkedIn Job Alerts <jobalerts-noreply@linkedin.com>\n",
      "\n",
      "Subject : =?UTF-8?Q?30+_new_jobs_for_=E2=80=9Cjobs=E2=80=9D?=\n",
      "\n",
      "From : \"Amazon.in\" <store-news@amazon.in>\n",
      "\n",
      "Subject : iQOO Z6 Lite\n",
      "\n",
      "From : DataCamp Insights <team@datacamp.com>\n",
      "\n",
      "Subject : New Course: Large Language Models (LLMs) Concepts\n",
      "\n",
      "From : GitHub <noreply@github.com>\n",
      "\n",
      "Subject : [GitHub] Please verify your device\n",
      "\n",
      "'utf-8' codec can't decode byte 0xa0 in position 7405: invalid start byte\n"
     ]
    },
    {
     "name": "stderr",
     "output_type": "stream",
     "text": [
      "Traceback (most recent call last):\n",
      "  File \"/tmp/ipykernel_147/155658930.py\", line 33, in read_email_from_gmail\n",
      "    msg = email.message_from_string(str(arr[1],'utf-8'))\n",
      "UnicodeDecodeError: 'utf-8' codec can't decode byte 0xa0 in position 7405: invalid start byte\n"
     ]
    }
   ],
   "source": [
    "#6. wrt a func which will be able to read all the mails\n",
    "\n",
    "import smtplib\n",
    "import time\n",
    "import imaplib\n",
    "import email\n",
    "import traceback\n",
    "\n",
    "ORG_EMAIL = \"@gmail.com\" \n",
    "FROM_EMAIL = 'bandisandeep1374@gmail.com'\n",
    "FROM_PWD = 'bfngavujuttpdtqj'\n",
    "SMTP_SERVER = \"imap.gmail.com\" \n",
    "SMTP_PORT = 993\n",
    "imaplib._MAXLINE = 400000\n",
    "\n",
    "def read_email_from_gmail():\n",
    "    try:\n",
    "        mail = imaplib.IMAP4_SSL(SMTP_SERVER)\n",
    "        mail.login(FROM_EMAIL,FROM_PWD)\n",
    "        mail.select('inbox')\n",
    "\n",
    "        data = mail.search(None, 'ALL')\n",
    "        mail_ids = data[1]\n",
    "        id_list = mail_ids[0].split()   \n",
    "        first_email_id = int(id_list[0])\n",
    "        latest_email_id = int(id_list[-1])\n",
    "\n",
    "        for i in range(latest_email_id,first_email_id, -1):\n",
    "            data = mail.fetch(str(i), '(RFC822)' )\n",
    "            for response_part in data:\n",
    "                arr = response_part[0]\n",
    "                if isinstance(arr, tuple):\n",
    "                    msg = email.message_from_string(str(arr[1],'utf-8'))\n",
    "                    email_subject = msg['subject']\n",
    "                    email_from = msg['from']\n",
    "                    print('From : ' + email_from + '\\n')\n",
    "                    print('Subject : ' + email_subject + '\\n')\n",
    "\n",
    "    except Exception as e:\n",
    "        traceback.print_exc() \n",
    "        print(str(e))\n",
    "\n",
    "read_email_from_gmail()\n"
   ]
  },
  {
   "cell_type": "code",
   "execution_count": 1,
   "id": "fcd65489-7b6c-4d54-be05-a2814b8a7656",
   "metadata": {},
   "outputs": [],
   "source": [
    "#7. wrt a func which will be able send a mail to anyone\n",
    "#simple mail transfer protocol , ssl-squal server\n",
    "import smtplib, ssl\n",
    "port = 465 #ssl\n",
    "smtp_server = 'smtp.gmail.com'\n",
    "sender = 'bandisandeep1374@gmail.com'\n",
    "receiver = 'enugandulaumamahesh@gmail.com'\n",
    "password = 'bfngavujuttpdtqj'\n",
    "message = '''HariOm\n",
    "This mail is from Python code\n",
    "'''\n",
    "\n",
    "context = ssl.create_default_context()\n",
    "\n",
    "with smtplib.SMTP_SSL(smtp_server,port,context=context) as server:\n",
    "    server.login(sender , password)\n",
    "    server.sendmail(sender,receiver,message)"
   ]
  },
  {
   "cell_type": "code",
   "execution_count": 2,
   "id": "8598ecb3-2529-4ccb-847d-980717596794",
   "metadata": {},
   "outputs": [
    {
     "name": "stdout",
     "output_type": "stream",
     "text": [
      "Collecting docx2txt\n",
      "  Downloading docx2txt-0.8.tar.gz (2.8 kB)\n",
      "  Preparing metadata (setup.py) ... \u001b[?25ldone\n",
      "\u001b[?25hBuilding wheels for collected packages: docx2txt\n",
      "  Building wheel for docx2txt (setup.py) ... \u001b[?25ldone\n",
      "\u001b[?25h  Created wheel for docx2txt: filename=docx2txt-0.8-py3-none-any.whl size=3960 sha256=498da15c4f0e184059a81ac39f422ac4a6319d2a6fba63101e6eb813238114f6\n",
      "  Stored in directory: /home/jovyan/.cache/pip/wheels/3c/78/a3/ef70996aa66e38229494dbd84cd747e2e0668f1940bf4a7de8\n",
      "Successfully built docx2txt\n",
      "Installing collected packages: docx2txt\n",
      "Successfully installed docx2txt-0.8\n"
     ]
    }
   ],
   "source": [
    "!pip install docx2txt"
   ]
  },
  {
   "cell_type": "code",
   "execution_count": 3,
   "id": "f56be7e3-a30e-485b-a44f-11bb68e5b09a",
   "metadata": {},
   "outputs": [],
   "source": [
    "\n",
    "#8. wrt a func which will be able read a doc file from your system\n",
    "\n",
    "\n",
    "import docx2txt"
   ]
  },
  {
   "cell_type": "code",
   "execution_count": 13,
   "id": "bd253f5f-e824-4e2f-96a9-b465ae5bd86e",
   "metadata": {},
   "outputs": [],
   "source": [
    "a = docx2txt.process('sample Resume11.docx')"
   ]
  },
  {
   "cell_type": "code",
   "execution_count": 14,
   "id": "a593bd91-4d64-40a3-973a-5ebcf55ed2b5",
   "metadata": {},
   "outputs": [
    {
     "name": "stdout",
     "output_type": "stream",
     "text": [
      "SANDEEP BANDI\n",
      "\n",
      "Contact no: +91 9494420777\n",
      "\n",
      "Email: s.bandi3@tcs.com.\n",
      "\n",
      "\n",
      "\n",
      "Career Objective:\n",
      "\n",
      "\t\tTo work in a challenging environment that would facilitate the maximum utilization of my skills and in making a positive difference for myself and the organization.\n",
      "\n",
      "\t\tTo strive for excellence incompetence, delivery, communication & management.\n",
      "\n",
      "\t\tSeeking a challenging career with the organization.\n",
      "\n",
      "\t\tTo make use of my interpersonal skills to achieve the goals of a company.\n",
      "\n",
      "\t\tBe part of a reputed organization, which provides opportunities to enhance and utilize my knowledge and skills.\n",
      "\n",
      "Education:\n",
      "\n",
      "\t\tBachelor of Technology (CSE) at Lovely Professional University with 6.36 CGPA.\n",
      "\n",
      "\t\tBoard Of Intermediate at Sri Chaitanya Junior College Hyderabad with 85.5 %.\n",
      "\n",
      "\t\tSSC at Alphores High School with 8.7 CGPA.\n",
      "\n",
      "\n",
      "\n",
      "Skills:\n",
      "\n",
      "Programming Languages: C, C++, Java (core), Python Basic to Advance Programming.\n",
      "\n",
      "\t\tObject Oriented Programming Knowledge on Inheritance, Encapsulation\n",
      "\n",
      ", Polymorphism, Data Abstraction.\n",
      "\n",
      "\t\tKnowledge on Python Libraries like NumPy, Pandas, Matplotlib, and Beautiful Soup.\n",
      "\n",
      "\t\tKnowledge on Web scraping.\n",
      "\n",
      "\t\tKnowledge on Regular Expression.\n",
      "\n",
      "\t\tKnowledge on Multithreading.\n",
      "\n",
      "\t\tKnowledge on Advanced Functions on Python such as Lambda, Filter, Map, Generator.\n",
      "\n",
      "Backed Frameworks: Django, Flask.\n",
      "\n",
      "Frontend: HTML, CSS.\n",
      "\n",
      "Tools: Vs code, Jupyter Notebook, Anaconda Navigator.\n",
      "\n",
      "Data Visualization Tool: PowerBi. Version Control: GitHub.\n",
      "\n",
      "Databases: MySQL.\n",
      "\n",
      "\t\tKnowledge on DDL-Data Definition Language.\n",
      "\n",
      "\t\tKnowledge on DML-Data Manipulation Language.\n",
      "\n",
      "\t\tKnowledge on DCL-Data Control Language.\n",
      "\n",
      "\t\tKnowledge on DQL-Data Query Language.\n",
      "\n",
      "\t\tKnowledge on Keys.\n",
      "\n",
      "\n",
      "\n",
      "\n",
      "\n",
      "\n",
      "\n",
      "Training and Certification:\n",
      "\n",
      "\tCompleted Python Basic to Advance at Python Life.\n",
      "\n",
      "\tPursuing Full Stack Data Science Training at Ineuron.ai.\n",
      "\n",
      "\n",
      "\n",
      "Projects:\n",
      "\n",
      "\n",
      "\n",
      "Flipkart Reviews Scrapper.\n",
      "\n",
      "\n",
      "\n",
      "Requirements: Python3, requests, Beautiful Soup, Pandas, NumPy, Matplotlib, Seaborn, Jupyter Notebook.\n",
      "\n",
      "\n",
      "\n",
      "Project description:\n",
      "\n",
      "The Flipkart review scraper project involves developing a web scraping tool that fetches product reviews from Flipkart. The scraper will extract relevant information such as reviewer names, review content, ratings, and other metadata.\n",
      "\n",
      "\n",
      "\n",
      "\n",
      "\n",
      "Exploratory Data Analysis on Covid 19 Cases.\n",
      "\n",
      "Requirements: Python3, Date Time Module, Pandas, NumPy, Matplotlib, Seaborn, Jupyter Notebook.\n",
      "\n",
      "\n",
      "\n",
      "Project description:\n",
      "\n",
      "In This Project we did EDA on Covid Dataset using Pandas and NumPy Data Preprocessing is done and using Matplotlib we did Data Visualization and by using python 3 and Jupyter notebook.\n",
      "\n",
      "\n",
      "\n",
      "\n",
      "\n",
      "Super Market Bill Generation.\n",
      "\n",
      "Requirements: Python3, Date Time Module,\n",
      "\n",
      "\n",
      "\n",
      "Project description:\n",
      "\n",
      "The Python code snippet demonstrates a basic supermarket bill generation system that allows adding items, calculating the total cost, and generating an itemized bill.\n",
      "\n",
      "\n",
      "\n",
      "\n",
      "\n",
      "KEY STRENGTHS:\n",
      "\n",
      "\n",
      "\n",
      "\tEffective communication skills.\n",
      "\n",
      "\tTeam work.\n",
      "\n",
      "\tFlexibility.\n",
      "\n",
      "\tQuick Learner\n"
     ]
    }
   ],
   "source": [
    "print(a)"
   ]
  },
  {
   "cell_type": "code",
   "execution_count": null,
   "id": "fba424dd-97ba-4997-bcf5-f3d00cf411a8",
   "metadata": {},
   "outputs": [],
   "source": []
  }
 ],
 "metadata": {
  "kernelspec": {
   "display_name": "Python 3 (ipykernel)",
   "language": "python",
   "name": "python3"
  },
  "language_info": {
   "codemirror_mode": {
    "name": "ipython",
    "version": 3
   },
   "file_extension": ".py",
   "mimetype": "text/x-python",
   "name": "python",
   "nbconvert_exporter": "python",
   "pygments_lexer": "ipython3",
   "version": "3.10.6"
  }
 },
 "nbformat": 4,
 "nbformat_minor": 5
}
