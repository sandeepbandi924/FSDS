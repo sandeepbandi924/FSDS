{
 "cells": [
  {
   "cell_type": "code",
   "execution_count": 1,
   "id": "53ae9467-cb1e-44b0-b910-05f050a741d1",
   "metadata": {},
   "outputs": [
    {
     "data": {
      "text/plain": [
       "11"
      ]
     },
     "execution_count": 1,
     "metadata": {},
     "output_type": "execute_result"
    }
   ],
   "source": [
    "def test1():\n",
    "    a = 5+6\n",
    "    return a\n",
    "test1()"
   ]
  },
  {
   "cell_type": "code",
   "execution_count": 2,
   "id": "09723fda-aecf-44f0-92a3-fe57ccd0bd3b",
   "metadata": {},
   "outputs": [
    {
     "data": {
      "text/plain": [
       "7"
      ]
     },
     "execution_count": 2,
     "metadata": {},
     "output_type": "execute_result"
    }
   ],
   "source": [
    "def test2(a,b):\n",
    "    return a+b\n",
    "test2(2,5)"
   ]
  },
  {
   "cell_type": "code",
   "execution_count": 3,
   "id": "c1f2d07c-5da1-4d09-8cf9-7e1576a81f05",
   "metadata": {},
   "outputs": [
    {
     "data": {
      "text/plain": [
       "'sandKumar'"
      ]
     },
     "execution_count": 3,
     "metadata": {},
     "output_type": "execute_result"
    }
   ],
   "source": [
    "test2('sand', 'Kumar')"
   ]
  },
  {
   "cell_type": "code",
   "execution_count": 4,
   "id": "28855063-71bb-43f3-b024-3f36c3e6b8f8",
   "metadata": {},
   "outputs": [
    {
     "data": {
      "text/plain": [
       "'xyzabcd'"
      ]
     },
     "execution_count": 4,
     "metadata": {},
     "output_type": "execute_result"
    }
   ],
   "source": [
    "test2(b = 'abcd' , a = 'xyz')"
   ]
  },
  {
   "cell_type": "code",
   "execution_count": 5,
   "id": "4aeab153-53d1-4e63-8c48-14d5ec47cfff",
   "metadata": {},
   "outputs": [],
   "source": [
    "def test3(*args):\n",
    "    return args"
   ]
  },
  {
   "cell_type": "code",
   "execution_count": 6,
   "id": "ab9d515d-54dc-49f3-8eab-ed33927b2b86",
   "metadata": {},
   "outputs": [
    {
     "data": {
      "text/plain": [
       "(1, 2, 3, 4, 'sand')"
      ]
     },
     "execution_count": 6,
     "metadata": {},
     "output_type": "execute_result"
    }
   ],
   "source": [
    "test3(1,2,3,4,'sand')"
   ]
  },
  {
   "cell_type": "code",
   "execution_count": 7,
   "id": "4ce39e1e-c97a-486b-ac70-3d90d400223b",
   "metadata": {},
   "outputs": [
    {
     "data": {
      "text/plain": [
       "tuple"
      ]
     },
     "execution_count": 7,
     "metadata": {},
     "output_type": "execute_result"
    }
   ],
   "source": [
    "type(test3())"
   ]
  },
  {
   "cell_type": "code",
   "execution_count": 8,
   "id": "7e6b81ef-0e02-420b-8aea-a73d6d7d27f4",
   "metadata": {},
   "outputs": [
    {
     "data": {
      "text/plain": [
       "([1, 2, 3, 4, 5], 'sand', 'ineuron', (3+7j), (1, 2, 4, 5))"
      ]
     },
     "execution_count": 8,
     "metadata": {},
     "output_type": "execute_result"
    }
   ],
   "source": [
    "test3([1,2,3,4,5],'sand','ineuron',3+7j,(1,2,4,5))"
   ]
  },
  {
   "cell_type": "code",
   "execution_count": 9,
   "id": "dae629a2-ab0b-4403-8d2f-9b4a57ffb514",
   "metadata": {},
   "outputs": [],
   "source": [
    "def test4(*args):\n",
    "    return list(args)"
   ]
  },
  {
   "cell_type": "code",
   "execution_count": 10,
   "id": "0e4782f9-aed9-4bbf-acb4-42f2ceb3fa42",
   "metadata": {},
   "outputs": [
    {
     "data": {
      "text/plain": [
       "[[1, 2, 3], 'sand', (3+7j), 'ineuron', True]"
      ]
     },
     "execution_count": 10,
     "metadata": {},
     "output_type": "execute_result"
    }
   ],
   "source": [
    "test4([1,2,3],'sand',3+7j,'ineuron',True)"
   ]
  },
  {
   "cell_type": "code",
   "execution_count": 11,
   "id": "c31abeec-3023-4744-aa8e-be3908854c8c",
   "metadata": {},
   "outputs": [],
   "source": [
    "#Hard way\n",
    "def test5(*args):\n",
    "    l = []\n",
    "    for i in args:\n",
    "        l.append(i)\n",
    "    return l\n",
    "\n"
   ]
  },
  {
   "cell_type": "code",
   "execution_count": 12,
   "id": "15065e9e-c23f-4303-9b0e-ae4ab1cedc1c",
   "metadata": {},
   "outputs": [
    {
     "data": {
      "text/plain": [
       "[[1, 2, 3], 'sand', (3+7j), 'ineuron', True]"
      ]
     },
     "execution_count": 12,
     "metadata": {},
     "output_type": "execute_result"
    }
   ],
   "source": [
    "test5([1,2,3],'sand',3+7j,'ineuron',True)"
   ]
  },
  {
   "cell_type": "code",
   "execution_count": 13,
   "id": "078d12d4-18be-4ae5-8fbd-21feeae4e15b",
   "metadata": {},
   "outputs": [
    {
     "data": {
      "text/plain": [
       "[[1, 2, 3], 'sand', (3+7j), 'ineuron', True]"
      ]
     },
     "execution_count": 13,
     "metadata": {},
     "output_type": "execute_result"
    }
   ],
   "source": [
    "def test6(*sand): #args is not a keyword\n",
    "    return list(sand)\n",
    "\n",
    "test6([1,2,3],'sand',3+7j,'ineuron',True)"
   ]
  },
  {
   "cell_type": "code",
   "execution_count": 14,
   "id": "db95ac99-9230-465e-9e02-fd41f00def01",
   "metadata": {},
   "outputs": [],
   "source": [
    "def test10(**kwargs):\n",
    "    return kwargs"
   ]
  },
  {
   "cell_type": "code",
   "execution_count": 15,
   "id": "ee08bbd3-0e8d-4cbc-8ed7-f7b4ed85811d",
   "metadata": {},
   "outputs": [
    {
     "data": {
      "text/plain": [
       "{'k1': 45, 'k2': 'sudh', 'k3': [1, 2, 3, 4, 5]}"
      ]
     },
     "execution_count": 15,
     "metadata": {},
     "output_type": "execute_result"
    }
   ],
   "source": [
    "test10(k1=45, k2='sudh', k3=[1,2,3,4,5])"
   ]
  },
  {
   "cell_type": "code",
   "execution_count": 16,
   "id": "3d179431-c06f-47bb-8780-1a5333927eb0",
   "metadata": {},
   "outputs": [],
   "source": [
    "def test11(**sand):\n",
    "    return sand"
   ]
  },
  {
   "cell_type": "code",
   "execution_count": 17,
   "id": "b756052f-199f-47a8-9239-334e7b371766",
   "metadata": {},
   "outputs": [
    {
     "data": {
      "text/plain": [
       "{'k1': 45, 'k2': 'sudh', 'k3': [1, 2, 3, 4, 5]}"
      ]
     },
     "execution_count": 17,
     "metadata": {},
     "output_type": "execute_result"
    }
   ],
   "source": [
    "test11(k1=45, k2='sudh', k3=[1,2,3,4,5])"
   ]
  },
  {
   "cell_type": "code",
   "execution_count": 18,
   "id": "29664da2-c17c-45ff-9642-48fb80f1d469",
   "metadata": {},
   "outputs": [],
   "source": [
    "#func with in fun\n",
    "\n",
    "def test12(a):\n",
    "    return a\n",
    "\n",
    "def test13(b):\n",
    "    return b\n",
    "\n",
    "def test14(func):\n",
    "    return func('sand')"
   ]
  },
  {
   "cell_type": "code",
   "execution_count": 19,
   "id": "822ef73b-d07e-4e39-ad55-e43dbd8a2e77",
   "metadata": {},
   "outputs": [
    {
     "data": {
      "text/plain": [
       "'sand'"
      ]
     },
     "execution_count": 19,
     "metadata": {},
     "output_type": "execute_result"
    }
   ],
   "source": [
    "test14(test12)"
   ]
  },
  {
   "cell_type": "code",
   "execution_count": 20,
   "id": "b91c5dac-0c9e-4870-a2f0-bf45dc481276",
   "metadata": {},
   "outputs": [
    {
     "data": {
      "text/plain": [
       "'sand'"
      ]
     },
     "execution_count": 20,
     "metadata": {},
     "output_type": "execute_result"
    }
   ],
   "source": [
    "test14(test13)"
   ]
  },
  {
   "cell_type": "code",
   "execution_count": 21,
   "id": "b9bb24a4-8074-4cd7-9b0a-4f73cbe1489c",
   "metadata": {},
   "outputs": [],
   "source": [
    "def test12(a):\n",
    "    return a\n",
    "\n",
    "def test13():\n",
    "    return 'sudh'\n",
    "\n",
    "def test14(func):\n",
    "    return func('sand')"
   ]
  },
  {
   "cell_type": "code",
   "execution_count": 22,
   "id": "f42e502e-a909-4cbd-8481-172180bb7fdb",
   "metadata": {},
   "outputs": [
    {
     "data": {
      "text/plain": [
       "'sand'"
      ]
     },
     "execution_count": 22,
     "metadata": {},
     "output_type": "execute_result"
    }
   ],
   "source": [
    "test14(test12)"
   ]
  },
  {
   "cell_type": "code",
   "execution_count": 23,
   "id": "717153c3-0676-4bf8-ad50-639103b33560",
   "metadata": {},
   "outputs": [
    {
     "ename": "TypeError",
     "evalue": "test13() takes 0 positional arguments but 1 was given",
     "output_type": "error",
     "traceback": [
      "\u001b[0;31m---------------------------------------------------------------------------\u001b[0m",
      "\u001b[0;31mTypeError\u001b[0m                                 Traceback (most recent call last)",
      "Cell \u001b[0;32mIn [23], line 1\u001b[0m\n\u001b[0;32m----> 1\u001b[0m \u001b[43mtest14\u001b[49m\u001b[43m(\u001b[49m\u001b[43mtest13\u001b[49m\u001b[43m)\u001b[49m\n",
      "Cell \u001b[0;32mIn [21], line 8\u001b[0m, in \u001b[0;36mtest14\u001b[0;34m(func)\u001b[0m\n\u001b[1;32m      7\u001b[0m \u001b[38;5;28;01mdef\u001b[39;00m \u001b[38;5;21mtest14\u001b[39m(func):\n\u001b[0;32m----> 8\u001b[0m     \u001b[38;5;28;01mreturn\u001b[39;00m \u001b[43mfunc\u001b[49m\u001b[43m(\u001b[49m\u001b[38;5;124;43m'\u001b[39;49m\u001b[38;5;124;43msand\u001b[39;49m\u001b[38;5;124;43m'\u001b[39;49m\u001b[43m)\u001b[49m\n",
      "\u001b[0;31mTypeError\u001b[0m: test13() takes 0 positional arguments but 1 was given"
     ]
    }
   ],
   "source": [
    "test14(test13)"
   ]
  },
  {
   "cell_type": "code",
   "execution_count": 24,
   "id": "86e45611-200e-4f61-a767-60f5ab2ee90b",
   "metadata": {},
   "outputs": [],
   "source": [
    "def test12(a):\n",
    "    return a\n",
    "\n",
    "def test13(*args):\n",
    "    return 'sudh'\n",
    "\n",
    "def test14(func):\n",
    "    return func('sand')"
   ]
  },
  {
   "cell_type": "code",
   "execution_count": 25,
   "id": "6cacd64e-f7e3-4639-87c6-e4d83961f997",
   "metadata": {},
   "outputs": [
    {
     "data": {
      "text/plain": [
       "'sudh'"
      ]
     },
     "execution_count": 25,
     "metadata": {},
     "output_type": "execute_result"
    }
   ],
   "source": [
    "test14(test13)"
   ]
  },
  {
   "cell_type": "code",
   "execution_count": 26,
   "id": "8a1f06ab-493a-42f9-8a03-f2f1c37dfd2d",
   "metadata": {},
   "outputs": [],
   "source": [
    "def test15(a):\n",
    "    print('This is my test 15')\n",
    "    \n",
    "    def test16():\n",
    "        print('this is my test 16')\n",
    "        \n",
    "    def test17():\n",
    "        print('this is my test 17')\n",
    "    if a == 'sand':\n",
    "        return test16()\n",
    "    elif a == 'kumar':\n",
    "        return test17()"
   ]
  },
  {
   "cell_type": "code",
   "execution_count": 27,
   "id": "3a272223-e585-4ccb-8709-023bde216bbf",
   "metadata": {},
   "outputs": [
    {
     "name": "stdout",
     "output_type": "stream",
     "text": [
      "This is my test 15\n"
     ]
    }
   ],
   "source": [
    "test15('ajuhaha')"
   ]
  },
  {
   "cell_type": "code",
   "execution_count": 28,
   "id": "7601bcae-1e9f-4eca-8ec2-21e5f702dc9f",
   "metadata": {},
   "outputs": [
    {
     "name": "stdout",
     "output_type": "stream",
     "text": [
      "This is my test 15\n",
      "this is my test 16\n"
     ]
    }
   ],
   "source": [
    "test15('sand')"
   ]
  },
  {
   "cell_type": "code",
   "execution_count": 29,
   "id": "b53aa7a6-d80c-4d0c-a64e-25477ad2632b",
   "metadata": {},
   "outputs": [
    {
     "name": "stdout",
     "output_type": "stream",
     "text": [
      "This is my test 15\n",
      "this is my test 17\n"
     ]
    }
   ],
   "source": [
    "test15('kumar')"
   ]
  },
  {
   "cell_type": "code",
   "execution_count": 30,
   "id": "7f2b8ead-11ff-4095-a151-4df1624d636f",
   "metadata": {},
   "outputs": [],
   "source": [
    "def test13(*args):\n",
    "    print('This is inside test 13')"
   ]
  },
  {
   "cell_type": "code",
   "execution_count": 31,
   "id": "8c8bfbfe-4d05-4664-9a84-69b15e8349d7",
   "metadata": {},
   "outputs": [],
   "source": [
    "def test18(func):\n",
    "    def test19():\n",
    "        print('I am inside test 19')\n",
    "        func()\n",
    "    return test19()"
   ]
  },
  {
   "cell_type": "code",
   "execution_count": 32,
   "id": "223f96d9-5e53-4160-996b-aad97ca315a9",
   "metadata": {},
   "outputs": [
    {
     "name": "stdout",
     "output_type": "stream",
     "text": [
      "I am inside test 19\n",
      "This is inside test 13\n"
     ]
    }
   ],
   "source": [
    "test18(test13)"
   ]
  },
  {
   "cell_type": "code",
   "execution_count": 33,
   "id": "9d0528f4-b119-44a2-8d96-fb873108eb35",
   "metadata": {},
   "outputs": [],
   "source": [
    "def test18():\n",
    "    def test19():\n",
    "        print('I am inside test 19')\n",
    "    return test19()"
   ]
  },
  {
   "cell_type": "code",
   "execution_count": 34,
   "id": "67538ad2-fc9e-427c-b855-c3fb48b76640",
   "metadata": {},
   "outputs": [
    {
     "name": "stdout",
     "output_type": "stream",
     "text": [
      "I am inside test 19\n"
     ]
    }
   ],
   "source": [
    "test18()"
   ]
  },
  {
   "cell_type": "code",
   "execution_count": 35,
   "id": "506bf370-7300-45d3-a6d0-c0b6298c8291",
   "metadata": {},
   "outputs": [],
   "source": [
    "# Decarator:"
   ]
  },
  {
   "cell_type": "code",
   "execution_count": 55,
   "id": "4ce03d55-5ccd-493a-8422-ff0c2ca520ff",
   "metadata": {},
   "outputs": [],
   "source": [
    "import os\n",
    "def test18(func):\n",
    "    def test19():\n",
    "        print('I am inside test 19 this will behave like a decorator of any function that i am going to call')\n",
    "        print(os.getcwd())\n",
    "        func()\n",
    "    return test19"
   ]
  },
  {
   "cell_type": "code",
   "execution_count": 52,
   "id": "819b4f88-e094-491d-905c-e7ced15fe56d",
   "metadata": {},
   "outputs": [],
   "source": [
    "def test20():\n",
    "    print('This is my test20')"
   ]
  },
  {
   "cell_type": "code",
   "execution_count": 44,
   "id": "dc9dbc6f-7409-4520-9e4e-971654f3b59f",
   "metadata": {},
   "outputs": [
    {
     "name": "stdout",
     "output_type": "stream",
     "text": [
      "This is my test20\n"
     ]
    }
   ],
   "source": [
    "test20()"
   ]
  },
  {
   "cell_type": "code",
   "execution_count": 45,
   "id": "6baa7ff3-616e-4fce-85e5-38944e6e6ae2",
   "metadata": {},
   "outputs": [
    {
     "data": {
      "text/plain": [
       "<function __main__.test18.<locals>.test19()>"
      ]
     },
     "execution_count": 45,
     "metadata": {},
     "output_type": "execute_result"
    }
   ],
   "source": [
    "test18(test20)"
   ]
  },
  {
   "cell_type": "code",
   "execution_count": 56,
   "id": "104c7798-355e-4bd5-ba4e-f38406e41948",
   "metadata": {},
   "outputs": [],
   "source": [
    "@test18               #decarator\n",
    "def test20():\n",
    "    print('This is my test20')"
   ]
  },
  {
   "cell_type": "code",
   "execution_count": 57,
   "id": "1c3adccf-32ed-4319-a2c1-fe781ae3667c",
   "metadata": {},
   "outputs": [
    {
     "name": "stdout",
     "output_type": "stream",
     "text": [
      "I am inside test 19 this will behave like a decorator of any function that i am going to call\n",
      "/home/jovyan/work/Python Basics\n",
      "This is my test20\n"
     ]
    }
   ],
   "source": [
    "test20()"
   ]
  },
  {
   "cell_type": "code",
   "execution_count": 58,
   "id": "bf0bf330-3fb2-4624-bf96-7774291ad40d",
   "metadata": {},
   "outputs": [],
   "source": [
    "def test20(func):\n",
    "    def test21():\n",
    "        func()\n",
    "        print(os.getcwd())\n",
    "    return test21\n"
   ]
  },
  {
   "cell_type": "code",
   "execution_count": 63,
   "id": "03bf1b90-08e1-4fef-9a7e-a1341910b188",
   "metadata": {},
   "outputs": [],
   "source": [
    "@test18\n",
    "@test20\n",
    "def test22():\n",
    "    print('This will print inside test 22')"
   ]
  },
  {
   "cell_type": "code",
   "execution_count": 64,
   "id": "3c416d0d-8452-406d-b11a-3e4dddfe5aa9",
   "metadata": {},
   "outputs": [
    {
     "name": "stdout",
     "output_type": "stream",
     "text": [
      "I am inside test 19 this will behave like a decorator of any function that i am going to call\n",
      "/home/jovyan/work/Python Basics\n",
      "This will print inside test 22\n",
      "/home/jovyan/work/Python Basics\n"
     ]
    }
   ],
   "source": [
    "test22()"
   ]
  },
  {
   "cell_type": "code",
   "execution_count": 65,
   "id": "0a6d797f-a9aa-4e36-a899-7639ec2a7de7",
   "metadata": {},
   "outputs": [
    {
     "name": "stdout",
     "output_type": "stream",
     "text": [
      "Hari Om\n",
      "0.00010919570922851562\n"
     ]
    }
   ],
   "source": [
    "#exceution time of a progtam\n",
    "\n",
    "import time\n",
    "\n",
    "start = time.time()\n",
    "print('Hari Om')\n",
    "end = time.time()\n",
    "print(end - start)"
   ]
  },
  {
   "cell_type": "code",
   "execution_count": 82,
   "id": "8d0863f0-06e4-41dc-bd63-3d1f5a62a7d6",
   "metadata": {},
   "outputs": [],
   "source": [
    "def test25(func):\n",
    "    def test26():\n",
    "        print('This will give you execution time of the function')\n",
    "        start=time.time()\n",
    "        func()\n",
    "        print(func())\n",
    "        end = time.time()\n",
    "        print(end-start)\n",
    "    return test26"
   ]
  },
  {
   "cell_type": "code",
   "execution_count": 83,
   "id": "4454607e-fabd-4a17-9f50-5aa503b94199",
   "metadata": {},
   "outputs": [],
   "source": [
    "@test25\n",
    "def test27():\n",
    "    '''\n",
    "    This is the function which will take decorator for calculating timing of a function\n",
    "    '''\n",
    "    l = [4,5,6,7,8,8]\n",
    "    l1=[]\n",
    "    for i in l:\n",
    "        if isinstance(i,int):\n",
    "            l1.append(i)\n",
    "    return l1"
   ]
  },
  {
   "cell_type": "code",
   "execution_count": 84,
   "id": "0b520abd-03e1-458c-b627-333aa64ac677",
   "metadata": {},
   "outputs": [
    {
     "name": "stdout",
     "output_type": "stream",
     "text": [
      "This will give you execution time of the function\n",
      "[4, 5, 6, 7, 8, 8]\n",
      "1.1920928955078125e-05\n"
     ]
    }
   ],
   "source": [
    "test27()"
   ]
  },
  {
   "cell_type": "code",
   "execution_count": null,
   "id": "4dae53f0-8510-419b-b4a7-a39133a62a8e",
   "metadata": {},
   "outputs": [],
   "source": []
  }
 ],
 "metadata": {
  "kernelspec": {
   "display_name": "Python 3 (ipykernel)",
   "language": "python",
   "name": "python3"
  },
  "language_info": {
   "codemirror_mode": {
    "name": "ipython",
    "version": 3
   },
   "file_extension": ".py",
   "mimetype": "text/x-python",
   "name": "python",
   "nbconvert_exporter": "python",
   "pygments_lexer": "ipython3",
   "version": "3.10.6"
  }
 },
 "nbformat": 4,
 "nbformat_minor": 5
}
