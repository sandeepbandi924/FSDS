{
 "cells": [
  {
   "cell_type": "markdown",
   "id": "a1b9f0cf-feb3-4afd-ba9c-6fdcf8aa7c29",
   "metadata": {},
   "source": [
    "## Control Flow statements\n",
    "    -If else\n",
    "    -if elif else\n",
    "    - nested if else\n",
    "    - single line if else[Not recommend]\n",
    " 2. Loops\n",
    "  - for\n",
    "  - while"
   ]
  },
  {
   "cell_type": "markdown",
   "id": "4f8c4839-e6d7-43ad-8de1-108a7e275f68",
   "metadata": {},
   "source": [
    "### If else[covered]"
   ]
  },
  {
   "cell_type": "markdown",
   "id": "fef24d38-c56f-4408-b0b4-7d294fcde143",
   "metadata": {},
   "source": [
    "### If elif"
   ]
  },
  {
   "cell_type": "raw",
   "id": "d38f19ec-cf45-4762-bdd2-dc0af97724fc",
   "metadata": {},
   "source": [
    "online food orders - Zomato, swiggy , uber eats\n",
    "\n",
    "-if you order more than Rs.499\n",
    "    discount = 20%\n",
    "-if you order more than Rs.999\n",
    "    discount = 30%"
   ]
  },
  {
   "cell_type": "code",
   "execution_count": 3,
   "id": "cd530ed2-9878-4e0f-a2a3-273ca054fb79",
   "metadata": {},
   "outputs": [
    {
     "name": "stdout",
     "output_type": "stream",
     "text": [
      "cart total: 1290\n",
      "pay amount: 902.9999999999999\n"
     ]
    }
   ],
   "source": [
    "total_amount = 90 + 100 + 100 + 1000\n",
    "print(f\"cart total: {total_amount}\")\n",
    "if total_amount > 999 :\n",
    "    discount = total_amount * 0.7\n",
    "    print(f\"pay amount: {discount}\")\n",
    "elif total_amount <= 999 and total_amount > 499 : \n",
    "    discount = total_amount * 0.8\n",
    "    print(f\"pay amount: {discount}\")\n",
    "else:\n",
    "    print(f\"pay amount: {total_amount}\")"
   ]
  },
  {
   "cell_type": "code",
   "execution_count": 4,
   "id": "6e69e253-5f23-4f53-ab95-dd0e46e3fa3b",
   "metadata": {},
   "outputs": [
    {
     "name": "stdout",
     "output_type": "stream",
     "text": [
      "cart total: 190\n",
      "pay amount: 190\n"
     ]
    }
   ],
   "source": [
    "total_amount = 90 + 100# + 100 + 1000\n",
    "print(f\"cart total: {total_amount}\")\n",
    "if total_amount > 999 :\n",
    "    discount = total_amount * 0.7\n",
    "    print(f\"pay amount: {discount}\")\n",
    "elif total_amount <= 999 and total_amount > 499 : \n",
    "    discount = total_amount * 0.8\n",
    "    print(f\"pay amount: {discount}\")\n",
    "else:\n",
    "    print(f\"pay amount: {total_amount}\")"
   ]
  },
  {
   "cell_type": "code",
   "execution_count": 5,
   "id": "f44e6483-f838-4b10-99fb-2ff65b96307a",
   "metadata": {},
   "outputs": [
    {
     "name": "stdout",
     "output_type": "stream",
     "text": [
      "cart total: 690\n",
      "pay amount: 552.0\n"
     ]
    }
   ],
   "source": [
    "total_amount = 90 + 100 + 500\n",
    "print(f\"cart total: {total_amount}\")\n",
    "if total_amount > 999 :\n",
    "    discount = total_amount * 0.7\n",
    "    print(f\"pay amount: {discount}\")\n",
    "elif total_amount <= 999 and total_amount > 499 : \n",
    "    discount = total_amount * 0.8\n",
    "    print(f\"pay amount: {discount}\")\n",
    "else:\n",
    "    print(f\"pay amount: {total_amount}\")"
   ]
  },
  {
   "cell_type": "raw",
   "id": "d5f27b39-65bb-4af1-853f-5a1a0a5f11d8",
   "metadata": {},
   "source": [
    "online food orders - Zomato, swiggy , uber eats\n",
    "\n",
    "-if you order more than Rs.499\n",
    "    discount = 20%\n",
    "-if you order more than Rs.999\n",
    "    discount = 30%\n",
    "--if you order more than Rs.1499\n",
    "    discount = 40%"
   ]
  },
  {
   "cell_type": "code",
   "execution_count": 8,
   "id": "313a6cdc-c911-4191-913c-3cebab7af53d",
   "metadata": {},
   "outputs": [
    {
     "name": "stdout",
     "output_type": "stream",
     "text": [
      "cart total: 1590\n",
      "pay amount: 954.0\n"
     ]
    }
   ],
   "source": [
    "total_amount = 90 + 1000 + 500\n",
    "print(f\"cart total: {total_amount}\")\n",
    "if total_amount > 1499 :\n",
    "    discount = total_amount * 0.6\n",
    "    print(f\"pay amount: {discount}\")\n",
    "elif 999 < total_amount <= 1499 :\n",
    "    discount = total_amount * 0.7\n",
    "    print(f\"pay amount: {discount}\")\n",
    "elif 499 < total_amount <= 999 : \n",
    "    discount = total_amount * 0.8\n",
    "    print(f\"pay amount: {discount}\")\n",
    "else:\n",
    "    print(f\"pay amount: {total_amount}\")"
   ]
  },
  {
   "cell_type": "markdown",
   "id": "4fab3aa1-b9b8-4bb0-bb10-0798a72bf808",
   "metadata": {},
   "source": [
    "### Nested if else"
   ]
  },
  {
   "cell_type": "raw",
   "id": "f3143a35-5964-4958-a37e-24008a1a7eb6",
   "metadata": {},
   "source": [
    "Num is -ve or +ve"
   ]
  },
  {
   "cell_type": "code",
   "execution_count": 11,
   "id": "e77905e2-82bb-45b2-b294-88737e78d508",
   "metadata": {},
   "outputs": [
    {
     "name": "stdin",
     "output_type": "stream",
     "text": [
      "enter a number:  -2\n"
     ]
    },
    {
     "name": "stdout",
     "output_type": "stream",
     "text": [
      "It is a negative number\n"
     ]
    }
   ],
   "source": [
    "val = float(input('enter a number: '))\n",
    "if val >= 0:\n",
    "    if val == 0:\n",
    "        print('It is a Zero')\n",
    "    else:\n",
    "        print('It is a positive number')\n",
    "else:\n",
    "    print('It is a negative number')"
   ]
  },
  {
   "cell_type": "markdown",
   "id": "b795b2d6-6d70-4dc6-baaa-996789c24abc",
   "metadata": {},
   "source": [
    "### single line if else statements"
   ]
  },
  {
   "cell_type": "raw",
   "id": "aff5d4c7-819e-44b4-8560-65b9aebc04b4",
   "metadata": {},
   "source": [
    "printnum is yes > 99 "
   ]
  },
  {
   "cell_type": "code",
   "execution_count": 18,
   "id": "317c6630-da44-42c9-84dc-0fc4d4bf7927",
   "metadata": {},
   "outputs": [
    {
     "name": "stdin",
     "output_type": "stream",
     "text": [
      "enter a number:  6\n"
     ]
    },
    {
     "name": "stdout",
     "output_type": "stream",
     "text": [
      "NO\n"
     ]
    }
   ],
   "source": [
    "#ok for competative coding\n",
    "#for production code or in company its not recommended\n",
    "val = float(input('enter a number: '))\n",
    "if val > 99: print('YES') \n",
    "else: print('NO')"
   ]
  },
  {
   "cell_type": "code",
   "execution_count": 19,
   "id": "4d461e1b-2fa1-40bd-90e9-39a48bc61748",
   "metadata": {},
   "outputs": [
    {
     "name": "stdin",
     "output_type": "stream",
     "text": [
      "enter a number:  100\n"
     ]
    },
    {
     "name": "stdout",
     "output_type": "stream",
     "text": [
      "YES\n"
     ]
    }
   ],
   "source": [
    "#recommened approch\n",
    "#its more readable amd clean\n",
    "val = float(input('enter a number: '))\n",
    "if val > 99: \n",
    "    print('YES') \n",
    "else:\n",
    "    print('NO')"
   ]
  },
  {
   "cell_type": "markdown",
   "id": "c394b65f-277a-49ed-ba4a-73934a6e58f2",
   "metadata": {},
   "source": [
    "### Loops\n",
    "    - while loop\n",
    "    - for loop\n",
    "    -loop control\n",
    "        -break\n",
    "        =continue\n",
    "        -pass\n",
    "    - nested loop"
   ]
  },
  {
   "cell_type": "code",
   "execution_count": 26,
   "id": "66be00e5-fa51-4c7a-8d94-914cad2eb28e",
   "metadata": {},
   "outputs": [
    {
     "name": "stdout",
     "output_type": "stream",
     "text": [
      "your score is 100\n",
      "i will attempt next year\n",
      "your score is 200\n",
      "i will attempt next year\n",
      "your score is 300\n",
      "i will attempt next year\n",
      "your score is 399\n",
      "i will attempt next year\n",
      "You have cleared and score is 500\n"
     ]
    }
   ],
   "source": [
    "total_marks = 1000\n",
    "cutoff = 400\n",
    "score= [100,200,300,399,500]\n",
    "\n",
    "# I will keep on attempung until i succeed\n",
    "\n",
    "year = 0\n",
    "\n",
    "while score[year] < cutoff:\n",
    "    print(f\"your score is {score[year]}\")\n",
    "    print('i will attempt next year')\n",
    "    year = year + 1  # adding 1 to curent year\n",
    "    \n",
    "print(f'You have cleared and score is {score[year]}')"
   ]
  },
  {
   "cell_type": "code",
   "execution_count": 28,
   "id": "2c8b0b75-b67f-4df8-8351-b492a8cb3ed0",
   "metadata": {},
   "outputs": [
    {
     "name": "stdout",
     "output_type": "stream",
     "text": [
      "your score is 100 cutoff: 400\n",
      "i will attempt next year\n",
      "your score is 200 cutoff: 400\n",
      "i will attempt next year\n",
      "your score is 300 cutoff: 400\n",
      "i will attempt next year\n",
      "your score is 399 cutoff: 400\n",
      "i will attempt next year\n",
      "You have cleared and score is 500 and cutoff:400\n"
     ]
    }
   ],
   "source": [
    "total_marks = 1000\n",
    "cutoff = 400\n",
    "score= [100,200,300,399,500]\n",
    "\n",
    "# I will keep on attempung until i succeed\n",
    "\n",
    "year = 0\n",
    "\n",
    "while score[year] < cutoff:\n",
    "    print(f\"your score is {score[year]} cutoff: {cutoff}\")\n",
    "    print('i will attempt next year')\n",
    "    year = year + 1  # adding 1 to curent year\n",
    "    \n",
    "print(f'You have cleared and score is {score[year]} and cutoff:{cutoff}')"
   ]
  },
  {
   "cell_type": "raw",
   "id": "4218418a-3b02-4cac-8efd-88dc41b59135",
   "metadata": {},
   "source": [
    "#infinite loop\n",
    "if condition true and always it runs"
   ]
  },
  {
   "cell_type": "code",
   "execution_count": null,
   "id": "d546291b-9f23-4c37-902f-9e3a177678b1",
   "metadata": {},
   "outputs": [],
   "source": []
  },
  {
   "cell_type": "code",
   "execution_count": 3,
   "id": "bd60e7cd-369b-481d-9a19-8039417fc81a",
   "metadata": {},
   "outputs": [
    {
     "name": "stdout",
     "output_type": "stream",
     "text": [
      "current sum: 10\n",
      "current sum: 20\n",
      "current sum: 30\n",
      "current sum: 40\n",
      "current sum: 50\n",
      "current sum: 60\n",
      "current sum: 70\n",
      "current sum: 80\n",
      "current sum: 90\n",
      "current sum: 100\n"
     ]
    }
   ],
   "source": [
    "\"\"\"\n",
    "child is learning to count 10rupes notes\n",
    "\"\"\"\n",
    "notes = 10\n",
    "i = 1  #intial not\n",
    "\n",
    "while i <= notes:\n",
    "    print(f\"current sum: {i*10}\")\n",
    "    i = i+1"
   ]
  },
  {
   "cell_type": "code",
   "execution_count": 15,
   "id": "a609ece0-9069-40b0-8646-226c4705ac08",
   "metadata": {},
   "outputs": [
    {
     "name": "stdout",
     "output_type": "stream",
     "text": [
      "Current station is Hydearbad\n",
      "Destination is Korutla\n",
      "Continue the journey I haven't reached the Destination\n",
      "Next station is: Nizambad\n",
      "--------------------------------------------\n",
      "Current station is Nizambad\n",
      "Destination is Korutla\n",
      "Continue the journey I haven't reached the Destination\n",
      "Next station is: Armoor\n",
      "--------------------------------------------\n",
      "Current station is Armoor\n",
      "Destination is Korutla\n",
      "Continue the journey I haven't reached the Destination\n",
      "Next station is: Korutla\n",
      "--------------------------------------------\n"
     ]
    }
   ],
   "source": [
    "#Train Journey \n",
    "\n",
    "station = ['Hydearbad','Nizambad','Armoor','Korutla','Pedhapally']\n",
    "curent_station = 0\n",
    "destination_station = 'Korutla'\n",
    "while station[curent_station]  != destination_station:\n",
    "    print(f'Current station is {station[curent_station]}')\n",
    "    print(f'Destination is {destination_station}')\n",
    "    print(\"Continue the journey I haven't reached the Destination\")\n",
    "    curent_station = curent_station + 1\n",
    "    print(f\"Next station is: {station[curent_station]}\")\n",
    "    print(\"--------------------------------------------\")\n",
    "    \n",
    "#print(f'Your at {station[curent_station]} station and you arrived and Get out from the Train')"
   ]
  },
  {
   "cell_type": "markdown",
   "id": "acbc9024-5d7f-43d4-8ef9-d2f678e6a07b",
   "metadata": {},
   "source": [
    "### while - else"
   ]
  },
  {
   "cell_type": "code",
   "execution_count": 14,
   "id": "c55a9d88-ab48-440c-ad96-cfc54e06258f",
   "metadata": {},
   "outputs": [
    {
     "name": "stdout",
     "output_type": "stream",
     "text": [
      "Current station is Hydearbad\n",
      "Destination is Korutla\n",
      "Continue the journey I haven't reached the Destination\n",
      "Next station is: Nizambad\n",
      "--------------------------------------------\n",
      "Current station is Nizambad\n",
      "Destination is Korutla\n",
      "Continue the journey I haven't reached the Destination\n",
      "Next station is: Armoor\n",
      "--------------------------------------------\n",
      "Current station is Armoor\n",
      "Destination is Korutla\n",
      "Continue the journey I haven't reached the Destination\n",
      "Next station is: Korutla\n",
      "--------------------------------------------\n",
      "I have arrived at: Korutla station \n"
     ]
    }
   ],
   "source": [
    "\n",
    "station = ['Hydearbad','Nizambad','Armoor','Korutla','Pedhapally']\n",
    "curent_station = 0\n",
    "destination_station = 'Korutla'\n",
    "while station[curent_station]  != destination_station:\n",
    "    print(f'Current station is {station[curent_station]}')\n",
    "    print(f'Destination is {destination_station}')\n",
    "    print(\"Continue the journey I haven't reached the Destination\")\n",
    "    curent_station = curent_station + 1\n",
    "    print(f\"Next station is: {station[curent_station]}\")\n",
    "    print(\"--------------------------------------------\")\n",
    "else:   \n",
    "    print(f'I have arrived at: {station[curent_station]} station ')"
   ]
  },
  {
   "cell_type": "raw",
   "id": "6b1def8c-12a5-41d9-9468-eddcd53bfaf7",
   "metadata": {},
   "source": [
    "While conditions: True\n",
    "   statements\n",
    "else:  #condition false\n",
    "    statement"
   ]
  },
  {
   "cell_type": "code",
   "execution_count": 21,
   "id": "d01a3742-3e70-41d2-922a-1d8e5ac80b8b",
   "metadata": {},
   "outputs": [
    {
     "name": "stdout",
     "output_type": "stream",
     "text": [
      "Condition: True\n",
      "current sum: 10\n",
      "-------\n",
      "Condition: True\n",
      "current sum: 20\n",
      "-------\n",
      "Condition: True\n",
      "current sum: 30\n",
      "-------\n",
      "Condition: True\n",
      "current sum: 40\n",
      "-------\n",
      "Condition: True\n",
      "current sum: 50\n",
      "-------\n",
      "Condition: False\n",
      "No more 10rs notes left\n"
     ]
    }
   ],
   "source": [
    "\"\"\"\n",
    "child is learning to count 10rupes notes\n",
    "\"\"\"\n",
    "notes = 5\n",
    "i = 1  #intial not\n",
    "\n",
    "while i <= notes:\n",
    "    print(f'Condition: {i <= notes}')\n",
    "    print(f\"current sum: {i*10}\")\n",
    "    i = i+1\n",
    "    print('-------')\n",
    "else:\n",
    "    print(f'Condition: {i <= notes}')\n",
    "    print('No more 10rs notes left')"
   ]
  },
  {
   "cell_type": "code",
   "execution_count": null,
   "id": "6aa7cc9b-25de-43a1-8a26-4ba2c25c7275",
   "metadata": {},
   "outputs": [],
   "source": []
  },
  {
   "cell_type": "markdown",
   "id": "3606c0c6-a8f5-4310-9e34-deda9b2a8642",
   "metadata": {},
   "source": [
    "### For loop"
   ]
  },
  {
   "cell_type": "code",
   "execution_count": 22,
   "id": "db0a9a05-33e4-48ab-9409-1094852c63bc",
   "metadata": {},
   "outputs": [
    {
     "name": "stdout",
     "output_type": "stream",
     "text": [
      "0\n",
      "1\n",
      "2\n",
      "3\n",
      "4\n",
      "5\n",
      "6\n",
      "7\n",
      "8\n",
      "9\n"
     ]
    }
   ],
   "source": [
    "for i in range(0,10):\n",
    "    print(i)"
   ]
  },
  {
   "cell_type": "code",
   "execution_count": 23,
   "id": "7ad30579-1a66-416f-b22d-a031d8ffa5b8",
   "metadata": {},
   "outputs": [
    {
     "name": "stdout",
     "output_type": "stream",
     "text": [
      "10 * 0 = 0\n",
      "10 * 1 = 10\n",
      "10 * 2 = 20\n",
      "10 * 3 = 30\n",
      "10 * 4 = 40\n",
      "10 * 5 = 50\n",
      "10 * 6 = 60\n",
      "10 * 7 = 70\n",
      "10 * 8 = 80\n",
      "10 * 9 = 90\n"
     ]
    }
   ],
   "source": [
    "for i in range(0,10): # 10 hear is out of bound\n",
    "    print(f\"10 * {i} = {10 * i}\")"
   ]
  },
  {
   "cell_type": "code",
   "execution_count": 24,
   "id": "48cd51d6-872d-4836-99eb-6f2c6dc56e8d",
   "metadata": {},
   "outputs": [
    {
     "name": "stdout",
     "output_type": "stream",
     "text": [
      "10 * 1 = 10\n",
      "10 * 2 = 20\n",
      "10 * 3 = 30\n",
      "10 * 4 = 40\n",
      "10 * 5 = 50\n",
      "10 * 6 = 60\n",
      "10 * 7 = 70\n",
      "10 * 8 = 80\n",
      "10 * 9 = 90\n",
      "10 * 10 = 100\n"
     ]
    }
   ],
   "source": [
    "#to overcome\n",
    "for i in range(0,10): # 10 hear is out of bound\n",
    "    print(f\"10 * {i+1} = {10 * (i+1)}\")"
   ]
  },
  {
   "cell_type": "code",
   "execution_count": 25,
   "id": "52b6f7c9-03d1-4c32-a72c-72e4a8b578cc",
   "metadata": {},
   "outputs": [
    {
     "name": "stdout",
     "output_type": "stream",
     "text": [
      "10 * 1 = 10\n",
      "10 * 2 = 20\n",
      "10 * 3 = 30\n",
      "10 * 4 = 40\n",
      "10 * 5 = 50\n",
      "10 * 6 = 60\n",
      "10 * 7 = 70\n",
      "10 * 8 = 80\n",
      "10 * 9 = 90\n",
      "10 * 10 = 100\n"
     ]
    }
   ],
   "source": [
    "#to overcome\n",
    "for i in range(1,11): # 11 hear is out of bound\n",
    "    print(f\"10 * {i} = {10 * i}\")"
   ]
  },
  {
   "cell_type": "code",
   "execution_count": 27,
   "id": "cb0bd614-8336-4e50-b8da-0a8981b40e49",
   "metadata": {},
   "outputs": [
    {
     "data": {
      "text/plain": [
       "'sunny sunny sunny sunny sunny sunny sunny sunny sunny sunny '"
      ]
     },
     "execution_count": 27,
     "metadata": {},
     "output_type": "execute_result"
    }
   ],
   "source": [
    "'sunny ' * 10"
   ]
  },
  {
   "cell_type": "code",
   "execution_count": 28,
   "id": "5054dda6-910b-4826-95e8-2fccad13551a",
   "metadata": {},
   "outputs": [
    {
     "data": {
      "text/plain": [
       "'sunsun'"
      ]
     },
     "execution_count": 28,
     "metadata": {},
     "output_type": "execute_result"
    }
   ],
   "source": [
    "'sun' + 'sun'"
   ]
  },
  {
   "cell_type": "code",
   "execution_count": 26,
   "id": "d789f70e-2269-4949-80f9-06377563b560",
   "metadata": {},
   "outputs": [
    {
     "name": "stdout",
     "output_type": "stream",
     "text": [
      "*\n",
      "**\n",
      "***\n",
      "****\n",
      "*****\n",
      "******\n",
      "*******\n",
      "********\n",
      "*********\n",
      "**********\n"
     ]
    }
   ],
   "source": [
    "#to overcome\n",
    "for i in range(1,11): # 11 hear is out of bound\n",
    "    print('*'*i)"
   ]
  },
  {
   "cell_type": "code",
   "execution_count": 29,
   "id": "b986d8df-40e1-4a78-a694-1b18656891aa",
   "metadata": {},
   "outputs": [
    {
     "name": "stdout",
     "output_type": "stream",
     "text": [
      "*\n",
      "**\n",
      "***\n",
      "****\n",
      "*****\n",
      "******\n",
      "*******\n",
      "********\n",
      "*********\n",
      "**********\n"
     ]
    }
   ],
   "source": [
    "#i is not neccesary to use\n",
    "for sand in range(1,11): # 11 hear is out of bound\n",
    "    print('*'*sand)"
   ]
  },
  {
   "cell_type": "code",
   "execution_count": null,
   "id": "97f668c7-2b4d-4446-aee5-fee84335579a",
   "metadata": {},
   "outputs": [],
   "source": []
  },
  {
   "cell_type": "code",
   "execution_count": 33,
   "id": "e895278e-48f4-4e6c-8222-a096105b0eb0",
   "metadata": {},
   "outputs": [
    {
     "name": "stdout",
     "output_type": "stream",
     "text": [
      "0 = 0 + 100\n",
      "After adding: 100\n",
      "---------------------------\n",
      "100 = 100 + 200\n",
      "After adding: 300\n",
      "---------------------------\n",
      "300 = 300 + 129\n",
      "After adding: 429\n",
      "---------------------------\n",
      "429 = 429 + 456\n",
      "After adding: 885\n",
      "---------------------------\n",
      "Total amount paid : 885\n"
     ]
    }
   ],
   "source": [
    "cost_of_items = [100,200,129,456]\n",
    "tol_sum = 0\n",
    "\n",
    "for i in range(0,4):\n",
    "    print(f\"{tol_sum} = {tol_sum} + {cost_of_items[i]}\")\n",
    "    tol_sum = tol_sum + cost_of_items[i]\n",
    "    print(f\"After adding: {tol_sum}\")\n",
    "    print('---------------------------')\n",
    "print(f'Total amount paid : {tol_sum}')"
   ]
  },
  {
   "cell_type": "code",
   "execution_count": 34,
   "id": "44b992fb-3da4-4e50-8ca8-d91dc8829c66",
   "metadata": {},
   "outputs": [
    {
     "name": "stdout",
     "output_type": "stream",
     "text": [
      "0 = 0 + 100\n",
      "After adding: 100\n",
      "---------------------------\n",
      "100 = 100 + 200\n",
      "After adding: 300\n",
      "---------------------------\n",
      "300 = 300 + 129\n",
      "After adding: 429\n",
      "---------------------------\n",
      "429 = 429 + 456\n",
      "After adding: 885\n",
      "---------------------------\n",
      "885 = 885 + 1000\n",
      "After adding: 1885\n",
      "---------------------------\n",
      "Total amount paid : 1885\n"
     ]
    }
   ],
   "source": [
    "cost_of_items = [100,200,129,456,1000]\n",
    "tol_sum = 0\n",
    "N = len(cost_of_items)\n",
    "\n",
    "for i in range(0,N):\n",
    "    print(f\"{tol_sum} = {tol_sum} + {cost_of_items[i]}\")\n",
    "    tol_sum = tol_sum + cost_of_items[i]\n",
    "    print(f\"After adding: {tol_sum}\")\n",
    "    print('---------------------------')\n",
    "print(f'Total amount paid : {tol_sum}')"
   ]
  },
  {
   "cell_type": "code",
   "execution_count": null,
   "id": "3258157e-ab49-4957-b13c-e8d4041f8f2d",
   "metadata": {},
   "outputs": [],
   "source": []
  },
  {
   "cell_type": "code",
   "execution_count": 36,
   "id": "1fa96e8f-cac0-4123-8735-b99908f69a2c",
   "metadata": {},
   "outputs": [
    {
     "name": "stdout",
     "output_type": "stream",
     "text": [
      "0 = 0 + 100\n",
      "After adding: 100\n",
      "---------------------------\n",
      "100 = 100 + 200\n",
      "After adding: 300\n",
      "---------------------------\n",
      "300 = 300 + 129\n",
      "After adding: 429\n",
      "---------------------------\n",
      "429 = 429 + 456\n",
      "After adding: 885\n",
      "---------------------------\n",
      "885 = 885 + 1000\n",
      "After adding: 1885\n",
      "---------------------------\n",
      "Total amount paid : 1885\n"
     ]
    }
   ],
   "source": [
    "cost_of_items = [100,200,129,456,1000]\n",
    "tol_sum = 0\n",
    "\n",
    "for cost in cost_of_items:\n",
    "    print(f\"{tol_sum} = {tol_sum} + {cost}\")\n",
    "    tol_sum = tol_sum + cost\n",
    "    print(f\"After adding: {tol_sum}\")\n",
    "    print('---------------------------')\n",
    "print(f'Total amount paid : {tol_sum}')"
   ]
  },
  {
   "cell_type": "code",
   "execution_count": null,
   "id": "4690ad8b-f738-4348-b3ae-fd6ddb5e7fa8",
   "metadata": {},
   "outputs": [],
   "source": []
  },
  {
   "cell_type": "code",
   "execution_count": 37,
   "id": "aa4a16d6-a649-4927-b733-4b40cc755639",
   "metadata": {},
   "outputs": [
    {
     "name": "stdout",
     "output_type": "stream",
     "text": [
      "current station : Hydearbad\n",
      "current station : Nizambad\n",
      "current station : Armoor\n",
      "current station : Korutla\n",
      "current station : Pedhapally\n"
     ]
    }
   ],
   "source": [
    "station = ['Hydearbad','Nizambad','Armoor','Korutla','Pedhapally']\n",
    "\n",
    "for cur_station in station :\n",
    "    print(f\"current station : {cur_station}\")"
   ]
  },
  {
   "cell_type": "markdown",
   "id": "f11a5ac6-6178-4ce9-9174-b7a0901db8c0",
   "metadata": {},
   "source": [
    "### break and continue"
   ]
  },
  {
   "cell_type": "code",
   "execution_count": 57,
   "id": "5ca066db-584d-4865-a257-c3be901d8009",
   "metadata": {},
   "outputs": [
    {
     "name": "stdout",
     "output_type": "stream",
     "text": [
      "current total: 100\n",
      "current total: 300\n",
      "current total: 429\n",
      "current total: 885\n",
      "current total: 1885\n",
      "current total: 2084\n",
      "Since current total is more than my budget: 2000\n",
      "please remove the last item\n",
      "Total amount to be paid: 1885\n"
     ]
    }
   ],
   "source": [
    "cost_of_items = [100,200,129,456,1000,199,299,599]\n",
    "\n",
    "tol_sum = 0\n",
    "budget = 2000\n",
    "\n",
    "for cost in cost_of_items :\n",
    "    tol_sum = tol_sum + cost\n",
    "    print(f\"current total: {tol_sum}\")\n",
    "    if tol_sum > budget:\n",
    "        print(f\"Since current total is more than my budget: {budget}\")\n",
    "        print('please remove the last item')\n",
    "        tol_sum = tol_sum - cost\n",
    "        break\n",
    "print(f\"Total amount to be paid: {tol_sum}\")"
   ]
  },
  {
   "cell_type": "code",
   "execution_count": 58,
   "id": "81b5b18c-5de3-42df-a10d-09963b611cc5",
   "metadata": {},
   "outputs": [
    {
     "name": "stdout",
     "output_type": "stream",
     "text": [
      "1\n",
      "2\n",
      "3\n",
      "4\n",
      "5\n",
      "6\n",
      "7\n",
      "8\n",
      "9\n",
      "10\n",
      "11\n",
      "12\n",
      "13\n",
      "14\n",
      "15\n",
      "16\n"
     ]
    }
   ],
   "source": [
    "for i in range(1,100):\n",
    "    print(i)\n",
    "    if i > 15 :\n",
    "        break"
   ]
  },
  {
   "cell_type": "code",
   "execution_count": 60,
   "id": "1f242e45-a7ae-40a6-97da-0275accfc585",
   "metadata": {},
   "outputs": [
    {
     "name": "stdout",
     "output_type": "stream",
     "text": [
      "1\n",
      "2\n",
      "3\n",
      "4\n",
      "5\n",
      "6\n",
      "7\n",
      "8\n",
      "9\n",
      "10\n",
      "11\n",
      "12\n",
      "13\n",
      "14\n",
      "15\n"
     ]
    }
   ],
   "source": [
    "for i in range(1,100):\n",
    "    if i > 15 :\n",
    "        break\n",
    "    print(i)"
   ]
  },
  {
   "cell_type": "code",
   "execution_count": 64,
   "id": "0ff91fa3-15bd-4a5e-b435-95b7621b8527",
   "metadata": {},
   "outputs": [
    {
     "name": "stdout",
     "output_type": "stream",
     "text": [
      "1\n",
      "3\n",
      "5\n",
      "7\n",
      "9\n",
      "11\n",
      "13\n",
      "15\n",
      "17\n",
      "19\n"
     ]
    }
   ],
   "source": [
    "for i in range(1,20):\n",
    "    if i % 2 == 0: #if num is EVEN then continue then start loop again\n",
    "        continue\n",
    "    print(i)"
   ]
  },
  {
   "cell_type": "code",
   "execution_count": 65,
   "id": "eb461e4c-6aee-4de3-929b-51a921173ad9",
   "metadata": {},
   "outputs": [
    {
     "name": "stdout",
     "output_type": "stream",
     "text": [
      "2\n",
      "4\n",
      "6\n",
      "8\n",
      "10\n",
      "12\n",
      "14\n",
      "16\n",
      "18\n"
     ]
    }
   ],
   "source": [
    "for i in range(1,20):\n",
    "    if i % 2 != 0: #if num is ODD then continue then start loop again\n",
    "        continue\n",
    "    print(i)"
   ]
  },
  {
   "cell_type": "raw",
   "id": "fb6eb3fb-154c-41b4-9f33-543a1cbc7b25",
   "metadata": {},
   "source": [
    "Break - stop the loop\n",
    "continue - start the loop again"
   ]
  },
  {
   "cell_type": "code",
   "execution_count": 67,
   "id": "335ac88e-75af-496d-8ed0-8e24fbd464ee",
   "metadata": {},
   "outputs": [
    {
     "name": "stdout",
     "output_type": "stream",
     "text": [
      "current station : Hydearbad\n",
      "current station : Nizambad\n",
      "current station : Armoor\n"
     ]
    }
   ],
   "source": [
    "station = ['Hydearbad','Nizambad','Armoor','Korutla','Pedhapally']\n",
    "\n",
    "for cur_station in station :\n",
    "    print(f\"current station : {cur_station}\")\n",
    "    if cur_station == 'Armoor':\n",
    "        break"
   ]
  },
  {
   "cell_type": "code",
   "execution_count": 70,
   "id": "8a7205af-b8d1-4e8a-914e-e4f951cba960",
   "metadata": {},
   "outputs": [
    {
     "name": "stdout",
     "output_type": "stream",
     "text": [
      "current station : Hydearbad\n",
      "current station : Nizambad\n",
      "current station : Korutla\n",
      "current station : Pedhapally\n"
     ]
    }
   ],
   "source": [
    "station = ['Hydearbad','Nizambad','Armoor','Korutla','Pedhapally']\n",
    "\n",
    "for cur_station in station :\n",
    "    if cur_station == 'Armoor':\n",
    "        continue\n",
    "    print(f\"current station : {cur_station}\")"
   ]
  },
  {
   "cell_type": "raw",
   "id": "1cc476e0-9c7f-43fe-9b41-c77d4506c6bf",
   "metadata": {},
   "source": [
    "break : It completely stops the loop\n",
    "continue - it skips the current loop,it skips the staement after continue keyword"
   ]
  },
  {
   "cell_type": "code",
   "execution_count": null,
   "id": "67a8f6bc-6eb5-495a-9b57-37597039729d",
   "metadata": {},
   "outputs": [],
   "source": []
  },
  {
   "cell_type": "markdown",
   "id": "7f3b4229-e9a7-45b7-8fff-95bae5a910c7",
   "metadata": {},
   "source": [
    "### pass"
   ]
  },
  {
   "cell_type": "code",
   "execution_count": 71,
   "id": "b9415644-0922-4461-a913-ddcf0bc99e85",
   "metadata": {},
   "outputs": [],
   "source": [
    "for i in range(1,10):\n",
    "    pass # i want to write code later"
   ]
  },
  {
   "cell_type": "code",
   "execution_count": null,
   "id": "6cc45ba9-5956-4e73-9f91-b806f47fff3f",
   "metadata": {},
   "outputs": [],
   "source": []
  }
 ],
 "metadata": {
  "kernelspec": {
   "display_name": "Python 3 (ipykernel)",
   "language": "python",
   "name": "python3"
  },
  "language_info": {
   "codemirror_mode": {
    "name": "ipython",
    "version": 3
   },
   "file_extension": ".py",
   "mimetype": "text/x-python",
   "name": "python",
   "nbconvert_exporter": "python",
   "pygments_lexer": "ipython3",
   "version": "3.10.6"
  }
 },
 "nbformat": 4,
 "nbformat_minor": 5
}
