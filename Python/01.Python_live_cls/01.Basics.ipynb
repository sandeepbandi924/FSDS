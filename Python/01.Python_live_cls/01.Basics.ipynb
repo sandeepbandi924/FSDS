{
 "cells": [
  {
   "cell_type": "markdown",
   "id": "9782ac45-6474-4d49-9fc6-75e6d9734e4b",
   "metadata": {},
   "source": [
    "# Print Statement"
   ]
  },
  {
   "cell_type": "code",
   "execution_count": 1,
   "id": "1a39100f-b515-40c2-b356-822868b2bec3",
   "metadata": {},
   "outputs": [
    {
     "name": "stdout",
     "output_type": "stream",
     "text": [
      "Hari Om\n"
     ]
    }
   ],
   "source": [
    "print(\"Hari Om\")"
   ]
  },
  {
   "cell_type": "code",
   "execution_count": null,
   "id": "034000dd-59f8-4492-9a98-3844af8ac188",
   "metadata": {},
   "outputs": [],
   "source": []
  },
  {
   "cell_type": "code",
   "execution_count": 2,
   "id": "eaed679b-40c7-43db-99ce-afee7a8f2dfe",
   "metadata": {},
   "outputs": [
    {
     "name": "stdout",
     "output_type": "stream",
     "text": [
      "Om Namo bhagavathey vasudevaya\n",
      "Hari Om\n"
     ]
    }
   ],
   "source": [
    "print('Om Namo bhagavathey vasudevaya')\n",
    "print('Hari Om')"
   ]
  },
  {
   "cell_type": "code",
   "execution_count": 3,
   "id": "4e7ecbe4-854f-43bc-b351-e2704ee750ea",
   "metadata": {},
   "outputs": [
    {
     "ename": "SyntaxError",
     "evalue": "unterminated string literal (detected at line 1) (2721292492.py, line 1)",
     "output_type": "error",
     "traceback": [
      "\u001b[0;36m  Cell \u001b[0;32mIn [3], line 1\u001b[0;36m\u001b[0m\n\u001b[0;31m    print('Hari\u001b[0m\n\u001b[0m          ^\u001b[0m\n\u001b[0;31mSyntaxError\u001b[0m\u001b[0;31m:\u001b[0m unterminated string literal (detected at line 1)\n"
     ]
    }
   ],
   "source": [
    "print('Hari  \n",
    "      Om')"
   ]
  },
  {
   "cell_type": "code",
   "execution_count": 4,
   "id": "e0db1ca3-d0c1-4d4c-90ee-95f2640e7feb",
   "metadata": {},
   "outputs": [
    {
     "data": {
      "text/plain": [
       "'Hari Om'"
      ]
     },
     "execution_count": 4,
     "metadata": {},
     "output_type": "execute_result"
    }
   ],
   "source": [
    "'Hari Om'"
   ]
  },
  {
   "cell_type": "code",
   "execution_count": 5,
   "id": "626fa164-1995-4b36-bc62-e87b2a52d7b0",
   "metadata": {},
   "outputs": [
    {
     "name": "stdout",
     "output_type": "stream",
     "text": [
      "kanha\n"
     ]
    }
   ],
   "source": [
    "'Hari Om'\n",
    "print('kanha')"
   ]
  },
  {
   "cell_type": "code",
   "execution_count": 6,
   "id": "85052a37-764f-410e-b2b0-4962d943be69",
   "metadata": {},
   "outputs": [
    {
     "name": "stdout",
     "output_type": "stream",
     "text": [
      "Hari  \n",
      "Om\n"
     ]
    }
   ],
   "source": [
    "print('''Hari  \n",
    "Om''')"
   ]
  },
  {
   "cell_type": "code",
   "execution_count": 7,
   "id": "490a8c49-2692-461e-97a6-e600bf439d0d",
   "metadata": {},
   "outputs": [
    {
     "name": "stdout",
     "output_type": "stream",
     "text": [
      "\n",
      "Good \n",
      "Evng\n",
      "from \n",
      "India\n",
      "\n"
     ]
    }
   ],
   "source": [
    "print('''\n",
    "Good \n",
    "Evng\n",
    "from \n",
    "India\n",
    "''')"
   ]
  },
  {
   "cell_type": "markdown",
   "id": "40e0f5a9-6343-49be-bdd6-a53b377bbdfa",
   "metadata": {},
   "source": [
    "# Comments"
   ]
  },
  {
   "cell_type": "code",
   "execution_count": 8,
   "id": "f16645f7-f885-4fc9-8e23-2c87df4c72e4",
   "metadata": {},
   "outputs": [
    {
     "name": "stdout",
     "output_type": "stream",
     "text": [
      "Hari Om Students\n"
     ]
    }
   ],
   "source": [
    "# say hari om to students\n",
    "\n",
    "print('Hari Om Students')"
   ]
  },
  {
   "cell_type": "code",
   "execution_count": 9,
   "id": "900585bc-4922-4467-ba97-40121abc45de",
   "metadata": {},
   "outputs": [],
   "source": [
    "# say hari om to students\n",
    "#print('Hari Om Students')"
   ]
  },
  {
   "cell_type": "markdown",
   "id": "e5ddfaf1-c2e7-47c1-8218-7af579d5f7a3",
   "metadata": {},
   "source": [
    "# Multi line Comments"
   ]
  },
  {
   "cell_type": "code",
   "execution_count": 10,
   "id": "e2c8b593-ae44-4edd-a9a0-4866df78f77e",
   "metadata": {},
   "outputs": [
    {
     "data": {
      "text/plain": [
       "'\\nSay hari Om\\nto all students\\n'"
      ]
     },
     "execution_count": 10,
     "metadata": {},
     "output_type": "execute_result"
    }
   ],
   "source": [
    "'''\n",
    "Say hari Om\n",
    "to all students\n",
    "'''"
   ]
  },
  {
   "cell_type": "code",
   "execution_count": 11,
   "id": "78c24f2e-1062-4357-8037-48ca79fab6c8",
   "metadata": {},
   "outputs": [],
   "source": [
    "# Say hari Om\n",
    "# to all students"
   ]
  },
  {
   "cell_type": "code",
   "execution_count": 12,
   "id": "5cfad21c-aeed-4a86-994f-e4018d5c7bb0",
   "metadata": {},
   "outputs": [
    {
     "ename": "SyntaxError",
     "evalue": "invalid syntax. Perhaps you forgot a comma? (617351776.py, line 3)",
     "output_type": "error",
     "traceback": [
      "\u001b[0;36m  Cell \u001b[0;32mIn [12], line 3\u001b[0;36m\u001b[0m\n\u001b[0;31m    print(\"HariOm my name is \"Sandeep\" \")\u001b[0m\n\u001b[0m          ^\u001b[0m\n\u001b[0;31mSyntaxError\u001b[0m\u001b[0;31m:\u001b[0m invalid syntax. Perhaps you forgot a comma?\n"
     ]
    }
   ],
   "source": [
    "# more exceptional cases in print statements\n",
    "\n",
    "print(\"HariOm my name is \"Sandeep\" \")"
   ]
  },
  {
   "cell_type": "code",
   "execution_count": 13,
   "id": "aec0ea16-e88f-4bb6-9461-206834369c47",
   "metadata": {},
   "outputs": [
    {
     "name": "stdout",
     "output_type": "stream",
     "text": [
      "HariOm my name is 'Sandeep' \n"
     ]
    }
   ],
   "source": [
    "print(\"HariOm my name is 'Sandeep' \")"
   ]
  },
  {
   "cell_type": "code",
   "execution_count": 14,
   "id": "d30508b4-e756-4c2f-843c-e4d523bd6b8c",
   "metadata": {},
   "outputs": [
    {
     "name": "stdout",
     "output_type": "stream",
     "text": [
      "HariOm my name is \"Sandeep\" \n"
     ]
    }
   ],
   "source": [
    "print('HariOm my name is \"Sandeep\" ')"
   ]
  },
  {
   "cell_type": "code",
   "execution_count": 15,
   "id": "df6c48d3-132d-44d6-bfc9-d34addeff84b",
   "metadata": {},
   "outputs": [
    {
     "name": "stdout",
     "output_type": "stream",
     "text": [
      "HariOm my name is \"Sandeep\" \n"
     ]
    }
   ],
   "source": [
    "print(\"\"\"HariOm my name is \"Sandeep\" \"\"\")"
   ]
  },
  {
   "cell_type": "code",
   "execution_count": 16,
   "id": "4cfe8410-ba93-4ab0-9f8d-38a7dd47d36f",
   "metadata": {},
   "outputs": [
    {
     "name": "stdout",
     "output_type": "stream",
     "text": [
      "HariOm my name is \"Sandeep\" \n"
     ]
    }
   ],
   "source": [
    "print(\"HariOm my name is \\\"Sandeep\\\" \")"
   ]
  },
  {
   "cell_type": "code",
   "execution_count": null,
   "id": "7e04a1fa-5e61-4830-b82f-030e59063044",
   "metadata": {},
   "outputs": [],
   "source": []
  },
  {
   "cell_type": "code",
   "execution_count": 17,
   "id": "cda96ffd-b954-4918-a1ff-8dac05f19413",
   "metadata": {},
   "outputs": [
    {
     "data": {
      "text/plain": [
       "368"
      ]
     },
     "execution_count": 17,
     "metadata": {},
     "output_type": "execute_result"
    }
   ],
   "source": [
    "123 + 245  #sum of two numbers"
   ]
  },
  {
   "cell_type": "code",
   "execution_count": 18,
   "id": "880493bb-e886-45e4-b59d-a2911961305e",
   "metadata": {},
   "outputs": [
    {
     "data": {
      "text/plain": [
       "30135"
      ]
     },
     "execution_count": 18,
     "metadata": {},
     "output_type": "execute_result"
    }
   ],
   "source": [
    "123 * 245"
   ]
  },
  {
   "cell_type": "code",
   "execution_count": 19,
   "id": "cd5e9c93-c2cd-4b76-b852-6204f9b4bc25",
   "metadata": {},
   "outputs": [
    {
     "data": {
      "text/plain": [
       "0.5020408163265306"
      ]
     },
     "execution_count": 19,
     "metadata": {},
     "output_type": "execute_result"
    }
   ],
   "source": [
    "123 / 245"
   ]
  },
  {
   "cell_type": "code",
   "execution_count": 20,
   "id": "98177403-9e9d-4d9a-9f68-b81d149743f7",
   "metadata": {},
   "outputs": [
    {
     "data": {
      "text/plain": [
       "15129"
      ]
     },
     "execution_count": 20,
     "metadata": {},
     "output_type": "execute_result"
    }
   ],
   "source": [
    "123**2 # power of 123 raised 2"
   ]
  },
  {
   "cell_type": "code",
   "execution_count": 21,
   "id": "d42148ee-b0fa-4730-ac49-bf3fe9de8f60",
   "metadata": {},
   "outputs": [
    {
     "data": {
      "text/plain": [
       "1"
      ]
     },
     "execution_count": 21,
     "metadata": {},
     "output_type": "execute_result"
    }
   ],
   "source": [
    "123%2 # MODULO OPERTAOR which give you remainder"
   ]
  },
  {
   "cell_type": "code",
   "execution_count": 22,
   "id": "ebc9f5f1-6769-4824-9c3a-fe7b064da088",
   "metadata": {},
   "outputs": [
    {
     "data": {
      "text/plain": [
       "0"
      ]
     },
     "execution_count": 22,
     "metadata": {},
     "output_type": "execute_result"
    }
   ],
   "source": [
    "122 % 2"
   ]
  },
  {
   "cell_type": "code",
   "execution_count": 23,
   "id": "e20e633c-0f8e-4c87-acf6-ed82a343d412",
   "metadata": {},
   "outputs": [
    {
     "data": {
      "text/plain": [
       "0"
      ]
     },
     "execution_count": 23,
     "metadata": {},
     "output_type": "execute_result"
    }
   ],
   "source": [
    "2%2"
   ]
  },
  {
   "cell_type": "code",
   "execution_count": 24,
   "id": "3d26b192-242a-4c68-99dd-d45c86369a3a",
   "metadata": {},
   "outputs": [
    {
     "data": {
      "text/plain": [
       "1"
      ]
     },
     "execution_count": 24,
     "metadata": {},
     "output_type": "execute_result"
    }
   ],
   "source": [
    "3%2"
   ]
  },
  {
   "cell_type": "code",
   "execution_count": 25,
   "id": "13f74e67-b757-4b84-a7e9-337f49cbd1b3",
   "metadata": {},
   "outputs": [
    {
     "data": {
      "text/plain": [
       "15129"
      ]
     },
     "execution_count": 25,
     "metadata": {},
     "output_type": "execute_result"
    }
   ],
   "source": [
    "(-123)**2"
   ]
  },
  {
   "cell_type": "code",
   "execution_count": 26,
   "id": "6101c0bd-814c-489f-ba5e-34a4aa4d364a",
   "metadata": {},
   "outputs": [
    {
     "data": {
      "text/plain": [
       "-1860867"
      ]
     },
     "execution_count": 26,
     "metadata": {},
     "output_type": "execute_result"
    }
   ],
   "source": [
    "(-123)**3"
   ]
  },
  {
   "cell_type": "code",
   "execution_count": 27,
   "id": "a2980861-1aa5-462e-ae12-4262663a26cb",
   "metadata": {},
   "outputs": [
    {
     "name": "stdout",
     "output_type": "stream",
     "text": [
      "30135\n",
      "Result\n"
     ]
    }
   ],
   "source": [
    "print(123 * 245)\n",
    "print('Result')"
   ]
  },
  {
   "cell_type": "code",
   "execution_count": 28,
   "id": "16d65646-2799-4a61-aafc-f666a5daad7a",
   "metadata": {},
   "outputs": [
    {
     "name": "stdout",
     "output_type": "stream",
     "text": [
      "123 * 245\n",
      "Result\n"
     ]
    }
   ],
   "source": [
    "print('123 * 245')\n",
    "print('Result')"
   ]
  },
  {
   "cell_type": "markdown",
   "id": "88b8e6d5-cb5d-4fa6-8769-d50abd2ca2a8",
   "metadata": {},
   "source": [
    "# Variables in python"
   ]
  },
  {
   "cell_type": "code",
   "execution_count": 29,
   "id": "f0130d0b-1c17-4923-ba6c-9bfea42e857e",
   "metadata": {},
   "outputs": [],
   "source": [
    "x = 10"
   ]
  },
  {
   "cell_type": "code",
   "execution_count": 30,
   "id": "57689245-660f-4ce8-865d-d8ee03613abb",
   "metadata": {},
   "outputs": [
    {
     "name": "stdout",
     "output_type": "stream",
     "text": [
      "10\n"
     ]
    }
   ],
   "source": [
    "print(x)"
   ]
  },
  {
   "cell_type": "code",
   "execution_count": 31,
   "id": "ac46924c-5848-47c8-b9c4-eb00992d3c8a",
   "metadata": {},
   "outputs": [],
   "source": [
    "y = 20"
   ]
  },
  {
   "cell_type": "code",
   "execution_count": 32,
   "id": "650041a7-c6f0-4f24-948e-69853c7d5e39",
   "metadata": {},
   "outputs": [
    {
     "name": "stdout",
     "output_type": "stream",
     "text": [
      "20\n"
     ]
    }
   ],
   "source": [
    "print(y)"
   ]
  },
  {
   "cell_type": "code",
   "execution_count": 33,
   "id": "9db69103-2d56-4fcf-b5e7-27bb36da0226",
   "metadata": {},
   "outputs": [
    {
     "name": "stdout",
     "output_type": "stream",
     "text": [
      "30\n"
     ]
    }
   ],
   "source": [
    "print(x + y)"
   ]
  },
  {
   "cell_type": "code",
   "execution_count": 34,
   "id": "1f721f6c-8f62-4002-8072-ad74e9a070d3",
   "metadata": {},
   "outputs": [
    {
     "name": "stdout",
     "output_type": "stream",
     "text": [
      "0.5\n"
     ]
    }
   ],
   "source": [
    "print(x / y)"
   ]
  },
  {
   "cell_type": "code",
   "execution_count": null,
   "id": "47117e89-dceb-455e-b1b9-372b4c06db22",
   "metadata": {},
   "outputs": [],
   "source": []
  },
  {
   "cell_type": "markdown",
   "id": "7c55f659-0bd9-48ee-ae0c-239adb9a1510",
   "metadata": {},
   "source": [
    "# conventions"
   ]
  },
  {
   "cell_type": "markdown",
   "id": "68ca4889-fac0-47a8-be7b-22f238bea379",
   "metadata": {},
   "source": [
    "\n",
    "1.variable name should start with alphabets"
   ]
  },
  {
   "cell_type": "code",
   "execution_count": 35,
   "id": "e0c66e56-5da4-4c78-81a0-c9109d1e91f9",
   "metadata": {},
   "outputs": [],
   "source": [
    "ten = 10\n",
    "ten_num = 10\n",
    "tenNum = 10"
   ]
  },
  {
   "cell_type": "markdown",
   "id": "49a2e141-fec4-4f86-aa8b-62b018f50e30",
   "metadata": {},
   "source": [
    "2.Variables name should not contain any special characters like ^ % $ ! @ # & * ( )"
   ]
  },
  {
   "cell_type": "code",
   "execution_count": 36,
   "id": "fcb06f07-4b9c-46ec-a4fb-488358600ddb",
   "metadata": {},
   "outputs": [
    {
     "ename": "SyntaxError",
     "evalue": "invalid syntax (2667552044.py, line 1)",
     "output_type": "error",
     "traceback": [
      "\u001b[0;36m  Cell \u001b[0;32mIn [36], line 1\u001b[0;36m\u001b[0m\n\u001b[0;31m    ten* = 10\u001b[0m\n\u001b[0m         ^\u001b[0m\n\u001b[0;31mSyntaxError\u001b[0m\u001b[0;31m:\u001b[0m invalid syntax\n"
     ]
    }
   ],
   "source": [
    "ten* = 10"
   ]
  },
  {
   "cell_type": "code",
   "execution_count": 37,
   "id": "31962608-f700-4911-aa03-11117cc0c20f",
   "metadata": {},
   "outputs": [
    {
     "ename": "SyntaxError",
     "evalue": "cannot assign to expression here. Maybe you meant '==' instead of '='? (2042878467.py, line 1)",
     "output_type": "error",
     "traceback": [
      "\u001b[0;36m  Cell \u001b[0;32mIn [37], line 1\u001b[0;36m\u001b[0m\n\u001b[0;31m    ten%num=10\u001b[0m\n\u001b[0m    ^\u001b[0m\n\u001b[0;31mSyntaxError\u001b[0m\u001b[0;31m:\u001b[0m cannot assign to expression here. Maybe you meant '==' instead of '='?\n"
     ]
    }
   ],
   "source": [
    "ten%num=10"
   ]
  },
  {
   "cell_type": "code",
   "execution_count": 38,
   "id": "554e81f9-e17e-4413-bb5d-ccf5cadfaa4a",
   "metadata": {},
   "outputs": [
    {
     "ename": "SyntaxError",
     "evalue": "cannot assign to expression here. Maybe you meant '==' instead of '='? (3672611524.py, line 3)",
     "output_type": "error",
     "traceback": [
      "\u001b[0;36m  Cell \u001b[0;32mIn [38], line 3\u001b[0;36m\u001b[0m\n\u001b[0;31m    ten%num = 10\u001b[0m\n\u001b[0m    ^\u001b[0m\n\u001b[0;31mSyntaxError\u001b[0m\u001b[0;31m:\u001b[0m cannot assign to expression here. Maybe you meant '==' instead of '='?\n"
     ]
    }
   ],
   "source": [
    "ten = 10\n",
    "ten_num = 10\n",
    "ten%num = 10\n",
    "tenNum = 10"
   ]
  },
  {
   "cell_type": "code",
   "execution_count": 39,
   "id": "d4761c5e-70a2-441a-8a77-1eb7b92df438",
   "metadata": {},
   "outputs": [
    {
     "ename": "SyntaxError",
     "evalue": "cannot assign to expression here. Maybe you meant '==' instead of '='? (970482430.py, line 3)",
     "output_type": "error",
     "traceback": [
      "\u001b[0;36m  Cell \u001b[0;32mIn [39], line 3\u001b[0;36m\u001b[0m\n\u001b[0;31m    ten/num = 10\u001b[0m\n\u001b[0m    ^\u001b[0m\n\u001b[0;31mSyntaxError\u001b[0m\u001b[0;31m:\u001b[0m cannot assign to expression here. Maybe you meant '==' instead of '='?\n"
     ]
    }
   ],
   "source": [
    "ten = 10\n",
    "ten_num = 10\n",
    "ten/num = 10\n",
    "tenNum = 10"
   ]
  },
  {
   "cell_type": "markdown",
   "id": "807b4bd7-e01a-4299-bbb0-e11d2693dd7f",
   "metadata": {},
   "source": [
    "3.variables names can contain Num but you cannot start with number5"
   ]
  },
  {
   "cell_type": "code",
   "execution_count": 40,
   "id": "c9a47c8b-8791-417e-b1f1-7a9b422e299a",
   "metadata": {},
   "outputs": [
    {
     "ename": "SyntaxError",
     "evalue": "invalid decimal literal (1357664323.py, line 2)",
     "output_type": "error",
     "traceback": [
      "\u001b[0;36m  Cell \u001b[0;32mIn [40], line 2\u001b[0;36m\u001b[0m\n\u001b[0;31m    10ten = 10\u001b[0m\n\u001b[0m     ^\u001b[0m\n\u001b[0;31mSyntaxError\u001b[0m\u001b[0;31m:\u001b[0m invalid decimal literal\n"
     ]
    }
   ],
   "source": [
    "ten10 = 10\n",
    "10ten = 10"
   ]
  },
  {
   "cell_type": "code",
   "execution_count": 41,
   "id": "ba228219-7d33-467d-bf98-80edfc387d34",
   "metadata": {},
   "outputs": [],
   "source": [
    "_num = 10 # Hidden variable"
   ]
  },
  {
   "cell_type": "markdown",
   "id": "afd9c023-b237-4cc4-a995-fc217f0a5bb0",
   "metadata": {},
   "source": [
    "4.Its not a strict rule that should start with capital lateet. But it is reccommend to use small letter"
   ]
  },
  {
   "cell_type": "code",
   "execution_count": 42,
   "id": "884b7b79-c917-4c86-bf01-ddce034e21f8",
   "metadata": {},
   "outputs": [],
   "source": [
    "Ten = 10"
   ]
  },
  {
   "cell_type": "code",
   "execution_count": 43,
   "id": "afc71b18-7be3-42e5-af1c-4dabcf28b521",
   "metadata": {},
   "outputs": [
    {
     "ename": "SyntaxError",
     "evalue": "invalid syntax (2336307459.py, line 1)",
     "output_type": "error",
     "traceback": [
      "\u001b[0;36m  Cell \u001b[0;32mIn [43], line 1\u001b[0;36m\u001b[0m\n\u001b[0;31m    ten number=10\u001b[0m\n\u001b[0m        ^\u001b[0m\n\u001b[0;31mSyntaxError\u001b[0m\u001b[0;31m:\u001b[0m invalid syntax\n"
     ]
    }
   ],
   "source": [
    "ten number=10"
   ]
  },
  {
   "cell_type": "code",
   "execution_count": 44,
   "id": "f0e9cf68-ea54-4a02-9949-62f8b82d805d",
   "metadata": {},
   "outputs": [],
   "source": [
    "ten_number=10"
   ]
  },
  {
   "cell_type": "code",
   "execution_count": 45,
   "id": "f6fe45ae-1601-4ee0-b0e1-a2d7b76b03c5",
   "metadata": {},
   "outputs": [],
   "source": [
    "_ = 10 #dummy variable "
   ]
  },
  {
   "cell_type": "markdown",
   "id": "b1f29050-3707-4802-acbe-f61aa9181007",
   "metadata": {},
   "source": [
    "# Fundamental Data types"
   ]
  },
  {
   "cell_type": "markdown",
   "id": "ea6a5379-e86b-424b-b95f-637c7ec40f76",
   "metadata": {},
   "source": [
    "## Integers"
   ]
  },
  {
   "cell_type": "code",
   "execution_count": 46,
   "id": "1468a479-b935-43f8-ae2b-c0d22d16a7c8",
   "metadata": {},
   "outputs": [],
   "source": [
    "a = 7"
   ]
  },
  {
   "cell_type": "code",
   "execution_count": 47,
   "id": "79bb5f48-fc16-4dfc-a79b-8103440943b6",
   "metadata": {},
   "outputs": [
    {
     "data": {
      "text/plain": [
       "int"
      ]
     },
     "execution_count": 47,
     "metadata": {},
     "output_type": "execute_result"
    }
   ],
   "source": [
    "type(a)"
   ]
  },
  {
   "cell_type": "code",
   "execution_count": 48,
   "id": "8de38894-a8e8-4e01-8c23-37f5c9819345",
   "metadata": {},
   "outputs": [
    {
     "data": {
      "text/plain": [
       "int"
      ]
     },
     "execution_count": 48,
     "metadata": {},
     "output_type": "execute_result"
    }
   ],
   "source": [
    "b = 77777\n",
    "type(b)"
   ]
  },
  {
   "cell_type": "markdown",
   "id": "32371faf-7b53-48c8-b85e-7cb17a1245b4",
   "metadata": {},
   "source": [
    "## Floats - numbers containing decimals numbers"
   ]
  },
  {
   "cell_type": "code",
   "execution_count": 49,
   "id": "3b63a505-bb78-446d-be95-0b1df952dca0",
   "metadata": {},
   "outputs": [],
   "source": [
    "pi = 3.14"
   ]
  },
  {
   "cell_type": "code",
   "execution_count": 50,
   "id": "f5aa205f-353c-441a-bcb9-e324e9dda6a9",
   "metadata": {},
   "outputs": [
    {
     "data": {
      "text/plain": [
       "float"
      ]
     },
     "execution_count": 50,
     "metadata": {},
     "output_type": "execute_result"
    }
   ],
   "source": [
    "type(pi)"
   ]
  },
  {
   "cell_type": "code",
   "execution_count": 51,
   "id": "d955125d-4416-4a03-a481-e948a36145ce",
   "metadata": {},
   "outputs": [
    {
     "data": {
      "text/plain": [
       "float"
      ]
     },
     "execution_count": 51,
     "metadata": {},
     "output_type": "execute_result"
    }
   ],
   "source": [
    "pi = 22/7\n",
    "pi\n",
    "type(pi)"
   ]
  },
  {
   "cell_type": "code",
   "execution_count": 52,
   "id": "0b2edc0a-7c89-4c4c-8249-a7f085aebceb",
   "metadata": {},
   "outputs": [
    {
     "data": {
      "text/plain": [
       "float"
      ]
     },
     "execution_count": 52,
     "metadata": {},
     "output_type": "execute_result"
    }
   ],
   "source": [
    "x = 2.0\n",
    "\n",
    "type(x)"
   ]
  },
  {
   "cell_type": "code",
   "execution_count": 53,
   "id": "94c31183-3f90-41fc-952b-27ba279df220",
   "metadata": {},
   "outputs": [
    {
     "data": {
      "text/plain": [
       "int"
      ]
     },
     "execution_count": 53,
     "metadata": {},
     "output_type": "execute_result"
    }
   ],
   "source": [
    "x = 2\n",
    "\n",
    "type(x)"
   ]
  },
  {
   "cell_type": "markdown",
   "id": "f18f5b5a-bdc7-4776-b983-ed45af87a9cc",
   "metadata": {},
   "source": [
    "## complex Numbers"
   ]
  },
  {
   "cell_type": "code",
   "execution_count": 54,
   "id": "6f2c02bc-3c15-4368-b182-9dca9b77333d",
   "metadata": {},
   "outputs": [
    {
     "data": {
      "text/plain": [
       "(2+3j)"
      ]
     },
     "execution_count": 54,
     "metadata": {},
     "output_type": "execute_result"
    }
   ],
   "source": [
    "a = 2+3j\n",
    "a"
   ]
  },
  {
   "cell_type": "code",
   "execution_count": 55,
   "id": "acc68ceb-0528-4713-9a83-1c6de3193113",
   "metadata": {},
   "outputs": [
    {
     "data": {
      "text/plain": [
       "complex"
      ]
     },
     "execution_count": 55,
     "metadata": {},
     "output_type": "execute_result"
    }
   ],
   "source": [
    "type(a)"
   ]
  },
  {
   "cell_type": "code",
   "execution_count": 56,
   "id": "bc1747c9-ba08-4d87-821a-76b6c7ff9817",
   "metadata": {},
   "outputs": [
    {
     "data": {
      "text/plain": [
       "2.0"
      ]
     },
     "execution_count": 56,
     "metadata": {},
     "output_type": "execute_result"
    }
   ],
   "source": [
    "a.real"
   ]
  },
  {
   "cell_type": "code",
   "execution_count": 57,
   "id": "fefbd11c-39a4-473f-8af7-a7c70f3b17e3",
   "metadata": {},
   "outputs": [
    {
     "data": {
      "text/plain": [
       "3.0"
      ]
     },
     "execution_count": 57,
     "metadata": {},
     "output_type": "execute_result"
    }
   ],
   "source": [
    "a.imag"
   ]
  },
  {
   "cell_type": "markdown",
   "id": "f0cfc234-c526-49d1-9c6a-b71bde8830a7",
   "metadata": {},
   "source": [
    "## Dynamic Typing"
   ]
  },
  {
   "cell_type": "markdown",
   "id": "d3d8d221-97b7-4d86-a277-ee8be88c80f0",
   "metadata": {},
   "source": [
    "'''\n",
    "int a = 22;     in c,c++\n"
   ]
  },
  {
   "cell_type": "code",
   "execution_count": 58,
   "id": "5d0517c6-b9f6-4b5a-9a90-72afb150a1d3",
   "metadata": {},
   "outputs": [
    {
     "name": "stdout",
     "output_type": "stream",
     "text": [
      "<class 'int'>\n",
      "<class 'float'>\n",
      "<class 'str'>\n"
     ]
    }
   ],
   "source": [
    "a = 22\n",
    "print(type(a))\n",
    "a = 22.45\n",
    "print(type(a))\n",
    "a = 'Sandeep'\n",
    "print(type(a))\n"
   ]
  },
  {
   "cell_type": "code",
   "execution_count": 59,
   "id": "0bd2ec5b-6e1c-46de-b141-0367c9158156",
   "metadata": {},
   "outputs": [
    {
     "name": "stdout",
     "output_type": "stream",
     "text": [
      "Sandeep\n"
     ]
    }
   ],
   "source": [
    "print(a)"
   ]
  },
  {
   "cell_type": "markdown",
   "id": "5a3bc574-b22e-4456-bc24-df1219aeb56a",
   "metadata": {},
   "source": [
    "# Strong typing"
   ]
  },
  {
   "cell_type": "code",
   "execution_count": 61,
   "id": "4c66d84b-e9ef-4ff2-9e1d-109d9609c384",
   "metadata": {},
   "outputs": [
    {
     "data": {
      "text/plain": [
       "'Day 1'"
      ]
     },
     "execution_count": 61,
     "metadata": {},
     "output_type": "execute_result"
    }
   ],
   "source": [
    "'Day ' + '1'"
   ]
  },
  {
   "cell_type": "code",
   "execution_count": 61,
   "id": "e306e86b",
   "metadata": {},
   "outputs": [
    {
     "data": {
      "text/plain": [
       "'Day 1'"
      ]
     },
     "execution_count": 61,
     "metadata": {},
     "output_type": "execute_result"
    }
   ],
   "source": [
    "'Day ' + '1'"
   ]
  },
  {
   "cell_type": "code",
   "execution_count": 64,
   "id": "c10eb663-c7e4-46c9-b3e3-29c482cd8854",
   "metadata": {},
   "outputs": [
    {
     "data": {
      "text/plain": [
       "44"
      ]
     },
     "execution_count": 64,
     "metadata": {},
     "output_type": "execute_result"
    }
   ],
   "source": [
    "22 + 22"
   ]
  },
  {
   "cell_type": "code",
   "execution_count": 64,
   "id": "6f35a612",
   "metadata": {},
   "outputs": [
    {
     "data": {
      "text/plain": [
       "44"
      ]
     },
     "execution_count": 64,
     "metadata": {},
     "output_type": "execute_result"
    }
   ],
   "source": [
    "22 + 22"
   ]
  },
  {
   "cell_type": "code",
   "execution_count": 64,
   "id": "5515fefe",
   "metadata": {},
   "outputs": [
    {
     "data": {
      "text/plain": [
       "44"
      ]
     },
     "execution_count": 64,
     "metadata": {},
     "output_type": "execute_result"
    }
   ],
   "source": [
    "22 + 22"
   ]
  },
  {
   "cell_type": "code",
   "execution_count": 65,
   "id": "bd107444-b652-4856-acb3-bc34c6770287",
   "metadata": {},
   "outputs": [
    {
     "data": {
      "text/plain": [
       "'Sandeep Bandi'"
      ]
     },
     "execution_count": 65,
     "metadata": {},
     "output_type": "execute_result"
    }
   ],
   "source": [
    "'Sandeep' + ' Bandi'"
   ]
  },
  {
   "cell_type": "code",
   "execution_count": 66,
   "id": "55a66c11-4cf4-488e-9aef-a4818f53ead9",
   "metadata": {},
   "outputs": [
    {
     "data": {
      "text/plain": [
       "23.2"
      ]
     },
     "execution_count": 66,
     "metadata": {},
     "output_type": "execute_result"
    }
   ],
   "source": [
    "22.2 + 1"
   ]
  },
  {
   "cell_type": "code",
   "execution_count": 67,
   "id": "8578991e-5711-4a2b-96e6-6feed8368dad",
   "metadata": {},
   "outputs": [],
   "source": [
    "a = 10      #int\n",
    "b = 1.2     #float\n",
    "c = 'Sand'  #str\n",
    "d = 1 + 2j  #comp #rarely used\n"
   ]
  },
  {
   "cell_type": "code",
   "execution_count": 73,
   "id": "16284a6b-e42d-4d6a-9f22-2f58f7db1e0f",
   "metadata": {},
   "outputs": [
    {
     "name": "stdout",
     "output_type": "stream",
     "text": [
      "HariOm welcome to class of python language\n"
     ]
    }
   ],
   "source": [
    "lan = 'python'\n",
    "print(f'HariOm welcome to class of ' + lan + ' language')"
   ]
  },
  {
   "cell_type": "code",
   "execution_count": 72,
   "id": "c8274396-254d-43b5-afc5-47b6e75084d7",
   "metadata": {},
   "outputs": [
    {
     "name": "stdout",
     "output_type": "stream",
     "text": [
      "HariOm welcome to class of Javascript language\n"
     ]
    }
   ],
   "source": [
    "# -> formatted string method\n",
    "lan = 'Javascript'\n",
    "print(f'HariOm welcome to class of {lan} language') # current standard approach used in python"
   ]
  },
  {
   "cell_type": "code",
   "execution_count": 74,
   "id": "ebdd0bbd-e20d-4279-84f1-e95d8b8dd677",
   "metadata": {},
   "outputs": [
    {
     "name": "stdout",
     "output_type": "stream",
     "text": [
      "Today is the first class of python language\n"
     ]
    }
   ],
   "source": [
    "num = 'first'\n",
    "lan = 'python'\n",
    "print(f'Today is the {num} class of {lan} language')"
   ]
  },
  {
   "cell_type": "code",
   "execution_count": 78,
   "id": "07429b0b-9e5f-4a33-9615-c94c30932d28",
   "metadata": {},
   "outputs": [
    {
     "name": "stdout",
     "output_type": "stream",
     "text": [
      "The Result sum of two nums a:22 and b:34 is 56 \n"
     ]
    }
   ],
   "source": [
    "a = 22\n",
    "b = 34\n",
    "c = a + b\n",
    "print(f\"The Result sum of two nums a:{a} and b:{b} is {c} \")"
   ]
  },
  {
   "cell_type": "markdown",
   "id": "351b26e3-7e9a-4003-805f-2e22e8e7435d",
   "metadata": {},
   "source": [
    "## Boolean"
   ]
  },
  {
   "cell_type": "code",
   "execution_count": 79,
   "id": "7c21e07a-9838-4640-ade1-9267d0d2d82c",
   "metadata": {},
   "outputs": [],
   "source": [
    "one = True\n",
    "two = False"
   ]
  },
  {
   "cell_type": "code",
   "execution_count": 81,
   "id": "50bf84d3-5779-473d-93ad-68304fb510ca",
   "metadata": {},
   "outputs": [
    {
     "name": "stdout",
     "output_type": "stream",
     "text": [
      "<class 'bool'>\n",
      "<class 'bool'>\n"
     ]
    }
   ],
   "source": [
    "print(type(one))\n",
    "print(type(two))"
   ]
  },
  {
   "cell_type": "code",
   "execution_count": 83,
   "id": "94eb0cf1-fe43-4263-971d-99f220025e32",
   "metadata": {},
   "outputs": [
    {
     "name": "stdout",
     "output_type": "stream",
     "text": [
      "You understood everything ?: False\n"
     ]
    }
   ],
   "source": [
    "class_start_at = 1500\n",
    "you_came_at = 1600\n",
    "you_understood_all_concepts = you_came_at < class_start_at\n",
    "\n",
    "print(f'You understood everything ?: {you_understood_all_concepts}')"
   ]
  },
  {
   "cell_type": "code",
   "execution_count": 84,
   "id": "99bbfeed-0abd-4be7-a7ec-a8a2add66cfa",
   "metadata": {},
   "outputs": [
    {
     "name": "stdout",
     "output_type": "stream",
     "text": [
      "You understood everything ?: True\n"
     ]
    }
   ],
   "source": [
    "class_start_at = 3\n",
    "you_came_at = 2\n",
    "you_understood_all_concepts = you_came_at < class_start_at\n",
    "\n",
    "print(f'You understood everything ?: {you_understood_all_concepts}')"
   ]
  },
  {
   "cell_type": "code",
   "execution_count": null,
   "id": "b7c7621d-9d0b-4073-9534-6d46b0509493",
   "metadata": {},
   "outputs": [],
   "source": []
  }
 ],
 "metadata": {
  "kernelspec": {
   "display_name": "Python 3 (ipykernel)",
   "language": "python",
   "name": "python3"
  },
  "language_info": {
   "codemirror_mode": {
    "name": "ipython",
    "version": 3
   },
   "file_extension": ".py",
   "mimetype": "text/x-python",
   "name": "python",
   "nbconvert_exporter": "python",
   "pygments_lexer": "ipython3",
   "version": "3.10.6"
  }
 },
 "nbformat": 4,
 "nbformat_minor": 5
}
