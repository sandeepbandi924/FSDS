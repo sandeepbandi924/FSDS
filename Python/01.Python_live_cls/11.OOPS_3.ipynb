{
 "cells": [
  {
   "cell_type": "markdown",
   "id": "21e3038d-7486-4563-a151-b8e74e7bc068",
   "metadata": {},
   "source": [
    "# Inhertance"
   ]
  },
  {
   "cell_type": "raw",
   "id": "de4f535b-304c-40eb-a6f5-26c6a3b6daeb",
   "metadata": {},
   "source": [
    "Single \n",
    "Multiple\n",
    "Multi level\n",
    "Hierarchical\n",
    "Hybrid"
   ]
  },
  {
   "cell_type": "markdown",
   "id": "cdffcabf-a128-4552-81b6-81214af48038",
   "metadata": {},
   "source": [
    "## Single Inheritance\n",
    "\n",
    "parent\n",
    "  |  \n",
    "  |\n",
    "Child"
   ]
  },
  {
   "cell_type": "code",
   "execution_count": 6,
   "id": "64ece4d3-7621-4b6f-9abe-042f02833354",
   "metadata": {},
   "outputs": [],
   "source": [
    "class Parent :\n",
    "    def func1(self):\n",
    "        print('Hello from parent class')\n",
    "    \n",
    "class child(Parent):\n",
    "    def func2(self):\n",
    "        print('Hello child')"
   ]
  },
  {
   "cell_type": "code",
   "execution_count": 7,
   "id": "129f82b2-bfb8-459a-adc7-40bb6903f1ec",
   "metadata": {},
   "outputs": [],
   "source": [
    "ch = child()"
   ]
  },
  {
   "cell_type": "code",
   "execution_count": 8,
   "id": "ac768e7c-9c98-4271-8a9e-4ddd6c3919cb",
   "metadata": {},
   "outputs": [
    {
     "name": "stdout",
     "output_type": "stream",
     "text": [
      "Hello from parent class\n"
     ]
    }
   ],
   "source": [
    "ch.func1()"
   ]
  },
  {
   "cell_type": "code",
   "execution_count": 9,
   "id": "39ab653c-570e-442e-b6ae-af511d6249e5",
   "metadata": {},
   "outputs": [
    {
     "name": "stdout",
     "output_type": "stream",
     "text": [
      "Hello child\n"
     ]
    }
   ],
   "source": [
    "ch.func2()"
   ]
  },
  {
   "cell_type": "code",
   "execution_count": 14,
   "id": "d1444bfa-936b-4e2b-93f6-de1099837005",
   "metadata": {},
   "outputs": [],
   "source": [
    "class Ineuron:\n",
    "    company_web = 'https://ineuron.ai'\n",
    "    name = 'Ineuron'\n",
    "    \n",
    "    def contact_details(self):\n",
    "        print('Contact us at',self.company_web)\n",
    "        \n",
    "    \n",
    "class DataScience(Ineuron):\n",
    "    \n",
    "    def __init__(self):\n",
    "        self.year_estb = 2018\n",
    "        \n",
    "    def est_details(self):\n",
    "        print('Est Details',self.name,self.year_estb)\n",
    "        \n",
    "ds = DataScience()"
   ]
  },
  {
   "cell_type": "code",
   "execution_count": 15,
   "id": "e97dca1f-17a0-441b-ba8c-fc01575aba15",
   "metadata": {},
   "outputs": [
    {
     "name": "stdout",
     "output_type": "stream",
     "text": [
      "Contact us at https://ineuron.ai\n"
     ]
    }
   ],
   "source": [
    "ds.contact_details()"
   ]
  },
  {
   "cell_type": "code",
   "execution_count": 16,
   "id": "0488c341-c985-4e03-8cc5-de17a91f8ede",
   "metadata": {},
   "outputs": [
    {
     "name": "stdout",
     "output_type": "stream",
     "text": [
      "Est Details Ineuron 2018\n"
     ]
    }
   ],
   "source": [
    "ds.est_details()"
   ]
  },
  {
   "cell_type": "markdown",
   "id": "c9660d5e-563e-4d55-bafd-763ae3ca0015",
   "metadata": {},
   "source": [
    "## Multiple Inheritance\n",
    "\n",
    "parent    parent\n",
    "  \\        /\n",
    "   \\      /\n",
    "    \\    /\n",
    "     Child"
   ]
  },
  {
   "cell_type": "code",
   "execution_count": 17,
   "id": "9480f748-78c4-4ac4-a22b-596533254da7",
   "metadata": {},
   "outputs": [],
   "source": [
    "class Parent1:\n",
    "    def fun1(self):\n",
    "        print('Hello From Parent1')\n",
    "        \n",
    "class Parent2:\n",
    "    def fun2(self):\n",
    "        print('Hello From Parent2')\n",
    "    \n",
    "class Child(Parent1,Parent2):\n",
    "    def fun3(self):\n",
    "        print('Hello from child class')"
   ]
  },
  {
   "cell_type": "code",
   "execution_count": 18,
   "id": "17aa0cfd-59b8-4a39-ba59-fa9dd9509b74",
   "metadata": {},
   "outputs": [],
   "source": [
    "ch = Child()"
   ]
  },
  {
   "cell_type": "code",
   "execution_count": 19,
   "id": "08998e1b-ad1e-4cd4-b36e-0041901ba74f",
   "metadata": {},
   "outputs": [
    {
     "name": "stdout",
     "output_type": "stream",
     "text": [
      "Hello From Parent1\n"
     ]
    }
   ],
   "source": [
    "ch.fun1()"
   ]
  },
  {
   "cell_type": "code",
   "execution_count": 20,
   "id": "d5f4258c-34e0-4d47-8c56-9cfd8a0db2ee",
   "metadata": {},
   "outputs": [
    {
     "name": "stdout",
     "output_type": "stream",
     "text": [
      "Hello From Parent2\n"
     ]
    }
   ],
   "source": [
    "ch.fun2()"
   ]
  },
  {
   "cell_type": "code",
   "execution_count": 21,
   "id": "315edceb-c2cb-4ded-92ed-2dbbe1ee7a91",
   "metadata": {},
   "outputs": [],
   "source": [
    "#par 1\n",
    "class Batch_number:\n",
    "    batchnumber = ''\n",
    "    def __init__(self,a,b,c):\n",
    "        self.a=a\n",
    "        self.b=b\n",
    "        self.c=c\n",
    "    \n",
    "    def batch(self):\n",
    "        print(self.batchnumber)\n",
    "#par2\n",
    "class Course_name:\n",
    "    cname=''\n",
    "    def course(self):\n",
    "        print(self.cname)\n",
    "        \n",
    "#chld\n",
    "\n",
    "class Student(Batch_number,Course_name):\n",
    "    \n",
    "    def show(self):\n",
    "        print(\"Batch:\",self.batchnumber)\n",
    "        print('Course',self.cname)\n",
    "    \n",
    "    \n",
    "    \n",
    "    \n",
    "    "
   ]
  },
  {
   "cell_type": "code",
   "execution_count": 22,
   "id": "aac89644-9d0e-4660-a47f-7b63c232cf6d",
   "metadata": {},
   "outputs": [
    {
     "ename": "TypeError",
     "evalue": "Batch_number.__init__() missing 3 required positional arguments: 'a', 'b', and 'c'",
     "output_type": "error",
     "traceback": [
      "\u001b[0;31m---------------------------------------------------------------------------\u001b[0m",
      "\u001b[0;31mTypeError\u001b[0m                                 Traceback (most recent call last)",
      "Cell \u001b[0;32mIn [22], line 1\u001b[0m\n\u001b[0;32m----> 1\u001b[0m s1\u001b[38;5;241m=\u001b[39m\u001b[43mStudent\u001b[49m\u001b[43m(\u001b[49m\u001b[43m)\u001b[49m\n",
      "\u001b[0;31mTypeError\u001b[0m: Batch_number.__init__() missing 3 required positional arguments: 'a', 'b', and 'c'"
     ]
    }
   ],
   "source": [
    "s1=Student()"
   ]
  },
  {
   "cell_type": "code",
   "execution_count": 23,
   "id": "169031c5-ef65-42b9-ae85-f4c32064c094",
   "metadata": {},
   "outputs": [],
   "source": [
    "s1=Student(1,2,3)"
   ]
  },
  {
   "cell_type": "code",
   "execution_count": 24,
   "id": "527e1253-8d11-44fa-a934-d20c5c8fafbe",
   "metadata": {},
   "outputs": [],
   "source": [
    "s1.batchnumber=2"
   ]
  },
  {
   "cell_type": "code",
   "execution_count": 25,
   "id": "fde0236a-8f40-47d5-b64e-ae746665e168",
   "metadata": {},
   "outputs": [],
   "source": [
    "s1.cname='fsds'"
   ]
  },
  {
   "cell_type": "code",
   "execution_count": 27,
   "id": "059a1cb0-2dfc-4026-991f-5dc10f3cbb68",
   "metadata": {},
   "outputs": [
    {
     "name": "stdout",
     "output_type": "stream",
     "text": [
      "fsds\n"
     ]
    }
   ],
   "source": [
    "s1.course()"
   ]
  },
  {
   "cell_type": "code",
   "execution_count": 28,
   "id": "f4a53344-1935-47ed-9e9b-f4339a6cd833",
   "metadata": {},
   "outputs": [
    {
     "name": "stdout",
     "output_type": "stream",
     "text": [
      "Batch: 2\n",
      "Course fsds\n"
     ]
    }
   ],
   "source": [
    "s1.show()"
   ]
  },
  {
   "cell_type": "markdown",
   "id": "5237cb75-deff-4e93-bd35-44876ef0804c",
   "metadata": {},
   "source": [
    "## Multi Level Inheritance\n",
    "\n",
    "c1\n",
    "|\n",
    "c2\n",
    "|\n",
    "c3"
   ]
  },
  {
   "cell_type": "code",
   "execution_count": 30,
   "id": "e2730ddd-ef57-4548-8ea0-0afc85d801c3",
   "metadata": {},
   "outputs": [],
   "source": [
    "class GF:\n",
    "    def a(self):\n",
    "        print('Inside GF....')\n",
    "        \n",
    "class F(GF):\n",
    "    def b(self):\n",
    "        print('Inside F')\n",
    "    \n",
    "class C(F):\n",
    "    def c(self):\n",
    "        print('Inside c')"
   ]
  },
  {
   "cell_type": "code",
   "execution_count": 31,
   "id": "d97dce33-45b3-41ab-9f1b-d3f16d0cb935",
   "metadata": {},
   "outputs": [],
   "source": [
    "c1=C()"
   ]
  },
  {
   "cell_type": "code",
   "execution_count": 33,
   "id": "24adf79a-3885-44f6-9a6c-ba2706a841ef",
   "metadata": {},
   "outputs": [
    {
     "name": "stdout",
     "output_type": "stream",
     "text": [
      "Inside GF....\n"
     ]
    }
   ],
   "source": [
    "c1.a()"
   ]
  },
  {
   "cell_type": "code",
   "execution_count": 34,
   "id": "40ca87fe-c4c9-46e1-86a8-8d2e6941148a",
   "metadata": {},
   "outputs": [
    {
     "name": "stdout",
     "output_type": "stream",
     "text": [
      "Inside F\n"
     ]
    }
   ],
   "source": [
    "c1.b()"
   ]
  },
  {
   "cell_type": "code",
   "execution_count": 35,
   "id": "5e5aa2e5-7337-451d-a697-ddc3f65ef671",
   "metadata": {},
   "outputs": [
    {
     "name": "stdout",
     "output_type": "stream",
     "text": [
      "Inside c\n"
     ]
    }
   ],
   "source": [
    "c1.c()"
   ]
  },
  {
   "cell_type": "code",
   "execution_count": 36,
   "id": "18f78136-01e3-4a5b-9064-866719953c47",
   "metadata": {},
   "outputs": [],
   "source": [
    "class Vehicle:\n",
    "    def info(self):\n",
    "        print(\"Inside vehicle class\")\n",
    "class Car(Vehicle):\n",
    "    def car_info(self):\n",
    "        print(\"Inside car class\")\n",
    "    \n",
    "class Sportcar(Car):\n",
    "    def sport_info(self):\n",
    "        print(\"Inside Sport car class\")\n",
    "        \n",
    "        \n",
    "        \n",
    "s1=Sportcar()"
   ]
  },
  {
   "cell_type": "code",
   "execution_count": 37,
   "id": "67aeda84-ad18-4977-b31a-8caad9e264f1",
   "metadata": {},
   "outputs": [
    {
     "name": "stdout",
     "output_type": "stream",
     "text": [
      "Inside car class\n"
     ]
    }
   ],
   "source": [
    "s1.car_info()"
   ]
  },
  {
   "cell_type": "code",
   "execution_count": 48,
   "id": "31b81ae3-0674-4963-a95b-a8668d92400a",
   "metadata": {},
   "outputs": [],
   "source": [
    "class Phones:\n",
    "    def __init__(self,brand,model,price):\n",
    "        self.brand=brand\n",
    "        self.model=model\n",
    "        self.price=price\n",
    "        \n",
    "    def species(self):\n",
    "        return ('Brand',self.brand , 'price',self.price)\n",
    "    \n",
    "    def typeOfPhone(self):\n",
    "        if self.price > 25000:\n",
    "            return 'this is budget phone'\n",
    "        else:\n",
    "            return 'this is mid range phone'\n",
    "        \n",
    "class SmartPhone(Phones):\n",
    "    def __init__(self,brand,model,price ,ram,rom):\n",
    "        super().__init__(brand,model,price)\n",
    "        self.ram=ram\n",
    "        self.rom=rom\n",
    "        \n",
    "class FlashPhone(SmartPhone):\n",
    "    def __init__(self,brand,model,price,ram,rom,frontcamera,backcamera,display):\n",
    "        super().__init__(brand,model,price,ram,rom)\n",
    "        self.frontcamera=frontcamera\n",
    "        self.backcamera=backcamera\n",
    "        self.display=display\n",
    "        \n",
    "        "
   ]
  },
  {
   "cell_type": "code",
   "execution_count": 49,
   "id": "d5b3aed8-a044-420e-95e3-65af7418d2fd",
   "metadata": {},
   "outputs": [],
   "source": [
    "p1=FlashPhone('Iphone','XR',58000,'3GB',128,'16mp','20mp','Almond')"
   ]
  },
  {
   "cell_type": "code",
   "execution_count": 50,
   "id": "d0c18a0a-8c14-4e06-9671-b620d457f5ce",
   "metadata": {},
   "outputs": [
    {
     "data": {
      "text/plain": [
       "'this is budget phone'"
      ]
     },
     "execution_count": 50,
     "metadata": {},
     "output_type": "execute_result"
    }
   ],
   "source": [
    "p1.typeOfPhone()"
   ]
  },
  {
   "cell_type": "code",
   "execution_count": 51,
   "id": "5e50c28a-d384-4436-946b-2c088239610c",
   "metadata": {},
   "outputs": [
    {
     "data": {
      "text/plain": [
       "('Brand', 'Iphone', 'price', 58000)"
      ]
     },
     "execution_count": 51,
     "metadata": {},
     "output_type": "execute_result"
    }
   ],
   "source": [
    "p1.species()"
   ]
  },
  {
   "cell_type": "markdown",
   "id": "b8546d74-7091-4404-a78f-bd4c52f91ac7",
   "metadata": {},
   "source": [
    "## Hierarchical Inheritance \n",
    "        \n",
    "        Parent\n",
    "        \n",
    "      /   |    \\\n",
    "    /     |     \\\n",
    "Child1   Child2  child3\n",
    "        "
   ]
  },
  {
   "cell_type": "code",
   "execution_count": 64,
   "id": "9b6fd9d8-fe7f-4909-9319-c120ea29cc13",
   "metadata": {},
   "outputs": [],
   "source": [
    "class Vehicle:\n",
    "    def info(self):\n",
    "        print(\"This vehicle class\")\n",
    "        \n",
    "class Car(Vehicle):\n",
    "    def car_info(self,name):\n",
    "        print(\"car name:\",name)\n",
    "    \n",
    "class Truck(Vehicle):\n",
    "    def truck_info(self,name):\n",
    "        print(\"truck name:\",name)\n",
    "        \n",
    "        \n",
    "        \n",
    "s1=Car()"
   ]
  },
  {
   "cell_type": "code",
   "execution_count": 61,
   "id": "62bf15e2-1375-49e7-9117-531cf852f4c2",
   "metadata": {},
   "outputs": [
    {
     "name": "stdout",
     "output_type": "stream",
     "text": [
      "This vehicle class\n"
     ]
    }
   ],
   "source": [
    "s1.info()"
   ]
  },
  {
   "cell_type": "code",
   "execution_count": null,
   "id": "642e4c08-c178-4610-9426-7c0508d40f71",
   "metadata": {},
   "outputs": [],
   "source": [
    "s1.car_info('Benz')"
   ]
  },
  {
   "cell_type": "code",
   "execution_count": 66,
   "id": "d7aba374-98a2-4e7c-9ea4-eb8103b6137d",
   "metadata": {},
   "outputs": [],
   "source": [
    "t1=Truck()"
   ]
  },
  {
   "cell_type": "code",
   "execution_count": 67,
   "id": "d1eef74f-bb3d-472d-96b7-e1e882980d2d",
   "metadata": {},
   "outputs": [
    {
     "name": "stdout",
     "output_type": "stream",
     "text": [
      "truck name: Lorry\n"
     ]
    }
   ],
   "source": [
    "t1.truck_info('Lorry')"
   ]
  },
  {
   "cell_type": "raw",
   "id": "ca78e929-211d-4a9a-b038-e4a403f4305f",
   "metadata": {},
   "source": [
    "## Hybrid Inhertitance\n",
    "\n",
    "       \n",
    "        Parent\n",
    "      /   |    \\\n",
    "     /    |     \\ \n",
    "child1    |    child2\n",
    "          |      /\n",
    "    \\     |     /\n",
    "     \\    |    /\n",
    "      \\      / \n",
    "       child3"
   ]
  },
  {
   "cell_type": "code",
   "execution_count": 69,
   "id": "35082340-86cb-45e6-97a8-523580fef1a3",
   "metadata": {},
   "outputs": [],
   "source": [
    "class Vehicle:\n",
    "    def info(self):\n",
    "        print(\"Inside vehicle class\")\n",
    "class Car(Vehicle):\n",
    "    def car_info(self):\n",
    "        print(\"Inside car class\")\n",
    "    \n",
    "class Truck(Vehicle):\n",
    "    def truck_info(self,name):\n",
    "        print(\"truck name:\",name)\n",
    "        \n",
    "class Sportcar(Car,Truck):\n",
    "    def sport_info(self):\n",
    "        print(\"Inside Sport car class\")\n",
    "        \n",
    "        \n",
    "        \n",
    "s1=Sportcar()\n"
   ]
  },
  {
   "cell_type": "code",
   "execution_count": null,
   "id": "3666668f-1f7b-422a-a343-baf78d9f2660",
   "metadata": {},
   "outputs": [],
   "source": [
    "s1."
   ]
  },
  {
   "cell_type": "code",
   "execution_count": null,
   "id": "e3c11077-b84b-4b07-8b0c-327b4c67eb14",
   "metadata": {},
   "outputs": [],
   "source": []
  },
  {
   "cell_type": "code",
   "execution_count": null,
   "id": "dc3bc426-463b-4f39-b8cb-76010e663054",
   "metadata": {},
   "outputs": [],
   "source": []
  },
  {
   "cell_type": "markdown",
   "id": "6f24c1ad-3eae-4df0-b505-6bcf70c2b10b",
   "metadata": {},
   "source": [
    "# Super\n",
    "\n",
    "Super is used when we need to build classes that extend the functionality of previously build classes\n",
    "\n",
    "super function is python is used to access method of immediate parent class"
   ]
  },
  {
   "cell_type": "code",
   "execution_count": 71,
   "id": "f7b6a5d6-7481-4c7c-a2f0-e168532402d2",
   "metadata": {},
   "outputs": [],
   "source": [
    "class Company:\n",
    "    def company_name(self):\n",
    "        return 'Ineuron'\n",
    "        \n",
    "class Employee(Company):\n",
    "    def info(self):\n",
    "        c_name=super().company_name()\n",
    "        print('I work at',c_name)"
   ]
  },
  {
   "cell_type": "code",
   "execution_count": 72,
   "id": "3bc6d39d-8dce-4027-85c7-f6d6373af2e6",
   "metadata": {},
   "outputs": [],
   "source": [
    "emp=Employee()"
   ]
  },
  {
   "cell_type": "code",
   "execution_count": 73,
   "id": "43f436fe-df42-4da5-ae86-98e6a1203cc6",
   "metadata": {},
   "outputs": [
    {
     "data": {
      "text/plain": [
       "'Ineuron'"
      ]
     },
     "execution_count": 73,
     "metadata": {},
     "output_type": "execute_result"
    }
   ],
   "source": [
    "emp.company_name()"
   ]
  },
  {
   "cell_type": "code",
   "execution_count": 74,
   "id": "601bd9b9-a60d-4763-9aad-0019cfe982c5",
   "metadata": {},
   "outputs": [
    {
     "name": "stdout",
     "output_type": "stream",
     "text": [
      "I work at Ineuron\n"
     ]
    }
   ],
   "source": [
    "emp.info()"
   ]
  },
  {
   "cell_type": "code",
   "execution_count": null,
   "id": "5975a1e2-0f68-40af-9421-0174e2f8996f",
   "metadata": {},
   "outputs": [],
   "source": [
    "when you intialize a child class in python you can call super().__init__() method \n",
    "this intialize parent class object into child class"
   ]
  },
  {
   "cell_type": "code",
   "execution_count": 96,
   "id": "8cb3f9cc-181c-41fd-8415-de75cc4e5805",
   "metadata": {},
   "outputs": [],
   "source": [
    "class Parent:\n",
    "    def __init__(self,v1,v2):\n",
    "        self.v1=v1\n",
    "        self.v2=v2\n",
    "    def name(self):\n",
    "        print('name',self.v1,self.v2)\n",
    "class child(Parent):\n",
    "    def __init__(self,v1,v2,v3):\n",
    "        super().__init__(v1,v2)\n",
    "        self.v3=v3"
   ]
  },
  {
   "cell_type": "code",
   "execution_count": 97,
   "id": "9dafcc16-5148-4db1-aec9-04987f1809fe",
   "metadata": {},
   "outputs": [],
   "source": [
    "c1=child(2,3,4)"
   ]
  },
  {
   "cell_type": "code",
   "execution_count": 99,
   "id": "bef90b4e-9702-4917-b9d4-f2f971052711",
   "metadata": {},
   "outputs": [
    {
     "name": "stdout",
     "output_type": "stream",
     "text": [
      "name 2 3\n"
     ]
    }
   ],
   "source": [
    "c1.name()"
   ]
  },
  {
   "cell_type": "code",
   "execution_count": null,
   "id": "dbecad07-1dd2-472c-9abb-43073f7c945a",
   "metadata": {},
   "outputs": [],
   "source": [
    "\n"
   ]
  },
  {
   "cell_type": "code",
   "execution_count": null,
   "id": "b948cd90-d5db-4f76-937f-4adaa1aadab5",
   "metadata": {},
   "outputs": [],
   "source": [
    "class Classname(ParentClass):\n",
    "    def method(self,arg):\n",
    "        super([classname],[self]).method(args)"
   ]
  }
 ],
 "metadata": {
  "kernelspec": {
   "display_name": "Python 3 (ipykernel)",
   "language": "python",
   "name": "python3"
  },
  "language_info": {
   "codemirror_mode": {
    "name": "ipython",
    "version": 3
   },
   "file_extension": ".py",
   "mimetype": "text/x-python",
   "name": "python",
   "nbconvert_exporter": "python",
   "pygments_lexer": "ipython3",
   "version": "3.10.6"
  }
 },
 "nbformat": 4,
 "nbformat_minor": 5
}
