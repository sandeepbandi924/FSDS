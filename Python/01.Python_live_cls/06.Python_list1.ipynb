{
 "cells": [
  {
   "cell_type": "markdown",
   "id": "c3cd4edf-48ab-41be-a78f-ebb7f46771f0",
   "metadata": {},
   "source": [
    "## List\n"
   ]
  },
  {
   "cell_type": "code",
   "execution_count": 7,
   "id": "f6c0548f-5e96-410d-9f01-eca9a6ec00e5",
   "metadata": {},
   "outputs": [
    {
     "data": {
      "text/plain": [
       "1"
      ]
     },
     "execution_count": 7,
     "metadata": {},
     "output_type": "execute_result"
    }
   ],
   "source": [
    "#collection of any items or values\n",
    "A = [1,2,3,4,5]\n",
    "\n",
    "A[0]"
   ]
  },
  {
   "cell_type": "code",
   "execution_count": 8,
   "id": "d00a0218-6deb-4d63-ad3a-21b156db6759",
   "metadata": {},
   "outputs": [
    {
     "data": {
      "text/plain": [
       "list"
      ]
     },
     "execution_count": 8,
     "metadata": {},
     "output_type": "execute_result"
    }
   ],
   "source": [
    "#collection of any items or values\n",
    "A = [1,2,3,4,5,0.25,'sand',2+3j,True]\n",
    "type(A)"
   ]
  },
  {
   "cell_type": "raw",
   "id": "25ebac39-0133-4af2-8bd9-4c56c48f9338",
   "metadata": {},
   "source": [
    "Diff Bt List python and array in c,c++\n",
    "\n",
    "In array we have only one type of data type\n",
    "\n",
    "In python list we have multiple data type"
   ]
  },
  {
   "cell_type": "code",
   "execution_count": 9,
   "id": "130b7d83-a13d-449d-84f2-5e369cd85192",
   "metadata": {},
   "outputs": [
    {
     "name": "stdout",
     "output_type": "stream",
     "text": [
      "1\n",
      "2\n",
      "3\n",
      "4\n",
      "5\n",
      "0.25\n",
      "sand\n",
      "(2+3j)\n",
      "True\n"
     ]
    }
   ],
   "source": [
    "for ele in A :\n",
    "    print(ele)"
   ]
  },
  {
   "cell_type": "code",
   "execution_count": 10,
   "id": "da74c951-9715-4fa0-84a8-22aa9212f434",
   "metadata": {},
   "outputs": [
    {
     "name": "stdout",
     "output_type": "stream",
     "text": [
      "1\n",
      "2\n",
      "3\n",
      "4\n",
      "5\n",
      "0.25\n",
      "sand\n",
      "(2+3j)\n",
      "True\n"
     ]
    }
   ],
   "source": [
    "A = [1,2,3,4,5,0.25,'sand',2+3j,True]\n",
    "for i in range(len(A)) :\n",
    "    print(A[i])"
   ]
  },
  {
   "cell_type": "code",
   "execution_count": 11,
   "id": "1d4672d5-0678-4282-898a-b3070a65bd16",
   "metadata": {},
   "outputs": [
    {
     "name": "stdout",
     "output_type": "stream",
     "text": [
      "i=0 , value: 1 , dtype=<class 'int'>\n",
      "i=1 , value: 2 , dtype=<class 'int'>\n",
      "i=2 , value: 3.25 , dtype=<class 'float'>\n",
      "i=3 , value: 4 , dtype=<class 'int'>\n",
      "i=4 , value: 5.5 , dtype=<class 'float'>\n",
      "i=5 , value: 0.25 , dtype=<class 'float'>\n",
      "i=6 , value: sand , dtype=<class 'str'>\n",
      "i=7 , value: (2+3j) , dtype=<class 'complex'>\n",
      "i=8 , value: True , dtype=<class 'bool'>\n"
     ]
    }
   ],
   "source": [
    "A = [1,2,3.25,4,5.5,0.25,'sand',2+3j,True]\n",
    "for i in range(len(A)) :\n",
    "    print(f'i={i} , value: {A[i]} , dtype={type(A[i])}')"
   ]
  },
  {
   "cell_type": "markdown",
   "id": "f4525ebd-1161-47aa-aab1-e4cf30dc2570",
   "metadata": {},
   "source": [
    "### Indexing and Slicing"
   ]
  },
  {
   "cell_type": "code",
   "execution_count": 12,
   "id": "477d5b97-5ff4-4a54-afeb-74bec0f03597",
   "metadata": {},
   "outputs": [],
   "source": [
    "lst = ['one','two','three',4,5,True]"
   ]
  },
  {
   "cell_type": "code",
   "execution_count": 13,
   "id": "1f27ead2-255a-48ee-b275-ae3a7cc09388",
   "metadata": {},
   "outputs": [
    {
     "data": {
      "text/plain": [
       "'one'"
      ]
     },
     "execution_count": 13,
     "metadata": {},
     "output_type": "execute_result"
    }
   ],
   "source": [
    "lst[0]"
   ]
  },
  {
   "cell_type": "code",
   "execution_count": 14,
   "id": "a02a4ac6-2d44-4f1f-87d3-820c6f4b238f",
   "metadata": {},
   "outputs": [
    {
     "data": {
      "text/plain": [
       "['two', 'three', 4, 5, True]"
      ]
     },
     "execution_count": 14,
     "metadata": {},
     "output_type": "execute_result"
    }
   ],
   "source": [
    "lst[1:]"
   ]
  },
  {
   "cell_type": "code",
   "execution_count": 15,
   "id": "49f04aad-2378-41dc-8298-10e6259c489b",
   "metadata": {},
   "outputs": [
    {
     "data": {
      "text/plain": [
       "['one', 'two', 'three']"
      ]
     },
     "execution_count": 15,
     "metadata": {},
     "output_type": "execute_result"
    }
   ],
   "source": [
    "lst[:3]"
   ]
  },
  {
   "cell_type": "code",
   "execution_count": 16,
   "id": "a078db40-8d0b-4448-8a46-18c46af66063",
   "metadata": {},
   "outputs": [
    {
     "data": {
      "text/plain": [
       "4"
      ]
     },
     "execution_count": 16,
     "metadata": {},
     "output_type": "execute_result"
    }
   ],
   "source": [
    "lst[-3]"
   ]
  },
  {
   "cell_type": "code",
   "execution_count": 17,
   "id": "a715187b-3872-4785-9a67-7b19441ccf63",
   "metadata": {},
   "outputs": [],
   "source": [
    "A=[1, 2, 3, 4, 5.5, 'sand', (2+3j), True]"
   ]
  },
  {
   "cell_type": "code",
   "execution_count": 18,
   "id": "13db89fc-a330-4684-8d2d-ba3f3fb7761c",
   "metadata": {},
   "outputs": [
    {
     "data": {
      "text/plain": [
       "[4, 5.5, 'sand', (2+3j), True]"
      ]
     },
     "execution_count": 18,
     "metadata": {},
     "output_type": "execute_result"
    }
   ],
   "source": [
    "A[3:]"
   ]
  },
  {
   "cell_type": "code",
   "execution_count": 19,
   "id": "1d6e5ed1-3976-4bdb-a852-1f6f5c4bc438",
   "metadata": {},
   "outputs": [
    {
     "data": {
      "text/plain": [
       "[1, 3, 5.5, (2+3j)]"
      ]
     },
     "execution_count": 19,
     "metadata": {},
     "output_type": "execute_result"
    }
   ],
   "source": [
    "A[0::2]"
   ]
  },
  {
   "cell_type": "code",
   "execution_count": 20,
   "id": "7d632729-6169-415b-a80c-1f5209acf362",
   "metadata": {},
   "outputs": [
    {
     "name": "stdout",
     "output_type": "stream",
     "text": [
      "0 1\n",
      "2 3\n",
      "4 5.5\n",
      "6 (2+3j)\n"
     ]
    }
   ],
   "source": [
    "for i in range(0,8,2):\n",
    "    print(i, A[i])"
   ]
  },
  {
   "cell_type": "code",
   "execution_count": 21,
   "id": "60ad85b4-9304-44e2-814e-91929ea03000",
   "metadata": {},
   "outputs": [
    {
     "data": {
      "text/plain": [
       "[1, 2, 3, 4, 5.5, 'sand', (2+3j), True]"
      ]
     },
     "execution_count": 21,
     "metadata": {},
     "output_type": "execute_result"
    }
   ],
   "source": [
    "A"
   ]
  },
  {
   "cell_type": "code",
   "execution_count": 22,
   "id": "83ba40e0-3376-43eb-be6e-4f544f773448",
   "metadata": {},
   "outputs": [
    {
     "data": {
      "text/plain": [
       "[True, (2+3j), 'sand', 5.5, 4, 3, 2, 1]"
      ]
     },
     "execution_count": 22,
     "metadata": {},
     "output_type": "execute_result"
    }
   ],
   "source": [
    "A[::-1] #rev"
   ]
  },
  {
   "cell_type": "code",
   "execution_count": 23,
   "id": "15ed0651-fef0-42f9-aa3b-82586edc33b5",
   "metadata": {},
   "outputs": [
    {
     "data": {
      "text/plain": [
       "[True, 'sand', 4, 2]"
      ]
     },
     "execution_count": 23,
     "metadata": {},
     "output_type": "execute_result"
    }
   ],
   "source": [
    "A[::-2]"
   ]
  },
  {
   "cell_type": "code",
   "execution_count": 24,
   "id": "234ee9c7-45b3-4624-b623-897136551a4c",
   "metadata": {},
   "outputs": [
    {
     "name": "stdout",
     "output_type": "stream",
     "text": [
      "0 1\n",
      "2 3\n",
      "4 5.5\n",
      "6 (2+3j)\n"
     ]
    }
   ],
   "source": [
    "for i in range(0,len(A),2):\n",
    "    print(i , A[i])"
   ]
  },
  {
   "cell_type": "code",
   "execution_count": 25,
   "id": "5d79a9f2-f3a6-4df1-b0a8-5bab9c539ca0",
   "metadata": {},
   "outputs": [
    {
     "name": "stdout",
     "output_type": "stream",
     "text": [
      "0 1\n",
      "1 2\n",
      "2 3\n",
      "3 4\n",
      "4 5.5\n",
      "5 sand\n",
      "6 (2+3j)\n",
      "7 True\n"
     ]
    }
   ],
   "source": [
    "for i in range(0,len(A)):\n",
    "    print(i , A[i])"
   ]
  },
  {
   "cell_type": "code",
   "execution_count": 26,
   "id": "476d3fbd-c578-482d-a98e-3345fd177412",
   "metadata": {},
   "outputs": [],
   "source": [
    "for i in range(0,len(A),-1):\n",
    "    print(i , A[i])"
   ]
  },
  {
   "cell_type": "code",
   "execution_count": 27,
   "id": "a10d6f27-6acb-4f26-99f3-6e4ad686dbcf",
   "metadata": {},
   "outputs": [
    {
     "name": "stdout",
     "output_type": "stream",
     "text": [
      "8 True\n",
      "7 (2+3j)\n",
      "6 sand\n",
      "5 5.5\n",
      "4 4\n",
      "3 3\n",
      "2 2\n",
      "1 1\n"
     ]
    }
   ],
   "source": [
    "for i in range(len(A),0,-1):\n",
    "    print(i , A[i-1])"
   ]
  },
  {
   "cell_type": "code",
   "execution_count": 28,
   "id": "de456455-574f-4779-8544-76666a901bbc",
   "metadata": {},
   "outputs": [
    {
     "name": "stdout",
     "output_type": "stream",
     "text": [
      "-1 True\n",
      "-2 (2+3j)\n",
      "-3 sand\n",
      "-4 5.5\n",
      "-5 4\n",
      "-6 3\n",
      "-7 2\n",
      "-8 1\n"
     ]
    }
   ],
   "source": [
    "for i in range(-1,-len(A)-1,-1):\n",
    "    print(i , A[i])"
   ]
  },
  {
   "cell_type": "code",
   "execution_count": 29,
   "id": "4d05ae48-f5e2-4a28-885b-7d68f8bc3e6c",
   "metadata": {},
   "outputs": [
    {
     "data": {
      "text/plain": [
       "[1, 3, 5.5, (2+3j)]"
      ]
     },
     "execution_count": 29,
     "metadata": {},
     "output_type": "execute_result"
    }
   ],
   "source": [
    "A[::2]"
   ]
  },
  {
   "cell_type": "code",
   "execution_count": 30,
   "id": "155053c1-4122-44bb-be36-25575b66d545",
   "metadata": {},
   "outputs": [
    {
     "data": {
      "text/plain": [
       "[2, 4, 'sand', True]"
      ]
     },
     "execution_count": 30,
     "metadata": {},
     "output_type": "execute_result"
    }
   ],
   "source": [
    "A[1::2]"
   ]
  },
  {
   "cell_type": "code",
   "execution_count": 31,
   "id": "e31ebef1-676c-4d8b-a70e-45b32a0728f2",
   "metadata": {},
   "outputs": [
    {
     "data": {
      "text/plain": [
       "[1, 2, 3, 4, 5.5, 'sand', (2+3j), True]"
      ]
     },
     "execution_count": 31,
     "metadata": {},
     "output_type": "execute_result"
    }
   ],
   "source": [
    "A"
   ]
  },
  {
   "cell_type": "code",
   "execution_count": 32,
   "id": "3bac065d-dc9c-4b82-b208-c105126df1ee",
   "metadata": {},
   "outputs": [
    {
     "name": "stdout",
     "output_type": "stream",
     "text": [
      "1 2\n",
      "5 sand\n",
      "6 (2+3j)\n",
      "7 True\n"
     ]
    }
   ],
   "source": [
    "for i in [1,5,6,7]: #prnt 1,5,6,7\n",
    "    print(i , A[i])"
   ]
  },
  {
   "cell_type": "code",
   "execution_count": 33,
   "id": "dacd01e3-6c09-45d6-9759-2032b504d84c",
   "metadata": {},
   "outputs": [
    {
     "data": {
      "text/plain": [
       "[1, 2, 3, 4, 5.5, 'sand', (2+3j), True]"
      ]
     },
     "execution_count": 33,
     "metadata": {},
     "output_type": "execute_result"
    }
   ],
   "source": [
    "A"
   ]
  },
  {
   "cell_type": "code",
   "execution_count": 34,
   "id": "5a8810c3-696f-4e22-a55a-98801cd25eb4",
   "metadata": {},
   "outputs": [
    {
     "data": {
      "text/plain": [
       "5.5"
      ]
     },
     "execution_count": 34,
     "metadata": {},
     "output_type": "execute_result"
    }
   ],
   "source": [
    "A[4] "
   ]
  },
  {
   "cell_type": "code",
   "execution_count": 35,
   "id": "82882b31-bb3c-4c08-8970-fbce73675f0a",
   "metadata": {},
   "outputs": [],
   "source": [
    "A[4] = 999   #Mutable operation"
   ]
  },
  {
   "cell_type": "code",
   "execution_count": 36,
   "id": "7414c57a-dc60-468a-b332-4fcbe05b0c57",
   "metadata": {},
   "outputs": [
    {
     "data": {
      "text/plain": [
       "[1, 2, 3, 4, 999, 'sand', (2+3j), True]"
      ]
     },
     "execution_count": 36,
     "metadata": {},
     "output_type": "execute_result"
    }
   ],
   "source": [
    "A"
   ]
  },
  {
   "cell_type": "code",
   "execution_count": 37,
   "id": "9ce9cbb9-be28-4041-a072-e815d6bca47b",
   "metadata": {},
   "outputs": [],
   "source": [
    "A[-2] = \"bandi\""
   ]
  },
  {
   "cell_type": "code",
   "execution_count": 38,
   "id": "a7244e55-dc19-4a88-bd7e-643b80e90c2b",
   "metadata": {},
   "outputs": [
    {
     "data": {
      "text/plain": [
       "[1, 2, 3, 4, 999, 'sand', 'bandi', True]"
      ]
     },
     "execution_count": 38,
     "metadata": {},
     "output_type": "execute_result"
    }
   ],
   "source": [
    "A"
   ]
  },
  {
   "cell_type": "code",
   "execution_count": 39,
   "id": "820a17cb-cc8e-407b-a79c-1b4cd77c30a3",
   "metadata": {},
   "outputs": [],
   "source": [
    "B = [78,90.22]"
   ]
  },
  {
   "cell_type": "code",
   "execution_count": 40,
   "id": "5789f0a8-9fca-49ed-a259-04c558169c70",
   "metadata": {},
   "outputs": [
    {
     "data": {
      "text/plain": [
       "[1, 2, 3, 4, 999, 'sand', 'bandi', True, 78, 90.22]"
      ]
     },
     "execution_count": 40,
     "metadata": {},
     "output_type": "execute_result"
    }
   ],
   "source": [
    "A + B"
   ]
  },
  {
   "cell_type": "code",
   "execution_count": 41,
   "id": "f14ea9fb-b157-4865-b7e5-7ab0213ec0cf",
   "metadata": {},
   "outputs": [
    {
     "data": {
      "text/plain": [
       "[1, 2, 3, 4, 999, 'sand', 'bandi', True]"
      ]
     },
     "execution_count": 41,
     "metadata": {},
     "output_type": "execute_result"
    }
   ],
   "source": [
    "A #it doesnot change"
   ]
  },
  {
   "cell_type": "code",
   "execution_count": 42,
   "id": "caf6ac23-2ae2-4365-ae55-b4219054eee1",
   "metadata": {},
   "outputs": [],
   "source": [
    "A = A + B"
   ]
  },
  {
   "cell_type": "code",
   "execution_count": 43,
   "id": "f71f29a1-2477-4d14-b0f6-eead671e30d4",
   "metadata": {},
   "outputs": [
    {
     "data": {
      "text/plain": [
       "[1, 2, 3, 4, 999, 'sand', 'bandi', True, 78, 90.22]"
      ]
     },
     "execution_count": 43,
     "metadata": {},
     "output_type": "execute_result"
    }
   ],
   "source": [
    "A"
   ]
  },
  {
   "cell_type": "code",
   "execution_count": 44,
   "id": "9cbac822-e7fb-4ebb-8a08-83974287f6d1",
   "metadata": {},
   "outputs": [
    {
     "data": {
      "text/plain": [
       "[1,\n",
       " 2,\n",
       " 3,\n",
       " 4,\n",
       " 999,\n",
       " 'sand',\n",
       " 'bandi',\n",
       " True,\n",
       " 78,\n",
       " 90.22,\n",
       " 1,\n",
       " 2,\n",
       " 3,\n",
       " 4,\n",
       " 999,\n",
       " 'sand',\n",
       " 'bandi',\n",
       " True,\n",
       " 78,\n",
       " 90.22]"
      ]
     },
     "execution_count": 44,
     "metadata": {},
     "output_type": "execute_result"
    }
   ],
   "source": [
    "A * 2"
   ]
  },
  {
   "cell_type": "markdown",
   "id": "35b11fe6-7358-4199-85ff-32520c5742cf",
   "metadata": {},
   "source": [
    "## Basic List Methods"
   ]
  },
  {
   "cell_type": "markdown",
   "id": "c20c7eed-58ef-4c01-ad53-014d8771d000",
   "metadata": {},
   "source": [
    "### len()"
   ]
  },
  {
   "cell_type": "code",
   "execution_count": 45,
   "id": "2df6dbcc-4ea5-4689-9041-28e9be3956d7",
   "metadata": {},
   "outputs": [
    {
     "data": {
      "text/plain": [
       "9"
      ]
     },
     "execution_count": 45,
     "metadata": {},
     "output_type": "execute_result"
    }
   ],
   "source": [
    "lst = [45,6,7,5,'sandeep',True,False,35,62.56]\n",
    "len(lst)"
   ]
  },
  {
   "cell_type": "code",
   "execution_count": 46,
   "id": "0fbd16fa-8334-416b-87f1-756ebb0cc4a1",
   "metadata": {},
   "outputs": [
    {
     "data": {
      "text/plain": [
       "10"
      ]
     },
     "execution_count": 46,
     "metadata": {},
     "output_type": "execute_result"
    }
   ],
   "source": [
    "len(A)"
   ]
  },
  {
   "cell_type": "code",
   "execution_count": 47,
   "id": "7f820d1d-49e0-4a21-b5da-8eebb1440293",
   "metadata": {},
   "outputs": [
    {
     "data": {
      "text/plain": [
       "9"
      ]
     },
     "execution_count": 47,
     "metadata": {},
     "output_type": "execute_result"
    }
   ],
   "source": [
    "len(lst)"
   ]
  },
  {
   "cell_type": "code",
   "execution_count": 48,
   "id": "0eb106b1-f555-45ed-9898-541b6273cd0e",
   "metadata": {},
   "outputs": [
    {
     "data": {
      "text/plain": [
       "0"
      ]
     },
     "execution_count": 48,
     "metadata": {},
     "output_type": "execute_result"
    }
   ],
   "source": [
    "my_lst = []  #not recommend\n",
    "len(my_lst)"
   ]
  },
  {
   "cell_type": "code",
   "execution_count": 49,
   "id": "2d851f2b-9ddd-4961-a383-0286e57eb0be",
   "metadata": {},
   "outputs": [
    {
     "data": {
      "text/plain": [
       "0"
      ]
     },
     "execution_count": 49,
     "metadata": {},
     "output_type": "execute_result"
    }
   ],
   "source": [
    "my_lst = list()  # Recommend\n",
    "len(my_lst)"
   ]
  },
  {
   "cell_type": "code",
   "execution_count": 50,
   "id": "896bb53e-e166-4def-9219-78a1fe1e4201",
   "metadata": {},
   "outputs": [
    {
     "name": "stdin",
     "output_type": "stream",
     "text": [
      "Enter how many items you want to take:  2\n",
      "Enter the 0 item that you want to purchase:  pen\n",
      "Enter the 1 item that you want to purchase:  net\n"
     ]
    },
    {
     "name": "stdout",
     "output_type": "stream",
     "text": [
      "['pen', 'net']\n"
     ]
    }
   ],
   "source": [
    "lst_item = list()\n",
    "N = int(input('Enter how many items you want to take: '))\n",
    "for i in range(N):\n",
    "    user_input = input(f'Enter the {i} item that you want to purchase: ')\n",
    "    lst_item = lst_item + [user_input]\n",
    "print(lst_item)"
   ]
  },
  {
   "cell_type": "code",
   "execution_count": 5,
   "id": "f0727b5d-912f-4927-b121-a955a0071705",
   "metadata": {},
   "outputs": [
    {
     "name": "stdin",
     "output_type": "stream",
     "text": [
      "Enter how many items you want to take:  3\n",
      "Enter the 0 item that you want to purchase:  pen\n",
      "Enter the 1 item that you want to purchase:  pencil\n",
      "Enter the 2 item that you want to purchase:  kite\n"
     ]
    },
    {
     "name": "stdout",
     "output_type": "stream",
     "text": [
      "['pen', 'pencil', 'kite']\n"
     ]
    }
   ],
   "source": [
    "lst_item = list()\n",
    "N = int(input('Enter how many items you want to take: '))\n",
    "i=0\n",
    "while i < N:\n",
    "    user_input = input(f'Enter the {i} item that you want to purchase: ')\n",
    "    lst_item = lst_item + [user_input]\n",
    "    i=i+1\n",
    "print(lst_item)"
   ]
  },
  {
   "cell_type": "markdown",
   "id": "2fa0b25e-7945-402a-87bc-bcd54d0d67dd",
   "metadata": {},
   "source": [
    "### check membership in a list"
   ]
  },
  {
   "cell_type": "code",
   "execution_count": 51,
   "id": "c0321429-7b32-48ff-b4d3-f7ca3cab6809",
   "metadata": {},
   "outputs": [
    {
     "data": {
      "text/plain": [
       "True"
      ]
     },
     "execution_count": 51,
     "metadata": {},
     "output_type": "execute_result"
    }
   ],
   "source": [
    " 5 in lst"
   ]
  },
  {
   "cell_type": "markdown",
   "id": "cd1b1906-026d-44a4-b4f4-dcd61d59d37c",
   "metadata": {},
   "source": [
    "### max()\n",
    "we can find max value in a given list"
   ]
  },
  {
   "cell_type": "code",
   "execution_count": 61,
   "id": "7396dd9a-3ab6-475b-b6c4-79c8026160fa",
   "metadata": {},
   "outputs": [
    {
     "name": "stdout",
     "output_type": "stream",
     "text": [
      "cat\n",
      "9\n"
     ]
    }
   ],
   "source": [
    "lst1 = ['Ineuron','Datascience','Bigdata','Analytics']\n",
    "lst2 = [1,4,6,8,9,7]\n",
    "print(max(lst1))\n",
    "print(max(lst2))"
   ]
  },
  {
   "cell_type": "code",
   "execution_count": 56,
   "id": "a020dc9d-8405-479a-92ab-2b3ed5c104e9",
   "metadata": {},
   "outputs": [
    {
     "data": {
      "text/plain": [
       "98"
      ]
     },
     "execution_count": 56,
     "metadata": {},
     "output_type": "execute_result"
    }
   ],
   "source": [
    "exam = [87,98,65,72,49]\n",
    "max(exam)"
   ]
  },
  {
   "cell_type": "code",
   "execution_count": 70,
   "id": "e3bab4df-9a25-4b41-b277-336a564a888b",
   "metadata": {},
   "outputs": [
    {
     "data": {
      "text/plain": [
       "'dj'"
      ]
     },
     "execution_count": 70,
     "metadata": {},
     "output_type": "execute_result"
    }
   ],
   "source": [
    "str_ex = ['bhaveen','abhishek','dew','dj','chalie','Doctor'] #ASCII\n",
    "max(str_ex)"
   ]
  },
  {
   "cell_type": "code",
   "execution_count": 71,
   "id": "a5225c83-9dee-4deb-a8ed-17f46f01820a",
   "metadata": {},
   "outputs": [
    {
     "data": {
      "text/plain": [
       "'Doctor'"
      ]
     },
     "execution_count": 71,
     "metadata": {},
     "output_type": "execute_result"
    }
   ],
   "source": [
    "str_ex = ['bhaveen','abhishek','dew','dj','chalie','Doctor']\n",
    "min(str_ex)"
   ]
  },
  {
   "cell_type": "code",
   "execution_count": 72,
   "id": "9946cbd3-ffe1-4e9c-8191-d3b682635051",
   "metadata": {},
   "outputs": [
    {
     "data": {
      "text/plain": [
       "'abhishek'"
      ]
     },
     "execution_count": 72,
     "metadata": {},
     "output_type": "execute_result"
    }
   ],
   "source": [
    "str_ex = ['bhaveen','abhishek','dew','dj','chalie']\n",
    "min(str_ex)"
   ]
  },
  {
   "cell_type": "code",
   "execution_count": 78,
   "id": "1d723923-6ad1-412b-a71e-b59e89dd6250",
   "metadata": {},
   "outputs": [
    {
     "name": "stdout",
     "output_type": "stream",
     "text": [
      "bhaveen 7\n",
      "abhishek 8\n",
      "dew 3\n",
      "dj 2\n",
      "chalie 6\n",
      "Max length:8,namer:abhishek\n"
     ]
    }
   ],
   "source": [
    "#print the name with highest no characters\n",
    "max_length=0\n",
    "res=''\n",
    "for i in str_ex:\n",
    "    print(i,len(i))\n",
    "    if len(i) > max_length:\n",
    "        max_length = len(i)\n",
    "        res = i\n",
    "print(f\"Max length:{max_length},namer:{res}\")"
   ]
  },
  {
   "cell_type": "code",
   "execution_count": 58,
   "id": "1e3809fd-dc99-4e36-8bac-0e140ca15b83",
   "metadata": {},
   "outputs": [
    {
     "data": {
      "text/plain": [
       "'d'"
      ]
     },
     "execution_count": 58,
     "metadata": {},
     "output_type": "execute_result"
    }
   ],
   "source": [
    "str_lst = ['b','a','d','c']     #ASCII value\n",
    "\n",
    "max(str_lst)"
   ]
  },
  {
   "cell_type": "code",
   "execution_count": 60,
   "id": "38d46e17-b45f-4977-8f17-726cb42c7c3c",
   "metadata": {},
   "outputs": [
    {
     "data": {
      "text/plain": [
       "'d'"
      ]
     },
     "execution_count": 60,
     "metadata": {},
     "output_type": "execute_result"
    }
   ],
   "source": [
    "str_lst = ['b','a','d','c','D']   #ASCII values\n",
    "\n",
    "max(str_lst)"
   ]
  },
  {
   "cell_type": "code",
   "execution_count": 62,
   "id": "554d3e0b-4245-4f58-be7a-5fbc5e6a5765",
   "metadata": {},
   "outputs": [
    {
     "data": {
      "text/plain": [
       "99.0"
      ]
     },
     "execution_count": 62,
     "metadata": {},
     "output_type": "execute_result"
    }
   ],
   "source": [
    "ex = [1,2,99.0]\n",
    "max(ex)"
   ]
  },
  {
   "cell_type": "code",
   "execution_count": 65,
   "id": "ebfd8f3f-f610-480b-9481-ed05669ed73c",
   "metadata": {},
   "outputs": [
    {
     "data": {
      "text/plain": [
       "1000"
      ]
     },
     "execution_count": 65,
     "metadata": {},
     "output_type": "execute_result"
    }
   ],
   "source": [
    "ex = [1,2,99.0,1000,-500]\n",
    "max(ex)"
   ]
  },
  {
   "cell_type": "code",
   "execution_count": 66,
   "id": "0306fe4b-ab59-486c-92a3-a4cc2122418d",
   "metadata": {},
   "outputs": [
    {
     "data": {
      "text/plain": [
       "-500"
      ]
     },
     "execution_count": 66,
     "metadata": {},
     "output_type": "execute_result"
    }
   ],
   "source": [
    "ex = [1,2,99.0,1000,-500]\n",
    "min(ex)"
   ]
  },
  {
   "cell_type": "code",
   "execution_count": 67,
   "id": "21abac33-7860-49c8-8856-bdf72ccc287f",
   "metadata": {},
   "outputs": [
    {
     "data": {
      "text/plain": [
       "4000"
      ]
     },
     "execution_count": 67,
     "metadata": {},
     "output_type": "execute_result"
    }
   ],
   "source": [
    "ex = [1,2,99.0,1000,-500,200*20]\n",
    "max(ex)"
   ]
  },
  {
   "cell_type": "code",
   "execution_count": 63,
   "id": "44aa8e3a-d203-4c71-86c4-48078adb3700",
   "metadata": {},
   "outputs": [
    {
     "ename": "TypeError",
     "evalue": "'>' not supported between instances of 'complex' and 'float'",
     "output_type": "error",
     "traceback": [
      "\u001b[0;31m---------------------------------------------------------------------------\u001b[0m",
      "\u001b[0;31mTypeError\u001b[0m                                 Traceback (most recent call last)",
      "Cell \u001b[0;32mIn [63], line 2\u001b[0m\n\u001b[1;32m      1\u001b[0m ex \u001b[38;5;241m=\u001b[39m [\u001b[38;5;241m1\u001b[39m,\u001b[38;5;241m2\u001b[39m,\u001b[38;5;241m99.0\u001b[39m,\u001b[38;5;241m1\u001b[39m\u001b[38;5;241m+\u001b[39m\u001b[38;5;241m5\u001b[39mj]\n\u001b[0;32m----> 2\u001b[0m \u001b[38;5;28;43mmax\u001b[39;49m\u001b[43m(\u001b[49m\u001b[43mex\u001b[49m\u001b[43m)\u001b[49m\n",
      "\u001b[0;31mTypeError\u001b[0m: '>' not supported between instances of 'complex' and 'float'"
     ]
    }
   ],
   "source": [
    "ex = [1,2,99.0,1+5j]\n",
    "max(ex)"
   ]
  },
  {
   "cell_type": "code",
   "execution_count": null,
   "id": "2df6a1d0-3313-4d33-b429-60df20a13b00",
   "metadata": {},
   "outputs": [],
   "source": [
    "str_lst1 = ['Ineuron','Datascience','Bigdata','Analytics']"
   ]
  },
  {
   "cell_type": "code",
   "execution_count": null,
   "id": "b8946ba0-f3e2-4a97-9771-f64c833fa77a",
   "metadata": {},
   "outputs": [],
   "source": []
  },
  {
   "cell_type": "markdown",
   "id": "bab12348-f52b-4968-a213-cbe2676efe44",
   "metadata": {},
   "source": [
    "### Append()"
   ]
  },
  {
   "cell_type": "code",
   "execution_count": 79,
   "id": "3ec10104-912f-456f-9a64-4703f82c4c6f",
   "metadata": {},
   "outputs": [],
   "source": [
    "A = [1,2,77]\n",
    "A = A + ['new']"
   ]
  },
  {
   "cell_type": "code",
   "execution_count": 80,
   "id": "5588f299-5517-4626-8a34-11fb2b6fd9c1",
   "metadata": {},
   "outputs": [
    {
     "data": {
      "text/plain": [
       "[1, 2, 77, 'new']"
      ]
     },
     "execution_count": 80,
     "metadata": {},
     "output_type": "execute_result"
    }
   ],
   "source": [
    "A"
   ]
  },
  {
   "cell_type": "code",
   "execution_count": 81,
   "id": "232f960c-c3f6-48f4-bb6e-88a57c28c9dc",
   "metadata": {},
   "outputs": [],
   "source": [
    "A.append('New1')"
   ]
  },
  {
   "cell_type": "code",
   "execution_count": 82,
   "id": "2c314fe5-9e5a-4cb0-a64b-e00bbe7b937b",
   "metadata": {},
   "outputs": [
    {
     "data": {
      "text/plain": [
       "[1, 2, 77, 'new', 'New1']"
      ]
     },
     "execution_count": 82,
     "metadata": {},
     "output_type": "execute_result"
    }
   ],
   "source": [
    "A"
   ]
  },
  {
   "cell_type": "code",
   "execution_count": 83,
   "id": "58aaaf99-4f22-44fa-8499-95da60241666",
   "metadata": {},
   "outputs": [
    {
     "ename": "TypeError",
     "evalue": "list.append() takes exactly one argument (2 given)",
     "output_type": "error",
     "traceback": [
      "\u001b[0;31m---------------------------------------------------------------------------\u001b[0m",
      "\u001b[0;31mTypeError\u001b[0m                                 Traceback (most recent call last)",
      "Cell \u001b[0;32mIn [83], line 1\u001b[0m\n\u001b[0;32m----> 1\u001b[0m \u001b[43mA\u001b[49m\u001b[38;5;241;43m.\u001b[39;49m\u001b[43mappend\u001b[49m\u001b[43m(\u001b[49m\u001b[38;5;124;43m'\u001b[39;49m\u001b[38;5;124;43msan\u001b[39;49m\u001b[38;5;124;43m'\u001b[39;49m\u001b[43m,\u001b[49m\u001b[38;5;124;43m'\u001b[39;49m\u001b[38;5;124;43mband\u001b[39;49m\u001b[38;5;124;43m'\u001b[39;49m\u001b[43m)\u001b[49m\n",
      "\u001b[0;31mTypeError\u001b[0m: list.append() takes exactly one argument (2 given)"
     ]
    }
   ],
   "source": [
    "A.append('san','band')"
   ]
  },
  {
   "cell_type": "code",
   "execution_count": 84,
   "id": "4e7be334-4cfb-443c-a94d-cb9016fcd31d",
   "metadata": {},
   "outputs": [],
   "source": [
    "A.append(['san','band'])"
   ]
  },
  {
   "cell_type": "code",
   "execution_count": 85,
   "id": "d4d27a08-8c4a-44ed-b0b5-46b1211b09b1",
   "metadata": {},
   "outputs": [
    {
     "data": {
      "text/plain": [
       "[1, 2, 77, 'new', 'New1', ['san', 'band']]"
      ]
     },
     "execution_count": 85,
     "metadata": {},
     "output_type": "execute_result"
    }
   ],
   "source": [
    "A"
   ]
  },
  {
   "cell_type": "code",
   "execution_count": 87,
   "id": "f59fa373-e24b-455a-991e-938923eef925",
   "metadata": {},
   "outputs": [
    {
     "name": "stdin",
     "output_type": "stream",
     "text": [
      "Enter how many items you want to take:  3\n",
      "Enter the 0 item that you want to purchase:  pen\n",
      "Enter the 1 item that you want to purchase:  pencil\n",
      "Enter the 2 item that you want to purchase:  eraser\n"
     ]
    },
    {
     "name": "stdout",
     "output_type": "stream",
     "text": [
      "['pen', 'pencil', 'eraser']\n"
     ]
    }
   ],
   "source": [
    "lst_item = list()\n",
    "N = int(input('Enter how many items you want to take: '))\n",
    "for i in range(N):\n",
    "    user_input = input(f'Enter the {i} item that you want to purchase: ')\n",
    "    lst_item.append(user_input)\n",
    "print(lst_item)"
   ]
  },
  {
   "cell_type": "code",
   "execution_count": 88,
   "id": "fd399d9f-9783-45d1-9a67-07127cfa6ab2",
   "metadata": {},
   "outputs": [],
   "source": [
    "A.append(['san','band'])"
   ]
  },
  {
   "cell_type": "code",
   "execution_count": 89,
   "id": "046e2f5c-effe-4669-9b60-332278f1d02a",
   "metadata": {},
   "outputs": [
    {
     "data": {
      "text/plain": [
       "[1, 2, 77, 'new', 'New1', ['san', 'band'], ['san', 'band']]"
      ]
     },
     "execution_count": 89,
     "metadata": {},
     "output_type": "execute_result"
    }
   ],
   "source": [
    "A"
   ]
  },
  {
   "cell_type": "code",
   "execution_count": 90,
   "id": "3c84a225-5784-409e-b433-13d5e5efad77",
   "metadata": {},
   "outputs": [
    {
     "data": {
      "text/plain": [
       "[1, 2, 77, 'new', 'New1', ['san', 'band'], ['san', 'band'], 'san', 'band']"
      ]
     },
     "execution_count": 90,
     "metadata": {},
     "output_type": "execute_result"
    }
   ],
   "source": [
    "A + ['san','band']"
   ]
  },
  {
   "cell_type": "markdown",
   "id": "48fc565d-4158-41fe-b556-55dc82ed9e0c",
   "metadata": {},
   "source": [
    "## pop"
   ]
  },
  {
   "cell_type": "code",
   "execution_count": 91,
   "id": "07b3a0db-b2ec-4dab-b069-d91946eba8fa",
   "metadata": {},
   "outputs": [
    {
     "data": {
      "text/plain": [
       "1"
      ]
     },
     "execution_count": 91,
     "metadata": {},
     "output_type": "execute_result"
    }
   ],
   "source": [
    "#pop the index item\n",
    "\n",
    "A.pop(0)"
   ]
  },
  {
   "cell_type": "code",
   "execution_count": 92,
   "id": "ba8d9807-834d-4c34-a559-8f461363b8cc",
   "metadata": {},
   "outputs": [
    {
     "data": {
      "text/plain": [
       "[2, 77, 'new', 'New1', ['san', 'band'], ['san', 'band']]"
      ]
     },
     "execution_count": 92,
     "metadata": {},
     "output_type": "execute_result"
    }
   ],
   "source": [
    "A"
   ]
  },
  {
   "cell_type": "code",
   "execution_count": 101,
   "id": "0cf42bde-64ec-4baf-8de2-e97abf258df2",
   "metadata": {},
   "outputs": [
    {
     "data": {
      "text/plain": [
       "[5, 6, 7, 8]"
      ]
     },
     "execution_count": 101,
     "metadata": {},
     "output_type": "execute_result"
    }
   ],
   "source": [
    "A = [5,6,7,8,'sunny']\n",
    "A.pop()\n",
    "A"
   ]
  },
  {
   "cell_type": "code",
   "execution_count": 102,
   "id": "1450a185-b08c-4b72-beab-2524ca621809",
   "metadata": {},
   "outputs": [
    {
     "data": {
      "text/plain": [
       "[6, 7, 8, 'sunny']"
      ]
     },
     "execution_count": 102,
     "metadata": {},
     "output_type": "execute_result"
    }
   ],
   "source": [
    "A = [5,6,7,8,'sunny']\n",
    "A.pop(0)\n",
    "A"
   ]
  },
  {
   "cell_type": "code",
   "execution_count": 108,
   "id": "0a26b080-fff6-4114-92ab-99de1de9c5df",
   "metadata": {},
   "outputs": [
    {
     "data": {
      "text/plain": [
       "[5, 6, 8, 'sunny']"
      ]
     },
     "execution_count": 108,
     "metadata": {},
     "output_type": "execute_result"
    }
   ],
   "source": [
    "A = [5,6,7,8,'sunny']\n",
    "A.pop(2)\n",
    "A"
   ]
  },
  {
   "cell_type": "code",
   "execution_count": 109,
   "id": "c1e6ebb5-e4ab-44b0-b041-9aa61624673a",
   "metadata": {},
   "outputs": [
    {
     "data": {
      "text/plain": [
       "5"
      ]
     },
     "execution_count": 109,
     "metadata": {},
     "output_type": "execute_result"
    }
   ],
   "source": [
    "A.pop(0)"
   ]
  },
  {
   "cell_type": "code",
   "execution_count": 110,
   "id": "392efa6b-dd9b-4b2a-8aa9-6af8cb08966d",
   "metadata": {},
   "outputs": [
    {
     "data": {
      "text/plain": [
       "[6, 8, 'sunny']"
      ]
     },
     "execution_count": 110,
     "metadata": {},
     "output_type": "execute_result"
    }
   ],
   "source": [
    "A"
   ]
  },
  {
   "cell_type": "code",
   "execution_count": 111,
   "id": "07070c92-432e-43be-8465-f1e0d3f65dc5",
   "metadata": {},
   "outputs": [
    {
     "data": {
      "text/plain": [
       "'sunny'"
      ]
     },
     "execution_count": 111,
     "metadata": {},
     "output_type": "execute_result"
    }
   ],
   "source": [
    "rem_item = A.pop(2)\n",
    "rem_item"
   ]
  },
  {
   "cell_type": "code",
   "execution_count": 112,
   "id": "6fc96a5a-bcf0-4b85-82c5-a1e2715c49c8",
   "metadata": {},
   "outputs": [
    {
     "data": {
      "text/plain": [
       "[6, 8]"
      ]
     },
     "execution_count": 112,
     "metadata": {},
     "output_type": "execute_result"
    }
   ],
   "source": [
    "A"
   ]
  },
  {
   "cell_type": "code",
   "execution_count": 118,
   "id": "2f82e3f4-4baf-4014-9ea0-83d0ce965fc7",
   "metadata": {},
   "outputs": [
    {
     "name": "stdout",
     "output_type": "stream",
     "text": [
      "0 1\n",
      "Odd: 1\n",
      "1 34\n",
      "Even: 34\n",
      "2 56\n",
      "Even: 56\n",
      "3 76\n",
      "Even: 76\n",
      "4 99\n",
      "Odd: 99\n"
     ]
    }
   ],
   "source": [
    "#remove the odd numbers\n",
    "A = [1,34,56,76,99]\n",
    "\n",
    "for i in range(len(A)):\n",
    "    print(i,A[i])\n",
    "    if A[i] % 2 != 0:\n",
    "        print('Odd:',A[i])\n",
    "    else:\n",
    "        print('Even:',A[i])"
   ]
  },
  {
   "cell_type": "code",
   "execution_count": 119,
   "id": "c8a3db26-bed3-462c-9e08-04d3b2489098",
   "metadata": {},
   "outputs": [
    {
     "data": {
      "text/plain": [
       "[1, 34, 56, 76, 99]"
      ]
     },
     "execution_count": 119,
     "metadata": {},
     "output_type": "execute_result"
    }
   ],
   "source": [
    "A"
   ]
  },
  {
   "cell_type": "code",
   "execution_count": 120,
   "id": "866a02cd-467c-4497-bf8a-41d884ffdd1a",
   "metadata": {},
   "outputs": [
    {
     "ename": "IndexError",
     "evalue": "list index out of range",
     "output_type": "error",
     "traceback": [
      "\u001b[0;31m---------------------------------------------------------------------------\u001b[0m",
      "\u001b[0;31mIndexError\u001b[0m                                Traceback (most recent call last)",
      "Cell \u001b[0;32mIn [120], line 1\u001b[0m\n\u001b[0;32m----> 1\u001b[0m \u001b[43mA\u001b[49m\u001b[43m[\u001b[49m\u001b[38;5;241;43m1000\u001b[39;49m\u001b[43m]\u001b[49m\n",
      "\u001b[0;31mIndexError\u001b[0m: list index out of range"
     ]
    }
   ],
   "source": [
    "A[1000]"
   ]
  },
  {
   "cell_type": "markdown",
   "id": "fb57b9c5-b5b2-4c89-89bf-40ebdc3c4c34",
   "metadata": {},
   "source": [
    "### sort and reverse"
   ]
  },
  {
   "cell_type": "code",
   "execution_count": 121,
   "id": "6bab5fd0-1df2-4162-9ed7-0159ae0e335c",
   "metadata": {},
   "outputs": [
    {
     "data": {
      "text/plain": [
       "[-34, 1, 45, 67, 98]"
      ]
     },
     "execution_count": 121,
     "metadata": {},
     "output_type": "execute_result"
    }
   ],
   "source": [
    "A = [1,45,67,98,-34]\n",
    "sorted(A)"
   ]
  },
  {
   "cell_type": "code",
   "execution_count": 122,
   "id": "ee49e9c3-5920-4906-a918-07f3cc63ada8",
   "metadata": {},
   "outputs": [
    {
     "data": {
      "text/plain": [
       "[1, 45, 67, 98, -34]"
      ]
     },
     "execution_count": 122,
     "metadata": {},
     "output_type": "execute_result"
    }
   ],
   "source": [
    "A"
   ]
  },
  {
   "cell_type": "code",
   "execution_count": 123,
   "id": "8106750c-ab65-4cca-82c6-b9bff05e588e",
   "metadata": {},
   "outputs": [],
   "source": [
    "A = sorted(A) #temp and assign for per"
   ]
  },
  {
   "cell_type": "code",
   "execution_count": 124,
   "id": "1cd685a1-1bb1-4761-9daa-3e11d7843787",
   "metadata": {},
   "outputs": [
    {
     "data": {
      "text/plain": [
       "[-34, 1, 45, 67, 98]"
      ]
     },
     "execution_count": 124,
     "metadata": {},
     "output_type": "execute_result"
    }
   ],
   "source": [
    "A"
   ]
  },
  {
   "cell_type": "code",
   "execution_count": 125,
   "id": "e042a6d3-bf40-4c28-8fd9-afeb6d846291",
   "metadata": {},
   "outputs": [
    {
     "data": {
      "text/plain": [
       "[98, 67, 45, 1, -34]"
      ]
     },
     "execution_count": 125,
     "metadata": {},
     "output_type": "execute_result"
    }
   ],
   "source": [
    "A[::-1]"
   ]
  },
  {
   "cell_type": "code",
   "execution_count": 126,
   "id": "76c76ade-e122-4388-ae2f-3d7e038d95e9",
   "metadata": {},
   "outputs": [
    {
     "data": {
      "text/plain": [
       "[-34, 1, 45, 67, 98]"
      ]
     },
     "execution_count": 126,
     "metadata": {},
     "output_type": "execute_result"
    }
   ],
   "source": [
    "A"
   ]
  },
  {
   "cell_type": "code",
   "execution_count": 127,
   "id": "19f359a8-b3d3-4f1c-879a-e93b21185492",
   "metadata": {},
   "outputs": [],
   "source": [
    "A.sort() #per"
   ]
  },
  {
   "cell_type": "code",
   "execution_count": 128,
   "id": "dc3c5cd8-0d63-441d-870e-29034701955b",
   "metadata": {},
   "outputs": [
    {
     "data": {
      "text/plain": [
       "[-34, 1, 45, 67, 98]"
      ]
     },
     "execution_count": 128,
     "metadata": {},
     "output_type": "execute_result"
    }
   ],
   "source": [
    "A"
   ]
  },
  {
   "cell_type": "code",
   "execution_count": 129,
   "id": "3d5dd328-7ccc-4341-8166-59ae60d3148f",
   "metadata": {},
   "outputs": [
    {
     "data": {
      "text/plain": [
       "[-34, 1, 45, 67, 98]"
      ]
     },
     "execution_count": 129,
     "metadata": {},
     "output_type": "execute_result"
    }
   ],
   "source": [
    "A"
   ]
  },
  {
   "cell_type": "code",
   "execution_count": 130,
   "id": "dfab21e2-304a-4d26-a2f6-de07efb16dc7",
   "metadata": {},
   "outputs": [],
   "source": [
    "A.reverse()"
   ]
  },
  {
   "cell_type": "code",
   "execution_count": 131,
   "id": "90e1fc89-72cb-488a-be4b-758604c0f117",
   "metadata": {},
   "outputs": [
    {
     "data": {
      "text/plain": [
       "[98, 67, 45, 1, -34]"
      ]
     },
     "execution_count": 131,
     "metadata": {},
     "output_type": "execute_result"
    }
   ],
   "source": [
    "A"
   ]
  },
  {
   "cell_type": "code",
   "execution_count": 136,
   "id": "95b9bf29-8af3-4573-b7bf-d6769eb3a35d",
   "metadata": {},
   "outputs": [
    {
     "data": {
      "text/plain": [
       "['ineuron', 'snad', 45, 23, 1]"
      ]
     },
     "execution_count": 136,
     "metadata": {},
     "output_type": "execute_result"
    }
   ],
   "source": [
    "A = [1,23,45,'snad','ineuron']\n",
    "\n",
    "A[::-1]"
   ]
  },
  {
   "cell_type": "code",
   "execution_count": 137,
   "id": "aecf0952-4da1-4203-9c65-b88aad7f9628",
   "metadata": {},
   "outputs": [
    {
     "data": {
      "text/plain": [
       "[1, 23, 45, 'snad', 'ineuron']"
      ]
     },
     "execution_count": 137,
     "metadata": {},
     "output_type": "execute_result"
    }
   ],
   "source": [
    "A"
   ]
  },
  {
   "cell_type": "code",
   "execution_count": 138,
   "id": "9f412b87-64c0-4b7a-ba7b-080f9a318188",
   "metadata": {},
   "outputs": [],
   "source": [
    "A.reverse()"
   ]
  },
  {
   "cell_type": "code",
   "execution_count": 139,
   "id": "df677f16-90d6-41cd-849a-4396540e3126",
   "metadata": {},
   "outputs": [
    {
     "data": {
      "text/plain": [
       "['ineuron', 'snad', 45, 23, 1]"
      ]
     },
     "execution_count": 139,
     "metadata": {},
     "output_type": "execute_result"
    }
   ],
   "source": [
    "A"
   ]
  },
  {
   "cell_type": "code",
   "execution_count": null,
   "id": "a8afc579-4fc9-4604-8fe6-0ffa2b497db0",
   "metadata": {},
   "outputs": [],
   "source": []
  }
 ],
 "metadata": {
  "kernelspec": {
   "display_name": "Python 3 (ipykernel)",
   "language": "python",
   "name": "python3"
  },
  "language_info": {
   "codemirror_mode": {
    "name": "ipython",
    "version": 3
   },
   "file_extension": ".py",
   "mimetype": "text/x-python",
   "name": "python",
   "nbconvert_exporter": "python",
   "pygments_lexer": "ipython3",
   "version": "3.10.6"
  }
 },
 "nbformat": 4,
 "nbformat_minor": 5
}
