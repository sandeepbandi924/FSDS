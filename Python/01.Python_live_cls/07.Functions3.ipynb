{
 "cells": [
  {
   "cell_type": "code",
   "execution_count": 1,
   "id": "88f0ebd4-b798-44e4-82aa-e912537a1d3c",
   "metadata": {},
   "outputs": [],
   "source": [
    "def test1(func):\n",
    "    def test2():\n",
    "        print('I am  inside test 2')\n",
    "        func()\n",
    "        print(func())\n",
    "        print('Function executed')\n",
    "        return func()\n",
    "    return test2"
   ]
  },
  {
   "cell_type": "code",
   "execution_count": 2,
   "id": "aeae97f6-64bd-400a-9d72-e4548b4664a6",
   "metadata": {},
   "outputs": [],
   "source": [
    "@test1\n",
    "def test3():\n",
    "    print('This is my test 3')"
   ]
  },
  {
   "cell_type": "code",
   "execution_count": 3,
   "id": "d495d09e-969d-4f7e-aae3-9320da3d13ef",
   "metadata": {},
   "outputs": [
    {
     "name": "stdout",
     "output_type": "stream",
     "text": [
      "I am  inside test 2\n",
      "This is my test 3\n",
      "This is my test 3\n",
      "None\n",
      "Function executed\n",
      "This is my test 3\n"
     ]
    }
   ],
   "source": [
    "test3()"
   ]
  },
  {
   "cell_type": "code",
   "execution_count": 4,
   "id": "ca637f13-d414-4ebe-9017-d45d890604fb",
   "metadata": {},
   "outputs": [],
   "source": [
    "@test1\n",
    "def test4():\n",
    "    return 5+6"
   ]
  },
  {
   "cell_type": "code",
   "execution_count": 5,
   "id": "1f9e3064-9def-410f-9097-9118a90586ac",
   "metadata": {},
   "outputs": [
    {
     "name": "stdout",
     "output_type": "stream",
     "text": [
      "I am  inside test 2\n",
      "11\n",
      "Function executed\n"
     ]
    },
    {
     "data": {
      "text/plain": [
       "11"
      ]
     },
     "execution_count": 5,
     "metadata": {},
     "output_type": "execute_result"
    }
   ],
   "source": [
    "test4()"
   ]
  },
  {
   "cell_type": "code",
   "execution_count": 6,
   "id": "7f0f9d7a-a315-4b48-bb5e-bc70713ca844",
   "metadata": {},
   "outputs": [
    {
     "name": "stdout",
     "output_type": "stream",
     "text": [
      "I am  inside test 2\n",
      "11\n",
      "Function executed\n"
     ]
    }
   ],
   "source": [
    "a = test4()"
   ]
  },
  {
   "cell_type": "code",
   "execution_count": 7,
   "id": "d3c51759-c584-4fe0-a755-4f6ddcba6351",
   "metadata": {},
   "outputs": [
    {
     "data": {
      "text/plain": [
       "11"
      ]
     },
     "execution_count": 7,
     "metadata": {},
     "output_type": "execute_result"
    }
   ],
   "source": [
    "a"
   ]
  },
  {
   "cell_type": "code",
   "execution_count": 8,
   "id": "1545f938-a488-4c05-a503-e6923bb8e53a",
   "metadata": {},
   "outputs": [
    {
     "name": "stdout",
     "output_type": "stream",
     "text": [
      "11\n"
     ]
    }
   ],
   "source": [
    "print(a)"
   ]
  },
  {
   "cell_type": "code",
   "execution_count": 9,
   "id": "06b14157-dec1-4608-b99a-941cd116e369",
   "metadata": {},
   "outputs": [
    {
     "name": "stdout",
     "output_type": "stream",
     "text": [
      "I am  inside test 2\n",
      "11\n",
      "Function executed\n"
     ]
    },
    {
     "data": {
      "text/plain": [
       "23"
      ]
     },
     "execution_count": 9,
     "metadata": {},
     "output_type": "execute_result"
    }
   ],
   "source": [
    "test4() + 12"
   ]
  },
  {
   "cell_type": "code",
   "execution_count": 10,
   "id": "42bccd2e-ee64-4692-9042-cd9df8dd7f28",
   "metadata": {},
   "outputs": [],
   "source": [
    "def test5():\n",
    "    return 4+5"
   ]
  },
  {
   "cell_type": "code",
   "execution_count": 11,
   "id": "eced81d1-d809-4d1c-97f0-1e97e450a757",
   "metadata": {},
   "outputs": [
    {
     "data": {
      "text/plain": [
       "int"
      ]
     },
     "execution_count": 11,
     "metadata": {},
     "output_type": "execute_result"
    }
   ],
   "source": [
    "type(test5())"
   ]
  },
  {
   "cell_type": "code",
   "execution_count": 12,
   "id": "94720a72-cc35-4884-a4c9-ed9567289a4e",
   "metadata": {},
   "outputs": [
    {
     "data": {
      "text/plain": [
       "54"
      ]
     },
     "execution_count": 12,
     "metadata": {},
     "output_type": "execute_result"
    }
   ],
   "source": [
    "test5() + 45"
   ]
  },
  {
   "cell_type": "code",
   "execution_count": 13,
   "id": "6b2b4821-e1db-493c-a8e7-1bf17052cd82",
   "metadata": {},
   "outputs": [],
   "source": [
    "def test6(func):\n",
    "    def test7():\n",
    "        func()\n",
    "        print(func())\n",
    "        print('this is my decarator func')\n",
    "        return func()\n",
    "    return test7"
   ]
  },
  {
   "cell_type": "code",
   "execution_count": 14,
   "id": "c3d4f02e-783f-4f5f-bec4-8487010b02bd",
   "metadata": {},
   "outputs": [],
   "source": [
    "def test8():  #without using decorator\n",
    "    return 5 + 7"
   ]
  },
  {
   "cell_type": "code",
   "execution_count": 15,
   "id": "e69bf6b0-bfb2-4589-b58b-f5c91e087dfd",
   "metadata": {},
   "outputs": [
    {
     "data": {
      "text/plain": [
       "24"
      ]
     },
     "execution_count": 15,
     "metadata": {},
     "output_type": "execute_result"
    }
   ],
   "source": [
    "test8() + 12"
   ]
  },
  {
   "cell_type": "code",
   "execution_count": 16,
   "id": "d386aac1-9be7-4540-be5b-163af8b40d5e",
   "metadata": {},
   "outputs": [],
   "source": [
    "@test6\n",
    "def test8():\n",
    "    return 5 + 7"
   ]
  },
  {
   "cell_type": "code",
   "execution_count": 17,
   "id": "fca56e5e-f6ba-482c-92fe-b2bd1f037f65",
   "metadata": {},
   "outputs": [
    {
     "name": "stdout",
     "output_type": "stream",
     "text": [
      "12\n",
      "this is my decarator func\n"
     ]
    },
    {
     "data": {
      "text/plain": [
       "12"
      ]
     },
     "execution_count": 17,
     "metadata": {},
     "output_type": "execute_result"
    }
   ],
   "source": [
    "test8()"
   ]
  },
  {
   "cell_type": "code",
   "execution_count": 18,
   "id": "9546fbfa-f544-4c27-8a9c-95c0fd2759bf",
   "metadata": {},
   "outputs": [
    {
     "name": "stdout",
     "output_type": "stream",
     "text": [
      "12\n",
      "this is my decarator func\n"
     ]
    },
    {
     "data": {
      "text/plain": [
       "112"
      ]
     },
     "execution_count": 18,
     "metadata": {},
     "output_type": "execute_result"
    }
   ],
   "source": [
    "test8() + 100"
   ]
  },
  {
   "cell_type": "code",
   "execution_count": 19,
   "id": "86518fd6-10e0-490c-bbda-92b6be7b9e44",
   "metadata": {},
   "outputs": [],
   "source": [
    "def test6(func):#when ever you craete raper fun we need to wrt *args,**kwargs\n",
    "    def test7(*args,**kwargs):\n",
    "        func(*args,**kwargs)\n",
    "        print(func(*args,**kwargs))\n",
    "        print('this is my decarator func')\n",
    "        return func(*args,**kwargs)\n",
    "    return test7"
   ]
  },
  {
   "cell_type": "code",
   "execution_count": 20,
   "id": "91a4177c-efa8-4105-9c4a-e3438fe4ec9e",
   "metadata": {},
   "outputs": [],
   "source": [
    "@test6\n",
    "def test8(a,b):\n",
    "    return a+b"
   ]
  },
  {
   "cell_type": "code",
   "execution_count": 21,
   "id": "49a937e7-b49a-4e28-a6ba-7deb084cd032",
   "metadata": {},
   "outputs": [
    {
     "name": "stdout",
     "output_type": "stream",
     "text": [
      "sandkumar\n",
      "this is my decarator func\n"
     ]
    },
    {
     "data": {
      "text/plain": [
       "'sandkumar'"
      ]
     },
     "execution_count": 21,
     "metadata": {},
     "output_type": "execute_result"
    }
   ],
   "source": [
    "test8('sand','kumar')"
   ]
  },
  {
   "cell_type": "code",
   "execution_count": 22,
   "id": "38e48f41-f7cd-43e7-ad0f-c510470363ca",
   "metadata": {},
   "outputs": [],
   "source": [
    "@test6\n",
    "def test9(**kwargs):\n",
    "    return kwargs"
   ]
  },
  {
   "cell_type": "code",
   "execution_count": 23,
   "id": "669ffade-4ed7-4d8e-9fb8-f3e7951662e6",
   "metadata": {},
   "outputs": [
    {
     "name": "stdout",
     "output_type": "stream",
     "text": [
      "{'a': 2, 'b': 45}\n",
      "this is my decarator func\n"
     ]
    },
    {
     "data": {
      "text/plain": [
       "{'a': 2, 'b': 45}"
      ]
     },
     "execution_count": 23,
     "metadata": {},
     "output_type": "execute_result"
    }
   ],
   "source": [
    "\n",
    "test9(a=2,b=45)"
   ]
  },
  {
   "cell_type": "code",
   "execution_count": 24,
   "id": "87e25402-4a56-4beb-b963-6c30460db5fd",
   "metadata": {},
   "outputs": [],
   "source": [
    "#lambda func"
   ]
  },
  {
   "cell_type": "code",
   "execution_count": 25,
   "id": "a4192398-40da-44e5-9eae-2d432a39c80d",
   "metadata": {},
   "outputs": [],
   "source": [
    "def test10(a,b):\n",
    "    return a+b"
   ]
  },
  {
   "cell_type": "code",
   "execution_count": 26,
   "id": "156f660f-9a56-4ecb-8155-082755337a1f",
   "metadata": {},
   "outputs": [
    {
     "data": {
      "text/plain": [
       "11"
      ]
     },
     "execution_count": 26,
     "metadata": {},
     "output_type": "execute_result"
    }
   ],
   "source": [
    "test10(5,6)"
   ]
  },
  {
   "cell_type": "code",
   "execution_count": 27,
   "id": "3011c82f-fb13-48ef-b6e6-d5cd4e6483e2",
   "metadata": {},
   "outputs": [
    {
     "data": {
      "text/plain": [
       "<function __main__.test10(a, b)>"
      ]
     },
     "execution_count": 27,
     "metadata": {},
     "output_type": "execute_result"
    }
   ],
   "source": [
    "test10"
   ]
  },
  {
   "cell_type": "code",
   "execution_count": 28,
   "id": "f4f4d3b6-c590-43fa-b168-4d441480796f",
   "metadata": {},
   "outputs": [],
   "source": [
    "c = lambda a , b : a+b"
   ]
  },
  {
   "cell_type": "code",
   "execution_count": 29,
   "id": "55bf953a-d363-4782-bfc1-0db8712a6641",
   "metadata": {},
   "outputs": [
    {
     "data": {
      "text/plain": [
       "11"
      ]
     },
     "execution_count": 29,
     "metadata": {},
     "output_type": "execute_result"
    }
   ],
   "source": [
    "c(5,6)"
   ]
  },
  {
   "cell_type": "code",
   "execution_count": 30,
   "id": "00137faa-eb41-43f5-a3db-be0eab40b080",
   "metadata": {},
   "outputs": [],
   "source": [
    "d = lambda a , b , c , d : a*b+ c/d"
   ]
  },
  {
   "cell_type": "code",
   "execution_count": 31,
   "id": "dd50093b-8655-4d4b-bf77-19f29ec2f165",
   "metadata": {},
   "outputs": [
    {
     "data": {
      "text/plain": [
       "12.833333333333334"
      ]
     },
     "execution_count": 31,
     "metadata": {},
     "output_type": "execute_result"
    }
   ],
   "source": [
    "d(3,4,5,6)"
   ]
  },
  {
   "cell_type": "code",
   "execution_count": 32,
   "id": "e37e9e5c-9fd7-4fe6-b4f2-cd7c9f53a413",
   "metadata": {},
   "outputs": [],
   "source": [
    "e = lambda *args : args"
   ]
  },
  {
   "cell_type": "code",
   "execution_count": 33,
   "id": "307bc2f0-2927-4d23-9b29-064aeff87437",
   "metadata": {},
   "outputs": [
    {
     "data": {
      "text/plain": [
       "()"
      ]
     },
     "execution_count": 33,
     "metadata": {},
     "output_type": "execute_result"
    }
   ],
   "source": [
    "e()"
   ]
  },
  {
   "cell_type": "code",
   "execution_count": 34,
   "id": "80bd5fab-c71c-4f71-acfb-4565501b872f",
   "metadata": {},
   "outputs": [
    {
     "data": {
      "text/plain": [
       "(1, 2, 3, 4)"
      ]
     },
     "execution_count": 34,
     "metadata": {},
     "output_type": "execute_result"
    }
   ],
   "source": [
    "e(1,2,3,4)"
   ]
  },
  {
   "cell_type": "code",
   "execution_count": null,
   "id": "33cb2992-c159-4bd5-bfb8-06fcb7e0b8c2",
   "metadata": {},
   "outputs": [],
   "source": []
  },
  {
   "cell_type": "code",
   "execution_count": 35,
   "id": "e06a03c5-22a2-4596-aea1-fd4c03a590e2",
   "metadata": {},
   "outputs": [],
   "source": [
    "# Map , Reduce , Filter"
   ]
  },
  {
   "cell_type": "code",
   "execution_count": 36,
   "id": "c37b8ad4-c34b-4f27-b609-b302b1f2306e",
   "metadata": {},
   "outputs": [],
   "source": [
    "#map()"
   ]
  },
  {
   "cell_type": "code",
   "execution_count": 37,
   "id": "e29568ad-4f5c-445d-b4fd-72e5934bee7f",
   "metadata": {},
   "outputs": [],
   "source": [
    "l = [1,2,3,4,5,6,7] #add 10 to every lele"
   ]
  },
  {
   "cell_type": "code",
   "execution_count": 38,
   "id": "a1959a38-71a7-453d-9584-2835a041c240",
   "metadata": {},
   "outputs": [
    {
     "name": "stdout",
     "output_type": "stream",
     "text": [
      "[11, 12, 13, 14, 15, 16, 17]\n"
     ]
    }
   ],
   "source": [
    "l1=[]\n",
    "for i in l:\n",
    "    l1.append(i + 10)\n",
    "print(l1)"
   ]
  },
  {
   "cell_type": "code",
   "execution_count": 39,
   "id": "f9198099-aadb-43da-83f5-739501fb5639",
   "metadata": {},
   "outputs": [],
   "source": [
    "#map func will map the each and evry element of iterable\n",
    "\n",
    "def test13(a):\n",
    "    return a + 10"
   ]
  },
  {
   "cell_type": "code",
   "execution_count": 40,
   "id": "f6354607-a3a8-46c1-a47f-e7bcf703d461",
   "metadata": {},
   "outputs": [
    {
     "data": {
      "text/plain": [
       "[11, 12, 13, 14, 15, 16, 17]"
      ]
     },
     "execution_count": 40,
     "metadata": {},
     "output_type": "execute_result"
    }
   ],
   "source": [
    "list(map(test13,l))"
   ]
  },
  {
   "cell_type": "code",
   "execution_count": 41,
   "id": "928c7091-2b44-4d82-97a1-0b09e1ef1e56",
   "metadata": {},
   "outputs": [
    {
     "data": {
      "text/plain": [
       "[11, 12, 13, 14, 15, 16, 17]"
      ]
     },
     "execution_count": 41,
     "metadata": {},
     "output_type": "execute_result"
    }
   ],
   "source": [
    "#without external func we can do with lambda\n",
    "list(map(lambda a : a + 10 , l))"
   ]
  },
  {
   "cell_type": "code",
   "execution_count": 42,
   "id": "25544dbd-03cd-4a6b-8d66-63e75e2526e5",
   "metadata": {},
   "outputs": [],
   "source": [
    "n = lambda a : a + 10"
   ]
  },
  {
   "cell_type": "code",
   "execution_count": 43,
   "id": "4351e8d3-b8ae-418a-b3cb-7f295c6d53ad",
   "metadata": {},
   "outputs": [
    {
     "data": {
      "text/plain": [
       "[11, 12, 13, 14, 15, 16, 17]"
      ]
     },
     "execution_count": 43,
     "metadata": {},
     "output_type": "execute_result"
    }
   ],
   "source": [
    "list(map(n,l))"
   ]
  },
  {
   "cell_type": "code",
   "execution_count": null,
   "id": "f170fdfb-dbeb-4130-b5c1-1f9f56c8629d",
   "metadata": {},
   "outputs": [],
   "source": []
  },
  {
   "cell_type": "code",
   "execution_count": 44,
   "id": "d8635c09-9e23-4289-a870-4900f82f0736",
   "metadata": {},
   "outputs": [],
   "source": [
    "l = ['san','kumar','ineuron'] #conv upper case"
   ]
  },
  {
   "cell_type": "code",
   "execution_count": 45,
   "id": "084e37fa-72a2-439f-9b7d-41d917a728bc",
   "metadata": {},
   "outputs": [
    {
     "data": {
      "text/plain": [
       "['SAN', 'KUMAR', 'INEURON']"
      ]
     },
     "execution_count": 45,
     "metadata": {},
     "output_type": "execute_result"
    }
   ],
   "source": [
    "l1=[]\n",
    "for i in l :\n",
    "    l1.append(i.upper())\n",
    "l1"
   ]
  },
  {
   "cell_type": "code",
   "execution_count": 46,
   "id": "79ddba1c-4500-47f9-8a38-582bbcaa7d0c",
   "metadata": {},
   "outputs": [
    {
     "data": {
      "text/plain": [
       "['SAN', 'KUMAR', 'INEURON']"
      ]
     },
     "execution_count": 46,
     "metadata": {},
     "output_type": "execute_result"
    }
   ],
   "source": [
    "list(map(lambda a: a.upper() , l))"
   ]
  },
  {
   "cell_type": "code",
   "execution_count": 47,
   "id": "2e66a2e7-971e-4e2e-88d0-1e0008d797c9",
   "metadata": {},
   "outputs": [
    {
     "data": {
      "text/plain": [
       "['SAN', 'KUMAR', 'INEURON']"
      ]
     },
     "execution_count": 47,
     "metadata": {},
     "output_type": "execute_result"
    }
   ],
   "source": [
    "list(map(str.upper , l)) #inbuilt fun"
   ]
  },
  {
   "cell_type": "code",
   "execution_count": 48,
   "id": "31f36757-fb13-4058-82f2-5b5e18a8ce5c",
   "metadata": {},
   "outputs": [
    {
     "data": {
      "text/plain": [
       "['san', 'kumar', 'ineuron']"
      ]
     },
     "execution_count": 48,
     "metadata": {},
     "output_type": "execute_result"
    }
   ],
   "source": [
    "l"
   ]
  },
  {
   "cell_type": "code",
   "execution_count": 49,
   "id": "b292dbe6-491d-43f9-b5fb-69322fcba493",
   "metadata": {},
   "outputs": [
    {
     "data": {
      "text/plain": [
       "[3, 5, 7]"
      ]
     },
     "execution_count": 49,
     "metadata": {},
     "output_type": "execute_result"
    }
   ],
   "source": [
    "list(map(len , l))"
   ]
  },
  {
   "cell_type": "code",
   "execution_count": 50,
   "id": "b5c9362b-b841-4981-9e0b-e70b198a0550",
   "metadata": {},
   "outputs": [
    {
     "data": {
      "text/plain": [
       "[3, 5, 7]"
      ]
     },
     "execution_count": 50,
     "metadata": {},
     "output_type": "execute_result"
    }
   ],
   "source": [
    "list(map(lambda a: len(a) , l))"
   ]
  },
  {
   "cell_type": "code",
   "execution_count": 51,
   "id": "5e55d7e7-15e2-4854-bb93-401238f9a800",
   "metadata": {},
   "outputs": [],
   "source": [
    "def test23(a):\n",
    "    return len(a)"
   ]
  },
  {
   "cell_type": "code",
   "execution_count": 52,
   "id": "febe7e21-215a-4c7a-998f-f05f3c8f173a",
   "metadata": {},
   "outputs": [
    {
     "data": {
      "text/plain": [
       "[3, 5, 7]"
      ]
     },
     "execution_count": 52,
     "metadata": {},
     "output_type": "execute_result"
    }
   ],
   "source": [
    "list(map(test23 , l))"
   ]
  },
  {
   "cell_type": "code",
   "execution_count": 53,
   "id": "40587d08-485e-4512-9f08-d73a56a76e75",
   "metadata": {},
   "outputs": [],
   "source": [
    "#filter()"
   ]
  },
  {
   "cell_type": "code",
   "execution_count": 54,
   "id": "b3a718ee-f968-45e2-a085-a6e19f351ee0",
   "metadata": {},
   "outputs": [
    {
     "data": {
      "text/plain": [
       "[2, 4, 6, 8]"
      ]
     },
     "execution_count": 54,
     "metadata": {},
     "output_type": "execute_result"
    }
   ],
   "source": [
    "l= [1,2,3,4,5,6,7,8]  #filter out even number\n",
    "l1=[]\n",
    "for i in l:\n",
    "    if i%2 == 0:\n",
    "        l1.append(i)\n",
    "l1"
   ]
  },
  {
   "cell_type": "code",
   "execution_count": 55,
   "id": "190484d4-3358-424a-ad7a-cb304d95d395",
   "metadata": {},
   "outputs": [
    {
     "data": {
      "text/plain": [
       "[2, 4, 6, 8]"
      ]
     },
     "execution_count": 55,
     "metadata": {},
     "output_type": "execute_result"
    }
   ],
   "source": [
    "[i for i in l if i%2==0 ]"
   ]
  },
  {
   "cell_type": "code",
   "execution_count": 56,
   "id": "1af68b70-cffb-4a74-85ad-2c468b28d08a",
   "metadata": {},
   "outputs": [
    {
     "data": {
      "text/plain": [
       "[2, 4, 6, 8]"
      ]
     },
     "execution_count": 56,
     "metadata": {},
     "output_type": "execute_result"
    }
   ],
   "source": [
    "list(filter(lambda a :a%2==0,l))"
   ]
  },
  {
   "cell_type": "code",
   "execution_count": 57,
   "id": "a1147d3c-aae7-4a34-9756-011c220d37a2",
   "metadata": {},
   "outputs": [],
   "source": [
    "def test24(a):\n",
    "    l1=[]\n",
    "    if isinstance(a,list):\n",
    "        for i in a:\n",
    "            if i%2==0:\n",
    "                l1.append(i)\n",
    "        return l1"
   ]
  },
  {
   "cell_type": "code",
   "execution_count": 58,
   "id": "74b6206d-6b26-4fc4-a448-ae3a3939172a",
   "metadata": {},
   "outputs": [
    {
     "data": {
      "text/plain": [
       "[2, 4, 6, 8]"
      ]
     },
     "execution_count": 58,
     "metadata": {},
     "output_type": "execute_result"
    }
   ],
   "source": [
    "test24(l)"
   ]
  },
  {
   "cell_type": "code",
   "execution_count": 59,
   "id": "488d04b8-86df-46e7-85e7-2821bb074c34",
   "metadata": {},
   "outputs": [],
   "source": [
    "a = lambda a : a%2==0"
   ]
  },
  {
   "cell_type": "code",
   "execution_count": 60,
   "id": "dc25d172-c821-4fe3-8712-389087d8735f",
   "metadata": {},
   "outputs": [
    {
     "data": {
      "text/plain": [
       "[2, 4, 6, 8]"
      ]
     },
     "execution_count": 60,
     "metadata": {},
     "output_type": "execute_result"
    }
   ],
   "source": [
    "list(filter(a,l))"
   ]
  },
  {
   "cell_type": "code",
   "execution_count": 61,
   "id": "aa5cb3d1-0365-4eaf-933a-173f82fa4ea2",
   "metadata": {},
   "outputs": [],
   "source": [
    "def test25(a):\n",
    "    if a %2 ==0:\n",
    "        return True\n",
    "    else:\n",
    "        return False"
   ]
  },
  {
   "cell_type": "code",
   "execution_count": 62,
   "id": "360bd788-ad0a-40e4-bc8d-0719ce72b608",
   "metadata": {},
   "outputs": [
    {
     "data": {
      "text/plain": [
       "False"
      ]
     },
     "execution_count": 62,
     "metadata": {},
     "output_type": "execute_result"
    }
   ],
   "source": [
    "test25(45)"
   ]
  },
  {
   "cell_type": "code",
   "execution_count": 63,
   "id": "f81388a4-f903-424f-9247-860f27473a81",
   "metadata": {},
   "outputs": [
    {
     "data": {
      "text/plain": [
       "True"
      ]
     },
     "execution_count": 63,
     "metadata": {},
     "output_type": "execute_result"
    }
   ],
   "source": [
    "test25(22)"
   ]
  },
  {
   "cell_type": "code",
   "execution_count": 64,
   "id": "901b2d40-4a5e-44be-97e5-31789a4444b5",
   "metadata": {},
   "outputs": [
    {
     "data": {
      "text/plain": [
       "[2, 4, 6, 8]"
      ]
     },
     "execution_count": 64,
     "metadata": {},
     "output_type": "execute_result"
    }
   ],
   "source": [
    "list(filter(test25,l))"
   ]
  },
  {
   "cell_type": "code",
   "execution_count": 65,
   "id": "23d55626-c547-4e3a-a9c5-bc7dd1ed600f",
   "metadata": {},
   "outputs": [],
   "source": [
    "#reduce()"
   ]
  },
  {
   "cell_type": "code",
   "execution_count": 66,
   "id": "4c76097d-badc-4386-8aa9-e34716ee1696",
   "metadata": {},
   "outputs": [
    {
     "data": {
      "text/plain": [
       "[1, 2, 3, 4, 5, 6, 7, 8]"
      ]
     },
     "execution_count": 66,
     "metadata": {},
     "output_type": "execute_result"
    }
   ],
   "source": [
    "l"
   ]
  },
  {
   "cell_type": "code",
   "execution_count": 67,
   "id": "0a2a8e2e-8a29-4e2b-85e3-6ba4eab03058",
   "metadata": {},
   "outputs": [
    {
     "data": {
      "text/plain": [
       "36"
      ]
     },
     "execution_count": 67,
     "metadata": {},
     "output_type": "execute_result"
    }
   ],
   "source": [
    "su=0   #sum\n",
    "for i in l:\n",
    "    su = su+i\n",
    "su"
   ]
  },
  {
   "cell_type": "code",
   "execution_count": 68,
   "id": "2304dc59-13b4-4660-91c5-01f1c3b97f7f",
   "metadata": {},
   "outputs": [
    {
     "data": {
      "text/plain": [
       "36"
      ]
     },
     "execution_count": 68,
     "metadata": {},
     "output_type": "execute_result"
    }
   ],
   "source": [
    "sum(l)"
   ]
  },
  {
   "cell_type": "code",
   "execution_count": 69,
   "id": "41b5cd99-940b-4a82-808c-05d2820af5ae",
   "metadata": {},
   "outputs": [
    {
     "data": {
      "text/plain": [
       "[1, 2, 3, 4, 5, 6, 7, 8]"
      ]
     },
     "execution_count": 69,
     "metadata": {},
     "output_type": "execute_result"
    }
   ],
   "source": [
    "l"
   ]
  },
  {
   "cell_type": "code",
   "execution_count": 70,
   "id": "b980430c-4035-4792-a4f8-69c623756eb1",
   "metadata": {},
   "outputs": [
    {
     "data": {
      "text/plain": [
       "40320"
      ]
     },
     "execution_count": 70,
     "metadata": {},
     "output_type": "execute_result"
    }
   ],
   "source": [
    "su=1  #multiplication\n",
    "for i in l:\n",
    "    su = su*i\n",
    "su"
   ]
  },
  {
   "cell_type": "code",
   "execution_count": 71,
   "id": "5c7af7d9-d78a-461f-aedd-4ac8fa0a7836",
   "metadata": {},
   "outputs": [],
   "source": [
    "from functools import reduce"
   ]
  },
  {
   "cell_type": "code",
   "execution_count": 73,
   "id": "40952539-481f-40a8-81b4-16906f807254",
   "metadata": {},
   "outputs": [
    {
     "data": {
      "text/plain": [
       "40320"
      ]
     },
     "execution_count": 73,
     "metadata": {},
     "output_type": "execute_result"
    }
   ],
   "source": [
    "reduce(lambda a,b: a*b , l)"
   ]
  },
  {
   "cell_type": "code",
   "execution_count": 74,
   "id": "b12b1140-8f14-45df-928c-e37d54b482bd",
   "metadata": {},
   "outputs": [
    {
     "data": {
      "text/plain": [
       "36"
      ]
     },
     "execution_count": 74,
     "metadata": {},
     "output_type": "execute_result"
    }
   ],
   "source": [
    "reduce(lambda a,b : a+b , l)"
   ]
  },
  {
   "cell_type": "code",
   "execution_count": 76,
   "id": "706b7163-81ca-49d4-bbaf-181648b3eb72",
   "metadata": {},
   "outputs": [
    {
     "data": {
      "text/plain": [
       "[1, 2, 3, 4, 5, 6, 7, 8]"
      ]
     },
     "execution_count": 76,
     "metadata": {},
     "output_type": "execute_result"
    }
   ],
   "source": [
    "l"
   ]
  },
  {
   "cell_type": "code",
   "execution_count": 78,
   "id": "9e8ff7ca-1edd-44b2-9e1a-e2f0112f03a2",
   "metadata": {},
   "outputs": [
    {
     "data": {
      "text/plain": [
       "3"
      ]
     },
     "execution_count": 78,
     "metadata": {},
     "output_type": "execute_result"
    }
   ],
   "source": [
    "l1 = [3]  #only one exception for reduce if only one ele it will return\n",
    "reduce(lambda a,b : a*b , l1)"
   ]
  },
  {
   "cell_type": "code",
   "execution_count": 96,
   "id": "40aec67d-fc68-4ae8-b470-41c006f416eb",
   "metadata": {},
   "outputs": [],
   "source": [
    "def test26(a :int , b:'function' , c: int =234) -> int:\n",
    "    ''' This is Doc string to give hint of function'''\n",
    "    return a+b+str(c)"
   ]
  },
  {
   "cell_type": "code",
   "execution_count": 97,
   "id": "aa9e5f19-4541-4e21-b2bc-2c4369316f9f",
   "metadata": {},
   "outputs": [
    {
     "data": {
      "text/plain": [
       "'sandkumar345'"
      ]
     },
     "execution_count": 97,
     "metadata": {},
     "output_type": "execute_result"
    }
   ],
   "source": [
    "test26('sand','kumar',345)"
   ]
  },
  {
   "cell_type": "code",
   "execution_count": null,
   "id": "a6e4517a-4c5f-4c23-8bb1-848e7cee0f54",
   "metadata": {},
   "outputs": [],
   "source": []
  }
 ],
 "metadata": {
  "kernelspec": {
   "display_name": "Python 3 (ipykernel)",
   "language": "python",
   "name": "python3"
  },
  "language_info": {
   "codemirror_mode": {
    "name": "ipython",
    "version": 3
   },
   "file_extension": ".py",
   "mimetype": "text/x-python",
   "name": "python",
   "nbconvert_exporter": "python",
   "pygments_lexer": "ipython3",
   "version": "3.10.6"
  }
 },
 "nbformat": 4,
 "nbformat_minor": 5
}
