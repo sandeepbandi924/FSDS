{
 "cells": [
  {
   "cell_type": "raw",
   "id": "fe1bd6c3-224d-4022-913f-5835e4bdcb0a",
   "metadata": {},
   "source": [
    "class is a blue print or code template for object creation\n",
    "\n",
    "object: object is instance of a class"
   ]
  },
  {
   "cell_type": "code",
   "execution_count": null,
   "id": "22136e27-6542-4f18-b1db-171790a238a7",
   "metadata": {},
   "outputs": [],
   "source": [
    "properties of object -----> attributes , instance variable\n",
    "functionality of object ----> method/function()"
   ]
  },
  {
   "cell_type": "code",
   "execution_count": 1,
   "id": "de2263aa-782c-4abd-b3b9-959fd5dfc23a",
   "metadata": {},
   "outputs": [],
   "source": [
    "class Emp:\n",
    "    pass"
   ]
  },
  {
   "cell_type": "code",
   "execution_count": 2,
   "id": "67735de4-1a85-41a8-9552-1e6a0e67ef2d",
   "metadata": {},
   "outputs": [],
   "source": [
    "e = Emp()  # e-object"
   ]
  },
  {
   "cell_type": "code",
   "execution_count": 4,
   "id": "d4638b75-03a0-4ca5-a05b-e931566b4ca4",
   "metadata": {},
   "outputs": [
    {
     "name": "stdout",
     "output_type": "stream",
     "text": [
      "<class '__main__.Emp'>\n"
     ]
    }
   ],
   "source": [
    "print(type(e))"
   ]
  },
  {
   "cell_type": "code",
   "execution_count": 5,
   "id": "2b74560a-1a09-4a0c-ae35-e1138e72700f",
   "metadata": {},
   "outputs": [
    {
     "data": {
      "text/plain": [
       "140022974287248"
      ]
     },
     "execution_count": 5,
     "metadata": {},
     "output_type": "execute_result"
    }
   ],
   "source": [
    "id(e)"
   ]
  },
  {
   "cell_type": "code",
   "execution_count": 6,
   "id": "1fa86c71-a8d8-43ea-b368-9057b00c8fd6",
   "metadata": {},
   "outputs": [],
   "source": [
    "class Robot:\n",
    "    \n",
    "    def introduce_self(self):\n",
    "        print('My name is ' + self.name)"
   ]
  },
  {
   "cell_type": "code",
   "execution_count": 7,
   "id": "d3fb2665-e190-41e7-87aa-ddc12673b745",
   "metadata": {},
   "outputs": [],
   "source": [
    "r1 = Robot()"
   ]
  },
  {
   "cell_type": "code",
   "execution_count": 9,
   "id": "299c837c-2235-484e-8b80-496caeaa25e0",
   "metadata": {},
   "outputs": [],
   "source": [
    "r1.name = 'Sandeep'"
   ]
  },
  {
   "cell_type": "code",
   "execution_count": 10,
   "id": "dc880ed8-c477-4c51-b39f-0fc82ab1ff7f",
   "metadata": {},
   "outputs": [
    {
     "name": "stdout",
     "output_type": "stream",
     "text": [
      "My name is Sandeep\n"
     ]
    }
   ],
   "source": [
    "r1.introduce_self()"
   ]
  },
  {
   "cell_type": "code",
   "execution_count": 11,
   "id": "07ae5911-96d7-4926-9e03-ffd4d0bca3d1",
   "metadata": {},
   "outputs": [
    {
     "data": {
      "text/plain": [
       "'Sandeep'"
      ]
     },
     "execution_count": 11,
     "metadata": {},
     "output_type": "execute_result"
    }
   ],
   "source": [
    "r1.name"
   ]
  },
  {
   "cell_type": "code",
   "execution_count": 12,
   "id": "74d79622-3d54-498c-bcff-e37aed2acd4e",
   "metadata": {},
   "outputs": [],
   "source": [
    "r2 = Robot()"
   ]
  },
  {
   "cell_type": "code",
   "execution_count": 13,
   "id": "8375340a-1d8e-47bc-bbbf-87b17613779e",
   "metadata": {},
   "outputs": [],
   "source": [
    "r2.name = 'sumanth'"
   ]
  },
  {
   "cell_type": "code",
   "execution_count": 14,
   "id": "dd3ba906-3f60-4882-bc2c-e97adadcd2c2",
   "metadata": {},
   "outputs": [
    {
     "name": "stdout",
     "output_type": "stream",
     "text": [
      "My name is sumanth\n"
     ]
    }
   ],
   "source": [
    "r2.introduce_self()"
   ]
  },
  {
   "cell_type": "code",
   "execution_count": 15,
   "id": "8cc52717-6520-4c12-9274-2c55299f54e9",
   "metadata": {},
   "outputs": [
    {
     "data": {
      "text/plain": [
       "['__class__',\n",
       " '__delattr__',\n",
       " '__dict__',\n",
       " '__dir__',\n",
       " '__doc__',\n",
       " '__eq__',\n",
       " '__format__',\n",
       " '__ge__',\n",
       " '__getattribute__',\n",
       " '__gt__',\n",
       " '__hash__',\n",
       " '__init__',\n",
       " '__init_subclass__',\n",
       " '__le__',\n",
       " '__lt__',\n",
       " '__module__',\n",
       " '__ne__',\n",
       " '__new__',\n",
       " '__reduce__',\n",
       " '__reduce_ex__',\n",
       " '__repr__',\n",
       " '__setattr__',\n",
       " '__sizeof__',\n",
       " '__str__',\n",
       " '__subclasshook__',\n",
       " '__weakref__',\n",
       " 'introduce_self',\n",
       " 'name']"
      ]
     },
     "execution_count": 15,
     "metadata": {},
     "output_type": "execute_result"
    }
   ],
   "source": [
    "dir(r1)"
   ]
  },
  {
   "cell_type": "raw",
   "id": "08a25107-fea7-46bd-917a-447b40bf279e",
   "metadata": {},
   "source": [
    " self is associated with object  (pointer)"
   ]
  },
  {
   "cell_type": "code",
   "execution_count": 32,
   "id": "e4ef91fe-75ac-41c6-8074-18ec0969230a",
   "metadata": {},
   "outputs": [],
   "source": [
    "class Robot:\n",
    "    def __init__(self, name , color , weight):         #intialize attributes in class\n",
    "        self.name = name\n",
    "        self.color = color\n",
    "        self.weight = weight\n",
    "        \n",
    "    def introduce_self(self):\n",
    "        print('My name is ' + self.name)\n",
    "        print('My color is ' + self.color)\n",
    "        print('My weight is ' + str(self.weight))\n",
    "                "
   ]
  },
  {
   "cell_type": "code",
   "execution_count": null,
   "id": "cfdbaf12-a973-46d2-82a4-1cdd74c6914c",
   "metadata": {},
   "outputs": [],
   "source": []
  },
  {
   "cell_type": "code",
   "execution_count": 33,
   "id": "e0a34224-eb4d-494c-b156-38ca26202603",
   "metadata": {},
   "outputs": [],
   "source": [
    "r1 = Robot('sand','Blue', 75)"
   ]
  },
  {
   "cell_type": "code",
   "execution_count": 37,
   "id": "01201579-614f-4630-9aff-fc4832dca1be",
   "metadata": {},
   "outputs": [
    {
     "data": {
      "text/plain": [
       "'sand'"
      ]
     },
     "execution_count": 37,
     "metadata": {},
     "output_type": "execute_result"
    }
   ],
   "source": [
    "r1.name"
   ]
  },
  {
   "cell_type": "code",
   "execution_count": 38,
   "id": "7dd17af7-b521-498e-a186-fb1255e8e87f",
   "metadata": {},
   "outputs": [
    {
     "data": {
      "text/plain": [
       "'Blue'"
      ]
     },
     "execution_count": 38,
     "metadata": {},
     "output_type": "execute_result"
    }
   ],
   "source": [
    "r1.color"
   ]
  },
  {
   "cell_type": "code",
   "execution_count": 39,
   "id": "fed9d5ba-cf7a-4945-991a-218107665c95",
   "metadata": {},
   "outputs": [
    {
     "data": {
      "text/plain": [
       "75"
      ]
     },
     "execution_count": 39,
     "metadata": {},
     "output_type": "execute_result"
    }
   ],
   "source": [
    "r1.weight"
   ]
  },
  {
   "cell_type": "code",
   "execution_count": 34,
   "id": "2182f042-840c-46bf-86b2-cf3e2215c31c",
   "metadata": {},
   "outputs": [],
   "source": [
    "r2 = Robot('Band','Black',80)"
   ]
  },
  {
   "cell_type": "code",
   "execution_count": 35,
   "id": "85b991ef-d89c-4d34-ae94-1fb4ebe4a226",
   "metadata": {},
   "outputs": [
    {
     "name": "stdout",
     "output_type": "stream",
     "text": [
      "My name is sand\n",
      "My color is Blue\n",
      "My weight is 75\n"
     ]
    }
   ],
   "source": [
    "r1.introduce_self()"
   ]
  },
  {
   "cell_type": "code",
   "execution_count": 36,
   "id": "18f82299-ebee-4969-bbde-e95032d5ecfa",
   "metadata": {},
   "outputs": [
    {
     "name": "stdout",
     "output_type": "stream",
     "text": [
      "My name is Band\n",
      "My color is Black\n",
      "My weight is 80\n"
     ]
    }
   ],
   "source": [
    "r2.introduce_self()"
   ]
  },
  {
   "cell_type": "code",
   "execution_count": null,
   "id": "05103c34-9913-48da-82fa-2755e9966fe5",
   "metadata": {},
   "outputs": [],
   "source": []
  },
  {
   "cell_type": "code",
   "execution_count": 50,
   "id": "a141ccf6-d7b3-4a4e-8dc5-3a4645e532bc",
   "metadata": {},
   "outputs": [],
   "source": [
    "class Person:\n",
    "    \n",
    "    def __init__(self, name, gender,profession):\n",
    "        self.name = name\n",
    "        self.gender = gender\n",
    "        self.profession = profession\n",
    "        \n",
    "    def show(self):\n",
    "        print('Name:',self.name , ',Gender:',self.gender , ',Profession:',self.profession)\n",
    "        \n",
    "    def work(self):\n",
    "        print(f\"{self.name} is working as {self.profession}\")"
   ]
  },
  {
   "cell_type": "code",
   "execution_count": 51,
   "id": "49a51d78-88a6-4166-8163-4aa015f0a0be",
   "metadata": {},
   "outputs": [],
   "source": [
    "obj1 = Person('Sandeep', 'Male', 'Engineer')"
   ]
  },
  {
   "cell_type": "code",
   "execution_count": 52,
   "id": "9314ad4d-ba3b-4c6b-8642-237bc2678f81",
   "metadata": {},
   "outputs": [
    {
     "name": "stdout",
     "output_type": "stream",
     "text": [
      "Name: Sandeep ,Gender: Male ,Profession: Engineer\n"
     ]
    }
   ],
   "source": [
    "obj1.show()"
   ]
  },
  {
   "cell_type": "code",
   "execution_count": 53,
   "id": "943493c0-b426-4520-81c1-262f5b90c642",
   "metadata": {},
   "outputs": [],
   "source": [
    "obj2 = Person('Ravi','Male','Engineer')"
   ]
  },
  {
   "cell_type": "code",
   "execution_count": 54,
   "id": "42805732-b565-46a3-b300-bcb00aeeaa74",
   "metadata": {},
   "outputs": [
    {
     "name": "stdout",
     "output_type": "stream",
     "text": [
      "Ravi is working as Engineer\n"
     ]
    }
   ],
   "source": [
    "obj2.work()"
   ]
  },
  {
   "cell_type": "code",
   "execution_count": 1,
   "id": "aac6f279-c677-4079-aa18-c2944053c763",
   "metadata": {},
   "outputs": [],
   "source": [
    "class Employee:\n",
    "    def __init__(self):\n",
    "        print(id(self))\n",
    "        self.age=25\n",
    "        self.name='sandeep'\n",
    "        self.salary=30000"
   ]
  },
  {
   "cell_type": "code",
   "execution_count": 2,
   "id": "57ecfc3b-4b1d-4a2a-9495-242df7192938",
   "metadata": {},
   "outputs": [
    {
     "name": "stdout",
     "output_type": "stream",
     "text": [
      "140546230682768\n"
     ]
    }
   ],
   "source": [
    "e1=Employee()"
   ]
  },
  {
   "cell_type": "code",
   "execution_count": 3,
   "id": "2c573150-9580-4f24-8319-1e03761305cd",
   "metadata": {},
   "outputs": [
    {
     "data": {
      "text/plain": [
       "30000"
      ]
     },
     "execution_count": 3,
     "metadata": {},
     "output_type": "execute_result"
    }
   ],
   "source": [
    "e1.salary"
   ]
  },
  {
   "cell_type": "code",
   "execution_count": 26,
   "id": "a2f4171b-8827-4a6f-aaf5-0c1fe4b859fd",
   "metadata": {},
   "outputs": [
    {
     "name": "stdout",
     "output_type": "stream",
     "text": [
      "('area of circle: ', 153.86)\n",
      "('circumference: ', 43.96)\n"
     ]
    }
   ],
   "source": [
    "class Circle :\n",
    "    \n",
    "    def __init__(self,radius):\n",
    "        self.pi=3.14\n",
    "        self.radius=radius\n",
    "    def area(self):\n",
    "        area = self.pi * (self.radius)**2\n",
    "        return 'area of circle: ', area\n",
    "    def circumference(self):\n",
    "        circum = 2 * self.pi * self.radius\n",
    "        return 'circumference: ',circum\n",
    "c1 = Circle(7)\n",
    "print(c1.area())\n",
    "print(c1.circumference())"
   ]
  },
  {
   "cell_type": "code",
   "execution_count": 36,
   "id": "bd448454-e146-405d-8d84-ed12485bbc6f",
   "metadata": {},
   "outputs": [],
   "source": [
    "#Bank_Account\n",
    "\n",
    "class BankAccount:\n",
    "    \n",
    "    def __init__(self, acc_no , name , balance):\n",
    "        self.acc_no = acc_no\n",
    "        self.name = name\n",
    "        self.balance = balance\n",
    "    \n",
    "    def deposite(self):\n",
    "        deposite = int(input('enter the amount to deposite: '))\n",
    "        self.balance = self.balance + deposite\n",
    "        print('Your balance is '+str(self.balance))\n",
    "    \n",
    "    def withdrawn(self):\n",
    "        withdraw = int(input('enter the amount to withdraw: '))\n",
    "        self.balance = self.balance - withdraw\n",
    "        print('Your balance is '+str(self.balance))\n",
    "    def display(self):\n",
    "        print(f'Name:{self.name}')\n",
    "        print(f'Account Number: {self.acc_no}')\n",
    "        print(f'Balance: {self.balance}')\n",
    "        \n",
    "b1 = BankAccount(62457,'Sandeep',20000)"
   ]
  },
  {
   "cell_type": "code",
   "execution_count": 37,
   "id": "419f7281-07be-44fe-a456-942509f63c6e",
   "metadata": {},
   "outputs": [
    {
     "name": "stdin",
     "output_type": "stream",
     "text": [
      "enter the amount to deposite:  50000\n"
     ]
    },
    {
     "name": "stdout",
     "output_type": "stream",
     "text": [
      "Your balance is 70000\n"
     ]
    }
   ],
   "source": [
    "b1.deposite()"
   ]
  },
  {
   "cell_type": "code",
   "execution_count": 38,
   "id": "dbc7e756-eccb-4279-b064-2e52584bd662",
   "metadata": {},
   "outputs": [
    {
     "name": "stdin",
     "output_type": "stream",
     "text": [
      "enter the amount to withdraw:  15000\n"
     ]
    },
    {
     "name": "stdout",
     "output_type": "stream",
     "text": [
      "Your balance is 55000\n"
     ]
    }
   ],
   "source": [
    "b1.withdrawn()"
   ]
  },
  {
   "cell_type": "code",
   "execution_count": 39,
   "id": "48ee076c-5844-4913-91e3-46c278f342bc",
   "metadata": {},
   "outputs": [
    {
     "name": "stdout",
     "output_type": "stream",
     "text": [
      "Name:Sandeep\n",
      "Account Number: 62457\n",
      "Balance: 55000\n"
     ]
    }
   ],
   "source": [
    "b1.display()"
   ]
  },
  {
   "cell_type": "markdown",
   "id": "5a6a3672-26cb-4d12-be50-95974af6e75e",
   "metadata": {},
   "source": [
    "# Task"
   ]
  },
  {
   "cell_type": "code",
   "execution_count": null,
   "id": "df68b780-e29d-40be-a15f-4f3361698784",
   "metadata": {},
   "outputs": [],
   "source": [
    "1. Write a class called BankAccount that has the following:\n",
    "        • A field called name that stores the name of the account holder.\n",
    "        • A field called amount that stores the amount of money in the account.\n",
    "        • A field called interest_rate that stores the account’s interest rate (as a percentage).\n",
    "        • A constructor that just sets the values of the three fields above.\n",
    "        • A method called apply_interest() that takes no arguments and applies the interest to the\n",
    "        account. It should just modify the amount field and not return anything. For instance, if the\n",
    "        account has $1000 in it and the interest rate is 3%, then the amount variable should be changed\n",
    "        to $1030 ($1000 + 3% interest).\n",
    "        Then test the class, by creating a new BankAccount object for a user named Juan De Hattatime who\n",
    "        has $1000 at 3% interest. Then do the following:\n",
    "        • Use the apply_interest() method to apply the interest to the account.\n",
    "        • Print out how much money is now in the account after applying the interest.\n",
    "        • Change the account’s interest rate to 2%.\n",
    "        • Use the apply_interest() method to apply the interest to the account again.\n",
    "        • Print out how much money is now in the account after applying the interest again.\n",
    "\n",
    " ----------------------------------------------------------------------------------------------------------------------------------------------------------------\n",
    "\n",
    "\n",
    " 2. Write a class called Item that represents an item for sale. It should have the following:\n",
    "      • Fields representing the name and price of the item\n",
    "      • A constructor that sets those fields,\n",
    "      • A __str__() method that returns a string containing the item name and price, with the price\n",
    "      formatted to exactly 2 decimal places\n",
    "      Test the class by creating a new item object and printing it out\n",
    "\n",
    "\n",
    "-----------------------------------------------------------------------------------------------------------------------------------------------------------------\n",
    "\n",
    "\n",
    "3. Write a class called ShoppingCart that might be used in an online store. It should have the following:\n",
    "      • A list of Item objects that represents the items in the shopping cart\n",
    "      • A constructor that creates an empty list of items (the constructor should take no arguments ex cept self)\n",
    "      • A method called add() that takes a name and a price and adds an Item object with that name\n",
    "      and price to the shopping cart\n",
    "      • A method called total() that takes no arguments and returns the total cost of the items in the\n",
    "      cart\n",
    "      34\n",
    "      • A method called remove_items() that takes an item name (a string) and removes any Item\n",
    "      objects with that name from the shopping cart. It shouldn’t return anything.\n",
    "      • A __str__() method that returns a string containing info on all the items in the shopping cart\n",
    "      Then test out the shopping cart as follows: (1) create a shopping cart; (2) add several items to it; (3)\n",
    "      print the cart’s total cost (using the total() method); (4) remove one of the items types; (5) print out\n",
    "      the cart\n",
    "\n",
    "----------------------------------------------------------------------------------------------------------------------------------------------------------------\n",
    "\n",
    "4. Write a class called RestaurantCheck. It should have the following:\n",
    "      • Fields called check_number, sales_tax_percent, subtotal, table_number, and server_name\n",
    "      representing an identification for the check, the bill without tax added, the sales tax percentage,\n",
    "      the table number, and the name of the server.\n",
    "      • A constructor that sets the values of all four fields\n",
    "      • A method called calculate_total that takes no arguments (besides self) and returns the total\n",
    "      bill including sales tax.\n",
    "      • A method called print_check that writes to a file called check###.txt, where ### is the check\n",
    "      number and writes information about the check to that file, formatted like below:\n",
    "      Check Number: 443\n",
    "      Sales tax: 6.0%\n",
    "      Subtotal: $23.14\n",
    "      Total: $24.53\n",
    "      Table Number: 17\n",
    "      Server: Sonic the Hedgehog\n",
    "      Test the class by creating a RestaurantCheck object and calling the print_check() method\n",
    "\n",
    "\n",
    "      -----------------------------------------------------------------------------------------------------------------------------------------------------\n",
    "\n",
    "\n",
    "\n",
    "5. Write a class called Ticket that has the following:\n",
    "      • A field cost for the price of the ticket and a string field time for the start time of the event\n",
    "      (assume times are in 24-hour format, like '18:35')\n",
    "      • A constructor that sets those variables\n",
    "      • A __str__() method that returns a string of the form Ticket(<cost>, <time>), where\n",
    "      <cost> and <time> are replaced with the values of the cost and time fields.\n",
    "      • A method called is_evening_time() that returns True or False, depending on whether the\n",
    "      time falls in the range from 18:00 to 23:59.\n",
    "      • A method called bulk_discount() that takes an integer n and returns the discount for buying n\n",
    "      tickets. There should be a 10% discount for buying 5 to 9 tickets, and a 20% discount for buying\n",
    "      10 or more. Otherwise, there is no discount. Return these percentages as integers.\n",
    "      Test the class by creating a Ticket item, printing it, calling the is_evening_time() method, and\n",
    "      calling the bulk_discount() method"
   ]
  },
  {
   "cell_type": "code",
   "execution_count": null,
   "id": "841bccbb-57f8-43f8-96cf-d6cbc9e44715",
   "metadata": {},
   "outputs": [],
   "source": []
  },
  {
   "cell_type": "code",
   "execution_count": null,
   "id": "5b86857a-a15b-4542-88aa-3e3295ba0104",
   "metadata": {},
   "outputs": [],
   "source": [
    "1. Write a class called BankAccount that has the following:\n",
    "        • A field called name that stores the name of the account holder.\n",
    "        • A field called amount that stores the amount of money in the account.\n",
    "        • A field called interest_rate that stores the account’s interest rate (as a percentage).\n",
    "        • A constructor that just sets the values of the three fields above.\n",
    "        • A method called apply_interest() that takes no arguments and applies the interest to the\n",
    "        account. It should just modify the amount field and not return anything. For instance, if the\n",
    "        account has $1000 in it and the interest rate is 3%, then the amount variable should be changed\n",
    "        to $1030 ($1000 + 3% interest).\n",
    "        Then test the class, by creating a new BankAccount object for a user named Juan De Hattatime who\n",
    "        has $1000 at 3% interest. Then do the following:\n",
    "        • Use the apply_interest() method to apply the interest to the account.\n",
    "        • Print out how much money is now in the account after applying the interest.\n",
    "        • Change the account’s interest rate to 2%.\n",
    "        • Use the apply_interest() method to apply the interest to the account again.\n",
    "        • Print out how much money is now in the account after applying the interest again."
   ]
  },
  {
   "cell_type": "code",
   "execution_count": 44,
   "id": "c571f3dd-25b6-4239-ac4c-fe441508db41",
   "metadata": {},
   "outputs": [],
   "source": [
    "class BanckAcc:\n",
    "    def __init__(self , name , amount , interest):\n",
    "        self.name = name\n",
    "        self.amount = amount\n",
    "        self.interest = interest\n",
    "    def apply_interest(self):\n",
    "        #interset_rate = int(input('Enter interest rate: '))\n",
    "        intrest_Amnt = self.amount * (self.interest/100)\n",
    "        print(f\"The amount after interest rate is {self.amount + intrest_Amnt}\")\n",
    "        \n",
    "ba1 = BanckAcc('Juan De Hattatime',5000,3)       \n",
    "ba2 = BanckAcc('Juan De Hattatime',5000,2)  "
   ]
  },
  {
   "cell_type": "code",
   "execution_count": 45,
   "id": "1e701102-dd7d-4a8c-914c-8db09b2ef5f5",
   "metadata": {},
   "outputs": [
    {
     "name": "stdout",
     "output_type": "stream",
     "text": [
      "The amount after interest rate is 5150.0\n"
     ]
    }
   ],
   "source": [
    "ba1.apply_interest()"
   ]
  },
  {
   "cell_type": "code",
   "execution_count": 47,
   "id": "4883b131-4422-4bbe-a46b-c1ffc0022228",
   "metadata": {},
   "outputs": [
    {
     "name": "stdout",
     "output_type": "stream",
     "text": [
      "The amount after interest rate is 5100.0\n"
     ]
    }
   ],
   "source": [
    "ba2.apply_interest()"
   ]
  },
  {
   "cell_type": "code",
   "execution_count": null,
   "id": "734ff041-9309-4b78-82d9-75c133490752",
   "metadata": {},
   "outputs": [],
   "source": [
    " 2. Write a class called Item that represents an item for sale. It should have the following:\n",
    "      • Fields representing the name and price of the item\n",
    "      • A constructor that sets those fields,\n",
    "      • A __str__() method that returns a string containing the item name and price, with the price\n",
    "      formatted to exactly 2 decimal places\n",
    "      Test the class by creating a new item object and printing it out"
   ]
  },
  {
   "cell_type": "code",
   "execution_count": 54,
   "id": "237f3cb5-d5ec-4ea4-ab40-18e7adf37d12",
   "metadata": {},
   "outputs": [
    {
     "name": "stdout",
     "output_type": "stream",
     "text": [
      "The item is shirt\n",
      "The price is 505.24\n"
     ]
    }
   ],
   "source": [
    "class Item:\n",
    "    def __init__(self,name,price):\n",
    "        self.name = name\n",
    "        self.price = price\n",
    "        \n",
    "    def __str__(self):\n",
    "        print(f\"The item is {self.name}\")\n",
    "        print(f\"The price is {round(self.price , 2)}\")\n",
    "        \n",
    "i1=Item('shirt', 505.2365)\n",
    "i1.__str__()"
   ]
  },
  {
   "cell_type": "code",
   "execution_count": null,
   "id": "ad97dd30-9f4f-4d32-926c-83510d473c73",
   "metadata": {},
   "outputs": [],
   "source": [
    "3. Write a class called ShoppingCart that might be used in an online store. It should have the following:\n",
    "      • A list of Item objects that represents the items in the shopping cart\n",
    "      • A constructor that creates an empty list of items (the constructor should take no arguments ex cept self)\n",
    "      • A method called add() that takes a name and a price and adds an Item object with that name\n",
    "      and price to the shopping cart\n",
    "      • A method called total() that takes no arguments and returns the total cost of the items in the\n",
    "      cart\n",
    "      34\n",
    "      • A method called remove_items() that takes an item name (a string) and removes any Item\n",
    "      objects with that name from the shopping cart. It shouldn’t return anything.\n",
    "      • A __str__() method that returns a string containing info on all the items in the shopping cart\n",
    "      Then test out the shopping cart as follows: (1) create a shopping cart; (2) add several items to it; (3)\n",
    "      print the cart’s total cost (using the total() method); (4) remove one of the items types; (5) print out\n",
    "      the cart"
   ]
  },
  {
   "cell_type": "code",
   "execution_count": 159,
   "id": "adb18111-d7c9-47e2-a994-504384388812",
   "metadata": {},
   "outputs": [],
   "source": [
    "class ShoppingCart:\n",
    "    def __init__(self):\n",
    "        self.items = list()\n",
    "        \n",
    "    def add(self,name,price):\n",
    "        self.items.append([name,price])\n",
    "    \n",
    "    def total(self):\n",
    "        cost=0\n",
    "        for i in self.items:\n",
    "            for j in i:\n",
    "                if isinstance(j,int):\n",
    "                    cost = cost+ j\n",
    "        print(f'total cost of item {cost}')\n",
    "        \n",
    "    def remove_item(self, item):\n",
    "        for i in self.items:\n",
    "            if item in i:\n",
    "                self.items.remove(i)\n",
    "        return self.items\n",
    "    \n",
    "    def __str__(self):\n",
    "        shping_cart = input()\n",
    "        print(f\"total items in catr {self.items}\")\n",
    "        \n",
    "s1 = ShoppingCart()"
   ]
  },
  {
   "cell_type": "code",
   "execution_count": 160,
   "id": "f049ba57-684d-4f3b-bf7e-ae572155bb33",
   "metadata": {},
   "outputs": [],
   "source": [
    "s1.add('shirt',500)\n",
    "s1.add('pant',999)\n",
    "s1.add('laptop',45000)\n",
    "s1.add('Mobile',25000)\n",
    "s1.add('Protiem',2500)"
   ]
  },
  {
   "cell_type": "code",
   "execution_count": 162,
   "id": "eadb4d72-b7b6-4480-a973-e23046e5a48b",
   "metadata": {},
   "outputs": [
    {
     "name": "stdin",
     "output_type": "stream",
     "text": [
      " sand\n"
     ]
    },
    {
     "name": "stdout",
     "output_type": "stream",
     "text": [
      "total items in catr [['shirt', 500], ['pant', 999], ['laptop', 45000], ['Mobile', 25000], ['Protiem', 2500]]\n"
     ]
    }
   ],
   "source": [
    "s1.__str__()"
   ]
  },
  {
   "cell_type": "code",
   "execution_count": 163,
   "id": "e5be7837-567d-4118-97b3-c2ac82cc60a8",
   "metadata": {},
   "outputs": [
    {
     "name": "stdout",
     "output_type": "stream",
     "text": [
      "total cost of item 73999\n"
     ]
    }
   ],
   "source": [
    "s1.total()"
   ]
  },
  {
   "cell_type": "code",
   "execution_count": 164,
   "id": "509fe6e3-a54c-4cb5-9c98-116c82dd9c33",
   "metadata": {},
   "outputs": [
    {
     "data": {
      "text/plain": [
       "[['shirt', 500], ['laptop', 45000], ['Mobile', 25000], ['Protiem', 2500]]"
      ]
     },
     "execution_count": 164,
     "metadata": {},
     "output_type": "execute_result"
    }
   ],
   "source": [
    "s1.remove_item('pant')"
   ]
  },
  {
   "cell_type": "code",
   "execution_count": 165,
   "id": "26c9b3ef-d3ad-452b-83bc-e42eb92eedc9",
   "metadata": {},
   "outputs": [
    {
     "name": "stdin",
     "output_type": "stream",
     "text": [
      " 45\n"
     ]
    },
    {
     "name": "stdout",
     "output_type": "stream",
     "text": [
      "total items in catr [['shirt', 500], ['laptop', 45000], ['Mobile', 25000], ['Protiem', 2500]]\n"
     ]
    }
   ],
   "source": [
    "s1.__str__()"
   ]
  },
  {
   "cell_type": "code",
   "execution_count": null,
   "id": "7ff28729-b57b-48fd-bff0-fffb06c450b2",
   "metadata": {},
   "outputs": [],
   "source": []
  },
  {
   "cell_type": "code",
   "execution_count": null,
   "id": "858c6803-0870-4c28-98bd-6998b632316f",
   "metadata": {},
   "outputs": [],
   "source": [
    "4. Write a class called RestaurantCheck. It should have the following:\n",
    "      • Fields called check_number, sales_tax_percent, subtotal, table_number, and server_name\n",
    "      representing an identification for the check, the bill without tax added, the sales tax percentage,\n",
    "      the table number, and the name of the server.\n",
    "      • A constructor that sets the values of all four fields\n",
    "      • A method called calculate_total that takes no arguments (besides self) and returns the total\n",
    "      bill including sales tax.\n",
    "      • A method called print_check that writes to a file called check###.txt, where ### is the check\n",
    "      number and writes information about the check to that file, formatted like below:\n",
    "      Check Number: 443\n",
    "      Sales tax: 6.0%\n",
    "      Subtotal: $23.14\n",
    "      Total: $24.53\n",
    "      Table Number: 17\n",
    "      Server: Sonic the Hedgehog\n",
    "      Test the class by creating a RestaurantCheck object and calling the print_check() method"
   ]
  },
  {
   "cell_type": "code",
   "execution_count": 217,
   "id": "7f89ba7c-f71c-45a0-b302-0581f943259e",
   "metadata": {},
   "outputs": [
    {
     "name": "stdin",
     "output_type": "stream",
     "text": [
      "Check number:  455\n",
      "Enter the amount:  2500\n",
      "Enter table Number:  2\n"
     ]
    },
    {
     "data": {
      "text/plain": [
       "'Total bill: 2650.0'"
      ]
     },
     "execution_count": 217,
     "metadata": {},
     "output_type": "execute_result"
    }
   ],
   "source": [
    "class Restaurantcheck:\n",
    "    def __init__(self):\n",
    "        self.check_number=int(input('Check number: '))\n",
    "        self.sale_tax = 6\n",
    "        self.subtotal=float(input('Enter the amount: '))\n",
    "        self.tableNumber=int(input('Enter table Number: '))\n",
    "        self.servername = 'Sandeep'\n",
    "    \n",
    "    def calculate_tot(self):\n",
    "        tax = self.subtotal * (self.sale_tax/100)\n",
    "        return f\"Total bill: {self.subtotal + tax}\"\n",
    "        \n",
    "    def print_check(self):\n",
    "        with open('check.txt','w') as f:\n",
    "                #f.write('check Number:{self.check_number}')\n",
    "                line='check Number:'\n",
    "                f.write( line + str(self.check_number) + '\\n')\n",
    "                tax='Sales tax:'\n",
    "                f.write( tax + str(self.sale_tax)+ '\\n')\n",
    "                sub='Sub Total:'\n",
    "                f.write( sub + str(self.subtotal)+ '\\n')\n",
    "                f.write(self.calculate_tot()+ '\\n')\n",
    "                tab='table Number:'\n",
    "                f.write( tab + str(self.tableNumber)+ '\\n')\n",
    "                nam='Server name:'\n",
    "                f.write( nam + str(self.servername))\n",
    "                print('All Done')\n",
    "                print('Check the bill statement in check.txt file')\n",
    "r1 = Restaurantcheck()\n",
    "r1.calculate_tot()"
   ]
  },
  {
   "cell_type": "code",
   "execution_count": 218,
   "id": "7a42ae9d-e046-4043-a1fc-5a484eaa17f4",
   "metadata": {},
   "outputs": [
    {
     "name": "stdout",
     "output_type": "stream",
     "text": [
      "All Done\n",
      "Check the bill statement in check.txt file\n"
     ]
    }
   ],
   "source": [
    "r1.print_check()"
   ]
  },
  {
   "cell_type": "code",
   "execution_count": null,
   "id": "1be13087-e9e6-4fbd-8632-d0503017e7e5",
   "metadata": {},
   "outputs": [],
   "source": []
  },
  {
   "cell_type": "code",
   "execution_count": null,
   "id": "7cd08b74-b9ee-4bd2-b20e-c11e3aea7a39",
   "metadata": {},
   "outputs": [],
   "source": [
    "5. Write a class called Ticket that has the following:\n",
    "      • A field cost for the price of the ticket and a string field time for the start time of the event\n",
    "      (assume times are in 24-hour format, like '18:35')\n",
    "      • A constructor that sets those variables\n",
    "      • A __str__() method that returns a string of the form Ticket(<cost>, <time>), where\n",
    "      <cost> and <time> are replaced with the values of the cost and time fields.\n",
    "      • A method called is_evening_time() that returns True or False, depending on whether the\n",
    "      time falls in the range from 18:00 to 23:59.\n",
    "      • A method called bulk_discount() that takes an integer n and returns the discount for buying n\n",
    "      tickets. There should be a 10% discount for buying 5 to 9 tickets, and a 20% discount for buying\n",
    "      10 or more. Otherwise, there is no discount. Return these percentages as integers.\n",
    "      Test the class by creating a Ticket item, printing it, calling the is_evening_time() method, and\n",
    "      calling the bulk_discount() method"
   ]
  },
  {
   "cell_type": "code",
   "execution_count": 228,
   "id": "8ce3afea-8cfe-4c85-9135-b46021119a7f",
   "metadata": {},
   "outputs": [],
   "source": [
    "import time\n",
    "class Ticket:\n",
    "    def __init__(self,ticket_price):\n",
    "        self.ticket_price=ticket_price\n",
    "        self.time = time.localtime()\n",
    "t1=Ticket(2500)"
   ]
  },
  {
   "cell_type": "code",
   "execution_count": 229,
   "id": "78da8d00-271f-4d9d-9845-b80e59850e47",
   "metadata": {},
   "outputs": [
    {
     "data": {
      "text/plain": [
       "time.struct_time(tm_year=2023, tm_mon=7, tm_mday=29, tm_hour=6, tm_min=50, tm_sec=16, tm_wday=5, tm_yday=210, tm_isdst=0)"
      ]
     },
     "execution_count": 229,
     "metadata": {},
     "output_type": "execute_result"
    }
   ],
   "source": [
    "t1.time"
   ]
  },
  {
   "cell_type": "code",
   "execution_count": null,
   "id": "ec35a38e-fe5f-491b-8c48-68f7a02b1ef0",
   "metadata": {},
   "outputs": [],
   "source": []
  }
 ],
 "metadata": {
  "kernelspec": {
   "display_name": "Python 3 (ipykernel)",
   "language": "python",
   "name": "python3"
  },
  "language_info": {
   "codemirror_mode": {
    "name": "ipython",
    "version": 3
   },
   "file_extension": ".py",
   "mimetype": "text/x-python",
   "name": "python",
   "nbconvert_exporter": "python",
   "pygments_lexer": "ipython3",
   "version": "3.10.6"
  }
 },
 "nbformat": 4,
 "nbformat_minor": 5
}
