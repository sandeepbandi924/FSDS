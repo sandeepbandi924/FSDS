{
 "cells": [
  {
   "cell_type": "raw",
   "id": "7aff4391-8802-4a14-8612-a042236eb6c9",
   "metadata": {},
   "source": [
    "#stage of code\n",
    "\n",
    "devlopement\n",
    "debugging\n",
    "review\n",
    "testing\n",
    "production"
   ]
  },
  {
   "cell_type": "code",
   "execution_count": 6,
   "id": "e5d2e9a1-6f41-406d-9764-f4df5401fbfc",
   "metadata": {},
   "outputs": [
    {
     "name": "stdout",
     "output_type": "stream",
     "text": [
      "30\n",
      "10\n",
      "200\n",
      "2.0\n"
     ]
    }
   ],
   "source": [
    "def add(x,y):\n",
    "    return x+y\n",
    "\n",
    "def sub(x,y):\n",
    "    return x-y\n",
    "\n",
    "def mul(x,y):\n",
    "    return x*y\n",
    "\n",
    "def div(x,y):\n",
    "    return x/y\n",
    "\n",
    "num1=20\n",
    "num2 =10\n",
    "\n",
    "add_res = add(num1,num2)\n",
    "print(add_res)\n",
    "sub_res = sub(num1,num2)\n",
    "print(sub_res)\n",
    "mul_res = mul(num1,num2)\n",
    "print(mul_res)\n",
    "div_res = div(num1,num2)\n",
    "print(div_res)"
   ]
  },
  {
   "cell_type": "markdown",
   "id": "03d53671-828b-428f-a051-9cc0a4ecafd7",
   "metadata": {},
   "source": [
    "# Logging\n",
    "logging is module which help us to track and record the log information  \n"
   ]
  },
  {
   "cell_type": "code",
   "execution_count": null,
   "id": "2947be42-dbba-452c-8ca5-1fac3833bbba",
   "metadata": {},
   "outputs": [],
   "source": [
    "# log - critical part of system documentation about run time status of application"
   ]
  },
  {
   "cell_type": "code",
   "execution_count": null,
   "id": "5173e689-f842-45d5-af94-88d80e83e0e3",
   "metadata": {},
   "outputs": [],
   "source": [
    "LVLS OF LOGGINGS:\n",
    "\n",
    "DEBUG   -  10\n",
    " \n",
    "INFO    -  20\n",
    "\n",
    "WARNING -  30\n",
    "\n",
    "ERROR    - 40\n",
    "\n",
    "CRITICAL - 50"
   ]
  },
  {
   "cell_type": "code",
   "execution_count": 10,
   "id": "de3c35bb-4f8e-4e01-8898-71735c5fa51a",
   "metadata": {},
   "outputs": [
    {
     "name": "stderr",
     "output_type": "stream",
     "text": [
      "WARNING:root:this is warning\n"
     ]
    }
   ],
   "source": [
    "import logging\n",
    "\n",
    "logging.info('This is info')\n",
    "\n",
    "logging.warning('this is warning')"
   ]
  },
  {
   "cell_type": "code",
   "execution_count": 2,
   "id": "327497a6-8fbf-4138-95c0-33ee59e98d6c",
   "metadata": {},
   "outputs": [],
   "source": [
    "import logging\n",
    "\n",
    "logging.basicConfig(filename='test.log' , level=logging.DEBUG)\n",
    "\n",
    "def add(x,y):\n",
    "    return x+y\n",
    "\n",
    "def sub(x,y):\n",
    "    return x-y\n",
    "\n",
    "def mul(x,y):\n",
    "    return x*y\n",
    "\n",
    "def div(x,y):\n",
    "    return x/y\n",
    "\n",
    "num1=20\n",
    "num2 =10\n",
    "\n",
    "add_res = add(num1,num2)\n",
    "logging.debug(add_res)\n",
    "sub_res = sub(num1,num2)\n",
    "logging.info(sub_res)\n",
    "mul_res = mul(num1,num2)\n",
    "logging.warning(mul_res)\n",
    "div_res = div(num1,num2)\n",
    "logging.critical(div_res)"
   ]
  },
  {
   "cell_type": "code",
   "execution_count": 1,
   "id": "3fe84a6d-5eb1-4c7f-8803-b11cea930783",
   "metadata": {},
   "outputs": [],
   "source": [
    "import logging\n",
    "\n",
    "logging.basicConfig(filename= 'demo.log', level = logging.DEBUG , format ='%(asctime)s - %(levelname)s - %(message)s')\n",
    "def namecheck(name):\n",
    "    if len(name)<2:\n",
    "        logging.debug('check for name length')\n",
    "        return 'Invalid name'\n",
    "    elif name.isspace():\n",
    "        logging.debug('check for name has space')\n",
    "        return 'Invalid name'\n",
    "    elif name.isalpha():\n",
    "        logging.debug('check for name is alphabet')\n",
    "        return 'Valid name'\n",
    "    elif name.replace(' ','').isalpha():\n",
    "        logging.debug('check for full name')\n",
    "        return 'Valid name'\n",
    "    else:\n",
    "        logging.debug('Failed all checks')\n",
    "        return 'Invalid name'\n",
    "    \n",
    "    \n",
    "    "
   ]
  },
  {
   "cell_type": "code",
   "execution_count": 2,
   "id": "7a1ad25d-8418-42a2-b6fc-779b463436aa",
   "metadata": {},
   "outputs": [
    {
     "name": "stdout",
     "output_type": "stream",
     "text": [
      "Valid name\n"
     ]
    }
   ],
   "source": [
    "print(namecheck('sandeep'))"
   ]
  },
  {
   "cell_type": "code",
   "execution_count": 3,
   "id": "94b643d7-d4df-4d59-a628-95e2c8cd621f",
   "metadata": {},
   "outputs": [
    {
     "name": "stdout",
     "output_type": "stream",
     "text": [
      "Valid name\n"
     ]
    }
   ],
   "source": [
    "print(namecheck('sandeep bandi'))"
   ]
  },
  {
   "cell_type": "code",
   "execution_count": 4,
   "id": "351b6293-912f-4ba6-82c1-661dc87ab14f",
   "metadata": {},
   "outputs": [
    {
     "name": "stdout",
     "output_type": "stream",
     "text": [
      "Invalid name\n"
     ]
    }
   ],
   "source": [
    "print(namecheck('1123'))"
   ]
  },
  {
   "cell_type": "code",
   "execution_count": null,
   "id": "1d02e868-c62f-4bec-8b44-59a95b9644e3",
   "metadata": {},
   "outputs": [],
   "source": [
    "#create logger in code\n",
    "create one function which can take any of inpuits as argument and it will able to return sum pf it\n",
    "capture user input in log file \n",
    "read a log file from python code show it in console"
   ]
  },
  {
   "cell_type": "code",
   "execution_count": 22,
   "id": "5f758f47-6e4a-443f-b49c-c6b674e8d640",
   "metadata": {},
   "outputs": [
    {
     "data": {
      "text/plain": [
       "69"
      ]
     },
     "execution_count": 22,
     "metadata": {},
     "output_type": "execute_result"
    }
   ],
   "source": [
    "import logging as lg\n",
    "\n",
    "lg.basicConfig(filename='task.log',level=lg.DEBUG, format='%(asctime)s - %(levelname)s - %(message)s')\n",
    "\n",
    "def func_task(*args):\n",
    "    lg.info('This is my summation function')\n",
    "    sum1=0\n",
    "    for i in args:\n",
    "        lg.info('Inputs: '+str(i))\n",
    "        sum1=sum1+i\n",
    "    lg.info('sum is ' + str(sum1))\n",
    "    return sum1\n",
    "\n",
    "\n",
    "func_task(12,32,25)\n",
    "    "
   ]
  },
  {
   "cell_type": "code",
   "execution_count": 1,
   "id": "44abfcdc-5279-4f75-8259-077ab0cfef32",
   "metadata": {},
   "outputs": [],
   "source": [
    "#from sudhanshu"
   ]
  },
  {
   "cell_type": "code",
   "execution_count": 1,
   "id": "4e85a79d-c904-4f0e-a651-13f1aff2569d",
   "metadata": {},
   "outputs": [],
   "source": [
    "import logging"
   ]
  },
  {
   "cell_type": "code",
   "execution_count": 2,
   "id": "1ef97766-d16b-4e7b-b64e-88b5c1c46af4",
   "metadata": {},
   "outputs": [],
   "source": [
    "logging.basicConfig(filename='test.log', level=logging.DEBUG , format='%(asctime)s - %(levelname)s - %(message)s')"
   ]
  },
  {
   "cell_type": "code",
   "execution_count": 3,
   "id": "cc4a0789-4114-4eee-8b38-70ee065146e2",
   "metadata": {},
   "outputs": [],
   "source": [
    "logging.info('This is my info log')\n",
    "logging.warning('This is my warning log')\n",
    "logging.error('This is my error log')"
   ]
  },
  {
   "cell_type": "code",
   "execution_count": 4,
   "id": "b446644b-7d4f-4c4a-97d6-18acb1e6db2e",
   "metadata": {},
   "outputs": [
    {
     "data": {
      "text/plain": [
       "'/home/jovyan/work/Python_Basics'"
      ]
     },
     "execution_count": 4,
     "metadata": {},
     "output_type": "execute_result"
    }
   ],
   "source": [
    "pwd()"
   ]
  },
  {
   "cell_type": "raw",
   "id": "3c5d6843-b94d-4ec8-83d8-c997f564c292",
   "metadata": {},
   "source": [
    "DEBUG\n",
    "INFO\n",
    "WARNING\n",
    "ERROR\n",
    "CRITICAL"
   ]
  },
  {
   "cell_type": "code",
   "execution_count": 3,
   "id": "a3ccc684-8a3f-4ab5-bfb5-7a8996bbe788",
   "metadata": {},
   "outputs": [],
   "source": [
    "def divzero(a,b):\n",
    "    logging.info('This is start of code and i am try to enter %s and %s: ',a,b)\n",
    "    try:\n",
    "        div = a/b\n",
    "        logging.info('Excuted successfully')\n",
    "    except Exception as e:\n",
    "        logging.error('Error has happend')\n",
    "        logging.exception('Exception occured ' + str(e))"
   ]
  },
  {
   "cell_type": "code",
   "execution_count": 4,
   "id": "3f69b654-d25b-4e63-94a4-d1eba300cbcc",
   "metadata": {},
   "outputs": [],
   "source": [
    "divzero(4,5)"
   ]
  },
  {
   "cell_type": "code",
   "execution_count": 5,
   "id": "61394d74-c32e-4586-8cee-d6dfc319708b",
   "metadata": {},
   "outputs": [],
   "source": [
    "divzero(5,0)"
   ]
  },
  {
   "cell_type": "code",
   "execution_count": null,
   "id": "0c191673-8297-494b-ada5-d5582491315a",
   "metadata": {},
   "outputs": [],
   "source": []
  }
 ],
 "metadata": {
  "kernelspec": {
   "display_name": "Python 3 (ipykernel)",
   "language": "python",
   "name": "python3"
  },
  "language_info": {
   "codemirror_mode": {
    "name": "ipython",
    "version": 3
   },
   "file_extension": ".py",
   "mimetype": "text/x-python",
   "name": "python",
   "nbconvert_exporter": "python",
   "pygments_lexer": "ipython3",
   "version": "3.10.6"
  }
 },
 "nbformat": 4,
 "nbformat_minor": 5
}
