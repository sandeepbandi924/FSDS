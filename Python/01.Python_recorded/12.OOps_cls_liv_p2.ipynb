{
 "cells": [
  {
   "cell_type": "code",
   "execution_count": 1,
   "id": "018ff140-d57b-460d-bae6-136e52a6fadc",
   "metadata": {},
   "outputs": [],
   "source": [
    "class test:\n",
    "    def meth1(self):\n",
    "        return 'This is method one'\n",
    "    "
   ]
  },
  {
   "cell_type": "code",
   "execution_count": 2,
   "id": "5367a255-ed84-449b-873c-4f987894129f",
   "metadata": {},
   "outputs": [],
   "source": [
    "a = test()"
   ]
  },
  {
   "cell_type": "code",
   "execution_count": 3,
   "id": "bf30aae9-cd07-4dad-88ab-52516740510b",
   "metadata": {},
   "outputs": [
    {
     "data": {
      "text/plain": [
       "'This is method one'"
      ]
     },
     "execution_count": 3,
     "metadata": {},
     "output_type": "execute_result"
    }
   ],
   "source": [
    "a.meth1()"
   ]
  },
  {
   "cell_type": "code",
   "execution_count": null,
   "id": "da06821d-d52c-4678-8010-6b1a96733091",
   "metadata": {},
   "outputs": [],
   "source": []
  },
  {
   "cell_type": "code",
   "execution_count": 4,
   "id": "50aa405a-c004-4e1d-ad12-eee638d3a469",
   "metadata": {},
   "outputs": [],
   "source": [
    "class test1:\n",
    "    @staticmethod\n",
    "    def meth1():\n",
    "        return 'this is method we can access  without creating object'\n",
    "    \n",
    "    def meth2(self):\n",
    "        return 'this is method without static'"
   ]
  },
  {
   "cell_type": "code",
   "execution_count": 5,
   "id": "f44189a5-8011-4646-a8d1-4955ea6e744e",
   "metadata": {},
   "outputs": [],
   "source": [
    "b = test1()"
   ]
  },
  {
   "cell_type": "code",
   "execution_count": 6,
   "id": "373bf75a-c59a-41bf-a8e3-d1562a91aed3",
   "metadata": {},
   "outputs": [
    {
     "data": {
      "text/plain": [
       "'this is method we can access  without creating object'"
      ]
     },
     "execution_count": 6,
     "metadata": {},
     "output_type": "execute_result"
    }
   ],
   "source": [
    "test1.meth1()"
   ]
  },
  {
   "cell_type": "raw",
   "id": "ccdc0bf7-e78b-47e7-8bc8-3edd465bbe16",
   "metadata": {},
   "source": [
    "b.meth1()"
   ]
  },
  {
   "cell_type": "code",
   "execution_count": 7,
   "id": "274cf771-c326-404b-a24e-d4eafa84fd2e",
   "metadata": {},
   "outputs": [
    {
     "data": {
      "text/plain": [
       "'this is method without static'"
      ]
     },
     "execution_count": 7,
     "metadata": {},
     "output_type": "execute_result"
    }
   ],
   "source": [
    "b.meth2()"
   ]
  },
  {
   "cell_type": "code",
   "execution_count": 8,
   "id": "23b09ed1-c948-4b7c-a5be-97b360030a8f",
   "metadata": {},
   "outputs": [],
   "source": [
    "class test2:\n",
    "    def __init__(self, a, b, c):\n",
    "        self.a = a\n",
    "        self.b = b\n",
    "        self.c1 = c\n",
    "        \n",
    "    def meth1(self):\n",
    "        return 'This is my meth 1'\n",
    "    \n",
    "    def meth2(self,n):\n",
    "        return n\n",
    "\n",
    "    def meth3(self, m):\n",
    "        return m"
   ]
  },
  {
   "cell_type": "code",
   "execution_count": 12,
   "id": "93a04af9-09b6-4418-98dd-df84f5d40182",
   "metadata": {},
   "outputs": [],
   "source": [
    "a_test2 = test2('sand', 34,'kumar')"
   ]
  },
  {
   "cell_type": "code",
   "execution_count": 13,
   "id": "4bf676de-314b-4843-8d62-1ea4b70f9baf",
   "metadata": {},
   "outputs": [],
   "source": [
    "b_test2 = test2('animals', 23 , 'tiger')"
   ]
  },
  {
   "cell_type": "code",
   "execution_count": 15,
   "id": "edf409b3-61ce-407f-a3bb-f9f79646dd18",
   "metadata": {},
   "outputs": [],
   "source": [
    "c_test2 = test2('annu', 45 , 'rana')"
   ]
  },
  {
   "cell_type": "code",
   "execution_count": 16,
   "id": "c94adce2-0959-4766-8b05-c9bfe726429c",
   "metadata": {},
   "outputs": [],
   "source": [
    "#Inheritance"
   ]
  },
  {
   "cell_type": "code",
   "execution_count": 20,
   "id": "e8bd5860-462a-4ee4-b69d-99c1d70b3f4b",
   "metadata": {},
   "outputs": [],
   "source": [
    "#multiple\n",
    "class parent1 :\n",
    "    \n",
    "    def parent_meth(self):\n",
    "        return 'this is a parent meth in parent1 class'\n",
    "\n",
    "class parent2 :\n",
    "    \n",
    "    def parent_meth2(self):\n",
    "        return 'this is a parent meth 2'\n",
    "\n",
    "class parent3 :\n",
    "    \n",
    "    def parent_meth3(self):\n",
    "        return 'this is a parent meth 3'\n",
    "    \n",
    "class child(parent1 ,parent2 , parent3):\n",
    "    \n",
    "    def child_meth(self):\n",
    "        return 'this is a chlid meth'"
   ]
  },
  {
   "cell_type": "code",
   "execution_count": 21,
   "id": "9c60e093-092d-4b68-9091-58ccb38ca33c",
   "metadata": {},
   "outputs": [],
   "source": [
    "var_char = child()"
   ]
  },
  {
   "cell_type": "code",
   "execution_count": 24,
   "id": "7d0899aa-f9cc-457a-b822-403c2efab2d3",
   "metadata": {},
   "outputs": [
    {
     "data": {
      "text/plain": [
       "'this is a parent meth in parent1 class'"
      ]
     },
     "execution_count": 24,
     "metadata": {},
     "output_type": "execute_result"
    }
   ],
   "source": [
    "var_char.parent_meth()"
   ]
  },
  {
   "cell_type": "code",
   "execution_count": 26,
   "id": "be00c428-5371-40cc-b811-28a5ce9c6d8b",
   "metadata": {},
   "outputs": [
    {
     "data": {
      "text/plain": [
       "'this is a parent meth 2'"
      ]
     },
     "execution_count": 26,
     "metadata": {},
     "output_type": "execute_result"
    }
   ],
   "source": [
    "var_char.parent_meth2()"
   ]
  },
  {
   "cell_type": "code",
   "execution_count": 23,
   "id": "e12f21a9-ca24-4b2b-8f16-1574a6fc352e",
   "metadata": {},
   "outputs": [
    {
     "data": {
      "text/plain": [
       "'this is a parent meth 3'"
      ]
     },
     "execution_count": 23,
     "metadata": {},
     "output_type": "execute_result"
    }
   ],
   "source": [
    "var_char.parent_meth3()"
   ]
  },
  {
   "cell_type": "code",
   "execution_count": 33,
   "id": "a556b65f-86af-4a45-ab31-4d2702704716",
   "metadata": {},
   "outputs": [],
   "source": [
    "#multi-level\n",
    "\n",
    "class Floor1:\n",
    "    \n",
    "    def floor_meth1(self):\n",
    "        return 'Floor1 method'\n",
    "    \n",
    "class Floor2(Floor1):\n",
    "    pass\n",
    "\n",
    "class Floor3(Floor2):\n",
    "    \n",
    "    def florr_meth3(self):\n",
    "        return 'Floor 3 method'"
   ]
  },
  {
   "cell_type": "code",
   "execution_count": 34,
   "id": "7a32bef4-4a8d-4cb1-bc93-5241d10c24f5",
   "metadata": {},
   "outputs": [],
   "source": [
    "var_floor = Floor3()"
   ]
  },
  {
   "cell_type": "code",
   "execution_count": 35,
   "id": "f2de29e1-c9bc-42cc-8a74-cbea21833442",
   "metadata": {},
   "outputs": [
    {
     "data": {
      "text/plain": [
       "'Floor1 method'"
      ]
     },
     "execution_count": 35,
     "metadata": {},
     "output_type": "execute_result"
    }
   ],
   "source": [
    "var_floor.floor_meth1()"
   ]
  },
  {
   "cell_type": "code",
   "execution_count": 36,
   "id": "bf0a43cf-68c4-44bf-98f7-00751a7bfd41",
   "metadata": {},
   "outputs": [],
   "source": [
    "#method overridding : method name and parameters wiil be same , but we will change the def of function\n",
    "class test5: \n",
    "    def test(self):\n",
    "        return 'This is test method'\n",
    "    \n",
    "class test6 :\n",
    "     def test(self):\n",
    "            return 'This is meth from class test6'\n",
    "        \n",
    "class test7(test5):\n",
    "    \n",
    "    def test(self):\n",
    "        return 'This is my test from test7'"
   ]
  },
  {
   "cell_type": "code",
   "execution_count": 38,
   "id": "ce2c29be-d027-40a7-b4a7-374fdeef157e",
   "metadata": {},
   "outputs": [],
   "source": [
    "var_test7 = test7()"
   ]
  },
  {
   "cell_type": "code",
   "execution_count": 39,
   "id": "4c080030-2014-4a36-8217-48eb3ebeadf7",
   "metadata": {},
   "outputs": [
    {
     "data": {
      "text/plain": [
       "'This is my test from test7'"
      ]
     },
     "execution_count": 39,
     "metadata": {},
     "output_type": "execute_result"
    }
   ],
   "source": [
    "var_test7.test()  #method overridding: re-define function"
   ]
  },
  {
   "cell_type": "code",
   "execution_count": 40,
   "id": "2e91a1e1-76e0-4ba5-9686-e8ad06511f80",
   "metadata": {},
   "outputs": [],
   "source": [
    "#metho overloading : method name is same, but its arguments or return ytype is change\n",
    "class test8 :\n",
    "    \n",
    "    def test(self, c = 5 , b = 4 , d = 7):\n",
    "        return c , b , d"
   ]
  },
  {
   "cell_type": "code",
   "execution_count": 41,
   "id": "2f683ad9-8ff3-4114-bddf-167e389c49fd",
   "metadata": {},
   "outputs": [],
   "source": [
    "var_test8 = test8()"
   ]
  },
  {
   "cell_type": "code",
   "execution_count": 42,
   "id": "2d792f05-ba45-4b9f-a583-dd1e46356ba8",
   "metadata": {},
   "outputs": [
    {
     "data": {
      "text/plain": [
       "(5, 4, 7)"
      ]
     },
     "execution_count": 42,
     "metadata": {},
     "output_type": "execute_result"
    }
   ],
   "source": [
    "var_test8.test()"
   ]
  },
  {
   "cell_type": "code",
   "execution_count": 43,
   "id": "d6f4ffe3-f44c-4ce9-9b1b-4ffc6e15bea5",
   "metadata": {},
   "outputs": [
    {
     "data": {
      "text/plain": [
       "('sand', 4, 7)"
      ]
     },
     "execution_count": 43,
     "metadata": {},
     "output_type": "execute_result"
    }
   ],
   "source": [
    "var_test8.test('sand')"
   ]
  },
  {
   "cell_type": "code",
   "execution_count": 45,
   "id": "e5348cd6-383c-402c-8922-ce04bfb0b3e7",
   "metadata": {},
   "outputs": [
    {
     "data": {
      "text/plain": [
       "('sand', 'kumar', 7)"
      ]
     },
     "execution_count": 45,
     "metadata": {},
     "output_type": "execute_result"
    }
   ],
   "source": [
    "var_test8.test('sand' , 'kumar')"
   ]
  },
  {
   "cell_type": "code",
   "execution_count": 46,
   "id": "b00a39b5-7af5-416c-9af8-4bbfbf85a34c",
   "metadata": {},
   "outputs": [],
   "source": [
    "#polymorphism : same entity but its behaviour is differnt differnt from sutiation"
   ]
  },
  {
   "cell_type": "code",
   "execution_count": 47,
   "id": "04563bb9-1112-4d19-b2e8-e194442436f7",
   "metadata": {},
   "outputs": [],
   "source": [
    "def test(a,b):\n",
    "    return a+b"
   ]
  },
  {
   "cell_type": "code",
   "execution_count": 48,
   "id": "7023d737-415a-4151-9fa3-0c76d186b358",
   "metadata": {},
   "outputs": [
    {
     "data": {
      "text/plain": [
       "7"
      ]
     },
     "execution_count": 48,
     "metadata": {},
     "output_type": "execute_result"
    }
   ],
   "source": [
    "test(3,4)"
   ]
  },
  {
   "cell_type": "code",
   "execution_count": 51,
   "id": "955aec3f-eafe-4aff-bf6d-95ce8a6df9fc",
   "metadata": {},
   "outputs": [
    {
     "data": {
      "text/plain": [
       "'Sand kumar'"
      ]
     },
     "execution_count": 51,
     "metadata": {},
     "output_type": "execute_result"
    }
   ],
   "source": [
    "test('Sand ', 'kumar')"
   ]
  },
  {
   "cell_type": "code",
   "execution_count": 52,
   "id": "eb7bd67a-b6c6-4c37-a85f-645a75e5468a",
   "metadata": {},
   "outputs": [],
   "source": [
    "#object is not changing but its outcome will change"
   ]
  },
  {
   "cell_type": "code",
   "execution_count": 55,
   "id": "c818420b-3786-4595-8b0b-e12fc8fc62cd",
   "metadata": {},
   "outputs": [],
   "source": [
    "class test1 :\n",
    "    \n",
    "    def test(self):\n",
    "        return 'this is method form test1'\n",
    "\n",
    "class test2 :\n",
    "    \n",
    "    def test(self):\n",
    "        return 'this is method form test2'\n",
    "    \n",
    "class test3 :\n",
    "    def test(self):\n",
    "        return 'this is method from test3'"
   ]
  },
  {
   "cell_type": "code",
   "execution_count": 56,
   "id": "a8e5f2b0-3c07-4eb1-92f8-1abd4cd83cdc",
   "metadata": {},
   "outputs": [],
   "source": [
    "var_class = [test1() , test2() , test3()]"
   ]
  },
  {
   "cell_type": "code",
   "execution_count": 61,
   "id": "c808cb9d-8bf4-4870-8e85-7493c59e57ef",
   "metadata": {},
   "outputs": [
    {
     "name": "stdout",
     "output_type": "stream",
     "text": [
      "this is method form test1\n",
      "this is method form test2\n",
      "this is method from test3\n"
     ]
    }
   ],
   "source": [
    "for i in var_class:\n",
    "    print(i.test())\n",
    "\n",
    "#the same object but is behaving differntly"
   ]
  },
  {
   "cell_type": "code",
   "execution_count": 62,
   "id": "9defd0dc-357d-459e-aa0c-aa295d6b7f4b",
   "metadata": {},
   "outputs": [],
   "source": [
    "#q1 : create a file class for reading a data from one of the file with a method name read and write\n",
    "#use logging , exception handling"
   ]
  },
  {
   "cell_type": "code",
   "execution_count": null,
   "id": "902b6a00-8a09-4241-8623-3970afb3f7bb",
   "metadata": {},
   "outputs": [],
   "source": []
  },
  {
   "cell_type": "code",
   "execution_count": 65,
   "id": "4cda8724-e0b3-4701-8171-b18d3f65a30f",
   "metadata": {},
   "outputs": [],
   "source": [
    "def read():\n",
    "    try:\n",
    "        with open('test.txt' , 'r') as file :\n",
    "            data = file.read()\n",
    "            return data\n",
    "    except Exception as e :\n",
    "        print(e)\n",
    "    "
   ]
  },
  {
   "cell_type": "code",
   "execution_count": 66,
   "id": "e9c88015-0d16-422b-9cad-c4cc59ba6c71",
   "metadata": {},
   "outputs": [
    {
     "name": "stdout",
     "output_type": "stream",
     "text": [
      "[Errno 2] No such file or directory: 'test.txt'\n"
     ]
    }
   ],
   "source": [
    "read()"
   ]
  },
  {
   "cell_type": "code",
   "execution_count": 67,
   "id": "60b3d37b-1967-4922-a54d-356a75208073",
   "metadata": {},
   "outputs": [],
   "source": [
    "def write():\n",
    "    with open('test.txt' , 'w') as file:\n",
    "        data = file.write('This is my data for file')"
   ]
  },
  {
   "cell_type": "code",
   "execution_count": 68,
   "id": "4a86f7e0-0578-4828-b7dc-eabfc07651df",
   "metadata": {},
   "outputs": [],
   "source": [
    "write()"
   ]
  },
  {
   "cell_type": "code",
   "execution_count": 100,
   "id": "491ca396-c7aa-4cab-8f50-b7f693d8b9c4",
   "metadata": {},
   "outputs": [],
   "source": [
    "import logging \n",
    "logging.basicConfig(filename='file_class.log', level = logging.DEBUG ,filemode='w' , format = '%(asctime)s %(levelname)s %(message)s')\n",
    "\n",
    "class File :\n",
    "    def __init__(self , filename):\n",
    "        self.filename = filename\n",
    "    \n",
    "    def read(self):\n",
    "        logging.info('This is a start of read operation ')\n",
    "        try:\n",
    "            logging.info('i am inside try block of read method')\n",
    "            with open(self.filename , 'r') as file :\n",
    "                data = file.read()\n",
    "                logging.info('this is able to read the file')\n",
    "                return data\n",
    "        except Exception as e :\n",
    "            #print(e)\n",
    "            logging.error('There is some is with the read file operation')\n",
    "            logging.error(e)\n",
    "    def write(self,data1):\n",
    "        logging.info('This is a start of write operation ')\n",
    "        try:\n",
    "            logging.info('i am inside try block of write method')\n",
    "            with open(self.filename , 'a') as file:\n",
    "                data = file.write(data1)\n",
    "                logging.info('i am to write a data into file successfully')\n",
    "        except Exception as e :\n",
    "            #print(e)\n",
    "            logging.error('There is some is with write operation')\n",
    "            logging.error(e)"
   ]
  },
  {
   "cell_type": "code",
   "execution_count": 101,
   "id": "a278e56c-fbbc-4d33-a6a9-6e8035fe9a40",
   "metadata": {},
   "outputs": [
    {
     "data": {
      "text/plain": [
       "'This is my data written inside the file  '"
      ]
     },
     "execution_count": 101,
     "metadata": {},
     "output_type": "execute_result"
    }
   ],
   "source": [
    "file_obj = File('test10.txt')\n",
    "file_obj.read()"
   ]
  },
  {
   "cell_type": "code",
   "execution_count": 102,
   "id": "f7f447d9-3fc1-4c74-b723-599341465482",
   "metadata": {},
   "outputs": [],
   "source": [
    "file_obj.write('This is my data written inside the file  ')"
   ]
  },
  {
   "cell_type": "code",
   "execution_count": 103,
   "id": "f3f30668-cc80-4ca0-9d9a-4e3ec113db72",
   "metadata": {},
   "outputs": [
    {
     "data": {
      "text/plain": [
       "'This is my data written inside the file  This is my data written inside the file  '"
      ]
     },
     "execution_count": 103,
     "metadata": {},
     "output_type": "execute_result"
    }
   ],
   "source": [
    "file_obj.read()"
   ]
  },
  {
   "cell_type": "code",
   "execution_count": 104,
   "id": "44a2bd92-8883-45c0-b808-f940baf28dc9",
   "metadata": {},
   "outputs": [
    {
     "name": "stdout",
     "output_type": "stream",
     "text": [
      " 01.Basics.ipynb                      12.OOps_cls_liv_p2.ipynb\n",
      "'02.String,List and Indexing.ipynb'   file_class.log\n",
      "'03.Tuple, Set & Dict.ipynb'          FunctionSolutions.ipynb\n",
      "'04.If,Else & For Loop.ipynb'         google.txt\n",
      "'05.For & while loops.ipynb'          mydict.py\n",
      " 06.Functions_P1.ipynb                my_module.py\n",
      " 06.Functions_P2.ipynb                \u001b[0m\u001b[01;34m__pycache__\u001b[0m/\n",
      "'07.Iter,Gen&File System.ipynb'      '[self.name].txt'\n",
      " 08.ExceptionHandling.ipynb           test10.txt\n",
      " 09.Logging.ipynb                     test1.log\n",
      "'10.Modules and Packages.ipynb'       test1.py\n",
      " 11.OOPs_Demo.ipynb                   test2.log\n",
      " 11.OOPs_P1.ipynb                     test.log\n",
      " 11.OOPs_P2.ipynb                     test.py\n",
      " 11.OOPs_P3.ipynb                     test.txt\n",
      " 12.OOps_cls_liv_p1.ipynb\n"
     ]
    }
   ],
   "source": [
    "ls"
   ]
  },
  {
   "cell_type": "code",
   "execution_count": 109,
   "id": "5c0d1f76-1e12-4db1-988f-9e27a95332ec",
   "metadata": {},
   "outputs": [
    {
     "data": {
      "text/plain": [
       "'/home/jovyan/work'"
      ]
     },
     "execution_count": 109,
     "metadata": {},
     "output_type": "execute_result"
    }
   ],
   "source": [
    "import os\n",
    "os.getcwd()"
   ]
  },
  {
   "cell_type": "code",
   "execution_count": null,
   "id": "1490015a-c995-434f-a4c4-3d81b02bef0e",
   "metadata": {},
   "outputs": [],
   "source": [
    "q1. create your own class to perform list operations\n",
    "q2. create a class for dict new element addition\n",
    "q3. create a class for tuple data extraction operation\n",
    "q4. create a class to implement all insert , update , delete operation for mysql\n",
    "q5. create a class to implement all insert , update , delete operation for mongodb\n",
    "q6. create a class to perform append and delete operation in a file and inherit it in child class\n",
    "q7. create a class to import data into file from mongodb\n",
    "q8. craete a class to build a calculator funactalities add,sub,mul,div,log,exp,pow\n",
    "q9. craete a class method to find time and space complexity of any function\n",
    "q10. craete a class to do a bulk upload of a file in mysql\n",
    "q11. Give 10 diff examples of polymorphism, encapsulation, data astarction , overloading , overridding, multiple inheritance\n",
    "q12. Try to explore a meaning of '->' this signature in python"
   ]
  }
 ],
 "metadata": {
  "kernelspec": {
   "display_name": "Python 3 (ipykernel)",
   "language": "python",
   "name": "python3"
  },
  "language_info": {
   "codemirror_mode": {
    "name": "ipython",
    "version": 3
   },
   "file_extension": ".py",
   "mimetype": "text/x-python",
   "name": "python",
   "nbconvert_exporter": "python",
   "pygments_lexer": "ipython3",
   "version": "3.10.6"
  }
 },
 "nbformat": 4,
 "nbformat_minor": 5
}
