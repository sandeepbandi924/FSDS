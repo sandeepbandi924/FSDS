{
 "cells": [
  {
   "cell_type": "code",
   "execution_count": 1,
   "id": "fe6f8ab5-c38d-4bcd-a6e7-774b2823b7c5",
   "metadata": {},
   "outputs": [],
   "source": [
    "def test(a,b,c,d,e):\n",
    "    return a,b,c,d,e"
   ]
  },
  {
   "cell_type": "code",
   "execution_count": 2,
   "id": "f38b3131-1e90-4baa-9aac-9d4fc73b75af",
   "metadata": {},
   "outputs": [
    {
     "data": {
      "text/plain": [
       "(34, 65, 98, 23, 78)"
      ]
     },
     "execution_count": 2,
     "metadata": {},
     "output_type": "execute_result"
    }
   ],
   "source": [
    "test(34,65,98,23,78)"
   ]
  },
  {
   "cell_type": "code",
   "execution_count": 5,
   "id": "bcda428b-6d99-4d1a-a7f2-3100fecfe187",
   "metadata": {},
   "outputs": [],
   "source": [
    "def test1(*args):\n",
    "    return args"
   ]
  },
  {
   "cell_type": "code",
   "execution_count": 6,
   "id": "3e92387e-5ccb-4775-a3e2-55041ecf176a",
   "metadata": {},
   "outputs": [
    {
     "data": {
      "text/plain": [
       "(45, 65, 87)"
      ]
     },
     "execution_count": 6,
     "metadata": {},
     "output_type": "execute_result"
    }
   ],
   "source": [
    "test1(45,65,87)"
   ]
  },
  {
   "cell_type": "code",
   "execution_count": 7,
   "id": "f6acc954-2f36-48e4-908c-7a6d85c6a5a7",
   "metadata": {},
   "outputs": [
    {
     "data": {
      "text/plain": [
       "(45, 'sand', (1, 2, 3), [6, 5, 4], (56+78j))"
      ]
     },
     "execution_count": 7,
     "metadata": {},
     "output_type": "execute_result"
    }
   ],
   "source": [
    "test1(45,'sand',(1,2,3),[6,5,4],56+78j)"
   ]
  },
  {
   "cell_type": "code",
   "execution_count": 8,
   "id": "9efdd2aa-e78b-4258-83d7-76e19978fab7",
   "metadata": {},
   "outputs": [],
   "source": [
    "def test2(*sand):\n",
    "    return sand"
   ]
  },
  {
   "cell_type": "code",
   "execution_count": 9,
   "id": "b393b2cd-4b4e-44f2-9dc7-b9087a9ca89d",
   "metadata": {},
   "outputs": [
    {
     "data": {
      "text/plain": [
       "('sandeep', 'dgjsh', 456, 87)"
      ]
     },
     "execution_count": 9,
     "metadata": {},
     "output_type": "execute_result"
    }
   ],
   "source": [
    "test2('sandeep','dgjsh',456,87)"
   ]
  },
  {
   "cell_type": "code",
   "execution_count": 13,
   "id": "acb87e68-9afa-4ce1-a8da-839845a56d2b",
   "metadata": {},
   "outputs": [],
   "source": [
    "def test3(*sand, a):\n",
    "    return sand,a"
   ]
  },
  {
   "cell_type": "code",
   "execution_count": 14,
   "id": "d46b54e9-866a-407c-b7ba-8d346283615f",
   "metadata": {},
   "outputs": [
    {
     "ename": "TypeError",
     "evalue": "test3() missing 1 required keyword-only argument: 'a'",
     "output_type": "error",
     "traceback": [
      "\u001b[0;31m---------------------------------------------------------------------------\u001b[0m",
      "\u001b[0;31mTypeError\u001b[0m                                 Traceback (most recent call last)",
      "Cell \u001b[0;32mIn [14], line 1\u001b[0m\n\u001b[0;32m----> 1\u001b[0m \u001b[43mtest3\u001b[49m\u001b[43m(\u001b[49m\u001b[38;5;241;43m34\u001b[39;49m\u001b[43m,\u001b[49m\u001b[38;5;241;43m54\u001b[39;49m\u001b[43m,\u001b[49m\u001b[38;5;241;43m767\u001b[39;49m\u001b[43m)\u001b[49m\n",
      "\u001b[0;31mTypeError\u001b[0m: test3() missing 1 required keyword-only argument: 'a'"
     ]
    }
   ],
   "source": [
    "test3(34,54,767)"
   ]
  },
  {
   "cell_type": "code",
   "execution_count": 15,
   "id": "ca612e89-0c6f-41cd-b328-37d67228afcb",
   "metadata": {},
   "outputs": [
    {
     "data": {
      "text/plain": [
       "((34, 54, 767), 90)"
      ]
     },
     "execution_count": 15,
     "metadata": {},
     "output_type": "execute_result"
    }
   ],
   "source": [
    "test3(34,54,767,a=90)"
   ]
  },
  {
   "cell_type": "code",
   "execution_count": 17,
   "id": "ced139f1-1b9f-4a98-9c6e-48f959746622",
   "metadata": {},
   "outputs": [],
   "source": [
    "def test4(*sand,a,b,c,d):\n",
    "    return sand,a,b,c,d"
   ]
  },
  {
   "cell_type": "code",
   "execution_count": 20,
   "id": "5d7a4be4-42e6-4361-b50e-1d175349a75c",
   "metadata": {},
   "outputs": [
    {
     "data": {
      "text/plain": [
       "((45, 65, 8, 54), 12, [32, 65, 'fgf'], 'ksjh', 86)"
      ]
     },
     "execution_count": 20,
     "metadata": {},
     "output_type": "execute_result"
    }
   ],
   "source": [
    "test4(45,65,8,54,a = 12,b=[32,65,'fgf'],c='ksjh',d=86)"
   ]
  },
  {
   "cell_type": "code",
   "execution_count": 21,
   "id": "ca099988-7d73-43b0-92bc-09b5c90c730c",
   "metadata": {},
   "outputs": [],
   "source": [
    "def test5(a,*sand,b,c):\n",
    "    return a , sand,b,c "
   ]
  },
  {
   "cell_type": "code",
   "execution_count": 22,
   "id": "03125085-d581-4a0a-bcdb-5718a00cc027",
   "metadata": {},
   "outputs": [
    {
     "data": {
      "text/plain": [
       "('gssg', (45, 68, 97, 'dfhdhj'), 45, 'yyshdyd')"
      ]
     },
     "execution_count": 22,
     "metadata": {},
     "output_type": "execute_result"
    }
   ],
   "source": [
    "test5('gssg',45,68,97,'dfhdhj',b=45,c='yyshdyd')"
   ]
  },
  {
   "cell_type": "code",
   "execution_count": 28,
   "id": "2f5bce61-6751-43d7-89de-2c50c80b6115",
   "metadata": {},
   "outputs": [],
   "source": [
    "def test6(*args):\n",
    "    l = []\n",
    "    for i in args:\n",
    "        if type(i)==list:\n",
    "            l.append(i)\n",
    "    return l"
   ]
  },
  {
   "cell_type": "code",
   "execution_count": 29,
   "id": "a2cdafcb-6439-4947-9963-738628f78bd3",
   "metadata": {},
   "outputs": [
    {
     "data": {
      "text/plain": [
       "[[1, 2, 3]]"
      ]
     },
     "execution_count": 29,
     "metadata": {},
     "output_type": "execute_result"
    }
   ],
   "source": [
    "test6(45,'saudy',[1,2,3],'djhd')"
   ]
  },
  {
   "cell_type": "code",
   "execution_count": 30,
   "id": "7d63b468-4182-4d82-899c-57429396fdfc",
   "metadata": {},
   "outputs": [
    {
     "data": {
      "text/plain": [
       "[[1, 2, 3], [456, 'ghsg', 897]]"
      ]
     },
     "execution_count": 30,
     "metadata": {},
     "output_type": "execute_result"
    }
   ],
   "source": [
    "test6(45,'saudy', [1,2,3], [456,'ghsg',897])"
   ]
  },
  {
   "cell_type": "code",
   "execution_count": 31,
   "id": "cb427985-6c40-496d-b317-a76354a98704",
   "metadata": {},
   "outputs": [],
   "source": [
    "d = {'a':[23,4,5,6,7,8], 6 : ['san',46,87,65,31]}"
   ]
  },
  {
   "cell_type": "code",
   "execution_count": 32,
   "id": "d7c5f507-c1b2-4f8e-857d-696bb88fead4",
   "metadata": {},
   "outputs": [
    {
     "data": {
      "text/plain": [
       "[23, 4, 5, 6, 7, 8]"
      ]
     },
     "execution_count": 32,
     "metadata": {},
     "output_type": "execute_result"
    }
   ],
   "source": [
    "d['a']"
   ]
  },
  {
   "cell_type": "code",
   "execution_count": 33,
   "id": "ce24dbde-25a0-48f3-b4cb-e03f17254fe2",
   "metadata": {},
   "outputs": [],
   "source": [
    "def test7(**kwargs):\n",
    "    return kwargs"
   ]
  },
  {
   "cell_type": "code",
   "execution_count": 34,
   "id": "568d45b3-464d-4ec2-b1cb-15bb9e444cd9",
   "metadata": {},
   "outputs": [
    {
     "ename": "TypeError",
     "evalue": "test7() takes 0 positional arguments but 5 were given",
     "output_type": "error",
     "traceback": [
      "\u001b[0;31m---------------------------------------------------------------------------\u001b[0m",
      "\u001b[0;31mTypeError\u001b[0m                                 Traceback (most recent call last)",
      "Cell \u001b[0;32mIn [34], line 1\u001b[0m\n\u001b[0;32m----> 1\u001b[0m \u001b[43mtest7\u001b[49m\u001b[43m(\u001b[49m\u001b[38;5;241;43m45\u001b[39;49m\u001b[43m,\u001b[49m\u001b[38;5;241;43m65\u001b[39;49m\u001b[43m,\u001b[49m\u001b[38;5;241;43m87\u001b[39;49m\u001b[43m,\u001b[49m\u001b[38;5;241;43m9\u001b[39;49m\u001b[43m,\u001b[49m\u001b[38;5;241;43m6\u001b[39;49m\u001b[43m)\u001b[49m\n",
      "\u001b[0;31mTypeError\u001b[0m: test7() takes 0 positional arguments but 5 were given"
     ]
    }
   ],
   "source": [
    "test7(45,65,87,9,6)"
   ]
  },
  {
   "cell_type": "code",
   "execution_count": 35,
   "id": "8d096b22-001c-463a-9962-d57aa7505ecb",
   "metadata": {},
   "outputs": [
    {
     "data": {
      "text/plain": [
       "{'a': 7, 'b': [45, 65, 98, 32], 'c': 'sandeep'}"
      ]
     },
     "execution_count": 35,
     "metadata": {},
     "output_type": "execute_result"
    }
   ],
   "source": [
    "test7(a = 7, b = [45,65,98,32], c = 'sandeep')"
   ]
  },
  {
   "cell_type": "code",
   "execution_count": 36,
   "id": "ca06d5ed-742f-496b-8c74-8d737dadf79a",
   "metadata": {},
   "outputs": [],
   "source": [
    "def test8(**sand):\n",
    "    return sand"
   ]
  },
  {
   "cell_type": "code",
   "execution_count": 37,
   "id": "ff0c7a66-0fb1-407b-aa73-2f652166d988",
   "metadata": {},
   "outputs": [
    {
     "data": {
      "text/plain": [
       "{'b': 787, 'g': 235, 'f': [78, 98, 65, 'sand']}"
      ]
     },
     "execution_count": 37,
     "metadata": {},
     "output_type": "execute_result"
    }
   ],
   "source": [
    "test8(b = 787, g = 235 , f = [78,98,65,'sand'])"
   ]
  },
  {
   "cell_type": "code",
   "execution_count": 38,
   "id": "5ab52e7d-040b-4bdd-b2af-235686446fa2",
   "metadata": {},
   "outputs": [],
   "source": [
    "def test9(**sand):\n",
    "    return sand"
   ]
  },
  {
   "cell_type": "code",
   "execution_count": 40,
   "id": "a98ca559-bcd5-490b-b4b8-57c5ef0c7134",
   "metadata": {},
   "outputs": [
    {
     "data": {
      "text/plain": [
       "{'name': 'sand', 'age': 24, 'phone_num': 987654, 'mail_id': 'ssgsh@xyz.com'}"
      ]
     },
     "execution_count": 40,
     "metadata": {},
     "output_type": "execute_result"
    }
   ],
   "source": [
    "test9(name = 'sand', age = 24 , phone_num = 987654 , mail_id = 'ssgsh@xyz.com')"
   ]
  },
  {
   "cell_type": "code",
   "execution_count": 41,
   "id": "5a21275a-0ae5-4f60-bbbc-1d6ca59ad2b8",
   "metadata": {},
   "outputs": [],
   "source": [
    "def test10(a , **sand):\n",
    "    return sand , a"
   ]
  },
  {
   "cell_type": "code",
   "execution_count": 43,
   "id": "efa2ce4f-c9fc-46e1-8d9c-1edcebfb2047",
   "metadata": {},
   "outputs": [
    {
     "data": {
      "text/plain": [
       "({'t': 10, 'b': 78, 'c': 98}, 45)"
      ]
     },
     "execution_count": 43,
     "metadata": {},
     "output_type": "execute_result"
    }
   ],
   "source": [
    "test10(45,t=10,b = 78,c=98)"
   ]
  },
  {
   "cell_type": "code",
   "execution_count": 45,
   "id": "e9958ab9-e580-4dac-9087-af8c8ced9152",
   "metadata": {},
   "outputs": [
    {
     "ename": "SyntaxError",
     "evalue": "invalid syntax (2040703349.py, line 1)",
     "output_type": "error",
     "traceback": [
      "\u001b[0;36m  Cell \u001b[0;32mIn [45], line 1\u001b[0;36m\u001b[0m\n\u001b[0;31m    def test11(a , **sand , *args):\u001b[0m\n\u001b[0m                            ^\u001b[0m\n\u001b[0;31mSyntaxError\u001b[0m\u001b[0;31m:\u001b[0m invalid syntax\n"
     ]
    }
   ],
   "source": [
    "def test11(a , **sand , *args):\n",
    "    return sand , a , args"
   ]
  },
  {
   "cell_type": "code",
   "execution_count": 46,
   "id": "4a206af5-b775-4248-82fa-3e47ec60f06c",
   "metadata": {},
   "outputs": [],
   "source": [
    "def test12(a , *args, **kwargs):\n",
    "    return  a , args, kwargs"
   ]
  },
  {
   "cell_type": "code",
   "execution_count": 47,
   "id": "185a10ff-c573-48a9-893a-7d6b82f6c9d6",
   "metadata": {},
   "outputs": [
    {
     "data": {
      "text/plain": [
       "(45, (65, 98, 7, 63, 2), {'g': 546, 'l': 'sand'})"
      ]
     },
     "execution_count": 47,
     "metadata": {},
     "output_type": "execute_result"
    }
   ],
   "source": [
    "test12(45,65,98,7,63,2,g = 546,l='sand')"
   ]
  },
  {
   "cell_type": "code",
   "execution_count": 48,
   "id": "555ebde5-e791-4bc9-88c8-62620fd511ca",
   "metadata": {},
   "outputs": [],
   "source": [
    "#anonymous function"
   ]
  },
  {
   "cell_type": "code",
   "execution_count": 49,
   "id": "bb3909d4-46c3-411a-9c85-5b0c791fbe23",
   "metadata": {},
   "outputs": [
    {
     "data": {
      "text/plain": [
       "30"
      ]
     },
     "execution_count": 49,
     "metadata": {},
     "output_type": "execute_result"
    }
   ],
   "source": [
    "def test13(a,b):\n",
    "    return a * b\n",
    "test13(5,6)"
   ]
  },
  {
   "cell_type": "code",
   "execution_count": 51,
   "id": "92c5c08e-e03b-4fb7-8ca8-ceecb2319658",
   "metadata": {},
   "outputs": [],
   "source": [
    "d = lambda a, b: a*b "
   ]
  },
  {
   "cell_type": "code",
   "execution_count": 52,
   "id": "c8debd73-9e52-44b2-a842-4570fcb9dd6d",
   "metadata": {},
   "outputs": [
    {
     "data": {
      "text/plain": [
       "30"
      ]
     },
     "execution_count": 52,
     "metadata": {},
     "output_type": "execute_result"
    }
   ],
   "source": [
    "d(5,6)"
   ]
  },
  {
   "cell_type": "code",
   "execution_count": 54,
   "id": "fce4a59d-f34e-4507-8635-c3f87b3065c8",
   "metadata": {},
   "outputs": [],
   "source": [
    "d = lambda a, b: (a*b , a+b)"
   ]
  },
  {
   "cell_type": "code",
   "execution_count": 55,
   "id": "01a6451a-fc5b-4bcb-ace2-0683177c5423",
   "metadata": {},
   "outputs": [
    {
     "data": {
      "text/plain": [
       "(30, 11)"
      ]
     },
     "execution_count": 55,
     "metadata": {},
     "output_type": "execute_result"
    }
   ],
   "source": [
    "d(5,6)"
   ]
  },
  {
   "cell_type": "code",
   "execution_count": 56,
   "id": "d4281366-4f14-4ae1-a64f-7b2b91b8efd8",
   "metadata": {},
   "outputs": [],
   "source": [
    "a = lambda *args : args"
   ]
  },
  {
   "cell_type": "code",
   "execution_count": 57,
   "id": "db4da68f-3fe3-4178-b3ad-795bbc8b2414",
   "metadata": {},
   "outputs": [
    {
     "data": {
      "text/plain": [
       "(45, 65, 98)"
      ]
     },
     "execution_count": 57,
     "metadata": {},
     "output_type": "execute_result"
    }
   ],
   "source": [
    "a(45,65,98)"
   ]
  },
  {
   "cell_type": "code",
   "execution_count": 58,
   "id": "6d8ec1da-145a-4bf9-bea9-226954abbe39",
   "metadata": {},
   "outputs": [],
   "source": [
    "x = lambda x : [i for i in x]"
   ]
  },
  {
   "cell_type": "code",
   "execution_count": 60,
   "id": "8c27f1cd-1cd6-496e-8e93-0e05ad604d59",
   "metadata": {},
   "outputs": [
    {
     "data": {
      "text/plain": [
       "[4, 5, 6, 7]"
      ]
     },
     "execution_count": 60,
     "metadata": {},
     "output_type": "execute_result"
    }
   ],
   "source": [
    "x([4,5,6,7])"
   ]
  },
  {
   "cell_type": "code",
   "execution_count": 61,
   "id": "3a6ae20a-7a91-4e62-803a-c9830e509f81",
   "metadata": {},
   "outputs": [],
   "source": [
    "a = lambda **kwargs : kwargs"
   ]
  },
  {
   "cell_type": "code",
   "execution_count": 62,
   "id": "8c95fec9-c975-46c6-ac30-dc9d9f8358e5",
   "metadata": {},
   "outputs": [
    {
     "data": {
      "text/plain": [
       "{'a': 45, 'b': 65}"
      ]
     },
     "execution_count": 62,
     "metadata": {},
     "output_type": "execute_result"
    }
   ],
   "source": [
    "a(a = 45 , b = 65)"
   ]
  },
  {
   "cell_type": "code",
   "execution_count": 75,
   "id": "3bab63be-e834-4860-a67c-df69c153d972",
   "metadata": {},
   "outputs": [],
   "source": [
    "c = 10\n",
    "def test15(c , d):\n",
    "    c = 5\n",
    "    return c *d"
   ]
  },
  {
   "cell_type": "code",
   "execution_count": 76,
   "id": "9784d877-9bf4-41d7-ad6f-4249e05e840f",
   "metadata": {},
   "outputs": [
    {
     "data": {
      "text/plain": [
       "250"
      ]
     },
     "execution_count": 76,
     "metadata": {},
     "output_type": "execute_result"
    }
   ],
   "source": [
    "test15(10,50)"
   ]
  },
  {
   "cell_type": "code",
   "execution_count": 77,
   "id": "43c0386e-30ac-4bbc-b309-9d940aaa8f43",
   "metadata": {},
   "outputs": [
    {
     "data": {
      "text/plain": [
       "10"
      ]
     },
     "execution_count": 77,
     "metadata": {},
     "output_type": "execute_result"
    }
   ],
   "source": [
    "c"
   ]
  },
  {
   "cell_type": "code",
   "execution_count": null,
   "id": "5ea8a789-837c-48c2-b896-b07d1b55459c",
   "metadata": {},
   "outputs": [],
   "source": [
    "#list comprehension\n"
   ]
  },
  {
   "cell_type": "code",
   "execution_count": 1,
   "id": "4707744f-9319-49c4-98b5-dac1e8cc71ce",
   "metadata": {},
   "outputs": [],
   "source": [
    "l = [1,2,3,4,5,6,7,8,9,10]\n",
    "l1=[]\n",
    "for i in l :\n",
    "    l1.append(i+2)"
   ]
  },
  {
   "cell_type": "code",
   "execution_count": 2,
   "id": "16ed31a9-86aa-4bd1-8d20-42238d6c7ff9",
   "metadata": {},
   "outputs": [
    {
     "data": {
      "text/plain": [
       "[3, 4, 5, 6, 7, 8, 9, 10, 11, 12]"
      ]
     },
     "execution_count": 2,
     "metadata": {},
     "output_type": "execute_result"
    }
   ],
   "source": [
    "l1"
   ]
  },
  {
   "cell_type": "code",
   "execution_count": 7,
   "id": "0e6ae575-b5a0-404a-9f99-d516d1c550a8",
   "metadata": {},
   "outputs": [],
   "source": [
    "def test16(a):\n",
    "    l1=[]\n",
    "    for i in a :\n",
    "        l1.append(i+2)\n",
    "    return l1"
   ]
  },
  {
   "cell_type": "code",
   "execution_count": 8,
   "id": "719172b0-dc60-41e2-aea3-a004ea870b8a",
   "metadata": {},
   "outputs": [
    {
     "data": {
      "text/plain": [
       "[3, 4, 5, 6, 7, 8, 9, 10, 11, 12]"
      ]
     },
     "execution_count": 8,
     "metadata": {},
     "output_type": "execute_result"
    }
   ],
   "source": [
    "test16(l)"
   ]
  },
  {
   "cell_type": "code",
   "execution_count": 9,
   "id": "456cabdf-5346-4022-8292-4fda70dc5d48",
   "metadata": {},
   "outputs": [],
   "source": [
    "a = lambda a : [i+2 for i in a]"
   ]
  },
  {
   "cell_type": "code",
   "execution_count": 10,
   "id": "112e5f8c-1d7c-4abb-ad6c-7418cdc47b4c",
   "metadata": {},
   "outputs": [
    {
     "data": {
      "text/plain": [
       "[3, 4, 5, 6, 7, 8, 9, 10, 11, 12]"
      ]
     },
     "execution_count": 10,
     "metadata": {},
     "output_type": "execute_result"
    }
   ],
   "source": [
    "a(l)"
   ]
  },
  {
   "cell_type": "code",
   "execution_count": 11,
   "id": "22e0bc5f-1d9a-410b-aeb1-7eba55a6aa6f",
   "metadata": {},
   "outputs": [
    {
     "data": {
      "text/plain": [
       "[1, 2, 3, 4, 5, 6, 7, 8, 9, 10]"
      ]
     },
     "execution_count": 11,
     "metadata": {},
     "output_type": "execute_result"
    }
   ],
   "source": [
    "l"
   ]
  },
  {
   "cell_type": "code",
   "execution_count": 12,
   "id": "1a66c703-eb27-438b-97cb-5a12b8c47d73",
   "metadata": {},
   "outputs": [
    {
     "data": {
      "text/plain": [
       "[3, 4, 5, 6, 7, 8, 9, 10, 11, 12]"
      ]
     },
     "execution_count": 12,
     "metadata": {},
     "output_type": "execute_result"
    }
   ],
   "source": [
    "[i+2 for i in l]  #list comprehension"
   ]
  },
  {
   "cell_type": "code",
   "execution_count": 13,
   "id": "0e234fba-7df9-40f9-b824-e83769892f3b",
   "metadata": {},
   "outputs": [
    {
     "data": {
      "text/plain": [
       "[1, 4, 9, 16, 25, 36, 49, 64, 81, 100]"
      ]
     },
     "execution_count": 13,
     "metadata": {},
     "output_type": "execute_result"
    }
   ],
   "source": [
    "[i**2 for i in l]"
   ]
  },
  {
   "cell_type": "code",
   "execution_count": 14,
   "id": "054b9562-3058-40bf-b6f5-c5f1ad6c22f1",
   "metadata": {},
   "outputs": [
    {
     "data": {
      "text/plain": [
       "[(1, 3),\n",
       " (4, 4),\n",
       " (9, 5),\n",
       " (16, 6),\n",
       " (25, 7),\n",
       " (36, 8),\n",
       " (49, 9),\n",
       " (64, 10),\n",
       " (81, 11),\n",
       " (100, 12)]"
      ]
     },
     "execution_count": 14,
     "metadata": {},
     "output_type": "execute_result"
    }
   ],
   "source": [
    "[(i**2,i+2) for i in l]"
   ]
  },
  {
   "cell_type": "code",
   "execution_count": 15,
   "id": "77cf91f8-2be7-44c2-ac1e-d1daed6ffa95",
   "metadata": {},
   "outputs": [
    {
     "data": {
      "text/plain": [
       "[(1, 3), (4, 4), (9, 5)]"
      ]
     },
     "execution_count": 15,
     "metadata": {},
     "output_type": "execute_result"
    }
   ],
   "source": [
    "[(i**2,i+2) for i in l if i < 4]"
   ]
  },
  {
   "cell_type": "code",
   "execution_count": 19,
   "id": "87ca9c22-e352-4fcb-9cfe-c84aee976899",
   "metadata": {},
   "outputs": [],
   "source": [
    "l1 = []\n",
    "for i in l :\n",
    "    if i < 4 :\n",
    "        l1.append((i**2,i+2))"
   ]
  },
  {
   "cell_type": "code",
   "execution_count": 20,
   "id": "dc6d8ebe-b2d6-4867-9f63-d5b4d704c3b8",
   "metadata": {},
   "outputs": [
    {
     "data": {
      "text/plain": [
       "[(1, 3), (4, 4), (9, 5)]"
      ]
     },
     "execution_count": 20,
     "metadata": {},
     "output_type": "execute_result"
    }
   ],
   "source": [
    "l1"
   ]
  },
  {
   "cell_type": "code",
   "execution_count": 21,
   "id": "1c99b921-17db-4d77-a751-fb91c4d51252",
   "metadata": {},
   "outputs": [],
   "source": [
    "d = {1:1,2:4,3:9}"
   ]
  },
  {
   "cell_type": "code",
   "execution_count": 22,
   "id": "afcd22d4-e980-47d1-9d68-d240240f4f92",
   "metadata": {},
   "outputs": [
    {
     "data": {
      "text/plain": [
       "{0: 0, 1: 1, 2: 4, 3: 9, 4: 16, 5: 25, 6: 36, 7: 49, 8: 64, 9: 81}"
      ]
     },
     "execution_count": 22,
     "metadata": {},
     "output_type": "execute_result"
    }
   ],
   "source": [
    "{i:i**2 for i in range(10)}"
   ]
  },
  {
   "cell_type": "code",
   "execution_count": 26,
   "id": "689725d2-1dd4-4d8d-ab03-aeacada489a8",
   "metadata": {},
   "outputs": [],
   "source": [
    "dic={}\n",
    "for i in range(10):\n",
    "    dic[i] = i**2"
   ]
  },
  {
   "cell_type": "code",
   "execution_count": 27,
   "id": "570a75a8-d722-43ee-86ab-c8bedb609e65",
   "metadata": {},
   "outputs": [
    {
     "data": {
      "text/plain": [
       "{0: 0, 1: 1, 2: 4, 3: 9, 4: 16, 5: 25, 6: 36, 7: 49, 8: 64, 9: 81}"
      ]
     },
     "execution_count": 27,
     "metadata": {},
     "output_type": "execute_result"
    }
   ],
   "source": [
    "dic"
   ]
  },
  {
   "cell_type": "code",
   "execution_count": 28,
   "id": "63a1f399-5608-419f-bf51-aa2b956f499a",
   "metadata": {},
   "outputs": [
    {
     "data": {
      "text/plain": [
       "<generator object <genexpr> at 0x7f5a87decac0>"
      ]
     },
     "execution_count": 28,
     "metadata": {},
     "output_type": "execute_result"
    }
   ],
   "source": [
    "(i for i in range(10))"
   ]
  },
  {
   "cell_type": "code",
   "execution_count": 29,
   "id": "11b98122-ba96-4820-89dc-a9fc41307ac6",
   "metadata": {},
   "outputs": [
    {
     "data": {
      "text/plain": [
       "(0, 1, 2, 3, 4, 5, 6, 7, 8, 9)"
      ]
     },
     "execution_count": 29,
     "metadata": {},
     "output_type": "execute_result"
    }
   ],
   "source": [
    "tuple(i for i in range(10))"
   ]
  },
  {
   "cell_type": "code",
   "execution_count": null,
   "id": "dcd0f950-031b-4812-bda9-5bef9a79c79a",
   "metadata": {},
   "outputs": [],
   "source": []
  },
  {
   "cell_type": "code",
   "execution_count": null,
   "id": "fa0b568c-2e45-4c8d-ab55-374af5d1b43c",
   "metadata": {},
   "outputs": [],
   "source": []
  },
  {
   "cell_type": "code",
   "execution_count": 30,
   "id": "44cf095d-f01b-41d3-8100-14b5a3439c97",
   "metadata": {},
   "outputs": [
    {
     "ename": "TypeError",
     "evalue": "'int' object is not iterable",
     "output_type": "error",
     "traceback": [
      "\u001b[0;31m---------------------------------------------------------------------------\u001b[0m",
      "\u001b[0;31mTypeError\u001b[0m                                 Traceback (most recent call last)",
      "Cell \u001b[0;32mIn [30], line 2\u001b[0m\n\u001b[1;32m      1\u001b[0m a \u001b[38;5;241m=\u001b[39m \u001b[38;5;241m10\u001b[39m\n\u001b[0;32m----> 2\u001b[0m \u001b[38;5;28;01mfor\u001b[39;00m i \u001b[38;5;129;01min\u001b[39;00m a :\n\u001b[1;32m      3\u001b[0m     \u001b[38;5;28mprint\u001b[39m(i)\n",
      "\u001b[0;31mTypeError\u001b[0m: 'int' object is not iterable"
     ]
    }
   ],
   "source": [
    "a = 10\n",
    "for i in a :\n",
    "    print(i)"
   ]
  },
  {
   "cell_type": "code",
   "execution_count": 31,
   "id": "495d6312-fb09-4f87-8492-cd05004e58d4",
   "metadata": {},
   "outputs": [
    {
     "name": "stdout",
     "output_type": "stream",
     "text": [
      "s\n",
      "u\n",
      "d\n",
      "h\n"
     ]
    }
   ],
   "source": [
    "s = 'sudh'\n",
    "for i in s :           # str is iterable object\n",
    "    print(i)"
   ]
  },
  {
   "cell_type": "code",
   "execution_count": 32,
   "id": "d84b6e3e-0962-439f-b998-8c74f452fb4a",
   "metadata": {},
   "outputs": [
    {
     "ename": "TypeError",
     "evalue": "'str' object is not an iterator",
     "output_type": "error",
     "traceback": [
      "\u001b[0;31m---------------------------------------------------------------------------\u001b[0m",
      "\u001b[0;31mTypeError\u001b[0m                                 Traceback (most recent call last)",
      "Cell \u001b[0;32mIn [32], line 1\u001b[0m\n\u001b[0;32m----> 1\u001b[0m \u001b[38;5;28;43mnext\u001b[39;49m\u001b[43m(\u001b[49m\u001b[43ms\u001b[49m\u001b[43m)\u001b[49m\n",
      "\u001b[0;31mTypeError\u001b[0m: 'str' object is not an iterator"
     ]
    }
   ],
   "source": [
    "next(s)"
   ]
  },
  {
   "cell_type": "code",
   "execution_count": 35,
   "id": "a7e2e9de-2f9f-48f9-af1e-0e3c82580c04",
   "metadata": {},
   "outputs": [
    {
     "data": {
      "text/plain": [
       "'sudh'"
      ]
     },
     "execution_count": 35,
     "metadata": {},
     "output_type": "execute_result"
    }
   ],
   "source": [
    "s"
   ]
  },
  {
   "cell_type": "code",
   "execution_count": 33,
   "id": "8b1b4eac-c181-41a1-bb36-8d1f26404388",
   "metadata": {},
   "outputs": [],
   "source": [
    "b = iter(s) # convert iterable into iterator"
   ]
  },
  {
   "cell_type": "code",
   "execution_count": 34,
   "id": "48f07dbb-46ef-4f13-b32b-bc5f7d504946",
   "metadata": {},
   "outputs": [
    {
     "data": {
      "text/plain": [
       "<str_iterator at 0x7f5a87c932b0>"
      ]
     },
     "execution_count": 34,
     "metadata": {},
     "output_type": "execute_result"
    }
   ],
   "source": [
    "b"
   ]
  },
  {
   "cell_type": "code",
   "execution_count": 36,
   "id": "c87d8051-99ef-4bd5-a943-cb6ea574bd2f",
   "metadata": {},
   "outputs": [
    {
     "data": {
      "text/plain": [
       "'s'"
      ]
     },
     "execution_count": 36,
     "metadata": {},
     "output_type": "execute_result"
    }
   ],
   "source": [
    "next(b)"
   ]
  },
  {
   "cell_type": "code",
   "execution_count": 37,
   "id": "0b982390-919d-484d-b1b3-7a142952558b",
   "metadata": {},
   "outputs": [
    {
     "data": {
      "text/plain": [
       "'u'"
      ]
     },
     "execution_count": 37,
     "metadata": {},
     "output_type": "execute_result"
    }
   ],
   "source": [
    "next(b)"
   ]
  },
  {
   "cell_type": "code",
   "execution_count": 38,
   "id": "3b77ea93-c2a7-4f11-a4b6-d76b3f65b87c",
   "metadata": {},
   "outputs": [
    {
     "data": {
      "text/plain": [
       "'d'"
      ]
     },
     "execution_count": 38,
     "metadata": {},
     "output_type": "execute_result"
    }
   ],
   "source": [
    "next(b)"
   ]
  },
  {
   "cell_type": "code",
   "execution_count": 39,
   "id": "73240821-fb80-477d-b018-4b0445cf6b84",
   "metadata": {},
   "outputs": [
    {
     "data": {
      "text/plain": [
       "'h'"
      ]
     },
     "execution_count": 39,
     "metadata": {},
     "output_type": "execute_result"
    }
   ],
   "source": [
    "next(b)"
   ]
  },
  {
   "cell_type": "code",
   "execution_count": 2,
   "id": "740ecd9f-471c-4037-ac85-0649cf966261",
   "metadata": {},
   "outputs": [
    {
     "name": "stdout",
     "output_type": "stream",
     "text": [
      "s\n",
      "a\n",
      "n\n",
      "d\n"
     ]
    }
   ],
   "source": [
    "s = 'sand'\n",
    "for i in s :\n",
    "    print(i)"
   ]
  },
  {
   "cell_type": "code",
   "execution_count": 3,
   "id": "378865ed-0e99-4309-b1ea-9cfbef162247",
   "metadata": {},
   "outputs": [],
   "source": [
    "s = iter(s)"
   ]
  },
  {
   "cell_type": "code",
   "execution_count": 4,
   "id": "24e7e38b-d07c-4dbf-8727-577eb8f94821",
   "metadata": {},
   "outputs": [
    {
     "data": {
      "text/plain": [
       "<str_iterator at 0x7f2ea0448070>"
      ]
     },
     "execution_count": 4,
     "metadata": {},
     "output_type": "execute_result"
    }
   ],
   "source": [
    "s"
   ]
  },
  {
   "cell_type": "code",
   "execution_count": 5,
   "id": "6834ef98-a68d-4035-8d3f-7ad61ae75dab",
   "metadata": {},
   "outputs": [
    {
     "data": {
      "text/plain": [
       "'s'"
      ]
     },
     "execution_count": 5,
     "metadata": {},
     "output_type": "execute_result"
    }
   ],
   "source": [
    "next(s)"
   ]
  },
  {
   "cell_type": "code",
   "execution_count": 6,
   "id": "0e6d4e6a-2571-433d-bff1-a3322041094c",
   "metadata": {},
   "outputs": [
    {
     "data": {
      "text/plain": [
       "'a'"
      ]
     },
     "execution_count": 6,
     "metadata": {},
     "output_type": "execute_result"
    }
   ],
   "source": [
    "next(s)"
   ]
  },
  {
   "cell_type": "code",
   "execution_count": 7,
   "id": "e8fcd53b-71ad-4b78-8900-8d16ebf1d4af",
   "metadata": {},
   "outputs": [
    {
     "data": {
      "text/plain": [
       "'n'"
      ]
     },
     "execution_count": 7,
     "metadata": {},
     "output_type": "execute_result"
    }
   ],
   "source": [
    "next(s)"
   ]
  },
  {
   "cell_type": "code",
   "execution_count": 8,
   "id": "965b7db8-f86e-45b0-9562-8797affbfe8e",
   "metadata": {},
   "outputs": [
    {
     "data": {
      "text/plain": [
       "'d'"
      ]
     },
     "execution_count": 8,
     "metadata": {},
     "output_type": "execute_result"
    }
   ],
   "source": [
    "next(s)"
   ]
  },
  {
   "cell_type": "code",
   "execution_count": 9,
   "id": "0c2fae15-55b1-468d-9523-4491b3b565d8",
   "metadata": {},
   "outputs": [
    {
     "ename": "StopIteration",
     "evalue": "",
     "output_type": "error",
     "traceback": [
      "\u001b[0;31m---------------------------------------------------------------------------\u001b[0m",
      "\u001b[0;31mStopIteration\u001b[0m                             Traceback (most recent call last)",
      "Cell \u001b[0;32mIn [9], line 1\u001b[0m\n\u001b[0;32m----> 1\u001b[0m \u001b[38;5;28;43mnext\u001b[39;49m\u001b[43m(\u001b[49m\u001b[43ms\u001b[49m\u001b[43m)\u001b[49m\n",
      "\u001b[0;31mStopIteration\u001b[0m: "
     ]
    }
   ],
   "source": [
    "next(s)"
   ]
  },
  {
   "cell_type": "code",
   "execution_count": 10,
   "id": "f44483e5-1724-4ce4-90ea-ec728702dab4",
   "metadata": {},
   "outputs": [],
   "source": [
    "l = [3,4,5,6]"
   ]
  },
  {
   "cell_type": "code",
   "execution_count": 11,
   "id": "22299e68-547c-4464-96d0-7d5809540170",
   "metadata": {},
   "outputs": [
    {
     "ename": "TypeError",
     "evalue": "'list' object is not an iterator",
     "output_type": "error",
     "traceback": [
      "\u001b[0;31m---------------------------------------------------------------------------\u001b[0m",
      "\u001b[0;31mTypeError\u001b[0m                                 Traceback (most recent call last)",
      "Cell \u001b[0;32mIn [11], line 1\u001b[0m\n\u001b[0;32m----> 1\u001b[0m \u001b[38;5;28;43mnext\u001b[39;49m\u001b[43m(\u001b[49m\u001b[43ml\u001b[49m\u001b[43m)\u001b[49m\n",
      "\u001b[0;31mTypeError\u001b[0m: 'list' object is not an iterator"
     ]
    }
   ],
   "source": [
    "next(l)"
   ]
  },
  {
   "cell_type": "code",
   "execution_count": 12,
   "id": "c5783a25-96ff-4f34-817f-2d84ed039f05",
   "metadata": {},
   "outputs": [
    {
     "ename": "TypeError",
     "evalue": "'int' object is not iterable",
     "output_type": "error",
     "traceback": [
      "\u001b[0;31m---------------------------------------------------------------------------\u001b[0m",
      "\u001b[0;31mTypeError\u001b[0m                                 Traceback (most recent call last)",
      "Cell \u001b[0;32mIn [12], line 1\u001b[0m\n\u001b[0;32m----> 1\u001b[0m \u001b[38;5;28;43miter\u001b[39;49m\u001b[43m(\u001b[49m\u001b[38;5;241;43m45\u001b[39;49m\u001b[43m)\u001b[49m\n",
      "\u001b[0;31mTypeError\u001b[0m: 'int' object is not iterable"
     ]
    }
   ],
   "source": [
    "iter(45)"
   ]
  },
  {
   "cell_type": "code",
   "execution_count": 13,
   "id": "b544e21a-fa56-4de3-a4ea-58d3f85d3d24",
   "metadata": {},
   "outputs": [
    {
     "data": {
      "text/plain": [
       "[3, 4, 5, 6]"
      ]
     },
     "execution_count": 13,
     "metadata": {},
     "output_type": "execute_result"
    }
   ],
   "source": [
    "l"
   ]
  },
  {
   "cell_type": "code",
   "execution_count": 14,
   "id": "46b835dd-290a-418e-88b9-ce6c8b0ff44c",
   "metadata": {},
   "outputs": [],
   "source": [
    "l = iter(l)"
   ]
  },
  {
   "cell_type": "code",
   "execution_count": 15,
   "id": "7a2f0c13-c912-4061-b6ae-827cd8baf89a",
   "metadata": {},
   "outputs": [
    {
     "data": {
      "text/plain": [
       "3"
      ]
     },
     "execution_count": 15,
     "metadata": {},
     "output_type": "execute_result"
    }
   ],
   "source": [
    "next(l)"
   ]
  },
  {
   "cell_type": "code",
   "execution_count": 16,
   "id": "72c1ed2f-d009-4453-a64a-e3feefc7273f",
   "metadata": {},
   "outputs": [
    {
     "data": {
      "text/plain": [
       "4"
      ]
     },
     "execution_count": 16,
     "metadata": {},
     "output_type": "execute_result"
    }
   ],
   "source": [
    "next(l)"
   ]
  },
  {
   "cell_type": "code",
   "execution_count": 17,
   "id": "fba454a1-9256-484e-8de6-e26ff45b7e50",
   "metadata": {},
   "outputs": [
    {
     "data": {
      "text/plain": [
       "5"
      ]
     },
     "execution_count": 17,
     "metadata": {},
     "output_type": "execute_result"
    }
   ],
   "source": [
    "next(l)"
   ]
  },
  {
   "cell_type": "code",
   "execution_count": 18,
   "id": "81493957-22af-4a48-b8f1-bc4b3a3467be",
   "metadata": {},
   "outputs": [
    {
     "data": {
      "text/plain": [
       "6"
      ]
     },
     "execution_count": 18,
     "metadata": {},
     "output_type": "execute_result"
    }
   ],
   "source": [
    "next(l)"
   ]
  },
  {
   "cell_type": "code",
   "execution_count": 19,
   "id": "485e2d06-336b-4b4e-a875-034ef3650675",
   "metadata": {},
   "outputs": [
    {
     "ename": "StopIteration",
     "evalue": "",
     "output_type": "error",
     "traceback": [
      "\u001b[0;31m---------------------------------------------------------------------------\u001b[0m",
      "\u001b[0;31mStopIteration\u001b[0m                             Traceback (most recent call last)",
      "Cell \u001b[0;32mIn [19], line 1\u001b[0m\n\u001b[0;32m----> 1\u001b[0m \u001b[38;5;28;43mnext\u001b[39;49m\u001b[43m(\u001b[49m\u001b[43ml\u001b[49m\u001b[43m)\u001b[49m\n",
      "\u001b[0;31mStopIteration\u001b[0m: "
     ]
    }
   ],
   "source": [
    "next(l)"
   ]
  },
  {
   "cell_type": "code",
   "execution_count": null,
   "id": "a22705b0-e7e6-4ba0-ba2c-5019c1bb7630",
   "metadata": {},
   "outputs": [],
   "source": []
  }
 ],
 "metadata": {
  "kernelspec": {
   "display_name": "Python 3 (ipykernel)",
   "language": "python",
   "name": "python3"
  },
  "language_info": {
   "codemirror_mode": {
    "name": "ipython",
    "version": 3
   },
   "file_extension": ".py",
   "mimetype": "text/x-python",
   "name": "python",
   "nbconvert_exporter": "python",
   "pygments_lexer": "ipython3",
   "version": "3.10.6"
  }
 },
 "nbformat": 4,
 "nbformat_minor": 5
}
