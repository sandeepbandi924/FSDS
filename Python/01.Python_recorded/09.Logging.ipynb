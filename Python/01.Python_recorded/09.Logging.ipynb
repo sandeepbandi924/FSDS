{
 "cells": [
  {
   "cell_type": "code",
   "execution_count": 20,
   "id": "78d0d5fd-831d-4334-9271-0198cc30fb56",
   "metadata": {},
   "outputs": [
    {
     "name": "stdout",
     "output_type": "stream",
     "text": [
      "ghsdjhsdk\n"
     ]
    }
   ],
   "source": [
    "print('ghsdjhsdk')"
   ]
  },
  {
   "cell_type": "raw",
   "id": "ed462663-1695-4669-89f6-05007bc386b8",
   "metadata": {},
   "source": [
    "logging - > we will keep track of the error ,wnarning ,Info ,debug , critical."
   ]
  },
  {
   "cell_type": "code",
   "execution_count": 2,
   "id": "8c27e656-a319-4c3d-a90b-29cc3058dff4",
   "metadata": {},
   "outputs": [],
   "source": [
    "import logging"
   ]
  },
  {
   "cell_type": "code",
   "execution_count": 2,
   "id": "5974c6a2-dab7-4160-8fd3-b21b8f7db68d",
   "metadata": {},
   "outputs": [],
   "source": [
    "logging.basicConfig(filename = 'test.log' , level = logging.INFO)"
   ]
  },
  {
   "cell_type": "code",
   "execution_count": 3,
   "id": "71118767-6dee-45da-beda-5c06a92c0835",
   "metadata": {},
   "outputs": [],
   "source": [
    "logging.info('this is my info log')\n",
    "logging.warning('this is my warning log')\n",
    "logging.error('this is my error log')"
   ]
  },
  {
   "cell_type": "code",
   "execution_count": 7,
   "id": "1aae1be9-d64c-4fdc-ab45-25ef860e3aa6",
   "metadata": {},
   "outputs": [],
   "source": [
    "logging.shutdown()"
   ]
  },
  {
   "cell_type": "code",
   "execution_count": 4,
   "id": "a4d5ec2b-068b-4762-9026-49b161275c0f",
   "metadata": {},
   "outputs": [
    {
     "data": {
      "text/plain": [
       "'/home/jovyan/work'"
      ]
     },
     "execution_count": 4,
     "metadata": {},
     "output_type": "execute_result"
    }
   ],
   "source": [
    "pwd()"
   ]
  },
  {
   "cell_type": "markdown",
   "id": "c629c993-b387-410f-b422-93a741e9b120",
   "metadata": {},
   "source": [
    "Level:\n",
    "DEBUG\n",
    "INFO\n",
    "WARNING\n",
    "ERROR\n",
    "CRITICAL"
   ]
  },
  {
   "cell_type": "code",
   "execution_count": 3,
   "id": "763a4a6d-db95-402e-af23-8b6debafdd2c",
   "metadata": {},
   "outputs": [],
   "source": [
    "import logging\n",
    "logging.basicConfig(filename = 'test1.log' , level = logging.DEBUG , format = '%(asctime)s %(levelname)s %(message)s')"
   ]
  },
  {
   "cell_type": "code",
   "execution_count": 2,
   "id": "d747e384-5e3a-426c-a33e-3d27ef26561a",
   "metadata": {},
   "outputs": [],
   "source": [
    "logging.info('this is my info log')\n",
    "logging.warning('this is my warning log')\n",
    "logging.debug('this is my debug log')\n",
    "logging.error('This is my error log')"
   ]
  },
  {
   "cell_type": "raw",
   "id": "b66264c7-75b1-4291-85c2-16536a22ebe2",
   "metadata": {},
   "source": [
    "Priority wise\n",
    "errror > warning > info > debug"
   ]
  },
  {
   "cell_type": "code",
   "execution_count": null,
   "id": "c2097fe3-9bf5-4be7-90f7-7c509478b039",
   "metadata": {},
   "outputs": [],
   "source": []
  },
  {
   "cell_type": "code",
   "execution_count": 1,
   "id": "db4c8251-899e-46b7-a3b5-8a51d02421f8",
   "metadata": {},
   "outputs": [],
   "source": [
    "import logging\n",
    "logging.basicConfig(filename = 'test2.log' , level = logging.DEBUG , format = '%(asctime)s %(levelname)s %(message)s')"
   ]
  },
  {
   "cell_type": "code",
   "execution_count": 2,
   "id": "23726baa-f3c4-4458-a2fb-e8cc36cdc183",
   "metadata": {},
   "outputs": [],
   "source": [
    "def divbyzero(a,b):\n",
    "    logging.info('This is start of the code and i am trrying to enter %s and %s ', a,b)\n",
    "    try :\n",
    "        div = a/b\n",
    "        logging.info('executed sucessfully')\n",
    "    except Exception as e:\n",
    "        logging.error('error has happend')\n",
    "        logging.exception('exception occured ' + str(e))"
   ]
  },
  {
   "cell_type": "code",
   "execution_count": 3,
   "id": "8958b713-db0b-430e-858b-7d240c2b31e9",
   "metadata": {},
   "outputs": [],
   "source": [
    "divbyzero(4,5)"
   ]
  },
  {
   "cell_type": "code",
   "execution_count": 4,
   "id": "a78e7476-1adf-4aef-998b-a8b4e765779b",
   "metadata": {},
   "outputs": [],
   "source": [
    "divbyzero(4,0)"
   ]
  },
  {
   "cell_type": "code",
   "execution_count": 7,
   "id": "919ed822-9a82-43aa-baf4-e2b98045296d",
   "metadata": {},
   "outputs": [],
   "source": [
    "import logging\n",
    "logging.basicConfig(filename = 'test2.log' , level = logging.DEBUG , format = '%(asctime)s %(levelname)s %(message)s')"
   ]
  },
  {
   "cell_type": "code",
   "execution_count": 8,
   "id": "7999ea6e-22e0-40fd-bdc8-8684fc14bbd4",
   "metadata": {},
   "outputs": [],
   "source": [
    "def sum1():\n",
    "    logging.info('This is start of the code')\n",
    "    try :\n",
    "        a = int(input())\n",
    "        b = int(input())\n",
    "        logging.info('This is start of the code and I am enetering %s and %s',a , b)\n",
    "        logging.warning('Kindly eneter integer numbers of %s and %s',a ,b)\n",
    "        su = a + b\n",
    "        logging.info('executed sucessfully ' + str(su))\n",
    "    except Exception as e :\n",
    "        logging.error('Error has been happend')\n",
    "        logging.exception('Exception occured'+ str(e))"
   ]
  },
  {
   "cell_type": "code",
   "execution_count": 10,
   "id": "29dec508-abb7-47c5-8b21-e044ca8a8155",
   "metadata": {},
   "outputs": [
    {
     "name": "stdin",
     "output_type": "stream",
     "text": [
      " 5\n",
      " 78\n"
     ]
    }
   ],
   "source": [
    "sum1()"
   ]
  },
  {
   "cell_type": "code",
   "execution_count": 11,
   "id": "8918e8a2-8e47-423c-b73c-9d8d2caa5d3b",
   "metadata": {},
   "outputs": [
    {
     "name": "stdin",
     "output_type": "stream",
     "text": [
      " edghdh\n"
     ]
    }
   ],
   "source": [
    "sum1()"
   ]
  },
  {
   "cell_type": "code",
   "execution_count": 1,
   "id": "ecdb8f75-a648-4c64-940a-2413886468ba",
   "metadata": {},
   "outputs": [],
   "source": [
    "import logging\n",
    "logging.basicConfig(filename = 'test2.log' , level = logging.DEBUG , format = '%(asctime)s %(levelname)s %(message)s')"
   ]
  },
  {
   "cell_type": "code",
   "execution_count": 23,
   "id": "d77241e3-66d4-4db8-a38e-296ded84270e",
   "metadata": {},
   "outputs": [],
   "source": [
    "def calcuator():\n",
    "    try :\n",
    "        a = int(input('Enter number 1 : '))\n",
    "        b = int(input('Enter number 2 : '))\n",
    "        op = input('Enter the operator : ')\n",
    "        logging.info('The values of %s and %s is ',a,b)\n",
    "        \n",
    "        if op == '+':\n",
    "            su = a + b \n",
    "            logging.info('the Addition of %s and %s is %s', a,b,su )\n",
    "            \n",
    "        elif op == '-':\n",
    "            sub =  a - b\n",
    "            logging.info('Subtraction of %s and %s is %s',a,b,sub)\n",
    "            \n",
    "        elif op == '*':\n",
    "            sub =  a * b\n",
    "            logging.info('Multiplication of %s and %s is %s',a,b,sub)\n",
    "           \n",
    "        elif op == '/':\n",
    "            sub =  a / b\n",
    "            logging.info('Division of %s and %s is %s',a,b,sub)\n",
    "        elif op == '%':\n",
    "            sub =  a % b\n",
    "            logging.info('Modulus of %s and %s is %s',a,b,sub)\n",
    "            \n",
    "        else :\n",
    "            logging.info('INVALID Operator %s',op)\n",
    "            \n",
    "    except Exception as e :\n",
    "        logging.error('Error is happened')\n",
    "        logging.exception('Exception has occured ' + str(e))"
   ]
  },
  {
   "cell_type": "code",
   "execution_count": 16,
   "id": "ae63a504-30e7-4f4c-b6c4-1cf238929ab9",
   "metadata": {},
   "outputs": [
    {
     "name": "stdin",
     "output_type": "stream",
     "text": [
      "Enter number 1 :  12\n",
      "Enter number 2 :  18\n",
      "Enter the operator :  +\n"
     ]
    }
   ],
   "source": [
    "calcuator()"
   ]
  },
  {
   "cell_type": "code",
   "execution_count": 17,
   "id": "88f87252-a27e-4ae9-a63f-c72bfce33102",
   "metadata": {},
   "outputs": [
    {
     "name": "stdin",
     "output_type": "stream",
     "text": [
      "Enter number 1 :  22\n",
      "Enter number 2 :  28\n",
      "Enter the operator :  -\n"
     ]
    }
   ],
   "source": [
    "calcuator()"
   ]
  },
  {
   "cell_type": "code",
   "execution_count": 18,
   "id": "910ffdfa-c10c-4748-967f-c89ea3c3a644",
   "metadata": {},
   "outputs": [
    {
     "name": "stdin",
     "output_type": "stream",
     "text": [
      "Enter number 1 :  19\n",
      "Enter number 2 :  9\n",
      "Enter the operator :  *\n"
     ]
    }
   ],
   "source": [
    "calcuator()"
   ]
  },
  {
   "cell_type": "code",
   "execution_count": 19,
   "id": "5deb5d6a-ab35-425f-9dd9-6103675393d4",
   "metadata": {},
   "outputs": [
    {
     "name": "stdin",
     "output_type": "stream",
     "text": [
      "Enter number 1 :  15\n",
      "Enter number 2 :  8\n",
      "Enter the operator :  /\n"
     ]
    }
   ],
   "source": [
    "calcuator()"
   ]
  },
  {
   "cell_type": "code",
   "execution_count": 20,
   "id": "6a3c9221-df54-42c2-8ba1-80ae69262ed3",
   "metadata": {},
   "outputs": [
    {
     "name": "stdin",
     "output_type": "stream",
     "text": [
      "Enter number 1 :  99\n",
      "Enter number 2 :  12\n",
      "Enter the operator :  %\n"
     ]
    }
   ],
   "source": [
    "calcuator()"
   ]
  },
  {
   "cell_type": "code",
   "execution_count": 21,
   "id": "0a39aa31-c86a-463e-83bf-e9d5515c8fd9",
   "metadata": {},
   "outputs": [
    {
     "name": "stdin",
     "output_type": "stream",
     "text": [
      "Enter number 1 :  jhgfgf\n"
     ]
    }
   ],
   "source": [
    "calcuator()"
   ]
  },
  {
   "cell_type": "code",
   "execution_count": 24,
   "id": "cc282edc-fe98-49bd-b2a6-00f217cc52fd",
   "metadata": {},
   "outputs": [
    {
     "name": "stdin",
     "output_type": "stream",
     "text": [
      "Enter number 1 :  24\n",
      "Enter number 2 :  9\n",
      "Enter the operator :  *\n"
     ]
    }
   ],
   "source": [
    "calcuator()"
   ]
  },
  {
   "cell_type": "code",
   "execution_count": null,
   "id": "7aaaad05-f532-4cd1-bf46-09ffe79f11cb",
   "metadata": {},
   "outputs": [],
   "source": []
  }
 ],
 "metadata": {
  "kernelspec": {
   "display_name": "Python 3 (ipykernel)",
   "language": "python",
   "name": "python3"
  },
  "language_info": {
   "codemirror_mode": {
    "name": "ipython",
    "version": 3
   },
   "file_extension": ".py",
   "mimetype": "text/x-python",
   "name": "python",
   "nbconvert_exporter": "python",
   "pygments_lexer": "ipython3",
   "version": "3.10.6"
  }
 },
 "nbformat": 4,
 "nbformat_minor": 5
}
