{
 "cells": [
  {
   "cell_type": "code",
   "execution_count": 1,
   "id": "6022faa7-9401-477b-8aa8-470ac27e6861",
   "metadata": {},
   "outputs": [],
   "source": [
    "l = [1,2,3,4,5]"
   ]
  },
  {
   "cell_type": "code",
   "execution_count": null,
   "id": "db8eab8a-591e-4998-b3e1-9948ee1b5d5c",
   "metadata": {},
   "outputs": [],
   "source": []
  },
  {
   "cell_type": "code",
   "execution_count": 2,
   "id": "1dd5a9f2-d887-4f97-92ed-ad930b308d59",
   "metadata": {},
   "outputs": [
    {
     "ename": "TypeError",
     "evalue": "'list' object is not an iterator",
     "output_type": "error",
     "traceback": [
      "\u001b[0;31m---------------------------------------------------------------------------\u001b[0m",
      "\u001b[0;31mTypeError\u001b[0m                                 Traceback (most recent call last)",
      "Cell \u001b[0;32mIn [2], line 1\u001b[0m\n\u001b[0;32m----> 1\u001b[0m \u001b[38;5;28;43mnext\u001b[39;49m\u001b[43m(\u001b[49m\u001b[43ml\u001b[49m\u001b[43m)\u001b[49m\n",
      "\u001b[0;31mTypeError\u001b[0m: 'list' object is not an iterator"
     ]
    }
   ],
   "source": [
    "next(l)"
   ]
  },
  {
   "cell_type": "code",
   "execution_count": 3,
   "id": "3379300c-7cc3-4fd3-a0d7-09cf0339d80a",
   "metadata": {},
   "outputs": [],
   "source": [
    "l = iter(l)"
   ]
  },
  {
   "cell_type": "code",
   "execution_count": 4,
   "id": "045873eb-43be-4984-98cc-9c1c1b015f34",
   "metadata": {},
   "outputs": [
    {
     "data": {
      "text/plain": [
       "1"
      ]
     },
     "execution_count": 4,
     "metadata": {},
     "output_type": "execute_result"
    }
   ],
   "source": [
    "next(l)"
   ]
  },
  {
   "cell_type": "code",
   "execution_count": 5,
   "id": "cf1ffeb1-ac51-4d4b-bc27-29b49cf72e3f",
   "metadata": {},
   "outputs": [
    {
     "data": {
      "text/plain": [
       "2"
      ]
     },
     "execution_count": 5,
     "metadata": {},
     "output_type": "execute_result"
    }
   ],
   "source": [
    "next(l)"
   ]
  },
  {
   "cell_type": "code",
   "execution_count": 6,
   "id": "1be44774-4c47-4027-8625-93e1d93eba23",
   "metadata": {},
   "outputs": [
    {
     "data": {
      "text/plain": [
       "3"
      ]
     },
     "execution_count": 6,
     "metadata": {},
     "output_type": "execute_result"
    }
   ],
   "source": [
    "next(l)"
   ]
  },
  {
   "cell_type": "code",
   "execution_count": 7,
   "id": "2ba7679c-5ae9-4913-8e49-b2c84d56f4e2",
   "metadata": {},
   "outputs": [
    {
     "data": {
      "text/plain": [
       "4"
      ]
     },
     "execution_count": 7,
     "metadata": {},
     "output_type": "execute_result"
    }
   ],
   "source": [
    "next(l)"
   ]
  },
  {
   "cell_type": "code",
   "execution_count": 8,
   "id": "6043856b-7cb2-47ec-bd0d-eee8f101f1a0",
   "metadata": {},
   "outputs": [
    {
     "data": {
      "text/plain": [
       "5"
      ]
     },
     "execution_count": 8,
     "metadata": {},
     "output_type": "execute_result"
    }
   ],
   "source": [
    "next(l)"
   ]
  },
  {
   "cell_type": "code",
   "execution_count": 9,
   "id": "7d213d00-7624-4f7f-9dd9-a0f8f4cb12ed",
   "metadata": {},
   "outputs": [
    {
     "ename": "StopIteration",
     "evalue": "",
     "output_type": "error",
     "traceback": [
      "\u001b[0;31m---------------------------------------------------------------------------\u001b[0m",
      "\u001b[0;31mStopIteration\u001b[0m                             Traceback (most recent call last)",
      "Cell \u001b[0;32mIn [9], line 1\u001b[0m\n\u001b[0;32m----> 1\u001b[0m \u001b[38;5;28;43mnext\u001b[39;49m\u001b[43m(\u001b[49m\u001b[43ml\u001b[49m\u001b[43m)\u001b[49m\n",
      "\u001b[0;31mStopIteration\u001b[0m: "
     ]
    }
   ],
   "source": [
    "next(l)"
   ]
  },
  {
   "cell_type": "code",
   "execution_count": 10,
   "id": "ef230b6e-68dc-454f-8c4a-22cbee49e187",
   "metadata": {},
   "outputs": [],
   "source": [
    "a = 56"
   ]
  },
  {
   "cell_type": "code",
   "execution_count": 11,
   "id": "2c034cd5-19b1-4632-bbe7-b19c89b011e9",
   "metadata": {},
   "outputs": [
    {
     "ename": "TypeError",
     "evalue": "'int' object is not an iterator",
     "output_type": "error",
     "traceback": [
      "\u001b[0;31m---------------------------------------------------------------------------\u001b[0m",
      "\u001b[0;31mTypeError\u001b[0m                                 Traceback (most recent call last)",
      "Cell \u001b[0;32mIn [11], line 1\u001b[0m\n\u001b[0;32m----> 1\u001b[0m \u001b[38;5;28;43mnext\u001b[39;49m\u001b[43m(\u001b[49m\u001b[43ma\u001b[49m\u001b[43m)\u001b[49m\n",
      "\u001b[0;31mTypeError\u001b[0m: 'int' object is not an iterator"
     ]
    }
   ],
   "source": [
    "next(a)"
   ]
  },
  {
   "cell_type": "code",
   "execution_count": 12,
   "id": "42218547-51dc-4d43-8f8b-463f46671703",
   "metadata": {},
   "outputs": [
    {
     "ename": "TypeError",
     "evalue": "'int' object is not iterable",
     "output_type": "error",
     "traceback": [
      "\u001b[0;31m---------------------------------------------------------------------------\u001b[0m",
      "\u001b[0;31mTypeError\u001b[0m                                 Traceback (most recent call last)",
      "Cell \u001b[0;32mIn [12], line 1\u001b[0m\n\u001b[0;32m----> 1\u001b[0m a \u001b[38;5;241m=\u001b[39m \u001b[38;5;28;43miter\u001b[39;49m\u001b[43m(\u001b[49m\u001b[43ma\u001b[49m\u001b[43m)\u001b[49m\n",
      "\u001b[0;31mTypeError\u001b[0m: 'int' object is not iterable"
     ]
    }
   ],
   "source": [
    "a = iter(a)"
   ]
  },
  {
   "cell_type": "code",
   "execution_count": 13,
   "id": "587ce2c7-d467-4d1e-9683-8e25914a54a3",
   "metadata": {},
   "outputs": [],
   "source": [
    "t = (5,6,7,8)"
   ]
  },
  {
   "cell_type": "code",
   "execution_count": 14,
   "id": "da1b3dfc-1316-4258-ae75-76dba7780eca",
   "metadata": {},
   "outputs": [
    {
     "ename": "TypeError",
     "evalue": "'tuple' object is not an iterator",
     "output_type": "error",
     "traceback": [
      "\u001b[0;31m---------------------------------------------------------------------------\u001b[0m",
      "\u001b[0;31mTypeError\u001b[0m                                 Traceback (most recent call last)",
      "Cell \u001b[0;32mIn [14], line 1\u001b[0m\n\u001b[0;32m----> 1\u001b[0m \u001b[38;5;28;43mnext\u001b[39;49m\u001b[43m(\u001b[49m\u001b[43mt\u001b[49m\u001b[43m)\u001b[49m\n",
      "\u001b[0;31mTypeError\u001b[0m: 'tuple' object is not an iterator"
     ]
    }
   ],
   "source": [
    "next(t)"
   ]
  },
  {
   "cell_type": "code",
   "execution_count": 15,
   "id": "ca81848b-1bf8-4c68-861f-d1d1d0c6d8a5",
   "metadata": {},
   "outputs": [],
   "source": [
    "t = iter(t)"
   ]
  },
  {
   "cell_type": "code",
   "execution_count": 16,
   "id": "bb7181b4-fa02-44a2-8123-b4be56d533a8",
   "metadata": {},
   "outputs": [
    {
     "data": {
      "text/plain": [
       "5"
      ]
     },
     "execution_count": 16,
     "metadata": {},
     "output_type": "execute_result"
    }
   ],
   "source": [
    "next(t)"
   ]
  },
  {
   "cell_type": "code",
   "execution_count": 17,
   "id": "45c72d63-2091-40f3-9a56-5a4b05fd474d",
   "metadata": {},
   "outputs": [
    {
     "data": {
      "text/plain": [
       "6"
      ]
     },
     "execution_count": 17,
     "metadata": {},
     "output_type": "execute_result"
    }
   ],
   "source": [
    "next(t)"
   ]
  },
  {
   "cell_type": "code",
   "execution_count": 19,
   "id": "8a92be8d-a62d-4ed3-8080-4daebe9ad967",
   "metadata": {},
   "outputs": [],
   "source": [
    "r = range(6)"
   ]
  },
  {
   "cell_type": "code",
   "execution_count": 20,
   "id": "74680f0e-a951-4514-9e67-4a7a63458373",
   "metadata": {},
   "outputs": [
    {
     "ename": "TypeError",
     "evalue": "'range' object is not an iterator",
     "output_type": "error",
     "traceback": [
      "\u001b[0;31m---------------------------------------------------------------------------\u001b[0m",
      "\u001b[0;31mTypeError\u001b[0m                                 Traceback (most recent call last)",
      "Cell \u001b[0;32mIn [20], line 1\u001b[0m\n\u001b[0;32m----> 1\u001b[0m \u001b[38;5;28;43mnext\u001b[39;49m\u001b[43m(\u001b[49m\u001b[43mr\u001b[49m\u001b[43m)\u001b[49m\n",
      "\u001b[0;31mTypeError\u001b[0m: 'range' object is not an iterator"
     ]
    }
   ],
   "source": [
    "next(r)"
   ]
  },
  {
   "cell_type": "code",
   "execution_count": 21,
   "id": "3ada0484-2dc6-4365-8e18-1d32f2ee8306",
   "metadata": {},
   "outputs": [],
   "source": [
    "r = iter(r)"
   ]
  },
  {
   "cell_type": "code",
   "execution_count": 22,
   "id": "46902838-0324-43f7-9c49-638466c4527b",
   "metadata": {},
   "outputs": [
    {
     "data": {
      "text/plain": [
       "0"
      ]
     },
     "execution_count": 22,
     "metadata": {},
     "output_type": "execute_result"
    }
   ],
   "source": [
    "next(r)"
   ]
  },
  {
   "cell_type": "code",
   "execution_count": 23,
   "id": "b7744a92-b83d-4179-9024-c6cad4e5b52a",
   "metadata": {},
   "outputs": [
    {
     "data": {
      "text/plain": [
       "1"
      ]
     },
     "execution_count": 23,
     "metadata": {},
     "output_type": "execute_result"
    }
   ],
   "source": [
    "next(r)"
   ]
  },
  {
   "cell_type": "code",
   "execution_count": 24,
   "id": "529daaf2-4946-48c5-b5bc-ccdbe4af7b28",
   "metadata": {},
   "outputs": [],
   "source": [
    "#Generator\n"
   ]
  },
  {
   "cell_type": "code",
   "execution_count": 26,
   "id": "f145f613-4c48-4fd2-be16-2a4c48c40bb5",
   "metadata": {},
   "outputs": [
    {
     "data": {
      "text/plain": [
       "[0, 3, 6, 9, 12, 15, 18, 21, 24, 27, 30, 33, 36, 39, 42]"
      ]
     },
     "execution_count": 26,
     "metadata": {},
     "output_type": "execute_result"
    }
   ],
   "source": [
    "list(range(0,45,3))"
   ]
  },
  {
   "cell_type": "code",
   "execution_count": 27,
   "id": "36ac67df-b404-44c4-98e8-fc54f58b0c37",
   "metadata": {},
   "outputs": [],
   "source": [
    "def gencube(n):\n",
    "    l = []\n",
    "    for i in range(n):\n",
    "        l.append(i**3)\n",
    "    return l"
   ]
  },
  {
   "cell_type": "code",
   "execution_count": 28,
   "id": "8a0aaf66-1cd1-4bc3-a343-408974df628a",
   "metadata": {},
   "outputs": [
    {
     "data": {
      "text/plain": [
       "[0, 1, 8, 27, 64, 125]"
      ]
     },
     "execution_count": 28,
     "metadata": {},
     "output_type": "execute_result"
    }
   ],
   "source": [
    "gencube(6)"
   ]
  },
  {
   "cell_type": "code",
   "execution_count": 32,
   "id": "bb50dcba-46cc-4856-b8e6-35d2bc7206d7",
   "metadata": {},
   "outputs": [
    {
     "data": {
      "text/plain": [
       "[0, 1, 8, 27, 64, 125, 216, 343, 512, 729]"
      ]
     },
     "execution_count": 32,
     "metadata": {},
     "output_type": "execute_result"
    }
   ],
   "source": [
    "gencube(10) #60000000 it gives delay"
   ]
  },
  {
   "cell_type": "code",
   "execution_count": 33,
   "id": "0243e03f-e4fe-4805-9ca5-e184f9552134",
   "metadata": {},
   "outputs": [
    {
     "data": {
      "text/plain": [
       "range(0, 1000000000000000)"
      ]
     },
     "execution_count": 33,
     "metadata": {},
     "output_type": "execute_result"
    }
   ],
   "source": [
    "range(1000000000000000)"
   ]
  },
  {
   "cell_type": "code",
   "execution_count": 34,
   "id": "f0095a5d-fbf3-444f-98b6-ad28ad599f63",
   "metadata": {},
   "outputs": [],
   "source": [
    "def gencube(n):             #yield -> to convert function as a generator\n",
    "    for i in range(n):\n",
    "        yield i**3"
   ]
  },
  {
   "cell_type": "code",
   "execution_count": 35,
   "id": "8fa267fb-e0b4-44f6-b7bf-5b75ed656ea4",
   "metadata": {},
   "outputs": [
    {
     "data": {
      "text/plain": [
       "<generator object gencube at 0x7f0dd62bd700>"
      ]
     },
     "execution_count": 35,
     "metadata": {},
     "output_type": "execute_result"
    }
   ],
   "source": [
    "gencube(10)"
   ]
  },
  {
   "cell_type": "code",
   "execution_count": 38,
   "id": "d12ec1d6-8415-4a45-88b6-d1b648502d5d",
   "metadata": {},
   "outputs": [
    {
     "name": "stdout",
     "output_type": "stream",
     "text": [
      "0\n",
      "1\n",
      "8\n",
      "27\n",
      "64\n",
      "125\n",
      "216\n",
      "343\n",
      "512\n"
     ]
    }
   ],
   "source": [
    "for i in gencube(9):\n",
    "    print(i)"
   ]
  },
  {
   "cell_type": "code",
   "execution_count": 47,
   "id": "db688772-f0b1-49dc-b9f9-7b4d4eba6ad8",
   "metadata": {},
   "outputs": [],
   "source": [
    "def fib(n):\n",
    "    a =1\n",
    "    b=1\n",
    "    for i in range(n):\n",
    "        yield a,i\n",
    "        a , b = b , a + b"
   ]
  },
  {
   "cell_type": "code",
   "execution_count": 48,
   "id": "13c2b284-f240-4072-bc42-f6db13b09bad",
   "metadata": {},
   "outputs": [
    {
     "name": "stdout",
     "output_type": "stream",
     "text": [
      "(1, 0)\n",
      "(1, 1)\n",
      "(2, 2)\n",
      "(3, 3)\n",
      "(5, 4)\n",
      "(8, 5)\n",
      "(13, 6)\n",
      "(21, 7)\n",
      "(34, 8)\n",
      "(55, 9)\n"
     ]
    }
   ],
   "source": [
    "for i in fib(10):\n",
    "    print(i)"
   ]
  },
  {
   "cell_type": "code",
   "execution_count": 49,
   "id": "ec524d49-bdd0-4044-96f7-175140803769",
   "metadata": {},
   "outputs": [],
   "source": [
    "def fib1(n):\n",
    "    a = 1\n",
    "    b = 1\n",
    "    out = []\n",
    "    for i in range(n):\n",
    "        out.append(a)\n",
    "        a,b = b , a+b\n",
    "    return out"
   ]
  },
  {
   "cell_type": "code",
   "execution_count": 50,
   "id": "9dbe83e4-6550-40e7-ba4b-5089d4608749",
   "metadata": {},
   "outputs": [
    {
     "data": {
      "text/plain": [
       "[1, 1, 2, 3, 5, 8, 13, 21, 34, 55]"
      ]
     },
     "execution_count": 50,
     "metadata": {},
     "output_type": "execute_result"
    }
   ],
   "source": [
    "fib1(10)  #if we give thousands of data it takes time"
   ]
  },
  {
   "cell_type": "code",
   "execution_count": null,
   "id": "f39f6db7-227c-41c7-a7d0-b259d0fa391d",
   "metadata": {},
   "outputs": [],
   "source": []
  },
  {
   "cell_type": "code",
   "execution_count": 1,
   "id": "ea874a91-8f3f-46f7-bd1e-c5ea22111ee7",
   "metadata": {},
   "outputs": [],
   "source": [
    "#File system"
   ]
  },
  {
   "cell_type": "code",
   "execution_count": 3,
   "id": "45464f0d-0baf-45ae-b9bd-099bdb569d15",
   "metadata": {},
   "outputs": [
    {
     "name": "stdout",
     "output_type": "stream",
     "text": [
      "something in console\n"
     ]
    }
   ],
   "source": [
    "print('something in console')"
   ]
  },
  {
   "cell_type": "code",
   "execution_count": null,
   "id": "179168cd-d7a4-4a92-b3af-973391b088f3",
   "metadata": {},
   "outputs": [],
   "source": []
  },
  {
   "cell_type": "code",
   "execution_count": 6,
   "id": "e0c93b1e-1cbb-4106-b7d7-78ef0909ec3e",
   "metadata": {},
   "outputs": [
    {
     "data": {
      "text/plain": [
       "'/home/jovyan/work'"
      ]
     },
     "execution_count": 6,
     "metadata": {},
     "output_type": "execute_result"
    }
   ],
   "source": [
    "pwd()"
   ]
  },
  {
   "cell_type": "code",
   "execution_count": 9,
   "id": "5e95ccf5-f107-462f-b5bd-f25b4a24e38b",
   "metadata": {},
   "outputs": [
    {
     "name": "stdout",
     "output_type": "stream",
     "text": [
      " 01.Basics.ipynb\t\t      06.Functions_P2.ipynb\n",
      "'02.String,List and Indexing.ipynb'  '07.Iter,Gen&File System.ipynb'\n",
      "'03.Tuple, Set & Dict.ipynb'\t      FunctionSolutions.ipynb\n",
      "'04.If,Else & For Loop.ipynb'\t     'parvinder LOR.docx'\n",
      "'05.For & while loops.ipynb'\t      test.txt\n",
      " 06.Functions_P1.ipynb\n"
     ]
    }
   ],
   "source": [
    "!ls"
   ]
  },
  {
   "cell_type": "code",
   "execution_count": 15,
   "id": "c9964568-b2e0-4e72-8d4c-b3463667c6c5",
   "metadata": {},
   "outputs": [],
   "source": [
    "f = open('test.txt', 'w')"
   ]
  },
  {
   "cell_type": "code",
   "execution_count": 16,
   "id": "e7f3075b-0398-4684-beb2-6420c16ea5f1",
   "metadata": {},
   "outputs": [
    {
     "data": {
      "text/plain": [
       "61"
      ]
     },
     "execution_count": 16,
     "metadata": {},
     "output_type": "execute_result"
    }
   ],
   "source": [
    "f.write('This is my first file operation to something in test.txt file')"
   ]
  },
  {
   "cell_type": "code",
   "execution_count": 17,
   "id": "c2978167-3c84-43f6-9e44-77caadb7152a",
   "metadata": {},
   "outputs": [],
   "source": [
    "f.close()"
   ]
  },
  {
   "cell_type": "code",
   "execution_count": null,
   "id": "d1836d73-9d99-4800-bbe5-6951bada5324",
   "metadata": {},
   "outputs": [],
   "source": [
    "#another way to write file"
   ]
  },
  {
   "cell_type": "code",
   "execution_count": 19,
   "id": "7b0a36d8-bbaf-461e-ba42-8d8dc637c508",
   "metadata": {},
   "outputs": [
    {
     "name": "stdout",
     "output_type": "stream",
     "text": [
      "Overwriting test.txt\n"
     ]
    }
   ],
   "source": [
    "%%writefile test.txt\n",
    "this is data i would like to store in my file"
   ]
  },
  {
   "cell_type": "code",
   "execution_count": null,
   "id": "7786016f-2214-4d36-b0da-bad352b42f8c",
   "metadata": {},
   "outputs": [],
   "source": [
    "#read mode"
   ]
  },
  {
   "cell_type": "code",
   "execution_count": 21,
   "id": "b162e614-f060-4cc5-9ab9-8df47f5fb75c",
   "metadata": {},
   "outputs": [],
   "source": [
    "f = open('test.txt')"
   ]
  },
  {
   "cell_type": "code",
   "execution_count": 22,
   "id": "df6cfaae-fcc5-4ffc-8f1a-e8273047d226",
   "metadata": {},
   "outputs": [
    {
     "data": {
      "text/plain": [
       "'this is data i would like to store in my file\\n'"
      ]
     },
     "execution_count": 22,
     "metadata": {},
     "output_type": "execute_result"
    }
   ],
   "source": [
    "f.read()"
   ]
  },
  {
   "cell_type": "code",
   "execution_count": 23,
   "id": "c172b84b-61bd-47f8-853c-3950793e8de5",
   "metadata": {},
   "outputs": [
    {
     "ename": "UnsupportedOperation",
     "evalue": "not writable",
     "output_type": "error",
     "traceback": [
      "\u001b[0;31m---------------------------------------------------------------------------\u001b[0m",
      "\u001b[0;31mUnsupportedOperation\u001b[0m                      Traceback (most recent call last)",
      "Cell \u001b[0;32mIn [23], line 1\u001b[0m\n\u001b[0;32m----> 1\u001b[0m \u001b[43mf\u001b[49m\u001b[38;5;241;43m.\u001b[39;49m\u001b[43mwrite\u001b[49m\u001b[43m(\u001b[49m\u001b[38;5;124;43m'\u001b[39;49m\u001b[38;5;124;43mudfhudh\u001b[39;49m\u001b[38;5;124;43m'\u001b[39;49m\u001b[43m)\u001b[49m\n",
      "\u001b[0;31mUnsupportedOperation\u001b[0m: not writable"
     ]
    }
   ],
   "source": [
    "f.write('udfhudh')"
   ]
  },
  {
   "cell_type": "code",
   "execution_count": 24,
   "id": "d80bbf04-dd9a-4975-aa5f-56b973af28d9",
   "metadata": {},
   "outputs": [
    {
     "data": {
      "text/plain": [
       "''"
      ]
     },
     "execution_count": 24,
     "metadata": {},
     "output_type": "execute_result"
    }
   ],
   "source": [
    "f.read()"
   ]
  },
  {
   "cell_type": "code",
   "execution_count": 25,
   "id": "4b23642c-6db4-4d16-9d28-0e2ce0fc3da0",
   "metadata": {},
   "outputs": [
    {
     "data": {
      "text/plain": [
       "''"
      ]
     },
     "execution_count": 25,
     "metadata": {},
     "output_type": "execute_result"
    }
   ],
   "source": [
    "f.read()"
   ]
  },
  {
   "cell_type": "code",
   "execution_count": 26,
   "id": "44284ea4-c3f1-4cbb-8e4a-15f977f8506a",
   "metadata": {},
   "outputs": [
    {
     "data": {
      "text/plain": [
       "5"
      ]
     },
     "execution_count": 26,
     "metadata": {},
     "output_type": "execute_result"
    }
   ],
   "source": [
    "f.seek(5) #to reset your curser"
   ]
  },
  {
   "cell_type": "code",
   "execution_count": 27,
   "id": "a6e057c4-9baf-47f4-a6dd-3cab49d967aa",
   "metadata": {},
   "outputs": [
    {
     "data": {
      "text/plain": [
       "'is data i would like to store in my file\\n'"
      ]
     },
     "execution_count": 27,
     "metadata": {},
     "output_type": "execute_result"
    }
   ],
   "source": [
    "f.read()"
   ]
  },
  {
   "cell_type": "code",
   "execution_count": 30,
   "id": "4ad1dbc4-9fa4-425d-8b2b-328c87caccd2",
   "metadata": {},
   "outputs": [
    {
     "data": {
      "text/plain": [
       "''"
      ]
     },
     "execution_count": 30,
     "metadata": {},
     "output_type": "execute_result"
    }
   ],
   "source": [
    "f.read()"
   ]
  },
  {
   "cell_type": "code",
   "execution_count": 31,
   "id": "b9b016fc-4c5e-4ba0-abce-c06958c3bdc0",
   "metadata": {},
   "outputs": [
    {
     "data": {
      "text/plain": [
       "0"
      ]
     },
     "execution_count": 31,
     "metadata": {},
     "output_type": "execute_result"
    }
   ],
   "source": [
    "f.seek(0)"
   ]
  },
  {
   "cell_type": "code",
   "execution_count": 32,
   "id": "1aea9e23-8995-4a93-9d76-758139057f6e",
   "metadata": {},
   "outputs": [
    {
     "data": {
      "text/plain": [
       "'this is data i would like to store in my file\\n'"
      ]
     },
     "execution_count": 32,
     "metadata": {},
     "output_type": "execute_result"
    }
   ],
   "source": [
    "f.read()"
   ]
  },
  {
   "cell_type": "code",
   "execution_count": 33,
   "id": "f980f921-6176-4083-b58e-bf7f4aad1f1b",
   "metadata": {},
   "outputs": [
    {
     "data": {
      "text/plain": [
       "46"
      ]
     },
     "execution_count": 33,
     "metadata": {},
     "output_type": "execute_result"
    }
   ],
   "source": [
    "f.tell() #where is our curser"
   ]
  },
  {
   "cell_type": "code",
   "execution_count": 34,
   "id": "da5e7e2e-f36c-41e2-b1e4-9973eb393fa1",
   "metadata": {},
   "outputs": [
    {
     "data": {
      "text/plain": [
       "5"
      ]
     },
     "execution_count": 34,
     "metadata": {},
     "output_type": "execute_result"
    }
   ],
   "source": [
    "f.seek(5)"
   ]
  },
  {
   "cell_type": "code",
   "execution_count": 35,
   "id": "38e59f2e-3dc2-44ab-9099-cb3183a46da6",
   "metadata": {},
   "outputs": [
    {
     "data": {
      "text/plain": [
       "5"
      ]
     },
     "execution_count": 35,
     "metadata": {},
     "output_type": "execute_result"
    }
   ],
   "source": [
    "f.tell()"
   ]
  },
  {
   "cell_type": "code",
   "execution_count": 37,
   "id": "dee29c4a-856a-4da5-abfc-e70a299da655",
   "metadata": {},
   "outputs": [],
   "source": [
    "f = open('test.txt','r+')"
   ]
  },
  {
   "cell_type": "code",
   "execution_count": 38,
   "id": "3cfb3185-4a90-4ab9-90d6-415b181ee0a1",
   "metadata": {},
   "outputs": [
    {
     "data": {
      "text/plain": [
       "'this is data i would like to store in my file\\n'"
      ]
     },
     "execution_count": 38,
     "metadata": {},
     "output_type": "execute_result"
    }
   ],
   "source": [
    "f.read()  #read complete data"
   ]
  },
  {
   "cell_type": "code",
   "execution_count": 39,
   "id": "399571c8-ce22-443c-8574-fdc8bfd9da0f",
   "metadata": {},
   "outputs": [
    {
     "data": {
      "text/plain": [
       "''"
      ]
     },
     "execution_count": 39,
     "metadata": {},
     "output_type": "execute_result"
    }
   ],
   "source": [
    "f.readline()"
   ]
  },
  {
   "cell_type": "code",
   "execution_count": 40,
   "id": "08f44d18-7046-4f15-83f1-c36d7f8589dd",
   "metadata": {},
   "outputs": [
    {
     "data": {
      "text/plain": [
       "46"
      ]
     },
     "execution_count": 40,
     "metadata": {},
     "output_type": "execute_result"
    }
   ],
   "source": [
    "f.tell()"
   ]
  },
  {
   "cell_type": "code",
   "execution_count": 41,
   "id": "b4309ef9-79ae-44c1-8f85-05308dce2db2",
   "metadata": {},
   "outputs": [
    {
     "data": {
      "text/plain": [
       "0"
      ]
     },
     "execution_count": 41,
     "metadata": {},
     "output_type": "execute_result"
    }
   ],
   "source": [
    "f.seek(0)"
   ]
  },
  {
   "cell_type": "code",
   "execution_count": 43,
   "id": "c129afad-3b04-4dd4-9d8a-738c8a60b890",
   "metadata": {},
   "outputs": [
    {
     "data": {
      "text/plain": [
       "'sidisdildsj\\n'"
      ]
     },
     "execution_count": 43,
     "metadata": {},
     "output_type": "execute_result"
    }
   ],
   "source": [
    "f.readline() #read line by line data"
   ]
  },
  {
   "cell_type": "code",
   "execution_count": 44,
   "id": "5ef5f30a-838e-43b4-a6fc-fc48de88c8d9",
   "metadata": {},
   "outputs": [
    {
     "data": {
      "text/plain": [
       "'sdjdsiafjldsa\\n'"
      ]
     },
     "execution_count": 44,
     "metadata": {},
     "output_type": "execute_result"
    }
   ],
   "source": [
    "f.readline()"
   ]
  },
  {
   "cell_type": "code",
   "execution_count": 45,
   "id": "d2988a57-9bee-401a-9248-1ba0601114e1",
   "metadata": {},
   "outputs": [
    {
     "data": {
      "text/plain": [
       "'sdalsal\\n'"
      ]
     },
     "execution_count": 45,
     "metadata": {},
     "output_type": "execute_result"
    }
   ],
   "source": [
    "f.readline()"
   ]
  },
  {
   "cell_type": "code",
   "execution_count": 46,
   "id": "4d34e538-17f8-4d74-bddb-82bc1a0af990",
   "metadata": {},
   "outputs": [],
   "source": [
    "f = open('google.txt','w')"
   ]
  },
  {
   "cell_type": "code",
   "execution_count": 56,
   "id": "60ab3337-176d-4aa4-bda9-5861594f47bf",
   "metadata": {},
   "outputs": [
    {
     "data": {
      "text/plain": [
       "2659"
      ]
     },
     "execution_count": 56,
     "metadata": {},
     "output_type": "execute_result"
    }
   ],
   "source": [
    "f.write('''Elon Reeve Musk FRS (/ˈiːlɒn/ EE-lon; born June 28, 1971) is a business magnate and investor. He is the founder, CEO and chief engineer of SpaceX; angel investor, CEO and product architect of Tesla, Inc.; owner and CEO of Twitter, Inc.; founder of The Boring Company; co-founder of Neuralink and OpenAI; and president of the philanthropic Musk Foundation. With an estimated net worth of around $196 billion as of February 15, 2023, primarily from his ownership stakes in Tesla and SpaceX,[4][5] Musk is the second-wealthiest person in the world, according to both the Bloomberg Billionaires Index and Forbes's real-time billionaires list.[6][7]\n",
    "\n",
    "Musk was born in Pretoria, South Africa, and briefly attended at the University of Pretoria before moving to Canada at age 18, acquiring citizenship through his Canadian-born mother. Two years later, he matriculated at Queen's University and transferred to the University of Pennsylvania, where he received bachelor's degrees in economics and physics. He moved to California in 1995 to attend Stanford University. After two days, he dropped out and with his brother Kimbal, co-founded the online city guide software company Zip2. In 1999, Zip2 was acquired by Compaq for $307 million and Musk co-founded X.com, a direct bank. X.com merged with Confinity in 2000 to form PayPal, which eBay acquired for $1.5 billion in 2002.With $175.8 million, Musk founded SpaceX in 2002, a spaceflight services company. In 2004, he was an early investor in the electric vehicle manufacturer Tesla Motors, Inc. (now Tesla, Inc.). He became its chairman and product architect, assuming the position of CEO in 2008. In 2006, he helped create SolarCity, a solar energy company that was later acquired by Tesla and became Tesla Energy. In 2015, he co-founded OpenAI, a nonprofit artificial intelligence research company. The following year, he co-founded Neuralink—a neurotechnology company developing brain–computer interfaces—and The Boring Company, a tunnel construction company. Musk has also proposed a hyperloop high-speed vactrain transportation system. In 2022, his acquisition of Twitter for $44 billion was completed.\n",
    "\n",
    "Musk has made controversial statements on politics and technology, particularly on Twitter, and is a polarizing figure. He has been criticized for making unscientific and misleading statements, including spreading COVID-19 misinformation. In 2018, the U.S. Securities and Exchange Commission (SEC) sued Musk for falsely tweeting that he had secured funding for a private takeover of Tesla. Musk stepped down as chairman of Tesla and paid a $20 million fine as part of a settlement agreement with the SEC.''')"
   ]
  },
  {
   "cell_type": "code",
   "execution_count": 57,
   "id": "ac0fabc2-a919-4743-a6bf-c5a97467df0c",
   "metadata": {},
   "outputs": [],
   "source": [
    "f.close()"
   ]
  },
  {
   "cell_type": "code",
   "execution_count": 58,
   "id": "3bd542ef-4595-433a-a544-38ac91382cda",
   "metadata": {},
   "outputs": [],
   "source": [
    "f = open('google.txt','r+')"
   ]
  },
  {
   "cell_type": "code",
   "execution_count": 59,
   "id": "a03935d4-1310-46a4-a7b2-be43fa39f463",
   "metadata": {},
   "outputs": [
    {
     "data": {
      "text/plain": [
       "\"Elon Reeve Musk FRS (/ˈiːlɒn/ EE-lon; born June 28, 1971) is a business magnate and investor. He is the founder, CEO and chief engineer of SpaceX; angel investor, CEO and product architect of Tesla, Inc.; owner and CEO of Twitter, Inc.; founder of The Boring Company; co-founder of Neuralink and OpenAI; and president of the philanthropic Musk Foundation. With an estimated net worth of around $196 billion as of February 15, 2023, primarily from his ownership stakes in Tesla and SpaceX,[4][5] Musk is the second-wealthiest person in the world, according to both the Bloomberg Billionaires Index and Forbes's real-time billionaires list.[6][7]\\n\\nMusk was born in Pretoria, South Africa, and briefly attended at the University of Pretoria before moving to Canada at age 18, acquiring citizenship through his Canadian-born mother. Two years later, he matriculated at Queen's University and transferred to the University of Pennsylvania, where he received bachelor's degrees in economics and physics. He moved to California in 1995 to attend Stanford University. After two days, he dropped out and with his brother Kimbal, co-founded the online city guide software company Zip2. In 1999, Zip2 was acquired by Compaq for $307 million and Musk co-founded X.com, a direct bank. X.com merged with Confinity in 2000 to form PayPal, which eBay acquired for $1.5 billion in 2002.Elon Reeve Musk FRS (/ˈiːlɒn/ EE-lon; born June 28, 1971) is a business magnate and investor. He is the founder, CEO and chief engineer of SpaceX; angel investor, CEO and product architect of Tesla, Inc.; owner and CEO of Twitter, Inc.; founder of The Boring Company; co-founder of Neuralink and OpenAI; and president of the philanthropic Musk Foundation. With an estimated net worth of around $196 billion as of February 15, 2023, primarily from his ownership stakes in Tesla and SpaceX,[4][5] Musk is the second-wealthiest person in the world, according to both the Bloomberg Billionaires Index and Forbes's real-time billionaires list.[6][7]\\n\\nMusk was born in Pretoria, South Africa, and briefly attended at the University of Pretoria before moving to Canada at age 18, acquiring citizenship through his Canadian-born mother. Two years later, he matriculated at Queen's University and transferred to the University of Pennsylvania, where he received bachelor's degrees in economics and physics. He moved to California in 1995 to attend Stanford University. After two days, he dropped out and with his brother Kimbal, co-founded the online city guide software company Zip2. In 1999, Zip2 was acquired by Compaq for $307 million and Musk co-founded X.com, a direct bank. X.com merged with Confinity in 2000 to form PayPal, which eBay acquired for $1.5 billion in 2002.With $175.8 million, Musk founded SpaceX in 2002, a spaceflight services company. In 2004, he was an early investor in the electric vehicle manufacturer Tesla Motors, Inc. (now Tesla, Inc.). He became its chairman and product architect, assuming the position of CEO in 2008. In 2006, he helped create SolarCity, a solar energy company that was later acquired by Tesla and became Tesla Energy. In 2015, he co-founded OpenAI, a nonprofit artificial intelligence research company. The following year, he co-founded Neuralink—a neurotechnology company developing brain–computer interfaces—and The Boring Company, a tunnel construction company. Musk has also proposed a hyperloop high-speed vactrain transportation system. In 2022, his acquisition of Twitter for $44 billion was completed.\\n\\nMusk has made controversial statements on politics and technology, particularly on Twitter, and is a polarizing figure. He has been criticized for making unscientific and misleading statements, including spreading COVID-19 misinformation. In 2018, the U.S. Securities and Exchange Commission (SEC) sued Musk for falsely tweeting that he had secured funding for a private takeover of Tesla. Musk stepped down as chairman of Tesla and paid a $20 million fine as part of a settlement agreement with the SEC.\""
      ]
     },
     "execution_count": 59,
     "metadata": {},
     "output_type": "execute_result"
    }
   ],
   "source": [
    "f.read()"
   ]
  },
  {
   "cell_type": "code",
   "execution_count": 60,
   "id": "ce603f44-d16f-4061-86d6-a2d82c32a8cd",
   "metadata": {},
   "outputs": [
    {
     "data": {
      "text/plain": [
       "0"
      ]
     },
     "execution_count": 60,
     "metadata": {},
     "output_type": "execute_result"
    }
   ],
   "source": [
    "f.seek(0)"
   ]
  },
  {
   "cell_type": "code",
   "execution_count": 61,
   "id": "d6a44d0c-c1d2-43ef-a7ac-08e1e86a522a",
   "metadata": {},
   "outputs": [
    {
     "data": {
      "text/plain": [
       "\"Elon Reeve Musk FRS (/ˈiːlɒn/ EE-lon; born June 28, 1971) is a business magnate and investor. He is the founder, CEO and chief engineer of SpaceX; angel investor, CEO and product architect of Tesla, Inc.; owner and CEO of Twitter, Inc.; founder of The Boring Company; co-founder of Neuralink and OpenAI; and president of the philanthropic Musk Foundation. With an estimated net worth of around $196 billion as of February 15, 2023, primarily from his ownership stakes in Tesla and SpaceX,[4][5] Musk is the second-wealthiest person in the world, according to both the Bloomberg Billionaires Index and Forbes's real-time billionaires list.[6][7]\\n\""
      ]
     },
     "execution_count": 61,
     "metadata": {},
     "output_type": "execute_result"
    }
   ],
   "source": [
    "f.readline()"
   ]
  },
  {
   "cell_type": "code",
   "execution_count": 62,
   "id": "4992fdec-b39a-4774-9caf-312b04ddf06e",
   "metadata": {},
   "outputs": [],
   "source": [
    "f.close()"
   ]
  },
  {
   "cell_type": "code",
   "execution_count": 63,
   "id": "19f94c14-7431-483e-b5c5-82423c94e751",
   "metadata": {},
   "outputs": [
    {
     "name": "stdout",
     "output_type": "stream",
     "text": [
      "Elon Reeve Musk FRS (/ˈiːlɒn/ EE-lon; born June 28, 1971) is a business magnate and investor. He is the founder, CEO and chief engineer of SpaceX; angel investor, CEO and product architect of Tesla, Inc.; owner and CEO of Twitter, Inc.; founder of The Boring Company; co-founder of Neuralink and OpenAI; and president of the philanthropic Musk Foundation. With an estimated net worth of around $196 billion as of February 15, 2023, primarily from his ownership stakes in Tesla and SpaceX,[4][5] Musk is the second-wealthiest person in the world, according to both the Bloomberg Billionaires Index and Forbes's real-time billionaires list.[6][7]\n",
      "  \n",
      "  Musk was born in Pretoria, South Africa, and briefly attended at the University of Pretoria before moving to Canada at age 18, acquiring citizenship through his Canadian-born mother. Two years later, he matriculated at Queen's University and transferred to the University of Pennsylvania, where he received bachelor's degrees in economics and physics. He moved to California in 1995 to attend Stanford University. After two days, he dropped out and with his brother Kimbal, co-founded the online city guide software company Zip2. In 1999, Zip2 was acquired by Compaq for $307 million and Musk co-founded X.com, a direct bank. X.com merged with Confinity in 2000 to form PayPal, which eBay acquired for $1.5 billion in 2002.Elon Reeve Musk FRS (/ˈiːlɒn/ EE-lon; born June 28, 1971) is a business magnate and investor. He is the founder, CEO and chief engineer of SpaceX; angel investor, CEO and product architect of Tesla, Inc.; owner and CEO of Twitter, Inc.; founder of The Boring Company; co-founder of Neuralink and OpenAI; and president of the philanthropic Musk Foundation. With an estimated net worth of around $196 billion as of February 15, 2023, primarily from his ownership stakes in Tesla and SpaceX,[4][5] Musk is the second-wealthiest person in the world, according to both the Bloomberg Billionaires Index and Forbes's real-time billionaires list.[6][7]\n",
      "  \n",
      "  Musk was born in Pretoria, South Africa, and briefly attended at the University of Pretoria before moving to Canada at age 18, acquiring citizenship through his Canadian-born mother. Two years later, he matriculated at Queen's University and transferred to the University of Pennsylvania, where he received bachelor's degrees in economics and physics. He moved to California in 1995 to attend Stanford University. After two days, he dropped out and with his brother Kimbal, co-founded the online city guide software company Zip2. In 1999, Zip2 was acquired by Compaq for $307 million and Musk co-founded X.com, a direct bank. X.com merged with Confinity in 2000 to form PayPal, which eBay acquired for $1.5 billion in 2002.With $175.8 million, Musk founded SpaceX in 2002, a spaceflight services company. In 2004, he was an early investor in the electric vehicle manufacturer Tesla Motors, Inc. (now Tesla, Inc.). He became its chairman and product architect, assuming the position of CEO in 2008. In 2006, he helped create SolarCity, a solar energy company that was later acquired by Tesla and became Tesla Energy. In 2015, he co-founded OpenAI, a nonprofit artificial intelligence research company. The following year, he co-founded Neuralink—a neurotechnology company developing brain–computer interfaces—and The Boring Company, a tunnel construction company. Musk has also proposed a hyperloop high-speed vactrain transportation system. In 2022, his acquisition of Twitter for $44 billion was completed.\n",
      "  \n",
      "  Musk has made controversial statements on politics and technology, particularly on Twitter, and is a polarizing figure. He has been criticized for making unscientific and misleading statements, including spreading COVID-19 misinformation. In 2018, the U.S. Securities and Exchange Commission (SEC) sued Musk for falsely tweeting that he had secured funding for a private takeover of Tesla. Musk stepped down as chairman of Tesla and paid a $20 million fine as part of a settlement agreement with the SEC.  "
     ]
    }
   ],
   "source": [
    "f = open('google.txt','r+')\n",
    "for line in f :\n",
    "    print(line , end ='  ')"
   ]
  },
  {
   "cell_type": "code",
   "execution_count": 64,
   "id": "6cfc8638-adb0-43f4-b1e4-3c0166ca098b",
   "metadata": {},
   "outputs": [
    {
     "data": {
      "text/plain": [
       "24"
      ]
     },
     "execution_count": 64,
     "metadata": {},
     "output_type": "execute_result"
    }
   ],
   "source": [
    "f.write('It is written by sandeep')"
   ]
  },
  {
   "cell_type": "code",
   "execution_count": 65,
   "id": "4e5fa59d-751c-4dd8-bf59-d7f9e2300577",
   "metadata": {},
   "outputs": [],
   "source": [
    "f.close()"
   ]
  },
  {
   "cell_type": "code",
   "execution_count": 67,
   "id": "bb08e07b-7572-4af7-9681-5a315a38bbe6",
   "metadata": {},
   "outputs": [],
   "source": [
    "f = open('google.txt','r+')"
   ]
  },
  {
   "cell_type": "code",
   "execution_count": 68,
   "id": "48822c5f-f0c9-462d-9ac8-7904f5a90c6d",
   "metadata": {},
   "outputs": [
    {
     "data": {
      "text/plain": [
       "5"
      ]
     },
     "execution_count": 68,
     "metadata": {},
     "output_type": "execute_result"
    }
   ],
   "source": [
    "f.seek(5)"
   ]
  },
  {
   "cell_type": "code",
   "execution_count": 69,
   "id": "6f1ec60d-7ca1-476b-b572-6818f66308ea",
   "metadata": {},
   "outputs": [
    {
     "data": {
      "text/plain": [
       "31"
      ]
     },
     "execution_count": 69,
     "metadata": {},
     "output_type": "execute_result"
    }
   ],
   "source": [
    "f.write('this is my file at 5th position')"
   ]
  },
  {
   "cell_type": "code",
   "execution_count": 70,
   "id": "11efff06-05da-48bd-b365-b98d1e5ceb1d",
   "metadata": {},
   "outputs": [],
   "source": [
    "f.close()"
   ]
  },
  {
   "cell_type": "code",
   "execution_count": 74,
   "id": "926d996e-d3d5-4056-9ec8-f0a71acb0e67",
   "metadata": {},
   "outputs": [],
   "source": [
    "f = open('google.txt','r+')"
   ]
  },
  {
   "cell_type": "code",
   "execution_count": 72,
   "id": "2853c32d-468e-47f9-a828-5dc7cc88c27e",
   "metadata": {},
   "outputs": [
    {
     "data": {
      "text/plain": [
       "[\"Elon this is my file at 5th positionlon; born June 28, 1971) is a business magnate and investor. He is the founder, CEO and chief engineer of SpaceX; angel investor, CEO and product architect of Tesla, Inc.; owner and CEO of Twitter, Inc.; founder of The Boring Company; co-founder of Neuralink and OpenAI; and president of the philanthropic Musk Foundation. With an estimated net worth of around $196 billion as of February 15, 2023, primarily from his ownership stakes in Tesla and SpaceX,[4][5] Musk is the second-wealthiest person in the world, according to both the Bloomberg Billionaires Index and Forbes's real-time billionaires list.[6][7]\\n\",\n",
       " '\\n',\n",
       " \"Musk was born in Pretoria, South Africa, and briefly attended at the University of Pretoria before moving to Canada at age 18, acquiring citizenship through his Canadian-born mother. Two years later, he matriculated at Queen's University and transferred to the University of Pennsylvania, where he received bachelor's degrees in economics and physics. He moved to California in 1995 to attend Stanford University. After two days, he dropped out and with his brother Kimbal, co-founded the online city guide software company Zip2. In 1999, Zip2 was acquired by Compaq for $307 million and Musk co-founded X.com, a direct bank. X.com merged with Confinity in 2000 to form PayPal, which eBay acquired for $1.5 billion in 2002.Elon Reeve Musk FRS (/ˈiːlɒn/ EE-lon; born June 28, 1971) is a business magnate and investor. He is the founder, CEO and chief engineer of SpaceX; angel investor, CEO and product architect of Tesla, Inc.; owner and CEO of Twitter, Inc.; founder of The Boring Company; co-founder of Neuralink and OpenAI; and president of the philanthropic Musk Foundation. With an estimated net worth of around $196 billion as of February 15, 2023, primarily from his ownership stakes in Tesla and SpaceX,[4][5] Musk is the second-wealthiest person in the world, according to both the Bloomberg Billionaires Index and Forbes's real-time billionaires list.[6][7]\\n\",\n",
       " '\\n',\n",
       " \"Musk was born in Pretoria, South Africa, and briefly attended at the University of Pretoria before moving to Canada at age 18, acquiring citizenship through his Canadian-born mother. Two years later, he matriculated at Queen's University and transferred to the University of Pennsylvania, where he received bachelor's degrees in economics and physics. He moved to California in 1995 to attend Stanford University. After two days, he dropped out and with his brother Kimbal, co-founded the online city guide software company Zip2. In 1999, Zip2 was acquired by Compaq for $307 million and Musk co-founded X.com, a direct bank. X.com merged with Confinity in 2000 to form PayPal, which eBay acquired for $1.5 billion in 2002.With $175.8 million, Musk founded SpaceX in 2002, a spaceflight services company. In 2004, he was an early investor in the electric vehicle manufacturer Tesla Motors, Inc. (now Tesla, Inc.). He became its chairman and product architect, assuming the position of CEO in 2008. In 2006, he helped create SolarCity, a solar energy company that was later acquired by Tesla and became Tesla Energy. In 2015, he co-founded OpenAI, a nonprofit artificial intelligence research company. The following year, he co-founded Neuralink—a neurotechnology company developing brain–computer interfaces—and The Boring Company, a tunnel construction company. Musk has also proposed a hyperloop high-speed vactrain transportation system. In 2022, his acquisition of Twitter for $44 billion was completed.\\n\",\n",
       " '\\n',\n",
       " 'Musk has made controversial statements on politics and technology, particularly on Twitter, and is a polarizing figure. He has been criticized for making unscientific and misleading statements, including spreading COVID-19 misinformation. In 2018, the U.S. Securities and Exchange Commission (SEC) sued Musk for falsely tweeting that he had secured funding for a private takeover of Tesla. Musk stepped down as chairman of Tesla and paid a $20 million fine as part of a settlement agreement with the SEC.It is written by sandeep']"
      ]
     },
     "execution_count": 72,
     "metadata": {},
     "output_type": "execute_result"
    }
   ],
   "source": [
    "f.readlines() #it store in list"
   ]
  },
  {
   "cell_type": "code",
   "execution_count": 75,
   "id": "42e04553-7fc3-433a-ad71-6671154ac50e",
   "metadata": {},
   "outputs": [
    {
     "data": {
      "text/plain": [
       "7"
      ]
     },
     "execution_count": 75,
     "metadata": {},
     "output_type": "execute_result"
    }
   ],
   "source": [
    "len(f.readlines())"
   ]
  },
  {
   "cell_type": "code",
   "execution_count": 76,
   "id": "a4838caf-2e88-43a5-ae27-878847edbe69",
   "metadata": {},
   "outputs": [
    {
     "data": {
      "text/plain": [
       "0"
      ]
     },
     "execution_count": 76,
     "metadata": {},
     "output_type": "execute_result"
    }
   ],
   "source": [
    "f.seek(0)"
   ]
  },
  {
   "cell_type": "code",
   "execution_count": 77,
   "id": "f0bef0d3-89d2-49d1-9164-36f7fd370f87",
   "metadata": {},
   "outputs": [],
   "source": [
    "f = open('google.txt','r+')"
   ]
  },
  {
   "cell_type": "code",
   "execution_count": 78,
   "id": "77b1cf39-78d0-4299-b39b-0a8e6d02a517",
   "metadata": {},
   "outputs": [],
   "source": [
    "l = f.readlines()"
   ]
  },
  {
   "cell_type": "code",
   "execution_count": 79,
   "id": "5d88ed1d-5646-4657-991e-10c4c2c49159",
   "metadata": {},
   "outputs": [
    {
     "data": {
      "text/plain": [
       "\"Elon this is my file at 5th positionlon; born June 28, 1971) is a business magnate and investor. He is the founder, CEO and chief engineer of SpaceX; angel investor, CEO and product architect of Tesla, Inc.; owner and CEO of Twitter, Inc.; founder of The Boring Company; co-founder of Neuralink and OpenAI; and president of the philanthropic Musk Foundation. With an estimated net worth of around $196 billion as of February 15, 2023, primarily from his ownership stakes in Tesla and SpaceX,[4][5] Musk is the second-wealthiest person in the world, according to both the Bloomberg Billionaires Index and Forbes's real-time billionaires list.[6][7]\\n\""
      ]
     },
     "execution_count": 79,
     "metadata": {},
     "output_type": "execute_result"
    }
   ],
   "source": [
    "l[0]"
   ]
  },
  {
   "cell_type": "code",
   "execution_count": 81,
   "id": "afa5b361-fd98-4601-b072-83470b25d829",
   "metadata": {},
   "outputs": [
    {
     "data": {
      "text/plain": [
       "['Elon',\n",
       " 'this',\n",
       " 'is',\n",
       " 'my',\n",
       " 'file',\n",
       " 'at',\n",
       " '5th',\n",
       " 'positionlon;',\n",
       " 'born',\n",
       " 'June',\n",
       " '28,',\n",
       " '1971)',\n",
       " 'is',\n",
       " 'a',\n",
       " 'business',\n",
       " 'magnate',\n",
       " 'and',\n",
       " 'investor.',\n",
       " 'He',\n",
       " 'is',\n",
       " 'the',\n",
       " 'founder,',\n",
       " 'CEO',\n",
       " 'and',\n",
       " 'chief',\n",
       " 'engineer',\n",
       " 'of',\n",
       " 'SpaceX;',\n",
       " 'angel',\n",
       " 'investor,',\n",
       " 'CEO',\n",
       " 'and',\n",
       " 'product',\n",
       " 'architect',\n",
       " 'of',\n",
       " 'Tesla,',\n",
       " 'Inc.;',\n",
       " 'owner',\n",
       " 'and',\n",
       " 'CEO',\n",
       " 'of',\n",
       " 'Twitter,',\n",
       " 'Inc.;',\n",
       " 'founder',\n",
       " 'of',\n",
       " 'The',\n",
       " 'Boring',\n",
       " 'Company;',\n",
       " 'co-founder',\n",
       " 'of',\n",
       " 'Neuralink',\n",
       " 'and',\n",
       " 'OpenAI;',\n",
       " 'and',\n",
       " 'president',\n",
       " 'of',\n",
       " 'the',\n",
       " 'philanthropic',\n",
       " 'Musk',\n",
       " 'Foundation.',\n",
       " 'With',\n",
       " 'an',\n",
       " 'estimated',\n",
       " 'net',\n",
       " 'worth',\n",
       " 'of',\n",
       " 'around',\n",
       " '$196',\n",
       " 'billion',\n",
       " 'as',\n",
       " 'of',\n",
       " 'February',\n",
       " '15,',\n",
       " '2023,',\n",
       " 'primarily',\n",
       " 'from',\n",
       " 'his',\n",
       " 'ownership',\n",
       " 'stakes',\n",
       " 'in',\n",
       " 'Tesla',\n",
       " 'and',\n",
       " 'SpaceX,[4][5]',\n",
       " 'Musk',\n",
       " 'is',\n",
       " 'the',\n",
       " 'second-wealthiest',\n",
       " 'person',\n",
       " 'in',\n",
       " 'the',\n",
       " 'world,',\n",
       " 'according',\n",
       " 'to',\n",
       " 'both',\n",
       " 'the',\n",
       " 'Bloomberg',\n",
       " 'Billionaires',\n",
       " 'Index',\n",
       " 'and',\n",
       " \"Forbes's\",\n",
       " 'real-time',\n",
       " 'billionaires',\n",
       " 'list.[6][7]']"
      ]
     },
     "execution_count": 81,
     "metadata": {},
     "output_type": "execute_result"
    }
   ],
   "source": [
    "l[0].split()"
   ]
  },
  {
   "cell_type": "code",
   "execution_count": 82,
   "id": "8538a96c-d1d8-420c-a805-615cc2d1fe5c",
   "metadata": {},
   "outputs": [],
   "source": [
    "l1=[]\n",
    "for i in l[0].split():\n",
    "    l1.append(i[0])"
   ]
  },
  {
   "cell_type": "code",
   "execution_count": 83,
   "id": "b3251837-ba0d-47c1-b13a-7ea18f2a2e70",
   "metadata": {},
   "outputs": [
    {
     "data": {
      "text/plain": [
       "['E',\n",
       " 't',\n",
       " 'i',\n",
       " 'm',\n",
       " 'f',\n",
       " 'a',\n",
       " '5',\n",
       " 'p',\n",
       " 'b',\n",
       " 'J',\n",
       " '2',\n",
       " '1',\n",
       " 'i',\n",
       " 'a',\n",
       " 'b',\n",
       " 'm',\n",
       " 'a',\n",
       " 'i',\n",
       " 'H',\n",
       " 'i',\n",
       " 't',\n",
       " 'f',\n",
       " 'C',\n",
       " 'a',\n",
       " 'c',\n",
       " 'e',\n",
       " 'o',\n",
       " 'S',\n",
       " 'a',\n",
       " 'i',\n",
       " 'C',\n",
       " 'a',\n",
       " 'p',\n",
       " 'a',\n",
       " 'o',\n",
       " 'T',\n",
       " 'I',\n",
       " 'o',\n",
       " 'a',\n",
       " 'C',\n",
       " 'o',\n",
       " 'T',\n",
       " 'I',\n",
       " 'f',\n",
       " 'o',\n",
       " 'T',\n",
       " 'B',\n",
       " 'C',\n",
       " 'c',\n",
       " 'o',\n",
       " 'N',\n",
       " 'a',\n",
       " 'O',\n",
       " 'a',\n",
       " 'p',\n",
       " 'o',\n",
       " 't',\n",
       " 'p',\n",
       " 'M',\n",
       " 'F',\n",
       " 'W',\n",
       " 'a',\n",
       " 'e',\n",
       " 'n',\n",
       " 'w',\n",
       " 'o',\n",
       " 'a',\n",
       " '$',\n",
       " 'b',\n",
       " 'a',\n",
       " 'o',\n",
       " 'F',\n",
       " '1',\n",
       " '2',\n",
       " 'p',\n",
       " 'f',\n",
       " 'h',\n",
       " 'o',\n",
       " 's',\n",
       " 'i',\n",
       " 'T',\n",
       " 'a',\n",
       " 'S',\n",
       " 'M',\n",
       " 'i',\n",
       " 't',\n",
       " 's',\n",
       " 'p',\n",
       " 'i',\n",
       " 't',\n",
       " 'w',\n",
       " 'a',\n",
       " 't',\n",
       " 'b',\n",
       " 't',\n",
       " 'B',\n",
       " 'B',\n",
       " 'I',\n",
       " 'a',\n",
       " 'F',\n",
       " 'r',\n",
       " 'b',\n",
       " 'l']"
      ]
     },
     "execution_count": 83,
     "metadata": {},
     "output_type": "execute_result"
    }
   ],
   "source": [
    "l1"
   ]
  },
  {
   "cell_type": "code",
   "execution_count": 84,
   "id": "d34aecc8-3b53-4260-8e27-375bc088aafa",
   "metadata": {},
   "outputs": [
    {
     "data": {
      "text/plain": [
       "'google.txt'"
      ]
     },
     "execution_count": 84,
     "metadata": {},
     "output_type": "execute_result"
    }
   ],
   "source": [
    "f = open('google.txt','r+')\n",
    "f.name"
   ]
  },
  {
   "cell_type": "code",
   "execution_count": 85,
   "id": "ff3e7500-f066-46b8-95f3-d6fdb3d3ffd0",
   "metadata": {},
   "outputs": [],
   "source": [
    "l = ['this is line one ,', 'this is line two', 'this is line three','this is line 4']"
   ]
  },
  {
   "cell_type": "code",
   "execution_count": 86,
   "id": "a070d9d7-ff40-4ec4-ba50-57beb757de25",
   "metadata": {},
   "outputs": [
    {
     "data": {
      "text/plain": [
       "31"
      ]
     },
     "execution_count": 86,
     "metadata": {},
     "output_type": "execute_result"
    }
   ],
   "source": [
    "f.write('i can write from current cursor')"
   ]
  },
  {
   "cell_type": "code",
   "execution_count": 87,
   "id": "3652435a-413b-4f74-972f-101cfa77bbfc",
   "metadata": {},
   "outputs": [],
   "source": [
    "f.writelines(l)"
   ]
  },
  {
   "cell_type": "code",
   "execution_count": 88,
   "id": "3206be5b-435b-4083-9fc7-a94f8a7aa55a",
   "metadata": {},
   "outputs": [],
   "source": [
    "f.close()"
   ]
  },
  {
   "cell_type": "code",
   "execution_count": 90,
   "id": "a41c83f3-f106-4f4d-8bf7-6cc185f15916",
   "metadata": {},
   "outputs": [
    {
     "data": {
      "text/plain": [
       "64"
      ]
     },
     "execution_count": 90,
     "metadata": {},
     "output_type": "execute_result"
    }
   ],
   "source": [
    "f = open('google.txt','r+')\n",
    "f.fileno()"
   ]
  },
  {
   "cell_type": "code",
   "execution_count": 91,
   "id": "b785959b-addd-4700-9097-16dc140de013",
   "metadata": {},
   "outputs": [],
   "source": [
    "import os"
   ]
  },
  {
   "cell_type": "code",
   "execution_count": 92,
   "id": "fc905d3d-51ab-4ca9-b51c-b3709296d4b2",
   "metadata": {},
   "outputs": [],
   "source": [
    "os.remove('test.txt')"
   ]
  },
  {
   "cell_type": "code",
   "execution_count": 93,
   "id": "b0a048a7-e226-4d32-a562-2451e697d2ce",
   "metadata": {},
   "outputs": [
    {
     "name": "stdout",
     "output_type": "stream",
     "text": [
      " 01.Basics.ipynb\t\t      06.Functions_P2.ipynb\n",
      "'02.String,List and Indexing.ipynb'  '07.Iter,Gen&File System.ipynb'\n",
      "'03.Tuple, Set & Dict.ipynb'\t      FunctionSolutions.ipynb\n",
      "'04.If,Else & For Loop.ipynb'\t      google.txt\n",
      "'05.For & while loops.ipynb'\t     'parvinder LOR.docx'\n",
      " 06.Functions_P1.ipynb\n"
     ]
    }
   ],
   "source": [
    "!ls"
   ]
  },
  {
   "cell_type": "code",
   "execution_count": 95,
   "id": "e2af75fe-0fbe-4e90-8de0-6eb63a2081aa",
   "metadata": {},
   "outputs": [
    {
     "data": {
      "text/plain": [
       "'/home/jovyan/work'"
      ]
     },
     "execution_count": 95,
     "metadata": {},
     "output_type": "execute_result"
    }
   ],
   "source": [
    "os.getcwd()"
   ]
  },
  {
   "cell_type": "code",
   "execution_count": 96,
   "id": "7a9136e6-595c-4adc-a325-fa8162c42002",
   "metadata": {},
   "outputs": [
    {
     "data": {
      "text/plain": [
       "'/home/jovyan/work'"
      ]
     },
     "execution_count": 96,
     "metadata": {},
     "output_type": "execute_result"
    }
   ],
   "source": [
    "pwd()"
   ]
  },
  {
   "cell_type": "code",
   "execution_count": 99,
   "id": "071fdf2a-8664-41a4-9814-74b351b1d2f8",
   "metadata": {},
   "outputs": [
    {
     "data": {
      "text/plain": [
       "['06.Functions_P1.ipynb',\n",
       " '01.Basics.ipynb',\n",
       " '06.Functions_P2.ipynb',\n",
       " '.git',\n",
       " '02.String,List and Indexing.ipynb',\n",
       " 'google.txt',\n",
       " '05.For & while loops.ipynb',\n",
       " '03.Tuple, Set & Dict.ipynb',\n",
       " '04.If,Else & For Loop.ipynb',\n",
       " '.ipynb_checkpoints',\n",
       " 'parvinder LOR.docx',\n",
       " 'FunctionSolutions.ipynb',\n",
       " '07.Iter,Gen&File System.ipynb']"
      ]
     },
     "execution_count": 99,
     "metadata": {},
     "output_type": "execute_result"
    }
   ],
   "source": [
    "os.listdir()"
   ]
  },
  {
   "cell_type": "code",
   "execution_count": 100,
   "id": "d6192e94-80ca-4f35-9b71-218e64a842b1",
   "metadata": {},
   "outputs": [
    {
     "data": {
      "text/plain": [
       "'/home/jovyan/work'"
      ]
     },
     "execution_count": 100,
     "metadata": {},
     "output_type": "execute_result"
    }
   ],
   "source": [
    "os.getcwd()"
   ]
  },
  {
   "cell_type": "code",
   "execution_count": null,
   "id": "23eb8ce5-01a9-4804-9175-2193905b0281",
   "metadata": {},
   "outputs": [],
   "source": []
  }
 ],
 "metadata": {
  "kernelspec": {
   "display_name": "Python 3 (ipykernel)",
   "language": "python",
   "name": "python3"
  },
  "language_info": {
   "codemirror_mode": {
    "name": "ipython",
    "version": 3
   },
   "file_extension": ".py",
   "mimetype": "text/x-python",
   "name": "python",
   "nbconvert_exporter": "python",
   "pygments_lexer": "ipython3",
   "version": "3.10.6"
  }
 },
 "nbformat": 4,
 "nbformat_minor": 5
}
