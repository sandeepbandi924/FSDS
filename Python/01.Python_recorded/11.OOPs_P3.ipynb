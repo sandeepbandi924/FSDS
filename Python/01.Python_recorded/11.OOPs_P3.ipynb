{
 "cells": [
  {
   "cell_type": "code",
   "execution_count": 1,
   "id": "231900e6-d85e-40a7-bb1a-fda20cb3c04e",
   "metadata": {},
   "outputs": [],
   "source": [
    "#ploymorphism - multiple forms\n",
    "\n",
    "def test(a,b):\n",
    "    return a + b"
   ]
  },
  {
   "cell_type": "code",
   "execution_count": 2,
   "id": "06ef5c72-7ab5-443f-99e6-ff05d7996053",
   "metadata": {},
   "outputs": [
    {
     "data": {
      "text/plain": [
       "7"
      ]
     },
     "execution_count": 2,
     "metadata": {},
     "output_type": "execute_result"
    }
   ],
   "source": [
    "test(3,4)"
   ]
  },
  {
   "cell_type": "code",
   "execution_count": 3,
   "id": "f1db1033-12de-43bf-a3da-d9542a5b2d17",
   "metadata": {},
   "outputs": [
    {
     "data": {
      "text/plain": [
       "'sandkumar'"
      ]
     },
     "execution_count": 3,
     "metadata": {},
     "output_type": "execute_result"
    }
   ],
   "source": [
    "test('sand', 'kumar')"
   ]
  },
  {
   "cell_type": "code",
   "execution_count": 4,
   "id": "ee8303a0-2f94-4bc1-8b31-647fa6661140",
   "metadata": {},
   "outputs": [],
   "source": [
    "class insta:\n",
    "    def share_stories(self):\n",
    "        print('This will share my insta story')\n",
    "        \n",
    "class facebook :\n",
    "    def share_stories(self):\n",
    "        print('This will share my facebook story')\n",
    "        "
   ]
  },
  {
   "cell_type": "code",
   "execution_count": 5,
   "id": "e05739f4-a459-40ad-a6e1-bc534349f78c",
   "metadata": {},
   "outputs": [],
   "source": [
    "def sharestories(app):\n",
    "    app.share_stories()"
   ]
  },
  {
   "cell_type": "code",
   "execution_count": 6,
   "id": "540b5fe8-7598-46fb-8ef1-7f161f4902b9",
   "metadata": {},
   "outputs": [],
   "source": [
    "i = insta()\n",
    "f = facebook()"
   ]
  },
  {
   "cell_type": "code",
   "execution_count": 7,
   "id": "28c93390-e849-4db6-8ce4-b6d89aac0ba1",
   "metadata": {},
   "outputs": [
    {
     "name": "stdout",
     "output_type": "stream",
     "text": [
      "This will share my insta story\n"
     ]
    }
   ],
   "source": [
    "sharestories(i)"
   ]
  },
  {
   "cell_type": "code",
   "execution_count": 8,
   "id": "7c002abc-f777-4689-815e-418a688ec3d8",
   "metadata": {},
   "outputs": [
    {
     "name": "stdout",
     "output_type": "stream",
     "text": [
      "This will share my facebook story\n"
     ]
    }
   ],
   "source": [
    "sharestories(f)"
   ]
  },
  {
   "cell_type": "code",
   "execution_count": 14,
   "id": "14168311-b726-41c5-8dc2-fb005e7d689f",
   "metadata": {},
   "outputs": [],
   "source": [
    "class social_media :\n",
    "    def share_stories():\n",
    "        print('share a stories')\n",
    "    def upload_stories():\n",
    "        print('This will upload pic on social media')\n",
    "        \n",
    "class facebbok(social_media) :\n",
    "    def share_stories(self):\n",
    "        print('This is a function for sharing story for facebook')\n",
    "\n",
    "class insta(social_media) :\n",
    "    def share_stories(self):\n",
    "        print('This is a function for sharing story for insta')\n",
    "        \n",
    "        "
   ]
  },
  {
   "cell_type": "code",
   "execution_count": 15,
   "id": "a7334479-6f12-465d-a235-acb43c19b227",
   "metadata": {},
   "outputs": [],
   "source": [
    "f = facebbok()\n",
    "i = insta()"
   ]
  },
  {
   "cell_type": "code",
   "execution_count": 16,
   "id": "2b4aadfe-950e-4d48-89e0-dbdab5c5c169",
   "metadata": {},
   "outputs": [
    {
     "name": "stdout",
     "output_type": "stream",
     "text": [
      "This is a function for sharing story for facebook\n"
     ]
    }
   ],
   "source": [
    "f.share_stories()"
   ]
  },
  {
   "cell_type": "code",
   "execution_count": 17,
   "id": "54b3532f-47ac-4995-a359-e7e38bf45ae5",
   "metadata": {},
   "outputs": [
    {
     "name": "stdout",
     "output_type": "stream",
     "text": [
      "This is a function for sharing story for insta\n"
     ]
    }
   ],
   "source": [
    "i.share_stories()"
   ]
  },
  {
   "cell_type": "code",
   "execution_count": null,
   "id": "9ac7aec9-4272-4460-b5cb-6159f7702798",
   "metadata": {},
   "outputs": [],
   "source": []
  },
  {
   "cell_type": "code",
   "execution_count": 25,
   "id": "a74d8fe2-22fe-403a-8a69-337362c0397e",
   "metadata": {},
   "outputs": [],
   "source": [
    "class test(Exception):\n",
    "    def __init__(self,msg, myval):\n",
    "        self.msg = msg\n",
    "        self.myval = myval"
   ]
  },
  {
   "cell_type": "code",
   "execution_count": 27,
   "id": "8a17ffd2-3f04-41ca-9bcf-da2975c58ac7",
   "metadata": {},
   "outputs": [
    {
     "name": "stdout",
     "output_type": "stream",
     "text": [
      "('This is my own exception class', 'sandeep')\n"
     ]
    }
   ],
   "source": [
    "try:\n",
    "    raise(test('This is my own exception class' , 'sandeep'))\n",
    "except test as t:\n",
    "    print(t)"
   ]
  },
  {
   "cell_type": "code",
   "execution_count": 28,
   "id": "81485035-476f-4e06-be97-012f36807bd7",
   "metadata": {},
   "outputs": [
    {
     "name": "stdout",
     "output_type": "stream",
     "text": [
      "('This is my own exception class', 5)\n"
     ]
    }
   ],
   "source": [
    "try:\n",
    "    raise(test('This is my own exception class' , 5))\n",
    "except test as t:\n",
    "    print(t)"
   ]
  },
  {
   "cell_type": "code",
   "execution_count": null,
   "id": "50b3b27c-16e6-479c-b85e-2a5270966128",
   "metadata": {},
   "outputs": [],
   "source": []
  }
 ],
 "metadata": {
  "kernelspec": {
   "display_name": "Python 3 (ipykernel)",
   "language": "python",
   "name": "python3"
  },
  "language_info": {
   "codemirror_mode": {
    "name": "ipython",
    "version": 3
   },
   "file_extension": ".py",
   "mimetype": "text/x-python",
   "name": "python",
   "nbconvert_exporter": "python",
   "pygments_lexer": "ipython3",
   "version": "3.10.6"
  }
 },
 "nbformat": 4,
 "nbformat_minor": 5
}
