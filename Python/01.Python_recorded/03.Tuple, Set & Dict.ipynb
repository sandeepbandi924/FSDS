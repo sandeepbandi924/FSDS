{
 "cells": [
  {
   "cell_type": "code",
   "execution_count": 1,
   "id": "11383bd1-add3-40b9-ba3b-dfd40904bc64",
   "metadata": {},
   "outputs": [],
   "source": [
    "t = (1,2,3,4,5)"
   ]
  },
  {
   "cell_type": "code",
   "execution_count": 2,
   "id": "019c4f8c-fd1b-42aa-be16-32ce0325dfba",
   "metadata": {},
   "outputs": [
    {
     "data": {
      "text/plain": [
       "tuple"
      ]
     },
     "execution_count": 2,
     "metadata": {},
     "output_type": "execute_result"
    }
   ],
   "source": [
    "type(t)"
   ]
  },
  {
   "cell_type": "code",
   "execution_count": 4,
   "id": "c0137c38-ee3f-43fd-9d8f-6e75eba5f74c",
   "metadata": {},
   "outputs": [],
   "source": [
    "t1 = ('sand',345,23.54,8+5j,True)"
   ]
  },
  {
   "cell_type": "code",
   "execution_count": 5,
   "id": "2256b907-b950-4e42-bb7c-1b2d6d711812",
   "metadata": {},
   "outputs": [],
   "source": [
    "l=['sand',345,23.54,8+5j,True]"
   ]
  },
  {
   "cell_type": "code",
   "execution_count": 6,
   "id": "83f92d66-4e61-4fd7-92f8-1aad560c2123",
   "metadata": {},
   "outputs": [
    {
     "data": {
      "text/plain": [
       "tuple"
      ]
     },
     "execution_count": 6,
     "metadata": {},
     "output_type": "execute_result"
    }
   ],
   "source": [
    "type(t1)"
   ]
  },
  {
   "cell_type": "code",
   "execution_count": 7,
   "id": "82e9a555-591e-473d-84eb-2e202bf991c1",
   "metadata": {},
   "outputs": [
    {
     "data": {
      "text/plain": [
       "list"
      ]
     },
     "execution_count": 7,
     "metadata": {},
     "output_type": "execute_result"
    }
   ],
   "source": [
    "type(l)"
   ]
  },
  {
   "cell_type": "code",
   "execution_count": 8,
   "id": "04691779-3ea4-4a3d-9db8-5bd36556de61",
   "metadata": {},
   "outputs": [],
   "source": [
    "t2 = ()"
   ]
  },
  {
   "cell_type": "code",
   "execution_count": 9,
   "id": "79b75e00-8f1d-4323-b70f-2a8c1650500b",
   "metadata": {},
   "outputs": [
    {
     "data": {
      "text/plain": [
       "tuple"
      ]
     },
     "execution_count": 9,
     "metadata": {},
     "output_type": "execute_result"
    }
   ],
   "source": [
    "type(t2)"
   ]
  },
  {
   "cell_type": "code",
   "execution_count": 10,
   "id": "f815f820-107a-4eeb-bff4-278ee344e97d",
   "metadata": {},
   "outputs": [
    {
     "data": {
      "text/plain": [
       "('sand', 345, 23.54, (8+5j), True)"
      ]
     },
     "execution_count": 10,
     "metadata": {},
     "output_type": "execute_result"
    }
   ],
   "source": [
    "t1"
   ]
  },
  {
   "cell_type": "code",
   "execution_count": 11,
   "id": "ae706c81-2104-4bc8-b545-3f91f2243fbe",
   "metadata": {},
   "outputs": [
    {
     "data": {
      "text/plain": [
       "['sand', 345, 23.54, (8+5j), True]"
      ]
     },
     "execution_count": 11,
     "metadata": {},
     "output_type": "execute_result"
    }
   ],
   "source": [
    "l"
   ]
  },
  {
   "cell_type": "code",
   "execution_count": 12,
   "id": "bcd3353a-5aa6-4479-9cc9-ddaef6667ca3",
   "metadata": {},
   "outputs": [
    {
     "data": {
      "text/plain": [
       "['sand', 345]"
      ]
     },
     "execution_count": 12,
     "metadata": {},
     "output_type": "execute_result"
    }
   ],
   "source": [
    "l[0:2]"
   ]
  },
  {
   "cell_type": "code",
   "execution_count": 13,
   "id": "d1fbae62-1081-4a40-8304-ec17050167cd",
   "metadata": {},
   "outputs": [
    {
     "data": {
      "text/plain": [
       "('sand', 345)"
      ]
     },
     "execution_count": 13,
     "metadata": {},
     "output_type": "execute_result"
    }
   ],
   "source": [
    "t1[0:2]"
   ]
  },
  {
   "cell_type": "code",
   "execution_count": 14,
   "id": "11565e13-871b-435b-8219-dba5f85c0648",
   "metadata": {},
   "outputs": [
    {
     "data": {
      "text/plain": [
       "(True, (8+5j), 23.54, 345, 'sand')"
      ]
     },
     "execution_count": 14,
     "metadata": {},
     "output_type": "execute_result"
    }
   ],
   "source": [
    "t1[::-1]"
   ]
  },
  {
   "cell_type": "code",
   "execution_count": 15,
   "id": "6645cdb7-bdcd-4a18-bc1a-9a1c4dff5310",
   "metadata": {},
   "outputs": [
    {
     "data": {
      "text/plain": [
       "True"
      ]
     },
     "execution_count": 15,
     "metadata": {},
     "output_type": "execute_result"
    }
   ],
   "source": [
    "t1[-1]"
   ]
  },
  {
   "cell_type": "code",
   "execution_count": 16,
   "id": "5525dbe5-5d30-4483-9fa8-cd2dc2b82952",
   "metadata": {},
   "outputs": [],
   "source": [
    "#slicing wise there is no differnce between list tuple evne string also."
   ]
  },
  {
   "cell_type": "code",
   "execution_count": null,
   "id": "2e91a2b6-46cc-414c-ad6e-3c1a0610bbc1",
   "metadata": {},
   "outputs": [],
   "source": []
  },
  {
   "cell_type": "code",
   "execution_count": 17,
   "id": "d5cc2008-0f40-43da-aa1d-c390edfae63c",
   "metadata": {},
   "outputs": [
    {
     "data": {
      "text/plain": [
       "('sand', 345, 23.54, (8+5j), True)"
      ]
     },
     "execution_count": 17,
     "metadata": {},
     "output_type": "execute_result"
    }
   ],
   "source": [
    "t1"
   ]
  },
  {
   "cell_type": "code",
   "execution_count": 19,
   "id": "d691e881-55b3-4970-b51e-3f7072c99809",
   "metadata": {},
   "outputs": [
    {
     "data": {
      "text/plain": [
       "('sand', 23.54, True)"
      ]
     },
     "execution_count": 19,
     "metadata": {},
     "output_type": "execute_result"
    }
   ],
   "source": [
    "t1[0::2]"
   ]
  },
  {
   "cell_type": "code",
   "execution_count": 20,
   "id": "6888c62f-43f8-4239-9511-9d7f798d41c5",
   "metadata": {},
   "outputs": [
    {
     "data": {
      "text/plain": [
       "['sand', 345, 23.54, (8+5j), True]"
      ]
     },
     "execution_count": 20,
     "metadata": {},
     "output_type": "execute_result"
    }
   ],
   "source": [
    "l"
   ]
  },
  {
   "cell_type": "code",
   "execution_count": 21,
   "id": "65560330-8c63-4255-9b61-e2ecebf5adf3",
   "metadata": {},
   "outputs": [],
   "source": [
    "l1 = [4,5,6,7]"
   ]
  },
  {
   "cell_type": "code",
   "execution_count": 23,
   "id": "f6265532-6594-49bd-8888-6effa3c19110",
   "metadata": {},
   "outputs": [],
   "source": [
    "l[0] = 'kumar'   #mutable"
   ]
  },
  {
   "cell_type": "code",
   "execution_count": 24,
   "id": "573423e4-6e75-4036-b54f-d8722cc80cd0",
   "metadata": {},
   "outputs": [
    {
     "data": {
      "text/plain": [
       "['kumar', 345, 23.54, (8+5j), True]"
      ]
     },
     "execution_count": 24,
     "metadata": {},
     "output_type": "execute_result"
    }
   ],
   "source": [
    "l"
   ]
  },
  {
   "cell_type": "code",
   "execution_count": 25,
   "id": "413da0ec-d110-40ab-b65d-625e3da0fa97",
   "metadata": {},
   "outputs": [
    {
     "data": {
      "text/plain": [
       "('sand', 345, 23.54, (8+5j), True)"
      ]
     },
     "execution_count": 25,
     "metadata": {},
     "output_type": "execute_result"
    }
   ],
   "source": [
    "t1"
   ]
  },
  {
   "cell_type": "code",
   "execution_count": 28,
   "id": "b9fc79b1-97c4-4284-b84e-218352f03cac",
   "metadata": {},
   "outputs": [
    {
     "data": {
      "text/plain": [
       "'sand'"
      ]
     },
     "execution_count": 28,
     "metadata": {},
     "output_type": "execute_result"
    }
   ],
   "source": [
    "t1[0] "
   ]
  },
  {
   "cell_type": "code",
   "execution_count": 29,
   "id": "b89a44d1-843c-447b-97e9-c846e34b8b66",
   "metadata": {},
   "outputs": [
    {
     "ename": "TypeError",
     "evalue": "'tuple' object does not support item assignment",
     "output_type": "error",
     "traceback": [
      "\u001b[0;31m---------------------------------------------------------------------------\u001b[0m",
      "\u001b[0;31mTypeError\u001b[0m                                 Traceback (most recent call last)",
      "Cell \u001b[0;32mIn [29], line 1\u001b[0m\n\u001b[0;32m----> 1\u001b[0m \u001b[43mt1\u001b[49m\u001b[43m[\u001b[49m\u001b[38;5;241;43m0\u001b[39;49m\u001b[43m]\u001b[49m \u001b[38;5;241m=\u001b[39m \u001b[38;5;124m'\u001b[39m\u001b[38;5;124mxyz\u001b[39m\u001b[38;5;124m'\u001b[39m\n",
      "\u001b[0;31mTypeError\u001b[0m: 'tuple' object does not support item assignment"
     ]
    }
   ],
   "source": [
    "t1[0] = 'xyz'   # Immutable collection"
   ]
  },
  {
   "cell_type": "code",
   "execution_count": 30,
   "id": "e424ef92-82e4-43e1-b54b-bd29c2433016",
   "metadata": {},
   "outputs": [],
   "source": [
    "s = 'sudh'"
   ]
  },
  {
   "cell_type": "code",
   "execution_count": 32,
   "id": "73e1bc3a-abb5-4453-8a61-d702b6e26ac1",
   "metadata": {},
   "outputs": [
    {
     "ename": "TypeError",
     "evalue": "'str' object does not support item assignment",
     "output_type": "error",
     "traceback": [
      "\u001b[0;31m---------------------------------------------------------------------------\u001b[0m",
      "\u001b[0;31mTypeError\u001b[0m                                 Traceback (most recent call last)",
      "Cell \u001b[0;32mIn [32], line 1\u001b[0m\n\u001b[0;32m----> 1\u001b[0m \u001b[43ms\u001b[49m\u001b[43m[\u001b[49m\u001b[38;5;241;43m0\u001b[39;49m\u001b[43m]\u001b[49m \u001b[38;5;241m=\u001b[39m \u001b[38;5;241m43\u001b[39m\n",
      "\u001b[0;31mTypeError\u001b[0m: 'str' object does not support item assignment"
     ]
    }
   ],
   "source": [
    "s[0] = 43  #immutable"
   ]
  },
  {
   "cell_type": "code",
   "execution_count": 33,
   "id": "cfc6aedd-521a-45aa-a657-fc0a3515ba7a",
   "metadata": {},
   "outputs": [
    {
     "data": {
      "text/plain": [
       "('sand', 345, 23.54, (8+5j), True)"
      ]
     },
     "execution_count": 33,
     "metadata": {},
     "output_type": "execute_result"
    }
   ],
   "source": [
    "t1"
   ]
  },
  {
   "cell_type": "code",
   "execution_count": 34,
   "id": "2b9be7d0-f8da-4c10-a5a7-8dbd2add48dc",
   "metadata": {},
   "outputs": [],
   "source": [
    "t2 = (34,56,86,42,213)"
   ]
  },
  {
   "cell_type": "code",
   "execution_count": 35,
   "id": "08562637-24fb-49e9-a2c7-b199674bc216",
   "metadata": {},
   "outputs": [
    {
     "data": {
      "text/plain": [
       "('sand', 345, 23.54, (8+5j), True, 34, 56, 86, 42, 213)"
      ]
     },
     "execution_count": 35,
     "metadata": {},
     "output_type": "execute_result"
    }
   ],
   "source": [
    "t1 + t2"
   ]
  },
  {
   "cell_type": "code",
   "execution_count": 36,
   "id": "9b3a17a6-2a9c-4e19-83ab-ac2f96900a10",
   "metadata": {},
   "outputs": [
    {
     "data": {
      "text/plain": [
       "['kumar', 345, 23.54, (8+5j), True]"
      ]
     },
     "execution_count": 36,
     "metadata": {},
     "output_type": "execute_result"
    }
   ],
   "source": [
    "l"
   ]
  },
  {
   "cell_type": "code",
   "execution_count": 37,
   "id": "08670a57-c44a-4e4f-a284-deb0c7147675",
   "metadata": {},
   "outputs": [
    {
     "data": {
      "text/plain": [
       "[4, 5, 6, 7]"
      ]
     },
     "execution_count": 37,
     "metadata": {},
     "output_type": "execute_result"
    }
   ],
   "source": [
    "l1"
   ]
  },
  {
   "cell_type": "code",
   "execution_count": 38,
   "id": "47339ed9-9836-4abf-9c5d-18e016f79d3e",
   "metadata": {},
   "outputs": [
    {
     "data": {
      "text/plain": [
       "['kumar', 345, 23.54, (8+5j), True, 4, 5, 6, 7]"
      ]
     },
     "execution_count": 38,
     "metadata": {},
     "output_type": "execute_result"
    }
   ],
   "source": [
    "l + l1"
   ]
  },
  {
   "cell_type": "code",
   "execution_count": 39,
   "id": "0c363159-c261-4aaf-aa94-633f5c32d142",
   "metadata": {},
   "outputs": [
    {
     "data": {
      "text/plain": [
       "('sand', 345, 23.54, (8+5j), True)"
      ]
     },
     "execution_count": 39,
     "metadata": {},
     "output_type": "execute_result"
    }
   ],
   "source": [
    "t1"
   ]
  },
  {
   "cell_type": "code",
   "execution_count": 40,
   "id": "a001294b-0e42-4639-bad8-a28e42a4a72c",
   "metadata": {},
   "outputs": [
    {
     "data": {
      "text/plain": [
       "('sand', 345, 23.54, (8+5j), True, 'sand', 345, 23.54, (8+5j), True)"
      ]
     },
     "execution_count": 40,
     "metadata": {},
     "output_type": "execute_result"
    }
   ],
   "source": [
    "t1 * 2"
   ]
  },
  {
   "cell_type": "code",
   "execution_count": 41,
   "id": "05e13acc-7bff-4ae3-996f-f6b624cf741f",
   "metadata": {},
   "outputs": [
    {
     "data": {
      "text/plain": [
       "('sand', 345, 23.54, (8+5j), True)"
      ]
     },
     "execution_count": 41,
     "metadata": {},
     "output_type": "execute_result"
    }
   ],
   "source": [
    "t1"
   ]
  },
  {
   "cell_type": "code",
   "execution_count": 42,
   "id": "497a860f-9ca9-441d-8a5b-3332e450a704",
   "metadata": {},
   "outputs": [
    {
     "data": {
      "text/plain": [
       "1"
      ]
     },
     "execution_count": 42,
     "metadata": {},
     "output_type": "execute_result"
    }
   ],
   "source": [
    "t1.count('sand')"
   ]
  },
  {
   "cell_type": "code",
   "execution_count": 44,
   "id": "b0417427-a4ab-4fdb-aecc-c97af070c749",
   "metadata": {},
   "outputs": [
    {
     "data": {
      "text/plain": [
       "0"
      ]
     },
     "execution_count": 44,
     "metadata": {},
     "output_type": "execute_result"
    }
   ],
   "source": [
    "t1.index('sand')"
   ]
  },
  {
   "cell_type": "code",
   "execution_count": 45,
   "id": "28fff3d5-cc13-4bbe-8852-f4309869dd58",
   "metadata": {},
   "outputs": [],
   "source": [
    "t = (45,54,54,5,(4,5,6),('sand',45.63))"
   ]
  },
  {
   "cell_type": "code",
   "execution_count": 46,
   "id": "bd199bf4-6c9f-4c99-90a2-647acd489feb",
   "metadata": {},
   "outputs": [
    {
     "data": {
      "text/plain": [
       "(45, 54, 54, 5, (4, 5, 6), ('sand', 45.63))"
      ]
     },
     "execution_count": 46,
     "metadata": {},
     "output_type": "execute_result"
    }
   ],
   "source": [
    "t"
   ]
  },
  {
   "cell_type": "code",
   "execution_count": 51,
   "id": "7d781f38-d26b-4886-bc40-e95debda17c0",
   "metadata": {},
   "outputs": [],
   "source": [
    "t1 = ([3,4,5,6],('sand',7+8j,True),'ssak')"
   ]
  },
  {
   "cell_type": "code",
   "execution_count": 52,
   "id": "56c538f2-6e5c-4ad2-9737-f339a52ec710",
   "metadata": {},
   "outputs": [
    {
     "data": {
      "text/plain": [
       "([3, 4, 5, 6], ('sand', (7+8j), True), 'ssak')"
      ]
     },
     "execution_count": 52,
     "metadata": {},
     "output_type": "execute_result"
    }
   ],
   "source": [
    "t1"
   ]
  },
  {
   "cell_type": "code",
   "execution_count": 55,
   "id": "dfa9e0c4-db7b-4579-8f23-5b0f8df9c82a",
   "metadata": {},
   "outputs": [],
   "source": [
    "t1[0][1] = 'sandeep'"
   ]
  },
  {
   "cell_type": "code",
   "execution_count": 56,
   "id": "ae0a364c-566d-4d20-9f68-469f8970ab5e",
   "metadata": {},
   "outputs": [
    {
     "data": {
      "text/plain": [
       "([3, 'sandeep', 5, 6], ('sand', (7+8j), True), 'ssak')"
      ]
     },
     "execution_count": 56,
     "metadata": {},
     "output_type": "execute_result"
    }
   ],
   "source": [
    "t1"
   ]
  },
  {
   "cell_type": "code",
   "execution_count": 57,
   "id": "acaf7626-2f8b-4160-a9e7-f224e8445d18",
   "metadata": {},
   "outputs": [
    {
     "ename": "TypeError",
     "evalue": "'tuple' object does not support item assignment",
     "output_type": "error",
     "traceback": [
      "\u001b[0;31m---------------------------------------------------------------------------\u001b[0m",
      "\u001b[0;31mTypeError\u001b[0m                                 Traceback (most recent call last)",
      "Cell \u001b[0;32mIn [57], line 1\u001b[0m\n\u001b[0;32m----> 1\u001b[0m \u001b[43mt1\u001b[49m\u001b[43m[\u001b[49m\u001b[38;5;241;43m0\u001b[39;49m\u001b[43m]\u001b[49m \u001b[38;5;241m=\u001b[39m \u001b[38;5;124m'\u001b[39m\u001b[38;5;124msjss\u001b[39m\u001b[38;5;124m'\u001b[39m\n",
      "\u001b[0;31mTypeError\u001b[0m: 'tuple' object does not support item assignment"
     ]
    }
   ],
   "source": [
    "t1[0] = 'sjss'"
   ]
  },
  {
   "cell_type": "code",
   "execution_count": 58,
   "id": "c5d895e8-67ab-4beb-9658-f55dbe9d835d",
   "metadata": {},
   "outputs": [],
   "source": [
    "t1 = (24,3,464,6,356,42,78)"
   ]
  },
  {
   "cell_type": "code",
   "execution_count": 60,
   "id": "02d7cfd4-8e24-4831-aabb-36effdedff5c",
   "metadata": {},
   "outputs": [],
   "source": [
    "l = list(t1)"
   ]
  },
  {
   "cell_type": "code",
   "execution_count": 61,
   "id": "25f9cf1c-ec87-445e-8022-062322b7d53e",
   "metadata": {},
   "outputs": [
    {
     "data": {
      "text/plain": [
       "(24, 3, 464, 6, 356, 42, 78)"
      ]
     },
     "execution_count": 61,
     "metadata": {},
     "output_type": "execute_result"
    }
   ],
   "source": [
    "tuple(l)"
   ]
  },
  {
   "cell_type": "code",
   "execution_count": 62,
   "id": "00f342e5-093e-48ca-826c-c01d35dd7493",
   "metadata": {},
   "outputs": [],
   "source": [
    "#set"
   ]
  },
  {
   "cell_type": "code",
   "execution_count": 1,
   "id": "5c5be684-077d-4659-9331-9ef559eba5b6",
   "metadata": {},
   "outputs": [],
   "source": [
    "l = [1,2,3,4,5,6,7,5,5,5,5,3,3,3,1,1,2,6,4,1,2,3]"
   ]
  },
  {
   "cell_type": "code",
   "execution_count": 2,
   "id": "33f72484-0ca5-44e7-aad1-94544b685790",
   "metadata": {},
   "outputs": [
    {
     "data": {
      "text/plain": [
       "{1, 2, 3, 4, 5, 6, 7}"
      ]
     },
     "execution_count": 2,
     "metadata": {},
     "output_type": "execute_result"
    }
   ],
   "source": [
    "set(l)  # we removed all duplicate elements"
   ]
  },
  {
   "cell_type": "code",
   "execution_count": 3,
   "id": "8bc3ad63-4335-417e-9200-118bff07d91d",
   "metadata": {},
   "outputs": [],
   "source": [
    "s = {}"
   ]
  },
  {
   "cell_type": "code",
   "execution_count": 4,
   "id": "8e9c1fbd-ca5c-4544-a1f5-e05ddd141e05",
   "metadata": {},
   "outputs": [
    {
     "data": {
      "text/plain": [
       "dict"
      ]
     },
     "execution_count": 4,
     "metadata": {},
     "output_type": "execute_result"
    }
   ],
   "source": [
    "type(s)"
   ]
  },
  {
   "cell_type": "code",
   "execution_count": 5,
   "id": "57801889-05cc-4452-b64d-ee8750b07b5e",
   "metadata": {},
   "outputs": [],
   "source": [
    "s1 = {2,3,4}"
   ]
  },
  {
   "cell_type": "code",
   "execution_count": 6,
   "id": "e6b0d021-018f-4c2b-897c-5b534656fd55",
   "metadata": {},
   "outputs": [
    {
     "data": {
      "text/plain": [
       "set"
      ]
     },
     "execution_count": 6,
     "metadata": {},
     "output_type": "execute_result"
    }
   ],
   "source": [
    "type(s1)"
   ]
  },
  {
   "cell_type": "code",
   "execution_count": 9,
   "id": "e587a7ab-e353-404a-b22b-e17ec21e22ec",
   "metadata": {},
   "outputs": [],
   "source": [
    "s2 = {1,1,1,1,1,1,1,1,2,3,4,2,54,3,3,2,54}"
   ]
  },
  {
   "cell_type": "code",
   "execution_count": 10,
   "id": "f25ac29e-bfbc-4344-8b23-ac6d59b30be8",
   "metadata": {},
   "outputs": [
    {
     "data": {
      "text/plain": [
       "{1, 2, 3, 4, 54}"
      ]
     },
     "execution_count": 10,
     "metadata": {},
     "output_type": "execute_result"
    }
   ],
   "source": [
    "s2"
   ]
  },
  {
   "cell_type": "code",
   "execution_count": 12,
   "id": "1b65e451-1aaf-4d64-8d16-3b7b53cec3e5",
   "metadata": {},
   "outputs": [
    {
     "ename": "TypeError",
     "evalue": "'set' object is not subscriptable",
     "output_type": "error",
     "traceback": [
      "\u001b[0;31m---------------------------------------------------------------------------\u001b[0m",
      "\u001b[0;31mTypeError\u001b[0m                                 Traceback (most recent call last)",
      "Cell \u001b[0;32mIn [12], line 1\u001b[0m\n\u001b[0;32m----> 1\u001b[0m \u001b[43ms2\u001b[49m\u001b[43m[\u001b[49m\u001b[38;5;241;43m0\u001b[39;49m\u001b[43m]\u001b[49m\n",
      "\u001b[0;31mTypeError\u001b[0m: 'set' object is not subscriptable"
     ]
    }
   ],
   "source": [
    "s2[0]  # its a unordered selection"
   ]
  },
  {
   "cell_type": "code",
   "execution_count": 15,
   "id": "42f9e192-f505-47f6-aa4b-cd58ad19b536",
   "metadata": {},
   "outputs": [
    {
     "data": {
      "text/plain": [
       "[1, 2, 3, 4, 54]"
      ]
     },
     "execution_count": 15,
     "metadata": {},
     "output_type": "execute_result"
    }
   ],
   "source": [
    "list(s2)"
   ]
  },
  {
   "cell_type": "code",
   "execution_count": 17,
   "id": "12d4c2a7-3cbd-4351-91a2-da7b875c5223",
   "metadata": {},
   "outputs": [
    {
     "data": {
      "text/plain": [
       "{1, 2, 3, 4, 54}"
      ]
     },
     "execution_count": 17,
     "metadata": {},
     "output_type": "execute_result"
    }
   ],
   "source": [
    "s2"
   ]
  },
  {
   "cell_type": "code",
   "execution_count": 18,
   "id": "4229e079-5a5f-4285-9f62-5b8121f4b7bc",
   "metadata": {},
   "outputs": [],
   "source": [
    "s2.add(546)"
   ]
  },
  {
   "cell_type": "code",
   "execution_count": 19,
   "id": "85c1c18b-9907-4304-b658-fac988ae6127",
   "metadata": {},
   "outputs": [
    {
     "data": {
      "text/plain": [
       "{1, 2, 3, 4, 54, 546}"
      ]
     },
     "execution_count": 19,
     "metadata": {},
     "output_type": "execute_result"
    }
   ],
   "source": [
    "s2"
   ]
  },
  {
   "cell_type": "code",
   "execution_count": 20,
   "id": "9f7573c8-781c-4247-80fd-e027dd9abb58",
   "metadata": {},
   "outputs": [],
   "source": [
    "s2.add('sand')"
   ]
  },
  {
   "cell_type": "code",
   "execution_count": 21,
   "id": "a4cd41da-5b4a-4549-b1ae-57497497c9ef",
   "metadata": {},
   "outputs": [
    {
     "data": {
      "text/plain": [
       "{1, 2, 3, 4, 54, 546, 'sand'}"
      ]
     },
     "execution_count": 21,
     "metadata": {},
     "output_type": "execute_result"
    }
   ],
   "source": [
    "s2"
   ]
  },
  {
   "cell_type": "code",
   "execution_count": 22,
   "id": "119f305b-ad0b-445a-a228-b0321463773c",
   "metadata": {},
   "outputs": [
    {
     "ename": "TypeError",
     "evalue": "unhashable type: 'list'",
     "output_type": "error",
     "traceback": [
      "\u001b[0;31m---------------------------------------------------------------------------\u001b[0m",
      "\u001b[0;31mTypeError\u001b[0m                                 Traceback (most recent call last)",
      "Cell \u001b[0;32mIn [22], line 1\u001b[0m\n\u001b[0;32m----> 1\u001b[0m \u001b[43ms2\u001b[49m\u001b[38;5;241;43m.\u001b[39;49m\u001b[43madd\u001b[49m\u001b[43m(\u001b[49m\u001b[43m[\u001b[49m\u001b[38;5;241;43m1\u001b[39;49m\u001b[43m,\u001b[49m\u001b[38;5;241;43m2\u001b[39;49m\u001b[43m,\u001b[49m\u001b[38;5;241;43m3\u001b[39;49m\u001b[43m,\u001b[49m\u001b[38;5;241;43m4\u001b[39;49m\u001b[43m]\u001b[49m\u001b[43m)\u001b[49m\n",
      "\u001b[0;31mTypeError\u001b[0m: unhashable type: 'list'"
     ]
    }
   ],
   "source": [
    "s2.add([1,2,3,4]) # it allow only primitive datatype(string,complex num,integer)"
   ]
  },
  {
   "cell_type": "code",
   "execution_count": 24,
   "id": "35031657-1110-4ecb-8dcd-a26c5de07306",
   "metadata": {},
   "outputs": [
    {
     "ename": "TypeError",
     "evalue": "unhashable type: 'list'",
     "output_type": "error",
     "traceback": [
      "\u001b[0;31m---------------------------------------------------------------------------\u001b[0m",
      "\u001b[0;31mTypeError\u001b[0m                                 Traceback (most recent call last)",
      "Cell \u001b[0;32mIn [24], line 1\u001b[0m\n\u001b[0;32m----> 1\u001b[0m {[\u001b[38;5;241m3\u001b[39m,\u001b[38;5;241m4\u001b[39m,\u001b[38;5;241m5\u001b[39m,\u001b[38;5;241m6\u001b[39m],\u001b[38;5;241m4\u001b[39m,\u001b[38;5;241m56\u001b[39m,\u001b[38;5;241m7\u001b[39m,\u001b[38;5;241m8\u001b[39m}\n",
      "\u001b[0;31mTypeError\u001b[0m: unhashable type: 'list'"
     ]
    }
   ],
   "source": [
    "{[3,4,5,6],4,56,7,8} #LIST NOT ALLOWED"
   ]
  },
  {
   "cell_type": "code",
   "execution_count": 1,
   "id": "fbfaef91-af48-415d-b7ff-c9cd892a0445",
   "metadata": {},
   "outputs": [],
   "source": [
    "s = {(3,4,5,6),4,56,7,8} #tuple is allowed"
   ]
  },
  {
   "cell_type": "code",
   "execution_count": 2,
   "id": "1ca41f80-4de9-4630-ab1e-8e32d8319367",
   "metadata": {},
   "outputs": [
    {
     "data": {
      "text/plain": [
       "{(3, 4, 5, 6), 4, 56, 7, 8}"
      ]
     },
     "execution_count": 2,
     "metadata": {},
     "output_type": "execute_result"
    }
   ],
   "source": [
    "s"
   ]
  },
  {
   "cell_type": "code",
   "execution_count": 3,
   "id": "a085b068-4ed2-4290-977b-52d8c9d08f27",
   "metadata": {},
   "outputs": [],
   "source": [
    "s.remove(4)"
   ]
  },
  {
   "cell_type": "code",
   "execution_count": 4,
   "id": "0be68a49-0031-4ef5-acba-1387b35e828d",
   "metadata": {},
   "outputs": [
    {
     "data": {
      "text/plain": [
       "{(3, 4, 5, 6), 56, 7, 8}"
      ]
     },
     "execution_count": 4,
     "metadata": {},
     "output_type": "execute_result"
    }
   ],
   "source": [
    "s"
   ]
  },
  {
   "cell_type": "code",
   "execution_count": 7,
   "id": "bdd7ff35-ccb5-436f-8a16-39b935ef5cbf",
   "metadata": {},
   "outputs": [],
   "source": [
    "s.discard(7)"
   ]
  },
  {
   "cell_type": "code",
   "execution_count": 8,
   "id": "9cff5a17-3cf6-4e35-8033-1d34cdd42718",
   "metadata": {},
   "outputs": [
    {
     "data": {
      "text/plain": [
       "{(3, 4, 5, 6), 56, 8}"
      ]
     },
     "execution_count": 8,
     "metadata": {},
     "output_type": "execute_result"
    }
   ],
   "source": [
    "s"
   ]
  },
  {
   "cell_type": "code",
   "execution_count": 10,
   "id": "4b664eb3-3a23-46fb-bf05-292e05010d50",
   "metadata": {},
   "outputs": [
    {
     "ename": "KeyError",
     "evalue": "45",
     "output_type": "error",
     "traceback": [
      "\u001b[0;31m---------------------------------------------------------------------------\u001b[0m",
      "\u001b[0;31mKeyError\u001b[0m                                  Traceback (most recent call last)",
      "Cell \u001b[0;32mIn [10], line 1\u001b[0m\n\u001b[0;32m----> 1\u001b[0m \u001b[43ms\u001b[49m\u001b[38;5;241;43m.\u001b[39;49m\u001b[43mremove\u001b[49m\u001b[43m(\u001b[49m\u001b[38;5;241;43m45\u001b[39;49m\u001b[43m)\u001b[49m\n",
      "\u001b[0;31mKeyError\u001b[0m: 45"
     ]
    }
   ],
   "source": [
    "s.remove(45)"
   ]
  },
  {
   "cell_type": "code",
   "execution_count": 11,
   "id": "f5dea0ca-9968-4f50-848d-205d28c0f5b4",
   "metadata": {},
   "outputs": [],
   "source": [
    "s.discard(45)"
   ]
  },
  {
   "cell_type": "code",
   "execution_count": 13,
   "id": "5e8eb9c5-c961-4def-9d4b-25d4d1915abd",
   "metadata": {},
   "outputs": [
    {
     "data": {
      "text/plain": [
       "{'Sand', 'sand'}"
      ]
     },
     "execution_count": 13,
     "metadata": {},
     "output_type": "execute_result"
    }
   ],
   "source": [
    "{'sand','Sand'}"
   ]
  },
  {
   "cell_type": "code",
   "execution_count": 14,
   "id": "bf13f7bb-ffd5-4af2-842a-9d87484366ff",
   "metadata": {},
   "outputs": [],
   "source": [
    "s = {4,5,6,7,8,3,4,5,6,'sand','sand'}"
   ]
  },
  {
   "cell_type": "code",
   "execution_count": 15,
   "id": "a55b1d02-0dd7-4a22-89b8-53167392f447",
   "metadata": {},
   "outputs": [
    {
     "data": {
      "text/plain": [
       "{3, 4, 5, 6, 7, 8, 'sand'}"
      ]
     },
     "execution_count": 15,
     "metadata": {},
     "output_type": "execute_result"
    }
   ],
   "source": [
    "s"
   ]
  },
  {
   "cell_type": "code",
   "execution_count": null,
   "id": "ddeeb7e2-a97b-449c-9fa7-c991215e92e6",
   "metadata": {},
   "outputs": [],
   "source": []
  },
  {
   "cell_type": "code",
   "execution_count": null,
   "id": "3a773bb3-2f8b-469d-8df4-3cea9c7515dd",
   "metadata": {},
   "outputs": [],
   "source": [
    "  "
   ]
  },
  {
   "cell_type": "code",
   "execution_count": null,
   "id": "e19122ff-0fa4-44f9-9f55-38855448f859",
   "metadata": {},
   "outputs": [],
   "source": [
    "#Dictionary"
   ]
  },
  {
   "cell_type": "code",
   "execution_count": 16,
   "id": "4a703f75-a093-4b7e-ba03-cdbe81e0a005",
   "metadata": {},
   "outputs": [],
   "source": [
    "d = {}"
   ]
  },
  {
   "cell_type": "code",
   "execution_count": 17,
   "id": "ab93076f-d49a-4ba8-8069-555622926b73",
   "metadata": {},
   "outputs": [
    {
     "data": {
      "text/plain": [
       "dict"
      ]
     },
     "execution_count": 17,
     "metadata": {},
     "output_type": "execute_result"
    }
   ],
   "source": [
    "type(d)"
   ]
  },
  {
   "cell_type": "code",
   "execution_count": 18,
   "id": "92f1281f-aaa6-4f0d-ba59-6c47be5d4bc8",
   "metadata": {},
   "outputs": [],
   "source": [
    "d = {4 : 'sandeep'}"
   ]
  },
  {
   "cell_type": "code",
   "execution_count": 19,
   "id": "b3ab6028-239a-478f-8d96-a2079de8dba4",
   "metadata": {},
   "outputs": [],
   "source": [
    "d1 = {'key1' : 545 , 'key2' : 'sandeep' , 'key3': [1,2,3,4,5]}"
   ]
  },
  {
   "cell_type": "code",
   "execution_count": 20,
   "id": "600696f7-1add-4103-b57d-38240bbe2a45",
   "metadata": {},
   "outputs": [],
   "source": [
    "l = [3,5,6,4,7]"
   ]
  },
  {
   "cell_type": "code",
   "execution_count": 24,
   "id": "503d0057-6458-4190-910f-ae642749c96e",
   "metadata": {},
   "outputs": [
    {
     "data": {
      "text/plain": [
       "6"
      ]
     },
     "execution_count": 24,
     "metadata": {},
     "output_type": "execute_result"
    }
   ],
   "source": [
    "l[2]"
   ]
  },
  {
   "cell_type": "code",
   "execution_count": 21,
   "id": "9f7ebeb1-449a-40f8-a526-27956b3d7924",
   "metadata": {},
   "outputs": [
    {
     "data": {
      "text/plain": [
       "{'key1': 545, 'key2': 'sandeep', 'key3': [1, 2, 3, 4, 5]}"
      ]
     },
     "execution_count": 21,
     "metadata": {},
     "output_type": "execute_result"
    }
   ],
   "source": [
    "d1"
   ]
  },
  {
   "cell_type": "code",
   "execution_count": 23,
   "id": "f17ec21c-9bf2-40bf-bca2-ed37589ca879",
   "metadata": {},
   "outputs": [
    {
     "data": {
      "text/plain": [
       "545"
      ]
     },
     "execution_count": 23,
     "metadata": {},
     "output_type": "execute_result"
    }
   ],
   "source": [
    "d1['key1']"
   ]
  },
  {
   "cell_type": "code",
   "execution_count": 26,
   "id": "ebda10b4-647b-483b-84d9-478b5ad9be7a",
   "metadata": {},
   "outputs": [
    {
     "data": {
      "text/plain": [
       "[1, 2, 3, 4, 5]"
      ]
     },
     "execution_count": 26,
     "metadata": {},
     "output_type": "execute_result"
    }
   ],
   "source": [
    "d1['key3']"
   ]
  },
  {
   "cell_type": "code",
   "execution_count": 27,
   "id": "33ef13a0-823d-43c7-9eac-aa982fb5408e",
   "metadata": {},
   "outputs": [],
   "source": [
    "d = {'KEY':['jdshjshk','def',4,5,6,7]}"
   ]
  },
  {
   "cell_type": "code",
   "execution_count": 28,
   "id": "9669d6e7-ef3a-40a4-ad6e-066bf455d9d9",
   "metadata": {},
   "outputs": [],
   "source": [
    "d1 = {'key1':[2,3,4,5], 'key2':'sand','key1':456}"
   ]
  },
  {
   "cell_type": "code",
   "execution_count": 29,
   "id": "a0bdcade-bdb2-4796-b9cd-1cf315afa739",
   "metadata": {},
   "outputs": [
    {
     "data": {
      "text/plain": [
       "456"
      ]
     },
     "execution_count": 29,
     "metadata": {},
     "output_type": "execute_result"
    }
   ],
   "source": [
    "d1['key1']"
   ]
  },
  {
   "cell_type": "code",
   "execution_count": 35,
   "id": "98e48de8-ed27-440c-a102-053ecae5fc28",
   "metadata": {},
   "outputs": [],
   "source": [
    "d = {'name': 'sandeep','num':465568979,'mail':'sandeep@xyz.com','key1':[4,5,6,7],\n",
    "     'key2':(9,8,7,6),'key3':{4,6,8,4,4,4,8,8,7,6,6,7},'key4':{1:'san',2:456}}"
   ]
  },
  {
   "cell_type": "code",
   "execution_count": 36,
   "id": "c5c70cb8-0b94-4cc5-9608-e5bccfa6e86b",
   "metadata": {},
   "outputs": [
    {
     "data": {
      "text/plain": [
       "{'name': 'sandeep',\n",
       " 'num': 465568979,\n",
       " 'mail': 'sandeep@xyz.com',\n",
       " 'key1': [4, 5, 6, 7],\n",
       " 'key2': (9, 8, 7, 6),\n",
       " 'key3': {4, 6, 7, 8},\n",
       " 'key4': {1: 'san', 2: 456}}"
      ]
     },
     "execution_count": 36,
     "metadata": {},
     "output_type": "execute_result"
    }
   ],
   "source": [
    "d"
   ]
  },
  {
   "cell_type": "code",
   "execution_count": 38,
   "id": "4e5f4d5f-f757-426c-a942-ccd3554d55ce",
   "metadata": {},
   "outputs": [
    {
     "data": {
      "text/plain": [
       "set"
      ]
     },
     "execution_count": 38,
     "metadata": {},
     "output_type": "execute_result"
    }
   ],
   "source": [
    "type(d['key3'])"
   ]
  },
  {
   "cell_type": "code",
   "execution_count": 39,
   "id": "e4b28e11-7585-4566-9e60-eec3aa50dabd",
   "metadata": {},
   "outputs": [
    {
     "data": {
      "text/plain": [
       "{1: 'san', 2: 456}"
      ]
     },
     "execution_count": 39,
     "metadata": {},
     "output_type": "execute_result"
    }
   ],
   "source": [
    "d['key4']"
   ]
  },
  {
   "cell_type": "code",
   "execution_count": 40,
   "id": "498e670b-5d2e-4308-a5c3-3ee05151bf56",
   "metadata": {},
   "outputs": [
    {
     "data": {
      "text/plain": [
       "456"
      ]
     },
     "execution_count": 40,
     "metadata": {},
     "output_type": "execute_result"
    }
   ],
   "source": [
    "d['key4'][2]"
   ]
  },
  {
   "cell_type": "code",
   "execution_count": 41,
   "id": "9e4e17d7-c491-49e3-b173-5a75be3982de",
   "metadata": {},
   "outputs": [
    {
     "data": {
      "text/plain": [
       "dict_keys(['name', 'num', 'mail', 'key1', 'key2', 'key3', 'key4'])"
      ]
     },
     "execution_count": 41,
     "metadata": {},
     "output_type": "execute_result"
    }
   ],
   "source": [
    "d.keys()"
   ]
  },
  {
   "cell_type": "code",
   "execution_count": 42,
   "id": "2ba77504-9753-4ea5-b574-d1308aca1aeb",
   "metadata": {},
   "outputs": [
    {
     "data": {
      "text/plain": [
       "dict_values(['sandeep', 465568979, 'sandeep@xyz.com', [4, 5, 6, 7], (9, 8, 7, 6), {8, 4, 6, 7}, {1: 'san', 2: 456}])"
      ]
     },
     "execution_count": 42,
     "metadata": {},
     "output_type": "execute_result"
    }
   ],
   "source": [
    "d.values()"
   ]
  },
  {
   "cell_type": "code",
   "execution_count": 43,
   "id": "120ff798-156a-403d-8fc6-8e9efd75e62c",
   "metadata": {},
   "outputs": [
    {
     "data": {
      "text/plain": [
       "dict_items([('name', 'sandeep'), ('num', 465568979), ('mail', 'sandeep@xyz.com'), ('key1', [4, 5, 6, 7]), ('key2', (9, 8, 7, 6)), ('key3', {8, 4, 6, 7}), ('key4', {1: 'san', 2: 456})])"
      ]
     },
     "execution_count": 43,
     "metadata": {},
     "output_type": "execute_result"
    }
   ],
   "source": [
    "d.items()"
   ]
  },
  {
   "cell_type": "code",
   "execution_count": 44,
   "id": "9e33df16-033c-4d4e-9c13-ab3352246994",
   "metadata": {},
   "outputs": [],
   "source": [
    "d = {'key1':'sand','key2':[1,2,3,4]}"
   ]
  },
  {
   "cell_type": "code",
   "execution_count": 45,
   "id": "11efac59-ed2c-4428-a0d8-5178c80cee4c",
   "metadata": {},
   "outputs": [
    {
     "data": {
      "text/plain": [
       "{'key1': 'sand', 'key2': [1, 2, 3, 4]}"
      ]
     },
     "execution_count": 45,
     "metadata": {},
     "output_type": "execute_result"
    }
   ],
   "source": [
    "d"
   ]
  },
  {
   "cell_type": "code",
   "execution_count": 46,
   "id": "733faadf-8293-44d0-8bfc-a99254ae0ad7",
   "metadata": {},
   "outputs": [],
   "source": [
    "d['key3'] = 'Kumar'"
   ]
  },
  {
   "cell_type": "code",
   "execution_count": 47,
   "id": "31fd9918-8525-451d-ad48-63063049f722",
   "metadata": {},
   "outputs": [
    {
     "data": {
      "text/plain": [
       "{'key1': 'sand', 'key2': [1, 2, 3, 4], 'key3': 'Kumar'}"
      ]
     },
     "execution_count": 47,
     "metadata": {},
     "output_type": "execute_result"
    }
   ],
   "source": [
    "d"
   ]
  },
  {
   "cell_type": "code",
   "execution_count": 48,
   "id": "96f23473-67e0-4e1a-8119-36895a297033",
   "metadata": {},
   "outputs": [],
   "source": [
    "d[4] = [2,44,4,4,5,4]"
   ]
  },
  {
   "cell_type": "code",
   "execution_count": 49,
   "id": "57ef14da-b6a9-4594-804d-ee33b8faa0c2",
   "metadata": {},
   "outputs": [
    {
     "data": {
      "text/plain": [
       "{'key1': 'sand', 'key2': [1, 2, 3, 4], 'key3': 'Kumar', 4: [2, 44, 4, 4, 5, 4]}"
      ]
     },
     "execution_count": 49,
     "metadata": {},
     "output_type": "execute_result"
    }
   ],
   "source": [
    "d"
   ]
  },
  {
   "cell_type": "code",
   "execution_count": 50,
   "id": "f9f05b76-a3af-4cd8-b60e-4a2cc47fedb6",
   "metadata": {},
   "outputs": [],
   "source": [
    "d['key1'] = 'Sandeep'  # it will update the key1 value"
   ]
  },
  {
   "cell_type": "code",
   "execution_count": 51,
   "id": "381257a9-e09a-40b9-97dd-64f138d35e64",
   "metadata": {},
   "outputs": [
    {
     "data": {
      "text/plain": [
       "{'key1': 'Sandeep',\n",
       " 'key2': [1, 2, 3, 4],\n",
       " 'key3': 'Kumar',\n",
       " 4: [2, 44, 4, 4, 5, 4]}"
      ]
     },
     "execution_count": 51,
     "metadata": {},
     "output_type": "execute_result"
    }
   ],
   "source": [
    "d"
   ]
  },
  {
   "cell_type": "code",
   "execution_count": 52,
   "id": "0b77c323-51a1-4435-8607-743fad60f2d7",
   "metadata": {},
   "outputs": [],
   "source": [
    "del d['key1']"
   ]
  },
  {
   "cell_type": "code",
   "execution_count": 53,
   "id": "945aafc8-634b-4267-9250-7777937a52c7",
   "metadata": {},
   "outputs": [
    {
     "data": {
      "text/plain": [
       "{'key2': [1, 2, 3, 4], 'key3': 'Kumar', 4: [2, 44, 4, 4, 5, 4]}"
      ]
     },
     "execution_count": 53,
     "metadata": {},
     "output_type": "execute_result"
    }
   ],
   "source": [
    "d"
   ]
  },
  {
   "cell_type": "code",
   "execution_count": 54,
   "id": "edfe5890-7441-4bc7-8486-7899b33f88a0",
   "metadata": {},
   "outputs": [],
   "source": [
    "del d"
   ]
  },
  {
   "cell_type": "code",
   "execution_count": 55,
   "id": "807b37fe-cad5-4fb4-89b4-7270fb31c078",
   "metadata": {},
   "outputs": [
    {
     "ename": "NameError",
     "evalue": "name 'd' is not defined",
     "output_type": "error",
     "traceback": [
      "\u001b[0;31m---------------------------------------------------------------------------\u001b[0m",
      "\u001b[0;31mNameError\u001b[0m                                 Traceback (most recent call last)",
      "Cell \u001b[0;32mIn [55], line 1\u001b[0m\n\u001b[0;32m----> 1\u001b[0m \u001b[43md\u001b[49m\n",
      "\u001b[0;31mNameError\u001b[0m: name 'd' is not defined"
     ]
    }
   ],
   "source": [
    "d"
   ]
  },
  {
   "cell_type": "code",
   "execution_count": 56,
   "id": "f34f2163-caa4-4db4-9547-f2fbf836c833",
   "metadata": {},
   "outputs": [],
   "source": [
    "d1 = {'key1':'Sand','key2':[4,5,6,7,8]}"
   ]
  },
  {
   "cell_type": "code",
   "execution_count": 57,
   "id": "4639ec61-ae5e-4c7d-ab1d-a3676e818357",
   "metadata": {},
   "outputs": [
    {
     "ename": "TypeError",
     "evalue": "unhashable type: 'list'",
     "output_type": "error",
     "traceback": [
      "\u001b[0;31m---------------------------------------------------------------------------\u001b[0m",
      "\u001b[0;31mTypeError\u001b[0m                                 Traceback (most recent call last)",
      "Cell \u001b[0;32mIn [57], line 1\u001b[0m\n\u001b[0;32m----> 1\u001b[0m \u001b[43md1\u001b[49m\u001b[43m[\u001b[49m\u001b[43m[\u001b[49m\u001b[38;5;241;43m1\u001b[39;49m\u001b[43m,\u001b[49m\u001b[38;5;241;43m2\u001b[39;49m\u001b[43m,\u001b[49m\u001b[38;5;241;43m3\u001b[39;49m\u001b[43m]\u001b[49m\u001b[43m]\u001b[49m\u001b[38;5;241m=\u001b[39m \u001b[38;5;124m'\u001b[39m\u001b[38;5;124mineuron\u001b[39m\u001b[38;5;124m'\u001b[39m\n",
      "\u001b[0;31mTypeError\u001b[0m: unhashable type: 'list'"
     ]
    }
   ],
   "source": [
    "d1[[1,2,3]]= 'ineuron'"
   ]
  },
  {
   "cell_type": "code",
   "execution_count": 58,
   "id": "cb4481b1-ac17-4905-95c7-57334144761a",
   "metadata": {},
   "outputs": [],
   "source": [
    "d1[(1,2,3)]= 'ineuron'"
   ]
  },
  {
   "cell_type": "code",
   "execution_count": 59,
   "id": "24884292-7fd1-412e-911c-a4e6fa73827b",
   "metadata": {},
   "outputs": [
    {
     "data": {
      "text/plain": [
       "{'key1': 'Sand', 'key2': [4, 5, 6, 7, 8], (1, 2, 3): 'ineuron'}"
      ]
     },
     "execution_count": 59,
     "metadata": {},
     "output_type": "execute_result"
    }
   ],
   "source": [
    "d1"
   ]
  },
  {
   "cell_type": "code",
   "execution_count": 60,
   "id": "7a726113-455c-4b71-8ae3-33b14a702236",
   "metadata": {},
   "outputs": [
    {
     "data": {
      "text/plain": [
       "'Sand'"
      ]
     },
     "execution_count": 60,
     "metadata": {},
     "output_type": "execute_result"
    }
   ],
   "source": [
    "d1.get('key1')"
   ]
  },
  {
   "cell_type": "code",
   "execution_count": 61,
   "id": "9c00f3e2-ee4f-439b-bcea-8090d7bd399b",
   "metadata": {},
   "outputs": [],
   "source": [
    "d1 = {'key1':'ineuron','key2': 'FSDS'}"
   ]
  },
  {
   "cell_type": "code",
   "execution_count": 65,
   "id": "ffa50e31-8c9b-4c79-ad1e-1cf116313da5",
   "metadata": {},
   "outputs": [],
   "source": [
    "d2 = {'key3':456 , 'key4':[1,2,3,4,5]}"
   ]
  },
  {
   "cell_type": "code",
   "execution_count": 66,
   "id": "bed5d7ee-1854-48e6-b10f-df6b73e5e765",
   "metadata": {},
   "outputs": [],
   "source": [
    "d1.update(d2)"
   ]
  },
  {
   "cell_type": "code",
   "execution_count": 67,
   "id": "2da61e71-be46-49e8-8978-14783615f205",
   "metadata": {},
   "outputs": [
    {
     "data": {
      "text/plain": [
       "{'key1': 'ineuron', 'key2': 'FSDS', 'key3': 456, 'key4': [1, 2, 3, 4, 5]}"
      ]
     },
     "execution_count": 67,
     "metadata": {},
     "output_type": "execute_result"
    }
   ],
   "source": [
    "d1"
   ]
  },
  {
   "cell_type": "code",
   "execution_count": 68,
   "id": "193509d0-899e-4272-ad2a-ab8352e38dbd",
   "metadata": {},
   "outputs": [
    {
     "data": {
      "text/plain": [
       "{'key3': 456, 'key4': [1, 2, 3, 4, 5]}"
      ]
     },
     "execution_count": 68,
     "metadata": {},
     "output_type": "execute_result"
    }
   ],
   "source": [
    "d2"
   ]
  },
  {
   "cell_type": "code",
   "execution_count": 69,
   "id": "14276562-d36f-4017-b81c-5cc7a2384b45",
   "metadata": {},
   "outputs": [
    {
     "ename": "TypeError",
     "evalue": "unsupported operand type(s) for +: 'dict' and 'dict'",
     "output_type": "error",
     "traceback": [
      "\u001b[0;31m---------------------------------------------------------------------------\u001b[0m",
      "\u001b[0;31mTypeError\u001b[0m                                 Traceback (most recent call last)",
      "Cell \u001b[0;32mIn [69], line 1\u001b[0m\n\u001b[0;32m----> 1\u001b[0m \u001b[43md1\u001b[49m\u001b[43m \u001b[49m\u001b[38;5;241;43m+\u001b[39;49m\u001b[43m \u001b[49m\u001b[43md2\u001b[49m\n",
      "\u001b[0;31mTypeError\u001b[0m: unsupported operand type(s) for +: 'dict' and 'dict'"
     ]
    }
   ],
   "source": [
    "d1 + d2"
   ]
  },
  {
   "cell_type": "code",
   "execution_count": 70,
   "id": "ebdd047d-5c4e-475b-8091-5feb551dbf63",
   "metadata": {},
   "outputs": [
    {
     "data": {
      "text/plain": [
       "{'key1': 'ineuron', 'key2': 'FSDS', 'key3': 456, 'key4': [1, 2, 3, 4, 5]}"
      ]
     },
     "execution_count": 70,
     "metadata": {},
     "output_type": "execute_result"
    }
   ],
   "source": [
    "d1"
   ]
  },
  {
   "cell_type": "code",
   "execution_count": 71,
   "id": "42401675-0f93-43ae-824e-dc225b37e7e6",
   "metadata": {},
   "outputs": [],
   "source": [
    "key = ('name','num','mail')\n",
    "value = 'sudh'"
   ]
  },
  {
   "cell_type": "code",
   "execution_count": 72,
   "id": "c09f9f0b-4266-4fdf-8f95-240bdd248ea9",
   "metadata": {},
   "outputs": [],
   "source": [
    "d = d1.fromkeys(key , value)"
   ]
  },
  {
   "cell_type": "code",
   "execution_count": 73,
   "id": "c9fd9df0-3b76-421a-89bd-9fc4da8e3b88",
   "metadata": {},
   "outputs": [
    {
     "data": {
      "text/plain": [
       "{'name': 'sudh', 'num': 'sudh', 'mail': 'sudh'}"
      ]
     },
     "execution_count": 73,
     "metadata": {},
     "output_type": "execute_result"
    }
   ],
   "source": [
    "d"
   ]
  },
  {
   "cell_type": "code",
   "execution_count": null,
   "id": "3358c972-5ead-4cb6-b520-1baa11bbbcfc",
   "metadata": {},
   "outputs": [],
   "source": []
  }
 ],
 "metadata": {
  "kernelspec": {
   "display_name": "Python 3 (ipykernel)",
   "language": "python",
   "name": "python3"
  },
  "language_info": {
   "codemirror_mode": {
    "name": "ipython",
    "version": 3
   },
   "file_extension": ".py",
   "mimetype": "text/x-python",
   "name": "python",
   "nbconvert_exporter": "python",
   "pygments_lexer": "ipython3",
   "version": "3.10.6"
  }
 },
 "nbformat": 4,
 "nbformat_minor": 5
}
