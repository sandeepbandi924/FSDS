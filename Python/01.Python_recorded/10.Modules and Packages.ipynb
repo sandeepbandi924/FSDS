{
 "cells": [
  {
   "cell_type": "code",
   "execution_count": 1,
   "id": "efd3c6d5-6182-43c0-b146-a1e63c6c0251",
   "metadata": {},
   "outputs": [],
   "source": [
    "import os"
   ]
  },
  {
   "cell_type": "code",
   "execution_count": null,
   "id": "841ef6fd-d88c-404b-aa7b-a25ffce979c3",
   "metadata": {},
   "outputs": [],
   "source": [
    " os."
   ]
  },
  {
   "cell_type": "code",
   "execution_count": 2,
   "id": "9cbe2ad4-0475-4165-84c1-57d49cd58716",
   "metadata": {},
   "outputs": [],
   "source": [
    "def test(a,b):\n",
    "    return a + b"
   ]
  },
  {
   "cell_type": "code",
   "execution_count": 3,
   "id": "1003b651-0a4b-4475-88c5-219776bc89e5",
   "metadata": {},
   "outputs": [
    {
     "name": "stdout",
     "output_type": "stream",
     "text": [
      " 01.Basics.ipynb                      09.Logging.ipynb\n",
      "'02.String,List and Indexing.ipynb'   FunctionSolutions.ipynb\n",
      "'03.Tuple, Set & Dict.ipynb'          google.txt\n",
      "'04.If,Else & For Loop.ipynb'         test1.log\n",
      "'05.For & while loops.ipynb'          test2.log\n",
      " 06.Functions_P1.ipynb                test.log\n",
      " 06.Functions_P2.ipynb                test.py\n",
      "'07.Iter,Gen&File System.ipynb'       Untitled.ipynb\n",
      " 08.ExceptionHandling.ipynb\n"
     ]
    }
   ],
   "source": [
    "ls"
   ]
  },
  {
   "cell_type": "code",
   "execution_count": 4,
   "id": "ff96dcdf-100d-49e5-b388-2a293c4a2ad5",
   "metadata": {},
   "outputs": [
    {
     "data": {
      "text/plain": [
       "<_io.TextIOWrapper name='test1.py' mode='w' encoding='UTF-8'>"
      ]
     },
     "execution_count": 4,
     "metadata": {},
     "output_type": "execute_result"
    }
   ],
   "source": [
    "open('test1.py','w')"
   ]
  },
  {
   "cell_type": "code",
   "execution_count": 5,
   "id": "a24adf88-6fbe-4583-a80c-1f20bbe27524",
   "metadata": {},
   "outputs": [
    {
     "name": "stdout",
     "output_type": "stream",
     "text": [
      " 01.Basics.ipynb                      09.Logging.ipynb\n",
      "'02.String,List and Indexing.ipynb'   FunctionSolutions.ipynb\n",
      "'03.Tuple, Set & Dict.ipynb'          google.txt\n",
      "'04.If,Else & For Loop.ipynb'         test1.log\n",
      "'05.For & while loops.ipynb'          test1.py\n",
      " 06.Functions_P1.ipynb                test2.log\n",
      " 06.Functions_P2.ipynb                test.log\n",
      "'07.Iter,Gen&File System.ipynb'       test.py\n",
      " 08.ExceptionHandling.ipynb           Untitled.ipynb\n"
     ]
    }
   ],
   "source": [
    "ls"
   ]
  },
  {
   "cell_type": "code",
   "execution_count": 1,
   "id": "f784b188-d89f-41af-a12b-26dc1b885763",
   "metadata": {},
   "outputs": [],
   "source": [
    "import test1 as tt"
   ]
  },
  {
   "cell_type": "code",
   "execution_count": 2,
   "id": "3d3e862d-cf1c-4464-bfed-d36929af2f13",
   "metadata": {},
   "outputs": [
    {
     "data": {
      "text/plain": [
       "3"
      ]
     },
     "execution_count": 2,
     "metadata": {},
     "output_type": "execute_result"
    }
   ],
   "source": [
    "tt.add(1,2)"
   ]
  },
  {
   "cell_type": "code",
   "execution_count": 3,
   "id": "c952fec6-dafe-4129-800c-e0e054071a02",
   "metadata": {},
   "outputs": [
    {
     "data": {
      "text/plain": [
       "24"
      ]
     },
     "execution_count": 3,
     "metadata": {},
     "output_type": "execute_result"
    }
   ],
   "source": [
    "tt.sub(45,21)"
   ]
  },
  {
   "cell_type": "code",
   "execution_count": 4,
   "id": "803be20d-e108-4416-aa08-070374856c78",
   "metadata": {},
   "outputs": [
    {
     "data": {
      "text/plain": [
       "60"
      ]
     },
     "execution_count": 4,
     "metadata": {},
     "output_type": "execute_result"
    }
   ],
   "source": [
    "tt.mul(4,15)"
   ]
  },
  {
   "cell_type": "code",
   "execution_count": 5,
   "id": "2c9a77f9-abad-4602-88bb-7fda4874fc64",
   "metadata": {},
   "outputs": [
    {
     "name": "stdout",
     "output_type": "stream",
     "text": [
      "This is my code written in module test1\n"
     ]
    }
   ],
   "source": [
    "tt.story()"
   ]
  },
  {
   "cell_type": "code",
   "execution_count": 6,
   "id": "2b222062-3248-4852-abe1-d5a3b10aff04",
   "metadata": {},
   "outputs": [],
   "source": [
    "from test1 import add"
   ]
  },
  {
   "cell_type": "code",
   "execution_count": 7,
   "id": "0faec611-322d-4ed6-aeec-0a6faa286927",
   "metadata": {},
   "outputs": [],
   "source": [
    "from test1 import *"
   ]
  },
  {
   "cell_type": "code",
   "execution_count": 9,
   "id": "63bb1756-d27c-4717-804d-ccd6df0c06cd",
   "metadata": {},
   "outputs": [
    {
     "data": {
      "text/plain": [
       "['In',\n",
       " 'Out',\n",
       " '_',\n",
       " '_2',\n",
       " '_3',\n",
       " '_4',\n",
       " '_8',\n",
       " '__',\n",
       " '___',\n",
       " '__builtin__',\n",
       " '__builtins__',\n",
       " '__doc__',\n",
       " '__loader__',\n",
       " '__name__',\n",
       " '__package__',\n",
       " '__spec__',\n",
       " '_dh',\n",
       " '_i',\n",
       " '_i1',\n",
       " '_i2',\n",
       " '_i3',\n",
       " '_i4',\n",
       " '_i5',\n",
       " '_i6',\n",
       " '_i7',\n",
       " '_i8',\n",
       " '_i9',\n",
       " '_ih',\n",
       " '_ii',\n",
       " '_iii',\n",
       " '_oh',\n",
       " 'add',\n",
       " 'div',\n",
       " 'exit',\n",
       " 'get_ipython',\n",
       " 'mul',\n",
       " 'quit',\n",
       " 'story',\n",
       " 'sub',\n",
       " 'tt']"
      ]
     },
     "execution_count": 9,
     "metadata": {},
     "output_type": "execute_result"
    }
   ],
   "source": [
    "dir()"
   ]
  },
  {
   "cell_type": "code",
   "execution_count": 11,
   "id": "eed1a6f2-1d41-43e8-a7c5-d11a69a5dbee",
   "metadata": {},
   "outputs": [
    {
     "data": {
      "text/plain": [
       "<_io.TextIOWrapper name='my_module.py' mode='w' encoding='UTF-8'>"
      ]
     },
     "execution_count": 11,
     "metadata": {},
     "output_type": "execute_result"
    }
   ],
   "source": [
    "open('my_module.py','w')"
   ]
  },
  {
   "cell_type": "code",
   "execution_count": 4,
   "id": "c2d56f86-51e6-46f8-a47b-85cda292f76a",
   "metadata": {},
   "outputs": [],
   "source": [
    "import my_module as mod"
   ]
  },
  {
   "cell_type": "code",
   "execution_count": 5,
   "id": "4e9b0757-51a8-4b79-bcf8-51566474bbd9",
   "metadata": {},
   "outputs": [
    {
     "data": {
      "text/plain": [
       "['FSDS', 'Blockchain', 'Data Science', 'ML', 'Cloud']"
      ]
     },
     "execution_count": 5,
     "metadata": {},
     "output_type": "execute_result"
    }
   ],
   "source": [
    "mod.get_course()"
   ]
  },
  {
   "cell_type": "code",
   "execution_count": 6,
   "id": "2507b03a-8828-4e30-abe4-e60ed50d5d0c",
   "metadata": {},
   "outputs": [
    {
     "data": {
      "text/plain": [
       "'Greetings from Ineuron'"
      ]
     },
     "execution_count": 6,
     "metadata": {},
     "output_type": "execute_result"
    }
   ],
   "source": [
    "mod.grettings()"
   ]
  },
  {
   "cell_type": "code",
   "execution_count": null,
   "id": "d385f77d-f147-404e-a579-767b8a7895f0",
   "metadata": {},
   "outputs": [],
   "source": [
    "#module\n",
    "It nothing but a python file \n",
    "\n",
    "#package:\n",
    "collection of modules"
   ]
  }
 ],
 "metadata": {
  "kernelspec": {
   "display_name": "Python 3 (ipykernel)",
   "language": "python",
   "name": "python3"
  },
  "language_info": {
   "codemirror_mode": {
    "name": "ipython",
    "version": 3
   },
   "file_extension": ".py",
   "mimetype": "text/x-python",
   "name": "python",
   "nbconvert_exporter": "python",
   "pygments_lexer": "ipython3",
   "version": "3.10.6"
  }
 },
 "nbformat": 4,
 "nbformat_minor": 5
}
