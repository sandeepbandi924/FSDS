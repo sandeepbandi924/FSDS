{
 "cells": [
  {
   "cell_type": "code",
   "execution_count": 1,
   "id": "fa787028-742a-4793-962d-191eebd86a1d",
   "metadata": {},
   "outputs": [],
   "source": [
    "a = 10"
   ]
  },
  {
   "cell_type": "code",
   "execution_count": 5,
   "id": "ba854a48-731d-4690-bc79-c184c366253e",
   "metadata": {},
   "outputs": [],
   "source": [
    "if a < 15 :\n",
    "    pass"
   ]
  },
  {
   "cell_type": "code",
   "execution_count": 4,
   "id": "894b01e4-5619-44f9-85c3-21963a2162b2",
   "metadata": {},
   "outputs": [
    {
     "data": {
      "text/plain": [
       "True"
      ]
     },
     "execution_count": 4,
     "metadata": {},
     "output_type": "execute_result"
    }
   ],
   "source": [
    "a < 15"
   ]
  },
  {
   "cell_type": "code",
   "execution_count": 6,
   "id": "60e0468c-fc39-48ab-a23d-27b1ce204916",
   "metadata": {},
   "outputs": [
    {
     "name": "stdout",
     "output_type": "stream",
     "text": [
      "my name is sandeep\n"
     ]
    }
   ],
   "source": [
    "if a < 15 :\n",
    "    print('my name is sandeep')"
   ]
  },
  {
   "cell_type": "code",
   "execution_count": 7,
   "id": "537dd128-6d3a-4ac0-b6c6-c252c88d8930",
   "metadata": {},
   "outputs": [],
   "source": [
    "if 24 < 15 :\n",
    "    print('my name is sandeep')"
   ]
  },
  {
   "cell_type": "code",
   "execution_count": 8,
   "id": "a65c3de0-ec5d-4432-961b-a5b93d3d8b0a",
   "metadata": {},
   "outputs": [
    {
     "data": {
      "text/plain": [
       "False"
      ]
     },
     "execution_count": 8,
     "metadata": {},
     "output_type": "execute_result"
    }
   ],
   "source": [
    "24 < 15"
   ]
  },
  {
   "cell_type": "code",
   "execution_count": 10,
   "id": "e18d250b-fc43-41c0-9954-6d305bceb88b",
   "metadata": {},
   "outputs": [
    {
     "name": "stdout",
     "output_type": "stream",
     "text": [
      "3 is lesser than 10\n"
     ]
    }
   ],
   "source": [
    "if 10 < 3 :\n",
    "    print('10 is lesser than 3')\n",
    "else :\n",
    "    print('3 is lesser than 10')"
   ]
  },
  {
   "cell_type": "code",
   "execution_count": 18,
   "id": "d3d58f35-ac23-454f-b252-4f84557b44d5",
   "metadata": {},
   "outputs": [
    {
     "name": "stdin",
     "output_type": "stream",
     "text": [
      " 100\n"
     ]
    },
    {
     "name": "stdout",
     "output_type": "stream",
     "text": [
      "i wont buy anything\n"
     ]
    }
   ],
   "source": [
    "income =int(input())\n",
    "\n",
    "if income < 50:\n",
    "    print('i will buy a phone')\n",
    "elif income < 70 :\n",
    "    print('i will buy a car')\n",
    "elif income < 90 :\n",
    "    print('i will buy a house')\n",
    "else :\n",
    "    print('i wont buy anything')"
   ]
  },
  {
   "cell_type": "code",
   "execution_count": 20,
   "id": "468a2c6f-1754-414e-bfc9-95196af592e9",
   "metadata": {},
   "outputs": [
    {
     "name": "stdin",
     "output_type": "stream",
     "text": [
      " 22000\n"
     ]
    },
    {
     "name": "stdout",
     "output_type": "stream",
     "text": [
      "Discount will be  4400.0\n"
     ]
    }
   ],
   "source": [
    "total_price = int(input())\n",
    "if total_price > 20000 :\n",
    "    discount = total_price * .20\n",
    "    print('Discount will be ',discount)\n",
    "elif total_price <= 7000 :\n",
    "    discount = total_price * .05\n",
    "    print('Discount will be ',discount)\n",
    "else:\n",
    "    print('wont be able to give any discount')"
   ]
  },
  {
   "cell_type": "raw",
   "id": "196c40f1-d5ca-4f01-8e0e-d12d5f7bd792",
   "metadata": {},
   "source": [
    "coup = input()\n",
    "if coup == 'SANDEEP5':\n",
    "    print('you will get 5% discount')\n",
    "    paid_amt = 7080 - 7080 * .05\n",
    "    print('will get one neuron at ',paid_amt , 'price')\n",
    "else:\n",
    "    print('kindly use valid coupoun code')"
   ]
  },
  {
   "cell_type": "code",
   "execution_count": 27,
   "id": "02157a67-b265-4af1-a311-50c52d0bf228",
   "metadata": {},
   "outputs": [
    {
     "name": "stdin",
     "output_type": "stream",
     "text": [
      " 4\n"
     ]
    },
    {
     "name": "stdout",
     "output_type": "stream",
     "text": [
      "It may take 3 - 4 months time to make trasition\n"
     ]
    }
   ],
   "source": [
    "study_hour = int(input())\n",
    "if study_hour < 1 :\n",
    "    print('It may take 8 - 9 month time to make trasition')\n",
    "elif study_hour < 5 and study_hour > 1 :\n",
    "    print('It may take 3 - 4 months time to make trasition')\n",
    "elif study_hour > 10 :\n",
    "    print('It may take 1 - 2 months to make trasition')\n",
    "else :\n",
    "    print('It will be difficult')"
   ]
  },
  {
   "cell_type": "code",
   "execution_count": 29,
   "id": "9ac4dae0-e3e7-4ab4-9b09-13c0380a2f5d",
   "metadata": {},
   "outputs": [
    {
     "name": "stdout",
     "output_type": "stream",
     "text": [
      "valid\n"
     ]
    }
   ],
   "source": [
    "a =  9\n",
    "if a == 9 :\n",
    "    print('valid')"
   ]
  },
  {
   "cell_type": "code",
   "execution_count": 3,
   "id": "49db3cfd-a7d1-4a35-9970-f3b19191d857",
   "metadata": {},
   "outputs": [
    {
     "name": "stdin",
     "output_type": "stream",
     "text": [
      "enter a string to start oneneuron\n",
      "enter a course name FSDS\n",
      "enter a service name fsds\n"
     ]
    },
    {
     "name": "stdout",
     "output_type": "stream",
     "text": [
      "yes its available , you can start learning\n"
     ]
    }
   ],
   "source": [
    "s = input('enter a string to start')\n",
    "course = input('enter a course name')\n",
    "service = input('enter a service name')\n",
    "if s == 'oneneuron':\n",
    "    if course == 'DSA':\n",
    "        print('yes its available under one neuron and prep for job as well')\n",
    "    elif course == 'Blockchain':\n",
    "        print('this is not avialbe as now, kindly raise your demand')\n",
    "    elif course == 'FSDS':\n",
    "        print('yes its available , you can start learning')\n",
    "    else :\n",
    "        print('Kindly raise a deamand course')\n",
    "    \n",
    "elif s == 'oneneuronservice':\n",
    "    if service == 'courserequest':\n",
    "        print('you raise a demand related to new course requset')\n",
    "    elif service == 'modulerequest':\n",
    "        print('you raise a demand related to new module requset')\n",
    "    elif service == 'doubt':\n",
    "        print('you raise a demand related to doubt clearing ')\n",
    "    elif service == 'workwithus':\n",
    "        print('you raise a demand to work with our team,our HR will evaluate and get you back')\n",
    "    else:\n",
    "        print('Kindly provide us your feedback and we will fulfill')\n",
    "else :\n",
    "    print('Kindly connect with our team')"
   ]
  },
  {
   "cell_type": "code",
   "execution_count": 4,
   "id": "600a2c16-a221-474f-8442-141e28aeb174",
   "metadata": {},
   "outputs": [],
   "source": [
    "# for loop"
   ]
  },
  {
   "cell_type": "code",
   "execution_count": 5,
   "id": "77b183ef-938f-49ca-8d80-416627c5e6ef",
   "metadata": {},
   "outputs": [
    {
     "name": "stdout",
     "output_type": "stream",
     "text": [
      "1\n",
      "2\n",
      "3\n",
      "4\n",
      "5\n",
      "6\n",
      "7\n"
     ]
    }
   ],
   "source": [
    "l = [1,2,3,4,5,6,7]\n",
    "for i in l :\n",
    "    print(i)"
   ]
  },
  {
   "cell_type": "code",
   "execution_count": 6,
   "id": "fe63216a-5ed7-4dfc-b1b6-76fe014a7b48",
   "metadata": {},
   "outputs": [
    {
     "name": "stdout",
     "output_type": "stream",
     "text": [
      "s\n",
      "a\n",
      "n\n",
      "d\n"
     ]
    }
   ],
   "source": [
    "s = 'sand'\n",
    "for i in s :\n",
    "    print(i)"
   ]
  },
  {
   "cell_type": "code",
   "execution_count": 7,
   "id": "fb3007bb-50d9-49d2-9e6f-74621e91dede",
   "metadata": {},
   "outputs": [],
   "source": [
    "t = (1,2,3,4,5,6,6)"
   ]
  },
  {
   "cell_type": "code",
   "execution_count": 8,
   "id": "930bd11d-f769-474d-968e-a460ea28186d",
   "metadata": {},
   "outputs": [
    {
     "name": "stdout",
     "output_type": "stream",
     "text": [
      "1\n",
      "2\n",
      "3\n",
      "4\n",
      "5\n",
      "6\n",
      "6\n"
     ]
    }
   ],
   "source": [
    "for i in t :\n",
    "    print(i)"
   ]
  },
  {
   "cell_type": "code",
   "execution_count": 14,
   "id": "67db1ec6-7240-400f-94dc-624f3a63d6a0",
   "metadata": {},
   "outputs": [
    {
     "name": "stdout",
     "output_type": "stream",
     "text": [
      "<class 'int'> type of 1\n",
      "<class 'bool'> type of True\n",
      "<class 'float'> type of 5.6\n",
      "<class 'complex'> type of (4+7j)\n",
      "<class 'str'> type of sand\n"
     ]
    }
   ],
   "source": [
    "l = [1, True, 5.6, 4+7j, 'sand']\n",
    "for i in l:\n",
    "    print(type(i),'type of',i)"
   ]
  },
  {
   "cell_type": "code",
   "execution_count": 13,
   "id": "dd19d721-7290-42ef-a040-ff9f93067720",
   "metadata": {},
   "outputs": [
    {
     "data": {
      "text/plain": [
       "int"
      ]
     },
     "execution_count": 13,
     "metadata": {},
     "output_type": "execute_result"
    }
   ],
   "source": [
    "type(1)"
   ]
  },
  {
   "cell_type": "code",
   "execution_count": 17,
   "id": "44d3f58a-c553-42f3-af58-52b071783c64",
   "metadata": {},
   "outputs": [
    {
     "name": "stdout",
     "output_type": "stream",
     "text": [
      "[3, 6, 7.6]\n"
     ]
    }
   ],
   "source": [
    "l = [1, 4, 5.6]\n",
    "l1=[]\n",
    "for i in l:\n",
    "    l1.append(i+2)\n",
    "print(l1)"
   ]
  },
  {
   "cell_type": "code",
   "execution_count": 42,
   "id": "dd443bca-0b5e-4364-8925-575dc2fea0ee",
   "metadata": {},
   "outputs": [],
   "source": [
    "l = [2,45,78,12,'sand',6+7j,[56,67,78,'Kumar']]"
   ]
  },
  {
   "cell_type": "code",
   "execution_count": 43,
   "id": "225a28a1-4385-4dbb-9022-a9e019859f97",
   "metadata": {},
   "outputs": [
    {
     "name": "stdout",
     "output_type": "stream",
     "text": [
      "2\n",
      "45\n",
      "78\n",
      "12\n"
     ]
    }
   ],
   "source": [
    "#only int values\n",
    "for i in l :\n",
    "    if type(i)==int:\n",
    "        print(i)"
   ]
  },
  {
   "cell_type": "code",
   "execution_count": 44,
   "id": "2b583fba-4633-471b-aafb-be2605605e8c",
   "metadata": {},
   "outputs": [
    {
     "name": "stdout",
     "output_type": "stream",
     "text": [
      "2\n",
      "45\n",
      "78\n",
      "12\n",
      "56\n",
      "67\n",
      "78\n"
     ]
    }
   ],
   "source": [
    "#only int + list - int values\n",
    "for i in l :\n",
    "    if type(i)==int:\n",
    "        print(i)\n",
    "    elif type(i) == list:\n",
    "        for j in i:\n",
    "            if type(j)==int:\n",
    "                print(j)"
   ]
  },
  {
   "cell_type": "code",
   "execution_count": 45,
   "id": "bbeae9b7-eae5-40a5-a225-2c7a74fbc382",
   "metadata": {},
   "outputs": [
    {
     "data": {
      "text/plain": [
       "[2, 45, 78, 12, 'sand', (6+7j), [56, 67, 78, 'Kumar']]"
      ]
     },
     "execution_count": 45,
     "metadata": {},
     "output_type": "execute_result"
    }
   ],
   "source": [
    "l"
   ]
  },
  {
   "cell_type": "code",
   "execution_count": 53,
   "id": "595896ed-48de-4cd3-aac5-fd9445cd547c",
   "metadata": {},
   "outputs": [
    {
     "data": {
      "text/plain": [
       "range(0, 4)"
      ]
     },
     "execution_count": 53,
     "metadata": {},
     "output_type": "execute_result"
    }
   ],
   "source": [
    "range(4)"
   ]
  },
  {
   "cell_type": "code",
   "execution_count": 54,
   "id": "db17bd5b-74be-4b32-b264-bb223056d60b",
   "metadata": {},
   "outputs": [
    {
     "data": {
      "text/plain": [
       "7"
      ]
     },
     "execution_count": 54,
     "metadata": {},
     "output_type": "execute_result"
    }
   ],
   "source": [
    "len(l)"
   ]
  },
  {
   "cell_type": "code",
   "execution_count": 58,
   "id": "e0f75981-6fcd-41dd-8983-601093ee167d",
   "metadata": {},
   "outputs": [
    {
     "name": "stdout",
     "output_type": "stream",
     "text": [
      "index of  0 is  2\n",
      "index of  1 is  45\n",
      "index of  2 is  78\n",
      "index of  3 is  12\n",
      "index of  4 is  sand\n",
      "index of  5 is  (6+7j)\n",
      "index of  6 is  [56, 67, 78, 'Kumar']\n"
     ]
    }
   ],
   "source": [
    "#Try to print index of all elements\n",
    "for i in range(len(l)) :\n",
    "    print('index of ',i,'is ',l[i])\n",
    "    "
   ]
  },
  {
   "cell_type": "code",
   "execution_count": 59,
   "id": "339ff804-e7e2-4837-8c8c-0e4bccc5c390",
   "metadata": {},
   "outputs": [
    {
     "name": "stdout",
     "output_type": "stream",
     "text": [
      "0 2\n",
      "1 45\n",
      "2 78\n",
      "3 12\n",
      "4 sand\n",
      "5 (6+7j)\n",
      "6 [56, 67, 78, 'Kumar']\n"
     ]
    }
   ],
   "source": [
    "#Try to print index of all elements using enumerate\n",
    "for i , j in enumerate(l):\n",
    "    print(i , j)"
   ]
  },
  {
   "cell_type": "code",
   "execution_count": null,
   "id": "e391bee5-c751-47f7-8f0d-a75b065a37b2",
   "metadata": {},
   "outputs": [],
   "source": []
  },
  {
   "cell_type": "code",
   "execution_count": 68,
   "id": "117d45b0-8232-48fe-9503-954511dde9c4",
   "metadata": {},
   "outputs": [
    {
     "name": "stdout",
     "output_type": "stream",
     "text": [
      "['s', 'a', 'n', 'd', 'K', 'u', 'm', 'a', 'r']\n"
     ]
    }
   ],
   "source": [
    "#try to extract all the list the list of char if element id string\n",
    "l1=[]\n",
    "for i in l :\n",
    "    if type(i) == str:\n",
    "        for j in i :\n",
    "            l1.append(j)\n",
    "    elif type(i) == list:\n",
    "        for j in i:\n",
    "            if type(j)==str:\n",
    "                for k in j:\n",
    "                    l1.append(k)\n",
    "print(l1)\n"
   ]
  },
  {
   "cell_type": "code",
   "execution_count": 50,
   "id": "a5cb79e4-d537-44e3-8481-fe38bc2b7986",
   "metadata": {},
   "outputs": [
    {
     "name": "stdout",
     "output_type": "stream",
     "text": [
      "[4, 2025, 6084, 144, 3136, 4489, 6084]\n"
     ]
    }
   ],
   "source": [
    "#try to return a list after doing a square of all the int elements\n",
    "l1=[]\n",
    "for i in l :\n",
    "    if type(i)==int:\n",
    "        l1.append(i**2)\n",
    "    elif type(i)==list:\n",
    "        for j in i :\n",
    "            if type(j)==int:\n",
    "                l1.append(j**2)\n",
    "print(l1)\n",
    "        "
   ]
  },
  {
   "cell_type": "code",
   "execution_count": 25,
   "id": "9c6f979f-9747-4875-af60-aa4ce505d060",
   "metadata": {},
   "outputs": [],
   "source": [
    "#for-else statement\n",
    "\n"
   ]
  },
  {
   "cell_type": "code",
   "execution_count": null,
   "id": "94c99009-5ef2-4a38-816a-602f37b449bf",
   "metadata": {},
   "outputs": [],
   "source": []
  }
 ],
 "metadata": {
  "kernelspec": {
   "display_name": "Python 3 (ipykernel)",
   "language": "python",
   "name": "python3"
  },
  "language_info": {
   "codemirror_mode": {
    "name": "ipython",
    "version": 3
   },
   "file_extension": ".py",
   "mimetype": "text/x-python",
   "name": "python",
   "nbconvert_exporter": "python",
   "pygments_lexer": "ipython3",
   "version": "3.10.6"
  }
 },
 "nbformat": 4,
 "nbformat_minor": 5
}
